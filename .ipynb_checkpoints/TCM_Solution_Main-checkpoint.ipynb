{
 "cells": [
  {
   "cell_type": "markdown",
   "metadata": {},
   "source": [
    "# 7 Solution Methods to Solve the Growth Model with Python\n",
    "\n",
    "This notebook is part of a computational appendix that accompanies the paper\n",
    "\n",
    "> MATLAB, Python, Julia: What to Choose in Economics?\n",
    "> > Coleman, Lyon, Maliar, and Maliar (2017)\n",
    "\n",
    "In order to run the codes in this notebook you will need to install and configure a few Python packages. We recommend downloading [Anaconda](https://www.continuum.io/downloads) and/or following the instructions on [quantecon.org](https://lectures.quantecon.org/py/getting_started.html). Once your Python installation is up and running, there are a few additional packages you will need in order to run the code here. To do this, you should remove the `# ` in front of the following commands and run the block below."
   ]
  },
  {
   "cell_type": "code",
   "execution_count": 2254,
   "metadata": {
    "scrolled": true
   },
   "outputs": [],
   "source": [
    "# ! pip install git+https://github.com/EconForge/interpolation.py.git\n",
    "# ! pip install quantecon\n",
    "# ! pip install csaps"
   ]
  },
  {
   "cell_type": "code",
   "execution_count": 2255,
   "metadata": {},
   "outputs": [],
   "source": [
    "import numpy as np\n",
    "import scipy.linalg as la\n",
    "import scipy.optimize as opt\n",
    "import time\n",
    "import quantecon as qe\n",
    "import matplotlib.pyplot as plt\n",
    "\n",
    "from collections import namedtuple\n",
    "from scipy.interpolate import interp1d, UnivariateSpline\n",
    "from scipy.misc import derivative\n",
    "from interpolation.complete_poly import (CompletePolynomial,\n",
    "                                         n_complete, complete_polynomial,\n",
    "                                         complete_polynomial_der,\n",
    "                                         _complete_poly_impl,\n",
    "                                         _complete_poly_impl_vec,\n",
    "                                         _complete_poly_der_impl,\n",
    "                                         _complete_poly_der_impl_vec)\n",
    "from numba import jit, vectorize"
   ]
  },
  {
   "cell_type": "markdown",
   "metadata": {},
   "source": [
    "## Model\n",
    "\n",
    "This section gives a short description of the commonly used stochastic Neoclassical growth model.\n",
    "\n",
    "There is a single infinitely-lived representative agent who consumes and saves using capital. The consumer discounts the future with factor $\\beta$ and derives utility from only consumption. Additionally, saved capital will depreciate at $\\delta$.\n",
    "\n",
    "The consumer has access to a Cobb-Douglas technology which uses capital saved from the previous period to produce and is subject to stochastic productivity shocks.\n",
    "\n",
    "Productivity shocks follow an AR(1) in logs.\n",
    "\n",
    "The agent's problem can be written recursively using the following Bellman equation\n",
    "\n",
    "\n",
    "$$\n",
    "\\begin{align}\n",
    "  V(k_t, z_t) &= \\max_{k_{t+1}} u(c_t) + \\beta E \\left[ V(k_{t+1}, z_{t+1}) \\right] \\\\\n",
    "  &\\text{subject to } \\\\\n",
    "  c_t &= z_t f(k_t) + (1 - \\delta) k_t - k_{t+1} \\\\\n",
    "  \\log z_{t+1} &= \\rho \\log z_t + \\sigma \\varepsilon\n",
    "\\end{align}\n",
    "$$\n",
    "\n",
    "$$\n",
    "\\begin{align*}\n",
    "    V(X, z) &= \\max_{\\tilde{c},\\tilde{s}} \\biggl\\{0,  u(c) + \\beta E \\bigl[V(X', z') \\bigr] \\biggr\\}\\\\\n",
    "    & \\text{ s.t. } \\tilde{c} \\geq 0; \\qquad \\tilde{s} \\geq 0 \\\\\n",
    "    & \\phantom{\\text{ s.t. } }N\\tilde{c} + N\\tilde{s} \\leq X \\\\\n",
    "    & \\phantom{\\text{ s.t. } } X' = \\max \\biggl\\{0, \\bigl[X - N\\tilde{c}  - N\\tilde{s} - z \\bigl(\\frac{\\tilde{c}}{\\tilde{s}}\\bigr)^\\phi \\bigr](1 + g_x) \\biggr\\} \\\\\n",
    "    & \\phantom{\\text{ s.t. } } u(\\tilde{c}) = \\bar{u} + \\ln(\\tilde{c}) \\\\\n",
    "    & \\phantom{\\text{ s.t. } } z \\sim Exp( \\bar{z} ) \n",
    "\\end{align*} \n",
    "$$"
   ]
  },
  {
   "cell_type": "markdown",
   "metadata": {},
   "source": [
    "## Python Code\n",
    "\n",
    "We begin by defining a `namedtuple` that contains the parameters of our model. This is useful to pass the parameters around to functions that are just-in-time (JIT) compiled by `numba`."
   ]
  },
  {
   "cell_type": "code",
   "execution_count": 2256,
   "metadata": {},
   "outputs": [],
   "source": [
    "#\n",
    "# Create a named tuple type that we can pass into the jitted functions\n",
    "# so that we don't have to pass parameters one by one\n",
    "#\n",
    "Params = namedtuple(\"Params\", [\"N\", \"beta\", \"g\", \"a_bar\", \"eta\", \"u_bar\"])\n",
    "\n",
    "@jit(nopython=True)\n",
    "def param_unpack(params):\n",
    "    \"Unpack parameters from the Params type\"\n",
    "    out = (params.N, params.beta, params.g,\n",
    "           params.a_bar, params.eta, params.u_bar)\n",
    "\n",
    "    return out"
   ]
  },
  {
   "cell_type": "markdown",
   "metadata": {},
   "source": [
    "We will then define various helper functions to ensure that we [don't repeat ourselves](https://lectures.quantecon.org/py/writing_good_code.html#don-t-repeat-yourself) and that the inner functions can be JIT compiled."
   ]
  },
  {
   "cell_type": "code",
   "execution_count": 2257,
   "metadata": {},
   "outputs": [],
   "source": [
    "#\n",
    "# Helper functions to make sure things are jitted\n",
    "#\n",
    "@vectorize(nopython=True)\n",
    "def u(c, eta, u_bar):\n",
    "    \"log utility function\"\n",
    "    return -1e10 if c < 1e-10 else (u_bar + np.log(c)) if eta==1 else (u_bar + (c**(1-eta)/(1-eta)))\n",
    "\n",
    "@vectorize(nopython=True)\n",
    "def du(c,eta):\n",
    "    \"Derivative of log utility function\"\n",
    "    return 1e10 if c < 1e-10 else c**(-eta)\n",
    "\n",
    "@vectorize(nopython=True)\n",
    "def duinv(u,eta):\n",
    "    \"Inverse of the derivative of the CRRA utility function\"\n",
    "    return u**(-1.0/eta )\n",
    "\n",
    "@vectorize(nopython=True)\n",
    "def f(X):\n",
    "    \"production function\"\n",
    "    return X\n",
    "\n",
    "@vectorize(nopython=True)\n",
    "def df(X):\n",
    "    \"Derivative of production function\"\n",
    "    return 1\n",
    "\n",
    "@vectorize(nopython=True)\n",
    "def discount_factor(beta, a_bar, c, w):\n",
    "    \"risk adjusted discount factor\"\n",
    "    return beta*a_bar*w/(c + a_bar*w)\n",
    "\n",
    "@vectorize(nopython=True)\n",
    "def next_x(X, N, g, c, w):\n",
    "    # next period's CPR given c and w\n",
    "    return (X - N*(c + w))*(1+g)\n",
    "\n",
    "@vectorize(nopython=True)\n",
    "def vector_dampen(vec1, vec2, dampen=1):\n",
    "    return dampen*vec1 + (1-dampen)*vec2\n",
    "\n",
    "@vectorize(nopython=True)\n",
    "def expendables(X, Xp, N, g):\n",
    "    # get expendables given X and X prime\n",
    "    return (1/N)*(X - Xp/(1 + g))\n",
    "\n",
    "@vectorize(nopython=True)\n",
    "def c_from_X_Xp(X, Xp, Vp, beta, a):\n",
    "    # get expendables given X and X prime\n",
    "    return -(2*E*a - 2*E*a**2 + E*a*(Vp*beta*(4*a + Vp*beta - 4))**0.5 - E*Vp*a*beta)/(2*(a**2 - 2*a + 1))\n",
    "\n",
    "@vectorize(nopython=True)\n",
    "def c_from_exp(Vp, E, beta, a_bar):\n",
    "    if Vp <= 0: \n",
    "        return E\n",
    "    return -(2*E*a_bar - 2*E*a_bar**2 + E*a_bar*(Vp*beta*(4*a_bar + Vp*beta - 4))**0.5 - E*Vp*a_bar*beta)/(2*(a_bar**2 - 2*a_bar + 1))\n",
    "\n",
    "\n",
    "\n",
    "def x_curve(x, a, b):\n",
    "    return a + b*x\n",
    "\n",
    "\n",
    "def v_curve(x, a, b, c, d):\n",
    "    return a*np.log(x)/(c - (x**b)) + d\n",
    "\n",
    "\n",
    "@vectorize(nopython=True)\n",
    "def trunc_to_one(X):\n",
    "    return X if X >= 1 else 1\n",
    "\n",
    "@vectorize(nopython=True)\n",
    "def psurvival(a_bar, c, w):\n",
    "    return a_bar*w/(c + a_bar*w)\n"
   ]
  },
  {
   "cell_type": "markdown",
   "metadata": {},
   "source": [
    "We also now define a class that contains\n",
    "\n",
    "1. Parameters of the growth model\n",
    "2. Grids used for approximating the solution\n",
    "3. Nodes and weights used to approximate integration\n",
    "\n",
    "This again helps us maintain all of the relevant information in one place and simplifies passing it to other functions."
   ]
  },
  {
   "cell_type": "code",
   "execution_count": 2258,
   "metadata": {},
   "outputs": [],
   "source": [
    "class Model(object):\n",
    "    \"\"\"\n",
    "    The stochastic Neoclassical Growth model contains\n",
    "    parameters which include\n",
    "\n",
    "    * alpha: Capital share in output\n",
    "    * beta: discount factor\n",
    "    * delta: depreciation rate\n",
    "    * gamma: risk aversion\n",
    "    * rho: persistence of the log productivity level\n",
    "    * sigma: standard deviation of shocks to log productivity\n",
    "    \"\"\"\n",
    "    def __init__(self, N=1, beta=0.95, g_x=0.05, g_a=0.015, a_bar=1e5, \n",
    "                 eta=1, u_bar=0, \n",
    "                 xmin_l=2, xmax_l=200, nx_l=25, linspace_l=True,\n",
    "                 xmin_h=250, xmax_h=2500, nx_h=100, linspace_h=False):\n",
    "        # calculate g from g_a and g_x \n",
    "        g = g_a + g_x + g_a*g_x\n",
    "\n",
    "        # Household parameters\n",
    "        self.beta, self.eta, self.u_bar, = beta, eta, u_bar\n",
    "\n",
    "        # Firm/technology parameters\n",
    "        self.N, self.g, self.a_bar = N, g, a_bar\n",
    "\n",
    "        # Create t grids\n",
    "        if linspace_l:\n",
    "            self.xgrid_l = N*np.linspace(xmin_l, xmax_l, nx_l)\n",
    "        else:\n",
    "            self.xgrid_l = N*np.geomspace(xmin_l, xmax_l, nx_l)\n",
    "            \n",
    "        if linspace_h:\n",
    "            self.xgrid_h = N*np.linspace(xmin_h, xmax_h, nx_h)\n",
    "        else:\n",
    "            self.xgrid_h = N*np.geomspace(xmin_h, xmax_h, nx_h)\n",
    "            \n",
    "        self.xgrid = np.concatenate([self.xgrid_l, self.xgrid_h])\n",
    "        # for splitting spline versus nonlin policy functions\n",
    "        self.xsplit = self.xgrid_l[-1]\n",
    "        self.xsplit_idx = nx_l\n",
    "        \n",
    "        self.ns = nx_l + nx_h\n",
    "        \n",
    "    def _unpack_params(self):\n",
    "        out = (self.N, self.beta, self.g, \n",
    "               self.a_bar, self.eta, self.u_bar)\n",
    "        return out\n",
    "\n",
    "    def _unpack_grids(self):\n",
    "        out = (self.xgrid)\n",
    "        return out\n"
   ]
  },
  {
   "cell_type": "markdown",
   "metadata": {},
   "source": [
    "## Solution Methods\n",
    "\n",
    "In this notebook, we describe the following solution methods:\n",
    "\n",
    "* Conventional Value Function Iteration\n",
    "* Envelope Condition Value Function Iteration\n",
    "* Envelope Condition Derivative Value Function Iteration\n",
    "* Endogenous Grid Value Function Iteration\n",
    "* Conventional Policy Function Iteration\n",
    "* Envelope Condition Policy Function Iteration\n",
    "* Euler Equation Method\n",
    "\n",
    "Each of these solution methods will have a very similar structure that follows a few basic steps:\n",
    "\n",
    "1. Guess a function (either value function or policy function).\n",
    "2. Using this function, update our guess of both the value and policy functions.\n",
    "3. Check whether the function we guessed and what it was updated to are similar enough. If so, proceed. If not, return to step 2 using the updated functions.\n",
    "4. Output the policy and value functions.\n",
    "\n",
    "In order to reduce the amount of repeated code and keep the exposition as clean as possible (the notebook is plenty long as is...), we will define a class for each solution method that inherit various properties from a general solution parent class. The parent class will contain methods which apply to all of the other solution methods such as a general solve method, computing expectations, simulating, etc... This implementation may feel strange at first if one isn't familiar with object oriented programming, but these concepts can be powerful when properly used."
   ]
  },
  {
   "cell_type": "code",
   "execution_count": 2259,
   "metadata": {},
   "outputs": [],
   "source": [
    "class GeneralSolution:\n",
    "    \"\"\"\n",
    "    This is a general solution method. We define this, so that we can\n",
    "    sub-class it and define specific update methods for each particular\n",
    "    solution method\n",
    "    \"\"\"\n",
    "    def __init__(self, ncgm, prev_sol=None, maxfev=10000, interpolator='linear'):\n",
    "        # Save model and approximation degree\n",
    "        self.ncgm,  self.maxfev, self.interpolator = ncgm, maxfev, interpolator\n",
    "\n",
    "        # Unpack some info from ncgm\n",
    "        N, beta, g, a_bar, eta, u_bar = self._unpack_params()\n",
    "        X = self.ncgm.xgrid\n",
    "        self.xsplit = self.ncgm.xsplit\n",
    "        self.xsplit_idx = self.ncgm.xsplit_idx\n",
    "        \n",
    "\n",
    "        # Use parameter values from model to create a namedtuple with\n",
    "        # parameters saved inside\n",
    "        self.params = Params(N, beta, g, a_bar, eta, u_bar)\n",
    "        \n",
    "        # initialize CP and WP as None:\n",
    "        self.CP = None\n",
    "        self.WP = None\n",
    "\n",
    "        # Update to fill initial value and policy matrices\n",
    "        # If we give it another solution type then use it to\n",
    "        # generate values and policies\n",
    "        if issubclass(type(prev_sol), GeneralSolution):\n",
    "            self.XP = prev_sol.XP\n",
    "            self.VF = prev_sol.VF\n",
    "        # If we give it a tuple then assume it is (policy, value) pair\n",
    "        elif type(prev_sol) is tuple:\n",
    "            self.XP = prev_sol[0]\n",
    "            self.VF = prev_sol[1]\n",
    "        # Otherwise guess a constant value function and a policy\n",
    "        # of roughly steady state\n",
    "        else:\n",
    "            # guess VF and XP\n",
    "            self.VF = np.log(X/N) \n",
    "            self.XP = X\n",
    "\n",
    "        # Fit spline based on guesses\n",
    "        self.x_spline = interp1d(X[:self.xsplit_idx], self.XP[:self.xsplit_idx], kind=self.interpolator, fill_value='extrapolate')\n",
    "        self.v_spline = interp1d(X[:self.xsplit_idx], self.VF[:self.xsplit_idx], kind=self.interpolator, fill_value='extrapolate')\n",
    "        \n",
    "        # Params based on guesses\n",
    "        self.x_coeffs, _ = opt.curve_fit(x_curve\n",
    "                                         , X[self.xsplit_idx:]\n",
    "                                         , self.XP[self.xsplit_idx:]\n",
    "                                         , maxfev=self.maxfev)\n",
    "        self.v_coeffs, _ = opt.curve_fit(v_curve\n",
    "                                         , X[self.xsplit_idx:]\n",
    "                                         , self.VF[self.xsplit_idx:]\n",
    "                                         , maxfev=self.maxfev)\n",
    "  \n",
    "    def build_VF(self, X=None):\n",
    "        \"\"\"\n",
    "        Using the current coefficients, this builds the value function\n",
    "        for all states\n",
    "        \"\"\"\n",
    "        if X is None:\n",
    "            X = self.ncgm.xgrid\n",
    "        \n",
    "        VF = np.where(X > self.xsplit\n",
    "                        , v_curve(X, *self.v_coeffs)\n",
    "                        , self.v_spline(X))\n",
    "\n",
    "        return VF\n",
    "    \n",
    "    def build_XP(self, X=None):\n",
    "        if X is None:\n",
    "            X = self.ncgm.xgrid\n",
    "        \n",
    "        XP = np.where(X > self.xsplit\n",
    "                        , np.clip(x_curve(X, *self.x_coeffs)\n",
    "                                  , 0, X*(1 + self.ncgm.g))\n",
    "                        , self.x_spline(X))\n",
    "        \n",
    "        return XP\n",
    "    \n",
    "    def compute_splines(self, XP, VF):\n",
    "        if isinstance(self, IterateOnPolicy):\n",
    "            new_x_spline = self.x_spline\n",
    "        else:\n",
    "            new_x_spline = interp1d(self.ncgm.xgrid[:self.xsplit_idx]\n",
    "                                    , XP[:self.xsplit_idx]\n",
    "                                    , kind=self.interpolator\n",
    "                                    , fill_value='extrapolate')\n",
    "        \n",
    "        new_v_spline = interp1d(self.ncgm.xgrid[:self.xsplit_idx]\n",
    "                                , VF[:self.xsplit_idx]\n",
    "                                , kind=self.interpolator\n",
    "                                , fill_value='extrapolate')\n",
    "        \n",
    "        return new_x_spline, new_v_spline\n",
    "    \n",
    "\n",
    "#         # Params based on guesses\n",
    "#         self.x_coeffs, _ = opt.curve_fit(x_curve, X, self.XP, maxfev=self.maxfev)\n",
    "#         self.v_coeffs, _ = opt.curve_fit(v_curve, X, self.VF, maxfev=self.maxfev)\n",
    "        \n",
    "#     def build_VF(self, X=None):\n",
    "#         \"\"\"\n",
    "#         Using the current coefficients, this builds the value function\n",
    "#         for all states\n",
    "#         \"\"\"\n",
    "#         if X is None:\n",
    "#             X = self.ncgm.xgrid\n",
    "            \n",
    "#         VF = v_curve(X, *self.v_coeffs)\n",
    "\n",
    "#         return VF\n",
    "    \n",
    "#     def build_XP(self, X=None):\n",
    "#         if X is None:\n",
    "#             X = self.ncgm.xgrid\n",
    "        \n",
    "#         XP = np.clip(x_curve(X, *self.x_coeffs), 0, X*(1 + self.ncgm.g))\n",
    "        \n",
    "#         return XP\n",
    "    \n",
    "    def compute_coeffs(self, XP, VF):\n",
    "        if isinstance(self, IterateOnPolicy):\n",
    "            new_x_coeffs = self.x_coeffs\n",
    "        else:\n",
    "            new_x_coeffs, _ = opt.curve_fit(x_curve\n",
    "                                            , self.ncgm.xgrid[self.xsplit_idx:]\n",
    "                                            , XP[self.xsplit_idx:]\n",
    "                                            , maxfev=self.maxfev)\n",
    "        \n",
    "        new_v_coeffs, _ = opt.curve_fit(v_curve\n",
    "                                        , self.ncgm.xgrid[self.xsplit_idx:]\n",
    "                                        , VF[self.xsplit_idx:]\n",
    "                                        , maxfev=self.maxfev) \n",
    "        \n",
    "        return new_x_coeffs, new_v_coeffs\n",
    "\n",
    "    def _unpack_params(self):\n",
    "        return self.ncgm._unpack_params()\n",
    "\n",
    "    def build_CP(self, E=None, VP=None, X=None, XP=None):\n",
    "        \"\"\"\n",
    "        Using the current coefficients, this builds the policy function\n",
    "        for all states\n",
    "        \"\"\"\n",
    "        N, beta, g, a_bar, eta, u_bar = self._unpack_params()\n",
    "        \n",
    "        # Check if expected value next period (EVP) and expendables (E) are given\n",
    "        if VP is None or E is None:\n",
    "            if X is None:\n",
    "                X = self.ncgm.xgrid\n",
    "                \n",
    "            if XP is None:\n",
    "                XP = self.build_XP(X)\n",
    "                \n",
    "            VP = self.compute_EV(XP)\n",
    "            E = expendables(X, XP, N, g)\n",
    "            \n",
    "        CP = np.clip(c_from_exp(VP, E, beta, a_bar), 0, np.maximum(E, 0))\n",
    "\n",
    "        return CP\n",
    "    \n",
    "    def build_WP(self, CP=None, E=None, VP=None, X=None, XP=None):\n",
    "        \"\"\"\n",
    "        Using the current coefficients, this builds the policy function\n",
    "        for all states\n",
    "        \"\"\"\n",
    "        if CP is None or E is None:\n",
    "            N, beta, g, a_bar, eta, u_bar = self._unpack_params()\n",
    "            if VP is None or E is None:\n",
    "                if X is None:\n",
    "                    X = self.ncgm.xgrid\n",
    "\n",
    "                if XP is None:\n",
    "                    XP = self.build_XP(X)\n",
    "\n",
    "                VP = self.compute_EV(XP)\n",
    "                E = expendables(X, XP, N, g)\n",
    "\n",
    "                CP = np.clip(c_from_exp(VP, E, beta, a_bar), 0, X/N)\n",
    "            else:\n",
    "                CP = self.build_CP(E=E, VP=VP)\n",
    "            \n",
    "        return E - CP\n",
    "\n",
    "    def update_v(self, new_v_coeffs, new_v_spline):\n",
    "        \"\"\"\n",
    "        Updates the coefficients for the value function\n",
    "        \"\"\"\n",
    "        self.v_coeffs = new_v_coeffs\n",
    "        self.v_spline = new_v_spline\n",
    "\n",
    "        return None\n",
    "\n",
    "    def update_x(self, new_x_coeffs, new_x_spline):\n",
    "        \"\"\"\n",
    "        Updates the coefficients for the policy function\n",
    "        \"\"\"\n",
    "        self.x_coeffs = new_x_coeffs\n",
    "        self.x_spline = new_x_spline\n",
    "        \n",
    "        return None\n",
    "\n",
    "    def update(self):\n",
    "        \"\"\"\n",
    "        Given the current state of everything in solution, update the\n",
    "        value and policy coefficients\n",
    "        \"\"\"\n",
    "        emsg = \"The update method is implemented in solution specific classes\"\n",
    "        emsg += \"\\nand cannot be called from `GeneralSolution`\"\n",
    "        raise ValueError(emsg)\n",
    "\n",
    "\n",
    "    def compute_EV(self, XP=None):\n",
    "        \"\"\"\n",
    "        Compute the expected value\n",
    "        \"\"\"\n",
    "        if XP is None:\n",
    "            # Use policy to compute XP\n",
    "            XP = self.build_XP()\n",
    "        \n",
    "        EV = self.build_VF(XP) \n",
    "        \n",
    "        return EV\n",
    "\n",
    "\n",
    "    def compute_distance(self, XP, VF):\n",
    "        \"\"\"\n",
    "        Computes average distance between policy functions\n",
    "        \"\"\"\n",
    "        return np.max(np.abs(1.0 - (XP+1e-12)/(self.XP+1e-12)))\n",
    "    \n",
    "\n",
    "    def solve(self, tol=1e-6, maxiter=2500, verbose=False, nskipprint=25):\n",
    "        # Iterate until convergence\n",
    "        dist, it = 10.0, 0\n",
    "        while (dist>tol) and (it<maxiter):\n",
    "            # Run solution specific update code\n",
    "            XP, VF = self.update()\n",
    "            \n",
    "\n",
    "            # Compute new policy and value coeffs\n",
    "            new_x_coeffs,  new_v_coeffs = self.compute_coeffs(XP, VF)\n",
    "            new_x_spline, new_v_spline = self.compute_splines(XP, VF)\n",
    "\n",
    "            # Update distance and iterations\n",
    "            dist = self.compute_distance(XP, VF)\n",
    "            self.XP, self.VF = XP, VF\n",
    "            it += 1\n",
    "            if verbose and it%nskipprint == 0:\n",
    "                print(it, dist)\n",
    "\n",
    "            # Update all coefficients\n",
    "            self.update_x(new_x_coeffs, new_x_spline)\n",
    "            self.update_v(new_v_coeffs, new_v_spline)\n",
    "\n",
    "        # After finishing iteration, iterate to convergence using policy\n",
    "        if not isinstance(self, IterateOnPolicy):\n",
    "            sol_iop = IterateOnPolicy(self.ncgm, prev_sol=self, maxfev=self.maxfev)\n",
    "            XP, VF = sol_iop.solve(tol=1e-6)\n",
    "\n",
    "            # Save final versions of everything\n",
    "            self.XP, self.VF = XP, VF\n",
    "            \n",
    "            new_x_coeffs, new_v_coeffs = sol_iop.compute_coeffs(XP, VF)\n",
    "            new_x_spline, new_v_spline = sol_iop.compute_splines(XP, VF)\n",
    "            self.update_x(new_x_coeffs, new_x_spline)\n",
    "            self.update_v(new_v_coeffs, new_v_spline)\n",
    "\n",
    "        return self.XP, self.VF\n",
    "        \n",
    "\n",
    "    def simulate(self, X=None, T=1000, s=1):\n",
    "        \"\"\"\n",
    "        Simulates the neoclassical growth model with policy function\n",
    "        given by self.KP. Simulates for `T` periods and discarsd first\n",
    "        nburn `observations`\n",
    "        \"\"\"\n",
    "        N, beta, g, a_bar, eta, u_bar = self._unpack_params()\n",
    "        # X is starting point, if None, set to N*274\n",
    "        if X is None:\n",
    "            X = N*274\n",
    "        \n",
    "        def recurse_bellman(x, t):\n",
    "            if x <= 0:\n",
    "                return 0, 0, x, t\n",
    "            if t >= T:\n",
    "                return u(x/N, 1, u_bar), 1, x, T\n",
    "            c_corner = x/N \n",
    "            u_corner = u(c_corner, 1, u_bar)\n",
    "            if u_corner <= 0:\n",
    "                return 0, 0, x, t\n",
    "            \n",
    "            xp = self.build_XP(x)\n",
    "            if xp < 0:\n",
    "                return u_corner, 0, 0, t+1\n",
    "            \n",
    "            if s != 1:\n",
    "                xp = s*xp\n",
    "            \n",
    "            e = expendables(x, xp, N, g)\n",
    "            if e <= 0:\n",
    "                return u_corner, 0, 0, t+1\n",
    "            evp = self.compute_EV(xp)\n",
    "            \n",
    "            c = self.build_CP(VP=evp, E=e)\n",
    "            w = e - c\n",
    "            \n",
    "            m_t = psurvival(a_bar, c, w)\n",
    "            u_t = u(c, 1, u_bar)\n",
    "            \n",
    "            vp, mp, final_state, nperiods = recurse_bellman(xp, t+1)            \n",
    "            \n",
    "            if u_t + beta*m_t*vp <= u_corner:\n",
    "                return u_corner, 0, 0, t+1\n",
    "            \n",
    "            return u_t + beta*m_t*vp, m_t*mp, final_state, nperiods\n",
    "        \n",
    "        return recurse_bellman(X, 0)\n"
   ]
  },
  {
   "cell_type": "markdown",
   "metadata": {},
   "source": [
    "### Iterating to Convergence (given policy)\n",
    "\n",
    "This isn't one of the methods described above, but it is used as an element of a few of our methods (and also as a way to get a first guess at the value function). This method takes an initial policy function, $\\bar{k}(k_t, z_t)$, as given, and then, without changing the policy, iterates until the value function has converged.\n",
    "\n",
    "Thus the \"update section\" of the algorithm in this instance would be:\n",
    "\n",
    "* Leave policy function unchanged\n",
    "* At each point of grid, $(k_t, z_t)$, compute $\\hat{V}(k_t, z_t) = u(c(\\bar{k}(k_t, z_t))) + \\beta E \\left[ V(\\bar{k}(k_t, z_t), z_{t+1}) \\right]$\n",
    "\n",
    "We override two of the methods from `GeneralSolution`\n",
    "\n",
    "* `compute_distance` because when we are iterating to convergence on the value function we want to check distnace using value function rather than policy function\n",
    "* `compute_coefficients` because we don't need to update the policy functions coefficients.\n",
    "\n",
    "The `update` method just repeatedly applies a particular policy function to update the value function."
   ]
  },
  {
   "cell_type": "code",
   "execution_count": 2260,
   "metadata": {},
   "outputs": [],
   "source": [
    "class IterateOnPolicy(GeneralSolution):\n",
    "    \"\"\"\n",
    "    Subclass of the general solution method. The update method for this\n",
    "    class simply computes the fixed point of the value function given\n",
    "    a specific policy\n",
    "    \"\"\"\n",
    "    def compute_distance(self, XP, VF):\n",
    "        \"\"\"\n",
    "        Computes distance between policy functions. When we are\n",
    "        iterating on a specific policy, we would like to compute\n",
    "        distances by the difference between VFs\n",
    "        \"\"\"\n",
    "        return np.max(np.abs(1.0 - (VF )/(self.VF )))\n",
    "    \n",
    "    def update(self):\n",
    "        # Unpack parameters\n",
    "        N, beta, g, a_bar, eta, u_bar = self._unpack_params()\n",
    "        X = self.ncgm.xgrid\n",
    "        \n",
    "        VP = self.compute_EV(self.XP)\n",
    "        E = expendables(X, self.XP, N, g)\n",
    "        CP = self.build_CP(VP=VP, E=E)\n",
    "        WP = E - CP\n",
    "        \n",
    "        # Update the value function\n",
    "        VF = u(CP, eta, u_bar) + beta*psurvival(a_bar, CP, WP)*np.maximum(VP, np.zeros(self.ncgm.ns))\n",
    "        VF = np.where(VF < 0, 0, VF)\n",
    "        \n",
    "        return self.XP, VF"
   ]
  },
  {
   "cell_type": "code",
   "execution_count": 2261,
   "metadata": {},
   "outputs": [],
   "source": [
    "# class Nonlinear(GeneralSolution):\n",
    "#     \"\"\"\n",
    "#     Subclass of the general solution method. The update method for this\n",
    "#     class simply computes the fixed point of the value function given\n",
    "#     a specific policy\n",
    "#     \"\"\"\n",
    "#     def __init__(self, *args, **kwargs):\n",
    "#         super().__init__(*args, **kwargs)\n",
    "        \n",
    "#         # Params based on guesses\n",
    "#         self.x_coeffs, _ = opt.curve_fit(x_curve, self.ncgm.xgrid, self.XP, maxfev=self.maxfev)\n",
    "#         self.v_coeffs, _ = opt.curve_fit(v_curve, self.ncgm.xgrid, self.VF, maxfev=self.maxfev)\n",
    "    \n",
    "#     def compute_coeffs(self, XP, VF):\n",
    "#         if isinstance(self, IterateOnPolicy):\n",
    "#             new_x_coeffs = self.x_coeffs\n",
    "#         else:\n",
    "#             new_x_coeffs, _ = opt.curve_fit(x_curve, self.ncgm.xgrid, XP, maxfev=self.maxfev)\n",
    "        \n",
    "#         new_v_coeffs, _ = opt.curve_fit(v_curve, self.ncgm.xgrid, VF, maxfev=self.maxfev) \n",
    "        \n",
    "#         return new_x_coeffs, new_v_coeffs\n",
    "    \n",
    "#     def build_VF(self, X=None):\n",
    "#         \"\"\"\n",
    "#         Using the current coefficients, this builds the value function\n",
    "#         for all states\n",
    "#         \"\"\"\n",
    "#         if X is None:\n",
    "#             X = self.ncgm.xgrid\n",
    "            \n",
    "#         VF = v_curve(X, *self.v_coeffs)\n",
    "\n",
    "#         return VF\n",
    "    \n",
    "#     def build_XP(self, X=None):\n",
    "#         if X is None:\n",
    "#             X = self.ncgm.xgrid\n",
    "        \n",
    "#         XP = np.clip(x_curve(X, *self.x_coeffs), 0, X*(1 + self.ncgm.g))\n",
    "        \n",
    "#         return XP\n",
    "    \n",
    "    \n",
    "# class IterateOnPolicy(Nonlinear):\n",
    "#     \"\"\"\n",
    "#     Subclass of the general solution method. The update method for this\n",
    "#     class simply computes the fixed point of the value function given\n",
    "#     a specific policy\n",
    "#     \"\"\"\n",
    "#     def compute_distance(self, XP, VF):\n",
    "#         \"\"\"\n",
    "#         Computes distance between policy functions. When we are\n",
    "#         iterating on a specific policy, we would like to compute\n",
    "#         distances by the difference between VFs\n",
    "#         \"\"\"\n",
    "#         return np.max(np.abs(1.0 - (VF )/(self.VF )))\n",
    "    \n",
    "#     def update(self):\n",
    "#         # Unpack parameters\n",
    "#         N, beta, g, a_bar, eta, u_bar = self._unpack_params()\n",
    "#         X = self.ncgm.xgrid\n",
    "        \n",
    "#         if self.CP is None or self.WP is None:\n",
    "#             VP = self.compute_EV(self.XP)\n",
    "#             E = expendables(X, self.XP, N, g)\n",
    "#             self.CP = self.build_CP(VP=VP, E=E)\n",
    "#             self.WP = E - self.CP\n",
    "        \n",
    "#         # Update the value function\n",
    "#         VF = u(self.CP, eta, u_bar) + discount_factor(beta, a_bar, self.CP, self.WP)*np.maximum(self.compute_EV(self.XP), np.zeros(self.ncgm.ns))\n",
    "\n",
    "#         return self.XP, VF"
   ]
  },
  {
   "cell_type": "code",
   "execution_count": 2262,
   "metadata": {},
   "outputs": [],
   "source": [
    "# class Spline(GeneralSolution):\n",
    "#     \"\"\"\n",
    "#     Subclass of the general solution method. The update method for this\n",
    "#     class simply computes the fixed point of the value function given\n",
    "#     a specific policy\n",
    "#     \"\"\"\n",
    "#     def __init__(self, *args, **kwargs):\n",
    "#         super().__init__(*args, **kwargs)\n",
    "        \n",
    "#         # Fit spline based on guesses\n",
    "#         self.x_coeffs = interp1d(X, self.XP, kind=self.interpolator)\n",
    "#         self.v_coeffs = interp1d(X, self.VF, kind=self.interpolator)\n",
    "        \n",
    "        \n",
    "#     def compute_coeffs(self, XP, VF):\n",
    "#         if isinstance(self, IterateOnPolicy):\n",
    "#             new_x_coeffs = self.x_coeffs\n",
    "#         else:\n",
    "#             new_x_coeffs = interp1d(X, self.XP, kind=self.interpolator)\n",
    "        \n",
    "#         new_v_coeffs = interp1d(X, self.VF, kind=self.interpolator)\n",
    "        \n",
    "#         return new_x_coeffs, new_v_coeffs\n",
    "    \n",
    "    \n",
    "#     def build_VF(self, X=None):\n",
    "#         \"\"\"\n",
    "#         Using the current coefficients, this builds the value function\n",
    "#         for all states\n",
    "#         \"\"\"\n",
    "#         if X is None:\n",
    "#             X = self.ncgm.xgrid\n",
    "            \n",
    "#         VF = self.v_coeffs(X) \n",
    "\n",
    "#         return VF\n",
    "    \n",
    "#     def build_XP(self, X=None):\n",
    "#         if X is None:\n",
    "#             X = self.ncgm.xgrid\n",
    "        \n",
    "#         XP = self.x_coeffs(X) \n",
    "        \n",
    "#         return XP\n",
    "    \n",
    "    \n",
    "# class IterateOnPolicy(Spline):\n",
    "#     \"\"\"\n",
    "#     Subclass of the general solution method. The update method for this\n",
    "#     class simply computes the fixed point of the value function given\n",
    "#     a specific policy\n",
    "#     \"\"\"\n",
    "#     def compute_distance(self, XP, VF):\n",
    "#         \"\"\"\n",
    "#         Computes distance between policy functions. When we are\n",
    "#         iterating on a specific policy, we would like to compute\n",
    "#         distances by the difference between VFs\n",
    "#         \"\"\"\n",
    "#         return np.max(np.abs(1.0 - (VF )/(self.VF )))\n",
    "    \n",
    "#     def update(self):\n",
    "#         # Unpack parameters\n",
    "#         N, beta, g, a_bar, eta, u_bar = self._unpack_params()\n",
    "#         X = self.ncgm.xgrid\n",
    "        \n",
    "#         if self.CP is None or self.WP is None:\n",
    "#             VP = self.compute_EV(self.XP)\n",
    "#             E = expendables(X, self.XP, N, g)\n",
    "#             self.CP = self.build_CP(VP=VP, E=E)\n",
    "#             self.WP = E - self.CP\n",
    "        \n",
    "#         # Update the value function\n",
    "#         VF = u(self.CP, eta, u_bar) + discount_factor(beta, a_bar, self.CP, self.WP)*np.maximum(self.compute_EV(self.XP), np.zeros(self.ncgm.ns))\n",
    "\n",
    "#         return self.XP, VF"
   ]
  },
  {
   "cell_type": "markdown",
   "metadata": {},
   "source": [
    "### Conventional Value Function Iteration\n",
    "\n",
    "This is one of the first solution methods for macroeconomics a graduate student in economics typically learns.\n",
    "\n",
    "In this solution method, one takes as given a value function, $V(k_t, z_t)$, and then solves for the optimal policy given the value function.\n",
    "\n",
    "The update section takes the form:\n",
    "\n",
    "* For each point, $(k_t, z_t)$, numerically solve for $c^*(k_t, z_t)$ to satisfy the first order condition $u'(c^*) = \\beta E \\left[ V_1((1 - \\delta) k_t + z_t f(k_t) - c^*, z_{t+1}) \\right]$\n",
    "* Define $k^*(k_t, z_t) = (1 - \\delta) k_t + z_t f(k_t) - c^*(k_t, z_t)$\n",
    "* Update value function according to $\\hat{V}(k_t, z_t) = u(c^*(k_t, z_t)) + \\beta E \\left[ V(k^*(k_t, z_t), z_{t+1}) \\right]$\n",
    "\n",
    "\n",
    "* For each point, $(X_t, z_t)$, numerically solve for $c^*(X_t, z_t)$ to satisfy the first order condition $u'(\\tilde{c}^\\ast) = \\beta E \\left[ V_1((1 - \\delta) k_t + z_t f(k_t) - c^*, z_{t+1}) \\right]$\n",
    "* Define $k^*(k_t, z_t) = (1 - \\delta) k_t + z_t f(k_t) - c^*(k_t, z_t)$\n",
    "* Update value function according to $\\hat{V}(k_t, z_t) = u(c^*(k_t, z_t)) + \\beta E \\left[ V(k^*(k_t, z_t), z_{t+1}) \\right]$\n",
    "\n",
    "\n"
   ]
  },
  {
   "cell_type": "code",
   "execution_count": 2263,
   "metadata": {},
   "outputs": [],
   "source": [
    "class VFI(GeneralSolution):\n",
    "    \"\"\"\n",
    "    Updates the coefficients and value functions using the VFI\n",
    "    method\n",
    "    \"\"\"\n",
    "    def update(self):\n",
    "        \"\"\"\n",
    "        Updates the coefficients and value functions using the VFI_ECM\n",
    "        method\n",
    "        \"\"\"\n",
    "        # Unpack parameters\n",
    "        N, beta, g, a_bar, eta, u_bar = self._unpack_params()\n",
    "        xgrid = self.ncgm.xgrid\n",
    "        n_state = xgrid.shape[0]\n",
    "\n",
    "        # Get the policy and update it\n",
    "        XP = np.empty(n_state)\n",
    "        VF = np.empty(n_state)\n",
    "        for i_s in range(n_state):\n",
    "            # Pull out current vals\n",
    "            X = xgrid[i_s]\n",
    "            def _f(_xp):\n",
    "                EV = self.compute_EV(_xp)\n",
    "                E = expendables(X, _xp, N, g)\n",
    "                _vf_corner = max(u(X/N, 1, u_bar),0)\n",
    "                \n",
    "                if E <= 0:\n",
    "                    return -_vf_corner**2\n",
    "                \n",
    "                _cp = self.build_CP(VP=EV, E=E)\n",
    "#                 _cp = opt.fminbound(lambda t: -(u(t, 1, u_bar) + discount_factor(beta, a_bar, t, E-t)*EV)**2,\n",
    "#                                         0, E, xtol=1e-4)\n",
    "                _wp = E - _cp\n",
    "                _vf = u(_cp, 1, u_bar) + beta*psurvival(a_bar, _cp, _wp)*EV\n",
    "                \n",
    "                if _vf < _vf_corner:\n",
    "                    return -_vf_corner**2\n",
    "                \n",
    "                return -_vf**2\n",
    "                \n",
    "            \n",
    "            _xp = opt.fminbound(_f, 0, X*(1+g), xtol=1e-12)\n",
    "            EV = self.compute_EV(_xp)\n",
    "            E = expendables(X, _xp, N, g)\n",
    "            _vf_corner = max(u(X/N, 1, u_bar),0)\n",
    "            if E <= 0:\n",
    "                _xp = 0\n",
    "                _vf = _vf_corner\n",
    "            else:\n",
    "                cp = self.build_CP(VP=EV, E=E)\n",
    "                wp = E - cp\n",
    "                \n",
    "                _vf = u(cp, 1, u_bar) + beta*psurvival(a_bar, cp, wp)*EV\n",
    "             \n",
    "            if _vf < _vf_corner:\n",
    "                XP[i_s] = 0\n",
    "                VF[i_s] = _vf_corner\n",
    "            else:                \n",
    "                XP[i_s] = _xp\n",
    "                VF[i_s] = _vf\n",
    "\n",
    "        return XP, VF\n"
   ]
  },
  {
   "cell_type": "markdown",
   "metadata": {},
   "source": [
    "## A Horse Race\n",
    "\n",
    "We can now run a horse race to compare the methods in terms of both accuracy and speed."
   ]
  },
  {
   "cell_type": "code",
   "execution_count": 2293,
   "metadata": {
    "scrolled": true
   },
   "outputs": [
    {
     "name": "stderr",
     "output_type": "stream",
     "text": [
      "/Users/mikemahon/anaconda3/lib/python3.8/site-packages/scipy/optimize/minpack.py:828: OptimizeWarning: Covariance of the parameters could not be estimated\n",
      "  warnings.warn('Covariance of the parameters could not be estimated',\n",
      "<ipython-input-2260-a084eb813900>:13: RuntimeWarning: invalid value encountered in true_divide\n",
      "  return np.max(np.abs(1.0 - (VF )/(self.VF )))\n",
      "<ipython-input-2257-8e8cfbd80eb2>:66: RuntimeWarning: overflow encountered in double_scalars\n",
      "  return a*np.log(x)/(c - (x**b)) + d\n"
     ]
    },
    {
     "name": "stdout",
     "output_type": "stream",
     "text": [
      "vp done\n",
      "25 0.043723284772864135\n"
     ]
    },
    {
     "ename": "KeyboardInterrupt",
     "evalue": "",
     "output_type": "error",
     "traceback": [
      "\u001b[0;31m---------------------------------------------------------------------------\u001b[0m",
      "\u001b[0;31mKeyboardInterrupt\u001b[0m                         Traceback (most recent call last)",
      "\u001b[0;32m<ipython-input-2293-e11ed69915cf>\u001b[0m in \u001b[0;36m<module>\u001b[0;34m\u001b[0m\n\u001b[1;32m     16\u001b[0m \u001b[0;31m# new_sol = VFI(ncgm, maxfev=100000, prev_sol=new_sol, interpolator='linear')\u001b[0m\u001b[0;34m\u001b[0m\u001b[0;34m\u001b[0m\u001b[0;34m\u001b[0m\u001b[0m\n\u001b[1;32m     17\u001b[0m \u001b[0mts\u001b[0m \u001b[0;34m=\u001b[0m \u001b[0mtime\u001b[0m\u001b[0;34m.\u001b[0m\u001b[0mtime\u001b[0m\u001b[0;34m(\u001b[0m\u001b[0;34m)\u001b[0m\u001b[0;34m\u001b[0m\u001b[0;34m\u001b[0m\u001b[0m\n\u001b[0;32m---> 18\u001b[0;31m \u001b[0mnew_sol\u001b[0m\u001b[0;34m.\u001b[0m\u001b[0msolve\u001b[0m\u001b[0;34m(\u001b[0m\u001b[0mtol\u001b[0m\u001b[0;34m=\u001b[0m\u001b[0;36m1e-6\u001b[0m\u001b[0;34m,\u001b[0m \u001b[0mverbose\u001b[0m\u001b[0;34m=\u001b[0m\u001b[0;32mTrue\u001b[0m\u001b[0;34m,\u001b[0m \u001b[0mnskipprint\u001b[0m\u001b[0;34m=\u001b[0m\u001b[0;36m25\u001b[0m\u001b[0;34m)\u001b[0m\u001b[0;34m\u001b[0m\u001b[0;34m\u001b[0m\u001b[0m\n\u001b[0m\u001b[1;32m     19\u001b[0m \u001b[0mtime_took\u001b[0m \u001b[0;34m=\u001b[0m \u001b[0mtime\u001b[0m\u001b[0;34m.\u001b[0m\u001b[0mtime\u001b[0m\u001b[0;34m(\u001b[0m\u001b[0;34m)\u001b[0m \u001b[0;34m-\u001b[0m \u001b[0mts\u001b[0m\u001b[0;34m\u001b[0m\u001b[0;34m\u001b[0m\u001b[0m\n",
      "\u001b[0;32m<ipython-input-2259-9012c7f4d994>\u001b[0m in \u001b[0;36msolve\u001b[0;34m(self, tol, maxiter, verbose, nskipprint)\u001b[0m\n\u001b[1;32m    238\u001b[0m         \u001b[0;32mwhile\u001b[0m \u001b[0;34m(\u001b[0m\u001b[0mdist\u001b[0m\u001b[0;34m>\u001b[0m\u001b[0mtol\u001b[0m\u001b[0;34m)\u001b[0m \u001b[0;32mand\u001b[0m \u001b[0;34m(\u001b[0m\u001b[0mit\u001b[0m\u001b[0;34m<\u001b[0m\u001b[0mmaxiter\u001b[0m\u001b[0;34m)\u001b[0m\u001b[0;34m:\u001b[0m\u001b[0;34m\u001b[0m\u001b[0;34m\u001b[0m\u001b[0m\n\u001b[1;32m    239\u001b[0m             \u001b[0;31m# Run solution specific update code\u001b[0m\u001b[0;34m\u001b[0m\u001b[0;34m\u001b[0m\u001b[0;34m\u001b[0m\u001b[0m\n\u001b[0;32m--> 240\u001b[0;31m             \u001b[0mXP\u001b[0m\u001b[0;34m,\u001b[0m \u001b[0mVF\u001b[0m \u001b[0;34m=\u001b[0m \u001b[0mself\u001b[0m\u001b[0;34m.\u001b[0m\u001b[0mupdate\u001b[0m\u001b[0;34m(\u001b[0m\u001b[0;34m)\u001b[0m\u001b[0;34m\u001b[0m\u001b[0;34m\u001b[0m\u001b[0m\n\u001b[0m\u001b[1;32m    241\u001b[0m \u001b[0;34m\u001b[0m\u001b[0m\n\u001b[1;32m    242\u001b[0m \u001b[0;34m\u001b[0m\u001b[0m\n",
      "\u001b[0;32m<ipython-input-2263-9a66546b3766>\u001b[0m in \u001b[0;36mupdate\u001b[0;34m(self)\u001b[0m\n\u001b[1;32m     41\u001b[0m \u001b[0;34m\u001b[0m\u001b[0m\n\u001b[1;32m     42\u001b[0m             \u001b[0m_xp\u001b[0m \u001b[0;34m=\u001b[0m \u001b[0mopt\u001b[0m\u001b[0;34m.\u001b[0m\u001b[0mfminbound\u001b[0m\u001b[0;34m(\u001b[0m\u001b[0m_f\u001b[0m\u001b[0;34m,\u001b[0m \u001b[0;36m0\u001b[0m\u001b[0;34m,\u001b[0m \u001b[0mX\u001b[0m\u001b[0;34m*\u001b[0m\u001b[0;34m(\u001b[0m\u001b[0;36m1\u001b[0m\u001b[0;34m+\u001b[0m\u001b[0mg\u001b[0m\u001b[0;34m)\u001b[0m\u001b[0;34m,\u001b[0m \u001b[0mxtol\u001b[0m\u001b[0;34m=\u001b[0m\u001b[0;36m1e-12\u001b[0m\u001b[0;34m)\u001b[0m\u001b[0;34m\u001b[0m\u001b[0;34m\u001b[0m\u001b[0m\n\u001b[0;32m---> 43\u001b[0;31m             \u001b[0mEV\u001b[0m \u001b[0;34m=\u001b[0m \u001b[0mself\u001b[0m\u001b[0;34m.\u001b[0m\u001b[0mcompute_EV\u001b[0m\u001b[0;34m(\u001b[0m\u001b[0m_xp\u001b[0m\u001b[0;34m)\u001b[0m\u001b[0;34m\u001b[0m\u001b[0;34m\u001b[0m\u001b[0m\n\u001b[0m\u001b[1;32m     44\u001b[0m             \u001b[0mE\u001b[0m \u001b[0;34m=\u001b[0m \u001b[0mexpendables\u001b[0m\u001b[0;34m(\u001b[0m\u001b[0mX\u001b[0m\u001b[0;34m,\u001b[0m \u001b[0m_xp\u001b[0m\u001b[0;34m,\u001b[0m \u001b[0mN\u001b[0m\u001b[0;34m,\u001b[0m \u001b[0mg\u001b[0m\u001b[0;34m)\u001b[0m\u001b[0;34m\u001b[0m\u001b[0;34m\u001b[0m\u001b[0m\n\u001b[1;32m     45\u001b[0m             \u001b[0m_vf_corner\u001b[0m \u001b[0;34m=\u001b[0m \u001b[0mmax\u001b[0m\u001b[0;34m(\u001b[0m\u001b[0mu\u001b[0m\u001b[0;34m(\u001b[0m\u001b[0mX\u001b[0m\u001b[0;34m/\u001b[0m\u001b[0mN\u001b[0m\u001b[0;34m,\u001b[0m \u001b[0;36m1\u001b[0m\u001b[0;34m,\u001b[0m \u001b[0mu_bar\u001b[0m\u001b[0;34m)\u001b[0m\u001b[0;34m,\u001b[0m\u001b[0;36m0\u001b[0m\u001b[0;34m)\u001b[0m\u001b[0;34m\u001b[0m\u001b[0;34m\u001b[0m\u001b[0m\n",
      "\u001b[0;32m<ipython-input-2259-9012c7f4d994>\u001b[0m in \u001b[0;36mcompute_EV\u001b[0;34m(self, XP)\u001b[0m\n\u001b[1;32m    221\u001b[0m             \u001b[0mXP\u001b[0m \u001b[0;34m=\u001b[0m \u001b[0mself\u001b[0m\u001b[0;34m.\u001b[0m\u001b[0mbuild_XP\u001b[0m\u001b[0;34m(\u001b[0m\u001b[0;34m)\u001b[0m\u001b[0;34m\u001b[0m\u001b[0;34m\u001b[0m\u001b[0m\n\u001b[1;32m    222\u001b[0m \u001b[0;34m\u001b[0m\u001b[0m\n\u001b[0;32m--> 223\u001b[0;31m         \u001b[0mEV\u001b[0m \u001b[0;34m=\u001b[0m \u001b[0mself\u001b[0m\u001b[0;34m.\u001b[0m\u001b[0mbuild_VF\u001b[0m\u001b[0;34m(\u001b[0m\u001b[0mXP\u001b[0m\u001b[0;34m)\u001b[0m\u001b[0;34m\u001b[0m\u001b[0;34m\u001b[0m\u001b[0m\n\u001b[0m\u001b[1;32m    224\u001b[0m \u001b[0;34m\u001b[0m\u001b[0m\n\u001b[1;32m    225\u001b[0m         \u001b[0;32mreturn\u001b[0m \u001b[0mEV\u001b[0m\u001b[0;34m\u001b[0m\u001b[0;34m\u001b[0m\u001b[0m\n",
      "\u001b[0;32m<ipython-input-2259-9012c7f4d994>\u001b[0m in \u001b[0;36mbuild_VF\u001b[0;34m(self, X)\u001b[0m\n\u001b[1;32m     65\u001b[0m         VF = np.where(X > self.xsplit\n\u001b[1;32m     66\u001b[0m                         \u001b[0;34m,\u001b[0m \u001b[0mv_curve\u001b[0m\u001b[0;34m(\u001b[0m\u001b[0mX\u001b[0m\u001b[0;34m,\u001b[0m \u001b[0;34m*\u001b[0m\u001b[0mself\u001b[0m\u001b[0;34m.\u001b[0m\u001b[0mv_coeffs\u001b[0m\u001b[0;34m)\u001b[0m\u001b[0;34m\u001b[0m\u001b[0;34m\u001b[0m\u001b[0m\n\u001b[0;32m---> 67\u001b[0;31m                         , self.v_spline(X))\n\u001b[0m\u001b[1;32m     68\u001b[0m \u001b[0;34m\u001b[0m\u001b[0m\n\u001b[1;32m     69\u001b[0m         \u001b[0;32mreturn\u001b[0m \u001b[0mVF\u001b[0m\u001b[0;34m\u001b[0m\u001b[0;34m\u001b[0m\u001b[0m\n",
      "\u001b[0;32m~/anaconda3/lib/python3.8/site-packages/scipy/interpolate/polyint.py\u001b[0m in \u001b[0;36m__call__\u001b[0;34m(self, x)\u001b[0m\n\u001b[1;32m     76\u001b[0m         \"\"\"\n\u001b[1;32m     77\u001b[0m         \u001b[0mx\u001b[0m\u001b[0;34m,\u001b[0m \u001b[0mx_shape\u001b[0m \u001b[0;34m=\u001b[0m \u001b[0mself\u001b[0m\u001b[0;34m.\u001b[0m\u001b[0m_prepare_x\u001b[0m\u001b[0;34m(\u001b[0m\u001b[0mx\u001b[0m\u001b[0;34m)\u001b[0m\u001b[0;34m\u001b[0m\u001b[0;34m\u001b[0m\u001b[0m\n\u001b[0;32m---> 78\u001b[0;31m         \u001b[0my\u001b[0m \u001b[0;34m=\u001b[0m \u001b[0mself\u001b[0m\u001b[0;34m.\u001b[0m\u001b[0m_evaluate\u001b[0m\u001b[0;34m(\u001b[0m\u001b[0mx\u001b[0m\u001b[0;34m)\u001b[0m\u001b[0;34m\u001b[0m\u001b[0;34m\u001b[0m\u001b[0m\n\u001b[0m\u001b[1;32m     79\u001b[0m         \u001b[0;32mreturn\u001b[0m \u001b[0mself\u001b[0m\u001b[0;34m.\u001b[0m\u001b[0m_finish_y\u001b[0m\u001b[0;34m(\u001b[0m\u001b[0my\u001b[0m\u001b[0;34m,\u001b[0m \u001b[0mx_shape\u001b[0m\u001b[0;34m)\u001b[0m\u001b[0;34m\u001b[0m\u001b[0;34m\u001b[0m\u001b[0m\n\u001b[1;32m     80\u001b[0m \u001b[0;34m\u001b[0m\u001b[0m\n",
      "\u001b[0;32m~/anaconda3/lib/python3.8/site-packages/scipy/interpolate/interpolate.py\u001b[0m in \u001b[0;36m_evaluate\u001b[0;34m(self, x_new)\u001b[0m\n\u001b[1;32m    673\u001b[0m         \u001b[0;31m#    The behavior is set by the bounds_error variable.\u001b[0m\u001b[0;34m\u001b[0m\u001b[0;34m\u001b[0m\u001b[0;34m\u001b[0m\u001b[0m\n\u001b[1;32m    674\u001b[0m         \u001b[0mx_new\u001b[0m \u001b[0;34m=\u001b[0m \u001b[0masarray\u001b[0m\u001b[0;34m(\u001b[0m\u001b[0mx_new\u001b[0m\u001b[0;34m)\u001b[0m\u001b[0;34m\u001b[0m\u001b[0;34m\u001b[0m\u001b[0m\n\u001b[0;32m--> 675\u001b[0;31m         \u001b[0my_new\u001b[0m \u001b[0;34m=\u001b[0m \u001b[0mself\u001b[0m\u001b[0;34m.\u001b[0m\u001b[0m_call\u001b[0m\u001b[0;34m(\u001b[0m\u001b[0mself\u001b[0m\u001b[0;34m,\u001b[0m \u001b[0mx_new\u001b[0m\u001b[0;34m)\u001b[0m\u001b[0;34m\u001b[0m\u001b[0;34m\u001b[0m\u001b[0m\n\u001b[0m\u001b[1;32m    676\u001b[0m         \u001b[0;32mif\u001b[0m \u001b[0;32mnot\u001b[0m \u001b[0mself\u001b[0m\u001b[0;34m.\u001b[0m\u001b[0m_extrapolate\u001b[0m\u001b[0;34m:\u001b[0m\u001b[0;34m\u001b[0m\u001b[0;34m\u001b[0m\u001b[0m\n\u001b[1;32m    677\u001b[0m             \u001b[0mbelow_bounds\u001b[0m\u001b[0;34m,\u001b[0m \u001b[0mabove_bounds\u001b[0m \u001b[0;34m=\u001b[0m \u001b[0mself\u001b[0m\u001b[0;34m.\u001b[0m\u001b[0m_check_bounds\u001b[0m\u001b[0;34m(\u001b[0m\u001b[0mx_new\u001b[0m\u001b[0;34m)\u001b[0m\u001b[0;34m\u001b[0m\u001b[0;34m\u001b[0m\u001b[0m\n",
      "\u001b[0;32m~/anaconda3/lib/python3.8/site-packages/scipy/interpolate/interpolate.py\u001b[0m in \u001b[0;36m_call_linear\u001b[0;34m(self, x_new)\u001b[0m\n\u001b[1;32m    611\u001b[0m \u001b[0;34m\u001b[0m\u001b[0m\n\u001b[1;32m    612\u001b[0m         \u001b[0;31m# 4. Calculate the slope of regions that each x_new value falls in.\u001b[0m\u001b[0;34m\u001b[0m\u001b[0;34m\u001b[0m\u001b[0;34m\u001b[0m\u001b[0m\n\u001b[0;32m--> 613\u001b[0;31m         \u001b[0mlo\u001b[0m \u001b[0;34m=\u001b[0m \u001b[0mx_new_indices\u001b[0m \u001b[0;34m-\u001b[0m \u001b[0;36m1\u001b[0m\u001b[0;34m\u001b[0m\u001b[0;34m\u001b[0m\u001b[0m\n\u001b[0m\u001b[1;32m    614\u001b[0m         \u001b[0mhi\u001b[0m \u001b[0;34m=\u001b[0m \u001b[0mx_new_indices\u001b[0m\u001b[0;34m\u001b[0m\u001b[0;34m\u001b[0m\u001b[0m\n\u001b[1;32m    615\u001b[0m \u001b[0;34m\u001b[0m\u001b[0m\n",
      "\u001b[0;31mKeyboardInterrupt\u001b[0m: "
     ]
    }
   ],
   "source": [
    "ncgm = Model(N=1, a_bar=1e5, beta=0.95, g_x=0.05, \n",
    "             xmin_l=2, xmax_l=200, nx_l=25, linspace_l=True,\n",
    "             xmin_h=250, xmax_h=2500, nx_h=100, linspace_h=False\n",
    "            )\n",
    "\n",
    "# First guess\n",
    "vp = IterateOnPolicy(ncgm, maxfev=50000, interpolator='linear')\n",
    "vp.solve(tol=1e-9)\n",
    "\n",
    "np.random.seed(61089)\n",
    "\n",
    "\n",
    "\n",
    "print('vp done')\n",
    "new_sol = vp\n",
    "new_sol = VFI(ncgm, maxfev=100000, prev_sol=vp, interpolator='linear')\n",
    "# new_sol.XP = 1.5*new_sol.XP\n",
    "# new_sol = VFI(ncgm, maxfev=100000, prev_sol=new_sol, interpolator='linear')\n",
    "ts = time.time()\n",
    "new_sol.solve(tol=1e-6, verbose=True, nskipprint=25)\n",
    "time_took = time.time() - ts"
   ]
  },
  {
   "cell_type": "code",
   "execution_count": 2265,
   "metadata": {},
   "outputs": [
    {
     "data": {
      "text/plain": [
       "array([ 2.30258509,  2.53620038,  2.81520612,  3.11026079,  3.42231339,\n",
       "        3.75236434,  4.10147735,  4.4707839 ,  4.86147705,  5.27483183,\n",
       "        5.71219882,  6.17501708,  6.66483246,  7.18332029,  7.73225447,\n",
       "        8.31353694,  8.92922242,  9.58195853, 10.46579558, 11.59278662,\n",
       "       12.7276644 , 13.87185174, 15.02698794, 16.19492105, 17.37769358,\n",
       "       18.57752247, 19.79677551, 21.03794664, 22.30363244, 23.59651184,\n",
       "       24.91933013, 26.27488771, 27.66603337, 29.09566172, 30.56671393,\n",
       "       32.08218111, 33.64510976, 35.25860849, 36.92585592, 38.65010905,\n",
       "       40.43471222, 42.28310627, 44.19883786, 46.18556895, 48.24708635,\n",
       "       50.38731138, 52.61030963, 54.92030078, 57.32166868, 59.81897152,\n",
       "       62.41695221, 65.12054909, 67.93490683, 70.86538766, 72.09814031,\n",
       "       72.65726992, 70.17273635, 73.31566672, 71.28072789, 71.83472471,\n",
       "       72.38872222, 74.07745331, 73.49671929, 74.05071883, 74.60471903,\n",
       "       75.15871989, 75.7127214 , 76.26672355, 76.82072633, 77.37472975,\n",
       "       77.92873378, 78.48273844, 79.0367437 , 79.59074956, 80.14475603,\n",
       "       80.69876308, 81.25277072, 81.80677895, 82.36078774, 82.91479711,\n",
       "       83.46880704, 84.02281753, 84.57682857, 85.13084016, 85.6848523 ,\n",
       "       86.23886497, 86.79287818, 87.34689191, 87.90090617, 88.45492095,\n",
       "       89.00893624, 89.56295204, 90.11696835, 90.67098516, 91.22500246,\n",
       "       91.77902026, 92.33303854, 92.88705731, 93.44107656, 93.99509628])"
      ]
     },
     "execution_count": 2265,
     "metadata": {},
     "output_type": "execute_result"
    }
   ],
   "source": [
    "new_sol.VF"
   ]
  },
  {
   "cell_type": "code",
   "execution_count": 2266,
   "metadata": {},
   "outputs": [
    {
     "data": {
      "text/plain": [
       "array([ 5.65039616e+04, -4.78529437e+02,  5.95567123e+03,  1.94183045e+01])"
      ]
     },
     "execution_count": 2266,
     "metadata": {},
     "output_type": "execute_result"
    }
   ],
   "source": [
    "new_sol.v_coeffs"
   ]
  },
  {
   "cell_type": "code",
   "execution_count": 2267,
   "metadata": {},
   "outputs": [
    {
     "data": {
      "text/plain": [
       "array([ 2.30258509,  2.53620038,  2.81520612,  3.11026079,  3.42231339,\n",
       "        3.75236434,  4.10147735,  4.4707839 ,  4.86147705,  5.27483183,\n",
       "        5.71219882,  6.17501708,  6.66483246,  7.18332029,  7.73225447,\n",
       "        8.31353694,  8.92922242,  9.58195853, 10.46579558, 11.59278662,\n",
       "       12.7276644 , 13.87185174, 15.02698794, 16.19492105, 17.37769358,\n",
       "       18.57752247, 19.79677551, 21.03794664, 22.30363244, 23.59651184,\n",
       "       24.91933013, 26.27488771, 27.66603337, 29.09566172, 30.56671393,\n",
       "       32.08218111, 33.64510976, 35.25860849, 36.92585592, 38.65010905,\n",
       "       40.43471222, 42.28310627, 44.19883786, 46.18556895, 48.24708635,\n",
       "       50.38731138, 52.61030963, 54.92030078, 57.32166868, 59.81897152,\n",
       "       62.41695221, 65.12054909, 67.93490683, 70.86538766, 69.83722221,\n",
       "       70.36635782, 70.89549343, 71.42462904, 71.95376465, 72.48290026,\n",
       "       73.01203587, 73.54117148, 74.07030709, 74.59944271, 75.12857832,\n",
       "       75.65771393, 76.18684954, 76.71598515, 77.24512076, 77.77425637,\n",
       "       78.30339198, 78.83252759, 79.3616632 , 79.89079882, 80.41993443,\n",
       "       80.94907004, 81.47820565, 82.00734126, 82.53647687, 83.06561248,\n",
       "       83.59474809, 84.1238837 , 84.65301931, 85.18215493, 85.71129054,\n",
       "       86.24042615, 86.76956176, 87.29869737, 87.82783298, 88.35696859,\n",
       "       88.8861042 , 89.41523981, 89.94437542, 90.47351104, 91.00264665,\n",
       "       91.53178226, 92.06091787, 92.59005348, 93.11918909, 93.6483247 ])"
      ]
     },
     "execution_count": 2267,
     "metadata": {},
     "output_type": "execute_result"
    }
   ],
   "source": [
    "new_sol.build_VF()"
   ]
  },
  {
   "cell_type": "code",
   "execution_count": 2268,
   "metadata": {},
   "outputs": [
    {
     "name": "stderr",
     "output_type": "stream",
     "text": [
      "<ipython-input-2257-8e8cfbd80eb2>:66: RuntimeWarning: divide by zero encountered in log\n",
      "  return a*np.log(x)/(c - (x**b)) + d\n",
      "<ipython-input-2257-8e8cfbd80eb2>:66: RuntimeWarning: divide by zero encountered in power\n",
      "  return a*np.log(x)/(c - (x**b)) + d\n",
      "<ipython-input-2257-8e8cfbd80eb2>:66: RuntimeWarning: invalid value encountered in true_divide\n",
      "  return a*np.log(x)/(c - (x**b)) + d\n"
     ]
    }
   ],
   "source": [
    "N, beta, g, a_bar, eta, u_bar = new_sol._unpack_params()\n",
    "X = new_sol.ncgm.xgrid\n",
    "VF = new_sol.VF\n",
    "XP = new_sol.XP\n",
    "CP = new_sol.build_CP()\n",
    "WP = new_sol.build_WP()"
   ]
  },
  {
   "cell_type": "code",
   "execution_count": 2269,
   "metadata": {},
   "outputs": [
    {
     "data": {
      "text/plain": [
       "array([  10.        ,   10.57356931,   11.18003679,   11.82128938,\n",
       "         12.49932225,   13.21624501,   13.97428826,   14.77581054,\n",
       "         15.62330568,   16.51941053,   17.46691322,   18.46876174,\n",
       "         19.52807323,   20.64814357,   21.8324577 ,   23.08470046,\n",
       "         24.40876803,   25.80878004,   27.28909244,   28.85431102,\n",
       "         30.50930573,   32.25922586,   34.10951604,   36.06593318,\n",
       "         38.1345644 ,   40.32184597,   42.63458328,   45.07997211,\n",
       "         47.66562094,   50.39957465,   53.29033955,   56.34690986,\n",
       "         59.57879565,   62.99605249,   66.6093127 ,   70.42981842,\n",
       "         74.46945662,   78.74079607,   83.25712644,   88.03249966,\n",
       "         93.08177363,   98.42065845,  104.06576532,  110.03465819,\n",
       "        116.34590844,  123.01915263,  130.07515362,  137.53586517,\n",
       "        145.42450023,  153.76560319,  162.58512621,  171.91050999,\n",
       "        181.77076917,  192.19658255,  203.22038858,  214.87648629,\n",
       "        227.20114199,  240.23270211,  254.01171251,  268.58104466,\n",
       "        283.98602898,  300.27459591,  317.49742505,  335.7081028 ,\n",
       "        354.96328913,  375.32289384,  396.85026299,  419.61237596,\n",
       "        443.68005385,  469.12817988,  496.0359323 ,  524.48703081,\n",
       "        554.56999699,  586.37842978,  620.01129664,  655.57324151,\n",
       "        693.17491038,  732.93329556,  774.97209967,  819.42212055,\n",
       "        866.42165819,  916.11694505,  968.66260102, 1024.22211453,\n",
       "       1082.9683512 , 1145.08409168, 1210.76260037, 1280.20822673,\n",
       "       1353.63704105, 1431.27750677, 1513.37119129, 1600.17351757,\n",
       "       1691.95455884, 1788.99987893, 1891.6114207 , 2000.10844554,\n",
       "       2114.8285267 , 2236.12859958, 2364.38607231, 2500.        ])"
      ]
     },
     "execution_count": 2269,
     "metadata": {},
     "output_type": "execute_result"
    }
   ],
   "source": [
    "X"
   ]
  },
  {
   "cell_type": "code",
   "execution_count": 2270,
   "metadata": {},
   "outputs": [
    {
     "data": {
      "text/plain": [
       "array([ 2.30258509,  2.53620038,  2.81520612,  3.11026079,  3.42231339,\n",
       "        3.75236434,  4.10147735,  4.4707839 ,  4.86147705,  5.27483183,\n",
       "        5.71219882,  6.17501708,  6.66483246,  7.18332029,  7.73225447,\n",
       "        8.31353694,  8.92922242,  9.58195853, 10.46579558, 11.59278662,\n",
       "       12.7276644 , 13.87185174, 15.02698794, 16.19492105, 17.37769358,\n",
       "       18.57752247, 19.79677551, 21.03794664, 22.30363244, 23.59651184,\n",
       "       24.91933013, 26.27488771, 27.66603337, 29.09566172, 30.56671393,\n",
       "       32.08218111, 33.64510976, 35.25860849, 36.92585592, 38.65010905,\n",
       "       40.43471222, 42.28310627, 44.19883786, 46.18556895, 48.24708635,\n",
       "       50.38731138, 52.61030963, 54.92030078, 57.32166868, 59.81897152,\n",
       "       62.41695221, 65.12054909, 67.93490683, 70.86538766, 72.09814031,\n",
       "       72.65726992, 70.17273635, 73.31566672, 71.28072789, 71.83472471,\n",
       "       72.38872222, 74.07745331, 73.49671929, 74.05071883, 74.60471903,\n",
       "       75.15871989, 75.7127214 , 76.26672355, 76.82072633, 77.37472975,\n",
       "       77.92873378, 78.48273844, 79.0367437 , 79.59074956, 80.14475603,\n",
       "       80.69876308, 81.25277072, 81.80677895, 82.36078774, 82.91479711,\n",
       "       83.46880704, 84.02281753, 84.57682857, 85.13084016, 85.6848523 ,\n",
       "       86.23886497, 86.79287818, 87.34689191, 87.90090617, 88.45492095,\n",
       "       89.00893624, 89.56295204, 90.11696835, 90.67098516, 91.22500246,\n",
       "       91.77902026, 92.33303854, 92.88705731, 93.44107656, 93.99509628])"
      ]
     },
     "execution_count": 2270,
     "metadata": {},
     "output_type": "execute_result"
    }
   ],
   "source": [
    "VF"
   ]
  },
  {
   "cell_type": "code",
   "execution_count": 2271,
   "metadata": {},
   "outputs": [
    {
     "data": {
      "text/plain": [
       "array([   0.        ,    8.95198584,    9.59871964,   10.28246932,\n",
       "         11.00577734,   11.77043882,   12.57974254,   13.43497462,\n",
       "         14.33940793,   15.29574453,   16.30705996,   17.37646098,\n",
       "         18.50931261,   19.70563725,   20.97079857,   22.30876733,\n",
       "         23.72385017,   25.22315064,   27.61996173,   29.21498588,\n",
       "         30.90395512,   32.69272357,   34.587488  ,   36.59478677,\n",
       "         38.72149878,   40.97484495,   43.36239457,   45.89207938,\n",
       "         48.57221074,   51.41151163,   54.41914333,   57.60474246,\n",
       "         60.97846038,   64.55099852,   68.333654  ,   72.33835659,\n",
       "         76.57771325,   81.06505182,   85.81446291,   90.84084856,\n",
       "         96.15997191,  101.7885035 ,  107.74407862,  114.04534742,\n",
       "        120.71203995,  127.76502324,  135.22636902,  143.11941712,\n",
       "        151.46885731,  160.30079971,  169.64285822,  179.52423291,\n",
       "        189.975803  ,  199.99999842,  199.99999741,  199.9999986 ,\n",
       "        217.76270181,  199.99999932,  243.45957255,  257.42369777,\n",
       "        272.18877092,  199.99999691,  304.30813038,  321.76235394,\n",
       "        340.21770018,  359.7315852 ,  380.36474564,  402.18134847,\n",
       "        425.24929267,  449.64033813,  475.43038724,  502.69968469,\n",
       "        531.53305292,  562.02022563,  594.25605193,  628.34083946,\n",
       "        664.38061958,  702.48752407,  742.78013805,  785.38381682,\n",
       "        830.43111573,  878.06219427,  928.42524996,  981.67698051,\n",
       "       1037.9830875 , 1097.51871477, 1160.46914352, 1227.03022227,\n",
       "       1297.4090658 , 1371.82461018, 1450.50838769, 1533.70525363,\n",
       "       1621.67406765, 1714.68848763, 1813.03793728, 1917.02839038,\n",
       "       2026.98345336, 2143.24520984, 2266.17542921, 2396.15648972])"
      ]
     },
     "execution_count": 2271,
     "metadata": {},
     "output_type": "execute_result"
    }
   ],
   "source": [
    "XP"
   ]
  },
  {
   "cell_type": "code",
   "execution_count": 2272,
   "metadata": {},
   "outputs": [
    {
     "data": {
      "text/plain": [
       "array([ 10.        ,   2.16472849,   2.1637427 ,   2.16281469,\n",
       "         2.16150703,   2.16025899,   2.15824942,   2.15662263,\n",
       "         2.15480229,   2.1528878 ,   2.15078065,   2.14851238,\n",
       "         2.14417835,   2.14103042,   2.13753028,   2.1336366 ,\n",
       "         2.12920522,   2.1217122 ,   1.35934344,   1.42650881,\n",
       "         1.49524316,   1.56520337,   1.63602127,   1.7073212 ,\n",
       "         1.77873867,   1.84993752,   1.92062379,   1.99055345,\n",
       "         2.05953845,   2.12744036,   2.19417032,   2.25968075,\n",
       "         2.32395643,   2.38701104,   2.44887562,   2.50959712,\n",
       "         2.5692316 ,   2.62784029,   2.6854894 ,   2.74224587,\n",
       "         2.79817454,   2.85334087,   2.90780613,   2.96163194,\n",
       "         3.01487407,   3.06758651,   3.11981914,   3.17162271,\n",
       "         3.22304053,   3.2741145 ,   3.32488328,   3.37538557,\n",
       "         3.42565836,   4.41743699,  24.86940299,  25.97314462,\n",
       "        27.13571981,  28.36490152,  29.66450384,  31.03855926,\n",
       "        32.49133125,  34.02732749,  35.65131378,  37.36832893,\n",
       "        39.18370031,  41.10306041,  43.13236434,  45.27790827,\n",
       "        47.54634898,  49.94472452,  52.48047602,  55.16147083,\n",
       "        57.99602687,  60.9929385 ,  64.16150375,  67.51155322,\n",
       "        71.05348054,  74.79827465,  78.75755391,  82.94360209,\n",
       "        87.36940656,  92.04869854,  96.99599572, 102.22664734,\n",
       "       107.75688176, 113.60385687, 119.78571329, 126.32163072,\n",
       "       133.23188738, 140.53792301, 148.26240535, 156.4293005 ,\n",
       "       165.06394729, 174.19313591, 183.84519105, 194.0500598 ,\n",
       "       204.83940458, 216.24670137, 228.30734364, 241.05875218])"
      ]
     },
     "execution_count": 2272,
     "metadata": {},
     "output_type": "execute_result"
    }
   ],
   "source": [
    "CP"
   ]
  },
  {
   "cell_type": "code",
   "execution_count": 2273,
   "metadata": {},
   "outputs": [
    {
     "data": {
      "text/plain": [
       "array([0.        , 0.00913559, 0.00975443, 0.01036836, 0.01102438,\n",
       "       0.01170845, 0.01238644, 0.01306581, 0.01374576, 0.01442841,\n",
       "       0.01511454, 0.01580556, 0.01648919, 0.01718845, 0.01789381,\n",
       "       0.01860566, 0.01932338, 0.02002524, 0.01376333, 0.01519524,\n",
       "       0.01668503, 0.01823214, 0.0198349 , 0.02149091, 0.02319728,\n",
       "       0.02495095, 0.026749  , 0.02858884, 0.03046838, 0.0323861 ,\n",
       "       0.03434111, 0.03633307, 0.0383622 , 0.04042919, 0.04253513,\n",
       "       0.04468145, 0.04686987, 0.04910233, 0.05138097, 0.05370811,\n",
       "       0.05608616, 0.05851768, 0.06100529, 0.06355178, 0.06615992,\n",
       "       0.06883261, 0.07157279, 0.07438356, 0.077268  , 0.08022928,\n",
       "       0.08327064, 0.08639544, 0.08960717, 0.11787563, 0.64974561,\n",
       "       0.6768093 , 0.70989895, 0.74496173, 0.78211711, 0.82149169,\n",
       "       0.8632197 , 0.90744341, 0.95431363, 1.00399019, 1.05664254,\n",
       "       1.11245026, 1.17160372, 1.23430469, 1.30076703, 1.37121742,\n",
       "       1.44589612, 1.52505777, 1.60897229, 1.69792575, 1.79222132,\n",
       "       1.89218036, 1.99814345, 2.11047153, 2.22954717, 2.3557758 ,\n",
       "       2.48958711, 2.63143647, 2.78180649, 2.94120862, 3.11018489,\n",
       "       3.28930971, 3.4791918 , 3.68047625, 3.89384668, 4.12002754,\n",
       "       4.3597865 , 4.61393709, 4.88334137, 5.16891286, 5.47161957,\n",
       "       5.79248726, 6.13260285, 6.49311812, 6.87525348, 7.28030211])"
      ]
     },
     "execution_count": 2273,
     "metadata": {},
     "output_type": "execute_result"
    }
   ],
   "source": [
    "WP"
   ]
  },
  {
   "cell_type": "code",
   "execution_count": 2274,
   "metadata": {},
   "outputs": [
    {
     "data": {
      "text/plain": [
       "array([-1.        , -0.15336197, -0.14144114, -0.13017362, -0.11949007,\n",
       "       -0.10939614, -0.09979368, -0.09074534, -0.08217837, -0.07407443,\n",
       "       -0.06640288, -0.05914315, -0.05216903, -0.04564606, -0.03946689,\n",
       "       -0.03361244, -0.02806032, -0.02269109,  0.0121246 ,  0.01249986,\n",
       "        0.01293538,  0.01343795,  0.01401286,  0.01466352,  0.01539114,\n",
       "        0.01619467,  0.01707091,  0.01801481,  0.01901978,  0.02007828,\n",
       "        0.02118215,  0.02232301,  0.02349267,  0.02468323,  0.02588739,\n",
       "        0.02709844,  0.02831035,  0.02951781,  0.03071613,  0.03190127,\n",
       "        0.03306983,  0.03421888,  0.03534605,  0.03644933,  0.03752716,\n",
       "        0.03857831,  0.03960184,  0.04059706,  0.04156354,  0.04250103,\n",
       "        0.04340946,  0.04428887,  0.04513946,  0.04060122, -0.01584679,\n",
       "       -0.06923274, -0.04154222, -0.16747388, -0.04154194, -0.04154183,\n",
       "       -0.04154168, -0.333943  , -0.04154142, -0.04154129, -0.04154117,\n",
       "       -0.04154105, -0.0415409 , -0.04154078, -0.04154066, -0.04154055,\n",
       "       -0.04154043, -0.0415403 , -0.04154019, -0.04154008, -0.04153996,\n",
       "       -0.04153983, -0.04153972, -0.04153962, -0.04153951, -0.0415394 ,\n",
       "       -0.04153929, -0.04153918, -0.04153908, -0.04153897, -0.04153885,\n",
       "       -0.04153876, -0.04153866, -0.04153856, -0.04153844, -0.04153834,\n",
       "       -0.04153826, -0.04153816, -0.04153805, -0.04153795, -0.04153786,\n",
       "       -0.04153778, -0.04153768, -0.04153759, -0.04153748, -0.0415374 ])"
      ]
     },
     "execution_count": 2274,
     "metadata": {},
     "output_type": "execute_result"
    }
   ],
   "source": [
    "(XP - X)/X"
   ]
  },
  {
   "cell_type": "code",
   "execution_count": 2277,
   "metadata": {},
   "outputs": [
    {
     "name": "stdout",
     "output_type": "stream",
     "text": [
      "x/N:  10.0\n",
      "VF estimate:  2.302585092994046\n",
      "new_sol.simulate(x,2000,s=1):  (2.302585092994046, 0, 0, 1)\n",
      "sim_res1 (s=1):  2.302585092994046\n",
      "sim_res2 (s=0.9):  2.302585092994046\n",
      "sim_res3 (s=1.1):  2.302585092994046\n",
      "sim_res2 < sim_res1 > sim_res3???:  True\n",
      "\n",
      "x/N:  20.0\n",
      "VF estimate:  6.883290429334661\n",
      "new_sol.simulate(x,2000,s=1):  (6.642815241367606, 0.0, 0, 9)\n",
      "sim_res1 (s=1):  6.642815241367606\n",
      "sim_res2 (s=0.9):  6.43741114961356\n",
      "sim_res3 (s=1.1):  2.995732273553991\n",
      "sim_res2 < sim_res1 > sim_res3???:  True\n",
      "\n",
      "x/N:  30.0\n",
      "VF estimate:  12.37841871278351\n"
     ]
    },
    {
     "name": "stderr",
     "output_type": "stream",
     "text": [
      "<ipython-input-2257-8e8cfbd80eb2>:66: RuntimeWarning: divide by zero encountered in log\n",
      "  return a*np.log(x)/(c - (x**b)) + d\n",
      "<ipython-input-2257-8e8cfbd80eb2>:66: RuntimeWarning: divide by zero encountered in power\n",
      "  return a*np.log(x)/(c - (x**b)) + d\n",
      "<ipython-input-2257-8e8cfbd80eb2>:66: RuntimeWarning: invalid value encountered in double_scalars\n",
      "  return a*np.log(x)/(c - (x**b)) + d\n",
      "<ipython-input-2257-8e8cfbd80eb2>:66: RuntimeWarning: divide by zero encountered in double_scalars\n",
      "  return a*np.log(x)/(c - (x**b)) + d\n"
     ]
    },
    {
     "name": "stdout",
     "output_type": "stream",
     "text": [
      "new_sol.simulate(x,2000,s=1):  (11.927316384479942, 0.45780267038002337, array(201.15287666), 2000)\n",
      "sim_res1 (s=1):  11.927316384479942\n",
      "sim_res2 (s=0.9):  10.350228250577958\n",
      "sim_res3 (s=1.1):  3.4011973816621555\n",
      "sim_res2 < sim_res1 > sim_res3???:  True\n",
      "\n",
      "x/N:  40.0\n",
      "VF estimate:  18.400974512748405\n",
      "new_sol.simulate(x,2000,s=1):  (16.9019584607389, 0.4619969454805291, array(187.39541138), 2000)\n",
      "sim_res1 (s=1):  16.9019584607389\n",
      "sim_res2 (s=0.9):  13.626669190050425\n",
      "sim_res3 (s=1.1):  3.6888794541139363\n",
      "sim_res2 < sim_res1 > sim_res3???:  True\n",
      "\n",
      "x/N:  50.0\n",
      "VF estimate:  23.407554052935197\n",
      "new_sol.simulate(x,2000,s=1):  (20.4245571706021, 0.46390823117293895, array(199.45681602), 2000)\n",
      "sim_res1 (s=1):  20.4245571706021\n",
      "sim_res2 (s=0.9):  16.317362743115446\n",
      "sim_res3 (s=1.1):  3.912023005428146\n",
      "sim_res2 < sim_res1 > sim_res3???:  True\n",
      "\n",
      "x/N:  60.0\n",
      "VF estimate:  27.842246546931502\n",
      "new_sol.simulate(x,2000,s=1):  (23.118281372362713, 0.46491411849781933, array(201.15287666), 2000)\n",
      "sim_res1 (s=1):  23.118281372362713\n",
      "sim_res2 (s=0.9):  19.207570710576558\n",
      "sim_res3 (s=1.1):  4.0943445622221\n",
      "sim_res2 < sim_res1 > sim_res3???:  True\n",
      "\n",
      "x/N:  70.0\n",
      "VF estimate:  31.91168647981482\n",
      "new_sol.simulate(x,2000,s=1):  (25.358451443330615, 0.4655128142886731, array(206.27791637), 2000)\n",
      "sim_res1 (s=1):  25.358451443330615\n",
      "sim_res2 (s=0.9):  21.542518861000676\n",
      "sim_res3 (s=1.1):  4.248495242049359\n",
      "sim_res2 < sim_res1 > sim_res3???:  True\n",
      "\n",
      "x/N:  80.0\n",
      "VF estimate:  35.723455907972834\n",
      "new_sol.simulate(x,2000,s=1):  (27.26491449029128, 0.4658897141110334, array(200.77604541), 2000)\n",
      "sim_res1 (s=1):  27.26491449029128\n",
      "sim_res2 (s=0.9):  23.36358421334149\n",
      "sim_res3 (s=1.1):  4.382026634673881\n",
      "sim_res2 < sim_res1 > sim_res3???:  True\n",
      "\n",
      "x/N:  90.0\n",
      "VF estimate:  39.34549760583912\n",
      "new_sol.simulate(x,2000,s=1):  (28.97351796877485, 0.46613995236929034, array(188.35574696), 2000)\n",
      "sim_res1 (s=1):  28.97351796877485\n",
      "sim_res2 (s=0.9):  25.389662063045442\n",
      "sim_res3 (s=1.1):  4.499809670330265\n",
      "sim_res2 < sim_res1 > sim_res3???:  True\n",
      "\n"
     ]
    }
   ],
   "source": [
    "for x in range(10,100, 10):\n",
    "    print('x/N: ', x/N)\n",
    "    print('VF estimate: ', new_sol.build_VF(x))\n",
    "    sim_res1 = new_sol.simulate(x,2000,s=1)\n",
    "    print('new_sol.simulate(x,2000,s=1): ', sim_res1)\n",
    "    sim_res1 = sim_res1[0]\n",
    "    print('sim_res1 (s=1): ', sim_res1)\n",
    "    sim_res2 = new_sol.simulate(x,2000,s=0.9)[0]\n",
    "    print('sim_res2 (s=0.9): ', sim_res2)\n",
    "    sim_res3 = new_sol.simulate(x,2000,s=1.1)[0]\n",
    "    print('sim_res3 (s=1.1): ', sim_res3)\n",
    "    print('sim_res2 < sim_res1 > sim_res3???: ', sim_res1 >= sim_res2 and sim_res1 >= sim_res3)\n",
    "    print('')"
   ]
  },
  {
   "cell_type": "code",
   "execution_count": null,
   "metadata": {},
   "outputs": [],
   "source": [
    "new_sol.compute_EV(new_sol.XP)"
   ]
  },
  {
   "cell_type": "code",
   "execution_count": null,
   "metadata": {},
   "outputs": [],
   "source": [
    "VF"
   ]
  },
  {
   "cell_type": "code",
   "execution_count": null,
   "metadata": {},
   "outputs": [],
   "source": [
    "new_sol.build_VF()"
   ]
  },
  {
   "cell_type": "code",
   "execution_count": null,
   "metadata": {},
   "outputs": [],
   "source": [
    "u(new_sol.ncgm.xgrid,1,0) + beta*psurvival(a_bar, CP, WP)*new_sol.compute_EV(new_sol.XP)\n"
   ]
  },
  {
   "cell_type": "code",
   "execution_count": null,
   "metadata": {},
   "outputs": [],
   "source": [
    "new_sol.VF"
   ]
  },
  {
   "cell_type": "code",
   "execution_count": 2292,
   "metadata": {},
   "outputs": [
    {
     "data": {
      "text/plain": [
       "[<matplotlib.lines.Line2D at 0x13ea38190>,\n",
       " <matplotlib.lines.Line2D at 0x13eb2d070>]"
      ]
     },
     "execution_count": 2292,
     "metadata": {},
     "output_type": "execute_result"
    },
    {
     "data": {
      "image/png": "[encoded data removed]",
      "text/plain": [
       "<Figure size 432x288 with 1 Axes>"
      ]
     },
     "metadata": {
      "needs_background": "light"
     },
     "output_type": "display_data"
    }
   ],
   "source": [
    "xmax = 400\n",
    "xnew = np.linspace(1,xmax,100)\n",
    "vf_new = new_sol.build_VF(xnew)\n",
    "\n",
    "plt.plot(X[X < xmax], VF[X < xmax], 'o', xnew, vf_new)"
   ]
  },
  {
   "cell_type": "code",
   "execution_count": 2291,
   "metadata": {},
   "outputs": [
    {
     "data": {
      "text/plain": [
       "[<matplotlib.lines.Line2D at 0x13ea94d90>,\n",
       " <matplotlib.lines.Line2D at 0x13ea9fca0>]"
      ]
     },
     "execution_count": 2291,
     "metadata": {},
     "output_type": "execute_result"
    },
    {
     "data": {
      "image/png": "[encoded data removed]",
      "text/plain": [
       "<Figure size 432x288 with 1 Axes>"
      ]
     },
     "metadata": {
      "needs_background": "light"
     },
     "output_type": "display_data"
    }
   ],
   "source": [
    "xmax = 1000\n",
    "xnew = np.linspace(1,xmax,100)\n",
    "xp_new = new_sol.build_XP(xnew)\n",
    "\n",
    "plt.plot(X[X < xmax], XP[X < xmax], 'o', xnew, xp_new)"
   ]
  },
  {
   "cell_type": "code",
   "execution_count": 2286,
   "metadata": {},
   "outputs": [
    {
     "name": "stderr",
     "output_type": "stream",
     "text": [
      "<ipython-input-2257-8e8cfbd80eb2>:66: RuntimeWarning: invalid value encountered in log\n",
      "  return a*np.log(x)/(c - (x**b)) + d\n",
      "<ipython-input-2257-8e8cfbd80eb2>:66: RuntimeWarning: invalid value encountered in power\n",
      "  return a*np.log(x)/(c - (x**b)) + d\n"
     ]
    },
    {
     "data": {
      "text/plain": [
       "[<matplotlib.lines.Line2D at 0x13e620370>,\n",
       " <matplotlib.lines.Line2D at 0x13e62e280>]"
      ]
     },
     "execution_count": 2286,
     "metadata": {},
     "output_type": "execute_result"
    },
    {
     "data": {
      "image/png": "[encoded data removed]",
      "text/plain": [
       "<Figure size 432x288 with 1 Axes>"
      ]
     },
     "metadata": {
      "needs_background": "light"
     },
     "output_type": "display_data"
    }
   ],
   "source": [
    "cp_new = new_sol.build_CP(X = xnew)\n",
    "\n",
    "plt.plot(X[X < xmax], CP[X < xmax], 'o', xnew, cp_new)"
   ]
  },
  {
   "cell_type": "code",
   "execution_count": 2287,
   "metadata": {},
   "outputs": [
    {
     "name": "stderr",
     "output_type": "stream",
     "text": [
      "<ipython-input-2257-8e8cfbd80eb2>:66: RuntimeWarning: invalid value encountered in log\n",
      "  return a*np.log(x)/(c - (x**b)) + d\n",
      "<ipython-input-2257-8e8cfbd80eb2>:66: RuntimeWarning: invalid value encountered in power\n",
      "  return a*np.log(x)/(c - (x**b)) + d\n"
     ]
    },
    {
     "data": {
      "text/plain": [
       "[<matplotlib.lines.Line2D at 0x13e68e3a0>,\n",
       " <matplotlib.lines.Line2D at 0x13e69c2b0>]"
      ]
     },
     "execution_count": 2287,
     "metadata": {},
     "output_type": "execute_result"
    },
    {
     "data": {
      "image/png": "[encoded data removed]",
      "text/plain": [
       "<Figure size 432x288 with 1 Axes>"
      ]
     },
     "metadata": {
      "needs_background": "light"
     },
     "output_type": "display_data"
    }
   ],
   "source": [
    "wp_new = new_sol.build_WP(X = xnew)\n",
    "\n",
    "plt.plot(X[X < xmax], WP[X < xmax], 'o', xnew, wp_new)"
   ]
  },
  {
   "cell_type": "code",
   "execution_count": 2282,
   "metadata": {},
   "outputs": [
    {
     "data": {
      "text/plain": [
       "[<matplotlib.lines.Line2D at 0x13e04df40>,\n",
       " <matplotlib.lines.Line2D at 0x13e05cd90>]"
      ]
     },
     "execution_count": 2282,
     "metadata": {},
     "output_type": "execute_result"
    },
    {
     "data": {
      "image/png": "[encoded data removed]",
      "text/plain": [
       "<Figure size 432x288 with 1 Axes>"
      ]
     },
     "metadata": {
      "needs_background": "light"
     },
     "output_type": "display_data"
    }
   ],
   "source": [
    "xmax = 1e5\n",
    "xnew = np.linspace(1,xmax,100)\n",
    "vf_new = new_sol.build_VF(xnew)\n",
    "\n",
    "plt.plot(X[X < xmax], VF[X < xmax], 'o', xnew, vf_new)"
   ]
  },
  {
   "cell_type": "code",
   "execution_count": 2281,
   "metadata": {},
   "outputs": [
    {
     "name": "stderr",
     "output_type": "stream",
     "text": [
      "<ipython-input-2257-8e8cfbd80eb2>:66: RuntimeWarning: divide by zero encountered in log\n",
      "  return a*np.log(x)/(c - (x**b)) + d\n",
      "<ipython-input-2257-8e8cfbd80eb2>:66: RuntimeWarning: invalid value encountered in log\n",
      "  return a*np.log(x)/(c - (x**b)) + d\n",
      "<ipython-input-2257-8e8cfbd80eb2>:66: RuntimeWarning: divide by zero encountered in power\n",
      "  return a*np.log(x)/(c - (x**b)) + d\n",
      "<ipython-input-2257-8e8cfbd80eb2>:66: RuntimeWarning: invalid value encountered in power\n",
      "  return a*np.log(x)/(c - (x**b)) + d\n",
      "<ipython-input-2257-8e8cfbd80eb2>:66: RuntimeWarning: invalid value encountered in true_divide\n",
      "  return a*np.log(x)/(c - (x**b)) + d\n"
     ]
    },
    {
     "data": {
      "text/plain": [
       "[<matplotlib.lines.Line2D at 0x13e0930d0>,\n",
       " <matplotlib.lines.Line2D at 0x13e093ee0>]"
      ]
     },
     "execution_count": 2281,
     "metadata": {},
     "output_type": "execute_result"
    },
    {
     "data": {
      "image/png": "[encoded data removed]",
      "text/plain": [
       "<Figure size 432x288 with 1 Axes>"
      ]
     },
     "metadata": {
      "needs_background": "light"
     },
     "output_type": "display_data"
    }
   ],
   "source": [
    "cp_new = new_sol.build_CP(X = xnew)\n",
    "\n",
    "plt.plot(X[X < xmax], CP[X < xmax], 'o', xnew, cp_new)"
   ]
  },
  {
   "cell_type": "code",
   "execution_count": 2280,
   "metadata": {},
   "outputs": [
    {
     "name": "stderr",
     "output_type": "stream",
     "text": [
      "<ipython-input-2257-8e8cfbd80eb2>:66: RuntimeWarning: divide by zero encountered in log\n",
      "  return a*np.log(x)/(c - (x**b)) + d\n",
      "<ipython-input-2257-8e8cfbd80eb2>:66: RuntimeWarning: invalid value encountered in log\n",
      "  return a*np.log(x)/(c - (x**b)) + d\n",
      "<ipython-input-2257-8e8cfbd80eb2>:66: RuntimeWarning: divide by zero encountered in power\n",
      "  return a*np.log(x)/(c - (x**b)) + d\n",
      "<ipython-input-2257-8e8cfbd80eb2>:66: RuntimeWarning: invalid value encountered in power\n",
      "  return a*np.log(x)/(c - (x**b)) + d\n",
      "<ipython-input-2257-8e8cfbd80eb2>:66: RuntimeWarning: invalid value encountered in true_divide\n",
      "  return a*np.log(x)/(c - (x**b)) + d\n"
     ]
    },
    {
     "data": {
      "text/plain": [
       "[<matplotlib.lines.Line2D at 0x13cb6eca0>,\n",
       " <matplotlib.lines.Line2D at 0x13cbaa1f0>]"
      ]
     },
     "execution_count": 2280,
     "metadata": {},
     "output_type": "execute_result"
    },
    {
     "data": {
      "image/png": "[encoded data removed]",
      "text/plain": [
       "<Figure size 432x288 with 1 Axes>"
      ]
     },
     "metadata": {
      "needs_background": "light"
     },
     "output_type": "display_data"
    }
   ],
   "source": [
    "wp_new = new_sol.build_WP(X = xnew)\n",
    "\n",
    "plt.plot(X[X < xmax], WP[X < xmax], 'o', xnew, wp_new)"
   ]
  },
  {
   "cell_type": "code",
   "execution_count": 2278,
   "metadata": {},
   "outputs": [
    {
     "data": {
      "text/plain": [
       "[<matplotlib.lines.Line2D at 0x1338ca490>,\n",
       " <matplotlib.lines.Line2D at 0x1338bf8b0>]"
      ]
     },
     "execution_count": 2278,
     "metadata": {},
     "output_type": "execute_result"
    },
    {
     "data": {
      "image/png": "[encoded data removed]",
      "text/plain": [
       "<Figure size 432x288 with 1 Axes>"
      ]
     },
     "metadata": {
      "needs_background": "light"
     },
     "output_type": "display_data"
    }
   ],
   "source": [
    "xmax = 100\n",
    "xnew = np.linspace(1,xmax,100)\n",
    "vf_new = new_sol.build_VF(xnew)\n",
    "\n",
    "plt.plot(X[X < xmax], VF[X < xmax], 'o', xnew, vf_new)"
   ]
  },
  {
   "cell_type": "code",
   "execution_count": 2279,
   "metadata": {},
   "outputs": [
    {
     "name": "stderr",
     "output_type": "stream",
     "text": [
      "<ipython-input-2257-8e8cfbd80eb2>:66: RuntimeWarning: divide by zero encountered in log\n",
      "  return a*np.log(x)/(c - (x**b)) + d\n",
      "<ipython-input-2257-8e8cfbd80eb2>:66: RuntimeWarning: invalid value encountered in log\n",
      "  return a*np.log(x)/(c - (x**b)) + d\n",
      "<ipython-input-2257-8e8cfbd80eb2>:66: RuntimeWarning: divide by zero encountered in power\n",
      "  return a*np.log(x)/(c - (x**b)) + d\n",
      "<ipython-input-2257-8e8cfbd80eb2>:66: RuntimeWarning: invalid value encountered in power\n",
      "  return a*np.log(x)/(c - (x**b)) + d\n",
      "<ipython-input-2257-8e8cfbd80eb2>:66: RuntimeWarning: invalid value encountered in true_divide\n",
      "  return a*np.log(x)/(c - (x**b)) + d\n"
     ]
    },
    {
     "data": {
      "text/plain": [
       "[<matplotlib.lines.Line2D at 0x13b8315e0>,\n",
       " <matplotlib.lines.Line2D at 0x13cb79d60>]"
      ]
     },
     "execution_count": 2279,
     "metadata": {},
     "output_type": "execute_result"
    },
    {
     "data": {
      "image/png": "[encoded data removed]",
      "text/plain": [
       "<Figure size 432x288 with 1 Axes>"
      ]
     },
     "metadata": {
      "needs_background": "light"
     },
     "output_type": "display_data"
    }
   ],
   "source": [
    "cp_new = new_sol.build_CP(X = xnew)\n",
    "\n",
    "plt.plot(X[X < xmax], CP[X < xmax], 'o', xnew, cp_new)"
   ]
  },
  {
   "cell_type": "code",
   "execution_count": null,
   "metadata": {},
   "outputs": [],
   "source": [
    "wp_new = new_sol.build_WP(X = xnew)\n",
    "\n",
    "plt.plot(X[X < xmax], WP[X < xmax], 'o', xnew, wp_new)"
   ]
  },
  {
   "cell_type": "code",
   "execution_count": null,
   "metadata": {},
   "outputs": [],
   "source": [
    "new_sol.x_coeffs"
   ]
  }
 ],
 "metadata": {
  "kernelspec": {
   "display_name": "Python 3",
   "language": "python",
   "name": "python3"
  },
  "language_info": {
   "codemirror_mode": {
    "name": "ipython",
    "version": 3
   },
   "file_extension": ".py",
   "mimetype": "text/x-python",
   "name": "python",
   "nbconvert_exporter": "python",
   "pygments_lexer": "ipython3",
   "version": "3.8.8"
  }
 },
 "nbformat": 4,
 "nbformat_minor": 2
}
