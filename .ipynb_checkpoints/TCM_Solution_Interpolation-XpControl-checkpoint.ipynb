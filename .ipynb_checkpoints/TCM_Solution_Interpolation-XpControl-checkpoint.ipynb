{
 "cells": [
  {
   "cell_type": "markdown",
   "metadata": {},
   "source": [
    "# 7 Solution Methods to Solve the Growth Model with Python\n",
    "\n",
    "This notebook is part of a computational appendix that accompanies the paper\n",
    "\n",
    "> MATLAB, Python, Julia: What to Choose in Economics?\n",
    "> > Coleman, Lyon, Maliar, and Maliar (2017)\n",
    "\n",
    "In order to run the codes in this notebook you will need to install and configure a few Python packages. We recommend downloading [Anaconda](https://www.continuum.io/downloads) and/or following the instructions on [quantecon.org](https://lectures.quantecon.org/py/getting_started.html). Once your Python installation is up and running, there are a few additional packages you will need in order to run the code here. To do this, you should remove the `# ` in front of the following commands and run the block below."
   ]
  },
  {
   "cell_type": "code",
   "execution_count": 628,
   "metadata": {
    "scrolled": true
   },
   "outputs": [],
   "source": [
    "# ! pip install git+https://github.com/EconForge/interpolation.py.git\n",
    "# ! pip install quantecon\n",
    "# ! pip install csaps"
   ]
  },
  {
   "cell_type": "code",
   "execution_count": 629,
   "metadata": {},
   "outputs": [],
   "source": [
    "import numpy as np\n",
    "import scipy.linalg as la\n",
    "import scipy.optimize as opt\n",
    "import time\n",
    "import quantecon as qe\n",
    "import matplotlib.pyplot as plt\n",
    "\n",
    "from collections import namedtuple\n",
    "from scipy.interpolate import interp1d, UnivariateSpline\n",
    "from scipy.misc import derivative\n",
    "from interpolation.complete_poly import (CompletePolynomial,\n",
    "                                         n_complete, complete_polynomial,\n",
    "                                         complete_polynomial_der,\n",
    "                                         _complete_poly_impl,\n",
    "                                         _complete_poly_impl_vec,\n",
    "                                         _complete_poly_der_impl,\n",
    "                                         _complete_poly_der_impl_vec)\n",
    "from numba import jit, vectorize"
   ]
  },
  {
   "cell_type": "markdown",
   "metadata": {},
   "source": [
    "## Model\n",
    "\n",
    "This section gives a short description of the commonly used stochastic Neoclassical growth model.\n",
    "\n",
    "There is a single infinitely-lived representative agent who consumes and saves using capital. The consumer discounts the future with factor $\\beta$ and derives utility from only consumption. Additionally, saved capital will depreciate at $\\delta$.\n",
    "\n",
    "The consumer has access to a Cobb-Douglas technology which uses capital saved from the previous period to produce and is subject to stochastic productivity shocks.\n",
    "\n",
    "Productivity shocks follow an AR(1) in logs.\n",
    "\n",
    "The agent's problem can be written recursively using the following Bellman equation\n",
    "\n",
    "\n",
    "$$\n",
    "\\begin{align}\n",
    "  V(k_t, z_t) &= \\max_{k_{t+1}} u(c_t) + \\beta E \\left[ V(k_{t+1}, z_{t+1}) \\right] \\\\\n",
    "  &\\text{subject to } \\\\\n",
    "  c_t &= z_t f(k_t) + (1 - \\delta) k_t - k_{t+1} \\\\\n",
    "  \\log z_{t+1} &= \\rho \\log z_t + \\sigma \\varepsilon\n",
    "\\end{align}\n",
    "$$\n",
    "\n",
    "$$\n",
    "\\begin{align*}\n",
    "    V(X, z) &= \\max_{\\tilde{c},\\tilde{s}} \\biggl\\{0,  u(c) + \\beta E \\bigl[V(X', z') \\bigr] \\biggr\\}\\\\\n",
    "    & \\text{ s.t. } \\tilde{c} \\geq 0; \\qquad \\tilde{s} \\geq 0 \\\\\n",
    "    & \\phantom{\\text{ s.t. } }N\\tilde{c} + N\\tilde{s} \\leq X \\\\\n",
    "    & \\phantom{\\text{ s.t. } } X' = \\max \\biggl\\{0, \\bigl[X - N\\tilde{c}  - N\\tilde{s} - z \\bigl(\\frac{\\tilde{c}}{\\tilde{s}}\\bigr)^\\phi \\bigr](1 + g_x) \\biggr\\} \\\\\n",
    "    & \\phantom{\\text{ s.t. } } u(\\tilde{c}) = \\bar{u} + \\ln(\\tilde{c}) \\\\\n",
    "    & \\phantom{\\text{ s.t. } } z \\sim Exp( \\bar{z} ) \n",
    "\\end{align*} \n",
    "$$"
   ]
  },
  {
   "cell_type": "markdown",
   "metadata": {},
   "source": [
    "## Python Code\n",
    "\n",
    "We begin by defining a `namedtuple` that contains the parameters of our model. This is useful to pass the parameters around to functions that are just-in-time (JIT) compiled by `numba`."
   ]
  },
  {
   "cell_type": "code",
   "execution_count": 630,
   "metadata": {},
   "outputs": [],
   "source": [
    "#\n",
    "# Create a named tuple type that we can pass into the jitted functions\n",
    "# so that we don't have to pass parameters one by one\n",
    "#\n",
    "Params = namedtuple(\"Params\", [\"N\", \"beta\", \"g\", \"a_bar\", \"eta\", \"u_bar\"])\n",
    "\n",
    "@jit(nopython=True)\n",
    "def param_unpack(params):\n",
    "    \"Unpack parameters from the Params type\"\n",
    "    out = (params.N, params.beta, params.g,\n",
    "           params.a_bar, params.eta, params.u_bar)\n",
    "\n",
    "    return out"
   ]
  },
  {
   "cell_type": "markdown",
   "metadata": {},
   "source": [
    "We will then define various helper functions to ensure that we [don't repeat ourselves](https://lectures.quantecon.org/py/writing_good_code.html#don-t-repeat-yourself) and that the inner functions can be JIT compiled."
   ]
  },
  {
   "cell_type": "code",
   "execution_count": 631,
   "metadata": {},
   "outputs": [],
   "source": [
    "#\n",
    "# Helper functions to make sure things are jitted\n",
    "#\n",
    "@vectorize(nopython=True)\n",
    "def u(c, eta, u_bar):\n",
    "    \"log utility function\"\n",
    "    return -1e10 if c < 1e-10 else (u_bar + np.log(c)) if eta==1 else (u_bar + (c**(1-eta)/(1-eta)))\n",
    "\n",
    "@vectorize(nopython=True)\n",
    "def du(c,eta):\n",
    "    \"Derivative of log utility function\"\n",
    "    return 1e10 if c < 1e-10 else c**(-eta)\n",
    "\n",
    "@vectorize(nopython=True)\n",
    "def duinv(u,eta):\n",
    "    \"Inverse of the derivative of the CRRA utility function\"\n",
    "    return u**(-1.0/eta )\n",
    "\n",
    "@vectorize(nopython=True)\n",
    "def f(X):\n",
    "    \"production function\"\n",
    "    return X\n",
    "\n",
    "@vectorize(nopython=True)\n",
    "def df(X):\n",
    "    \"Derivative of production function\"\n",
    "    return 1\n",
    "\n",
    "@vectorize(nopython=True)\n",
    "def discount_factor(beta, a_bar, c, w):\n",
    "    \"risk adjusted discount factor\"\n",
    "    return beta*a_bar*w/(c + a_bar*w)\n",
    "\n",
    "@vectorize(nopython=True)\n",
    "def next_x(X, N, g, c, w):\n",
    "    # next period's CPR given c and w\n",
    "    return (X - N*(c + w))*(1+g)\n",
    "\n",
    "@vectorize(nopython=True)\n",
    "def vector_dampen(vec1, vec2, dampen=1):\n",
    "    return dampen*vec1 + (1-dampen)*vec2\n",
    "\n",
    "@vectorize(nopython=True)\n",
    "def expendables(X, Xp, N, g):\n",
    "    # get expendables given X and X prime\n",
    "    return (1/N)*(X - Xp/(1 + g))\n",
    "\n",
    "@vectorize(nopython=True)\n",
    "def c_from_X_Xp(X, Xp, Vp, beta, a):\n",
    "    # get expendables given X and X prime\n",
    "    return -(2*E*a - 2*E*a**2 + E*a*(Vp*beta*(4*a + Vp*beta - 4))**0.5 - E*Vp*a*beta)/(2*(a**2 - 2*a + 1))\n",
    "\n",
    "@vectorize(nopython=True)\n",
    "def c_from_exp(Vp, E, beta, a_bar):\n",
    "    if Vp <= 0: \n",
    "        return E\n",
    "    return -(2*E*a_bar - 2*E*a_bar**2 + E*a_bar*(Vp*beta*(4*a_bar + Vp*beta - 4))**0.5 - E*Vp*a_bar*beta)/(2*(a_bar**2 - 2*a_bar + 1))\n",
    "\n",
    "\n",
    "def x_curve(x, a, b):\n",
    "    return a + b*x\n",
    "\n",
    "def v_curve(x, a, b, c, d):\n",
    "    return a*np.log(x)/(c - (x**b)) + d\n",
    "\n",
    "\n",
    "@vectorize(nopython=True)\n",
    "def trunc_to_one(X):\n",
    "    return X if X >= 1 else 1\n",
    "\n",
    "@vectorize(nopython=True)\n",
    "def psurvival(a_bar, c, w):\n",
    "    return a_bar*w/(c + a_bar*w)\n"
   ]
  },
  {
   "cell_type": "markdown",
   "metadata": {},
   "source": [
    "We also now define a class that contains\n",
    "\n",
    "1. Parameters of the growth model\n",
    "2. Grids used for approximating the solution\n",
    "3. Nodes and weights used to approximate integration\n",
    "\n",
    "This again helps us maintain all of the relevant information in one place and simplifies passing it to other functions."
   ]
  },
  {
   "cell_type": "code",
   "execution_count": 632,
   "metadata": {},
   "outputs": [],
   "source": [
    "class Model(object):\n",
    "    \"\"\"\n",
    "    The stochastic Neoclassical Growth model contains\n",
    "    parameters which include\n",
    "\n",
    "    * alpha: Capital share in output\n",
    "    * beta: discount factor\n",
    "    * delta: depreciation rate\n",
    "    * gamma: risk aversion\n",
    "    * rho: persistence of the log productivity level\n",
    "    * sigma: standard deviation of shocks to log productivity\n",
    "    \"\"\"\n",
    "    def __init__(self, N=1, beta=0.95, g_x=0.05, g_a=0.015, a_bar=1e5, \n",
    "                 eta=1, u_bar=0, \n",
    "                 xmin=50, xmax=2000, nx=100):\n",
    "        # calculate g from g_a and g_x \n",
    "        g = g_a + g_x + g_a*g_x\n",
    "\n",
    "        # Household parameters\n",
    "        self.beta, self.eta, self.u_bar, = beta, eta, u_bar\n",
    "\n",
    "        # Firm/technology parameters\n",
    "        self.N, self.g, self.a_bar = N, g, a_bar\n",
    "\n",
    "        # Create t grids\n",
    "        self.xgrid = N*np.geomspace(xmin, xmax, nx)\n",
    "        \n",
    "        self.ns = nx\n",
    "        \n",
    "    def _unpack_params(self):\n",
    "        out = (self.N, self.beta, self.g, \n",
    "               self.a_bar, self.eta, self.u_bar)\n",
    "        return out\n",
    "\n",
    "    def _unpack_grids(self):\n",
    "        out = (self.xgrid)\n",
    "        return out\n"
   ]
  },
  {
   "cell_type": "markdown",
   "metadata": {},
   "source": [
    "## Solution Methods\n",
    "\n",
    "In this notebook, we describe the following solution methods:\n",
    "\n",
    "* Conventional Value Function Iteration\n",
    "* Envelope Condition Value Function Iteration\n",
    "* Envelope Condition Derivative Value Function Iteration\n",
    "* Endogenous Grid Value Function Iteration\n",
    "* Conventional Policy Function Iteration\n",
    "* Envelope Condition Policy Function Iteration\n",
    "* Euler Equation Method\n",
    "\n",
    "Each of these solution methods will have a very similar structure that follows a few basic steps:\n",
    "\n",
    "1. Guess a function (either value function or policy function).\n",
    "2. Using this function, update our guess of both the value and policy functions.\n",
    "3. Check whether the function we guessed and what it was updated to are similar enough. If so, proceed. If not, return to step 2 using the updated functions.\n",
    "4. Output the policy and value functions.\n",
    "\n",
    "In order to reduce the amount of repeated code and keep the exposition as clean as possible (the notebook is plenty long as is...), we will define a class for each solution method that inherit various properties from a general solution parent class. The parent class will contain methods which apply to all of the other solution methods such as a general solve method, computing expectations, simulating, etc... This implementation may feel strange at first if one isn't familiar with object oriented programming, but these concepts can be powerful when properly used."
   ]
  },
  {
   "cell_type": "code",
   "execution_count": 633,
   "metadata": {},
   "outputs": [],
   "source": [
    "class GeneralSolution:\n",
    "    \"\"\"\n",
    "    This is a general solution method. We define this, so that we can\n",
    "    sub-class it and define specific update methods for each particular\n",
    "    solution method\n",
    "    \"\"\"\n",
    "    def __init__(self, ncgm,  maxfev=10000, prev_sol=None):\n",
    "        self.Xinf = None\n",
    "        # Save model and approximation degree\n",
    "        self.ncgm,  self.maxfev = ncgm, maxfev\n",
    "\n",
    "        # Unpack some info from ncgm\n",
    "        N, beta, g, a_bar, eta, u_bar = self._unpack_params()\n",
    "        X = self.ncgm.xgrid\n",
    "\n",
    "        # Use parameter values from model to create a namedtuple with\n",
    "        # parameters saved inside\n",
    "        self.params = Params(N, beta, g, a_bar, eta, u_bar)\n",
    "        \n",
    "        # initialize CP and WP as None:\n",
    "        self.CP = None\n",
    "        self.WP = None\n",
    "\n",
    "        # Update to fill initial value and policy matrices\n",
    "        # If we give it another solution type then use it to\n",
    "        # generate values and policies\n",
    "        if issubclass(type(prev_sol), GeneralSolution):\n",
    "            self.XP = prev_sol.build_XP(X)\n",
    "            self.VF = prev_sol.build_VF(X)\n",
    "        # If we give it a tuple then assume it is (policy, value) pair\n",
    "        elif type(prev_sol) is tuple:\n",
    "            self.XP = prev_sol[0]\n",
    "            self.VF = prev_sol[1]\n",
    "        # Otherwise guess a constant value function and a policy\n",
    "        # of roughly steady state\n",
    "        else:\n",
    "            # guess VF and XP\n",
    "            self.VF = np.log(X/N) \n",
    "            self.XP = X\n",
    "\n",
    "\n",
    "        # Params based on guesses\n",
    "        self.x_spline = interp1d(X, self.XP, kind=self.interpolator)\n",
    "        self.v_spline = interp1d(X, self.VF, kind=self.interpolator)\n",
    "\n",
    "\n",
    "        # Params based on guesses\n",
    "        self.x_coeffs, _ = opt.curve_fit(x_curve, X, self.XP, maxfev=self.maxfev)\n",
    "        self.v_coeffs, _ = opt.curve_fit(v_curve, X, self.VF, maxfev=self.maxfev)\n",
    "\n",
    "    def _unpack_params(self):\n",
    "        return self.ncgm._unpack_params()\n",
    "        \n",
    "    def build_VF(self, X=None):\n",
    "        \"\"\"\n",
    "        Using the current coefficients, this builds the value function\n",
    "        for all states\n",
    "        \"\"\"\n",
    "        if X is None:\n",
    "            X = self.ncgm.xgrid\n",
    "            \n",
    "        VF = v_curve(X, *self.v_coeffs)\n",
    "\n",
    "        return VF\n",
    "    \n",
    "    def build_XP(self, X=None):\n",
    "        if X is None:\n",
    "            X = self.ncgm.xgrid\n",
    "        \n",
    "        XP = np.clip(x_curve(X, *self.x_coeffs), 0, X*(1 + self.ncgm.g))\n",
    "        \n",
    "        return XP\n",
    "\n",
    "    def build_CP(self, E=None, VP=None, X=None, XP=None):\n",
    "        \"\"\"\n",
    "        Using the current coefficients, this builds the policy function\n",
    "        for all states\n",
    "        \"\"\"\n",
    "        N, beta, g, a_bar, eta, u_bar = self._unpack_params()\n",
    "        \n",
    "        # Check if expected value next period (EVP) and expendables (E) are given\n",
    "        if VP is None or E is None:\n",
    "            if X is None:\n",
    "                X = self.ncgm.xgrid\n",
    "                \n",
    "            if XP is None:\n",
    "                XP = self.build_XP(X)\n",
    "                \n",
    "            VP = self.compute_EV(XP)\n",
    "            E = expendables(X, XP, N, g)\n",
    "            \n",
    "        CP = np.clip(c_from_exp(VP, E, beta, a_bar), 0, E)\n",
    "\n",
    "        return CP\n",
    "    \n",
    "    def build_WP(self, CP=None, E=None, VP=None, X=None, XP=None):\n",
    "        \"\"\"\n",
    "        Using the current coefficients, this builds the policy function\n",
    "        for all states\n",
    "        \"\"\"\n",
    "        if CP is None or E is None:\n",
    "            N, beta, g, a_bar, eta, u_bar = self._unpack_params()\n",
    "            if VP is None or E is None:\n",
    "                if X is None:\n",
    "                    X = self.ncgm.xgrid\n",
    "\n",
    "                if XP is None:\n",
    "                    XP = self.build_XP(X)\n",
    "\n",
    "                VP = self.compute_EV(XP)\n",
    "                E = expendables(X, XP, N, g)\n",
    "\n",
    "                CP = np.clip(c_from_exp(VP, E, beta, a_bar), 0, X/self.ncgm.N)\n",
    "            else:\n",
    "                CP = self.build_CP(E=E, VP=VP)\n",
    "            \n",
    "        return E - CP\n",
    "\n",
    "    def update_v(self, new_v_coeffs):\n",
    "        \"\"\"\n",
    "        Updates the coefficients for the value function\n",
    "        \"\"\"\n",
    "        self.v_coeffs = new_v_coeffs\n",
    "\n",
    "        return None\n",
    "\n",
    "    def update_x(self, new_x_coeffs):\n",
    "        \"\"\"\n",
    "        Updates the coefficients for the policy function\n",
    "        \"\"\"\n",
    "        self.x_coeffs = new_x_coeffs\n",
    "\n",
    "    def update(self):\n",
    "        \"\"\"\n",
    "        Given the current state of everything in solution, update the\n",
    "        value and policy coefficients\n",
    "        \"\"\"\n",
    "        emsg = \"The update method is implemented in solution specific classes\"\n",
    "        emsg += \"\\nand cannot be called from `GeneralSolution`\"\n",
    "        raise ValueError(emsg)\n",
    "    \n",
    "    def compute_coeffs(self, XP, VF):\n",
    "        new_x_coeffs, _ = opt.curve_fit(x_curve, self.ncgm.xgrid, XP, maxfev=self.maxfev)\n",
    "        new_v_coeffs, _ = opt.curve_fit(v_curve, self.ncgm.xgrid, VF, maxfev=self.maxfev) \n",
    "        \n",
    "        return new_x_coeffs, new_v_coeffs\n",
    "\n",
    "    def compute_EV_scalar(self, XP):\n",
    "        val = self.build_VF(XP)\n",
    "        \n",
    "        return val\n",
    "\n",
    "    def compute_EV(self, XP=None):\n",
    "        \"\"\"\n",
    "        Compute the expected value\n",
    "        \"\"\"\n",
    "        if XP is None:\n",
    "            # Use policy to compute XP\n",
    "            XP = self.build_XP()\n",
    "        \n",
    "        EV = self.build_VF(XP)\n",
    "        \n",
    "        return EV\n",
    "\n",
    "\n",
    "    def compute_distance(self, XP, VF):\n",
    "        \"\"\"\n",
    "        Computes average distance between policy functions\n",
    "        \"\"\"\n",
    "        return np.max(np.abs(1.0 - (XP+1e-12)/(self.XP+1e-12)))\n",
    "    \n",
    "\n",
    "    def solve(self, tol=1e-6, maxiter=2500, verbose=False, nskipprint=25):\n",
    "        # Iterate until convergence\n",
    "        dist, it = 10.0, 0\n",
    "        while (dist>tol) and (it<maxiter):\n",
    "            # Run solution specific update code\n",
    "            XP, VF = self.update()\n",
    "\n",
    "            # Compute new policy and value coeffs\n",
    "            new_x_coeffs,  new_v_coeffs = self.compute_coeffs(XP, VF)\n",
    "\n",
    "            # Update distance and iterations\n",
    "            dist = self.compute_distance(XP, VF)\n",
    "            self.XP, self.VF = XP, VF\n",
    "            it += 1\n",
    "            if verbose and it%nskipprint == 0:\n",
    "                print(it, dist)\n",
    "\n",
    "            # Update all coefficients\n",
    "            self.update_x(new_x_coeffs)\n",
    "            self.update_v(new_v_coeffs)\n",
    "\n",
    "        # After finishing iteration, iterate to convergence using policy\n",
    "        if not isinstance(self, IterateOnPolicy):\n",
    "            sol_iop = IterateOnPolicy(self.ncgm, self.maxfev, self)\n",
    "            XP, VF = sol_iop.solve(tol=1e-6)\n",
    "\n",
    "            # Save final versions of everything\n",
    "            self.XP, self.VF = XP, VF\n",
    "            \n",
    "            new_x_coeffs, new_v_coeffs = sol_iop.compute_coeffs(XP, VF)\n",
    "            self.update_x(new_x_coeffs)\n",
    "            self.update_v(new_v_coeffs)\n",
    "\n",
    "        return self.XP, self.VF\n",
    "        \n",
    "\n",
    "    def simulate(self, X=None, T=1000, s=1):\n",
    "        \"\"\"\n",
    "        Simulates the neoclassical growth model with policy function\n",
    "        given by self.KP. Simulates for `T` periods and discarsd first\n",
    "        nburn `observations`\n",
    "        \"\"\"\n",
    "        N, beta, g, a_bar, eta, u_bar = self._unpack_params()\n",
    "        # X is starting point, if None, set to N*274\n",
    "        if X is None:\n",
    "            X = N*274\n",
    "            \n",
    "        def recurse_bellman(x, t):\n",
    "            if x <= 0:\n",
    "                return 0, 0, x, t\n",
    "            if t >= T:\n",
    "                return u(x/N, eta, u_bar), 1, x, T\n",
    "            \n",
    "            c_corner = x/N \n",
    "            u_corner = u(c_corner, eta, u_bar)\n",
    "            \n",
    "            xp = self.build_XP(x)\n",
    "            e = expendables(x, xp, N, g)\n",
    "            evp = self.compute_EV_scalar(xp)\n",
    "            \n",
    "            c = self.build_CP(VP=evp, E=e)\n",
    "            w = e - c\n",
    "            \n",
    "            if s != 1:\n",
    "                c = s*c\n",
    "                w = s*w\n",
    "                xp = next_x(x, N, g, c, w)\n",
    "            \n",
    "            if w <= 0:\n",
    "                return u_corner, 0, 0, t+1\n",
    "                \n",
    "            m_t = psurvival(a_bar, c, w)\n",
    "            u_t = u(c, eta, u_bar)\n",
    "            \n",
    "            vp, mp, final_state, nperiods = recurse_bellman(xp, t+1)\n",
    "            \n",
    "            if u_t + beta*m_t*vp < u_corner:\n",
    "                return u_corner, 0, 0, t+1\n",
    "            \n",
    "            return u_t + beta*m_t*vp, m_t*mp, final_state, nperiods\n",
    "        \n",
    "        return recurse_bellman(X, 0)\n"
   ]
  },
  {
   "cell_type": "markdown",
   "metadata": {},
   "source": [
    "### Iterating to Convergence (given policy)\n",
    "\n",
    "This isn't one of the methods described above, but it is used as an element of a few of our methods (and also as a way to get a first guess at the value function). This method takes an initial policy function, $\\bar{k}(k_t, z_t)$, as given, and then, without changing the policy, iterates until the value function has converged.\n",
    "\n",
    "Thus the \"update section\" of the algorithm in this instance would be:\n",
    "\n",
    "* Leave policy function unchanged\n",
    "* At each point of grid, $(k_t, z_t)$, compute $\\hat{V}(k_t, z_t) = u(c(\\bar{k}(k_t, z_t))) + \\beta E \\left[ V(\\bar{k}(k_t, z_t), z_{t+1}) \\right]$\n",
    "\n",
    "We override two of the methods from `GeneralSolution`\n",
    "\n",
    "* `compute_distance` because when we are iterating to convergence on the value function we want to check distnace using value function rather than policy function\n",
    "* `compute_coefficients` because we don't need to update the policy functions coefficients.\n",
    "\n",
    "The `update` method just repeatedly applies a particular policy function to update the value function."
   ]
  },
  {
   "cell_type": "code",
   "execution_count": 634,
   "metadata": {},
   "outputs": [],
   "source": [
    "class IterateOnPolicy(GeneralSolution):\n",
    "    \"\"\"\n",
    "    Subclass of the general solution method. The update method for this\n",
    "    class simply computes the fixed point of the value function given\n",
    "    a specific policy\n",
    "    \"\"\"\n",
    "    def compute_distance(self, XP, VF):\n",
    "        \"\"\"\n",
    "        Computes distance between policy functions. When we are\n",
    "        iterating on a specific policy, we would like to compute\n",
    "        distances by the difference between VFs\n",
    "        \"\"\"\n",
    "        return np.max(np.abs(1.0 - (VF )/(self.VF )))\n",
    "\n",
    "    \n",
    "    def compute_coeffs(self, XP, VF):\n",
    "        new_v_params, _ = opt.curve_fit(v_curve, self.ncgm.xgrid, VF, maxfev=self.maxfev) \n",
    "        \n",
    "        return self.x_params, new_v_params\n",
    "    \n",
    "    def update(self):\n",
    "        # Unpack parameters\n",
    "        N, beta, g, a_bar, eta, u_bar = self._unpack_params()\n",
    "        X = self.ncgm.xgrid\n",
    "        \n",
    "        if self.CP is None or self.WP is None:\n",
    "            VP = self.compute_EV(self.XP)\n",
    "            E = expendables(X, self.XP, N, g)\n",
    "            self.CP = self.build_CP(VP=VP, E=E)\n",
    "            self.WP = E - self.CP\n",
    "        \n",
    "        # Update the value function\n",
    "        VF = u(self.CP, eta, u_bar) + discount_factor(beta, a_bar, self.CP, self.WP)*np.maximum(self.compute_EV(self.XP), np.zeros(self.ncgm.ns))\n",
    "\n",
    "        return self.XP, VF"
   ]
  },
  {
   "cell_type": "markdown",
   "metadata": {},
   "source": [
    "### Conventional Value Function Iteration\n",
    "\n",
    "This is one of the first solution methods for macroeconomics a graduate student in economics typically learns.\n",
    "\n",
    "In this solution method, one takes as given a value function, $V(k_t, z_t)$, and then solves for the optimal policy given the value function.\n",
    "\n",
    "The update section takes the form:\n",
    "\n",
    "* For each point, $(k_t, z_t)$, numerically solve for $c^*(k_t, z_t)$ to satisfy the first order condition $u'(c^*) = \\beta E \\left[ V_1((1 - \\delta) k_t + z_t f(k_t) - c^*, z_{t+1}) \\right]$\n",
    "* Define $k^*(k_t, z_t) = (1 - \\delta) k_t + z_t f(k_t) - c^*(k_t, z_t)$\n",
    "* Update value function according to $\\hat{V}(k_t, z_t) = u(c^*(k_t, z_t)) + \\beta E \\left[ V(k^*(k_t, z_t), z_{t+1}) \\right]$\n",
    "\n",
    "\n",
    "* For each point, $(X_t, z_t)$, numerically solve for $c^*(X_t, z_t)$ to satisfy the first order condition $u'(\\tilde{c}^\\ast) = \\beta E \\left[ V_1((1 - \\delta) k_t + z_t f(k_t) - c^*, z_{t+1}) \\right]$\n",
    "* Define $k^*(k_t, z_t) = (1 - \\delta) k_t + z_t f(k_t) - c^*(k_t, z_t)$\n",
    "* Update value function according to $\\hat{V}(k_t, z_t) = u(c^*(k_t, z_t)) + \\beta E \\left[ V(k^*(k_t, z_t), z_{t+1}) \\right]$\n",
    "\n",
    "\n"
   ]
  },
  {
   "cell_type": "code",
   "execution_count": 635,
   "metadata": {},
   "outputs": [],
   "source": [
    "class VFI(GeneralSolution):\n",
    "    \"\"\"\n",
    "    Updates the coefficients and value functions using the VFI\n",
    "    method\n",
    "    \"\"\"\n",
    "    def update(self):\n",
    "        \"\"\"\n",
    "        Updates the coefficients and value functions using the VFI_ECM\n",
    "        method\n",
    "        \"\"\"\n",
    "        # Unpack parameters\n",
    "        N, beta, g, a_bar, eta, u_bar = self._unpack_params()\n",
    "        xgrid = self.ncgm.xgrid\n",
    "        n_state = xgrid.shape[0]\n",
    "\n",
    "        # Get the policy and update it\n",
    "        XP = np.empty(n_state)\n",
    "        VF = np.empty(n_state)\n",
    "        for i_s in range(n_state):\n",
    "            # Pull out current vals\n",
    "            X = xgrid[i_s]\n",
    "            def _f(_xp):\n",
    "                EV = self.compute_EV_scalar(_xp)\n",
    "                E = expendables(X, _xp, N, g)\n",
    "            \n",
    "                if E <= 0:\n",
    "                    return -u(X/N, 1, u_bar)**2\n",
    "                \n",
    "                _cp = self.build_CP(VP=EV, E=E)\n",
    "                _wp = E - _cp\n",
    "                \n",
    "                return -(u(_cp, 1, u_bar) + discount_factor(beta, a_bar, _cp, _wp)*EV)**2\n",
    "                \n",
    "            \n",
    "            _xp = opt.fminbound(_f, 1, X*(1+g), xtol=1e-12)\n",
    "            EV = self.compute_EV_scalar(_xp)\n",
    "            E = expendables(X, _xp, N, g)\n",
    "            if E <= 0:\n",
    "                _xp = 0\n",
    "                _vf = u(X/N, 1, u_bar)\n",
    "            else:\n",
    "                cp = self.build_CP(VP=EV, E=E)\n",
    "                wp = E - cp\n",
    "                \n",
    "                _vf = u(cp, 1, u_bar) + discount_factor(beta, a_bar, cp, wp)*EV\n",
    "             \n",
    "            if _vf < 0:\n",
    "                XP[i_s] = 0\n",
    "                VF[i_s] = u(X/N, eta, u_bar)\n",
    "            else:                \n",
    "                XP[i_s] = _xp\n",
    "                VF[i_s] = _vf\n",
    "\n",
    "        return XP, VF\n"
   ]
  },
  {
   "cell_type": "markdown",
   "metadata": {},
   "source": [
    "## A Horse Race\n",
    "\n",
    "We can now run a horse race to compare the methods in terms of both accuracy and speed."
   ]
  },
  {
   "cell_type": "code",
   "execution_count": 636,
   "metadata": {
    "scrolled": true
   },
   "outputs": [
    {
     "name": "stderr",
     "output_type": "stream",
     "text": [
      "/Users/mikemahon/anaconda3/lib/python3.8/site-packages/scipy/optimize/minpack.py:828: OptimizeWarning: Covariance of the parameters could not be estimated\n",
      "  warnings.warn('Covariance of the parameters could not be estimated',\n",
      "/Users/mikemahon/anaconda3/lib/python3.8/site-packages/scipy/optimize/minpack.py:828: OptimizeWarning: Covariance of the parameters could not be estimated\n",
      "  warnings.warn('Covariance of the parameters could not be estimated',\n"
     ]
    },
    {
     "name": "stdout",
     "output_type": "stream",
     "text": [
      "vp done\n",
      "25 0.0014004522395414387\n",
      "50 0.00023715118355571718\n",
      "75 5.828705727850547e-05\n",
      "100 1.5604532459079223e-05\n",
      "125 4.2884548339117146e-06\n",
      "150 1.1781008175670848e-06\n"
     ]
    }
   ],
   "source": [
    "ncgm = Model(N=1, a_bar=1e5, beta=0.95, g_x=0.05, xmin=200, xmax=5000, nx=10)\n",
    "\n",
    "# First guess\n",
    "vp = IterateOnPolicy(ncgm, maxfev=50000)\n",
    "vp.solve(tol=1e-9)\n",
    "\n",
    "np.random.seed(61089)\n",
    "\n",
    "\n",
    "\n",
    "print('vp done')\n",
    "new_sol = vp\n",
    "new_sol = VFI(ncgm, maxfev=100000, prev_sol=None)\n",
    "ts = time.time()\n",
    "new_sol.solve(tol=1e-6, verbose=True, nskipprint=25)\n",
    "time_took = time.time() - ts"
   ]
  },
  {
   "cell_type": "code",
   "execution_count": 637,
   "metadata": {},
   "outputs": [],
   "source": [
    "N, beta, g, a_bar, eta, u_bar = new_sol._unpack_params()\n",
    "X = new_sol.ncgm.xgrid\n",
    "VF = new_sol.VF\n",
    "XP = new_sol.XP\n",
    "CP = new_sol.build_CP()\n",
    "WP = new_sol.build_WP()"
   ]
  },
  {
   "cell_type": "code",
   "execution_count": 638,
   "metadata": {},
   "outputs": [
    {
     "data": {
      "text/plain": [
       "array([ 200.        ,  285.99382966,  408.96235302,  584.80354764,\n",
       "        836.25103095, 1195.8131745 , 1709.97594668, 2445.2128481 ,\n",
       "       3496.57893383, 5000.        ])"
      ]
     },
     "execution_count": 638,
     "metadata": {},
     "output_type": "execute_result"
    }
   ],
   "source": [
    "X"
   ]
  },
  {
   "cell_type": "code",
   "execution_count": 639,
   "metadata": {},
   "outputs": [
    {
     "data": {
      "text/plain": [
       "array([ 49.84439715,  56.9484463 ,  64.05267619,  71.15705753,\n",
       "        78.2615682 ,  85.36619099,  92.47091219,  99.57572068,\n",
       "       106.68060729, 113.78556435])"
      ]
     },
     "execution_count": 639,
     "metadata": {},
     "output_type": "execute_result"
    }
   ],
   "source": [
    "VF"
   ]
  },
  {
   "cell_type": "code",
   "execution_count": 640,
   "metadata": {},
   "outputs": [
    {
     "data": {
      "text/plain": [
       "array([ 202.41434183,  289.44737106,  413.90191776,  591.86807989,\n",
       "        846.35420119, 1210.26150333, 1730.63771822, 2474.75965103,\n",
       "       3538.83105752, 5060.42034041])"
      ]
     },
     "execution_count": 640,
     "metadata": {},
     "output_type": "execute_result"
    }
   ],
   "source": [
    "XP"
   ]
  },
  {
   "cell_type": "code",
   "execution_count": 641,
   "metadata": {},
   "outputs": [
    {
     "data": {
      "text/plain": [
       "array([  9.85609378,  14.07182958,  20.09300894,  28.69319242,\n",
       "        40.97750011,  58.52475738,  83.59059401, 119.39763814,\n",
       "       170.55015943, 243.62653909])"
      ]
     },
     "execution_count": 641,
     "metadata": {},
     "output_type": "execute_result"
    }
   ],
   "source": [
    "CP"
   ]
  },
  {
   "cell_type": "code",
   "execution_count": 642,
   "metadata": {},
   "outputs": [
    {
     "data": {
      "text/plain": [
       "array([0.21724253, 0.33169178, 0.50254346, 0.75677334, 1.13400357,\n",
       "       1.69235489, 2.51697995, 3.73249728, 5.52109669, 8.14888628])"
      ]
     },
     "execution_count": 642,
     "metadata": {},
     "output_type": "execute_result"
    }
   ],
   "source": [
    "WP"
   ]
  },
  {
   "cell_type": "code",
   "execution_count": 643,
   "metadata": {},
   "outputs": [
    {
     "data": {
      "text/plain": [
       "array([0.01207171, 0.01207558, 0.01207829, 0.01208018, 0.0120815 ,\n",
       "       0.01208243, 0.01208308, 0.01208353, 0.01208385, 0.01208407])"
      ]
     },
     "execution_count": 643,
     "metadata": {},
     "output_type": "execute_result"
    }
   ],
   "source": [
    "new_sol.compute_Xdot(X)/X"
   ]
  },
  {
   "cell_type": "code",
   "execution_count": 644,
   "metadata": {},
   "outputs": [
    {
     "data": {
      "text/plain": [
       "array([ 202.41434183,  289.44737106,  413.90191776,  591.86807989,\n",
       "        846.35420119, 1210.26150333, 1730.63771822, 2474.75965103,\n",
       "       3538.83105752, 5060.42034041])"
      ]
     },
     "execution_count": 644,
     "metadata": {},
     "output_type": "execute_result"
    }
   ],
   "source": [
    "new_sol.XP"
   ]
  },
  {
   "cell_type": "code",
   "execution_count": 645,
   "metadata": {},
   "outputs": [
    {
     "name": "stdout",
     "output_type": "stream",
     "text": [
      "x/N:  100.0\n",
      "VF estimate:  36.07465948751447\n",
      "new_sol.simulate(x,2000,s=1):  (36.11174822487149, 0.6422260384160131, 2708272734565.7495, 2000)\n",
      "sim_res1 (s=1):  36.11174822487149\n",
      "sim_res2 (s=0.9):  35.99721719840637\n",
      "sim_res3 (s=1.1):  36.01732769426264\n",
      "sim_res2 < sim_res1 > sim_res3???:  True\n",
      "\n",
      "x/N:  200.0\n",
      "VF estimate:  49.8436675136205\n",
      "new_sol.simulate(x,2000,s=1):  (49.85263069576919, 0.6554902343425281, 5422328124992.354, 2000)\n",
      "sim_res1 (s=1):  49.85263069576919\n",
      "sim_res2 (s=0.9):  49.73987877134644\n",
      "sim_res3 (s=1.1):  49.75597123782207\n",
      "sim_res2 < sim_res1 > sim_res3???:  True\n",
      "\n",
      "x/N:  300.0\n",
      "VF estimate:  57.89802088102117\n",
      "new_sol.simulate(x,2000,s=1):  (57.89773418377617, 0.6621925634120128, 8136383515418.945, 2000)\n",
      "sim_res1 (s=1):  57.89773418377617\n",
      "sim_res2 (s=0.9):  57.78580080914653\n",
      "sim_res3 (s=1.1):  57.800069636953765\n",
      "sim_res2 < sim_res1 > sim_res3???:  True\n",
      "\n",
      "x/N:  400.0\n",
      "VF estimate:  63.61267553972654\n",
      "new_sol.simulate(x,2000,s=1):  (63.60832945977787, 0.6665884813265991, 10850438905845.549, 2000)\n",
      "sim_res1 (s=1):  63.60832945977787\n",
      "sim_res2 (s=0.9):  63.49690735628743\n",
      "sim_res3 (s=1.1):  63.51004379731104\n",
      "sim_res2 < sim_res1 > sim_res3???:  True\n",
      "\n",
      "x/N:  500.0\n",
      "VF estimate:  68.04530606205965\n",
      "new_sol.simulate(x,2000,s=1):  (68.03905152478914, 0.6698220411825927, 13564494296272.293, 2000)\n",
      "sim_res1 (s=1):  68.03905152478914\n",
      "sim_res2 (s=0.9):  67.9279931644907\n",
      "sim_res3 (s=1.1):  67.94032677538814\n",
      "sim_res2 < sim_res1 > sim_res3???:  True\n",
      "\n",
      "x/N:  600.0\n",
      "VF estimate:  71.6670289071272\n",
      "new_sol.simulate(x,2000,s=1):  (71.65994345974671, 0.6723612989611719, 16278549686698.793, 2000)\n",
      "sim_res1 (s=1):  71.65994345974671\n",
      "sim_res2 (s=0.9):  71.5491635853405\n",
      "sim_res3 (s=1.1):  71.56088400494818\n",
      "sim_res2 < sim_res1 > sim_res3???:  True\n",
      "\n",
      "x/N:  700.0\n",
      "VF estimate:  74.72915194145392\n",
      "new_sol.simulate(x,2000,s=1):  (74.72183797526182, 0.6744416857310066, 18992605077125.47, 2000)\n",
      "sim_res1 (s=1):  74.72183797526182\n",
      "sim_res2 (s=0.9):  74.61128164041081\n",
      "sim_res3 (s=1.1):  74.62251072378207\n",
      "sim_res2 < sim_res1 > sim_res3???:  True\n",
      "\n",
      "x/N:  800.0\n",
      "VF estimate:  77.38168356583259\n",
      "new_sol.simulate(x,2000,s=1):  (77.37450215743424, 0.6761975971712981, 21706660467552.04, 2000)\n",
      "sim_res1 (s=1):  77.37450215743424\n",
      "sim_res2 (s=0.9):  77.26413129241274\n",
      "sim_res3 (s=1.1):  77.27495327970439\n",
      "sim_res2 < sim_res1 > sim_res3???:  True\n",
      "\n",
      "x/N:  900.0\n",
      "VF estimate:  79.72138227452788\n",
      "new_sol.simulate(x,2000,s=1):  (79.714560019608, 0.6777126696997068, 24420715857978.582, 2000)\n",
      "sim_res1 (s=1):  79.714560019608\n",
      "sim_res2 (s=0.9):  79.60434684737749\n",
      "sim_res3 (s=1.1):  79.61482309599039\n",
      "sim_res2 < sim_res1 > sim_res3???:  True\n",
      "\n",
      "x/N:  1000.0\n",
      "VF estimate:  81.8143140881657\n",
      "new_sol.simulate(x,2000,s=1):  (81.80799745671175, 0.6790423318297172, 27134771248405.195, 2000)\n",
      "sim_res1 (s=1):  81.80799745671175\n",
      "sim_res2 (s=0.9):  81.69792090670433\n",
      "sim_res3 (s=1.1):  81.70809789386085\n",
      "sim_res2 < sim_res1 > sim_res3???:  True\n",
      "\n",
      "x/N:  1100.0\n",
      "VF estimate:  83.70760121029642\n",
      "new_sol.simulate(x,2000,s=1):  (83.70188647767856, 0.6802251245965438, 29848826638831.812, 2000)\n",
      "sim_res1 (s=1):  83.70188647767856\n",
      "sim_res2 (s=0.9):  83.59193007466556\n",
      "sim_res3 (s=1.1):  83.60184409813263\n",
      "sim_res2 < sim_res1 > sim_res3???:  True\n",
      "\n",
      "x/N:  1200.0\n",
      "VF estimate:  85.43603693323325\n",
      "new_sol.simulate(x,2000,s=1):  (85.43098769217667, 0.6812888816107907, 32562882029258.32, 2000)\n",
      "sim_res1 (s=1):  85.43098769217667\n",
      "sim_res2 (s=0.9):  85.32113823704202\n",
      "sim_res3 (s=1.1):  85.33081834733274\n",
      "sim_res2 < sim_res1 > sim_res3???:  True\n",
      "\n",
      "x/N:  1300.0\n",
      "VF estimate:  87.02604366672074\n",
      "new_sol.simulate(x,2000,s=1):  (87.02170157607372, 0.6822543302163937, 35276937419685.03, 2000)\n",
      "sim_res1 (s=1):  87.02170157607372\n",
      "sim_res2 (s=0.9):  86.91194828141579\n",
      "sim_res3 (s=1.1):  86.92141820018205\n",
      "sim_res2 < sim_res1 > sim_res3???:  True\n",
      "\n",
      "x/N:  1400.0\n",
      "VF estimate:  88.49815996755996\n",
      "new_sol.simulate(x,2000,s=1):  (88.49455161047534, 0.6831373024811296, 37990992810111.516, 2000)\n",
      "sim_res1 (s=1):  88.49455161047534\n",
      "sim_res2 (s=0.9):  88.38488551192737\n",
      "sim_res3 (s=1.1):  88.39416493676195\n",
      "sim_res2 < sim_res1 > sim_res3???:  True\n",
      "\n",
      "x/N:  1500.0\n",
      "VF estimate:  89.86866745556637\n",
      "new_sol.simulate(x,2000,s=1):  (89.86580885703704, 0.6839501521407128, 40705048200538.21, 2000)\n",
      "sim_res1 (s=1):  89.86580885703704\n",
      "sim_res2 (s=0.9):  89.75622239928883\n",
      "sim_res3 (s=1.1):  89.76532792028084\n",
      "sim_res2 < sim_res1 > sim_res3???:  True\n",
      "\n",
      "x/N:  1600.0\n",
      "VF estimate:  91.15069159193862\n",
      "new_sol.simulate(x,2000,s=1):  (91.14859127464591, 0.6847026958112686, 43419103590964.51, 2000)\n",
      "sim_res1 (s=1):  91.14859127464591\n",
      "sim_res2 (s=0.9):  91.03907801232393\n",
      "sim_res3 (s=1.1):  91.04802377366474\n",
      "sim_res2 < sim_res1 > sim_res3???:  True\n",
      "\n",
      "x/N:  1700.0\n",
      "VF estimate:  92.35496815510061\n",
      "new_sol.simulate(x,2000,s=1):  (92.35362925325485, 0.6854028575178926, 46133158981391.46, 2000)\n",
      "sim_res1 (s=1):  92.35362925325485\n",
      "sim_res2 (s=0.9):  92.24418362972104\n",
      "sim_res3 (s=1.1):  92.25298181853793\n",
      "sim_res2 < sim_res1 > sim_res3???:  True\n",
      "\n",
      "x/N:  1800.0\n",
      "VF estimate:  93.49039030063389\n",
      "new_sol.simulate(x,2000,s=1):  (93.4898120501542, 0.6860571217661591, 48847214371817.984, 2000)\n",
      "sim_res1 (s=1):  93.4898120501542\n",
      "sim_res2 (s=0.9):  93.38042923060756\n",
      "sim_res3 (s=1.1):  93.38909044550573\n",
      "sim_res2 < sim_res1 > sim_res3???:  True\n",
      "\n",
      "x/N:  1900.0\n",
      "VF estimate:  94.56440751443586\n",
      "new_sol.simulate(x,2000,s=1):  (94.56458632052787, 0.6866708593624699, 51561269762244.65, 2000)\n",
      "sim_res1 (s=1):  94.56458632052787\n",
      "sim_res2 (s=0.9):  94.45526206384453\n",
      "sim_res3 (s=1.1):  94.4637955977052\n",
      "sim_res2 < sim_res1 > sim_res3???:  True\n",
      "\n"
     ]
    }
   ],
   "source": [
    "for x in range(100,2000, 100):\n",
    "    print('x/N: ', x/N)\n",
    "    print('VF estimate: ', new_sol.build_VF(x))\n",
    "    sim_res1 = new_sol.simulate(x,2000,s=1)\n",
    "    print('new_sol.simulate(x,2000,s=1): ', sim_res1)\n",
    "    sim_res1 = sim_res1[0]\n",
    "    print('sim_res1 (s=1): ', sim_res1)\n",
    "    sim_res2 = new_sol.simulate(x,2000,s=0.9)[0]\n",
    "    print('sim_res2 (s=0.9): ', sim_res2)\n",
    "    sim_res3 = new_sol.simulate(x,2000,s=1.1)[0]\n",
    "    print('sim_res3 (s=1.1): ', sim_res3)\n",
    "    print('sim_res2 < sim_res1 > sim_res3???: ', sim_res1 > sim_res2 and sim_res1 > sim_res3)\n",
    "    print('')"
   ]
  },
  {
   "cell_type": "code",
   "execution_count": 646,
   "metadata": {},
   "outputs": [
    {
     "data": {
      "text/plain": [
       "[<matplotlib.lines.Line2D at 0x124cb1580>,\n",
       " <matplotlib.lines.Line2D at 0x124c7ad90>]"
      ]
     },
     "execution_count": 646,
     "metadata": {},
     "output_type": "execute_result"
    },
    {
     "data": {
      "image/png": "[encoded data removed]",
      "text/plain": [
       "<Figure size 432x288 with 1 Axes>"
      ]
     },
     "metadata": {
      "needs_background": "light"
     },
     "output_type": "display_data"
    }
   ],
   "source": [
    "xmax = 1e5\n",
    "xnew = np.linspace(1,xmax,100)\n",
    "vf_new = new_sol.build_VF(xnew)\n",
    "\n",
    "plt.plot(X[X < xmax], VF[X < xmax], 'o', xnew, vf_new)"
   ]
  },
  {
   "cell_type": "code",
   "execution_count": 647,
   "metadata": {},
   "outputs": [
    {
     "data": {
      "text/plain": [
       "[<matplotlib.lines.Line2D at 0x124ca2670>,\n",
       " <matplotlib.lines.Line2D at 0x124c64df0>]"
      ]
     },
     "execution_count": 647,
     "metadata": {},
     "output_type": "execute_result"
    },
    {
     "data": {
      "image/png": "[encoded data removed]",
      "text/plain": [
       "<Figure size 432x288 with 1 Axes>"
      ]
     },
     "metadata": {
      "needs_background": "light"
     },
     "output_type": "display_data"
    }
   ],
   "source": [
    "cp_new = new_sol.build_CP(X = xnew)\n",
    "\n",
    "plt.plot(X[X < xmax], CP[X < xmax], 'o', xnew, cp_new)"
   ]
  },
  {
   "cell_type": "code",
   "execution_count": 648,
   "metadata": {},
   "outputs": [
    {
     "data": {
      "text/plain": [
       "[<matplotlib.lines.Line2D at 0x124d5c250>,\n",
       " <matplotlib.lines.Line2D at 0x124d748b0>]"
      ]
     },
     "execution_count": 648,
     "metadata": {},
     "output_type": "execute_result"
    },
    {
     "data": {
      "image/png": "[encoded data removed]",
      "text/plain": [
       "<Figure size 432x288 with 1 Axes>"
      ]
     },
     "metadata": {
      "needs_background": "light"
     },
     "output_type": "display_data"
    }
   ],
   "source": [
    "wp_new = new_sol.build_WP(X = xnew)\n",
    "\n",
    "plt.plot(X[X < xmax], WP[X < xmax], 'o', xnew, wp_new)"
   ]
  },
  {
   "cell_type": "code",
   "execution_count": 649,
   "metadata": {},
   "outputs": [
    {
     "data": {
      "text/plain": [
       "[<matplotlib.lines.Line2D at 0x124dca2e0>,\n",
       " <matplotlib.lines.Line2D at 0x124dd7130>]"
      ]
     },
     "execution_count": 649,
     "metadata": {},
     "output_type": "execute_result"
    },
    {
     "data": {
      "image/png": "[encoded data removed]",
      "text/plain": [
       "<Figure size 432x288 with 1 Axes>"
      ]
     },
     "metadata": {
      "needs_background": "light"
     },
     "output_type": "display_data"
    }
   ],
   "source": [
    "xmax = 1e5\n",
    "xnew = np.linspace(1,xmax,100)\n",
    "vf_new = new_sol.build_VF(xnew)\n",
    "\n",
    "plt.plot(X[X < xmax], VF[X < xmax], 'o', xnew, vf_new)"
   ]
  },
  {
   "cell_type": "code",
   "execution_count": 650,
   "metadata": {},
   "outputs": [
    {
     "data": {
      "text/plain": [
       "[<matplotlib.lines.Line2D at 0x124c72eb0>,\n",
       " <matplotlib.lines.Line2D at 0x124cefa90>]"
      ]
     },
     "execution_count": 650,
     "metadata": {},
     "output_type": "execute_result"
    },
    {
     "data": {
      "image/png": "[encoded data removed]",
      "text/plain": [
       "<Figure size 432x288 with 1 Axes>"
      ]
     },
     "metadata": {
      "needs_background": "light"
     },
     "output_type": "display_data"
    }
   ],
   "source": [
    "cp_new = new_sol.build_CP(X = xnew)\n",
    "\n",
    "plt.plot(X[X < xmax], CP[X < xmax], 'o', xnew, cp_new)"
   ]
  },
  {
   "cell_type": "code",
   "execution_count": 651,
   "metadata": {},
   "outputs": [
    {
     "data": {
      "text/plain": [
       "[<matplotlib.lines.Line2D at 0x124c38df0>,\n",
       " <matplotlib.lines.Line2D at 0x124bfd3a0>]"
      ]
     },
     "execution_count": 651,
     "metadata": {},
     "output_type": "execute_result"
    },
    {
     "data": {
      "image/png": "[encoded data removed]",
      "text/plain": [
       "<Figure size 432x288 with 1 Axes>"
      ]
     },
     "metadata": {
      "needs_background": "light"
     },
     "output_type": "display_data"
    }
   ],
   "source": [
    "wp_new = new_sol.build_WP(X = xnew)\n",
    "\n",
    "plt.plot(X[X < xmax], WP[X < xmax], 'o', xnew, wp_new)"
   ]
  },
  {
   "cell_type": "code",
   "execution_count": 652,
   "metadata": {},
   "outputs": [
    {
     "data": {
      "text/plain": [
       "[<matplotlib.lines.Line2D at 0x124bd2d90>,\n",
       " <matplotlib.lines.Line2D at 0x1242a6460>]"
      ]
     },
     "execution_count": 652,
     "metadata": {},
     "output_type": "execute_result"
    },
    {
     "data": {
      "image/png": "[encoded data removed]",
      "text/plain": [
       "<Figure size 432x288 with 1 Axes>"
      ]
     },
     "metadata": {
      "needs_background": "light"
     },
     "output_type": "display_data"
    }
   ],
   "source": [
    "xmax = 100\n",
    "xnew = np.linspace(1,xmax,100)\n",
    "vf_new = new_sol.build_VF(xnew)\n",
    "\n",
    "plt.plot(X[X < xmax], VF[X < xmax], 'o', xnew, vf_new)"
   ]
  },
  {
   "cell_type": "code",
   "execution_count": 653,
   "metadata": {},
   "outputs": [
    {
     "data": {
      "text/plain": [
       "[<matplotlib.lines.Line2D at 0x12427f460>,\n",
       " <matplotlib.lines.Line2D at 0x12428d040>]"
      ]
     },
     "execution_count": 653,
     "metadata": {},
     "output_type": "execute_result"
    },
    {
     "data": {
      "image/png": "[encoded data removed]",
      "text/plain": [
       "<Figure size 432x288 with 1 Axes>"
      ]
     },
     "metadata": {
      "needs_background": "light"
     },
     "output_type": "display_data"
    }
   ],
   "source": [
    "cp_new = new_sol.build_CP(X = xnew)\n",
    "\n",
    "plt.plot(X[X < xmax], CP[X < xmax], 'o', xnew, cp_new)"
   ]
  },
  {
   "cell_type": "code",
   "execution_count": 654,
   "metadata": {},
   "outputs": [
    {
     "data": {
      "text/plain": [
       "[<matplotlib.lines.Line2D at 0x1242300d0>,\n",
       " <matplotlib.lines.Line2D at 0x1241d7a30>]"
      ]
     },
     "execution_count": 654,
     "metadata": {},
     "output_type": "execute_result"
    },
    {
     "data": {
      "image/png": "[encoded data removed]",
      "text/plain": [
       "<Figure size 432x288 with 1 Axes>"
      ]
     },
     "metadata": {
      "needs_background": "light"
     },
     "output_type": "display_data"
    }
   ],
   "source": [
    "wp_new = new_sol.build_WP(X = xnew)\n",
    "\n",
    "plt.plot(X[X < xmax], WP[X < xmax], 'o', xnew, wp_new)"
   ]
  },
  {
   "cell_type": "code",
   "execution_count": 655,
   "metadata": {},
   "outputs": [
    {
     "data": {
      "text/plain": [
       "array([-0.00257478,  1.01208458])"
      ]
     },
     "execution_count": 655,
     "metadata": {},
     "output_type": "execute_result"
    }
   ],
   "source": [
    "new_sol.x_params"
   ]
  }
 ],
 "metadata": {
  "kernelspec": {
   "display_name": "Python 3",
   "language": "python",
   "name": "python3"
  },
  "language_info": {
   "codemirror_mode": {
    "name": "ipython",
    "version": 3
   },
   "file_extension": ".py",
   "mimetype": "text/x-python",
   "name": "python",
   "nbconvert_exporter": "python",
   "pygments_lexer": "ipython3",
   "version": "3.8.8"
  }
 },
 "nbformat": 4,
 "nbformat_minor": 2
}
