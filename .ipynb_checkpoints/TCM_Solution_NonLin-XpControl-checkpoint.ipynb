{
 "cells": [
  {
   "cell_type": "markdown",
   "metadata": {},
   "source": [
    "# 7 Solution Methods to Solve the Growth Model with Python\n",
    "\n",
    "This notebook is part of a computational appendix that accompanies the paper\n",
    "\n",
    "> MATLAB, Python, Julia: What to Choose in Economics?\n",
    "> > Coleman, Lyon, Maliar, and Maliar (2017)\n",
    "\n",
    "In order to run the codes in this notebook you will need to install and configure a few Python packages. We recommend downloading [Anaconda](https://www.continuum.io/downloads) and/or following the instructions on [quantecon.org](https://lectures.quantecon.org/py/getting_started.html). Once your Python installation is up and running, there are a few additional packages you will need in order to run the code here. To do this, you should remove the `# ` in front of the following commands and run the block below."
   ]
  },
  {
   "cell_type": "code",
   "execution_count": 600,
   "metadata": {
    "scrolled": true
   },
   "outputs": [],
   "source": [
    "# ! pip install git+https://github.com/EconForge/interpolation.py.git\n",
    "# ! pip install quantecon\n",
    "# ! pip install csaps"
   ]
  },
  {
   "cell_type": "code",
   "execution_count": 601,
   "metadata": {},
   "outputs": [],
   "source": [
    "import numpy as np\n",
    "import scipy.linalg as la\n",
    "import scipy.optimize as opt\n",
    "import time\n",
    "import quantecon as qe\n",
    "import matplotlib.pyplot as plt\n",
    "\n",
    "from collections import namedtuple\n",
    "from scipy.interpolate import interp1d, UnivariateSpline\n",
    "from scipy.misc import derivative\n",
    "from interpolation.complete_poly import (CompletePolynomial,\n",
    "                                         n_complete, complete_polynomial,\n",
    "                                         complete_polynomial_der,\n",
    "                                         _complete_poly_impl,\n",
    "                                         _complete_poly_impl_vec,\n",
    "                                         _complete_poly_der_impl,\n",
    "                                         _complete_poly_der_impl_vec)\n",
    "from numba import jit, vectorize"
   ]
  },
  {
   "cell_type": "markdown",
   "metadata": {},
   "source": [
    "## Model\n",
    "\n",
    "This section gives a short description of the commonly used stochastic Neoclassical growth model.\n",
    "\n",
    "There is a single infinitely-lived representative agent who consumes and saves using capital. The consumer discounts the future with factor $\\beta$ and derives utility from only consumption. Additionally, saved capital will depreciate at $\\delta$.\n",
    "\n",
    "The consumer has access to a Cobb-Douglas technology which uses capital saved from the previous period to produce and is subject to stochastic productivity shocks.\n",
    "\n",
    "Productivity shocks follow an AR(1) in logs.\n",
    "\n",
    "The agent's problem can be written recursively using the following Bellman equation\n",
    "\n",
    "\n",
    "$$\n",
    "\\begin{align}\n",
    "  V(k_t, z_t) &= \\max_{k_{t+1}} u(c_t) + \\beta E \\left[ V(k_{t+1}, z_{t+1}) \\right] \\\\\n",
    "  &\\text{subject to } \\\\\n",
    "  c_t &= z_t f(k_t) + (1 - \\delta) k_t - k_{t+1} \\\\\n",
    "  \\log z_{t+1} &= \\rho \\log z_t + \\sigma \\varepsilon\n",
    "\\end{align}\n",
    "$$\n",
    "\n",
    "$$\n",
    "\\begin{align*}\n",
    "    V(X, z) &= \\max_{\\tilde{c},\\tilde{s}} \\biggl\\{0,  u(c) + \\beta E \\bigl[V(X', z') \\bigr] \\biggr\\}\\\\\n",
    "    & \\text{ s.t. } \\tilde{c} \\geq 0; \\qquad \\tilde{s} \\geq 0 \\\\\n",
    "    & \\phantom{\\text{ s.t. } }N\\tilde{c} + N\\tilde{s} \\leq X \\\\\n",
    "    & \\phantom{\\text{ s.t. } } X' = \\max \\biggl\\{0, \\bigl[X - N\\tilde{c}  - N\\tilde{s} - z \\bigl(\\frac{\\tilde{c}}{\\tilde{s}}\\bigr)^\\phi \\bigr](1 + g_x) \\biggr\\} \\\\\n",
    "    & \\phantom{\\text{ s.t. } } u(\\tilde{c}) = \\bar{u} + \\ln(\\tilde{c}) \\\\\n",
    "    & \\phantom{\\text{ s.t. } } z \\sim Exp( \\bar{z} ) \n",
    "\\end{align*} \n",
    "$$"
   ]
  },
  {
   "cell_type": "markdown",
   "metadata": {},
   "source": [
    "## Python Code\n",
    "\n",
    "We begin by defining a `namedtuple` that contains the parameters of our model. This is useful to pass the parameters around to functions that are just-in-time (JIT) compiled by `numba`."
   ]
  },
  {
   "cell_type": "code",
   "execution_count": 602,
   "metadata": {},
   "outputs": [],
   "source": [
    "#\n",
    "# Create a named tuple type that we can pass into the jitted functions\n",
    "# so that we don't have to pass parameters one by one\n",
    "#\n",
    "Params = namedtuple(\"Params\", [\"N\", \"beta\", \"g\", \"a_bar\", \"eta\", \"u_bar\"])\n",
    "\n",
    "@jit(nopython=True)\n",
    "def param_unpack(params):\n",
    "    \"Unpack parameters from the Params type\"\n",
    "    out = (params.N, params.beta, params.g,\n",
    "           params.a_bar, params.eta, params.u_bar)\n",
    "\n",
    "    return out"
   ]
  },
  {
   "cell_type": "markdown",
   "metadata": {},
   "source": [
    "We will then define various helper functions to ensure that we [don't repeat ourselves](https://lectures.quantecon.org/py/writing_good_code.html#don-t-repeat-yourself) and that the inner functions can be JIT compiled."
   ]
  },
  {
   "cell_type": "code",
   "execution_count": 603,
   "metadata": {},
   "outputs": [],
   "source": [
    "#\n",
    "# Helper functions to make sure things are jitted\n",
    "#\n",
    "@vectorize(nopython=True)\n",
    "def u(c, eta, u_bar):\n",
    "    \"log utility function\"\n",
    "    return -1e10 if c < 1e-10 else (u_bar + np.log(c)) if eta==1 else (u_bar + (c**(1-eta)/(1-eta)))\n",
    "\n",
    "@vectorize(nopython=True)\n",
    "def du(c,eta):\n",
    "    \"Derivative of log utility function\"\n",
    "    return 1e10 if c < 1e-10 else c**(-eta)\n",
    "\n",
    "@vectorize(nopython=True)\n",
    "def duinv(u,eta):\n",
    "    \"Inverse of the derivative of the CRRA utility function\"\n",
    "    return u**(-1.0/eta )\n",
    "\n",
    "@vectorize(nopython=True)\n",
    "def f(X):\n",
    "    \"production function\"\n",
    "    return X\n",
    "\n",
    "@vectorize(nopython=True)\n",
    "def df(X):\n",
    "    \"Derivative of production function\"\n",
    "    return 1\n",
    "\n",
    "@vectorize(nopython=True)\n",
    "def discount_factor(beta, a_bar, c, w):\n",
    "    \"risk adjusted discount factor\"\n",
    "    return beta*a_bar*w/(c + a_bar*w)\n",
    "\n",
    "@vectorize(nopython=True)\n",
    "def next_x(X, N, g, c, w):\n",
    "    # next period's CPR given c and w\n",
    "    return (X - N*(c + w))*(1+g)\n",
    "\n",
    "@vectorize(nopython=True)\n",
    "def vector_dampen(vec1, vec2, dampen=1):\n",
    "    return dampen*vec1 + (1-dampen)*vec2\n",
    "\n",
    "@vectorize(nopython=True)\n",
    "def expendables(X, Xp, N, g):\n",
    "    # get expendables given X and X prime\n",
    "    return (1/N)*(X - Xp/(1 + g))\n",
    "\n",
    "@vectorize(nopython=True)\n",
    "def c_from_X_Xp(X, Xp, Vp, beta, a):\n",
    "    # get expendables given X and X prime\n",
    "    return -(2*E*a - 2*E*a**2 + E*a*(Vp*beta*(4*a + Vp*beta - 4))**0.5 - E*Vp*a*beta)/(2*(a**2 - 2*a + 1))\n",
    "\n",
    "@vectorize(nopython=True)\n",
    "def c_from_exp(Vp, E, beta, a_bar):\n",
    "    if Vp <= 0: \n",
    "        return E\n",
    "    return -(2*E*a_bar - 2*E*a_bar**2 + E*a_bar*(Vp*beta*(4*a_bar + Vp*beta - 4))**0.5 - E*Vp*a_bar*beta)/(2*(a_bar**2 - 2*a_bar + 1))\n",
    "\n",
    "\n",
    "\n",
    "def x_curve(x, a, b):\n",
    "    return a + b*x\n",
    "\n",
    "\n",
    "def v_curve(x, a, b, c, d):\n",
    "    return a*np.log(x)/(c - (x**b)) + d\n",
    "\n",
    "\n",
    "@vectorize(nopython=True)\n",
    "def trunc_to_one(X):\n",
    "    return X if X >= 1 else 1\n",
    "\n",
    "@vectorize(nopython=True)\n",
    "def psurvival(a_bar, c, w):\n",
    "    return a_bar*w/(c + a_bar*w)\n"
   ]
  },
  {
   "cell_type": "markdown",
   "metadata": {},
   "source": [
    "We also now define a class that contains\n",
    "\n",
    "1. Parameters of the growth model\n",
    "2. Grids used for approximating the solution\n",
    "3. Nodes and weights used to approximate integration\n",
    "\n",
    "This again helps us maintain all of the relevant information in one place and simplifies passing it to other functions."
   ]
  },
  {
   "cell_type": "code",
   "execution_count": 604,
   "metadata": {},
   "outputs": [],
   "source": [
    "class Model(object):\n",
    "    \"\"\"\n",
    "    The stochastic Neoclassical Growth model contains\n",
    "    parameters which include\n",
    "\n",
    "    * alpha: Capital share in output\n",
    "    * beta: discount factor\n",
    "    * delta: depreciation rate\n",
    "    * gamma: risk aversion\n",
    "    * rho: persistence of the log productivity level\n",
    "    * sigma: standard deviation of shocks to log productivity\n",
    "    \"\"\"\n",
    "    def __init__(self, N=1, beta=0.95, g_x=0.05, g_a=0.015, a_bar=1e5, \n",
    "                 eta=1, u_bar=0, \n",
    "                 xmin=50, xmax=2000, nx=100):\n",
    "        # calculate g from g_a and g_x \n",
    "        g = g_a + g_x + g_a*g_x\n",
    "\n",
    "        # Household parameters\n",
    "        self.beta, self.eta, self.u_bar, = beta, eta, u_bar\n",
    "\n",
    "        # Firm/technology parameters\n",
    "        self.N, self.g, self.a_bar = N, g, a_bar\n",
    "\n",
    "        # Create t grids\n",
    "        self.xgrid = N*np.geomspace(xmin, xmax, nx)\n",
    "        \n",
    "        self.ns = nx\n",
    "        \n",
    "    def _unpack_params(self):\n",
    "        out = (self.N, self.beta, self.g, \n",
    "               self.a_bar, self.eta, self.u_bar)\n",
    "        return out\n",
    "\n",
    "    def _unpack_grids(self):\n",
    "        out = (self.xgrid)\n",
    "        return out\n"
   ]
  },
  {
   "cell_type": "markdown",
   "metadata": {},
   "source": [
    "## Solution Methods\n",
    "\n",
    "In this notebook, we describe the following solution methods:\n",
    "\n",
    "* Conventional Value Function Iteration\n",
    "* Envelope Condition Value Function Iteration\n",
    "* Envelope Condition Derivative Value Function Iteration\n",
    "* Endogenous Grid Value Function Iteration\n",
    "* Conventional Policy Function Iteration\n",
    "* Envelope Condition Policy Function Iteration\n",
    "* Euler Equation Method\n",
    "\n",
    "Each of these solution methods will have a very similar structure that follows a few basic steps:\n",
    "\n",
    "1. Guess a function (either value function or policy function).\n",
    "2. Using this function, update our guess of both the value and policy functions.\n",
    "3. Check whether the function we guessed and what it was updated to are similar enough. If so, proceed. If not, return to step 2 using the updated functions.\n",
    "4. Output the policy and value functions.\n",
    "\n",
    "In order to reduce the amount of repeated code and keep the exposition as clean as possible (the notebook is plenty long as is...), we will define a class for each solution method that inherit various properties from a general solution parent class. The parent class will contain methods which apply to all of the other solution methods such as a general solve method, computing expectations, simulating, etc... This implementation may feel strange at first if one isn't familiar with object oriented programming, but these concepts can be powerful when properly used."
   ]
  },
  {
   "cell_type": "code",
   "execution_count": 605,
   "metadata": {},
   "outputs": [],
   "source": [
    "class GeneralSolution:\n",
    "    \"\"\"\n",
    "    This is a general solution method. We define this, so that we can\n",
    "    sub-class it and define specific update methods for each particular\n",
    "    solution method\n",
    "    \"\"\"\n",
    "    def __init__(self, ncgm,  maxfev=10000, prev_sol=None):\n",
    "        self.Xinf = None\n",
    "        # Save model and approximation degree\n",
    "        self.ncgm,  self.maxfev = ncgm, maxfev\n",
    "\n",
    "        # Unpack some info from ncgm\n",
    "        N, beta, g, a_bar, eta, u_bar = self._unpack_params()\n",
    "        X = self.ncgm.xgrid\n",
    "\n",
    "        # Use parameter values from model to create a namedtuple with\n",
    "        # parameters saved inside\n",
    "        self.params = Params(N, beta, g, a_bar, eta, u_bar)\n",
    "        \n",
    "        # initialize CP and WP as None:\n",
    "        self.CP = None\n",
    "        self.WP = None\n",
    "\n",
    "        # Update to fill initial value and policy matrices\n",
    "        # If we give it another solution type then use it to\n",
    "        # generate values and policies\n",
    "        if issubclass(type(prev_sol), GeneralSolution):\n",
    "            self.XP = x_curve(X, *prev_sol.x_params)\n",
    "            self.VF = v_curve(X, *prev_sol.v_params)\n",
    "        # If we give it a tuple then assume it is (policy, value) pair\n",
    "        elif type(prev_sol) is tuple:\n",
    "            self.XP = prev_sol[0]\n",
    "            self.VF = prev_sol[1]\n",
    "        # Otherwise guess a constant value function and a policy\n",
    "        # of roughly steady state\n",
    "        else:\n",
    "            # guess VF and XP\n",
    "            self.VF = np.log(X/N) \n",
    "            self.XP = X\n",
    "\n",
    "        # Params based on guesses\n",
    "        self.x_params, _ = opt.curve_fit(x_curve, X, self.XP, maxfev=self.maxfev)\n",
    "        self.v_params, _ = opt.curve_fit(v_curve, X, self.VF, maxfev=self.maxfev)\n",
    "\n",
    "\n",
    "    def _unpack_params(self):\n",
    "        return self.ncgm._unpack_params()\n",
    "        \n",
    "    def build_VF(self, X=None):\n",
    "        \"\"\"\n",
    "        Using the current coefficients, this builds the value function\n",
    "        for all states\n",
    "        \"\"\"\n",
    "        if X is None:\n",
    "            X = self.ncgm.xgrid\n",
    "            \n",
    "        VF = v_curve(X, *self.v_params)\n",
    "\n",
    "        return VF\n",
    "    \n",
    "    def build_XP(self, X=None):\n",
    "        if X is None:\n",
    "            X = self.ncgm.xgrid\n",
    "        \n",
    "        XP = np.clip(x_curve(X, *self.x_params), 0, X*(1 + self.ncgm.g))\n",
    "        \n",
    "        return XP\n",
    "\n",
    "    def build_CP(self, E=None, VP=None, X=None, XP=None):\n",
    "        \"\"\"\n",
    "        Using the current coefficients, this builds the policy function\n",
    "        for all states\n",
    "        \"\"\"\n",
    "        N, beta, g, a_bar, eta, u_bar = self._unpack_params()\n",
    "        \n",
    "        # Check if expected value next period (EVP) and expendables (E) are given\n",
    "        if VP is None or E is None:\n",
    "            if X is None:\n",
    "                X = self.ncgm.xgrid\n",
    "                \n",
    "            if XP is None:\n",
    "                XP = self.build_XP(X)\n",
    "                \n",
    "            VP = self.compute_EV(XP)\n",
    "            E = expendables(X, XP, N, g)\n",
    "            \n",
    "        CP = np.clip(c_from_exp(VP, E, beta, a_bar), 0, E)\n",
    "\n",
    "        return CP\n",
    "    \n",
    "    def build_WP(self, CP=None, E=None, VP=None, X=None, XP=None):\n",
    "        \"\"\"\n",
    "        Using the current coefficients, this builds the policy function\n",
    "        for all states\n",
    "        \"\"\"\n",
    "        if CP is None or E is None:\n",
    "            N, beta, g, a_bar, eta, u_bar = self._unpack_params()\n",
    "            if VP is None or E is None:\n",
    "                if X is None:\n",
    "                    X = self.ncgm.xgrid\n",
    "\n",
    "                if XP is None:\n",
    "                    XP = self.build_XP(X)\n",
    "\n",
    "                VP = self.compute_EV(XP)\n",
    "                E = expendables(X, XP, N, g)\n",
    "\n",
    "                CP = np.clip(c_from_exp(VP, E, beta, a_bar), 0, X/self.ncgm.N)\n",
    "            else:\n",
    "                CP = self.build_CP(E=E, VP=VP)\n",
    "            \n",
    "        return E - CP\n",
    "\n",
    "    def update_v(self, new_v_params, dampen=1):\n",
    "        \"\"\"\n",
    "        Updates the coefficients for the value function\n",
    "        \"\"\"\n",
    "        self.v_params = (1-dampen)*self.v_params + dampen*new_v_params\n",
    "\n",
    "        return None\n",
    "\n",
    "    def update_x(self, new_x_params, dampen=1):\n",
    "        \"\"\"\n",
    "        Updates the coefficients for the policy function\n",
    "        \"\"\"\n",
    "        self.x_params = (1-dampen)*self.x_params + dampen*new_x_params\n",
    "\n",
    "    def update(self):\n",
    "        \"\"\"\n",
    "        Given the current state of everything in solution, update the\n",
    "        value and policy coefficients\n",
    "        \"\"\"\n",
    "        emsg = \"The update method is implemented in solution specific classes\"\n",
    "        emsg += \"\\nand cannot be called from `GeneralSolution`\"\n",
    "        raise ValueError(emsg)\n",
    "        \n",
    "    def compute_spline(self, XP, VF):\n",
    "        v_spline = interp1d(\n",
    "            self.ncgm.xgrid, \n",
    "            VF, \n",
    "            kind=self.interpolator, \n",
    "            fill_value=\"extrapolate\",\n",
    "            assume_sorted=True\n",
    "        )\n",
    "      \n",
    "        return v_spline\n",
    "    \n",
    "    def compute_params(self, XP, VF):\n",
    "        new_x_params, _ = opt.curve_fit(x_curve, self.ncgm.xgrid, XP, maxfev=self.maxfev)\n",
    "        new_v_params, _ = opt.curve_fit(v_curve, self.ncgm.xgrid, VF, maxfev=self.maxfev) \n",
    "        \n",
    "        return new_x_params, new_v_params\n",
    "\n",
    "    def compute_EV_scalar(self, XP):\n",
    "        val = v_curve(trunc_to_one(XP), *self.v_params)\n",
    "        \n",
    "        return val\n",
    "\n",
    "    def compute_EV(self, XP=None):\n",
    "        \"\"\"\n",
    "        Compute the expected value\n",
    "        \"\"\"\n",
    "        if XP is None:\n",
    "            # Use policy to compute XP\n",
    "            XP = self.build_XP()\n",
    "        \n",
    "        EV = v_curve(trunc_to_one(XP), *self.v_params)\n",
    "        \n",
    "        return EV\n",
    "\n",
    "\n",
    "    def compute_distance(self, XP, VF):\n",
    "        \"\"\"\n",
    "        Computes average distance between policy functions\n",
    "        \"\"\"\n",
    "        return np.max(np.abs(1.0 - (XP+1e-12)/(self.XP+1e-12)))\n",
    "    \n",
    "\n",
    "    def solve(self, tol=1e-6, maxiter=2500, verbose=False, nskipprint=25):\n",
    "        # Iterate until convergence\n",
    "        dist, it = 10.0, 0\n",
    "        while (dist>tol) and (it<maxiter):\n",
    "            # Run solution specific update code\n",
    "            XP, VF = self.update()\n",
    "\n",
    "            # Compute new policy and value coeffs\n",
    "            new_x_params,  new_v_params = self.compute_params(XP, VF)\n",
    "\n",
    "            # Update distance and iterations\n",
    "            dist = self.compute_distance(XP, VF)\n",
    "            self.XP, self.VF = XP, VF\n",
    "            it += 1\n",
    "            if verbose and it%nskipprint == 0:\n",
    "                print(it, dist)\n",
    "\n",
    "            # Update all coefficients\n",
    "            self.update_x(new_x_params)\n",
    "            self.update_v(new_v_params)\n",
    "\n",
    "        # After finishing iteration, iterate to convergence using policy\n",
    "        if not isinstance(self, IterateOnPolicy):\n",
    "            sol_iop = IterateOnPolicy(self.ncgm, self.maxfev, self)\n",
    "            XP, VF = sol_iop.solve(tol=1e-6)\n",
    "\n",
    "            # Save final versions of everything\n",
    "            self.XP, self.VF = XP, VF\n",
    "            \n",
    "            new_x_params, new_v_params = sol_iop.compute_params(XP, VF)\n",
    "            self.update_x(new_x_params)\n",
    "            self.update_v(new_v_params)\n",
    "\n",
    "        return self.XP, self.VF\n",
    "        \n",
    "\n",
    "    def simulate(self, X=None, T=1000, s=1):\n",
    "        \"\"\"\n",
    "        Simulates the neoclassical growth model with policy function\n",
    "        given by self.KP. Simulates for `T` periods and discarsd first\n",
    "        nburn `observations`\n",
    "        \"\"\"\n",
    "        N, beta, g, a_bar, eta, u_bar = self._unpack_params()\n",
    "        # X is starting point, if None, set to N*274\n",
    "        if X is None:\n",
    "            X = N*274\n",
    "            \n",
    "        def recurse_bellman(x, t):\n",
    "            if x <= 0:\n",
    "                return 0, 0, x, t\n",
    "            if t >= T:\n",
    "                return u(x/N, eta, u_bar), 1, x, T\n",
    "            \n",
    "            c_corner = x/N \n",
    "            u_corner = u(c_corner, eta, u_bar)\n",
    "            \n",
    "            xp = self.build_XP(x)\n",
    "            e = expendables(x, xp, N, g)\n",
    "            evp = self.compute_EV_scalar(xp)\n",
    "            \n",
    "            c = self.build_CP(VP=evp, E=e)\n",
    "            w = e - c\n",
    "            \n",
    "            if s != 1:\n",
    "                c = s*c\n",
    "                w = s*w\n",
    "                xp = next_x(x, N, g, c, w)\n",
    "            \n",
    "            if w <= 0:\n",
    "                return u_corner, 0, 0, t+1\n",
    "                \n",
    "            m_t = psurvival(a_bar, c, w)\n",
    "            u_t = u(c, eta, u_bar)\n",
    "            \n",
    "            vp, mp, final_state, nperiods = recurse_bellman(xp, t+1)\n",
    "            \n",
    "            if u_t + beta*m_t*vp < u_corner:\n",
    "                return u_corner, 0, 0, t+1\n",
    "            \n",
    "            return u_t + beta*m_t*vp, m_t*mp, final_state, nperiods\n",
    "        \n",
    "        return recurse_bellman(X, 0)\n",
    "        \n",
    "    \n",
    "    def compute_Xdot(self, X=None, XP=None):\n",
    "        if X is None:\n",
    "            X = self.ncgm.xgrid\n",
    "        if XP is None:\n",
    "            XP = self.build_XP(X)\n",
    "        \n",
    "        return XP - X\n"
   ]
  },
  {
   "cell_type": "markdown",
   "metadata": {},
   "source": [
    "### Iterating to Convergence (given policy)\n",
    "\n",
    "This isn't one of the methods described above, but it is used as an element of a few of our methods (and also as a way to get a first guess at the value function). This method takes an initial policy function, $\\bar{k}(k_t, z_t)$, as given, and then, without changing the policy, iterates until the value function has converged.\n",
    "\n",
    "Thus the \"update section\" of the algorithm in this instance would be:\n",
    "\n",
    "* Leave policy function unchanged\n",
    "* At each point of grid, $(k_t, z_t)$, compute $\\hat{V}(k_t, z_t) = u(c(\\bar{k}(k_t, z_t))) + \\beta E \\left[ V(\\bar{k}(k_t, z_t), z_{t+1}) \\right]$\n",
    "\n",
    "We override two of the methods from `GeneralSolution`\n",
    "\n",
    "* `compute_distance` because when we are iterating to convergence on the value function we want to check distnace using value function rather than policy function\n",
    "* `compute_coefficients` because we don't need to update the policy functions coefficients.\n",
    "\n",
    "The `update` method just repeatedly applies a particular policy function to update the value function."
   ]
  },
  {
   "cell_type": "code",
   "execution_count": 606,
   "metadata": {},
   "outputs": [],
   "source": [
    "class IterateOnPolicy(GeneralSolution):\n",
    "    \"\"\"\n",
    "    Subclass of the general solution method. The update method for this\n",
    "    class simply computes the fixed point of the value function given\n",
    "    a specific policy\n",
    "    \"\"\"\n",
    "    def compute_distance(self, XP, VF):\n",
    "        \"\"\"\n",
    "        Computes distance between policy functions. When we are\n",
    "        iterating on a specific policy, we would like to compute\n",
    "        distances by the difference between VFs\n",
    "        \"\"\"\n",
    "        return np.max(np.abs(1.0 - (VF )/(self.VF )))\n",
    "\n",
    "    \n",
    "    def compute_params(self, XP, VF):\n",
    "        new_v_params, _ = opt.curve_fit(v_curve, self.ncgm.xgrid, VF, maxfev=self.maxfev) \n",
    "        \n",
    "        return self.x_params, new_v_params\n",
    "    \n",
    "    def update(self):\n",
    "        # Unpack parameters\n",
    "        N, beta, g, a_bar, eta, u_bar = self._unpack_params()\n",
    "        X = self.ncgm.xgrid\n",
    "        \n",
    "        if self.CP is None or self.WP is None:\n",
    "            VP = self.compute_EV(self.XP)\n",
    "            E = expendables(X, self.XP, N, g)\n",
    "            self.CP = self.build_CP(VP=VP, E=E)\n",
    "            self.WP = E - self.CP\n",
    "        \n",
    "        # Update the value function\n",
    "        VF = u(self.CP, eta, u_bar) + discount_factor(beta, a_bar, self.CP, self.WP)*np.maximum(self.compute_EV(self.XP), np.zeros(self.ncgm.ns))\n",
    "\n",
    "        return self.XP, VF"
   ]
  },
  {
   "cell_type": "markdown",
   "metadata": {},
   "source": [
    "### Conventional Value Function Iteration\n",
    "\n",
    "This is one of the first solution methods for macroeconomics a graduate student in economics typically learns.\n",
    "\n",
    "In this solution method, one takes as given a value function, $V(k_t, z_t)$, and then solves for the optimal policy given the value function.\n",
    "\n",
    "The update section takes the form:\n",
    "\n",
    "* For each point, $(k_t, z_t)$, numerically solve for $c^*(k_t, z_t)$ to satisfy the first order condition $u'(c^*) = \\beta E \\left[ V_1((1 - \\delta) k_t + z_t f(k_t) - c^*, z_{t+1}) \\right]$\n",
    "* Define $k^*(k_t, z_t) = (1 - \\delta) k_t + z_t f(k_t) - c^*(k_t, z_t)$\n",
    "* Update value function according to $\\hat{V}(k_t, z_t) = u(c^*(k_t, z_t)) + \\beta E \\left[ V(k^*(k_t, z_t), z_{t+1}) \\right]$\n",
    "\n",
    "\n",
    "* For each point, $(X_t, z_t)$, numerically solve for $c^*(X_t, z_t)$ to satisfy the first order condition $u'(\\tilde{c}^\\ast) = \\beta E \\left[ V_1((1 - \\delta) k_t + z_t f(k_t) - c^*, z_{t+1}) \\right]$\n",
    "* Define $k^*(k_t, z_t) = (1 - \\delta) k_t + z_t f(k_t) - c^*(k_t, z_t)$\n",
    "* Update value function according to $\\hat{V}(k_t, z_t) = u(c^*(k_t, z_t)) + \\beta E \\left[ V(k^*(k_t, z_t), z_{t+1}) \\right]$\n",
    "\n",
    "\n"
   ]
  },
  {
   "cell_type": "code",
   "execution_count": 607,
   "metadata": {},
   "outputs": [],
   "source": [
    "class VFI(GeneralSolution):\n",
    "    \"\"\"\n",
    "    Updates the coefficients and value functions using the VFI\n",
    "    method\n",
    "    \"\"\"\n",
    "    def update(self):\n",
    "        \"\"\"\n",
    "        Updates the coefficients and value functions using the VFI_ECM\n",
    "        method\n",
    "        \"\"\"\n",
    "        # Unpack parameters\n",
    "        N, beta, g, a_bar, eta, u_bar = self._unpack_params()\n",
    "        xgrid = self.ncgm.xgrid\n",
    "        n_state = xgrid.shape[0]\n",
    "\n",
    "        # Get the policy and update it\n",
    "        XP = np.empty(n_state)\n",
    "        VF = np.empty(n_state)\n",
    "        for i_s in range(n_state):\n",
    "            # Pull out current vals\n",
    "            X = xgrid[i_s]\n",
    "            def _f(_xp):\n",
    "                EV = self.compute_EV_scalar(_xp)\n",
    "                E = expendables(X, _xp, N, g)\n",
    "            \n",
    "                if E <= 0:\n",
    "                    return -u(X/N, 1, u_bar)**2\n",
    "                \n",
    "                _cp = self.build_CP(VP=EV, E=E)\n",
    "                _wp = E - _cp\n",
    "                \n",
    "                return -(u(_cp, 1, u_bar) + discount_factor(beta, a_bar, _cp, _wp)*EV)**2\n",
    "                \n",
    "            \n",
    "            _xp = opt.fminbound(_f, 1, X*(1+g), xtol=1e-12)\n",
    "            EV = self.compute_EV_scalar(_xp)\n",
    "            E = expendables(X, _xp, N, g)\n",
    "            if E <= 0:\n",
    "                _xp = 0\n",
    "                _vf = u(X/N, 1, u_bar)\n",
    "            else:\n",
    "                cp = self.build_CP(VP=EV, E=E)\n",
    "                wp = E - cp\n",
    "                \n",
    "                _vf = u(cp, 1, u_bar) + discount_factor(beta, a_bar, cp, wp)*EV\n",
    "             \n",
    "            if _vf < 0:\n",
    "                XP[i_s] = 0\n",
    "                VF[i_s] = u(X/N, eta, u_bar)\n",
    "            else:                \n",
    "                XP[i_s] = _xp\n",
    "                VF[i_s] = _vf\n",
    "\n",
    "        return XP, VF\n"
   ]
  },
  {
   "cell_type": "markdown",
   "metadata": {},
   "source": [
    "## A Horse Race\n",
    "\n",
    "We can now run a horse race to compare the methods in terms of both accuracy and speed."
   ]
  },
  {
   "cell_type": "code",
   "execution_count": 608,
   "metadata": {
    "scrolled": true
   },
   "outputs": [
    {
     "name": "stderr",
     "output_type": "stream",
     "text": [
      "/Users/mikemahon/anaconda3/lib/python3.8/site-packages/scipy/optimize/minpack.py:828: OptimizeWarning: Covariance of the parameters could not be estimated\n",
      "  warnings.warn('Covariance of the parameters could not be estimated',\n"
     ]
    },
    {
     "name": "stdout",
     "output_type": "stream",
     "text": [
      "vp done\n",
      "25 0.0013993817111812579\n"
     ]
    },
    {
     "name": "stderr",
     "output_type": "stream",
     "text": [
      "<ipython-input-603-8e8cfbd80eb2>:66: RuntimeWarning: overflow encountered in power\n",
      "  return a*np.log(x)/(c - (x**b)) + d\n",
      "<ipython-input-603-8e8cfbd80eb2>:66: RuntimeWarning: overflow encountered in double_scalars\n",
      "  return a*np.log(x)/(c - (x**b)) + d\n"
     ]
    },
    {
     "name": "stdout",
     "output_type": "stream",
     "text": [
      "50 1.1455716385055936e-05\n",
      "75 4.839720014326865e-05\n",
      "100 0.00011405641926254262\n",
      "125 0.0021390300668397977\n",
      "150 4.171976192046678e-05\n",
      "175 4.7156669939818485e-05\n",
      "200 8.799469990194986e-05\n",
      "225 0.00016793447973229014\n",
      "250 0.00044006840495613986\n",
      "275 4.82233256666742e-05\n",
      "300 8.889063515216122e-05\n",
      "325 0.00017674557290470183\n",
      "350 0.0006339946843902933\n",
      "375 0.0028275504818806585\n",
      "400 1.425419576173148e-05\n",
      "425 6.246782968721831e-05\n",
      "450 0.00010920250173529489\n",
      "475 0.01005201319476412\n",
      "500 0.027699993370390086\n",
      "525 5.6086812844413636e-05\n",
      "550 0.00011678260186709366\n",
      "575 0.0016585320552915395\n",
      "600 7.147025042253397e-05\n",
      "625 3.5065254631039267e-05\n",
      "650 0.00014510053249749966\n",
      "675 0.00013781313745253598\n",
      "700 0.0002393454000502171\n",
      "725 0.00259515114878317\n",
      "750 0.0001113106190253621\n",
      "775 0.00037646984342232237\n",
      "800 4.680789166955357e-05\n",
      "825 8.777984802654792e-05\n",
      "850 0.0001681226148533277\n",
      "875 0.0004394787180919124\n",
      "900 3.885825046179292e-06\n",
      "925 6.12158446333666e-06\n",
      "950 4.761523077156937e-05\n",
      "975 0.00011488551279281722\n",
      "1000 0.0022199151957531527\n",
      "1025 5.08778267553911e-05\n"
     ]
    },
    {
     "ename": "KeyboardInterrupt",
     "evalue": "",
     "output_type": "error",
     "traceback": [
      "\u001b[0;31m---------------------------------------------------------------------------\u001b[0m",
      "\u001b[0;31mKeyboardInterrupt\u001b[0m                         Traceback (most recent call last)",
      "\u001b[0;32m<ipython-input-608-d6bf4da6b4ba>\u001b[0m in \u001b[0;36m<module>\u001b[0;34m\u001b[0m\n\u001b[1;32m     13\u001b[0m \u001b[0mnew_sol\u001b[0m \u001b[0;34m=\u001b[0m \u001b[0mVFI\u001b[0m\u001b[0;34m(\u001b[0m\u001b[0mncgm\u001b[0m\u001b[0;34m,\u001b[0m \u001b[0mmaxfev\u001b[0m\u001b[0;34m=\u001b[0m\u001b[0;36m100000\u001b[0m\u001b[0;34m,\u001b[0m \u001b[0mprev_sol\u001b[0m\u001b[0;34m=\u001b[0m\u001b[0;32mNone\u001b[0m\u001b[0;34m)\u001b[0m\u001b[0;34m\u001b[0m\u001b[0;34m\u001b[0m\u001b[0m\n\u001b[1;32m     14\u001b[0m \u001b[0mts\u001b[0m \u001b[0;34m=\u001b[0m \u001b[0mtime\u001b[0m\u001b[0;34m.\u001b[0m\u001b[0mtime\u001b[0m\u001b[0;34m(\u001b[0m\u001b[0;34m)\u001b[0m\u001b[0;34m\u001b[0m\u001b[0;34m\u001b[0m\u001b[0m\n\u001b[0;32m---> 15\u001b[0;31m \u001b[0mnew_sol\u001b[0m\u001b[0;34m.\u001b[0m\u001b[0msolve\u001b[0m\u001b[0;34m(\u001b[0m\u001b[0mtol\u001b[0m\u001b[0;34m=\u001b[0m\u001b[0;36m1e-6\u001b[0m\u001b[0;34m,\u001b[0m \u001b[0mverbose\u001b[0m\u001b[0;34m=\u001b[0m\u001b[0;32mTrue\u001b[0m\u001b[0;34m,\u001b[0m \u001b[0mnskipprint\u001b[0m\u001b[0;34m=\u001b[0m\u001b[0;36m25\u001b[0m\u001b[0;34m)\u001b[0m\u001b[0;34m\u001b[0m\u001b[0;34m\u001b[0m\u001b[0m\n\u001b[0m\u001b[1;32m     16\u001b[0m \u001b[0mtime_took\u001b[0m \u001b[0;34m=\u001b[0m \u001b[0mtime\u001b[0m\u001b[0;34m.\u001b[0m\u001b[0mtime\u001b[0m\u001b[0;34m(\u001b[0m\u001b[0;34m)\u001b[0m \u001b[0;34m-\u001b[0m \u001b[0mts\u001b[0m\u001b[0;34m\u001b[0m\u001b[0;34m\u001b[0m\u001b[0m\n",
      "\u001b[0;32m<ipython-input-605-66f8d80e8c72>\u001b[0m in \u001b[0;36msolve\u001b[0;34m(self, tol, maxiter, verbose, nskipprint)\u001b[0m\n\u001b[1;32m    182\u001b[0m         \u001b[0;32mwhile\u001b[0m \u001b[0;34m(\u001b[0m\u001b[0mdist\u001b[0m\u001b[0;34m>\u001b[0m\u001b[0mtol\u001b[0m\u001b[0;34m)\u001b[0m \u001b[0;32mand\u001b[0m \u001b[0;34m(\u001b[0m\u001b[0mit\u001b[0m\u001b[0;34m<\u001b[0m\u001b[0mmaxiter\u001b[0m\u001b[0;34m)\u001b[0m\u001b[0;34m:\u001b[0m\u001b[0;34m\u001b[0m\u001b[0;34m\u001b[0m\u001b[0m\n\u001b[1;32m    183\u001b[0m             \u001b[0;31m# Run solution specific update code\u001b[0m\u001b[0;34m\u001b[0m\u001b[0;34m\u001b[0m\u001b[0;34m\u001b[0m\u001b[0m\n\u001b[0;32m--> 184\u001b[0;31m             \u001b[0mXP\u001b[0m\u001b[0;34m,\u001b[0m \u001b[0mVF\u001b[0m \u001b[0;34m=\u001b[0m \u001b[0mself\u001b[0m\u001b[0;34m.\u001b[0m\u001b[0mupdate\u001b[0m\u001b[0;34m(\u001b[0m\u001b[0;34m)\u001b[0m\u001b[0;34m\u001b[0m\u001b[0;34m\u001b[0m\u001b[0m\n\u001b[0m\u001b[1;32m    185\u001b[0m \u001b[0;34m\u001b[0m\u001b[0m\n\u001b[1;32m    186\u001b[0m             \u001b[0;31m# Compute new policy and value coeffs\u001b[0m\u001b[0;34m\u001b[0m\u001b[0;34m\u001b[0m\u001b[0;34m\u001b[0m\u001b[0m\n",
      "\u001b[0;32m<ipython-input-607-60a2eba25e14>\u001b[0m in \u001b[0;36mupdate\u001b[0;34m(self)\u001b[0m\n\u001b[1;32m     33\u001b[0m \u001b[0;34m\u001b[0m\u001b[0m\n\u001b[1;32m     34\u001b[0m \u001b[0;34m\u001b[0m\u001b[0m\n\u001b[0;32m---> 35\u001b[0;31m             \u001b[0m_xp\u001b[0m \u001b[0;34m=\u001b[0m \u001b[0mopt\u001b[0m\u001b[0;34m.\u001b[0m\u001b[0mfminbound\u001b[0m\u001b[0;34m(\u001b[0m\u001b[0m_f\u001b[0m\u001b[0;34m,\u001b[0m \u001b[0;36m1\u001b[0m\u001b[0;34m,\u001b[0m \u001b[0mX\u001b[0m\u001b[0;34m*\u001b[0m\u001b[0;34m(\u001b[0m\u001b[0;36m1\u001b[0m\u001b[0;34m+\u001b[0m\u001b[0mg\u001b[0m\u001b[0;34m)\u001b[0m\u001b[0;34m,\u001b[0m \u001b[0mxtol\u001b[0m\u001b[0;34m=\u001b[0m\u001b[0;36m1e-12\u001b[0m\u001b[0;34m)\u001b[0m\u001b[0;34m\u001b[0m\u001b[0;34m\u001b[0m\u001b[0m\n\u001b[0m\u001b[1;32m     36\u001b[0m             \u001b[0mEV\u001b[0m \u001b[0;34m=\u001b[0m \u001b[0mself\u001b[0m\u001b[0;34m.\u001b[0m\u001b[0mcompute_EV_scalar\u001b[0m\u001b[0;34m(\u001b[0m\u001b[0m_xp\u001b[0m\u001b[0;34m)\u001b[0m\u001b[0;34m\u001b[0m\u001b[0;34m\u001b[0m\u001b[0m\n\u001b[1;32m     37\u001b[0m             \u001b[0mE\u001b[0m \u001b[0;34m=\u001b[0m \u001b[0mexpendables\u001b[0m\u001b[0;34m(\u001b[0m\u001b[0mX\u001b[0m\u001b[0;34m,\u001b[0m \u001b[0m_xp\u001b[0m\u001b[0;34m,\u001b[0m \u001b[0mN\u001b[0m\u001b[0;34m,\u001b[0m \u001b[0mg\u001b[0m\u001b[0;34m)\u001b[0m\u001b[0;34m\u001b[0m\u001b[0;34m\u001b[0m\u001b[0m\n",
      "\u001b[0;32m~/anaconda3/lib/python3.8/site-packages/scipy/optimize/optimize.py\u001b[0m in \u001b[0;36mfminbound\u001b[0;34m(func, x1, x2, args, xtol, maxfun, full_output, disp)\u001b[0m\n\u001b[1;32m   1907\u001b[0m                'disp': disp}\n\u001b[1;32m   1908\u001b[0m \u001b[0;34m\u001b[0m\u001b[0m\n\u001b[0;32m-> 1909\u001b[0;31m     \u001b[0mres\u001b[0m \u001b[0;34m=\u001b[0m \u001b[0m_minimize_scalar_bounded\u001b[0m\u001b[0;34m(\u001b[0m\u001b[0mfunc\u001b[0m\u001b[0;34m,\u001b[0m \u001b[0;34m(\u001b[0m\u001b[0mx1\u001b[0m\u001b[0;34m,\u001b[0m \u001b[0mx2\u001b[0m\u001b[0;34m)\u001b[0m\u001b[0;34m,\u001b[0m \u001b[0margs\u001b[0m\u001b[0;34m,\u001b[0m \u001b[0;34m**\u001b[0m\u001b[0moptions\u001b[0m\u001b[0;34m)\u001b[0m\u001b[0;34m\u001b[0m\u001b[0;34m\u001b[0m\u001b[0m\n\u001b[0m\u001b[1;32m   1910\u001b[0m     \u001b[0;32mif\u001b[0m \u001b[0mfull_output\u001b[0m\u001b[0;34m:\u001b[0m\u001b[0;34m\u001b[0m\u001b[0;34m\u001b[0m\u001b[0m\n\u001b[1;32m   1911\u001b[0m         \u001b[0;32mreturn\u001b[0m \u001b[0mres\u001b[0m\u001b[0;34m[\u001b[0m\u001b[0;34m'x'\u001b[0m\u001b[0;34m]\u001b[0m\u001b[0;34m,\u001b[0m \u001b[0mres\u001b[0m\u001b[0;34m[\u001b[0m\u001b[0;34m'fun'\u001b[0m\u001b[0;34m]\u001b[0m\u001b[0;34m,\u001b[0m \u001b[0mres\u001b[0m\u001b[0;34m[\u001b[0m\u001b[0;34m'status'\u001b[0m\u001b[0;34m]\u001b[0m\u001b[0;34m,\u001b[0m \u001b[0mres\u001b[0m\u001b[0;34m[\u001b[0m\u001b[0;34m'nfev'\u001b[0m\u001b[0;34m]\u001b[0m\u001b[0;34m\u001b[0m\u001b[0;34m\u001b[0m\u001b[0m\n",
      "\u001b[0;32m~/anaconda3/lib/python3.8/site-packages/scipy/optimize/optimize.py\u001b[0m in \u001b[0;36m_minimize_scalar_bounded\u001b[0;34m(func, bounds, args, xatol, maxiter, disp, **unknown_options)\u001b[0m\n\u001b[1;32m   1956\u001b[0m     \u001b[0mrat\u001b[0m \u001b[0;34m=\u001b[0m \u001b[0me\u001b[0m \u001b[0;34m=\u001b[0m \u001b[0;36m0.0\u001b[0m\u001b[0;34m\u001b[0m\u001b[0;34m\u001b[0m\u001b[0m\n\u001b[1;32m   1957\u001b[0m     \u001b[0mx\u001b[0m \u001b[0;34m=\u001b[0m \u001b[0mxf\u001b[0m\u001b[0;34m\u001b[0m\u001b[0;34m\u001b[0m\u001b[0m\n\u001b[0;32m-> 1958\u001b[0;31m     \u001b[0mfx\u001b[0m \u001b[0;34m=\u001b[0m \u001b[0mfunc\u001b[0m\u001b[0;34m(\u001b[0m\u001b[0mx\u001b[0m\u001b[0;34m,\u001b[0m \u001b[0;34m*\u001b[0m\u001b[0margs\u001b[0m\u001b[0;34m)\u001b[0m\u001b[0;34m\u001b[0m\u001b[0;34m\u001b[0m\u001b[0m\n\u001b[0m\u001b[1;32m   1959\u001b[0m     \u001b[0mnum\u001b[0m \u001b[0;34m=\u001b[0m \u001b[0;36m1\u001b[0m\u001b[0;34m\u001b[0m\u001b[0;34m\u001b[0m\u001b[0m\n\u001b[1;32m   1960\u001b[0m     \u001b[0mfmin_data\u001b[0m \u001b[0;34m=\u001b[0m \u001b[0;34m(\u001b[0m\u001b[0;36m1\u001b[0m\u001b[0;34m,\u001b[0m \u001b[0mxf\u001b[0m\u001b[0;34m,\u001b[0m \u001b[0mfx\u001b[0m\u001b[0;34m)\u001b[0m\u001b[0;34m\u001b[0m\u001b[0;34m\u001b[0m\u001b[0m\n",
      "\u001b[0;32m<ipython-input-607-60a2eba25e14>\u001b[0m in \u001b[0;36m_f\u001b[0;34m(_xp)\u001b[0m\n\u001b[1;32m     21\u001b[0m             \u001b[0mX\u001b[0m \u001b[0;34m=\u001b[0m \u001b[0mxgrid\u001b[0m\u001b[0;34m[\u001b[0m\u001b[0mi_s\u001b[0m\u001b[0;34m]\u001b[0m\u001b[0;34m\u001b[0m\u001b[0;34m\u001b[0m\u001b[0m\n\u001b[1;32m     22\u001b[0m             \u001b[0;32mdef\u001b[0m \u001b[0m_f\u001b[0m\u001b[0;34m(\u001b[0m\u001b[0m_xp\u001b[0m\u001b[0;34m)\u001b[0m\u001b[0;34m:\u001b[0m\u001b[0;34m\u001b[0m\u001b[0;34m\u001b[0m\u001b[0m\n\u001b[0;32m---> 23\u001b[0;31m                 \u001b[0mEV\u001b[0m \u001b[0;34m=\u001b[0m \u001b[0mself\u001b[0m\u001b[0;34m.\u001b[0m\u001b[0mcompute_EV_scalar\u001b[0m\u001b[0;34m(\u001b[0m\u001b[0m_xp\u001b[0m\u001b[0;34m)\u001b[0m\u001b[0;34m\u001b[0m\u001b[0;34m\u001b[0m\u001b[0m\n\u001b[0m\u001b[1;32m     24\u001b[0m                 \u001b[0mE\u001b[0m \u001b[0;34m=\u001b[0m \u001b[0mexpendables\u001b[0m\u001b[0;34m(\u001b[0m\u001b[0mX\u001b[0m\u001b[0;34m,\u001b[0m \u001b[0m_xp\u001b[0m\u001b[0;34m,\u001b[0m \u001b[0mN\u001b[0m\u001b[0;34m,\u001b[0m \u001b[0mg\u001b[0m\u001b[0;34m)\u001b[0m\u001b[0;34m\u001b[0m\u001b[0;34m\u001b[0m\u001b[0m\n\u001b[1;32m     25\u001b[0m \u001b[0;34m\u001b[0m\u001b[0m\n",
      "\u001b[0;32m<ipython-input-605-66f8d80e8c72>\u001b[0m in \u001b[0;36mcompute_EV_scalar\u001b[0;34m(self, XP)\u001b[0m\n\u001b[1;32m    153\u001b[0m \u001b[0;34m\u001b[0m\u001b[0m\n\u001b[1;32m    154\u001b[0m     \u001b[0;32mdef\u001b[0m \u001b[0mcompute_EV_scalar\u001b[0m\u001b[0;34m(\u001b[0m\u001b[0mself\u001b[0m\u001b[0;34m,\u001b[0m \u001b[0mXP\u001b[0m\u001b[0;34m)\u001b[0m\u001b[0;34m:\u001b[0m\u001b[0;34m\u001b[0m\u001b[0;34m\u001b[0m\u001b[0m\n\u001b[0;32m--> 155\u001b[0;31m         \u001b[0mval\u001b[0m \u001b[0;34m=\u001b[0m \u001b[0mv_curve\u001b[0m\u001b[0;34m(\u001b[0m\u001b[0mtrunc_to_one\u001b[0m\u001b[0;34m(\u001b[0m\u001b[0mXP\u001b[0m\u001b[0;34m)\u001b[0m\u001b[0;34m,\u001b[0m \u001b[0;34m*\u001b[0m\u001b[0mself\u001b[0m\u001b[0;34m.\u001b[0m\u001b[0mv_params\u001b[0m\u001b[0;34m)\u001b[0m\u001b[0;34m\u001b[0m\u001b[0;34m\u001b[0m\u001b[0m\n\u001b[0m\u001b[1;32m    156\u001b[0m \u001b[0;34m\u001b[0m\u001b[0m\n\u001b[1;32m    157\u001b[0m         \u001b[0;32mreturn\u001b[0m \u001b[0mval\u001b[0m\u001b[0;34m\u001b[0m\u001b[0;34m\u001b[0m\u001b[0m\n",
      "\u001b[0;31mKeyboardInterrupt\u001b[0m: "
     ]
    }
   ],
   "source": [
    "ncgm = Model(N=1, a_bar=1e5, beta=0.95, g_x=0.05, xmin=200, xmax=5000, nx=10)\n",
    "\n",
    "# First guess\n",
    "vp = IterateOnPolicy(ncgm, maxfev=50000)\n",
    "vp.solve(tol=1e-9)\n",
    "\n",
    "np.random.seed(61089)\n",
    "\n",
    "\n",
    "\n",
    "print('vp done')\n",
    "new_sol = vp\n",
    "new_sol = VFI(ncgm, maxfev=100000, prev_sol=None)\n",
    "ts = time.time()\n",
    "new_sol.solve(tol=1e-6, verbose=True, nskipprint=25)\n",
    "time_took = time.time() - ts"
   ]
  },
  {
   "cell_type": "code",
   "execution_count": 609,
   "metadata": {},
   "outputs": [],
   "source": [
    "N, beta, g, a_bar, eta, u_bar = new_sol._unpack_params()\n",
    "X = new_sol.ncgm.xgrid\n",
    "VF = new_sol.VF\n",
    "XP = new_sol.XP\n",
    "CP = new_sol.build_CP()\n",
    "WP = new_sol.build_WP()"
   ]
  },
  {
   "cell_type": "code",
   "execution_count": 610,
   "metadata": {},
   "outputs": [
    {
     "data": {
      "text/plain": [
       "array([ 50.        ,  58.32645198,  68.03950001,  79.3700526 ,\n",
       "        92.58747123, 108.00597389, 125.99210499, 146.97344923,\n",
       "       171.44879657, 200.        ])"
      ]
     },
     "execution_count": 610,
     "metadata": {},
     "output_type": "execute_result"
    }
   ],
   "source": [
    "X"
   ]
  },
  {
   "cell_type": "code",
   "execution_count": 611,
   "metadata": {},
   "outputs": [
    {
     "data": {
      "text/plain": [
       "array([3399.99553591, 3400.15230657, 3400.3087358 , 3400.46482639,\n",
       "       3400.62062287, 3400.7761667 , 3400.93149397, 3401.08663573,\n",
       "       3401.24161859, 3401.39646538])"
      ]
     },
     "execution_count": 611,
     "metadata": {},
     "output_type": "execute_result"
    }
   ],
   "source": [
    "VF"
   ]
  },
  {
   "cell_type": "code",
   "execution_count": 612,
   "metadata": {},
   "outputs": [
    {
     "data": {
      "text/plain": [
       "array([1.00000003, 1.02268378, 1.03024382, 1.03255315, 1.03388241,\n",
       "       1.03478264, 1.03544058, 1.03594344, 1.03633879, 1.03665612])"
      ]
     },
     "execution_count": 612,
     "metadata": {},
     "output_type": "execute_result"
    }
   ],
   "source": [
    "XP"
   ]
  },
  {
   "cell_type": "code",
   "execution_count": 613,
   "metadata": {},
   "outputs": [
    {
     "data": {
      "text/plain": [
       "array([ 40.98409864,  47.9415336 ,  56.05758352,  65.52519142,\n",
       "        76.56943096,  89.45285708, 104.48174776, 122.01338517,\n",
       "       142.46454938, 166.32142657])"
      ]
     },
     "execution_count": 613,
     "metadata": {},
     "output_type": "execute_result"
    }
   ],
   "source": [
    "CP"
   ]
  },
  {
   "cell_type": "code",
   "execution_count": 614,
   "metadata": {},
   "outputs": [
    {
     "data": {
      "text/plain": [
       "array([ 8.05777136,  9.42565362, 11.02132801, 12.88272853, 15.05410631,\n",
       "       17.58708157, 20.54187078, 23.98871821, 28.00956577, 32.70000096])"
      ]
     },
     "execution_count": 614,
     "metadata": {},
     "output_type": "execute_result"
    }
   ],
   "source": [
    "WP"
   ]
  },
  {
   "cell_type": "code",
   "execution_count": 615,
   "metadata": {},
   "outputs": [
    {
     "data": {
      "text/plain": [
       "array([-0.97957746, -0.98247217, -0.98495363, -0.98708086, -0.98890441,\n",
       "       -0.99046764, -0.99180771, -0.99295647, -0.99394124, -0.99478543])"
      ]
     },
     "execution_count": 615,
     "metadata": {},
     "output_type": "execute_result"
    }
   ],
   "source": [
    "new_sol.compute_Xdot(X)/X"
   ]
  },
  {
   "cell_type": "code",
   "execution_count": 616,
   "metadata": {},
   "outputs": [
    {
     "data": {
      "text/plain": [
       "array([1.00000003, 1.02268378, 1.03024382, 1.03255315, 1.03388241,\n",
       "       1.03478264, 1.03544058, 1.03594344, 1.03633879, 1.03665612])"
      ]
     },
     "execution_count": 616,
     "metadata": {},
     "output_type": "execute_result"
    }
   ],
   "source": [
    "new_sol.XP"
   ]
  },
  {
   "cell_type": "code",
   "execution_count": 617,
   "metadata": {},
   "outputs": [
    {
     "name": "stdout",
     "output_type": "stream",
     "text": [
      "x/N:  100.0\n",
      "VF estimate:  3400.6974407901944\n",
      "new_sol.simulate(x,2000,s=1):  (4.605170185988092, 0, 0, 1)\n",
      "sim_res1 (s=1):  4.605170185988092\n"
     ]
    },
    {
     "name": "stderr",
     "output_type": "stream",
     "text": [
      "<ipython-input-603-8e8cfbd80eb2>:66: RuntimeWarning: overflow encountered in double_scalars\n",
      "  return a*np.log(x)/(c - (x**b)) + d\n"
     ]
    },
    {
     "name": "stdout",
     "output_type": "stream",
     "text": [
      "sim_res2 (s=0.9):  6.975540735444725\n",
      "sim_res3 (s=1.1):  4.605170185988092\n",
      "sim_res2 < sim_res1 > sim_res3???:  False\n",
      "\n",
      "x/N:  200.0\n",
      "VF estimate:  3400.6974407901944\n",
      "new_sol.simulate(x,2000,s=1):  (5.298317366548036, 0, 0, 1)\n",
      "sim_res1 (s=1):  5.298317366548036\n"
     ]
    },
    {
     "name": "stderr",
     "output_type": "stream",
     "text": [
      "<ipython-input-603-8e8cfbd80eb2>:66: RuntimeWarning: overflow encountered in double_scalars\n",
      "  return a*np.log(x)/(c - (x**b)) + d\n"
     ]
    },
    {
     "name": "stdout",
     "output_type": "stream",
     "text": [
      "sim_res2 (s=0.9):  8.717420656436401\n",
      "sim_res3 (s=1.1):  5.298317366548036\n",
      "sim_res2 < sim_res1 > sim_res3???:  False\n",
      "\n",
      "x/N:  300.0\n",
      "VF estimate:  3400.6974407901944\n",
      "new_sol.simulate(x,2000,s=1):  (5.703782474656201, 0, 0, 1)\n",
      "sim_res1 (s=1):  5.703782474656201\n",
      "sim_res2 (s=0.9):  9.778630444572126\n",
      "sim_res3 (s=1.1):  5.703782474656201\n",
      "sim_res2 < sim_res1 > sim_res3???:  False\n",
      "\n",
      "x/N:  400.0\n",
      "VF estimate:  3400.6974407901944\n",
      "new_sol.simulate(x,2000,s=1):  (5.991464547107982, 0, 0, 1)\n",
      "sim_res1 (s=1):  5.991464547107982\n",
      "sim_res2 (s=0.9):  10.547283563259786\n",
      "sim_res3 (s=1.1):  5.991464547107982\n",
      "sim_res2 < sim_res1 > sim_res3???:  False\n",
      "\n",
      "x/N:  500.0\n",
      "VF estimate:  3400.6974407901944\n",
      "new_sol.simulate(x,2000,s=1):  (6.214608098422191, 0, 0, 1)\n",
      "sim_res1 (s=1):  6.214608098422191\n",
      "sim_res2 (s=0.9):  11.173363694557217\n",
      "sim_res3 (s=1.1):  6.214608098422191\n",
      "sim_res2 < sim_res1 > sim_res3???:  False\n",
      "\n",
      "x/N:  600.0\n",
      "VF estimate:  3400.6974407901944\n",
      "new_sol.simulate(x,2000,s=1):  (6.396929655216146, 0, 0, 1)\n",
      "sim_res1 (s=1):  6.396929655216146\n",
      "sim_res2 (s=0.9):  11.754026448056305\n",
      "sim_res3 (s=1.1):  6.396929655216146\n",
      "sim_res2 < sim_res1 > sim_res3???:  False\n",
      "\n",
      "x/N:  700.0\n",
      "VF estimate:  3400.6974407901944\n",
      "new_sol.simulate(x,2000,s=1):  (6.551080335043404, 0, 0, 1)\n",
      "sim_res1 (s=1):  6.551080335043404\n",
      "sim_res2 (s=0.9):  12.250501256026949\n",
      "sim_res3 (s=1.1):  6.551080335043404\n",
      "sim_res2 < sim_res1 > sim_res3???:  False\n",
      "\n",
      "x/N:  800.0\n",
      "VF estimate:  3400.6974407901944\n",
      "new_sol.simulate(x,2000,s=1):  (6.684611727667927, 0, 0, 1)\n",
      "sim_res1 (s=1):  6.684611727667927\n",
      "sim_res2 (s=0.9):  12.684733920100928\n",
      "sim_res3 (s=1.1):  6.684611727667927\n",
      "sim_res2 < sim_res1 > sim_res3???:  False\n",
      "\n",
      "x/N:  900.0\n",
      "VF estimate:  3400.6974407901944\n",
      "new_sol.simulate(x,2000,s=1):  (6.802394763324311, 0, 0, 1)\n",
      "sim_res1 (s=1):  6.802394763324311\n",
      "sim_res2 (s=0.9):  13.070982633273161\n",
      "sim_res3 (s=1.1):  6.802394763324311\n",
      "sim_res2 < sim_res1 > sim_res3???:  False\n",
      "\n",
      "x/N:  1000.0\n",
      "VF estimate:  3400.6974407901944\n",
      "new_sol.simulate(x,2000,s=1):  (6.907755278982137, 0, 0, 1)\n",
      "sim_res1 (s=1):  6.907755278982137\n",
      "sim_res2 (s=0.9):  13.41905218719608\n",
      "sim_res3 (s=1.1):  6.907755278982137\n",
      "sim_res2 < sim_res1 > sim_res3???:  False\n",
      "\n",
      "x/N:  1100.0\n",
      "VF estimate:  3400.6974407901944\n",
      "new_sol.simulate(x,2000,s=1):  (7.003065458786462, 0, 0, 1)\n",
      "sim_res1 (s=1):  7.003065458786462\n",
      "sim_res2 (s=0.9):  13.735984553570878\n",
      "sim_res3 (s=1.1):  7.003065458786462\n",
      "sim_res2 < sim_res1 > sim_res3???:  False\n",
      "\n",
      "x/N:  1200.0\n",
      "VF estimate:  3400.6974407901944\n",
      "new_sol.simulate(x,2000,s=1):  (7.090076835776092, 0, 0, 1)\n",
      "sim_res1 (s=1):  7.090076835776092\n",
      "sim_res2 (s=0.9):  14.027014288969289\n",
      "sim_res3 (s=1.1):  7.090076835776092\n",
      "sim_res2 < sim_res1 > sim_res3???:  False\n",
      "\n",
      "x/N:  1300.0\n",
      "VF estimate:  3400.6974407901944\n",
      "new_sol.simulate(x,2000,s=1):  (7.170119543449628, 0, 0, 1)\n",
      "sim_res1 (s=1):  7.170119543449628\n",
      "sim_res2 (s=0.9):  14.296142396544656\n",
      "sim_res3 (s=1.1):  7.170119543449628\n",
      "sim_res2 < sim_res1 > sim_res3???:  False\n",
      "\n",
      "x/N:  1400.0\n",
      "VF estimate:  3400.6974407901944\n",
      "new_sol.simulate(x,2000,s=1):  (7.2506418130121855, 0.0, 0, 2)\n",
      "sim_res1 (s=1):  7.2506418130121855\n",
      "sim_res2 (s=0.9):  14.54649833177394\n",
      "sim_res3 (s=1.1):  7.24422751560335\n",
      "sim_res2 < sim_res1 > sim_res3???:  False\n",
      "\n",
      "x/N:  1500.0\n",
      "VF estimate:  3400.6974407901944\n",
      "new_sol.simulate(x,2000,s=1):  (7.330948267791478, 0.0, 0, 2)\n",
      "sim_res1 (s=1):  7.330948267791478\n",
      "sim_res2 (s=0.9):  14.780577761391298\n",
      "sim_res3 (s=1.1):  7.313220387090301\n",
      "sim_res2 < sim_res1 > sim_res3???:  False\n",
      "\n",
      "x/N:  1600.0\n",
      "VF estimate:  3400.6974407901944\n",
      "new_sol.simulate(x,2000,s=1):  (7.40666260585729, 0.0, 0, 2)\n",
      "sim_res1 (s=1):  7.40666260585729\n",
      "sim_res2 (s=0.9):  15.000404084213764\n",
      "sim_res3 (s=1.1):  7.3777589082278725\n",
      "sim_res2 < sim_res1 > sim_res3???:  False\n",
      "\n",
      "x/N:  1700.0\n",
      "VF estimate:  3400.6974407901944\n",
      "new_sol.simulate(x,2000,s=1):  (7.478329340195604, 0.0, 0, 2)\n",
      "sim_res1 (s=1):  7.478329340195604\n",
      "sim_res2 (s=0.9):  15.207641356881998\n",
      "sim_res3 (s=1.1):  7.438383530044307\n",
      "sim_res2 < sim_res1 > sim_res3???:  False\n",
      "\n",
      "x/N:  1800.0\n",
      "VF estimate:  3400.6974407901944\n",
      "new_sol.simulate(x,2000,s=1):  (7.546399896483958, 0.0, 0, 2)\n",
      "sim_res1 (s=1):  7.546399896483958\n",
      "sim_res2 (s=0.9):  15.403675221065516\n",
      "sim_res3 (s=1.1):  7.495541943884256\n",
      "sim_res2 < sim_res1 > sim_res3???:  False\n",
      "\n",
      "x/N:  1900.0\n",
      "VF estimate:  3400.6974407901944\n",
      "new_sol.simulate(x,2000,s=1):  (7.611252760150564, 0.0, 0, 2)\n",
      "sim_res1 (s=1):  7.611252760150564\n",
      "sim_res2 (s=0.9):  15.589672160206444\n",
      "sim_res3 (s=1.1):  7.549609165154532\n",
      "sim_res2 < sim_res1 > sim_res3???:  False\n",
      "\n"
     ]
    }
   ],
   "source": [
    "for x in range(100,2000, 100):\n",
    "    print('x/N: ', x/N)\n",
    "    print('VF estimate: ', new_sol.build_VF(x))\n",
    "    sim_res1 = new_sol.simulate(x,2000,s=1)\n",
    "    print('new_sol.simulate(x,2000,s=1): ', sim_res1)\n",
    "    sim_res1 = sim_res1[0]\n",
    "    print('sim_res1 (s=1): ', sim_res1)\n",
    "    sim_res2 = new_sol.simulate(x,2000,s=0.9)[0]\n",
    "    print('sim_res2 (s=0.9): ', sim_res2)\n",
    "    sim_res3 = new_sol.simulate(x,2000,s=1.1)[0]\n",
    "    print('sim_res3 (s=1.1): ', sim_res3)\n",
    "    print('sim_res2 < sim_res1 > sim_res3???: ', sim_res1 > sim_res2 and sim_res1 > sim_res3)\n",
    "    print('')"
   ]
  },
  {
   "cell_type": "code",
   "execution_count": 618,
   "metadata": {},
   "outputs": [
    {
     "name": "stderr",
     "output_type": "stream",
     "text": [
      "<ipython-input-603-8e8cfbd80eb2>:66: RuntimeWarning: overflow encountered in power\n",
      "  return a*np.log(x)/(c - (x**b)) + d\n"
     ]
    },
    {
     "data": {
      "text/plain": [
       "[<matplotlib.lines.Line2D at 0x1242405b0>,\n",
       " <matplotlib.lines.Line2D at 0x1241bfee0>]"
      ]
     },
     "execution_count": 618,
     "metadata": {},
     "output_type": "execute_result"
    },
    {
     "data": {
      "image/png": "[encoded data removed]",
      "text/plain": [
       "<Figure size 432x288 with 1 Axes>"
      ]
     },
     "metadata": {
      "needs_background": "light"
     },
     "output_type": "display_data"
    }
   ],
   "source": [
    "xmax = 1e5\n",
    "xnew = np.linspace(1,xmax,100)\n",
    "vf_new = new_sol.build_VF(xnew)\n",
    "\n",
    "plt.plot(X[X < xmax], VF[X < xmax], 'o', xnew, vf_new)"
   ]
  },
  {
   "cell_type": "code",
   "execution_count": 619,
   "metadata": {},
   "outputs": [
    {
     "data": {
      "text/plain": [
       "[<matplotlib.lines.Line2D at 0x1241c3790>,\n",
       " <matplotlib.lines.Line2D at 0x1242ce6a0>]"
      ]
     },
     "execution_count": 619,
     "metadata": {},
     "output_type": "execute_result"
    },
    {
     "data": {
      "image/png": "[encoded data removed]",
      "text/plain": [
       "<Figure size 432x288 with 1 Axes>"
      ]
     },
     "metadata": {
      "needs_background": "light"
     },
     "output_type": "display_data"
    }
   ],
   "source": [
    "cp_new = new_sol.build_CP(X = xnew)\n",
    "\n",
    "plt.plot(X[X < xmax], CP[X < xmax], 'o', xnew, cp_new)"
   ]
  },
  {
   "cell_type": "code",
   "execution_count": 620,
   "metadata": {},
   "outputs": [
    {
     "data": {
      "text/plain": [
       "[<matplotlib.lines.Line2D at 0x12436f160>,\n",
       " <matplotlib.lines.Line2D at 0x12436ffa0>]"
      ]
     },
     "execution_count": 620,
     "metadata": {},
     "output_type": "execute_result"
    },
    {
     "data": {
      "image/png": "[encoded data removed]",
      "text/plain": [
       "<Figure size 432x288 with 1 Axes>"
      ]
     },
     "metadata": {
      "needs_background": "light"
     },
     "output_type": "display_data"
    }
   ],
   "source": [
    "wp_new = new_sol.build_WP(X = xnew)\n",
    "\n",
    "plt.plot(X[X < xmax], WP[X < xmax], 'o', xnew, wp_new)"
   ]
  },
  {
   "cell_type": "code",
   "execution_count": 621,
   "metadata": {},
   "outputs": [
    {
     "name": "stderr",
     "output_type": "stream",
     "text": [
      "<ipython-input-603-8e8cfbd80eb2>:66: RuntimeWarning: overflow encountered in power\n",
      "  return a*np.log(x)/(c - (x**b)) + d\n"
     ]
    },
    {
     "data": {
      "text/plain": [
       "[<matplotlib.lines.Line2D at 0x1243c9190>,\n",
       " <matplotlib.lines.Line2D at 0x1243c9fa0>]"
      ]
     },
     "execution_count": 621,
     "metadata": {},
     "output_type": "execute_result"
    },
    {
     "data": {
      "image/png": "[encoded data removed]",
      "text/plain": [
       "<Figure size 432x288 with 1 Axes>"
      ]
     },
     "metadata": {
      "needs_background": "light"
     },
     "output_type": "display_data"
    }
   ],
   "source": [
    "xmax = 1e5\n",
    "xnew = np.linspace(1,xmax,100)\n",
    "vf_new = new_sol.build_VF(xnew)\n",
    "\n",
    "plt.plot(X[X < xmax], VF[X < xmax], 'o', xnew, vf_new)"
   ]
  },
  {
   "cell_type": "code",
   "execution_count": 622,
   "metadata": {},
   "outputs": [
    {
     "data": {
      "text/plain": [
       "[<matplotlib.lines.Line2D at 0x12441b250>,\n",
       " <matplotlib.lines.Line2D at 0x1245c00a0>]"
      ]
     },
     "execution_count": 622,
     "metadata": {},
     "output_type": "execute_result"
    },
    {
     "data": {
      "image/png": "[encoded data removed]",
      "text/plain": [
       "<Figure size 432x288 with 1 Axes>"
      ]
     },
     "metadata": {
      "needs_background": "light"
     },
     "output_type": "display_data"
    }
   ],
   "source": [
    "cp_new = new_sol.build_CP(X = xnew)\n",
    "\n",
    "plt.plot(X[X < xmax], CP[X < xmax], 'o', xnew, cp_new)"
   ]
  },
  {
   "cell_type": "code",
   "execution_count": 623,
   "metadata": {},
   "outputs": [
    {
     "data": {
      "text/plain": [
       "[<matplotlib.lines.Line2D at 0x1245fe820>,\n",
       " <matplotlib.lines.Line2D at 0x1246b3670>]"
      ]
     },
     "execution_count": 623,
     "metadata": {},
     "output_type": "execute_result"
    },
    {
     "data": {
      "image/png": "[encoded data removed]",
      "text/plain": [
       "<Figure size 432x288 with 1 Axes>"
      ]
     },
     "metadata": {
      "needs_background": "light"
     },
     "output_type": "display_data"
    }
   ],
   "source": [
    "wp_new = new_sol.build_WP(X = xnew)\n",
    "\n",
    "plt.plot(X[X < xmax], WP[X < xmax], 'o', xnew, wp_new)"
   ]
  },
  {
   "cell_type": "code",
   "execution_count": 624,
   "metadata": {},
   "outputs": [
    {
     "name": "stderr",
     "output_type": "stream",
     "text": [
      "<ipython-input-603-8e8cfbd80eb2>:66: RuntimeWarning: overflow encountered in power\n",
      "  return a*np.log(x)/(c - (x**b)) + d\n"
     ]
    },
    {
     "data": {
      "text/plain": [
       "[<matplotlib.lines.Line2D at 0x12481e7f0>,\n",
       " <matplotlib.lines.Line2D at 0x12482b640>]"
      ]
     },
     "execution_count": 624,
     "metadata": {},
     "output_type": "execute_result"
    },
    {
     "data": {
      "image/png": "[encoded data removed]",
      "text/plain": [
       "<Figure size 432x288 with 1 Axes>"
      ]
     },
     "metadata": {
      "needs_background": "light"
     },
     "output_type": "display_data"
    }
   ],
   "source": [
    "xmax = 100\n",
    "xnew = np.linspace(1,xmax,100)\n",
    "vf_new = new_sol.build_VF(xnew)\n",
    "\n",
    "plt.plot(X[X < xmax], VF[X < xmax], 'o', xnew, vf_new)"
   ]
  },
  {
   "cell_type": "code",
   "execution_count": 625,
   "metadata": {},
   "outputs": [
    {
     "data": {
      "text/plain": [
       "[<matplotlib.lines.Line2D at 0x1247adc70>,\n",
       " <matplotlib.lines.Line2D at 0x1247c5ac0>]"
      ]
     },
     "execution_count": 625,
     "metadata": {},
     "output_type": "execute_result"
    },
    {
     "data": {
      "image/png": "[encoded data removed]",
      "text/plain": [
       "<Figure size 432x288 with 1 Axes>"
      ]
     },
     "metadata": {
      "needs_background": "light"
     },
     "output_type": "display_data"
    }
   ],
   "source": [
    "cp_new = new_sol.build_CP(X = xnew)\n",
    "\n",
    "plt.plot(X[X < xmax], CP[X < xmax], 'o', xnew, cp_new)"
   ]
  },
  {
   "cell_type": "code",
   "execution_count": 626,
   "metadata": {},
   "outputs": [
    {
     "data": {
      "text/plain": [
       "[<matplotlib.lines.Line2D at 0x1248f4ca0>,\n",
       " <matplotlib.lines.Line2D at 0x1249aabb0>]"
      ]
     },
     "execution_count": 626,
     "metadata": {},
     "output_type": "execute_result"
    },
    {
     "data": {
      "image/png": "[encoded data removed]",
      "text/plain": [
       "<Figure size 432x288 with 1 Axes>"
      ]
     },
     "metadata": {
      "needs_background": "light"
     },
     "output_type": "display_data"
    }
   ],
   "source": [
    "wp_new = new_sol.build_WP(X = xnew)\n",
    "\n",
    "plt.plot(X[X < xmax], WP[X < xmax], 'o', xnew, wp_new)"
   ]
  },
  {
   "cell_type": "code",
   "execution_count": 627,
   "metadata": {},
   "outputs": [
    {
     "data": {
      "text/plain": [
       "array([1.01386487e+00, 1.45243681e-04])"
      ]
     },
     "execution_count": 627,
     "metadata": {},
     "output_type": "execute_result"
    }
   ],
   "source": [
    "new_sol.x_params"
   ]
  }
 ],
 "metadata": {
  "kernelspec": {
   "display_name": "Python 3",
   "language": "python",
   "name": "python3"
  },
  "language_info": {
   "codemirror_mode": {
    "name": "ipython",
    "version": 3
   },
   "file_extension": ".py",
   "mimetype": "text/x-python",
   "name": "python",
   "nbconvert_exporter": "python",
   "pygments_lexer": "ipython3",
   "version": "3.8.8"
  }
 },
 "nbformat": 4,
 "nbformat_minor": 2
}
