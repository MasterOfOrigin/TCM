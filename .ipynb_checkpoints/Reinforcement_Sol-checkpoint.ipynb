{
 "cells": [
  {
   "cell_type": "code",
   "execution_count": 125,
   "id": "d694f7d7",
   "metadata": {},
   "outputs": [],
   "source": [
    "import numpy as np\n",
    "import scipy.linalg as la\n",
    "import scipy.optimize as opt\n",
    "import time\n",
    "import quantecon as qe\n",
    "import matplotlib.pyplot as plt\n",
    "\n",
    "from collections import namedtuple\n",
    "from scipy.interpolate import interp1d, UnivariateSpline\n",
    "from scipy.misc import derivative\n",
    "from interpolation.complete_poly import (CompletePolynomial,\n",
    "                                         n_complete, complete_polynomial,\n",
    "                                         complete_polynomial_der,\n",
    "                                         _complete_poly_impl,\n",
    "                                         _complete_poly_impl_vec,\n",
    "                                         _complete_poly_der_impl,\n",
    "                                         _complete_poly_der_impl_vec)\n",
    "from numba import jit, vectorize"
   ]
  },
  {
   "cell_type": "code",
   "execution_count": 126,
   "id": "aeb429c6",
   "metadata": {},
   "outputs": [],
   "source": [
    "#\n",
    "# Create a named tuple type that we can pass into the jitted functions\n",
    "# so that we don't have to pass parameters one by one\n",
    "#\n",
    "Params = namedtuple(\"Params\", [\"N\", \"beta\", \"g\", \"a_bar\", \"eta\", \"u_bar\"])\n",
    "\n",
    "@jit(nopython=True)\n",
    "def param_unpack(params):\n",
    "    \"Unpack parameters from the Params type\"\n",
    "    out = (params.N, params.beta, params.g,\n",
    "           params.a_bar, params.eta, params.u_bar)\n",
    "\n",
    "    return out"
   ]
  },
  {
   "cell_type": "code",
   "execution_count": 127,
   "id": "b2a4b940",
   "metadata": {},
   "outputs": [],
   "source": [
    "#\n",
    "# Helper functions to make sure things are jitted\n",
    "#\n",
    "@vectorize(nopython=True)\n",
    "def u(c, eta, u_bar):\n",
    "    \"log utility function\"\n",
    "    return -1e10 if c < 1e-10 else (u_bar + np.log(c)) if eta==1 else (u_bar + (c**(1-eta)/(1-eta)))\n",
    "\n",
    "@vectorize(nopython=True)\n",
    "def du(c,eta):\n",
    "    \"Derivative of log utility function\"\n",
    "    return 1e10 if c < 1e-10 else c**(-eta)\n",
    "\n",
    "@vectorize(nopython=True)\n",
    "def duinv(u,eta):\n",
    "    \"Inverse of the derivative of the CRRA utility function\"\n",
    "    return u**(-1.0/eta )\n",
    "\n",
    "@vectorize(nopython=True)\n",
    "def f(X):\n",
    "    \"production function\"\n",
    "    return X\n",
    "\n",
    "@vectorize(nopython=True)\n",
    "def df(X):\n",
    "    \"Derivative of production function\"\n",
    "    return 1\n",
    "\n",
    "@vectorize(nopython=True)\n",
    "def discount_factor(beta, a_bar, c, w):\n",
    "    \"risk adjusted discount factor\"\n",
    "    return beta*a_bar*w/(c + a_bar*w)\n",
    "\n",
    "@vectorize(nopython=True)\n",
    "def next_x(X, N, g, c, w):\n",
    "    # next period's CPR given c and w\n",
    "    return (X - N*(c + w))*(1+g)\n",
    "\n",
    "@vectorize(nopython=True)\n",
    "def expendables(X, Xp, N, g):\n",
    "    # get expendables given X and X prime\n",
    "    return (1/N)*(X - Xp/(1 + g))\n",
    "\n",
    "@vectorize(nopython=True)\n",
    "def logu_c_from_exp(Vp, E, beta, a):\n",
    "    # get expendables given X and X prime\n",
    "    return -(2*E*a - 2*E*a**2 + E*a*(Vp*beta*(4*a + Vp*beta - 4))**0.5 - E*Vp*a*beta)/(2*(a**2 - 2*a + 1))\n",
    "\n",
    "@vectorize(nopython=True)\n",
    "def vector_dampen(vec1, vec2, dampen=1):\n",
    "    return dampen*vec1 + (1-dampen)*vec2\n",
    "\n",
    "def find_nearest(array, value):\n",
    "    array = np.asarray(array)\n",
    "    idx = (np.abs(array - value)).argmin()\n",
    "    return array[idx]\n",
    "\n",
    "@vectorize(nopython=True)\n",
    "def psurvival(a_bar, c, w):\n",
    "    return a_bar*w/(c + a_bar*w)"
   ]
  },
  {
   "cell_type": "code",
   "execution_count": 128,
   "id": "2dfdc11f",
   "metadata": {},
   "outputs": [
    {
     "data": {
      "text/plain": [
       "array([3.   , 3.024, 3.049, 3.074, 3.099, 3.124, 3.15 , 3.175, 3.201,\n",
       "       3.227, 3.254, 3.28 , 3.307, 3.334, 3.361, 3.389, 3.416, 3.444,\n",
       "       3.472, 3.5  , 3.529, 3.558, 3.587, 3.616, 3.645, 3.675, 3.705,\n",
       "       3.735, 3.766, 3.797, 3.827, 3.859, 3.89 , 3.922, 3.954, 3.986,\n",
       "       4.019, 4.051, 4.084, 4.118, 4.151, 4.185, 4.219, 4.254, 4.288,\n",
       "       4.323, 4.358, 4.394, 4.43 , 4.466, 4.502, 4.539, 4.576, 4.613,\n",
       "       4.651, 4.689, 4.727, 4.766, 4.805, 4.844, 4.883, 4.923, 4.963,\n",
       "       5.004, 5.044, 5.086, 5.127, 5.169, 5.211, 5.253, 5.296, 5.339,\n",
       "       5.383, 5.427, 5.471, 5.516, 5.561, 5.606, 5.652, 5.698, 5.744,\n",
       "       5.791, 5.838, 5.886, 5.934, 5.982, 6.031, 6.08 , 6.13 , 6.18 ,\n",
       "       6.23 , 6.281, 6.332, 6.384, 6.436, 6.488, 6.541, 6.595, 6.648,\n",
       "       6.702])"
      ]
     },
     "execution_count": 128,
     "metadata": {},
     "output_type": "execute_result"
    }
   ],
   "source": [
    "np.round(np.geomspace(3,10000,1000),3)[:100]"
   ]
  },
  {
   "cell_type": "code",
   "execution_count": 129,
   "id": "245e62a1",
   "metadata": {},
   "outputs": [],
   "source": [
    "class Model(object):\n",
    "    \"\"\"\n",
    "    \"\"\"\n",
    "    def __init__(self, N=1, beta=0.9, g_x=0.01, g_a=0.015, a_bar=1000, \n",
    "                 eta=1, u_bar=0, \n",
    "                 xmin=3, xmax=10000, nx=1000):\n",
    "        # calculate g from g_a and g_x \n",
    "        g = g_a + g_x + g_a*g_x\n",
    "\n",
    "        # Household parameters\n",
    "        self.beta, self.eta, self.u_bar, = beta, eta, u_bar\n",
    "\n",
    "        # Firm/technology parameters\n",
    "        self.N, self.g, self.a_bar = N, g, a_bar\n",
    "\n",
    "        # Create t grids\n",
    "        self.xgrid = N*np.linspace(xmin, xmax, nx)\n",
    "        self.nx = nx\n",
    "        \n",
    "    def _unpack_params(self):\n",
    "        out = (self.N, self.beta, self.g, \n",
    "               self.a_bar, self.eta, self.u_bar)\n",
    "        return out\n",
    "\n",
    "    def _unpack_grids(self):\n",
    "        out = (self.xgrid)\n",
    "        return out"
   ]
  },
  {
   "cell_type": "code",
   "execution_count": 130,
   "id": "27152e26",
   "metadata": {},
   "outputs": [],
   "source": [
    "class GeneralSolution:\n",
    "    \"\"\"\n",
    "    This is a general solution method. We define this, so that we can\n",
    "    sub-class it and define specific update methods for each particular\n",
    "    solution method\n",
    "    \"\"\"\n",
    "    def __init__(self, ncgm, prev_sol=None):\n",
    "        # Save model, interp. approx. kind. and deriv. dx\n",
    "        self.ncgm = ncgm\n",
    "\n",
    "        # Unpack some info from ncgm\n",
    "        N, beta, g, a_bar, eta, u_bar = self._unpack_params()\n",
    "        self.xgrid = self.ncgm.xgrid\n",
    "\n",
    "        # Use parameter values from model to create a namedtuple with\n",
    "        # parameters saved inside\n",
    "        self.params = Params(N, beta, g, a_bar, eta, u_bar)\n",
    "        \n",
    "        self.CP = (1/N)*(1/20)*self.xgrid\n",
    "        self.WP = (1/N)*(1/40)*self.xgrid\n",
    "        self.VF = self.xgrid**2\n",
    "        \n",
    "    def _unpack_params(self):\n",
    "        return self.ncgm._unpack_params()\n",
    "        \n",
    "    def compute_distance(self, cp, wp, VF):\n",
    "        \"\"\"\n",
    "        Computes distance between policy functions\n",
    "        \"\"\"\n",
    "        return np.max([\n",
    "            np.max(np.abs(1.0 - (cp+1e-15)/(self.CP+1e-15))), \n",
    "            np.max(np.abs(1.0 - (wp+1e-15)/(self.WP+1e-15))),\n",
    "            np.max(np.abs(1.0 - (VF+1e-15)/(self.VF+1e-15)))\n",
    "        ])\n",
    "    \n",
    "    def get_EV(self, x):\n",
    "        idx = np.searchsorted(self.xgrid, x, side='left')\n",
    "        return self.VF[idx]\n",
    "\n",
    "    def solve(self, tol=1e-6, maxiter=2500, verbose=True, \n",
    "              nskipprint=25, dampen=1.0):\n",
    "        # Iterate until convergence\n",
    "        dist, it = 10.0, 0\n",
    "        while (dist>tol) and (it<maxiter):\n",
    "            # Run solution specific update code\n",
    "            cp, wp, VF = self.update()\n",
    "\n",
    "            # Update distance and iterations\n",
    "            dist = self.compute_distance(cp, wp, VF)\n",
    "            self.CP, self.WP, self.VF = cp, wp, VF\n",
    "            it += 1\n",
    "            if verbose and it%nskipprint == 0:\n",
    "                print(it, dist)\n",
    "\n",
    "#         # After finishing iteration, iterate to convergence using policy\n",
    "#         if not isinstance(self, IterateOnPolicy):\n",
    "#             sol_iop = IterateOnPolicy(self.ncgm, self)\n",
    "#             cp, wp, VF = sol_iop.solve(tol=tol)\n",
    "            \n",
    "#             # Save final versions of everything\n",
    "#             self.CP, self.WP, self.VF = cp, wp, VF\n",
    "\n",
    "        return self.CP, self.WP, self.VF\n",
    "        \n",
    "        \n",
    "\n",
    "    def simulate(self, X=None, T=1000, s=1):\n",
    "        \"\"\"\n",
    "        Simulates the neoclassical growth model with policy function\n",
    "        given by self.KP. Simulates for `T` periods and discarsd first\n",
    "        nburn `observations`\n",
    "        \"\"\"\n",
    "        N, beta, g, a_bar, eta, u_bar = self._unpack_params()\n",
    "        # X is starting point, if None, set to N*274\n",
    "        if X is None:\n",
    "            X = N*274\n",
    "            \n",
    "        def recurse_bellman(x, t):\n",
    "            if x <= 0:\n",
    "                return 0, 0, x, t\n",
    "            if t >= T:\n",
    "                return u(x/N, eta, u_bar), 1, x, T\n",
    "            \n",
    "            c_corner = x/N \n",
    "            u_corner = u(c_corner, eta, u_bar)\n",
    "            \n",
    "            trans_idx = np.searchsorted(self.ncgm.xgrid, x, side='left')\n",
    "            \n",
    "            c = s*self.CP[trans_idx]\n",
    "            w = s*self.CP[trans_idx]\n",
    "\n",
    "            \n",
    "            if w <= 0:\n",
    "                c = c_corner \n",
    "                \n",
    "            m_t = psurvival(a_bar, c, w)\n",
    "            u_t = u(c, eta, u_bar)\n",
    "            x_prime = next_x(x, N, g, c, w)\n",
    "            \n",
    "            v_prime, m_prime, final_state, nperiods = recurse_bellman(x_prime, t+1)\n",
    "            \n",
    "            if u_t + v_prime < u_corner:\n",
    "                return u_corner, 0, 0, t+1\n",
    "            \n",
    "            return u_t + v_prime, m_t*m_prime, final_state, nperiods\n",
    "        \n",
    "        return recurse_bellman(X, 0)\n",
    "\n"
   ]
  },
  {
   "cell_type": "code",
   "execution_count": 131,
   "id": "df6a7a9c",
   "metadata": {},
   "outputs": [],
   "source": [
    "class IterateOnPolicy(GeneralSolution):\n",
    "    \"\"\"\n",
    "    Subclass of the general solution method. The update method for this\n",
    "    class simply computes the fixed point of the value function given\n",
    "    a specific policy\n",
    "    \"\"\"\n",
    "    def compute_distance(self, cp, wp, VF):\n",
    "        \"\"\"\n",
    "        Computes distance between policy functions. When we are\n",
    "        iterating on a specific policy, we would like to compute\n",
    "        distances by the difference between VFs\n",
    "        \"\"\"\n",
    "        dist = np.max(np.abs(1.0 - (VF+1e-15)/(self.VF+1e-15)))\n",
    "\n",
    "        return dist\n",
    "\n",
    "    def update(self):\n",
    "        # Unpack parameters\n",
    "        N, beta, g, a_bar, eta, u_bar = self._unpack_params()\n",
    "        X = self.ncgm.xgrid\n",
    "        \n",
    "        Xn = next_x(X, N, g, self.CP, self.WP)\n",
    "\n",
    "        # Update the value function\n",
    "        EV = self.get_EV(Xn)\n",
    "        VF = u(self.CP, eta, u_bar) + beta*np.maximum(EV, np.zeros(self.ncgm.nx))      \n",
    "\n",
    "        return self.CP, self.WP, VF"
   ]
  },
  {
   "cell_type": "code",
   "execution_count": 132,
   "id": "a734b3fa",
   "metadata": {},
   "outputs": [],
   "source": [
    "class QRL(GeneralSolution):\n",
    "    \"\"\"\n",
    "    Updates the coefficients and value functions using Q-Reinforcement Learning\n",
    "    method\n",
    "    \"\"\"\n",
    "    def update(self):\n",
    "        \"\"\"\n",
    "        Updates the coefficients and value functions using the VFI_ECM\n",
    "        method\n",
    "        \"\"\"\n",
    "        # Unpack parameters\n",
    "        N, beta, g, a_bar, eta, u_bar = self._unpack_params()\n",
    "        xgrid = self.ncgm.xgrid\n",
    "        n_state = xgrid.shape[0]\n",
    "\n",
    "        # Get the policy and update it\n",
    "        cp = np.copy(self.CP)\n",
    "        wp = np.copy(self.WP)\n",
    "        VF = np.copy(self.VF)\n",
    "        for i_s in range(n_state):\n",
    "            # Pull out current vals\n",
    "            X = xgrid[i_s]\n",
    "            c = cp[i_s]\n",
    "            w = wp[i_s]\n",
    "            v = VF[i_s]\n",
    "            \n",
    "            lbnd = 0\n",
    "            ubnd = X*(1 + g)\n",
    "            \n",
    "            # get starting idx\n",
    "            Xp = next_x(X, N, g, c, w)\n",
    "            trans_idx_start = np.searchsorted(xgrid, Xp, side='left')\n",
    "            \n",
    "            # iterate up until value begins decreasing\n",
    "            trans_idx = trans_idx_start\n",
    "            vt = v\n",
    "            while vt == v and Xp <= ubnd and trans_idx < self.ncgm.nx:  \n",
    "                Xp = xgrid[trans_idx]\n",
    "                Vp = self.VF[trans_idx]\n",
    "                E = expendables(X, Xp, N, g)\n",
    "\n",
    "                ct = logu_c_from_exp(Vp, E, beta, a_bar)\n",
    "                # if outside of bounds break out of loop\n",
    "                if ct > E or ct < 0:\n",
    "                    print(\"ct: \", ct)\n",
    "                    break\n",
    "                wt = E - ct\n",
    "                vt = u_bar + np.log(ct) + discount_factor(beta, a_bar, ct, wt)*Vp\n",
    "\n",
    "                if vt > v:\n",
    "                    c = ct\n",
    "                    w = wt\n",
    "                    v = vt\n",
    "                    \n",
    "                trans_idx += 1\n",
    "            \n",
    "            # iterate down until value begins decreasing\n",
    "            \n",
    "            trans_idx = trans_idx_start\n",
    "            vt = v\n",
    "            while vt == v and Xp > lbnd and trans_idx >= 0:       \n",
    "                Xp = xgrid[trans_idx]\n",
    "                Vp = self.VF[trans_idx]\n",
    "                E = expendables(X, Xp, N, g)\n",
    "\n",
    "                ct = logu_c_from_exp(Vp, E, beta, a_bar)\n",
    "                # if outside of bounds break out of loop\n",
    "                if ct > E or ct < 0:\n",
    "                    print(\"ct: \", ct)\n",
    "                    break\n",
    "                wt = E - ct\n",
    "                vt = u_bar + np.log(ct) + discount_factor(beta, a_bar, ct, wt)*Vp\n",
    "\n",
    "                if vt > v:\n",
    "                    c = ct\n",
    "                    w = wt\n",
    "                    v = vt\n",
    "                    \n",
    "                trans_idx -= 1\n",
    "\n",
    "            cp[i_s] = c\n",
    "            wp[i_s] = w\n",
    "            VF[i_s] = v\n",
    "            \n",
    "        return cp, wp, VF\n",
    "\n",
    "    \n"
   ]
  },
  {
   "cell_type": "code",
   "execution_count": 133,
   "id": "21c23b3c",
   "metadata": {},
   "outputs": [
    {
     "name": "stdout",
     "output_type": "stream",
     "text": [
      "vp done\n",
      "25 1.5359051329849038\n",
      "50 0.03452374660706192\n",
      "75 0.0002822853827381122\n"
     ]
    }
   ],
   "source": [
    "ncgm = Model(N=1, a_bar=1000, xmin=1,xmax=400, nx=2000)\n",
    "\n",
    "# # First guess\n",
    "# vp = IterateOnPolicy(ncgm)\n",
    "# vp.solve(tol=1e-9)\n",
    "\n",
    "# np.random.seed(61089)\n",
    "\n",
    "\n",
    "print('vp done')\n",
    "dx=1e-6\n",
    "new_sol = None\n",
    "new_sol = QRL(ncgm, prev_sol=new_sol)\n",
    "ts = time.time()\n",
    "new_sol.solve(tol=1e-4, verbose=True, nskipprint=25)\n",
    "time_took = time.time() - ts"
   ]
  },
  {
   "cell_type": "code",
   "execution_count": 134,
   "id": "6f78c75a",
   "metadata": {},
   "outputs": [
    {
     "data": {
      "text/plain": [
       "(46.851344902292986, 0.0, 0, 33)"
      ]
     },
     "execution_count": 134,
     "metadata": {},
     "output_type": "execute_result"
    }
   ],
   "source": [
    "new_sol.simulate(274,500,s=1)"
   ]
  },
  {
   "cell_type": "code",
   "execution_count": 135,
   "id": "7fafdf0a",
   "metadata": {},
   "outputs": [
    {
     "data": {
      "text/plain": [
       "array([  1.       ,   1.1995998,   1.3991996, ..., 399.6008004,\n",
       "       399.8004002, 400.       ])"
      ]
     },
     "execution_count": 135,
     "metadata": {},
     "output_type": "execute_result"
    }
   ],
   "source": [
    "new_sol.xgrid"
   ]
  },
  {
   "cell_type": "code",
   "execution_count": 136,
   "id": "31db88b8",
   "metadata": {},
   "outputs": [
    {
     "data": {
      "text/plain": [
       "1368"
      ]
     },
     "execution_count": 136,
     "metadata": {},
     "output_type": "execute_result"
    }
   ],
   "source": [
    "np.searchsorted(new_sol.xgrid, 274, side='left')"
   ]
  },
  {
   "cell_type": "code",
   "execution_count": 137,
   "id": "2aa079a1",
   "metadata": {},
   "outputs": [
    {
     "data": {
      "text/plain": [
       "21.479917729246406"
      ]
     },
     "execution_count": 137,
     "metadata": {},
     "output_type": "execute_result"
    }
   ],
   "source": [
    "new_sol.VF[1368]"
   ]
  },
  {
   "cell_type": "code",
   "execution_count": 138,
   "id": "f240ffdb",
   "metadata": {},
   "outputs": [
    {
     "data": {
      "text/plain": [
       "array([ 0.05      ,  0.05997999,  0.06995998, ..., 19.98004002,\n",
       "       19.99002001, 20.        ])"
      ]
     },
     "execution_count": 138,
     "metadata": {},
     "output_type": "execute_result"
    }
   ],
   "source": [
    "new_sol.CP"
   ]
  },
  {
   "cell_type": "code",
   "execution_count": 139,
   "id": "278e2f60",
   "metadata": {},
   "outputs": [
    {
     "data": {
      "text/plain": [
       "array([ 0.025     ,  0.02998999,  0.03497999, ...,  9.99002001,\n",
       "        9.99501001, 10.        ])"
      ]
     },
     "execution_count": 139,
     "metadata": {},
     "output_type": "execute_result"
    }
   ],
   "source": [
    "new_sol.WP"
   ]
  },
  {
   "cell_type": "code",
   "execution_count": 140,
   "id": "13a59c1e",
   "metadata": {},
   "outputs": [
    {
     "data": {
      "text/plain": [
       "[<matplotlib.lines.Line2D at 0x125be3640>]"
      ]
     },
     "execution_count": 140,
     "metadata": {},
     "output_type": "execute_result"
    },
    {
     "data": {
      "image/png": "[encoded data removed]",
      "text/plain": [
       "<Figure size 432x288 with 1 Axes>"
      ]
     },
     "metadata": {
      "needs_background": "light"
     },
     "output_type": "display_data"
    }
   ],
   "source": [
    "X = new_sol.xgrid\n",
    "xmax = 200000\n",
    "xnew = np.arange(1,xmax,1)\n",
    "max_idx = np.argmax(X[X < xmax]) + 1\n",
    "\n",
    "\n",
    "plt.plot(X[:max_idx], new_sol.VF[:max_idx], 'o')"
   ]
  },
  {
   "cell_type": "code",
   "execution_count": 141,
   "id": "448d4d9f",
   "metadata": {},
   "outputs": [
    {
     "data": {
      "text/plain": [
       "[<matplotlib.lines.Line2D at 0x125c05be0>]"
      ]
     },
     "execution_count": 141,
     "metadata": {},
     "output_type": "execute_result"
    },
    {
     "data": {
      "image/png": "[encoded data removed]",
      "text/plain": [
       "<Figure size 432x288 with 1 Axes>"
      ]
     },
     "metadata": {
      "needs_background": "light"
     },
     "output_type": "display_data"
    }
   ],
   "source": [
    "plt.plot(X[:max_idx], new_sol.CP[:max_idx], 'o')"
   ]
  },
  {
   "cell_type": "code",
   "execution_count": 142,
   "id": "bd9a4c09",
   "metadata": {},
   "outputs": [
    {
     "data": {
      "text/plain": [
       "[<matplotlib.lines.Line2D at 0x125c87d90>]"
      ]
     },
     "execution_count": 142,
     "metadata": {},
     "output_type": "execute_result"
    },
    {
     "data": {
      "image/png": "[encoded data removed]",
      "text/plain": [
       "<Figure size 432x288 with 1 Axes>"
      ]
     },
     "metadata": {
      "needs_background": "light"
     },
     "output_type": "display_data"
    }
   ],
   "source": [
    "plt.plot(X[:max_idx], new_sol.WP[:max_idx], 'o')"
   ]
  }
 ],
 "metadata": {
  "kernelspec": {
   "display_name": "Python 3",
   "language": "python",
   "name": "python3"
  },
  "language_info": {
   "codemirror_mode": {
    "name": "ipython",
    "version": 3
   },
   "file_extension": ".py",
   "mimetype": "text/x-python",
   "name": "python",
   "nbconvert_exporter": "python",
   "pygments_lexer": "ipython3",
   "version": "3.8.8"
  }
 },
 "nbformat": 4,
 "nbformat_minor": 5
}
