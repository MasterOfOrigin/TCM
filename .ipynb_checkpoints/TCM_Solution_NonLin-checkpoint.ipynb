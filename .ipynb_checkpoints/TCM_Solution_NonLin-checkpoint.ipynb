{
 "cells": [
  {
   "cell_type": "markdown",
   "metadata": {},
   "source": [
    "# 7 Solution Methods to Solve the Growth Model with Python\n",
    "\n",
    "This notebook is part of a computational appendix that accompanies the paper\n",
    "\n",
    "> MATLAB, Python, Julia: What to Choose in Economics?\n",
    "> > Coleman, Lyon, Maliar, and Maliar (2017)\n",
    "\n",
    "In order to run the codes in this notebook you will need to install and configure a few Python packages. We recommend downloading [Anaconda](https://www.continuum.io/downloads) and/or following the instructions on [quantecon.org](https://lectures.quantecon.org/py/getting_started.html). Once your Python installation is up and running, there are a few additional packages you will need in order to run the code here. To do this, you should remove the `# ` in front of the following commands and run the block below."
   ]
  },
  {
   "cell_type": "code",
   "execution_count": 1900,
   "metadata": {
    "scrolled": true
   },
   "outputs": [],
   "source": [
    "# ! pip install git+https://github.com/EconForge/interpolation.py.git\n",
    "# ! pip install quantecon\n",
    "# ! pip install csaps"
   ]
  },
  {
   "cell_type": "code",
   "execution_count": 1901,
   "metadata": {},
   "outputs": [],
   "source": [
    "import numpy as np\n",
    "import scipy.linalg as la\n",
    "import scipy.optimize as opt\n",
    "import time\n",
    "import quantecon as qe\n",
    "import matplotlib.pyplot as plt\n",
    "\n",
    "from collections import namedtuple\n",
    "from scipy.interpolate import interp1d, UnivariateSpline\n",
    "from scipy.misc import derivative\n",
    "from interpolation.complete_poly import (CompletePolynomial,\n",
    "                                         n_complete, complete_polynomial,\n",
    "                                         complete_polynomial_der,\n",
    "                                         _complete_poly_impl,\n",
    "                                         _complete_poly_impl_vec,\n",
    "                                         _complete_poly_der_impl,\n",
    "                                         _complete_poly_der_impl_vec)\n",
    "from numba import jit, vectorize"
   ]
  },
  {
   "cell_type": "markdown",
   "metadata": {},
   "source": [
    "## Model\n",
    "\n",
    "This section gives a short description of the commonly used stochastic Neoclassical growth model.\n",
    "\n",
    "There is a single infinitely-lived representative agent who consumes and saves using capital. The consumer discounts the future with factor $\\beta$ and derives utility from only consumption. Additionally, saved capital will depreciate at $\\delta$.\n",
    "\n",
    "The consumer has access to a Cobb-Douglas technology which uses capital saved from the previous period to produce and is subject to stochastic productivity shocks.\n",
    "\n",
    "Productivity shocks follow an AR(1) in logs.\n",
    "\n",
    "The agent's problem can be written recursively using the following Bellman equation\n",
    "\n",
    "\n",
    "$$\n",
    "\\begin{align}\n",
    "  V(k_t, z_t) &= \\max_{k_{t+1}} u(c_t) + \\beta E \\left[ V(k_{t+1}, z_{t+1}) \\right] \\\\\n",
    "  &\\text{subject to } \\\\\n",
    "  c_t &= z_t f(k_t) + (1 - \\delta) k_t - k_{t+1} \\\\\n",
    "  \\log z_{t+1} &= \\rho \\log z_t + \\sigma \\varepsilon\n",
    "\\end{align}\n",
    "$$\n",
    "\n",
    "$$\n",
    "\\begin{align*}\n",
    "    V(X, z) &= \\max_{\\tilde{c},\\tilde{s}} \\biggl\\{0,  u(c) + \\beta E \\bigl[V(X', z') \\bigr] \\biggr\\}\\\\\n",
    "    & \\text{ s.t. } \\tilde{c} \\geq 0; \\qquad \\tilde{s} \\geq 0 \\\\\n",
    "    & \\phantom{\\text{ s.t. } }N\\tilde{c} + N\\tilde{s} \\leq X \\\\\n",
    "    & \\phantom{\\text{ s.t. } } X' = \\max \\biggl\\{0, \\bigl[X - N\\tilde{c}  - N\\tilde{s} - z \\bigl(\\frac{\\tilde{c}}{\\tilde{s}}\\bigr)^\\phi \\bigr](1 + g_x) \\biggr\\} \\\\\n",
    "    & \\phantom{\\text{ s.t. } } u(\\tilde{c}) = \\bar{u} + \\ln(\\tilde{c}) \\\\\n",
    "    & \\phantom{\\text{ s.t. } } z \\sim Exp( \\bar{z} ) \n",
    "\\end{align*} \n",
    "$$"
   ]
  },
  {
   "cell_type": "markdown",
   "metadata": {},
   "source": [
    "## Python Code\n",
    "\n",
    "We begin by defining a `namedtuple` that contains the parameters of our model. This is useful to pass the parameters around to functions that are just-in-time (JIT) compiled by `numba`."
   ]
  },
  {
   "cell_type": "code",
   "execution_count": 1902,
   "metadata": {},
   "outputs": [],
   "source": [
    "#\n",
    "# Create a named tuple type that we can pass into the jitted functions\n",
    "# so that we don't have to pass parameters one by one\n",
    "#\n",
    "Params = namedtuple(\"Params\", [\"N\", \"beta\", \"g\", \"a_bar\", \"eta\", \"u_bar\"])\n",
    "\n",
    "@jit(nopython=True)\n",
    "def param_unpack(params):\n",
    "    \"Unpack parameters from the Params type\"\n",
    "    out = (params.N, params.beta, params.g,\n",
    "           params.a_bar, params.eta, params.u_bar)\n",
    "\n",
    "    return out"
   ]
  },
  {
   "cell_type": "markdown",
   "metadata": {},
   "source": [
    "We will then define various helper functions to ensure that we [don't repeat ourselves](https://lectures.quantecon.org/py/writing_good_code.html#don-t-repeat-yourself) and that the inner functions can be JIT compiled."
   ]
  },
  {
   "cell_type": "code",
   "execution_count": 1903,
   "metadata": {},
   "outputs": [],
   "source": [
    "#\n",
    "# Helper functions to make sure things are jitted\n",
    "#\n",
    "@vectorize(nopython=True)\n",
    "def u(c, eta, u_bar):\n",
    "    \"log utility function\"\n",
    "    return -1e10 if c < 1e-10 else (u_bar + np.log(c)) if eta==1 else (u_bar + (c**(1-eta)/(1-eta)))\n",
    "\n",
    "@vectorize(nopython=True)\n",
    "def du(c,eta):\n",
    "    \"Derivative of log utility function\"\n",
    "    return 1e10 if c < 1e-10 else c**(-eta)\n",
    "\n",
    "@vectorize(nopython=True)\n",
    "def duinv(u,eta):\n",
    "    \"Inverse of the derivative of the CRRA utility function\"\n",
    "    return u**(-1.0/eta )\n",
    "\n",
    "@vectorize(nopython=True)\n",
    "def f(X):\n",
    "    \"production function\"\n",
    "    return X\n",
    "\n",
    "@vectorize(nopython=True)\n",
    "def df(X):\n",
    "    \"Derivative of production function\"\n",
    "    return 1\n",
    "\n",
    "@vectorize(nopython=True)\n",
    "def discount_factor(beta, a_bar, c, w):\n",
    "    \"risk adjusted discount factor\"\n",
    "    return beta*a_bar*w/(c + a_bar*w)\n",
    "\n",
    "@vectorize(nopython=True)\n",
    "def next_x(X, N, g, c, w):\n",
    "    # next period's CPR given c and w\n",
    "    return (X - N*(c + w))*(1+g)\n",
    "\n",
    "@vectorize(nopython=True)\n",
    "def vector_dampen(vec1, vec2, dampen=1):\n",
    "    return dampen*vec1 + (1-dampen)*vec2\n",
    "\n",
    "@vectorize(nopython=True)\n",
    "def expendables(X, Xp, N, g):\n",
    "    # get expendables given X and X prime\n",
    "    return (1/N)*(X - Xp/(1 + g))\n",
    "\n",
    "@vectorize(nopython=True)\n",
    "def c_from_X_Xp(X, Xp, Vp, beta, a):\n",
    "    # get expendables given X and X prime\n",
    "    return -(2*E*a - 2*E*a**2 + E*a*(Vp*beta*(4*a + Vp*beta - 4))**0.5 - E*Vp*a*beta)/(2*(a**2 - 2*a + 1))\n",
    "\n",
    "@vectorize(nopython=True)\n",
    "def c_from_exp(Vp, E, beta, a_bar):\n",
    "    if Vp <= 0: \n",
    "        return E\n",
    "    return  -(2*E*a_bar - 2*E*a_bar**2 + E*a_bar*(Vp*beta*(4*a_bar + Vp*beta - 4))**0.5 - E*Vp*a_bar*beta)/(2*(a_bar**2 - 2*a_bar + 1))\n",
    "\n",
    "\n",
    "\n",
    "def c_curve(x, a, b, c):\n",
    "    return a*np.log(x) + b*x + c\n",
    "\n",
    "def w_curve(x, a, b, c):\n",
    "    return a*np.log(x) + b*x + c\n",
    "\n",
    "def v_curve(x, a, b, c, d):\n",
    "    return a*np.log(x)/(c - (x**b)) + d\n",
    "\n",
    "\n",
    "@vectorize(nopython=True)\n",
    "def trunc_to_one(X):\n",
    "    return X if X >= 1 else 1\n",
    "\n",
    "@vectorize(nopython=True)\n",
    "def psurvival(a_bar, c, w):\n",
    "    return a_bar*w/(c + a_bar*w)\n"
   ]
  },
  {
   "cell_type": "markdown",
   "metadata": {},
   "source": [
    "We also now define a class that contains\n",
    "\n",
    "1. Parameters of the growth model\n",
    "2. Grids used for approximating the solution\n",
    "3. Nodes and weights used to approximate integration\n",
    "\n",
    "This again helps us maintain all of the relevant information in one place and simplifies passing it to other functions."
   ]
  },
  {
   "cell_type": "code",
   "execution_count": 1904,
   "metadata": {},
   "outputs": [],
   "source": [
    "class Model(object):\n",
    "    \"\"\"\n",
    "    The stochastic Neoclassical Growth model contains\n",
    "    parameters which include\n",
    "\n",
    "    * alpha: Capital share in output\n",
    "    * beta: discount factor\n",
    "    * delta: depreciation rate\n",
    "    * gamma: risk aversion\n",
    "    * rho: persistence of the log productivity level\n",
    "    * sigma: standard deviation of shocks to log productivity\n",
    "    \"\"\"\n",
    "    def __init__(self, N=1, beta=0.95, g_x=0.02, g_a=0.015, a_bar=1000, \n",
    "                 eta=1, u_bar=0, \n",
    "                 xmin=1, xmax=2000, nx=25):\n",
    "        # calculate g from g_a and g_x \n",
    "        g = g_a + g_x + g_a*g_x\n",
    "\n",
    "        # Household parameters\n",
    "        self.beta, self.eta, self.u_bar, = beta, eta, u_bar\n",
    "\n",
    "        # Firm/technology parameters\n",
    "        self.N, self.g, self.a_bar = N, g, a_bar\n",
    "\n",
    "        # Create t grids\n",
    "        self.xgrid = N*np.geomspace(xmin, xmax, nx)\n",
    "        self.grid = np.reshape(self.xgrid, [self.xgrid.shape[0], 1])\n",
    "        \n",
    "        self.ns = nx\n",
    "        \n",
    "    def _unpack_params(self):\n",
    "        out = (self.N, self.beta, self.g, \n",
    "               self.a_bar, self.eta, self.u_bar)\n",
    "        return out\n",
    "\n",
    "    def _unpack_grids(self):\n",
    "        out = (self.xgrid, self.grid)\n",
    "        return out\n"
   ]
  },
  {
   "cell_type": "markdown",
   "metadata": {},
   "source": [
    "## Solution Methods\n",
    "\n",
    "In this notebook, we describe the following solution methods:\n",
    "\n",
    "* Conventional Value Function Iteration\n",
    "* Envelope Condition Value Function Iteration\n",
    "* Envelope Condition Derivative Value Function Iteration\n",
    "* Endogenous Grid Value Function Iteration\n",
    "* Conventional Policy Function Iteration\n",
    "* Envelope Condition Policy Function Iteration\n",
    "* Euler Equation Method\n",
    "\n",
    "Each of these solution methods will have a very similar structure that follows a few basic steps:\n",
    "\n",
    "1. Guess a function (either value function or policy function).\n",
    "2. Using this function, update our guess of both the value and policy functions.\n",
    "3. Check whether the function we guessed and what it was updated to are similar enough. If so, proceed. If not, return to step 2 using the updated functions.\n",
    "4. Output the policy and value functions.\n",
    "\n",
    "In order to reduce the amount of repeated code and keep the exposition as clean as possible (the notebook is plenty long as is...), we will define a class for each solution method that inherit various properties from a general solution parent class. The parent class will contain methods which apply to all of the other solution methods such as a general solve method, computing expectations, simulating, etc... This implementation may feel strange at first if one isn't familiar with object oriented programming, but these concepts can be powerful when properly used."
   ]
  },
  {
   "cell_type": "code",
   "execution_count": 1905,
   "metadata": {},
   "outputs": [],
   "source": [
    "class GeneralSolution:\n",
    "    \"\"\"\n",
    "    This is a general solution method. We define this, so that we can\n",
    "    sub-class it and define specific update methods for each particular\n",
    "    solution method\n",
    "    \"\"\"\n",
    "    def __init__(self, ncgm,  maxfev=10000, prev_sol=None):\n",
    "        self.Xinf = None\n",
    "        # Save model and approximation degree\n",
    "        self.ncgm,  self.maxfev = ncgm, maxfev\n",
    "\n",
    "        # Unpack some info from ncgm\n",
    "        N, beta, g, a_bar, eta, u_bar = self._unpack_params()\n",
    "        X = self.ncgm.xgrid\n",
    "\n",
    "        # Use parameter values from model to create a namedtuple with\n",
    "        # parameters saved inside\n",
    "        self.params = Params(N, beta, g, a_bar, eta, u_bar)\n",
    "\n",
    "        # Update to fill initial value and policy matrices\n",
    "        # If we give it another solution type then use it to\n",
    "        # generate values and policies\n",
    "        if issubclass(type(prev_sol), GeneralSolution):\n",
    "            self.CP = c_curve(X, *prev_sol.c_params)\n",
    "            self.WP = w_curve(X, *prev_sol.w_params)\n",
    "            self.VF = v_curve(X, *prev_sol.v_params)\n",
    "        # If we give it a tuple then assume it is (policy, value) pair\n",
    "        elif type(prev_sol) is tuple:\n",
    "            self.CP = prev_sol[0]\n",
    "            self.WP = prev_sol[1]\n",
    "            self.VF = prev_sol[2]\n",
    "        # Otherwise guess a constant value function and a policy\n",
    "        # of roughly steady state\n",
    "        else:\n",
    "            # guess VF\n",
    "            self.VF = np.log(X/N) # np.ones(ncgm.ns)\n",
    "            \n",
    "            \n",
    "            \n",
    "            # make a guess at steady state\n",
    "            Exp = expendables(X, X, N, g)\n",
    "            \n",
    "            self.CP = 0.9*Exp\n",
    "            self.WP = Exp - self.CP\n",
    "\n",
    "        # Params based on guesses\n",
    "        self.c_params, _ = opt.curve_fit(c_curve, X, self.CP, maxfev=self.maxfev)\n",
    "        self.w_params, _ = opt.curve_fit(w_curve, X, self.WP, maxfev=self.maxfev)\n",
    "        self.v_params, _ = opt.curve_fit(v_curve, X, self.VF, maxfev=self.maxfev)\n",
    "\n",
    "\n",
    "    def _unpack_params(self):\n",
    "        return self.ncgm._unpack_params()\n",
    "    \n",
    "    def build_all(self, X=None):\n",
    "        if X is None:\n",
    "            X = self.ncgm.xgrid\n",
    "            \n",
    "        CP = self.build_CP(X)\n",
    "        WP = self.build_WP(X)\n",
    "        VF = self.build_VF(X)\n",
    "        \n",
    "        # corner solution\n",
    "        CP_corner = X/self.ncgm.N\n",
    "        WP_corner = X*0 \n",
    "        VF_corner = u(CP_corner, self.ncgm.eta, self.ncgm.u_bar)\n",
    "\n",
    "        corner_idx = (CP > CP_corner) + (CP < 0) + (WP > CP_corner) + (WP < 0) + (VF < VF_corner)\n",
    "        \n",
    "        CP[corner_idx] = CP_corner[corner_idx]\n",
    "        WP[corner_idx] = WP_corner[corner_idx]\n",
    "        VF[corner_idx] = VF_corner[corner_idx]  \n",
    "        \n",
    "        return CP, WP, VF\n",
    "    \n",
    "    def build_all_scalar(self, x): \n",
    "        cp = c_curve(x, *self.c_params)\n",
    "        wp = w_curve(x, *self.w_params)\n",
    "        vf = v_curve(x, *self.v_params)\n",
    "        \n",
    "        # corner solution\n",
    "        cp_corner = x/self.ncgm.N\n",
    "        wp_corner = 0\n",
    "        vf_corner = u(cp_corner, self.ncgm.eta, self.ncgm.u_bar)\n",
    "        \n",
    "        if (cp > cp_corner) or (cp < 0) or (wp > cp_corner) or (wp < 0) or (vf < vf_corner):\n",
    "                return cp_corner, wp_corner, vf_corner\n",
    "            \n",
    "        return cp, wp, vf\n",
    "\n",
    "        \n",
    "    def build_VF(self, X=None):\n",
    "        \"\"\"\n",
    "        Using the current coefficients, this builds the value function\n",
    "        for all states\n",
    "        \"\"\"\n",
    "        if X is None:\n",
    "            X = self.ncgm.xgrid\n",
    "            \n",
    "        VF = v_curve(X, *self.v_params)\n",
    "\n",
    "        return VF\n",
    "\n",
    "    def build_CP(self, X=None):\n",
    "        \"\"\"\n",
    "        Using the current coefficients, this builds the policy function\n",
    "        for all states\n",
    "        \"\"\"\n",
    "        if X is None:\n",
    "            X = self.ncgm.xgrid\n",
    "            \n",
    "        CP = np.clip(c_curve(X, *self.c_params), 0, X/self.ncgm.N)\n",
    "\n",
    "        return CP\n",
    "    \n",
    "    def build_WP(self, X=None):\n",
    "        \"\"\"\n",
    "        Using the current coefficients, this builds the policy function\n",
    "        for all states\n",
    "        \"\"\"\n",
    "        if X is None:\n",
    "            X = self.ncgm.xgrid\n",
    "            \n",
    "        WP = np.clip(w_curve(X, *self.w_params), 0, X/self.ncgm.N)\n",
    "\n",
    "        return WP\n",
    "\n",
    "    def update_v(self, new_v_params, dampen=1):\n",
    "        \"\"\"\n",
    "        Updates the coefficients for the value function\n",
    "        \"\"\"\n",
    "        self.v_params = (1-dampen)*self.v_params + dampen*new_v_params\n",
    "\n",
    "        return None\n",
    "\n",
    "    def update_c(self, new_c_params, dampen=1):\n",
    "        \"\"\"\n",
    "        Updates the coefficients for the policy function\n",
    "        \"\"\"\n",
    "        self.c_params = (1-dampen)*self.c_params + dampen*new_c_params\n",
    "\n",
    "        return None\n",
    "    \n",
    "    def update_w(self, new_w_params, dampen=1):\n",
    "        \"\"\"\n",
    "        Updates the coefficients for the policy function\n",
    "        \"\"\"\n",
    "        self.w_params = (1-dampen)*self.w_params + dampen*new_w_params\n",
    "\n",
    "        return None\n",
    "\n",
    "    def update(self):\n",
    "        \"\"\"\n",
    "        Given the current state of everything in solution, update the\n",
    "        value and policy coefficients\n",
    "        \"\"\"\n",
    "        emsg = \"The update method is implemented in solution specific classes\"\n",
    "        emsg += \"\\nand cannot be called from `GeneralSolution`\"\n",
    "        raise ValueError(emsg)\n",
    "        \n",
    "    def compute_spline(self, cp, wp, VF):\n",
    "        v_spline = interp1d(\n",
    "            self.ncgm.xgrid, \n",
    "            VF, \n",
    "            kind=self.interpolator, \n",
    "            fill_value=\"extrapolate\",\n",
    "            assume_sorted=True\n",
    "        )\n",
    "      \n",
    "        return v_spline\n",
    "    \n",
    "    def compute_params(self, cp, wp, VF):\n",
    "        new_c_params, _ = opt.curve_fit(c_curve, self.ncgm.xgrid, cp, maxfev=self.maxfev)\n",
    "        new_w_params, _ = opt.curve_fit(w_curve, self.ncgm.xgrid, wp, maxfev=self.maxfev)\n",
    "        new_v_params, _ = opt.curve_fit(v_curve, self.ncgm.xgrid, VF, maxfev=self.maxfev) \n",
    "        \n",
    "        return new_c_params, new_w_params, new_v_params\n",
    "\n",
    "    def compute_EV_scalar(self, Xn):\n",
    "        val = v_curve(trunc_to_one(Xn), *self.v_params)\n",
    "        \n",
    "        return val\n",
    "\n",
    "    def compute_dEV_scalar(self, Xn):\n",
    "        v_curve_curried = lambda x: v_curve(x, *self.v_params)\n",
    "        val = derivative( v_curve_curried, trunc_to_one(Xn), self.dx)\n",
    "        \n",
    "        return val \n",
    "\n",
    "    def compute_EV(self, Xn=None):\n",
    "        \"\"\"\n",
    "        Compute the expected value\n",
    "        \"\"\"\n",
    "        if Xn is None:\n",
    "            # Unpack parameters\n",
    "            N, beta, g, a_bar, eta, u_bar = self._unpack_params()\n",
    "\n",
    "            # Use policy to compute cp and wp\n",
    "            cp = self.build_CP()\n",
    "            cp = c_curve(X, *self.c_params)\n",
    "            wp = w_curve(X, *self.w_params)\n",
    "            Xn = next_x(self.ncgm.xgrid, N, g, cp, wp)\n",
    "        \n",
    "        EV = v_curve(trunc_to_one(Xn), *self.v_params)\n",
    "        \n",
    "        return EV\n",
    "\n",
    "\n",
    "    def compute_dEV(self, Xn=None):\n",
    "        \"\"\"\n",
    "        Compute the derivative of the expected value\n",
    "        \"\"\"\n",
    "        # Use policy to compute cp and wp\n",
    "        if Xn is None:\n",
    "            # Unpack parameters\n",
    "            N, beta, g, a_bar, eta, u_bar = self._unpack_params()\n",
    "            X = self.ncgm.xgrid\n",
    "            cp = c_curve(X, *self.c_params)\n",
    "            wp = w_curve(X, *self.w_params)\n",
    "            Xn = next_x(X, N, g, cp, wp)\n",
    "        \n",
    "        v_curve_curried = lambda x: v_curve(x, *self.v_params)\n",
    "        val = derivative( v_curve_curried, trunc_to_one(Xn), self.dx)\n",
    "        \n",
    "        return dEV\n",
    "\n",
    "\n",
    "    def compute_distance(self, cp, wp, VF):\n",
    "        \"\"\"\n",
    "        Computes average distance between policy functions\n",
    "        \"\"\"\n",
    "        return np.max([\n",
    "            np.max(np.abs(1.0 - (cp+1e-12)/(self.CP+1e-12))), \n",
    "            np.max(np.abs(1.0 - (wp+1e-12)/(self.WP+1e-12)))\n",
    "        ])\n",
    "    \n",
    "\n",
    "    def solve(self, tol=1e-3, maxiter=2500, verbose=False, nskipprint=25):\n",
    "        # Iterate until convergence\n",
    "        dist, it = 10.0, 0\n",
    "        while (dist>tol) and (it<maxiter):\n",
    "            # Run solution specific update code\n",
    "            cp, wp, VF = self.update()\n",
    "\n",
    "            # Compute new policy and value coeffs\n",
    "            new_c_params, new_w_params, new_v_params = self.compute_params(cp, wp, VF)\n",
    "\n",
    "            # Update distance and iterations\n",
    "            dist = self.compute_distance(cp, wp, VF)\n",
    "            self.CP, self.WP, self.VF = cp, wp, VF\n",
    "            it += 1\n",
    "            if verbose and it%nskipprint == 0:\n",
    "                print(it, dist)\n",
    "\n",
    "            # Update all coefficients\n",
    "            self.update_c(new_c_params)\n",
    "            self.update_w(new_w_params)\n",
    "            self.update_v(new_v_params)\n",
    "\n",
    "        # After finishing iteration, iterate to convergence using policy\n",
    "        if not isinstance(self, IterateOnPolicy):\n",
    "            sol_iop = IterateOnPolicy(self.ncgm, self.maxfev, self)\n",
    "            cp, wp, VF = sol_iop.solve(tol=1e-5)\n",
    "\n",
    "            # Save final versions of everything\n",
    "            self.CP, self.WP, self.VF = cp, wp, VF\n",
    "            \n",
    "            new_c_params, new_w_params, new_v_params = sol_iop.compute_params(cp, wp, VF)\n",
    "            self.update_c(new_c_params)\n",
    "            self.update_w(new_w_params)\n",
    "            self.update_v(new_v_params)\n",
    "\n",
    "        return self.CP, self.WP, self.VF\n",
    "        \n",
    "\n",
    "    def simulate(self, X=None, T=1000, s=1):\n",
    "        \"\"\"\n",
    "        Simulates the neoclassical growth model with policy function\n",
    "        given by self.KP. Simulates for `T` periods and discarsd first\n",
    "        nburn `observations`\n",
    "        \"\"\"\n",
    "        N, beta, g, a_bar, eta, u_bar = self._unpack_params()\n",
    "        # X is starting point, if None, set to N*274\n",
    "        if X is None:\n",
    "            X = N*274\n",
    "            \n",
    "        def recurse_bellman(x, t):\n",
    "            if x <= 0:\n",
    "                return 0, 0, x, t\n",
    "            if t >= T:\n",
    "                return u(x/N, eta, u_bar), 1, x, T\n",
    "            \n",
    "            c_corner = x/N \n",
    "            u_corner = u(c_corner, eta, u_bar)\n",
    "            \n",
    "            c = s*self.build_CP(x)\n",
    "            w = s*self.build_WP(x)\n",
    "\n",
    "            \n",
    "            if w <= 0:\n",
    "                c = c_corner \n",
    "                \n",
    "            m_t = psurvival(a_bar, c, w)\n",
    "            u_t = u(c, eta, u_bar)\n",
    "            x_prime = next_x(x, N, g, c, w)\n",
    "            \n",
    "            v_prime, m_prime, final_state, nperiods = recurse_bellman(x_prime, t+1)\n",
    "            \n",
    "            if u_t + beta*m_t*v_prime < u_corner:\n",
    "                return u_corner, 0, 0, t+1\n",
    "            \n",
    "            return u_t + beta*m_t*v_prime, m_t*m_prime, final_state, nperiods\n",
    "        \n",
    "        return recurse_bellman(X, 0)\n",
    "        \n",
    "    \n",
    "    def compute_Xdot(self, X):\n",
    "        N, beta, g, a_bar, eta, u_bar = self._unpack_params()\n",
    "        cp = c_curve(X, *self.c_params)\n",
    "        wp = w_curve(X, *self.w_params)\n",
    "        Xn = next_x(X, N, g, cp, wp)\n",
    "        \n",
    "        return Xn - X\n",
    "        \n",
    "    def compute_Xinflection(self):\n",
    "        N, beta, g, a_bar, eta, u_bar = self._unpack_params()\n",
    "        floor = N\n",
    "        ceil = N*1000\n",
    "        for i in range(4):\n",
    "            X = np.linspace(floor, ceil, 100)\n",
    "            Xdot = self.compute_Xdot(X)\n",
    "            idx = np.argmin(Xdot[Xdot > 0])\n",
    "            floor = X[idx]\n",
    "            if idx < 99:\n",
    "                ceil = X[idx + 1]\n",
    "        \n",
    "        return floor"
   ]
  },
  {
   "cell_type": "markdown",
   "metadata": {},
   "source": [
    "### Iterating to Convergence (given policy)\n",
    "\n",
    "This isn't one of the methods described above, but it is used as an element of a few of our methods (and also as a way to get a first guess at the value function). This method takes an initial policy function, $\\bar{k}(k_t, z_t)$, as given, and then, without changing the policy, iterates until the value function has converged.\n",
    "\n",
    "Thus the \"update section\" of the algorithm in this instance would be:\n",
    "\n",
    "* Leave policy function unchanged\n",
    "* At each point of grid, $(k_t, z_t)$, compute $\\hat{V}(k_t, z_t) = u(c(\\bar{k}(k_t, z_t))) + \\beta E \\left[ V(\\bar{k}(k_t, z_t), z_{t+1}) \\right]$\n",
    "\n",
    "We override two of the methods from `GeneralSolution`\n",
    "\n",
    "* `compute_distance` because when we are iterating to convergence on the value function we want to check distnace using value function rather than policy function\n",
    "* `compute_coefficients` because we don't need to update the policy functions coefficients.\n",
    "\n",
    "The `update` method just repeatedly applies a particular policy function to update the value function."
   ]
  },
  {
   "cell_type": "code",
   "execution_count": 1906,
   "metadata": {},
   "outputs": [],
   "source": [
    "class IterateOnPolicy(GeneralSolution):\n",
    "    \"\"\"\n",
    "    Subclass of the general solution method. The update method for this\n",
    "    class simply computes the fixed point of the value function given\n",
    "    a specific policy\n",
    "    \"\"\"\n",
    "    def compute_distance(self, cp, wp, VF):\n",
    "        \"\"\"\n",
    "        Computes distance between policy functions. When we are\n",
    "        iterating on a specific policy, we would like to compute\n",
    "        distances by the difference between VFs\n",
    "        \"\"\"\n",
    "        return np.max(np.abs(1.0 - (VF )/(self.VF )))\n",
    "\n",
    "    def compute_coefficients(self, cp, wp, VF):\n",
    "        \"\"\"\n",
    "        Given a policy and value return corresponding coefficients.\n",
    "        When we are iterating on a specific policy, we don't want to\n",
    "        update the policy coefficients.\n",
    "        \"\"\"\n",
    "        new_v_coeffs = la.lstsq(self.Phi, VF)[0]\n",
    "\n",
    "        return self.c_coeffs, self.w_coeffs, new_v_coeffs\n",
    "    \n",
    "    def compute_spline(self, VF):\n",
    "        new_v_spline = interp1d(\n",
    "            self.ncgm.xgrid, \n",
    "            VF, \n",
    "            kind=self.interpolator, \n",
    "            fill_value=\"extrapolate\",\n",
    "            assume_sorted=True\n",
    "        )\n",
    "        \n",
    "        return new_v_spline\n",
    "    \n",
    "    def compute_params(self, cp, wp, VF):\n",
    "        new_v_params, _ = opt.curve_fit(v_curve, self.ncgm.xgrid, VF, maxfev=self.maxfev) \n",
    "        \n",
    "        return self.c_params, self.w_params, new_v_params\n",
    "    \n",
    "    def update(self):\n",
    "        # Unpack parameters\n",
    "        N, beta, g, a_bar, eta, u_bar = self._unpack_params()\n",
    "        X = self.ncgm.xgrid\n",
    "        \n",
    "        Xn = next_x(X, N, g, self.CP, self.WP)\n",
    "\n",
    "        # Update the value function\n",
    "        VF = u(self.CP, eta, u_bar) + discount_factor(beta, a_bar, self.CP, self.WP)*np.maximum(self.compute_EV(Xn), np.zeros(self.ncgm.ns))\n",
    "\n",
    "        return self.CP, self.WP, VF"
   ]
  },
  {
   "cell_type": "markdown",
   "metadata": {},
   "source": [
    "### Conventional Value Function Iteration\n",
    "\n",
    "This is one of the first solution methods for macroeconomics a graduate student in economics typically learns.\n",
    "\n",
    "In this solution method, one takes as given a value function, $V(k_t, z_t)$, and then solves for the optimal policy given the value function.\n",
    "\n",
    "The update section takes the form:\n",
    "\n",
    "* For each point, $(k_t, z_t)$, numerically solve for $c^*(k_t, z_t)$ to satisfy the first order condition $u'(c^*) = \\beta E \\left[ V_1((1 - \\delta) k_t + z_t f(k_t) - c^*, z_{t+1}) \\right]$\n",
    "* Define $k^*(k_t, z_t) = (1 - \\delta) k_t + z_t f(k_t) - c^*(k_t, z_t)$\n",
    "* Update value function according to $\\hat{V}(k_t, z_t) = u(c^*(k_t, z_t)) + \\beta E \\left[ V(k^*(k_t, z_t), z_{t+1}) \\right]$\n",
    "\n",
    "\n",
    "* For each point, $(X_t, z_t)$, numerically solve for $c^*(X_t, z_t)$ to satisfy the first order condition $u'(\\tilde{c}^\\ast) = \\beta E \\left[ V_1((1 - \\delta) k_t + z_t f(k_t) - c^*, z_{t+1}) \\right]$\n",
    "* Define $k^*(k_t, z_t) = (1 - \\delta) k_t + z_t f(k_t) - c^*(k_t, z_t)$\n",
    "* Update value function according to $\\hat{V}(k_t, z_t) = u(c^*(k_t, z_t)) + \\beta E \\left[ V(k^*(k_t, z_t), z_{t+1}) \\right]$\n",
    "\n",
    "\n"
   ]
  },
  {
   "cell_type": "code",
   "execution_count": 1907,
   "metadata": {},
   "outputs": [],
   "source": [
    "class VFI(GeneralSolution):\n",
    "    \"\"\"\n",
    "    Updates the coefficients and value functions using the VFI\n",
    "    method\n",
    "    \"\"\"\n",
    "    def update(self):\n",
    "        \"\"\"\n",
    "        Updates the coefficients and value functions using the VFI_ECM\n",
    "        method\n",
    "        \"\"\"\n",
    "        # Unpack parameters\n",
    "        N, beta, g, a_bar, eta, u_bar = self._unpack_params()\n",
    "        xgrid = self.ncgm.xgrid\n",
    "        n_state = xgrid.shape[0]\n",
    "\n",
    "        # Get the policy and update it\n",
    "        cp = np.empty(n_state)\n",
    "        wp = np.empty(n_state)\n",
    "        VF = np.empty(n_state)\n",
    "        for i_s in range(n_state):\n",
    "            # Pull out current vals\n",
    "            X = xgrid[i_s]\n",
    "            def _f(xp):\n",
    "                EV = self.compute_EV_scalar(xp)\n",
    "                Exp = expendables(X, xp, N, g)\n",
    "                if Exp <= 0:\n",
    "                    _cp = X/N\n",
    "                    return -u(_cp, 1, u_bar)**2\n",
    "\n",
    "                _cp = np.clip(c_from_exp(EV, Exp, beta, a_bar), 0, Exp)\n",
    "                _wp = Exp - _cp\n",
    "                return -(u(_cp, 1, u_bar) + discount_factor(beta, a_bar, _cp, _wp)*EV)**2\n",
    "                \n",
    "            \n",
    "            _xp = opt.fminbound(_f, 1, X*(1+g), xtol=1e-12)\n",
    "            EV = self.compute_EV_scalar(_xp)\n",
    "            Exp = expendables(X, _xp, N, g)\n",
    "            if Exp <= 0:\n",
    "                _cp = X/N\n",
    "                _wp = 0\n",
    "                _vf = u(_cp, 1, u_bar)\n",
    "            else:\n",
    "                _cp = np.clip(c_from_exp(EV, Exp, beta, a_bar), 0, Exp)\n",
    "                _wp = Exp - _cp\n",
    "                _vf = u(_cp, 1, u_bar) + discount_factor(beta, a_bar, _cp, _wp)*EV\n",
    "             \n",
    "            if _vf < 0:\n",
    "                cp[i_s] = X/N\n",
    "                wp[i_s] = 0\n",
    "                VF[i_s] = u(X/N, eta, u_bar)\n",
    "            else:                \n",
    "                cp[i_s] = _cp\n",
    "                wp[i_s] = _wp\n",
    "                VF[i_s] = _vf\n",
    "\n",
    "        return cp, wp, VF\n"
   ]
  },
  {
   "cell_type": "markdown",
   "metadata": {},
   "source": [
    "## A Horse Race\n",
    "\n",
    "We can now run a horse race to compare the methods in terms of both accuracy and speed."
   ]
  },
  {
   "cell_type": "code",
   "execution_count": 1908,
   "metadata": {
    "scrolled": true
   },
   "outputs": [
    {
     "name": "stderr",
     "output_type": "stream",
     "text": [
      "/Users/mikemahon/anaconda3/lib/python3.8/site-packages/scipy/optimize/minpack.py:828: OptimizeWarning: Covariance of the parameters could not be estimated\n",
      "  warnings.warn('Covariance of the parameters could not be estimated',\n",
      "/Users/mikemahon/anaconda3/lib/python3.8/site-packages/scipy/optimize/minpack.py:828: OptimizeWarning: Covariance of the parameters could not be estimated\n",
      "  warnings.warn('Covariance of the parameters could not be estimated',\n"
     ]
    },
    {
     "name": "stdout",
     "output_type": "stream",
     "text": [
      "vp done\n"
     ]
    },
    {
     "name": "stderr",
     "output_type": "stream",
     "text": [
      "/Users/mikemahon/anaconda3/lib/python3.8/site-packages/scipy/optimize/minpack.py:828: OptimizeWarning: Covariance of the parameters could not be estimated\n",
      "  warnings.warn('Covariance of the parameters could not be estimated',\n"
     ]
    },
    {
     "name": "stdout",
     "output_type": "stream",
     "text": [
      "25 0.018965042165053903\n",
      "50 0.0041677904518055975\n",
      "75 0.0010897120140825889\n",
      "100 0.00029685246360899864\n",
      "125 8.18005193898852e-05\n",
      "150 2.2787332228157986e-05\n",
      "175 6.510942788806595e-06\n",
      "200 2.0036644294840755e-06\n"
     ]
    }
   ],
   "source": [
    "ncgm = Model(N=1, a_bar=1e5, beta=0.95, g_x=0.05, xmin=10, xmax=2500, nx=100)\n",
    "\n",
    "# First guess\n",
    "vp = IterateOnPolicy(ncgm, maxfev=50000)\n",
    "vp.solve(tol=1e-9)\n",
    "\n",
    "np.random.seed(61089)\n",
    "\n",
    "\n",
    "\n",
    "print('vp done')\n",
    "new_sol = vp\n",
    "new_sol = VFI(ncgm, maxfev=100000, prev_sol=None)\n",
    "ts = time.time()\n",
    "new_sol.solve(tol=1e-6, verbose=True, nskipprint=25)\n",
    "time_took = time.time() - ts"
   ]
  },
  {
   "cell_type": "code",
   "execution_count": 1909,
   "metadata": {},
   "outputs": [
    {
     "data": {
      "text/plain": [
       "0.06575"
      ]
     },
     "execution_count": 1909,
     "metadata": {},
     "output_type": "execute_result"
    }
   ],
   "source": [
    "new_sol.ncgm.g"
   ]
  },
  {
   "cell_type": "code",
   "execution_count": 1910,
   "metadata": {},
   "outputs": [
    {
     "data": {
      "text/plain": [
       "array([ 100.        ,  103.30482495,  106.71886859,  110.24574039,\n",
       "        113.88916913,  117.65300681,  121.54123274,  125.55795773,\n",
       "        129.70742845,  133.99403191,  138.42230011,  142.99691483,\n",
       "        147.72271256,  152.60468962,  157.64800749,  162.85799818,\n",
       "        168.24016994,  173.80021306,  179.54400588,  185.47762099,\n",
       "        191.60733169,  197.9396186 ,  204.48117651,  211.23892146,\n",
       "        218.21999805,  225.431787  ,  232.88191295,  240.57825253,\n",
       "        248.52894265,  256.74238917,  265.22727571,  273.99257291,\n",
       "        283.04754783,  292.40177382,  302.06514061,  312.04786476,\n",
       "        322.36050046,  333.01395072,  344.01947887,  355.38872045,\n",
       "        367.13369557,  379.26682156,  391.80092612,  404.7492609 ,\n",
       "        418.12551548,  431.94383185,  446.2188194 ,  460.96557029,\n",
       "        476.19967549,  491.9372412 ,  508.1949059 ,  524.98985797,\n",
       "        542.3398538 ,  560.26323663,  578.77895589,  597.90658725,\n",
       "        617.66635335,  638.07914513,  659.16654395,  680.95084438,\n",
       "        703.45507781,  726.70303677,  750.71930007,  775.52925884,\n",
       "        801.15914331,  827.63605061,  854.98797334,  883.24382924,\n",
       "        912.43349172,  942.58782144,  973.73869898, 1005.9190585 ,\n",
       "       1039.16292256, 1073.50543814, 1108.98291375, 1145.63285782,\n",
       "       1183.4940184 , 1222.60642405, 1263.01142624, 1304.75174304,\n",
       "       1347.87150423, 1392.41629806, 1438.43321935, 1485.97091933,\n",
       "       1535.07965709, 1585.81135266, 1638.21964198, 1692.35993351,\n",
       "       1748.28946691, 1806.06737349, 1865.75473874, 1927.41466694,\n",
       "       1991.11234783, 2056.91512557, 2124.89256993, 2195.11654983,\n",
       "       2267.66130935, 2342.60354618, 2420.02249276, 2500.        ])"
      ]
     },
     "execution_count": 1910,
     "metadata": {},
     "output_type": "execute_result"
    }
   ],
   "source": [
    "X = new_sol.ncgm.xgrid\n",
    "X"
   ]
  },
  {
   "cell_type": "code",
   "execution_count": 1911,
   "metadata": {},
   "outputs": [
    {
     "data": {
      "text/plain": [
       "460.9655702898514"
      ]
     },
     "execution_count": 1911,
     "metadata": {},
     "output_type": "execute_result"
    }
   ],
   "source": [
    "X = new_sol.ncgm.xgrid\n",
    "(X/N)[47]"
   ]
  },
  {
   "cell_type": "code",
   "execution_count": 1912,
   "metadata": {},
   "outputs": [
    {
     "data": {
      "text/plain": [
       "0.012062259785477881"
      ]
     },
     "execution_count": 1912,
     "metadata": {},
     "output_type": "execute_result"
    }
   ],
   "source": [
    "(new_sol.compute_Xdot(X)/X)[48]"
   ]
  },
  {
   "cell_type": "code",
   "execution_count": 1913,
   "metadata": {},
   "outputs": [
    {
     "data": {
      "text/plain": [
       "array([36.09794264, 36.74339378, 37.38883076, 38.03425565, 38.67967032,\n",
       "       39.32507649, 39.97047569, 40.61586931, 41.26125856, 41.90664452,\n",
       "       42.55202814, 43.19741023, 43.8427915 , 44.48817253, 45.13355385,\n",
       "       45.77893585, 46.42431889, 47.06970325, 47.71508914, 48.36047672,\n",
       "       49.00586613, 49.65125745, 50.29665074, 50.94204602, 51.58744332,\n",
       "       52.23284261, 52.87824388, 53.52364709, 54.16905221, 54.81445918,\n",
       "       55.45986796, 56.1052785 , 56.75069074, 57.39610463, 58.04152012,\n",
       "       58.68693715, 59.33235567, 59.97777565, 60.62319703, 61.26861977,\n",
       "       61.91404383, 62.55946919, 63.2048958 , 63.85032363, 64.49575266,\n",
       "       65.14118286, 65.7866142 , 66.43204667, 67.07748025, 67.72291492,\n",
       "       68.36835066, 69.01378746, 69.6592253 , 70.30466417, 70.95010407,\n",
       "       71.59554498, 72.24098689, 72.8864298 , 73.53187368, 74.17731855,\n",
       "       74.82276438, 75.46821118, 76.11365892, 76.75910762, 77.40455725,\n",
       "       78.05000782, 78.69545931, 79.34091172, 79.98636503, 80.63181925,\n",
       "       81.27727436, 81.92273036, 82.56818723, 83.21364498, 83.85910358,\n",
       "       84.50456303, 85.15002332, 85.79548444, 86.44094639, 87.08640914,\n",
       "       87.7318727 , 88.37733704, 89.02280217, 89.66826806, 90.31373472,\n",
       "       90.95920211, 91.60467024, 92.2501391 , 92.89560866, 93.54107893,\n",
       "       94.18654988, 94.83202151, 95.4774938 , 96.12296674, 96.76844032,\n",
       "       97.41391452, 98.05938934, 98.70486477, 99.35034078, 99.99581737])"
      ]
     },
     "execution_count": 1913,
     "metadata": {},
     "output_type": "execute_result"
    }
   ],
   "source": [
    "new_sol.VF"
   ]
  },
  {
   "cell_type": "code",
   "execution_count": 1914,
   "metadata": {},
   "outputs": [
    {
     "data": {
      "text/plain": [
       "56.10527850142629"
      ]
     },
     "execution_count": 1914,
     "metadata": {},
     "output_type": "execute_result"
    }
   ],
   "source": [
    "idx = np.searchsorted(X, 270, side='left')\n",
    "new_sol.VF[idx]"
   ]
  },
  {
   "cell_type": "code",
   "execution_count": 1915,
   "metadata": {},
   "outputs": [
    {
     "data": {
      "text/plain": [
       "273.99257290531517"
      ]
     },
     "execution_count": 1915,
     "metadata": {},
     "output_type": "execute_result"
    }
   ],
   "source": [
    "new_sol.ncgm.xgrid[idx]"
   ]
  },
  {
   "cell_type": "code",
   "execution_count": 1916,
   "metadata": {},
   "outputs": [
    {
     "data": {
      "text/plain": [
       "0.00043954382494482136"
      ]
     },
     "execution_count": 1916,
     "metadata": {},
     "output_type": "execute_result"
    }
   ],
   "source": [
    "N, beta, g, a_bar, eta, u_bar = new_sol._unpack_params()\n",
    "1 - psurvival(a_bar, new_sol.CP[idx], new_sol.WP[idx])"
   ]
  },
  {
   "cell_type": "code",
   "execution_count": 1917,
   "metadata": {},
   "outputs": [],
   "source": [
    "# make a function for M_T(T)\n",
    "# X = np.arange(500,1e5, 5e3)\n",
    "# o = 2\n",
    "# for i in range(o):\n",
    "    \n",
    "# CP = new_sol.build_CP(X)\n",
    "# CP_lead1 = new_sol.build_CP(X+1)\n",
    "# CP_lead1 = new_sol.build_CP(X+1)\n",
    "# WP = new_sol.build_WP(X)\n",
    "# WP_lead1 = new_sol.build_WP(X+1)\n",
    "# haz = 1 - psurvival(a_bar, CP, WP)\n",
    "# haz_lead1 = 1 - psurvival(a_bar, CP_lead, WP_lead)\n",
    "# haz_ratio_1 = haz_lead/haz\n",
    "# haz_ratio_2 = \n",
    "# haz_ratio_2 "
   ]
  },
  {
   "cell_type": "code",
   "execution_count": 1918,
   "metadata": {},
   "outputs": [
    {
     "data": {
      "text/plain": [
       "array([0.01205842, 0.01206669, 0.01206706, 0.01206719, 0.01206727,\n",
       "       0.01206732, 0.01206735, 0.01206737, 0.01206739, 0.0120674 ])"
      ]
     },
     "execution_count": 1918,
     "metadata": {},
     "output_type": "execute_result"
    }
   ],
   "source": [
    "X = np.linspace(50,50000,10)\n",
    "new_sol.compute_Xdot(X)/X"
   ]
  },
  {
   "cell_type": "code",
   "execution_count": 1919,
   "metadata": {},
   "outputs": [
    {
     "data": {
      "text/plain": [
       "31"
      ]
     },
     "execution_count": 1919,
     "metadata": {},
     "output_type": "execute_result"
    }
   ],
   "source": [
    "idx"
   ]
  },
  {
   "cell_type": "code",
   "execution_count": 1920,
   "metadata": {
    "scrolled": true
   },
   "outputs": [
    {
     "data": {
      "text/plain": [
       "(55.80653028306011, 0.5468045004650354, 7078933947763.308, 2000)"
      ]
     },
     "execution_count": 1920,
     "metadata": {},
     "output_type": "execute_result"
    }
   ],
   "source": [
    "new_sol.simulate(270,2000,s=1)"
   ]
  },
  {
   "cell_type": "code",
   "execution_count": 1921,
   "metadata": {},
   "outputs": [
    {
     "data": {
      "text/plain": [
       "36.74339377857064"
      ]
     },
     "execution_count": 1921,
     "metadata": {},
     "output_type": "execute_result"
    }
   ],
   "source": [
    "x = 2000\n",
    "idx = np.searchsorted(X, x, side='left')\n",
    "new_sol.VF[idx]"
   ]
  },
  {
   "cell_type": "code",
   "execution_count": 1922,
   "metadata": {},
   "outputs": [
    {
     "name": "stdout",
     "output_type": "stream",
     "text": [
      "x/N:  100.0\n",
      "VF estimate:  36.097213169691116\n",
      "new_sol.simulate(x,2000,s=1):  (36.10797948571104, 0.5391064270177726, 2619825036188.7524, 2000)\n",
      "sim_res1 (s=1):  36.10797948571104\n",
      "sim_res2 (s=0.9):  35.99451633614471\n",
      "sim_res3 (s=1.1):  36.01170124279053\n",
      "sim_res2 < sim_res1 > sim_res3???:  True\n",
      "\n",
      "x/N:  200.0\n",
      "VF estimate:  49.85685196033556\n",
      "new_sol.simulate(x,2000,s=1):  (49.85234159577789, 0.5446210735324309, 5242614024363.329, 2000)\n",
      "sim_res1 (s=1):  49.85234159577789\n",
      "sim_res2 (s=0.9):  49.74017683587757\n",
      "sim_res3 (s=1.1):  49.75518866836266\n",
      "sim_res2 < sim_res1 > sim_res3???:  True\n",
      "\n",
      "x/N:  300.0\n",
      "VF estimate:  57.90572467633078\n",
      "new_sol.simulate(x,2000,s=1):  (57.89753448305349, 0.5474942292925898, 7865974390990.034, 2000)\n",
      "sim_res1 (s=1):  57.89753448305349\n",
      "sim_res2 (s=0.9):  57.78626742956042\n",
      "sim_res3 (s=1.1):  57.79923818453384\n",
      "sim_res2 < sim_res1 > sim_res3???:  True\n",
      "\n",
      "x/N:  400.0\n",
      "VF estimate:  63.61649075098002\n",
      "new_sol.simulate(x,2000,s=1):  (63.60826310660526, 0.5491639891383352, 10489568695571.184, 2000)\n",
      "sim_res1 (s=1):  63.60826310660526\n",
      "sim_res2 (s=0.9):  63.497511266777636\n",
      "sim_res3 (s=1.1):  63.50931999638194\n",
      "sim_res2 < sim_res1 > sim_res3???:  True\n",
      "\n",
      "x/N:  500.0\n",
      "VF estimate:  68.04610505319044\n",
      "new_sol.simulate(x,2000,s=1):  (68.039033929297, 0.5502533685295565, 13113291181835.611, 2000)\n",
      "sim_res1 (s=1):  68.039033929297\n",
      "sim_res2 (s=0.9):  67.92864577390533\n",
      "sim_res3 (s=1.1):  67.93964081698812\n",
      "sim_res2 < sim_res1 > sim_res3???:  True\n",
      "\n",
      "x/N:  600.0\n",
      "VF estimate:  71.66536346697522\n",
      "new_sol.simulate(x,2000,s=1):  (71.65993360828352, 0.5510224338924491, 15737094743642.02, 2000)\n",
      "sim_res1 (s=1):  71.65993360828352\n",
      "sim_res2 (s=0.9):  71.5498253483194\n",
      "sim_res3 (s=1.1):  71.56019597243703\n",
      "sim_res2 < sim_res1 > sim_res3???:  True\n",
      "\n",
      "x/N:  700.0\n",
      "VF estimate:  74.72540285434155\n",
      "new_sol.simulate(x,2000,s=1):  (74.72182294501172, 0.5515961727484436, 18360954253653.977, 2000)\n",
      "sim_res1 (s=1):  74.72182294501172\n",
      "sim_res2 (s=0.9):  74.61193945178758\n",
      "sim_res3 (s=1.1):  74.62180876231756\n",
      "sim_res2 < sim_res1 > sim_res3???:  True\n",
      "\n",
      "x/N:  800.0\n",
      "VF estimate:  77.37612954162446\n",
      "new_sol.simulate(x,2000,s=1):  (77.37448043293098, 0.5520418289289766, 20984854713400.22, 2000)\n",
      "sim_res1 (s=1):  77.37448043293098\n",
      "sim_res2 (s=0.9):  77.26478220474459\n",
      "sim_res3 (s=1.1):  77.27423791782164\n",
      "sim_res2 < sim_res1 > sim_res3???:  True\n",
      "\n",
      "x/N:  900.0\n",
      "VF estimate:  79.71423618297044\n",
      "new_sol.simulate(x,2000,s=1):  (79.7145335948854, 0.5523987900295312, 23608786448742.355, 2000)\n",
      "sim_res1 (s=1):  79.7145335948854\n",
      "sim_res2 (s=0.9):  79.60499093881481\n",
      "sim_res3 (s=1.1):  79.61409884169592\n",
      "sim_res2 < sim_res1 > sim_res3???:  True\n",
      "\n",
      "x/N:  1000.0\n",
      "VF estimate:  81.8057438438349\n",
      "new_sol.simulate(x,2000,s=1):  (81.80796866074529, 0.5526916814795322, 26232742854357.6, 2000)\n",
      "sim_res1 (s=1):  81.80796866074529\n",
      "sim_res2 (s=0.9):  81.69855854781909\n",
      "sim_res3 (s=1.1):  81.70736963808834\n",
      "sim_res2 < sim_res1 > sim_res3???:  True\n",
      "\n",
      "x/N:  1100.0\n",
      "VF estimate:  83.69774266307479\n",
      "new_sol.simulate(x,2000,s=1):  (83.70185687589054, 0.5529367095952341, 28856719219008.625, 2000)\n",
      "sim_res1 (s=1):  83.70185687589054\n",
      "sim_res2 (s=0.9):  83.59256103190023\n",
      "sim_res3 (s=1.1):  83.60111579428387\n",
      "sim_res2 < sim_res1 > sim_res3???:  True\n",
      "\n",
      "x/N:  1200.0\n",
      "VF estimate:  85.4250022576197\n",
      "new_sol.simulate(x,2000,s=1):  (85.43095783787187, 0.553144989707309, 31480712064138.49, 2000)\n",
      "sim_res1 (s=1):  85.43095783787187\n",
      "sim_res2 (s=0.9):  85.32176149765289\n",
      "sim_res3 (s=1.1):  85.33009267144014\n",
      "sim_res2 < sim_res1 > sim_res3???:  True\n",
      "\n",
      "x/N:  1300.0\n",
      "VF estimate:  87.01392705786671\n",
      "new_sol.simulate(x,2000,s=1):  (87.02167108314376, 0.5533244085436653, 34104718748124.03, 2000)\n",
      "sim_res1 (s=1):  87.02167108314376\n",
      "sim_res2 (s=0.9):  86.91256213777069\n",
      "sim_res3 (s=1.1):  86.92069660213322\n",
      "sim_res2 < sim_res1 > sim_res3???:  True\n",
      "\n",
      "x/N:  1400.0\n",
      "VF estimate:  88.48504164498601\n",
      "new_sol.simulate(x,2000,s=1):  (88.49451932634538, 0.5534807229606052, 36728737217611.305, 2000)\n",
      "sim_res1 (s=1):  88.49451932634538\n",
      "sim_res2 (s=0.9):  88.38548771875998\n",
      "sim_res3 (s=1.1):  88.39344782527448\n",
      "sim_res2 < sim_res1 > sim_res3???:  True\n",
      "\n",
      "x/N:  1500.0\n",
      "VF estimate:  89.8546165598301\n",
      "new_sol.simulate(x,2000,s=1):  (89.8657730472511, 0.5536182373689102, 39352765844851.7, 2000)\n",
      "sim_res1 (s=1):  89.8657730472511\n",
      "sim_res2 (s=0.9):  89.75681033238368\n",
      "sim_res3 (s=1.1):  89.76461487360638\n",
      "sim_res2 < sim_res1 > sim_res3???:  True\n",
      "\n",
      "x/N:  1600.0\n",
      "VF estimate:  91.13576833226895\n",
      "new_sol.simulate(x,2000,s=1):  (91.14854978689698, 0.553740237281623, 41976803317644.64, 2000)\n",
      "sim_res1 (s=1):  91.14854978689698\n",
      "sim_res2 (s=0.9):  91.03964880452156\n",
      "sim_res3 (s=1.1):  91.04731373399929\n",
      "sim_res2 < sim_res1 > sim_res3???:  True\n",
      "\n",
      "x/N:  1700.0\n",
      "VF estimate:  92.33922543547709\n",
      "new_sol.simulate(x,2000,s=1):  (92.35357965220607, 0.5538492757967256, 44600848562701.96, 2000)\n",
      "sim_res1 (s=1):  92.35357965220607\n",
      "sim_res2 (s=0.9):  92.24473427918235\n",
      "sim_res3 (s=1.1):  92.25227325677784\n",
      "sim_res2 < sim_res1 > sim_res3???:  True\n",
      "\n",
      "x/N:  1800.0\n",
      "VF estimate:  93.4738749736149\n",
      "new_sol.simulate(x,2000,s=1):  (93.48975172371375, 0.5539473682180099, 47224900690956.23, 2000)\n",
      "sim_res1 (s=1):  93.48975172371375\n",
      "sim_res2 (s=0.9):  93.38095668339544\n",
      "sim_res3 (s=1.1):  93.38838149495477\n",
      "sim_res2 < sim_res1 > sim_res3???:  True\n",
      "\n",
      "x/N:  1900.0\n",
      "VF estimate:  94.54716136351533\n",
      "new_sol.simulate(x,2000,s=1):  (94.56451256144324, 0.5540361275123182, 49848958957669.734, 2000)\n",
      "sim_res1 (s=1):  94.56451256144324\n",
      "sim_res2 (s=0.9):  94.45576327503537\n",
      "sim_res3 (s=1.1):  94.46308415988352\n",
      "sim_res2 < sim_res1 > sim_res3???:  True\n",
      "\n"
     ]
    }
   ],
   "source": [
    "for x in range(100,2000, 100):\n",
    "    print('x/N: ', x/N)\n",
    "    print('VF estimate: ', new_sol.build_VF(x))\n",
    "    sim_res1 = new_sol.simulate(x,2000,s=1)\n",
    "    print('new_sol.simulate(x,2000,s=1): ', sim_res1)\n",
    "    sim_res1 = sim_res1[0]\n",
    "    print('sim_res1 (s=1): ', sim_res1)\n",
    "    sim_res2 = new_sol.simulate(x,2000,s=0.9)[0]\n",
    "    print('sim_res2 (s=0.9): ', sim_res2)\n",
    "    sim_res3 = new_sol.simulate(x,2000,s=1.1)[0]\n",
    "    print('sim_res3 (s=1.1): ', sim_res3)\n",
    "    print('sim_res2 < sim_res1 > sim_res3???: ', sim_res1 > sim_res2 and sim_res1 > sim_res3)\n",
    "    print('')"
   ]
  },
  {
   "cell_type": "code",
   "execution_count": 1923,
   "metadata": {},
   "outputs": [
    {
     "data": {
      "text/plain": [
       "94.54716136351533"
      ]
     },
     "execution_count": 1923,
     "metadata": {},
     "output_type": "execute_result"
    }
   ],
   "source": [
    "new_sol.build_VF(x)"
   ]
  },
  {
   "cell_type": "code",
   "execution_count": 1924,
   "metadata": {},
   "outputs": [
    {
     "data": {
      "text/plain": [
       "(94.56451256144324, 0.5540361275123182, 49848958957669.734, 2000)"
      ]
     },
     "execution_count": 1924,
     "metadata": {},
     "output_type": "execute_result"
    }
   ],
   "source": [
    "new_sol.simulate(x,2000,s=1)"
   ]
  },
  {
   "cell_type": "code",
   "execution_count": 1925,
   "metadata": {},
   "outputs": [
    {
     "data": {
      "text/plain": [
       "array([36.09794264, 36.74339378, 37.38883076, 38.03425565, 38.67967032,\n",
       "       39.32507649, 39.97047569, 40.61586931, 41.26125856, 41.90664452,\n",
       "       42.55202814, 43.19741023, 43.8427915 , 44.48817253, 45.13355385,\n",
       "       45.77893585, 46.42431889, 47.06970325, 47.71508914, 48.36047672,\n",
       "       49.00586613, 49.65125745, 50.29665074, 50.94204602, 51.58744332,\n",
       "       52.23284261, 52.87824388, 53.52364709, 54.16905221, 54.81445918,\n",
       "       55.45986796, 56.1052785 , 56.75069074, 57.39610463, 58.04152012,\n",
       "       58.68693715, 59.33235567, 59.97777565, 60.62319703, 61.26861977,\n",
       "       61.91404383, 62.55946919, 63.2048958 , 63.85032363, 64.49575266,\n",
       "       65.14118286, 65.7866142 , 66.43204667, 67.07748025, 67.72291492,\n",
       "       68.36835066, 69.01378746, 69.6592253 , 70.30466417, 70.95010407,\n",
       "       71.59554498, 72.24098689, 72.8864298 , 73.53187368, 74.17731855,\n",
       "       74.82276438, 75.46821118, 76.11365892, 76.75910762, 77.40455725,\n",
       "       78.05000782, 78.69545931, 79.34091172, 79.98636503, 80.63181925,\n",
       "       81.27727436, 81.92273036, 82.56818723, 83.21364498, 83.85910358,\n",
       "       84.50456303, 85.15002332, 85.79548444, 86.44094639, 87.08640914,\n",
       "       87.7318727 , 88.37733704, 89.02280217, 89.66826806, 90.31373472,\n",
       "       90.95920211, 91.60467024, 92.2501391 , 92.89560866, 93.54107893,\n",
       "       94.18654988, 94.83202151, 95.4774938 , 96.12296674, 96.76844032,\n",
       "       97.41391452, 98.05938934, 98.70486477, 99.35034078, 99.99581737])"
      ]
     },
     "execution_count": 1925,
     "metadata": {},
     "output_type": "execute_result"
    }
   ],
   "source": [
    "VF = new_sol.VF\n",
    "VF"
   ]
  },
  {
   "cell_type": "code",
   "execution_count": 1926,
   "metadata": {},
   "outputs": [
    {
     "data": {
      "text/plain": [
       "array([36.09721317, 36.74264533, 37.38807749, 38.03350965, 38.67894181,\n",
       "       39.32437397, 39.96980613, 40.61523828, 41.26067044, 41.9061026 ,\n",
       "       42.55153476, 43.19696692, 43.84239908, 44.48783124, 45.1332634 ,\n",
       "       45.77869556, 46.42412772, 47.06955988, 47.71499204, 48.3604242 ,\n",
       "       49.00585635, 49.65128851, 50.29672067, 50.94215283, 51.58758499,\n",
       "       52.23301715, 52.87844931, 53.52388147, 54.16931363, 54.81474579,\n",
       "       55.46017795, 56.10561011, 56.75104227, 57.39647443, 58.04190658,\n",
       "       58.68733874, 59.3327709 , 59.97820306, 60.62363522, 61.26906738,\n",
       "       61.91449954, 62.5599317 , 63.20536386, 63.85079602, 64.49622818,\n",
       "       65.14166034, 65.7870925 , 66.43252466, 67.07795681, 67.72338897,\n",
       "       68.36882113, 69.01425329, 69.65968545, 70.30511761, 70.95054977,\n",
       "       71.59598193, 72.24141409, 72.88684625, 73.53227841, 74.17771057,\n",
       "       74.82314273, 75.46857488, 76.11400704, 76.7594392 , 77.40487136,\n",
       "       78.05030352, 78.69573568, 79.34116784, 79.9866    , 80.63203216,\n",
       "       81.27746432, 81.92289648, 82.56832864, 83.2137608 , 83.85919296,\n",
       "       84.50462511, 85.15005727, 85.79548943, 86.44092159, 87.08635375,\n",
       "       87.73178591, 88.37721807, 89.02265023, 89.66808239, 90.31351455,\n",
       "       90.95894671, 91.60437887, 92.24981103, 92.89524318, 93.54067534,\n",
       "       94.1861075 , 94.83153966, 95.47697182, 96.12240398, 96.76783614,\n",
       "       97.4132683 , 98.05870046, 98.70413262, 99.34956478, 99.99499694])"
      ]
     },
     "execution_count": 1926,
     "metadata": {},
     "output_type": "execute_result"
    }
   ],
   "source": [
    "new_sol.build_VF()"
   ]
  },
  {
   "cell_type": "code",
   "execution_count": 1927,
   "metadata": {},
   "outputs": [
    {
     "data": {
      "text/plain": [
       "array([  4.92885073,   5.09279735,   5.26206414,   5.43682693,\n",
       "         5.61726734,   5.80357301,   5.99593778,   6.1945619 ,\n",
       "         6.39965221,   6.61142243,   6.8300933 ,   7.05589288,\n",
       "         7.28905677,   7.52982834,   7.77845901,   8.03520851,\n",
       "         8.30034516,   8.57414613,   8.85689777,   9.14889587,\n",
       "         9.45044603,   9.76186391,  10.08347563,  10.41561808,\n",
       "        10.75863927,  11.11289874,  11.47876789,  11.85663039,\n",
       "        12.24688262,  12.64993401,  13.06620758,  13.49614027,\n",
       "        13.94018352,  14.39880364,  14.87248237,  15.36171738,\n",
       "        15.86702277,  16.38892965,  16.92798665,  17.48476057,\n",
       "        18.05983692,  18.65382055,  19.26733633,  19.90102975,\n",
       "        20.55556765,  21.23163891,  21.92995516,  22.65125156,\n",
       "        23.39628757,  24.16584774,  24.96074254,  25.78180926,\n",
       "        26.62991281,  27.50594672,  28.41083404,  29.34552833,\n",
       "        30.31101465,  31.30831063,  32.33846751,  33.4025713 ,\n",
       "        34.50174388,  35.63714421,  36.80996956,  38.02145675,\n",
       "        39.2728835 ,  40.56556974,  41.90087901,  43.28021994,\n",
       "        44.7050477 ,  46.17686554,  47.69722641,  49.26773457,\n",
       "        50.8900473 ,  52.56587664,  54.29699123,  56.08521816,\n",
       "        57.93244487,  59.84062122,  61.81176148,  63.8479465 ,\n",
       "        65.95132589,  68.1241203 ,  70.3686238 ,  72.68720623,\n",
       "        75.08231577,  77.55648151,  80.11231612,  82.75251862,\n",
       "        85.4798772 ,  88.29727224,  91.20767927,  94.21417219,\n",
       "        97.31992646, 100.52822249, 103.84244911, 107.26610714,\n",
       "       110.8028131 , 114.45630302, 118.23043642, 122.12920033])"
      ]
     },
     "execution_count": 1927,
     "metadata": {},
     "output_type": "execute_result"
    }
   ],
   "source": [
    "CP = new_sol.CP\n",
    "CP"
   ]
  },
  {
   "cell_type": "code",
   "execution_count": 1928,
   "metadata": {
    "scrolled": true
   },
   "outputs": [
    {
     "data": {
      "text/plain": [
       "array([  4.92885073,   5.09279735,   5.26206414,   5.43682693,\n",
       "         5.61726734,   5.80357301,   5.99593778,   6.1945619 ,\n",
       "         6.39965221,   6.61142243,   6.8300933 ,   7.05589288,\n",
       "         7.28905677,   7.52982834,   7.77845901,   8.03520851,\n",
       "         8.30034516,   8.57414613,   8.85689777,   9.14889587,\n",
       "         9.45044603,   9.76186391,  10.08347563,  10.41561808,\n",
       "        10.75863927,  11.11289874,  11.47876789,  11.85663039,\n",
       "        12.24688262,  12.64993401,  13.06620758,  13.49614027,\n",
       "        13.94018352,  14.39880364,  14.87248237,  15.36171738,\n",
       "        15.86702277,  16.38892965,  16.92798665,  17.48476057,\n",
       "        18.05983692,  18.65382055,  19.26733633,  19.90102975,\n",
       "        20.55556765,  21.23163891,  21.92995516,  22.65125156,\n",
       "        23.39628757,  24.16584774,  24.96074254,  25.78180926,\n",
       "        26.62991281,  27.50594672,  28.41083404,  29.34552833,\n",
       "        30.31101465,  31.30831063,  32.33846751,  33.4025713 ,\n",
       "        34.50174388,  35.63714421,  36.80996956,  38.02145675,\n",
       "        39.2728835 ,  40.56556974,  41.90087901,  43.28021994,\n",
       "        44.7050477 ,  46.17686554,  47.69722641,  49.26773457,\n",
       "        50.8900473 ,  52.56587664,  54.29699123,  56.08521816,\n",
       "        57.93244487,  59.84062122,  61.81176148,  63.8479465 ,\n",
       "        65.95132589,  68.1241203 ,  70.3686238 ,  72.68720623,\n",
       "        75.08231577,  77.55648151,  80.11231612,  82.75251862,\n",
       "        85.4798772 ,  88.29727224,  91.20767927,  94.21417219,\n",
       "        97.31992646, 100.52822249, 103.84244911, 107.26610714,\n",
       "       110.8028131 , 114.45630302, 118.23043642, 122.12920033])"
      ]
     },
     "execution_count": 1928,
     "metadata": {},
     "output_type": "execute_result"
    }
   ],
   "source": [
    "new_sol.build_CP()"
   ]
  },
  {
   "cell_type": "code",
   "execution_count": 1929,
   "metadata": {},
   "outputs": [
    {
     "data": {
      "text/plain": [
       "array([0.10923055, 0.11177778, 0.11450626, 0.11742196, 0.12053107,\n",
       "       0.12384   , 0.12735533, 0.1310839 , 0.13503274, 0.13920915,\n",
       "       0.14362063, 0.14827497, 0.15318017, 0.15834455, 0.16377665,\n",
       "       0.16948533, 0.17547973, 0.18176929, 0.18836377, 0.19527324,\n",
       "       0.20250811, 0.21007914, 0.21799744, 0.22627447, 0.23492211,\n",
       "       0.24395259, 0.25337857, 0.26321312, 0.27346974, 0.28416238,\n",
       "       0.29530545, 0.30691384, 0.31900292, 0.33158857, 0.34468722,\n",
       "       0.35831582, 0.37249187, 0.38723347, 0.40255932, 0.41848871,\n",
       "       0.4350416 , 0.45223858, 0.47010096, 0.48865071, 0.50791056,\n",
       "       0.52790396, 0.54865517, 0.57018923, 0.59253201, 0.61571024,\n",
       "       0.63975152, 0.66468438, 0.69053828, 0.71734367, 0.74513198,\n",
       "       0.77393571, 0.80378841, 0.83472474, 0.86678052, 0.89999275,\n",
       "       0.93439964, 0.97004067, 1.00695663, 1.04518966, 1.08478328,\n",
       "       1.12578245, 1.16823363, 1.21218481, 1.25768555, 1.30478707,\n",
       "       1.35354227, 1.4040058 , 1.45623412, 1.51028555, 1.56622034,\n",
       "       1.62410074, 1.68399103, 1.74595766, 1.81006923, 1.87639663,\n",
       "       1.94501309, 2.01599426, 2.08941829, 2.16536592, 2.24392054,\n",
       "       2.32516831, 2.40919823, 2.49610225, 2.58597535, 2.67891565,\n",
       "       2.77502453, 2.8744067 , 2.97717033, 3.08342717, 3.19329267,\n",
       "       3.30688609, 3.42433064, 3.54575357, 3.67128638, 3.80106489])"
      ]
     },
     "execution_count": 1929,
     "metadata": {},
     "output_type": "execute_result"
    }
   ],
   "source": [
    "WP = new_sol.WP\n",
    "WP"
   ]
  },
  {
   "cell_type": "code",
   "execution_count": 1930,
   "metadata": {
    "scrolled": true
   },
   "outputs": [
    {
     "data": {
      "text/plain": [
       "array([0.10923055, 0.11177778, 0.11450626, 0.11742196, 0.12053107,\n",
       "       0.12384   , 0.12735533, 0.1310839 , 0.13503274, 0.13920915,\n",
       "       0.14362063, 0.14827497, 0.15318017, 0.15834455, 0.16377665,\n",
       "       0.16948533, 0.17547973, 0.18176929, 0.18836377, 0.19527324,\n",
       "       0.20250811, 0.21007914, 0.21799744, 0.22627447, 0.23492211,\n",
       "       0.24395259, 0.25337857, 0.26321312, 0.27346974, 0.28416238,\n",
       "       0.29530545, 0.30691384, 0.31900292, 0.33158857, 0.34468722,\n",
       "       0.35831582, 0.37249187, 0.38723347, 0.40255932, 0.41848871,\n",
       "       0.4350416 , 0.45223858, 0.47010096, 0.48865071, 0.50791056,\n",
       "       0.52790396, 0.54865517, 0.57018923, 0.59253201, 0.61571024,\n",
       "       0.63975152, 0.66468438, 0.69053828, 0.71734367, 0.74513198,\n",
       "       0.77393571, 0.80378841, 0.83472474, 0.86678052, 0.89999275,\n",
       "       0.93439964, 0.97004067, 1.00695663, 1.04518966, 1.08478328,\n",
       "       1.12578245, 1.16823363, 1.21218481, 1.25768555, 1.30478707,\n",
       "       1.35354227, 1.4040058 , 1.45623412, 1.51028555, 1.56622034,\n",
       "       1.62410074, 1.68399103, 1.74595766, 1.81006923, 1.87639663,\n",
       "       1.94501309, 2.01599426, 2.08941829, 2.16536592, 2.24392054,\n",
       "       2.32516831, 2.40919823, 2.49610225, 2.58597535, 2.67891565,\n",
       "       2.77502453, 2.8744067 , 2.97717033, 3.08342717, 3.19329267,\n",
       "       3.30688609, 3.42433064, 3.54575357, 3.67128638, 3.80106489])"
      ]
     },
     "execution_count": 1930,
     "metadata": {},
     "output_type": "execute_result"
    }
   ],
   "source": [
    "new_sol.build_WP()"
   ]
  },
  {
   "cell_type": "code",
   "execution_count": 1931,
   "metadata": {},
   "outputs": [
    {
     "data": {
      "text/plain": [
       "array([ 100.        ,  103.30482495,  106.71886859,  110.24574039,\n",
       "        113.88916913,  117.65300681,  121.54123274,  125.55795773,\n",
       "        129.70742845,  133.99403191,  138.42230011,  142.99691483,\n",
       "        147.72271256,  152.60468962,  157.64800749,  162.85799818,\n",
       "        168.24016994,  173.80021306,  179.54400588,  185.47762099,\n",
       "        191.60733169,  197.9396186 ,  204.48117651,  211.23892146,\n",
       "        218.21999805,  225.431787  ,  232.88191295,  240.57825253,\n",
       "        248.52894265,  256.74238917,  265.22727571,  273.99257291,\n",
       "        283.04754783,  292.40177382,  302.06514061,  312.04786476,\n",
       "        322.36050046,  333.01395072,  344.01947887,  355.38872045,\n",
       "        367.13369557,  379.26682156,  391.80092612,  404.7492609 ,\n",
       "        418.12551548,  431.94383185,  446.2188194 ,  460.96557029,\n",
       "        476.19967549,  491.9372412 ,  508.1949059 ,  524.98985797,\n",
       "        542.3398538 ,  560.26323663,  578.77895589,  597.90658725,\n",
       "        617.66635335,  638.07914513,  659.16654395,  680.95084438,\n",
       "        703.45507781,  726.70303677,  750.71930007,  775.52925884,\n",
       "        801.15914331,  827.63605061,  854.98797334,  883.24382924,\n",
       "        912.43349172,  942.58782144,  973.73869898, 1005.9190585 ,\n",
       "       1039.16292256, 1073.50543814, 1108.98291375, 1145.63285782,\n",
       "       1183.4940184 , 1222.60642405, 1263.01142624, 1304.75174304,\n",
       "       1347.87150423, 1392.41629806, 1438.43321935, 1485.97091933,\n",
       "       1535.07965709, 1585.81135266, 1638.21964198, 1692.35993351,\n",
       "       1748.28946691, 1806.06737349, 1865.75473874, 1927.41466694,\n",
       "       1991.11234783, 2056.91512557, 2124.89256993, 2195.11654983,\n",
       "       2267.66130935, 2342.60354618, 2420.02249276, 2500.        ])"
      ]
     },
     "execution_count": 1931,
     "metadata": {},
     "output_type": "execute_result"
    }
   ],
   "source": [
    "new_sol.ncgm.xgrid"
   ]
  },
  {
   "cell_type": "code",
   "execution_count": 1932,
   "metadata": {},
   "outputs": [
    {
     "data": {
      "text/plain": [
       "array([ 100.        ,  103.30482495,  106.71886859,  110.24574039,\n",
       "        113.88916913,  117.65300681,  121.54123274,  125.55795773,\n",
       "        129.70742845,  133.99403191,  138.42230011,  142.99691483,\n",
       "        147.72271256,  152.60468962,  157.64800749,  162.85799818,\n",
       "        168.24016994,  173.80021306,  179.54400588,  185.47762099,\n",
       "        191.60733169,  197.9396186 ,  204.48117651,  211.23892146,\n",
       "        218.21999805,  225.431787  ,  232.88191295,  240.57825253,\n",
       "        248.52894265,  256.74238917,  265.22727571,  273.99257291,\n",
       "        283.04754783,  292.40177382,  302.06514061,  312.04786476,\n",
       "        322.36050046,  333.01395072,  344.01947887,  355.38872045,\n",
       "        367.13369557,  379.26682156,  391.80092612,  404.7492609 ,\n",
       "        418.12551548,  431.94383185,  446.2188194 ,  460.96557029,\n",
       "        476.19967549,  491.9372412 ,  508.1949059 ,  524.98985797,\n",
       "        542.3398538 ,  560.26323663,  578.77895589,  597.90658725,\n",
       "        617.66635335,  638.07914513,  659.16654395,  680.95084438,\n",
       "        703.45507781,  726.70303677,  750.71930007,  775.52925884,\n",
       "        801.15914331,  827.63605061,  854.98797334,  883.24382924,\n",
       "        912.43349172,  942.58782144,  973.73869898, 1005.9190585 ,\n",
       "       1039.16292256, 1073.50543814, 1108.98291375, 1145.63285782,\n",
       "       1183.4940184 , 1222.60642405, 1263.01142624, 1304.75174304,\n",
       "       1347.87150423, 1392.41629806, 1438.43321935, 1485.97091933,\n",
       "       1535.07965709, 1585.81135266, 1638.21964198, 1692.35993351,\n",
       "       1748.28946691, 1806.06737349, 1865.75473874, 1927.41466694,\n",
       "       1991.11234783, 2056.91512557, 2124.89256993, 2195.11654983,\n",
       "       2267.66130935, 2342.60354618, 2420.02249276, 2500.        ])"
      ]
     },
     "execution_count": 1932,
     "metadata": {},
     "output_type": "execute_result"
    }
   ],
   "source": [
    "new_sol.ncgm.xgrid"
   ]
  },
  {
   "cell_type": "code",
   "execution_count": 1933,
   "metadata": {},
   "outputs": [
    {
     "data": {
      "text/plain": [
       "array([45.1233717 , 45.5618026 , 45.95438092, 46.30162077, 46.60430878,\n",
       "       46.86347857, 47.08038336, 47.25646728, 47.39333635, 47.49272953,\n",
       "       47.5564907 , 47.58654178, 47.5848576 , 47.55344268, 47.49431009,\n",
       "       47.40946273, 47.30087674, 47.17048733, 47.02017681, 46.8517647 ,\n",
       "       46.66699986, 46.46755445, 46.25501949, 46.03090195, 45.79662313,\n",
       "       45.55351812, 45.30283629, 45.04574252, 44.78331914, 44.51656839,\n",
       "       44.2464153 , 43.97371087, 43.69923551, 43.42370262, 43.14776219,\n",
       "       42.87200455, 42.596964  , 42.32312241, 42.05091275, 41.78072251,\n",
       "       41.51289695, 41.2477423 , 40.98552867, 40.72649296, 40.47084149,\n",
       "       40.21875257, 39.9703788 , 39.72584932, 39.48527188, 39.24873474,\n",
       "       39.01630847, 38.78804757, 38.56399204, 38.34416877, 38.12859283,\n",
       "       37.91726869, 37.71019131, 37.50734713, 37.30871504, 37.11426718,\n",
       "       36.92396975, 36.73778368, 36.55566531, 36.37756695, 36.20343746,\n",
       "       36.03322265, 35.86686582, 35.70430807, 35.54548873, 35.39034564,\n",
       "       35.23881547, 35.09083399, 34.94633626, 34.80525693, 34.66753034,\n",
       "       34.53309076, 34.40187251, 34.2738101 , 34.14883838, 34.02689259,\n",
       "       33.90790851, 33.79182252, 33.67857167, 33.56809376, 33.46032736,\n",
       "       33.35521189, 33.25268766, 33.15269587, 33.05517869, 32.96007924,\n",
       "       32.8673416 , 32.77691089, 32.68873319, 32.60275562, 32.51892631,\n",
       "       32.43719441, 32.35751008, 32.27982449, 32.20408983, 32.13025928])"
      ]
     },
     "execution_count": 1933,
     "metadata": {},
     "output_type": "execute_result"
    }
   ],
   "source": [
    "CP/WP"
   ]
  },
  {
   "cell_type": "code",
   "execution_count": 1934,
   "metadata": {},
   "outputs": [
    {
     "data": {
      "text/plain": [
       "[<matplotlib.lines.Line2D at 0x131d0ec40>,\n",
       " <matplotlib.lines.Line2D at 0x131d0edc0>]"
      ]
     },
     "execution_count": 1934,
     "metadata": {},
     "output_type": "execute_result"
    },
    {
     "data": {
      "image/png": "[encoded data removed]",
      "text/plain": [
       "<Figure size 432x288 with 1 Axes>"
      ]
     },
     "metadata": {
      "needs_background": "light"
     },
     "output_type": "display_data"
    }
   ],
   "source": [
    "xmax = 1e5\n",
    "X = new_sol.ncgm.xgrid\n",
    "xnew = np.linspace(1,xmax,100)\n",
    "vf_new = new_sol.build_VF(xnew)\n",
    "\n",
    "plt.plot(X[X < xmax], new_sol.VF[X < xmax], 'o', xnew, vf_new)"
   ]
  },
  {
   "cell_type": "code",
   "execution_count": 1935,
   "metadata": {},
   "outputs": [
    {
     "data": {
      "text/plain": [
       "[<matplotlib.lines.Line2D at 0x131bc5700>,\n",
       " <matplotlib.lines.Line2D at 0x131da8a90>]"
      ]
     },
     "execution_count": 1935,
     "metadata": {},
     "output_type": "execute_result"
    },
    {
     "data": {
      "image/png": "[encoded data removed]",
      "text/plain": [
       "<Figure size 432x288 with 1 Axes>"
      ]
     },
     "metadata": {
      "needs_background": "light"
     },
     "output_type": "display_data"
    }
   ],
   "source": [
    "cp_new = new_sol.build_CP(xnew)\n",
    "\n",
    "plt.plot(new_sol.ncgm.xgrid, new_sol.CP, 'o', xnew, cp_new)"
   ]
  },
  {
   "cell_type": "code",
   "execution_count": 1936,
   "metadata": {},
   "outputs": [
    {
     "data": {
      "text/plain": [
       "[<matplotlib.lines.Line2D at 0x131e8b2b0>,\n",
       " <matplotlib.lines.Line2D at 0x131e971c0>]"
      ]
     },
     "execution_count": 1936,
     "metadata": {},
     "output_type": "execute_result"
    },
    {
     "data": {
      "image/png": "[encoded data removed]",
      "text/plain": [
       "<Figure size 432x288 with 1 Axes>"
      ]
     },
     "metadata": {
      "needs_background": "light"
     },
     "output_type": "display_data"
    }
   ],
   "source": [
    "wp_new = new_sol.build_WP(xnew)\n",
    "\n",
    "plt.plot(new_sol.ncgm.xgrid, new_sol.WP, 'o', xnew, wp_new)"
   ]
  },
  {
   "cell_type": "code",
   "execution_count": 1937,
   "metadata": {},
   "outputs": [
    {
     "data": {
      "text/plain": [
       "[<matplotlib.lines.Line2D at 0x131eb9f10>,\n",
       " <matplotlib.lines.Line2D at 0x131d13850>]"
      ]
     },
     "execution_count": 1937,
     "metadata": {},
     "output_type": "execute_result"
    },
    {
     "data": {
      "image/png": "[encoded data removed]",
      "text/plain": [
       "<Figure size 432x288 with 1 Axes>"
      ]
     },
     "metadata": {
      "needs_background": "light"
     },
     "output_type": "display_data"
    }
   ],
   "source": [
    "xmax = 300\n",
    "xnew = np.linspace(1,xmax,50)\n",
    "xmax_idx = np.searchsorted(X, xmax, side='left') + 1\n",
    "vf_new = new_sol.build_VF(xnew)\n",
    "\n",
    "plt.plot(X[:xmax_idx], VF[:xmax_idx], 'o', xnew, vf_new)"
   ]
  },
  {
   "cell_type": "code",
   "execution_count": 1938,
   "metadata": {},
   "outputs": [
    {
     "data": {
      "text/plain": [
       "[<matplotlib.lines.Line2D at 0x131f5dd30>,\n",
       " <matplotlib.lines.Line2D at 0x1320044c0>]"
      ]
     },
     "execution_count": 1938,
     "metadata": {},
     "output_type": "execute_result"
    },
    {
     "data": {
      "image/png": "[encoded data removed]",
      "text/plain": [
       "<Figure size 432x288 with 1 Axes>"
      ]
     },
     "metadata": {
      "needs_background": "light"
     },
     "output_type": "display_data"
    }
   ],
   "source": [
    "cp_new = new_sol.build_CP(xnew)\n",
    "\n",
    "plt.plot(X[:xmax_idx], CP[:xmax_idx], 'o', xnew, cp_new)"
   ]
  },
  {
   "cell_type": "code",
   "execution_count": 1939,
   "metadata": {},
   "outputs": [
    {
     "data": {
      "text/plain": [
       "[<matplotlib.lines.Line2D at 0x131b39160>,\n",
       " <matplotlib.lines.Line2D at 0x131d706d0>]"
      ]
     },
     "execution_count": 1939,
     "metadata": {},
     "output_type": "execute_result"
    },
    {
     "data": {
      "image/png": "[encoded data removed]",
      "text/plain": [
       "<Figure size 432x288 with 1 Axes>"
      ]
     },
     "metadata": {
      "needs_background": "light"
     },
     "output_type": "display_data"
    }
   ],
   "source": [
    "wp_new = new_sol.build_WP(xnew)\n",
    "\n",
    "plt.plot(X[:xmax_idx], WP[:xmax_idx], 'o', xnew, wp_new)"
   ]
  },
  {
   "cell_type": "code",
   "execution_count": null,
   "metadata": {},
   "outputs": [],
   "source": []
  }
 ],
 "metadata": {
  "kernelspec": {
   "display_name": "Python 3",
   "language": "python",
   "name": "python3"
  },
  "language_info": {
   "codemirror_mode": {
    "name": "ipython",
    "version": 3
   },
   "file_extension": ".py",
   "mimetype": "text/x-python",
   "name": "python",
   "nbconvert_exporter": "python",
   "pygments_lexer": "ipython3",
   "version": "3.8.8"
  }
 },
 "nbformat": 4,
 "nbformat_minor": 2
}
