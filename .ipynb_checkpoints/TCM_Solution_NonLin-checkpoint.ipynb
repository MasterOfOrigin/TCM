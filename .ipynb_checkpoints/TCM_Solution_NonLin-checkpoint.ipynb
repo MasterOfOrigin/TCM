{
 "cells": [
  {
   "cell_type": "markdown",
   "metadata": {},
   "source": [
    "# 7 Solution Methods to Solve the Growth Model with Python\n",
    "\n",
    "This notebook is part of a computational appendix that accompanies the paper\n",
    "\n",
    "> MATLAB, Python, Julia: What to Choose in Economics?\n",
    "> > Coleman, Lyon, Maliar, and Maliar (2017)\n",
    "\n",
    "In order to run the codes in this notebook you will need to install and configure a few Python packages. We recommend downloading [Anaconda](https://www.continuum.io/downloads) and/or following the instructions on [quantecon.org](https://lectures.quantecon.org/py/getting_started.html). Once your Python installation is up and running, there are a few additional packages you will need in order to run the code here. To do this, you should remove the `# ` in front of the following commands and run the block below."
   ]
  },
  {
   "cell_type": "code",
   "execution_count": 668,
   "metadata": {
    "scrolled": true
   },
   "outputs": [],
   "source": [
    "# ! pip install git+https://github.com/EconForge/interpolation.py.git\n",
    "# ! pip install quantecon\n",
    "# ! pip install csaps"
   ]
  },
  {
   "cell_type": "code",
   "execution_count": 669,
   "metadata": {},
   "outputs": [],
   "source": [
    "import numpy as np\n",
    "import scipy.linalg as la\n",
    "import scipy.optimize as opt\n",
    "import time\n",
    "import quantecon as qe\n",
    "import matplotlib.pyplot as plt\n",
    "\n",
    "from collections import namedtuple\n",
    "from scipy.interpolate import interp1d, UnivariateSpline\n",
    "from scipy.misc import derivative\n",
    "from interpolation.complete_poly import (CompletePolynomial,\n",
    "                                         n_complete, complete_polynomial,\n",
    "                                         complete_polynomial_der,\n",
    "                                         _complete_poly_impl,\n",
    "                                         _complete_poly_impl_vec,\n",
    "                                         _complete_poly_der_impl,\n",
    "                                         _complete_poly_der_impl_vec)\n",
    "from numba import jit, vectorize"
   ]
  },
  {
   "cell_type": "markdown",
   "metadata": {},
   "source": [
    "## Model\n",
    "\n",
    "This section gives a short description of the commonly used stochastic Neoclassical growth model.\n",
    "\n",
    "There is a single infinitely-lived representative agent who consumes and saves using capital. The consumer discounts the future with factor $\\beta$ and derives utility from only consumption. Additionally, saved capital will depreciate at $\\delta$.\n",
    "\n",
    "The consumer has access to a Cobb-Douglas technology which uses capital saved from the previous period to produce and is subject to stochastic productivity shocks.\n",
    "\n",
    "Productivity shocks follow an AR(1) in logs.\n",
    "\n",
    "The agent's problem can be written recursively using the following Bellman equation\n",
    "\n",
    "\n",
    "$$\n",
    "\\begin{align}\n",
    "  V(k_t, z_t) &= \\max_{k_{t+1}} u(c_t) + \\beta E \\left[ V(k_{t+1}, z_{t+1}) \\right] \\\\\n",
    "  &\\text{subject to } \\\\\n",
    "  c_t &= z_t f(k_t) + (1 - \\delta) k_t - k_{t+1} \\\\\n",
    "  \\log z_{t+1} &= \\rho \\log z_t + \\sigma \\varepsilon\n",
    "\\end{align}\n",
    "$$\n",
    "\n",
    "$$\n",
    "\\begin{align*}\n",
    "    V(X, z) &= \\max_{\\tilde{c},\\tilde{s}} \\biggl\\{0,  u(c) + \\beta E \\bigl[V(X', z') \\bigr] \\biggr\\}\\\\\n",
    "    & \\text{ s.t. } \\tilde{c} \\geq 0; \\qquad \\tilde{s} \\geq 0 \\\\\n",
    "    & \\phantom{\\text{ s.t. } }N\\tilde{c} + N\\tilde{s} \\leq X \\\\\n",
    "    & \\phantom{\\text{ s.t. } } X' = \\max \\biggl\\{0, \\bigl[X - N\\tilde{c}  - N\\tilde{s} - z \\bigl(\\frac{\\tilde{c}}{\\tilde{s}}\\bigr)^\\phi \\bigr](1 + g_x) \\biggr\\} \\\\\n",
    "    & \\phantom{\\text{ s.t. } } u(\\tilde{c}) = \\bar{u} + \\ln(\\tilde{c}) \\\\\n",
    "    & \\phantom{\\text{ s.t. } } z \\sim Exp( \\bar{z} ) \n",
    "\\end{align*} \n",
    "$$"
   ]
  },
  {
   "cell_type": "markdown",
   "metadata": {},
   "source": [
    "## Python Code\n",
    "\n",
    "We begin by defining a `namedtuple` that contains the parameters of our model. This is useful to pass the parameters around to functions that are just-in-time (JIT) compiled by `numba`."
   ]
  },
  {
   "cell_type": "code",
   "execution_count": 670,
   "metadata": {},
   "outputs": [],
   "source": [
    "#\n",
    "# Create a named tuple type that we can pass into the jitted functions\n",
    "# so that we don't have to pass parameters one by one\n",
    "#\n",
    "Params = namedtuple(\"Params\", [\"N\", \"beta\", \"g\", \"a_bar\", \"eta\", \"u_bar\"])\n",
    "\n",
    "@jit(nopython=True)\n",
    "def param_unpack(params):\n",
    "    \"Unpack parameters from the Params type\"\n",
    "    out = (params.N, params.beta, params.g,\n",
    "           params.a_bar, params.eta, params.u_bar)\n",
    "\n",
    "    return out"
   ]
  },
  {
   "cell_type": "markdown",
   "metadata": {},
   "source": [
    "We will then define various helper functions to ensure that we [don't repeat ourselves](https://lectures.quantecon.org/py/writing_good_code.html#don-t-repeat-yourself) and that the inner functions can be JIT compiled."
   ]
  },
  {
   "cell_type": "code",
   "execution_count": 671,
   "metadata": {},
   "outputs": [],
   "source": [
    "#\n",
    "# Helper functions to make sure things are jitted\n",
    "#\n",
    "@vectorize(nopython=True)\n",
    "def u(c, eta, u_bar):\n",
    "    \"log utility function\"\n",
    "    return -1e10 if c < 1e-10 else (u_bar + np.log(c)) if eta==1 else (u_bar + (c**(1-eta)/(1-eta)))\n",
    "\n",
    "@vectorize(nopython=True)\n",
    "def du(c,eta):\n",
    "    \"Derivative of log utility function\"\n",
    "    return 1e10 if c < 1e-10 else c**(-eta)\n",
    "\n",
    "@vectorize(nopython=True)\n",
    "def duinv(u,eta):\n",
    "    \"Inverse of the derivative of the CRRA utility function\"\n",
    "    return u**(-1.0/eta )\n",
    "\n",
    "@vectorize(nopython=True)\n",
    "def f(X):\n",
    "    \"production function\"\n",
    "    return X\n",
    "\n",
    "@vectorize(nopython=True)\n",
    "def df(X):\n",
    "    \"Derivative of production function\"\n",
    "    return 1\n",
    "\n",
    "@vectorize(nopython=True)\n",
    "def discount_factor(beta, a_bar, c, w):\n",
    "    \"risk adjusted discount factor\"\n",
    "    return beta*a_bar*w/(c + a_bar*w)\n",
    "\n",
    "@vectorize(nopython=True)\n",
    "def next_x(X, N, g, c, w):\n",
    "    # next period's CPR given c and w\n",
    "    return (X - N*(c + w))*(1+g)\n",
    "\n",
    "@vectorize(nopython=True)\n",
    "def vector_dampen(vec1, vec2, dampen=1):\n",
    "    return dampen*vec1 + (1-dampen)*vec2\n",
    "\n",
    "@vectorize(nopython=True)\n",
    "def expendables(X, Xp, N, g):\n",
    "    # get expendables given X and X prime\n",
    "    return (1/N)*(X - Xp/(1 + g))\n",
    "\n",
    "@vectorize(nopython=True)\n",
    "def c_from_X_Xp(X, Xp, Vp, beta, a):\n",
    "    # get expendables given X and X prime\n",
    "    return -(2*E*a - 2*E*a**2 + E*a*(Vp*beta*(4*a + Vp*beta - 4))**0.5 - E*Vp*a*beta)/(2*(a**2 - 2*a + 1))\n",
    "\n",
    "@vectorize(nopython=True)\n",
    "def c_from_exp(Vp, E, beta, a_bar):\n",
    "    return  -(2*E*a_bar - 2*E*a_bar**2 + E*a_bar*(Vp*beta*(4*a_bar + Vp*beta - 4))**0.5 - E*Vp*a_bar*beta)/(2*(a_bar**2 - 2*a_bar + 1))\n",
    "#     return  [\n",
    "#         (2*E*a_bar**2 - 2*E*a_bar + E*a_bar*(Vp*beta*(4*a_bar + Vp*beta - 4))**0.5 + E*Vp*a_bar*beta)/(2*(a_bar**2 - 2*a_bar + 1)),\n",
    "#         -(2*E*a_bar - 2*E*a_bar**2 + E*a_bar*(Vp*beta*(4*a_bar + Vp*beta - 4))**0.5 - E*Vp*a_bar*beta)/(2*(a_bar**2 - 2*a_bar + 1))\n",
    "#     ]\n",
    "\n",
    "\n",
    "def c_curve(x, a, b, c):\n",
    "    return a*np.log(x) + b*x + c\n",
    "\n",
    "def w_curve(x, a, b, c):\n",
    "    return a*np.log(x) + b*x + c\n",
    "\n",
    "def v_curve(x, a, b, c, d):\n",
    "    return a*np.log(x)/(c - (x**b)) + d\n",
    "\n",
    "@vectorize(nopython=True)\n",
    "def trunc_to_one(X):\n",
    "    return X if X >= 1 else 1\n",
    "\n",
    "@vectorize(nopython=True)\n",
    "def psurvival(a_bar, c, w):\n",
    "    return a_bar*w/(c + a_bar*w)\n"
   ]
  },
  {
   "cell_type": "markdown",
   "metadata": {},
   "source": [
    "We also now define a class that contains\n",
    "\n",
    "1. Parameters of the growth model\n",
    "2. Grids used for approximating the solution\n",
    "3. Nodes and weights used to approximate integration\n",
    "\n",
    "This again helps us maintain all of the relevant information in one place and simplifies passing it to other functions."
   ]
  },
  {
   "cell_type": "code",
   "execution_count": 672,
   "metadata": {},
   "outputs": [],
   "source": [
    "class Model(object):\n",
    "    \"\"\"\n",
    "    The stochastic Neoclassical Growth model contains\n",
    "    parameters which include\n",
    "\n",
    "    * alpha: Capital share in output\n",
    "    * beta: discount factor\n",
    "    * delta: depreciation rate\n",
    "    * gamma: risk aversion\n",
    "    * rho: persistence of the log productivity level\n",
    "    * sigma: standard deviation of shocks to log productivity\n",
    "    \"\"\"\n",
    "    def __init__(self, N=1, beta=0.95, g_x=0.02, g_a=0.015, a_bar=1000, \n",
    "                 eta=1, u_bar=0, \n",
    "                 xmin=1, xmax=2000, nx=25):\n",
    "        # calculate g from g_a and g_x \n",
    "        g = g_a + g_x + g_a*g_x\n",
    "\n",
    "        # Household parameters\n",
    "        self.beta, self.eta, self.u_bar, = beta, eta, u_bar\n",
    "\n",
    "        # Firm/technology parameters\n",
    "        self.N, self.g, self.a_bar = N, g, a_bar\n",
    "\n",
    "        # Create t grids\n",
    "        self.xgrid = N*np.linspace(xmin, xmax, nx)\n",
    "        self.grid = np.reshape(self.xgrid, [self.xgrid.shape[0], 1])\n",
    "        \n",
    "        self.ns = nx\n",
    "        \n",
    "    def _unpack_params(self):\n",
    "        out = (self.N, self.beta, self.g, \n",
    "               self.a_bar, self.eta, self.u_bar)\n",
    "        return out\n",
    "\n",
    "    def _unpack_grids(self):\n",
    "        out = (self.xgrid, self.grid)\n",
    "        return out\n"
   ]
  },
  {
   "cell_type": "markdown",
   "metadata": {},
   "source": [
    "## Solution Methods\n",
    "\n",
    "In this notebook, we describe the following solution methods:\n",
    "\n",
    "* Conventional Value Function Iteration\n",
    "* Envelope Condition Value Function Iteration\n",
    "* Envelope Condition Derivative Value Function Iteration\n",
    "* Endogenous Grid Value Function Iteration\n",
    "* Conventional Policy Function Iteration\n",
    "* Envelope Condition Policy Function Iteration\n",
    "* Euler Equation Method\n",
    "\n",
    "Each of these solution methods will have a very similar structure that follows a few basic steps:\n",
    "\n",
    "1. Guess a function (either value function or policy function).\n",
    "2. Using this function, update our guess of both the value and policy functions.\n",
    "3. Check whether the function we guessed and what it was updated to are similar enough. If so, proceed. If not, return to step 2 using the updated functions.\n",
    "4. Output the policy and value functions.\n",
    "\n",
    "In order to reduce the amount of repeated code and keep the exposition as clean as possible (the notebook is plenty long as is...), we will define a class for each solution method that inherit various properties from a general solution parent class. The parent class will contain methods which apply to all of the other solution methods such as a general solve method, computing expectations, simulating, etc... This implementation may feel strange at first if one isn't familiar with object oriented programming, but these concepts can be powerful when properly used."
   ]
  },
  {
   "cell_type": "code",
   "execution_count": 673,
   "metadata": {},
   "outputs": [],
   "source": [
    "class GeneralSolution:\n",
    "    \"\"\"\n",
    "    This is a general solution method. We define this, so that we can\n",
    "    sub-class it and define specific update methods for each particular\n",
    "    solution method\n",
    "    \"\"\"\n",
    "    def __init__(self, ncgm,  maxfev=10000, prev_sol=None):\n",
    "        self.Xinf = None\n",
    "        # Save model and approximation degree\n",
    "        self.ncgm,  self.maxfev = ncgm, maxfev\n",
    "\n",
    "        # Unpack some info from ncgm\n",
    "        N, beta, g, a_bar, eta, u_bar = self._unpack_params()\n",
    "        X = self.ncgm.xgrid\n",
    "\n",
    "        # Use parameter values from model to create a namedtuple with\n",
    "        # parameters saved inside\n",
    "        self.params = Params(N, beta, g, a_bar, eta, u_bar)\n",
    "\n",
    "        # Update to fill initial value and policy matrices\n",
    "        # If we give it another solution type then use it to\n",
    "        # generate values and policies\n",
    "        if issubclass(type(prev_sol), GeneralSolution):\n",
    "            self.CP = c_curve(X, *prev_sol.c_params)\n",
    "            self.WP = w_curve(X, *prev_sol.w_params)\n",
    "            self.VF = v_curve(X, *prev_sol.v_params)\n",
    "        # If we give it a tuple then assume it is (policy, value) pair\n",
    "        elif type(prev_sol) is tuple:\n",
    "            self.CP = prev_sol[0]\n",
    "            self.WP = prev_sol[1]\n",
    "            self.VF = prev_sol[2]\n",
    "        # Otherwise guess a constant value function and a policy\n",
    "        # of roughly steady state\n",
    "        else:\n",
    "            # guess VF\n",
    "            self.VF = np.log(X/N) # np.ones(ncgm.ns)\n",
    "            \n",
    "            \n",
    "            \n",
    "            # make a guess at steady state\n",
    "            Exp = expendables(X, X, N, g)\n",
    "            \n",
    "            self.CP = 0.9*Exp\n",
    "            self.WP = Exp - self.CP\n",
    "\n",
    "        # Params based on guesses\n",
    "        self.c_params, _ = opt.curve_fit(c_curve, X, self.CP, maxfev=self.maxfev)\n",
    "        self.w_params, _ = opt.curve_fit(w_curve, X, self.WP, maxfev=self.maxfev)\n",
    "        self.v_params, _ = opt.curve_fit(v_curve, X, self.VF, maxfev=self.maxfev)\n",
    "\n",
    "\n",
    "    def _unpack_params(self):\n",
    "        return self.ncgm._unpack_params()\n",
    "    \n",
    "    def build_all(self, X=None):\n",
    "        if X is None:\n",
    "            X = self.ncgm.xgrid\n",
    "            \n",
    "        CP = self.build_CP(X)\n",
    "        WP = self.build_WP(X)\n",
    "        VF = self.build_VF(X)\n",
    "        \n",
    "        # corner solution\n",
    "        CP_corner = X/self.ncgm.N\n",
    "        WP_corner = X*0 \n",
    "        VF_corner = u(CP_corner, self.ncgm.eta, self.ncgm.u_bar)\n",
    "\n",
    "        corner_idx = (CP > CP_corner) + (CP < 0) + (WP > CP_corner) + (WP < 0) + (VF < VF_corner)\n",
    "        \n",
    "        CP[corner_idx] = CP_corner[corner_idx]\n",
    "        WP[corner_idx] = WP_corner[corner_idx]\n",
    "        VF[corner_idx] = VF_corner[corner_idx]  \n",
    "        \n",
    "        return CP, WP, VF\n",
    "    \n",
    "    def build_all_scalar(self, x): \n",
    "        cp = c_curve(x, *self.c_params)\n",
    "        wp = w_curve(x, *self.w_params)\n",
    "        vf = v_curve(x, *self.v_params)\n",
    "        \n",
    "        # corner solution\n",
    "        cp_corner = x/self.ncgm.N\n",
    "        wp_corner = 0\n",
    "        vf_corner = u(cp_corner, self.ncgm.eta, self.ncgm.u_bar)\n",
    "        \n",
    "        if (cp > cp_corner) or (cp < 0) or (wp > cp_corner) or (wp < 0) or (vf < vf_corner):\n",
    "                return cp_corner, wp_corner, vf_corner\n",
    "            \n",
    "        return cp, wp, vf\n",
    "\n",
    "        \n",
    "    def build_VF(self, X=None):\n",
    "        \"\"\"\n",
    "        Using the current coefficients, this builds the value function\n",
    "        for all states\n",
    "        \"\"\"\n",
    "        if X is None:\n",
    "            X = self.ncgm.xgrid\n",
    "            \n",
    "        VF = v_curve(X, *self.v_params)\n",
    "\n",
    "        return VF\n",
    "\n",
    "    def build_CP(self, X=None):\n",
    "        \"\"\"\n",
    "        Using the current coefficients, this builds the policy function\n",
    "        for all states\n",
    "        \"\"\"\n",
    "        if X is None:\n",
    "            X = self.ncgm.xgrid\n",
    "            \n",
    "        CP = np.clip(c_curve(X, *self.c_params), 0, X/self.ncgm.N)\n",
    "\n",
    "        return CP\n",
    "    \n",
    "    def build_WP(self, X=None):\n",
    "        \"\"\"\n",
    "        Using the current coefficients, this builds the policy function\n",
    "        for all states\n",
    "        \"\"\"\n",
    "        if X is None:\n",
    "            X = self.ncgm.xgrid\n",
    "            \n",
    "        WP = np.clip(w_curve(X, *self.w_params), 0, X/self.ncgm.N)\n",
    "\n",
    "        return WP\n",
    "\n",
    "    def update_v(self, new_v_params, dampen=1):\n",
    "        \"\"\"\n",
    "        Updates the coefficients for the value function\n",
    "        \"\"\"\n",
    "        self.v_params = (1-dampen)*self.v_params + dampen*new_v_params\n",
    "\n",
    "        return None\n",
    "\n",
    "    def update_c(self, new_c_params, dampen=1):\n",
    "        \"\"\"\n",
    "        Updates the coefficients for the policy function\n",
    "        \"\"\"\n",
    "        self.c_params = (1-dampen)*self.c_params + dampen*new_c_params\n",
    "\n",
    "        return None\n",
    "    \n",
    "    def update_w(self, new_w_params, dampen=1):\n",
    "        \"\"\"\n",
    "        Updates the coefficients for the policy function\n",
    "        \"\"\"\n",
    "        self.w_params = (1-dampen)*self.w_params + dampen*new_w_params\n",
    "\n",
    "        return None\n",
    "\n",
    "    def update(self):\n",
    "        \"\"\"\n",
    "        Given the current state of everything in solution, update the\n",
    "        value and policy coefficients\n",
    "        \"\"\"\n",
    "        emsg = \"The update method is implemented in solution specific classes\"\n",
    "        emsg += \"\\nand cannot be called from `GeneralSolution`\"\n",
    "        raise ValueError(emsg)\n",
    "        \n",
    "    def compute_spline(self, cp, wp, VF):\n",
    "        v_spline = interp1d(\n",
    "            self.ncgm.xgrid, \n",
    "            VF, \n",
    "            kind=self.interpolator, \n",
    "            fill_value=\"extrapolate\",\n",
    "            assume_sorted=True\n",
    "        )\n",
    "      \n",
    "        return v_spline\n",
    "    \n",
    "    def compute_params(self, cp, wp, VF):\n",
    "        new_c_params, _ = opt.curve_fit(c_curve, self.ncgm.xgrid, cp, maxfev=self.maxfev)\n",
    "        new_w_params, _ = opt.curve_fit(w_curve, self.ncgm.xgrid, wp, maxfev=self.maxfev)\n",
    "        new_v_params, _ = opt.curve_fit(v_curve, self.ncgm.xgrid, VF, maxfev=self.maxfev) \n",
    "        \n",
    "        return new_c_params, new_w_params, new_v_params\n",
    "\n",
    "    def compute_EV_scalar(self, Xn):\n",
    "        val = v_curve(trunc_to_one(Xn), *self.v_params)\n",
    "        \n",
    "        return val\n",
    "\n",
    "    def compute_dEV_scalar(self, Xn):\n",
    "        v_curve_curried = lambda x: v_curve(x, *self.v_params)\n",
    "        val = derivative( v_curve_curried, trunc_to_one(Xn), self.dx)\n",
    "        \n",
    "        return val \n",
    "\n",
    "    def compute_EV(self, Xn=None):\n",
    "        \"\"\"\n",
    "        Compute the expected value\n",
    "        \"\"\"\n",
    "        if Xn is None:\n",
    "            # Unpack parameters\n",
    "            N, beta, g, a_bar, eta, u_bar = self._unpack_params()\n",
    "\n",
    "            # Use policy to compute cp and wp\n",
    "            cp = self.build_CP()\n",
    "            cp = c_curve(X, *self.c_params)\n",
    "            wp = w_curve(X, *self.w_params)\n",
    "            Xn = next_x(self.ncgm.xgrid, N, g, cp, wp)\n",
    "        \n",
    "        EV = v_curve(trunc_to_one(Xn), *self.v_params)\n",
    "        \n",
    "        return EV\n",
    "\n",
    "\n",
    "    def compute_dEV(self, Xn=None):\n",
    "        \"\"\"\n",
    "        Compute the derivative of the expected value\n",
    "        \"\"\"\n",
    "        # Use policy to compute cp and wp\n",
    "        if Xn is None:\n",
    "            # Unpack parameters\n",
    "            N, beta, g, a_bar, eta, u_bar = self._unpack_params()\n",
    "            X = self.ncgm.xgrid\n",
    "            cp = c_curve(X, *self.c_params)\n",
    "            wp = w_curve(X, *self.w_params)\n",
    "            Xn = next_x(X, N, g, cp, wp)\n",
    "        \n",
    "        v_curve_curried = lambda x: v_curve(x, *self.v_params)\n",
    "        val = derivative( v_curve_curried, trunc_to_one(Xn), self.dx)\n",
    "        \n",
    "        return dEV\n",
    "\n",
    "\n",
    "    def compute_distance(self, cp, wp, VF):\n",
    "        \"\"\"\n",
    "        Computes average distance between policy functions\n",
    "        \"\"\"\n",
    "        return np.max([\n",
    "            np.max(np.abs(1.0 - (cp+1e-12)/(self.CP+1e-12))), \n",
    "            np.max(np.abs(1.0 - (wp+1e-12)/(self.WP+1e-12)))\n",
    "        ])\n",
    "    \n",
    "\n",
    "    def solve(self, tol=1e-3, maxiter=2500, verbose=False, nskipprint=25):\n",
    "        # Iterate until convergence\n",
    "        dist, it = 10.0, 0\n",
    "        while (dist>tol) and (it<maxiter):\n",
    "            # Run solution specific update code\n",
    "            cp, wp, VF = self.update()\n",
    "\n",
    "            # Compute new policy and value coeffs\n",
    "            new_c_params, new_w_params, new_v_params = self.compute_params(cp, wp, VF)\n",
    "\n",
    "            # Update distance and iterations\n",
    "            dist = self.compute_distance(cp, wp, VF)\n",
    "            self.CP, self.WP, self.VF = cp, wp, VF\n",
    "            it += 1\n",
    "            if verbose and it%nskipprint == 0:\n",
    "                print(it, dist)\n",
    "\n",
    "            # Update all coefficients\n",
    "            self.update_c(new_c_params)\n",
    "            self.update_w(new_w_params)\n",
    "            self.update_v(new_v_params)\n",
    "\n",
    "        # After finishing iteration, iterate to convergence using policy\n",
    "        if not isinstance(self, IterateOnPolicy):\n",
    "            sol_iop = IterateOnPolicy(self.ncgm, self.maxfev, self)\n",
    "            cp, wp, VF = sol_iop.solve(tol=1e-3)\n",
    "\n",
    "            # Save final versions of everything\n",
    "            self.CP, self.WP, self.VF = cp, wp, VF\n",
    "            \n",
    "            new_c_params, new_w_params, new_v_params = sol_iop.compute_params(cp, wp, VF)\n",
    "            self.update_c(new_c_params)\n",
    "            self.update_w(new_w_params)\n",
    "            self.update_v(new_v_params)\n",
    "\n",
    "        return self.CP, self.WP, self.VF\n",
    "    \n",
    "    def solve_full(self, tol=1e-3, maxiter=2500, verbose=False, nskipprint=25):\n",
    "        N, beta, g, a_bar, eta, u_bar = self._unpack_params()\n",
    "        \n",
    "        # solve as infinite horizon and store results\n",
    "        self.CP_inf, self.WP_inf, self.VF_inf = self.solve(tol, maxiter, verbose, nskipprint)\n",
    "        \n",
    "        self.CP, self.WP, self.VF = self.build_all()\n",
    "        \n",
    "        return self.CP, self.WP, self.VF\n",
    "        \n",
    "\n",
    "    def simulate(self, X=None, T=1000, s=1):\n",
    "        \"\"\"\n",
    "        Simulates the neoclassical growth model with policy function\n",
    "        given by self.KP. Simulates for `T` periods and discarsd first\n",
    "        nburn `observations`\n",
    "        \"\"\"\n",
    "        N, beta, g, a_bar, eta, u_bar = self._unpack_params()\n",
    "        # X is starting point, if None, set to N*274\n",
    "        if X is None:\n",
    "            X = N*274\n",
    "            \n",
    "        def recurse_bellman(x, t):\n",
    "            if x <= 0:\n",
    "                return 0, 0, x, t\n",
    "            if t >= T:\n",
    "                return u(x/N, eta, u_bar), 1, x, T\n",
    "            \n",
    "            c_corner = x/N \n",
    "            u_corner = u(c_corner, eta, u_bar)\n",
    "            \n",
    "            c = s*self.build_CP(x)\n",
    "            w = s*self.build_WP(x)\n",
    "\n",
    "            \n",
    "            if w <= 0:\n",
    "                c = c_corner \n",
    "                \n",
    "            m_t = psurvival(a_bar, c, w)\n",
    "            u_t = u(c, eta, u_bar)\n",
    "            x_prime = next_x(x, N, g, c, w)\n",
    "            \n",
    "            v_prime, m_prime, final_state, nperiods = recurse_bellman(x_prime, t+1)\n",
    "            \n",
    "            if u_t + beta*m_t*v_prime < u_corner:\n",
    "                return u_corner, 0, 0, t+1\n",
    "            \n",
    "            return u_t + beta*m_t*v_prime, m_t*m_prime, final_state, nperiods\n",
    "        \n",
    "        return recurse_bellman(X, 0)\n",
    "        \n",
    "\n",
    "    def ee_residuals(self, ksim=None, zsim=None, Qn=10, seed=42):\n",
    "        \"\"\"\n",
    "        Computes the Euler Equation residuals of a simulated capital and\n",
    "        productivity levels (ksim and zsim) and uses Qn nodes for computing\n",
    "        the expectation\n",
    "        \"\"\"\n",
    "        if (ksim is None) or (zsim is None):\n",
    "            ksim, zsim = self.simulate(T=10000, nburn=200, seed=seed)\n",
    "\n",
    "        nodes, weights = qe.quad.qnwnorm(Qn, 0.0, self.ncgm.sigma**2)\n",
    "        ee = jit_ee(self.params, self.degree, self.v_coeffs,\n",
    "                    nodes, weights, ksim, zsim)\n",
    "\n",
    "        return np.log10(np.mean(ee)), np.log10(np.max(ee))\n",
    "    \n",
    "    def compute_Xdot(self, X):\n",
    "        N, beta, g, a_bar, eta, u_bar = self._unpack_params()\n",
    "        cp = c_curve(X, *self.c_params)\n",
    "        wp = w_curve(X, *self.w_params)\n",
    "        Xn = next_x(X, N, g, cp, wp)\n",
    "        \n",
    "        return Xn - X\n",
    "        \n",
    "    def compute_Xinflection(self):\n",
    "        N, beta, g, a_bar, eta, u_bar = self._unpack_params()\n",
    "        floor = N\n",
    "        ceil = N*1000\n",
    "        for i in range(4):\n",
    "            X = np.linspace(floor, ceil, 100)\n",
    "            Xdot = self.compute_Xdot(X)\n",
    "            idx = np.argmin(Xdot[Xdot > 0])\n",
    "            floor = X[idx]\n",
    "            if idx < 99:\n",
    "                ceil = X[idx + 1]\n",
    "        \n",
    "        return floor"
   ]
  },
  {
   "cell_type": "markdown",
   "metadata": {},
   "source": [
    "### Iterating to Convergence (given policy)\n",
    "\n",
    "This isn't one of the methods described above, but it is used as an element of a few of our methods (and also as a way to get a first guess at the value function). This method takes an initial policy function, $\\bar{k}(k_t, z_t)$, as given, and then, without changing the policy, iterates until the value function has converged.\n",
    "\n",
    "Thus the \"update section\" of the algorithm in this instance would be:\n",
    "\n",
    "* Leave policy function unchanged\n",
    "* At each point of grid, $(k_t, z_t)$, compute $\\hat{V}(k_t, z_t) = u(c(\\bar{k}(k_t, z_t))) + \\beta E \\left[ V(\\bar{k}(k_t, z_t), z_{t+1}) \\right]$\n",
    "\n",
    "We override two of the methods from `GeneralSolution`\n",
    "\n",
    "* `compute_distance` because when we are iterating to convergence on the value function we want to check distnace using value function rather than policy function\n",
    "* `compute_coefficients` because we don't need to update the policy functions coefficients.\n",
    "\n",
    "The `update` method just repeatedly applies a particular policy function to update the value function."
   ]
  },
  {
   "cell_type": "code",
   "execution_count": 674,
   "metadata": {},
   "outputs": [],
   "source": [
    "class IterateOnPolicy(GeneralSolution):\n",
    "    \"\"\"\n",
    "    Subclass of the general solution method. The update method for this\n",
    "    class simply computes the fixed point of the value function given\n",
    "    a specific policy\n",
    "    \"\"\"\n",
    "    def compute_distance(self, cp, wp, VF):\n",
    "        \"\"\"\n",
    "        Computes distance between policy functions. When we are\n",
    "        iterating on a specific policy, we would like to compute\n",
    "        distances by the difference between VFs\n",
    "        \"\"\"\n",
    "        return np.max(np.abs(1.0 - (VF )/(self.VF )))\n",
    "\n",
    "    def compute_coefficients(self, cp, wp, VF):\n",
    "        \"\"\"\n",
    "        Given a policy and value return corresponding coefficients.\n",
    "        When we are iterating on a specific policy, we don't want to\n",
    "        update the policy coefficients.\n",
    "        \"\"\"\n",
    "        new_v_coeffs = la.lstsq(self.Phi, VF)[0]\n",
    "\n",
    "        return self.c_coeffs, self.w_coeffs, new_v_coeffs\n",
    "    \n",
    "    def compute_spline(self, VF):\n",
    "        new_v_spline = interp1d(\n",
    "            self.ncgm.xgrid, \n",
    "            VF, \n",
    "            kind=self.interpolator, \n",
    "            fill_value=\"extrapolate\",\n",
    "            assume_sorted=True\n",
    "        )\n",
    "        \n",
    "        return new_v_spline\n",
    "    \n",
    "    def compute_params(self, cp, wp, VF):\n",
    "        new_v_params, _ = opt.curve_fit(v_curve, self.ncgm.xgrid, VF, maxfev=self.maxfev) \n",
    "        \n",
    "        return self.c_params, self.w_params, new_v_params\n",
    "    \n",
    "    def update(self):\n",
    "        # Unpack parameters\n",
    "        N, beta, g, a_bar, eta, u_bar = self._unpack_params()\n",
    "        X = self.ncgm.xgrid\n",
    "        \n",
    "        Xn = next_x(X, N, g, self.CP, self.WP)\n",
    "\n",
    "        # Update the value function\n",
    "        VF = u(self.CP, eta, u_bar) + beta*np.maximum(self.compute_EV(Xn), np.zeros(self.ncgm.ns))\n",
    "\n",
    "        return self.CP, self.WP, VF"
   ]
  },
  {
   "cell_type": "markdown",
   "metadata": {},
   "source": [
    "### Conventional Value Function Iteration\n",
    "\n",
    "This is one of the first solution methods for macroeconomics a graduate student in economics typically learns.\n",
    "\n",
    "In this solution method, one takes as given a value function, $V(k_t, z_t)$, and then solves for the optimal policy given the value function.\n",
    "\n",
    "The update section takes the form:\n",
    "\n",
    "* For each point, $(k_t, z_t)$, numerically solve for $c^*(k_t, z_t)$ to satisfy the first order condition $u'(c^*) = \\beta E \\left[ V_1((1 - \\delta) k_t + z_t f(k_t) - c^*, z_{t+1}) \\right]$\n",
    "* Define $k^*(k_t, z_t) = (1 - \\delta) k_t + z_t f(k_t) - c^*(k_t, z_t)$\n",
    "* Update value function according to $\\hat{V}(k_t, z_t) = u(c^*(k_t, z_t)) + \\beta E \\left[ V(k^*(k_t, z_t), z_{t+1}) \\right]$\n",
    "\n",
    "\n",
    "* For each point, $(X_t, z_t)$, numerically solve for $c^*(X_t, z_t)$ to satisfy the first order condition $u'(\\tilde{c}^\\ast) = \\beta E \\left[ V_1((1 - \\delta) k_t + z_t f(k_t) - c^*, z_{t+1}) \\right]$\n",
    "* Define $k^*(k_t, z_t) = (1 - \\delta) k_t + z_t f(k_t) - c^*(k_t, z_t)$\n",
    "* Update value function according to $\\hat{V}(k_t, z_t) = u(c^*(k_t, z_t)) + \\beta E \\left[ V(k^*(k_t, z_t), z_{t+1}) \\right]$\n",
    "\n",
    "\n"
   ]
  },
  {
   "cell_type": "code",
   "execution_count": 675,
   "metadata": {},
   "outputs": [],
   "source": [
    "class VFI(GeneralSolution):\n",
    "    \"\"\"\n",
    "    Updates the coefficients and value functions using the VFI\n",
    "    method\n",
    "    \"\"\"\n",
    "    def update(self):\n",
    "        \"\"\"\n",
    "        Updates the coefficients and value functions using the VFI_ECM\n",
    "        method\n",
    "        \"\"\"\n",
    "        # Unpack parameters\n",
    "        N, beta, g, a_bar, eta, u_bar = self._unpack_params()\n",
    "        xgrid = self.ncgm.xgrid\n",
    "        n_state = xgrid.shape[0]\n",
    "\n",
    "        # Get the policy and update it\n",
    "        cp = np.empty(n_state)\n",
    "        wp = np.empty(n_state)\n",
    "        VF = np.empty(n_state)\n",
    "        for i_s in range(n_state):\n",
    "            # Pull out current vals\n",
    "            X = xgrid[i_s]\n",
    "            def _f(xp):\n",
    "                EV = self.compute_EV_scalar(xp)\n",
    "                Exp = expendables(X, xp, N, g)\n",
    "                if Exp <= 0:\n",
    "                    _cp = X/N\n",
    "                    _wp = 0\n",
    "                else:\n",
    "                    _cp = np.clip(c_from_exp(EV, Exp, beta, a_bar), 0, Exp)\n",
    "                    _wp = Exp - _cp\n",
    "                return -np.abs(u(_cp, 1, u_bar) + discount_factor(beta, a_bar, _cp, _wp)*EV)\n",
    "                \n",
    "            \n",
    "            _xp = opt.fminbound(_f, X*(1-g), X*(1+g), xtol=1e-12)\n",
    "            EV = self.compute_EV_scalar(_xp)\n",
    "            Exp = expendables(X, _xp, N, g)\n",
    "            if Exp <= 0:\n",
    "                _cp = X/N\n",
    "                _wp = 0\n",
    "            else:\n",
    "                _cp = np.clip(c_from_exp(EV, Exp, beta, a_bar), 0, Exp)\n",
    "                _wp = Exp - _cp\n",
    "                \n",
    "            _vf = u(_cp, 1, u_bar) + discount_factor(beta, a_bar, _cp, _wp)*EV\n",
    "             \n",
    "            if _vf < 0:\n",
    "                cp[i_s] = X/N\n",
    "                wp[i_s] = 0\n",
    "                VF[i_s] = u(X/N, eta, u_bar)\n",
    "            else:                \n",
    "                cp[i_s] = _cp\n",
    "                wp[i_s] = _wp\n",
    "                VF[i_s] = _vf\n",
    "\n",
    "        return cp, wp, VF\n"
   ]
  },
  {
   "cell_type": "markdown",
   "metadata": {},
   "source": [
    "## A Horse Race\n",
    "\n",
    "We can now run a horse race to compare the methods in terms of both accuracy and speed."
   ]
  },
  {
   "cell_type": "code",
   "execution_count": 676,
   "metadata": {
    "scrolled": true
   },
   "outputs": [
    {
     "name": "stderr",
     "output_type": "stream",
     "text": [
      "/Users/mikemahon/anaconda3/lib/python3.8/site-packages/scipy/optimize/minpack.py:828: OptimizeWarning: Covariance of the parameters could not be estimated\n",
      "  warnings.warn('Covariance of the parameters could not be estimated',\n",
      "/Users/mikemahon/anaconda3/lib/python3.8/site-packages/scipy/optimize/minpack.py:828: OptimizeWarning: Covariance of the parameters could not be estimated\n",
      "  warnings.warn('Covariance of the parameters could not be estimated',\n"
     ]
    },
    {
     "name": "stdout",
     "output_type": "stream",
     "text": [
      "vp done\n"
     ]
    },
    {
     "name": "stderr",
     "output_type": "stream",
     "text": [
      "/Users/mikemahon/anaconda3/lib/python3.8/site-packages/scipy/optimize/minpack.py:828: OptimizeWarning: Covariance of the parameters could not be estimated\n",
      "  warnings.warn('Covariance of the parameters could not be estimated',\n"
     ]
    },
    {
     "name": "stdout",
     "output_type": "stream",
     "text": [
      "25 0.019251784241544834\n",
      "50 0.004202926727377987\n",
      "75 0.0010895193982494167\n",
      "100 0.00029418485922039217\n"
     ]
    }
   ],
   "source": [
    "ncgm = Model(N=1, a_bar=10000, beta=0.95, g_x=0.05, xmin=50, xmax=2200, nx=100)\n",
    "\n",
    "# First guess\n",
    "vp = IterateOnPolicy(ncgm, maxfev=50000)\n",
    "vp.solve(tol=1e-9)\n",
    "\n",
    "np.random.seed(61089)\n",
    "\n",
    "\n",
    "\n",
    "print('vp done')\n",
    "new_sol = vp\n",
    "new_sol = VFI(ncgm, maxfev=100000, prev_sol=None)\n",
    "ts = time.time()\n",
    "new_sol.solve(tol=1e-4, verbose=True, nskipprint=25)\n",
    "time_took = time.time() - ts"
   ]
  },
  {
   "cell_type": "code",
   "execution_count": 677,
   "metadata": {},
   "outputs": [
    {
     "data": {
      "text/plain": [
       "array([  50.        ,   71.71717172,   93.43434343,  115.15151515,\n",
       "        136.86868687,  158.58585859,  180.3030303 ,  202.02020202,\n",
       "        223.73737374,  245.45454545,  267.17171717,  288.88888889,\n",
       "        310.60606061,  332.32323232,  354.04040404,  375.75757576,\n",
       "        397.47474747,  419.19191919,  440.90909091,  462.62626263,\n",
       "        484.34343434,  506.06060606,  527.77777778,  549.49494949,\n",
       "        571.21212121,  592.92929293,  614.64646465,  636.36363636,\n",
       "        658.08080808,  679.7979798 ,  701.51515152,  723.23232323,\n",
       "        744.94949495,  766.66666667,  788.38383838,  810.1010101 ,\n",
       "        831.81818182,  853.53535354,  875.25252525,  896.96969697,\n",
       "        918.68686869,  940.4040404 ,  962.12121212,  983.83838384,\n",
       "       1005.55555556, 1027.27272727, 1048.98989899, 1070.70707071,\n",
       "       1092.42424242, 1114.14141414, 1135.85858586, 1157.57575758,\n",
       "       1179.29292929, 1201.01010101, 1222.72727273, 1244.44444444,\n",
       "       1266.16161616, 1287.87878788, 1309.5959596 , 1331.31313131,\n",
       "       1353.03030303, 1374.74747475, 1396.46464646, 1418.18181818,\n",
       "       1439.8989899 , 1461.61616162, 1483.33333333, 1505.05050505,\n",
       "       1526.76767677, 1548.48484848, 1570.2020202 , 1591.91919192,\n",
       "       1613.63636364, 1635.35353535, 1657.07070707, 1678.78787879,\n",
       "       1700.50505051, 1722.22222222, 1743.93939394, 1765.65656566,\n",
       "       1787.37373737, 1809.09090909, 1830.80808081, 1852.52525253,\n",
       "       1874.24242424, 1895.95959596, 1917.67676768, 1939.39393939,\n",
       "       1961.11111111, 1982.82828283, 2004.54545455, 2026.26262626,\n",
       "       2047.97979798, 2069.6969697 , 2091.41414141, 2113.13131313,\n",
       "       2134.84848485, 2156.56565657, 2178.28282828, 2200.        ])"
      ]
     },
     "execution_count": 677,
     "metadata": {},
     "output_type": "execute_result"
    }
   ],
   "source": [
    "X = new_sol.ncgm.xgrid\n",
    "X"
   ]
  },
  {
   "cell_type": "code",
   "execution_count": 678,
   "metadata": {},
   "outputs": [
    {
     "data": {
      "text/plain": [
       "array([21.38179779, 28.50679867, 33.72177168, 37.83813967, 41.23952739,\n",
       "       44.13809571, 46.66362462, 48.9013273 , 50.9101804 , 52.73270144,\n",
       "       54.40055658, 55.93796614, 57.36387065, 58.69336226, 59.93866167,\n",
       "       61.10980342, 62.21512819, 63.26164385, 64.2552952 , 65.20116866,\n",
       "       66.10365001, 66.96654747, 67.79318884, 68.58649909, 69.34906286,\n",
       "       70.08317529, 70.79088374, 71.47402218, 72.13423989, 72.77302545,\n",
       "       73.39172693, 73.99156909, 74.57366795, 75.1390433 , 75.68862943,\n",
       "       76.22328447, 76.74379844, 77.25090024, 77.74526385, 78.22751365,\n",
       "       78.69822925, 79.15794957, 79.60717668, 80.04637897, 80.47599418,\n",
       "       80.89643199, 81.30807634, 81.71128759, 82.10640439, 82.49374538,\n",
       "       82.87361076, 83.24628364, 83.6120314 , 83.97110672, 84.32374875,\n",
       "       84.67018397, 85.01062713, 85.345282  , 85.67434215, 85.9979916 ,\n",
       "       86.31640541, 86.62975031, 86.93818517, 87.24186152, 87.54092396,\n",
       "       87.83551063, 88.12575351, 88.41177888, 88.69370756, 88.97165525,\n",
       "       89.24573282, 89.51604659, 89.78269854, 90.04578656, 90.30540467,\n",
       "       90.56164321, 90.81458906, 91.06432577, 91.31093375, 91.55449044,\n",
       "       91.79507043, 92.03274561, 92.26758529, 92.49965633, 92.72902327,\n",
       "       92.9557484 , 93.17989189, 93.40151187, 93.62066454, 93.83740423,\n",
       "       94.05178351, 94.26385323, 94.47366264, 94.68125941, 94.88668972,\n",
       "       95.08999834, 95.29122864, 95.49042269, 95.68762128, 95.882864  ])"
      ]
     },
     "execution_count": 678,
     "metadata": {},
     "output_type": "execute_result"
    }
   ],
   "source": [
    "new_sol.VF"
   ]
  },
  {
   "cell_type": "code",
   "execution_count": 679,
   "metadata": {},
   "outputs": [
    {
     "data": {
      "text/plain": [
       "55.937966140397165"
      ]
     },
     "execution_count": 679,
     "metadata": {},
     "output_type": "execute_result"
    }
   ],
   "source": [
    "idx = np.searchsorted(X, 270, side='left')\n",
    "new_sol.VF[idx]"
   ]
  },
  {
   "cell_type": "code",
   "execution_count": 680,
   "metadata": {},
   "outputs": [
    {
     "data": {
      "text/plain": [
       "11"
      ]
     },
     "execution_count": 680,
     "metadata": {},
     "output_type": "execute_result"
    }
   ],
   "source": [
    "idx"
   ]
  },
  {
   "cell_type": "code",
   "execution_count": 681,
   "metadata": {},
   "outputs": [
    {
     "data": {
      "text/plain": [
       "(53.83695386085134, 0.15204882503690179, 1094412552861.92, 2000)"
      ]
     },
     "execution_count": 681,
     "metadata": {},
     "output_type": "execute_result"
    }
   ],
   "source": [
    "new_sol.simulate(270,2000,s=1)"
   ]
  },
  {
   "cell_type": "code",
   "execution_count": 682,
   "metadata": {},
   "outputs": [
    {
     "data": {
      "text/plain": [
       "94.05178350635693"
      ]
     },
     "execution_count": 682,
     "metadata": {},
     "output_type": "execute_result"
    }
   ],
   "source": [
    "x = 2000\n",
    "idx = np.searchsorted(X, x, side='left')\n",
    "new_sol.VF[idx]"
   ]
  },
  {
   "cell_type": "code",
   "execution_count": 683,
   "metadata": {},
   "outputs": [
    {
     "name": "stdout",
     "output_type": "stream",
     "text": [
      "x:  1000\n",
      "VF estimate:  80.36770914201813\n",
      "new_sol.simulate(x,2000,s=1):  (79.452888412965, 0.1579454781496112, 4061382208207.4863, 2000)\n",
      "sim_res1 (s=1):  79.452888412965\n",
      "sim_res2 (s=0.9):  79.35371826210606\n",
      "sim_res3 (s=1.1):  79.345228977477\n",
      "sim_res2 < sim_res1 > sim_res3???:  True\n",
      "\n",
      "x:  2000\n",
      "VF estimate:  94.00747647790882\n",
      "new_sol.simulate(x,2000,s=1):  (93.04916396112782, 0.15935655784833416, 8126835367808.588, 2000)\n",
      "sim_res1 (s=1):  93.04916396112782\n",
      "sim_res2 (s=0.9):  92.95225168134218\n",
      "sim_res3 (s=1.1):  92.9386634023369\n",
      "sim_res2 < sim_res1 > sim_res3???:  True\n",
      "\n",
      "x:  3000\n",
      "VF estimate:  101.98622888796618\n",
      "new_sol.simulate(x,2000,s=1):  (101.01039499630915, 0.15988385088177282, 12192578906835.543, 2000)\n",
      "sim_res1 (s=1):  101.01039499630915\n",
      "sim_res2 (s=0.9):  100.91436377923603\n",
      "sim_res3 (s=1.1):  100.8987553894623\n",
      "sim_res2 < sim_res1 > sim_res3???:  True\n",
      "\n",
      "x:  4000\n",
      "VF estimate:  107.64724381379952\n",
      "new_sol.simulate(x,2000,s=1):  (106.66152177190526, 0.16016567611682442, 16258441317037.656, 2000)\n",
      "sim_res1 (s=1):  106.66152177190526\n",
      "sim_res2 (s=0.9):  106.56594592133816\n",
      "sim_res3 (s=1.1):  106.54928070261056\n",
      "sim_res2 < sim_res1 > sim_res3???:  True\n",
      "\n",
      "x:  5000\n",
      "VF estimate:  112.03826812694967\n",
      "new_sol.simulate(x,2000,s=1):  (111.04599166564697, 0.16034294124034484, 20324368857556.336, 2000)\n",
      "sim_res1 (s=1):  111.04599166564697\n",
      "sim_res2 (s=0.9):  110.95068715788149\n",
      "sim_res3 (s=1.1):  110.93338525170572\n",
      "sim_res2 < sim_res1 > sim_res3???:  True\n",
      "\n",
      "x:  6000\n",
      "VF estimate:  115.62599622385684\n",
      "new_sol.simulate(x,2000,s=1):  (114.62894305633935, 0.16046550030017617, 24390337592641.92, 2000)\n",
      "sim_res1 (s=1):  114.62894305633935\n",
      "sim_res2 (s=0.9):  114.53381488054674\n",
      "sim_res3 (s=1.1):  114.51609484508039\n",
      "sim_res2 < sim_res1 > sim_res3???:  True\n",
      "\n",
      "x:  7000\n",
      "VF estimate:  118.65937710815138\n",
      "new_sol.simulate(x,2000,s=1):  (117.6586193752806, 0.16055566879660094, 28456334754875.707, 2000)\n",
      "sim_res1 (s=1):  117.6586193752806\n",
      "sim_res2 (s=0.9):  117.56361267942381\n",
      "sim_res3 (s=1.1):  117.54560155487746\n",
      "sim_res2 < sim_res1 > sim_res3???:  True\n",
      "\n",
      "x:  8000\n",
      "VF estimate:  121.28701114969016\n",
      "new_sol.simulate(x,2000,s=1):  (120.28325219119782, 0.16062499452240434, 32522352723517.215, 2000)\n",
      "sim_res1 (s=1):  120.28325219119782\n",
      "sim_res2 (s=0.9):  120.18833276506265\n",
      "sim_res3 (s=1.1):  120.17011029130163\n",
      "sim_res2 < sim_res1 > sim_res3???:  True\n",
      "\n",
      "x:  9000\n",
      "VF estimate:  123.60474863391423\n",
      "new_sol.simulate(x,2000,s=1):  (122.5984789920167, 0.1606800778643129, 36588386583164.24, 2000)\n",
      "sim_res1 (s=1):  122.5984789920167\n",
      "sim_res2 (s=0.9):  122.5036242537575\n",
      "sim_res3 (s=1.1):  122.4852433901473\n",
      "sim_res2 < sim_res1 > sim_res3???:  True\n",
      "\n",
      "x:  10000\n",
      "VF estimate:  125.67803546284034\n",
      "new_sol.simulate(x,2000,s=1):  (124.66961358740923, 0.16072497615099404, 40654432977685.24, 2000)\n",
      "sim_res1 (s=1):  124.66961358740923\n",
      "sim_res2 (s=0.9):  124.57480796835577\n",
      "sim_res3 (s=1.1):  124.5563054463944\n",
      "sim_res2 < sim_res1 > sim_res3???:  True\n",
      "\n",
      "x:  11000\n",
      "VF estimate:  127.55355153465459\n",
      "new_sol.simulate(x,2000,s=1):  (126.54324912549863, 0.16076232634855125, 44720489513329.03, 2000)\n",
      "sim_res1 (s=1):  126.54324912549863\n",
      "sim_res2 (s=0.9):  126.44848151633114\n",
      "sim_res3 (s=1.1):  126.42988370245418\n",
      "sim_res2 < sim_res1 > sim_res3???:  True\n",
      "\n",
      "x:  12000\n",
      "VF estimate:  129.2657635597475\n",
      "new_sol.simulate(x,2000,s=1):  (128.25379273057825, 0.1607939195453326, 48786554422662.82, 2000)\n",
      "sim_res1 (s=1):  128.25379273057825\n",
      "sim_res2 (s=0.9):  128.15905497979227\n",
      "sim_res3 (s=1.1):  128.14038133548738\n",
      "sim_res2 < sim_res1 > sim_res3???:  True\n",
      "\n",
      "x:  13000\n",
      "VF estimate:  130.8408459379515\n",
      "new_sol.simulate(x,2000,s=1):  (129.82737635003494, 0.1608210166311388, 52852626363494.72, 2000)\n",
      "sim_res1 (s=1):  129.82737635003494\n",
      "sim_res2 (s=0.9):  129.73266233694912\n",
      "sim_res3 (s=1.1):  129.7139275626135\n",
      "sim_res2 < sim_res1 > sim_res3???:  True\n",
      "\n",
      "x:  14000\n",
      "VF estimate:  132.29914444404207\n",
      "new_sol.simulate(x,2000,s=1):  (131.28431457993736, 0.1608445319748541, 56918704292528.38, 2000)\n",
      "sim_res1 (s=1):  131.28431457993736\n",
      "sim_res2 (s=0.9):  131.18961961894883\n",
      "sim_res3 (s=1.1):  131.1708350364641\n",
      "sim_res2 < sim_res1 > sim_res3???:  True\n",
      "\n",
      "x:  15000\n",
      "VF estimate:  133.6567878728977\n",
      "new_sol.simulate(x,2000,s=1):  (132.64071272140768, 0.16086514544046537, 60984787382714.875, 2000)\n",
      "sim_res1 (s=1):  132.64071272140768\n",
      "sim_res2 (s=0.9):  132.54603316602118\n",
      "sim_res3 (s=1.1):  132.5272076408089\n",
      "sim_res2 < sim_res1 > sim_res3???:  True\n",
      "\n",
      "x:  16000\n",
      "VF estimate:  134.92677848558085\n",
      "new_sol.simulate(x,2000,s=1):  (133.9095549399815, 0.16088337344202033, 65050874967330.984, 2000)\n",
      "sim_res1 (s=1):  133.9095549399815\n",
      "sim_res2 (s=0.9):  133.8148879119781\n",
      "sim_res3 (s=1.1):  133.79602848574382\n",
      "sim_res2 < sim_res1 > sim_res3???:  True\n",
      "\n",
      "x:  17000\n",
      "VF estimate:  136.11975129077143\n",
      "new_sol.simulate(x,2000,s=1):  (135.10146203990632, 0.16089961554919313, 69116966501045.05, 2000)\n",
      "sim_res1 (s=1):  135.10146203990632\n",
      "sim_res2 (s=0.9):  135.00680523947776\n",
      "sim_res3 (s=1.1):  134.98791757523557\n",
      "sim_res2 < sim_res1 > sim_res3???:  True\n",
      "\n",
      "x:  18000\n",
      "VF estimate:  137.2445159698049\n",
      "new_sol.simulate(x,2000,s=1):  (136.225232366452, 0.1609141859496651, 73183061532124.73, 2000)\n",
      "sim_res1 (s=1):  136.225232366452\n",
      "sim_res2 (s=0.9):  136.13058393620926\n",
      "sim_res3 (s=1.1):  136.11167263805825\n",
      "sim_res2 < sim_res1 > sim_res3???:  True\n",
      "\n",
      "x:  19000\n",
      "VF estimate:  138.30845208511724\n",
      "new_sol.simulate(x,2000,s=1):  (137.2882363024604, 0.16092733522798405, 77249159682172.17, 2000)\n",
      "sim_res1 (s=1):  137.2882363024604\n",
      "sim_res2 (s=0.9):  137.19359472817374\n",
      "sim_res3 (s=1.1):  137.1746635754424\n",
      "sim_res2 < sim_res1 > sim_res3???:  True\n",
      "\n",
      "x:  20000\n",
      "VF estimate:  139.317802798731\n",
      "new_sol.simulate(x,2000,s=1):  (138.29670948007123, 0.16093926577712966, 81315260631061.62, 2000)\n",
      "sim_res1 (s=1):  138.29670948007123\n",
      "sim_res2 (s=0.9):  138.20207351700324\n",
      "sim_res3 (s=1.1):  138.18312563857745\n",
      "sim_res2 < sim_res1 > sim_res3???:  True\n",
      "\n",
      "x:  21000\n",
      "VF estimate:  140.2778968540994\n",
      "new_sol.simulate(x,2000,s=1):  (139.25597439459708, 0.1609501429192315, 85381364105556.45, 2000)\n",
      "sim_res1 (s=1):  139.25597439459708\n",
      "sim_res2 (s=0.9):  139.16134301200742\n",
      "sim_res3 (s=1.1):  139.1423810180683\n",
      "sim_res2 < sim_res1 > sim_res3???:  True\n",
      "\n",
      "x:  22000\n",
      "VF estimate:  141.19331887054523\n",
      "new_sol.simulate(x,2000,s=1):  (140.17061042698518, 0.160960103071047, 89447469870576.22, 2000)\n",
      "sim_res1 (s=1):  140.17061042698518\n",
      "sim_res2 (s=0.9):  140.07598276576405\n",
      "sim_res3 (s=1.1):  140.0570088486801\n",
      "sim_res2 < sim_res1 > sim_res3???:  True\n",
      "\n",
      "x:  23000\n",
      "VF estimate:  142.06804175212233\n",
      "new_sol.simulate(x,2000,s=1):  (141.04458604842287, 0.16096925983394156, 93513577722408.52, 2000)\n",
      "sim_res1 (s=1):  141.04458604842287\n",
      "sim_res2 (s=0.9):  140.94996138835495\n",
      "sim_res3 (s=1.1):  140.93097740088692\n",
      "sim_res2 < sim_res1 > sim_res3???:  True\n",
      "\n",
      "x:  24000\n",
      "VF estimate:  142.9055308956382\n",
      "new_sol.simulate(x,2000,s=1):  (141.8813628727371, 0.1609777086004971, 97579687483364.2, 2000)\n",
      "sim_res1 (s=1):  141.8813628727371\n",
      "sim_res2 (s=0.9):  141.78674060692884\n",
      "sim_res3 (s=1.1):  141.76774812351593\n",
      "sim_res2 < sim_res1 > sim_res3???:  True\n",
      "\n"
     ]
    }
   ],
   "source": [
    "for x in range(1,100, 5):\n",
    "    print('x: ', x)\n",
    "    print('VF estimate: ', new_sol.build_VF(x))\n",
    "    sim_res1 = new_sol.simulate(x,2000,s=1)\n",
    "    print('new_sol.simulate(x,2000,s=1): ', sim_res1)\n",
    "    sim_res1 = sim_res1[0]\n",
    "    print('sim_res1 (s=1): ', sim_res1)\n",
    "    sim_res2 = new_sol.simulate(x,2000,s=0.9)[0]\n",
    "    print('sim_res2 (s=0.9): ', sim_res2)\n",
    "    sim_res3 = new_sol.simulate(x,2000,s=1.1)[0]\n",
    "    print('sim_res3 (s=1.1): ', sim_res3)\n",
    "    print('sim_res2 < sim_res1 > sim_res3???: ', sim_res1 > sim_res2 and sim_res1 > sim_res3)\n",
    "    print('')"
   ]
  },
  {
   "cell_type": "code",
   "execution_count": 684,
   "metadata": {},
   "outputs": [
    {
     "data": {
      "text/plain": [
       "142.9055308956382"
      ]
     },
     "execution_count": 684,
     "metadata": {},
     "output_type": "execute_result"
    }
   ],
   "source": [
    "new_sol.build_VF(x)"
   ]
  },
  {
   "cell_type": "code",
   "execution_count": 685,
   "metadata": {},
   "outputs": [
    {
     "data": {
      "text/plain": [
       "(141.8813628727371, 0.1609777086004971, 97579687483364.2, 2000)"
      ]
     },
     "execution_count": 685,
     "metadata": {},
     "output_type": "execute_result"
    }
   ],
   "source": [
    "new_sol.simulate(x,2000,s=1)"
   ]
  },
  {
   "cell_type": "code",
   "execution_count": 686,
   "metadata": {},
   "outputs": [
    {
     "data": {
      "text/plain": [
       "array([21.38179779, 28.50679867, 33.72177168, 37.83813967, 41.23952739,\n",
       "       44.13809571, 46.66362462, 48.9013273 , 50.9101804 , 52.73270144,\n",
       "       54.40055658, 55.93796614, 57.36387065, 58.69336226, 59.93866167,\n",
       "       61.10980342, 62.21512819, 63.26164385, 64.2552952 , 65.20116866,\n",
       "       66.10365001, 66.96654747, 67.79318884, 68.58649909, 69.34906286,\n",
       "       70.08317529, 70.79088374, 71.47402218, 72.13423989, 72.77302545,\n",
       "       73.39172693, 73.99156909, 74.57366795, 75.1390433 , 75.68862943,\n",
       "       76.22328447, 76.74379844, 77.25090024, 77.74526385, 78.22751365,\n",
       "       78.69822925, 79.15794957, 79.60717668, 80.04637897, 80.47599418,\n",
       "       80.89643199, 81.30807634, 81.71128759, 82.10640439, 82.49374538,\n",
       "       82.87361076, 83.24628364, 83.6120314 , 83.97110672, 84.32374875,\n",
       "       84.67018397, 85.01062713, 85.345282  , 85.67434215, 85.9979916 ,\n",
       "       86.31640541, 86.62975031, 86.93818517, 87.24186152, 87.54092396,\n",
       "       87.83551063, 88.12575351, 88.41177888, 88.69370756, 88.97165525,\n",
       "       89.24573282, 89.51604659, 89.78269854, 90.04578656, 90.30540467,\n",
       "       90.56164321, 90.81458906, 91.06432577, 91.31093375, 91.55449044,\n",
       "       91.79507043, 92.03274561, 92.26758529, 92.49965633, 92.72902327,\n",
       "       92.9557484 , 93.17989189, 93.40151187, 93.62066454, 93.83740423,\n",
       "       94.05178351, 94.26385323, 94.47366264, 94.68125941, 94.88668972,\n",
       "       95.08999834, 95.29122864, 95.49042269, 95.68762128, 95.882864  ])"
      ]
     },
     "execution_count": 686,
     "metadata": {},
     "output_type": "execute_result"
    }
   ],
   "source": [
    "VF = new_sol.VF\n",
    "VF"
   ]
  },
  {
   "cell_type": "code",
   "execution_count": 687,
   "metadata": {},
   "outputs": [
    {
     "data": {
      "text/plain": [
       "array([21.41761549, 28.51562082, 33.72102444, 37.83353096, 41.2333661 ,\n",
       "       44.13143076, 46.65696346, 48.89492091, 50.90415001, 52.72709967,\n",
       "       54.39539882, 55.93324746, 57.35957516, 58.68946849, 59.93514561,\n",
       "       61.10664036, 62.21229374, 63.25911452, 64.2530487 , 65.19918404,\n",
       "       66.10190772, 66.96502931, 67.79187792, 68.58537976, 69.34812064,\n",
       "       70.08239677, 70.79025649, 71.47353472, 72.13388155, 72.77278634,\n",
       "       73.39159788, 73.99154159, 74.57373408, 75.13919569, 75.68886121,\n",
       "       76.22358926, 76.74417025, 77.25133351, 77.74575336, 78.22805454,\n",
       "       78.69881695, 79.15857981, 79.60784544, 80.0470825 , 80.47672895,\n",
       "       80.89719467, 81.30886381, 81.71209691, 82.10723279, 82.49459026,\n",
       "       82.87446965, 83.24715424, 83.6129115 , 83.97199427, 84.32464178,\n",
       "       84.67108064, 85.01152569, 85.3461808 , 85.67523963, 85.99888627,\n",
       "       86.31729587, 86.63063523, 86.93906329, 87.24273164, 87.54178495,\n",
       "       87.83636141, 88.12659307, 88.41260624, 88.69452179, 88.97245548,\n",
       "       89.24651823, 89.51681638, 89.78345196, 90.0465229 , 90.30612325,\n",
       "       90.56234339, 90.81527022, 91.06498732, 91.31157515, 91.55511116,\n",
       "       91.79566997, 92.03332348, 92.26814105, 92.50018955, 92.72953354,\n",
       "       92.95623533, 93.1803551 , 93.40195102, 93.62107929, 93.83779426,\n",
       "       94.05214852, 94.26419293, 94.47397676, 94.6815477 , 94.88695193,\n",
       "       95.09023423, 95.291438  , 95.4906053 , 95.68777695, 95.88299255])"
      ]
     },
     "execution_count": 687,
     "metadata": {},
     "output_type": "execute_result"
    }
   ],
   "source": [
    "new_sol.build_VF()"
   ]
  },
  {
   "cell_type": "code",
   "execution_count": 688,
   "metadata": {},
   "outputs": [
    {
     "data": {
      "text/plain": [
       "array([  2.33731668,   3.43215237,   4.50256446,   5.55887294,\n",
       "         6.60598456,   7.64662093,   8.68244987,   9.7145677 ,\n",
       "        10.74373385,  11.7704961 ,  12.79526263,  13.81834571,\n",
       "        14.83998964,  15.86038911,  16.87970179,  17.89805716,\n",
       "        18.91556286,  19.93230934,  20.94837333,  21.96382048,\n",
       "        22.97870742,  23.9930833 ,  25.00699109,  26.02046854,\n",
       "        27.03354903,  28.04626219,  29.05863445,  30.07068949,\n",
       "        31.0824486 ,  32.09393102,  33.10515413,  34.11613376,\n",
       "        35.12688431,  36.13741895,  37.14774975,  38.15788778,\n",
       "        39.16784325,  40.17762557,  41.18724343,  42.19670491,\n",
       "        43.20601748,  44.21518811,  45.22422327,  46.23312901,\n",
       "        47.24191099,  48.25057449,  49.25912448,  50.2675656 ,\n",
       "        51.27590222,  52.28413847,  53.29227822,  54.30032512,\n",
       "        55.30828262,  56.31615399,  57.32394231,  58.33165051,\n",
       "        59.33928137,  60.34683751,  61.35432142,  62.3617355 ,\n",
       "        63.36908199,  64.37636305,  65.38358073,  66.39073699,\n",
       "        67.39783369,  68.40487262,  69.41185548,  70.41878391,\n",
       "        71.42565945,  72.43248361,  73.43925781,  74.44598344,\n",
       "        75.45266179,  76.45929415,  77.46588172,  78.47242567,\n",
       "        79.47892712,  80.48538715,  81.4918068 ,  82.49818706,\n",
       "        83.50452891,  84.51083326,  85.51710101,  86.52333303,\n",
       "        87.52953015,  88.53569317,  89.54182288,  90.54792001,\n",
       "        91.5539853 ,  92.56001944,  93.56602312,  94.57199699,\n",
       "        95.57794169,  96.58385783,  97.58974602,  98.59560681,\n",
       "        99.60144079, 100.60724849, 101.61303043, 102.61878713])"
      ]
     },
     "execution_count": 688,
     "metadata": {},
     "output_type": "execute_result"
    }
   ],
   "source": [
    "CP = new_sol.CP\n",
    "CP"
   ]
  },
  {
   "cell_type": "code",
   "execution_count": 689,
   "metadata": {
    "scrolled": true
   },
   "outputs": [
    {
     "data": {
      "text/plain": [
       "array([  2.33731668,   3.43215237,   4.50256446,   5.55887294,\n",
       "         6.60598456,   7.64662093,   8.68244987,   9.7145677 ,\n",
       "        10.74373385,  11.7704961 ,  12.79526263,  13.81834571,\n",
       "        14.83998964,  15.86038911,  16.87970179,  17.89805716,\n",
       "        18.91556286,  19.93230934,  20.94837333,  21.96382048,\n",
       "        22.97870742,  23.9930833 ,  25.00699109,  26.02046854,\n",
       "        27.03354903,  28.04626219,  29.05863445,  30.07068949,\n",
       "        31.0824486 ,  32.09393102,  33.10515413,  34.11613376,\n",
       "        35.12688431,  36.13741895,  37.14774975,  38.15788778,\n",
       "        39.16784325,  40.17762557,  41.18724343,  42.19670491,\n",
       "        43.20601748,  44.21518811,  45.22422327,  46.23312901,\n",
       "        47.24191099,  48.25057449,  49.25912448,  50.2675656 ,\n",
       "        51.27590222,  52.28413847,  53.29227822,  54.30032512,\n",
       "        55.30828262,  56.31615399,  57.32394231,  58.33165051,\n",
       "        59.33928137,  60.34683751,  61.35432142,  62.3617355 ,\n",
       "        63.36908199,  64.37636305,  65.38358073,  66.39073699,\n",
       "        67.39783369,  68.40487262,  69.41185548,  70.41878391,\n",
       "        71.42565945,  72.43248361,  73.43925781,  74.44598344,\n",
       "        75.45266179,  76.45929415,  77.46588172,  78.47242567,\n",
       "        79.47892712,  80.48538715,  81.4918068 ,  82.49818706,\n",
       "        83.50452891,  84.51083326,  85.51710101,  86.52333303,\n",
       "        87.52953015,  88.53569317,  89.54182288,  90.54792001,\n",
       "        91.5539853 ,  92.56001944,  93.56602312,  94.57199699,\n",
       "        95.57794169,  96.58385783,  97.58974602,  98.59560681,\n",
       "        99.60144079, 100.60724849, 101.61303043, 102.61878713])"
      ]
     },
     "execution_count": 689,
     "metadata": {},
     "output_type": "execute_result"
    }
   ],
   "source": [
    "new_sol.build_CP()"
   ]
  },
  {
   "cell_type": "code",
   "execution_count": 690,
   "metadata": {},
   "outputs": [
    {
     "data": {
      "text/plain": [
       "array([ 0.22737374,  0.24659773,  0.28999624,  0.3473545 ,  0.41381583,\n",
       "        0.48668636,  0.56431531,  0.6456175 ,  0.72984128,  0.81644443,\n",
       "        0.90502296,  0.99526776,  1.08693703,  1.17983808,  1.27381483,\n",
       "        1.36873912,  1.46450442,  1.5610212 ,  1.65821351,  1.75601636,\n",
       "        1.85437371,  1.95323691,  2.05256343,  2.15231589,  2.25246127,\n",
       "        2.35297023,  2.45381661,  2.55497698,  2.65643025,  2.75815741,\n",
       "        2.86014122,  2.96236603,  3.06481758,  3.16748284,  3.27034986,\n",
       "        3.37340769,  3.47664621,  3.58005613,  3.68362881,  3.78735629,\n",
       "        3.89123116,  3.99524653,  4.09939597,  4.20367352,  4.30807357,\n",
       "        4.41259088,  4.51722056,  4.62195799,  4.72679884,  4.83173906,\n",
       "        4.93677479,  5.04190242,  5.14711853,  5.2524199 ,  5.35780347,\n",
       "        5.46326634,  5.56880577,  5.67441916,  5.78010403,  5.88585803,\n",
       "        5.99167893,  6.09756459,  6.20351298,  6.30952216,  6.4155903 ,\n",
       "        6.52171562,  6.62789643,  6.73413113,  6.84041817,  6.94675607,\n",
       "        7.05314342,  7.15957885,  7.26606106,  7.3725888 ,  7.47916088,\n",
       "        7.58577613,  7.69243345,  7.79913176,  7.90587005,  8.01264731,\n",
       "        8.11946261,  8.22631502,  8.33320365,  8.44012764,  8.54708619,\n",
       "        8.65407848,  8.76110376,  8.86816127,  8.9752503 ,  9.08237016,\n",
       "        9.18952017,  9.29669968,  9.40390807,  9.51114473,  9.61840906,\n",
       "        9.72570049,  9.83301848,  9.94036247, 10.04773196, 10.15512643])"
      ]
     },
     "execution_count": 690,
     "metadata": {},
     "output_type": "execute_result"
    }
   ],
   "source": [
    "WP = new_sol.WP\n",
    "WP"
   ]
  },
  {
   "cell_type": "code",
   "execution_count": 691,
   "metadata": {
    "scrolled": true
   },
   "outputs": [
    {
     "data": {
      "text/plain": [
       "array([ 0.22737374,  0.24659773,  0.28999624,  0.3473545 ,  0.41381583,\n",
       "        0.48668636,  0.56431531,  0.6456175 ,  0.72984128,  0.81644443,\n",
       "        0.90502296,  0.99526776,  1.08693703,  1.17983808,  1.27381483,\n",
       "        1.36873912,  1.46450442,  1.5610212 ,  1.65821351,  1.75601636,\n",
       "        1.85437371,  1.95323691,  2.05256343,  2.15231589,  2.25246127,\n",
       "        2.35297023,  2.45381661,  2.55497698,  2.65643025,  2.75815741,\n",
       "        2.86014122,  2.96236603,  3.06481758,  3.16748284,  3.27034986,\n",
       "        3.37340769,  3.47664621,  3.58005613,  3.68362881,  3.78735629,\n",
       "        3.89123116,  3.99524653,  4.09939597,  4.20367352,  4.30807357,\n",
       "        4.41259088,  4.51722056,  4.62195799,  4.72679884,  4.83173906,\n",
       "        4.93677479,  5.04190242,  5.14711853,  5.2524199 ,  5.35780347,\n",
       "        5.46326634,  5.56880577,  5.67441916,  5.78010403,  5.88585803,\n",
       "        5.99167893,  6.09756459,  6.20351298,  6.30952216,  6.4155903 ,\n",
       "        6.52171562,  6.62789643,  6.73413113,  6.84041817,  6.94675607,\n",
       "        7.05314342,  7.15957885,  7.26606106,  7.3725888 ,  7.47916088,\n",
       "        7.58577613,  7.69243345,  7.79913176,  7.90587005,  8.01264731,\n",
       "        8.11946261,  8.22631502,  8.33320365,  8.44012764,  8.54708619,\n",
       "        8.65407848,  8.76110376,  8.86816127,  8.9752503 ,  9.08237016,\n",
       "        9.18952017,  9.29669968,  9.40390807,  9.51114473,  9.61840906,\n",
       "        9.72570049,  9.83301848,  9.94036247, 10.04773196, 10.15512643])"
      ]
     },
     "execution_count": 691,
     "metadata": {},
     "output_type": "execute_result"
    }
   ],
   "source": [
    "new_sol.build_WP()"
   ]
  },
  {
   "cell_type": "code",
   "execution_count": 692,
   "metadata": {},
   "outputs": [
    {
     "data": {
      "text/plain": [
       "array([10.27962468, 13.91802107, 15.52628588, 16.00345743, 15.9635858 ,\n",
       "       15.71159886, 15.38581309, 15.04693988, 14.72064435, 14.41677556,\n",
       "       14.13805304, 13.88404839, 13.6530353 , 13.44285241, 13.2512995 ,\n",
       "       13.07631005, 12.91601621, 12.76876274, 12.63309775, 12.50775393,\n",
       "       12.39162705, 12.28375483, 12.18329761, 12.08952119, 12.00178198,\n",
       "       11.91951426, 11.84221931, 11.76945614, 11.7008337 , 11.63600414,\n",
       "       11.57465719, 11.51651531, 11.46132954, 11.408876  , 11.3589528 ,\n",
       "       11.31137749, 11.26598476, 11.22262449, 11.18116008, 11.14146694,\n",
       "       11.1034312 , 11.06694864, 11.03192362, 10.99826825, 10.96590164,\n",
       "       10.93474917, 10.90474194, 10.87581621, 10.84791291, 10.82097726,\n",
       "       10.79495835, 10.76980882, 10.74548454, 10.72194437, 10.69914987,\n",
       "       10.67706512, 10.65565649, 10.63489245, 10.61474345, 10.59518173,\n",
       "       10.57618119, 10.55771729, 10.5397669 , 10.52230823, 10.50532072,\n",
       "       10.48878495, 10.47268257, 10.45699623, 10.44170951, 10.42680682,\n",
       "       10.41227343, 10.39809534, 10.38425925, 10.37075255, 10.35756323,\n",
       "       10.34467988, 10.33209162, 10.3197881 , 10.30775946, 10.29599629,\n",
       "       10.28448962, 10.27323086, 10.26221183, 10.2514247 , 10.240862  ,\n",
       "       10.23051655, 10.22038151, 10.21045031, 10.20071666, 10.19117453,\n",
       "       10.18181814, 10.17264193, 10.16364058, 10.15480897, 10.1461422 ,\n",
       "       10.13763552, 10.12928441, 10.12108449, 10.11303156, 10.10512157])"
      ]
     },
     "execution_count": 692,
     "metadata": {},
     "output_type": "execute_result"
    }
   ],
   "source": [
    "CP/WP"
   ]
  },
  {
   "cell_type": "code",
   "execution_count": 693,
   "metadata": {},
   "outputs": [
    {
     "data": {
      "text/plain": [
       "[<matplotlib.lines.Line2D at 0x1283a6310>,\n",
       " <matplotlib.lines.Line2D at 0x1284e34c0>]"
      ]
     },
     "execution_count": 693,
     "metadata": {},
     "output_type": "execute_result"
    },
    {
     "data": {
      "image/png": "[encoded data removed]",
      "text/plain": [
       "<Figure size 432x288 with 1 Axes>"
      ]
     },
     "metadata": {
      "needs_background": "light"
     },
     "output_type": "display_data"
    }
   ],
   "source": [
    "xnew = np.arange(1,5e4,100)\n",
    "vf_new = new_sol.build_VF(xnew)\n",
    "\n",
    "plt.plot(X, VF, 'o', xnew, vf_new)"
   ]
  },
  {
   "cell_type": "code",
   "execution_count": 694,
   "metadata": {},
   "outputs": [
    {
     "data": {
      "text/plain": [
       "[<matplotlib.lines.Line2D at 0x1284dccd0>,\n",
       " <matplotlib.lines.Line2D at 0x128476640>]"
      ]
     },
     "execution_count": 694,
     "metadata": {},
     "output_type": "execute_result"
    },
    {
     "data": {
      "image/png": "[encoded data removed]",
      "text/plain": [
       "<Figure size 432x288 with 1 Axes>"
      ]
     },
     "metadata": {
      "needs_background": "light"
     },
     "output_type": "display_data"
    }
   ],
   "source": [
    "cp_new = new_sol.build_CP(xnew)\n",
    "\n",
    "plt.plot(X, CP, 'o', xnew, cp_new)"
   ]
  },
  {
   "cell_type": "code",
   "execution_count": 695,
   "metadata": {},
   "outputs": [
    {
     "data": {
      "text/plain": [
       "[<matplotlib.lines.Line2D at 0x12854c310>,\n",
       " <matplotlib.lines.Line2D at 0x1285657f0>]"
      ]
     },
     "execution_count": 695,
     "metadata": {},
     "output_type": "execute_result"
    },
    {
     "data": {
      "image/png": "[encoded data removed]",
      "text/plain": [
       "<Figure size 432x288 with 1 Axes>"
      ]
     },
     "metadata": {
      "needs_background": "light"
     },
     "output_type": "display_data"
    }
   ],
   "source": [
    "wp_new = new_sol.build_WP(xnew)\n",
    "\n",
    "plt.plot(X, WP, 'o', xnew, wp_new)"
   ]
  },
  {
   "cell_type": "code",
   "execution_count": 696,
   "metadata": {},
   "outputs": [
    {
     "data": {
      "text/plain": [
       "[<matplotlib.lines.Line2D at 0x12867aa30>,\n",
       " <matplotlib.lines.Line2D at 0x128695850>]"
      ]
     },
     "execution_count": 696,
     "metadata": {},
     "output_type": "execute_result"
    },
    {
     "data": {
      "image/png": "[encoded data removed]",
      "text/plain": [
       "<Figure size 432x288 with 1 Axes>"
      ]
     },
     "metadata": {
      "needs_background": "light"
     },
     "output_type": "display_data"
    }
   ],
   "source": [
    "xmax = 300\n",
    "xnew = np.linspace(1,xmax,50)\n",
    "xmax_idx = np.searchsorted(X, xmax, side='left') + 1\n",
    "vf_new = new_sol.build_VF(xnew)\n",
    "\n",
    "plt.plot(X[:xmax_idx], VF[:xmax_idx], 'o', xnew, vf_new)"
   ]
  },
  {
   "cell_type": "code",
   "execution_count": 697,
   "metadata": {},
   "outputs": [
    {
     "data": {
      "text/plain": [
       "[<matplotlib.lines.Line2D at 0x12874b7c0>,\n",
       " <matplotlib.lines.Line2D at 0x1287c2610>]"
      ]
     },
     "execution_count": 697,
     "metadata": {},
     "output_type": "execute_result"
    },
    {
     "data": {
      "image/png": "[encoded data removed]",
      "text/plain": [
       "<Figure size 432x288 with 1 Axes>"
      ]
     },
     "metadata": {
      "needs_background": "light"
     },
     "output_type": "display_data"
    }
   ],
   "source": [
    "cp_new = new_sol.build_CP(xnew)\n",
    "\n",
    "plt.plot(X[:xmax_idx], CP[:xmax_idx], 'o', xnew, cp_new)"
   ]
  },
  {
   "cell_type": "code",
   "execution_count": 698,
   "metadata": {},
   "outputs": [
    {
     "data": {
      "text/plain": [
       "[<matplotlib.lines.Line2D at 0x12880ee50>,\n",
       " <matplotlib.lines.Line2D at 0x128819ca0>]"
      ]
     },
     "execution_count": 698,
     "metadata": {},
     "output_type": "execute_result"
    },
    {
     "data": {
      "image/png": "[encoded data removed]",
      "text/plain": [
       "<Figure size 432x288 with 1 Axes>"
      ]
     },
     "metadata": {
      "needs_background": "light"
     },
     "output_type": "display_data"
    }
   ],
   "source": [
    "wp_new = new_sol.build_WP(xnew)\n",
    "\n",
    "plt.plot(X[:xmax_idx], WP[:xmax_idx], 'o', xnew, wp_new)"
   ]
  },
  {
   "cell_type": "code",
   "execution_count": null,
   "metadata": {},
   "outputs": [],
   "source": []
  }
 ],
 "metadata": {
  "kernelspec": {
   "display_name": "Python 3",
   "language": "python",
   "name": "python3"
  },
  "language_info": {
   "codemirror_mode": {
    "name": "ipython",
    "version": 3
   },
   "file_extension": ".py",
   "mimetype": "text/x-python",
   "name": "python",
   "nbconvert_exporter": "python",
   "pygments_lexer": "ipython3",
   "version": "3.8.8"
  }
 },
 "nbformat": 4,
 "nbformat_minor": 2
}
