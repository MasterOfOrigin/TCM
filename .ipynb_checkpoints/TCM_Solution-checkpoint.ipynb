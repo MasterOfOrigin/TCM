{
 "cells": [
  {
   "cell_type": "markdown",
   "metadata": {},
   "source": [
    "# 7 Solution Methods to Solve the Growth Model with Python\n",
    "\n",
    "This notebook is part of a computational appendix that accompanies the paper\n",
    "\n",
    "> MATLAB, Python, Julia: What to Choose in Economics?\n",
    "> > Coleman, Lyon, Maliar, and Maliar (2017)\n",
    "\n",
    "In order to run the codes in this notebook you will need to install and configure a few Python packages. We recommend downloading [Anaconda](https://www.continuum.io/downloads) and/or following the instructions on [quantecon.org](https://lectures.quantecon.org/py/getting_started.html). Once your Python installation is up and running, there are a few additional packages you will need in order to run the code here. To do this, you should remove the `# ` in front of the following commands and run the block below."
   ]
  },
  {
   "cell_type": "code",
   "execution_count": 2816,
   "metadata": {
    "scrolled": true
   },
   "outputs": [],
   "source": [
    "# ! pip install git+https://github.com/EconForge/interpolation.py.git\n",
    "# ! pip install quantecon\n",
    "# ! pip install csaps"
   ]
  },
  {
   "cell_type": "code",
   "execution_count": 2817,
   "metadata": {},
   "outputs": [],
   "source": [
    "import numpy as np\n",
    "import scipy.linalg as la\n",
    "import scipy.optimize as opt\n",
    "import time\n",
    "import quantecon as qe\n",
    "import matplotlib.pyplot as plt\n",
    "\n",
    "from collections import namedtuple\n",
    "from scipy.interpolate import interp1d, UnivariateSpline\n",
    "from scipy.misc import derivative\n",
    "from interpolation.complete_poly import (CompletePolynomial,\n",
    "                                         n_complete, complete_polynomial,\n",
    "                                         complete_polynomial_der,\n",
    "                                         _complete_poly_impl,\n",
    "                                         _complete_poly_impl_vec,\n",
    "                                         _complete_poly_der_impl,\n",
    "                                         _complete_poly_der_impl_vec)\n",
    "from numba import jit, vectorize"
   ]
  },
  {
   "cell_type": "markdown",
   "metadata": {},
   "source": [
    "## Model\n",
    "\n",
    "This section gives a short description of the commonly used stochastic Neoclassical growth model.\n",
    "\n",
    "There is a single infinitely-lived representative agent who consumes and saves using capital. The consumer discounts the future with factor $\\beta$ and derives utility from only consumption. Additionally, saved capital will depreciate at $\\delta$.\n",
    "\n",
    "The consumer has access to a Cobb-Douglas technology which uses capital saved from the previous period to produce and is subject to stochastic productivity shocks.\n",
    "\n",
    "Productivity shocks follow an AR(1) in logs.\n",
    "\n",
    "The agent's problem can be written recursively using the following Bellman equation\n",
    "\n",
    "\n",
    "$$\n",
    "\\begin{align}\n",
    "  V(k_t, z_t) &= \\max_{k_{t+1}} u(c_t) + \\beta E \\left[ V(k_{t+1}, z_{t+1}) \\right] \\\\\n",
    "  &\\text{subject to } \\\\\n",
    "  c_t &= z_t f(k_t) + (1 - \\delta) k_t - k_{t+1} \\\\\n",
    "  \\log z_{t+1} &= \\rho \\log z_t + \\sigma \\varepsilon\n",
    "\\end{align}\n",
    "$$\n",
    "\n",
    "$$\n",
    "\\begin{align*}\n",
    "    V(X, z) &= \\max_{\\tilde{c},\\tilde{s}} \\biggl\\{0,  u(c) + \\beta E \\bigl[V(X', z') \\bigr] \\biggr\\}\\\\\n",
    "    & \\text{ s.t. } \\tilde{c} \\geq 0; \\qquad \\tilde{s} \\geq 0 \\\\\n",
    "    & \\phantom{\\text{ s.t. } }N\\tilde{c} + N\\tilde{s} \\leq X \\\\\n",
    "    & \\phantom{\\text{ s.t. } } X' = \\max \\biggl\\{0, \\bigl[X - N\\tilde{c}  - N\\tilde{s} - z \\bigl(\\frac{\\tilde{c}}{\\tilde{s}}\\bigr)^\\phi \\bigr](1 + g_x) \\biggr\\} \\\\\n",
    "    & \\phantom{\\text{ s.t. } } u(\\tilde{c}) = \\bar{u} + \\ln(\\tilde{c}) \\\\\n",
    "    & \\phantom{\\text{ s.t. } } z \\sim Exp( \\bar{z} ) \n",
    "\\end{align*} \n",
    "$$"
   ]
  },
  {
   "cell_type": "markdown",
   "metadata": {},
   "source": [
    "## Python Code\n",
    "\n",
    "We begin by defining a `namedtuple` that contains the parameters of our model. This is useful to pass the parameters around to functions that are just-in-time (JIT) compiled by `numba`."
   ]
  },
  {
   "cell_type": "code",
   "execution_count": 2818,
   "metadata": {},
   "outputs": [],
   "source": [
    "#\n",
    "# Create a named tuple type that we can pass into the jitted functions\n",
    "# so that we don't have to pass parameters one by one\n",
    "#\n",
    "Params = namedtuple(\"Params\", [\"N\", \"beta\", \"g\", \"a_bar\", \"eta\", \"u_bar\"])\n",
    "\n",
    "@jit(nopython=True)\n",
    "def param_unpack(params):\n",
    "    \"Unpack parameters from the Params type\"\n",
    "    out = (params.N, params.beta, params.g,\n",
    "           params.a_bar, params.eta, params.u_bar)\n",
    "\n",
    "    return out"
   ]
  },
  {
   "cell_type": "markdown",
   "metadata": {},
   "source": [
    "We will then define various helper functions to ensure that we [don't repeat ourselves](https://lectures.quantecon.org/py/writing_good_code.html#don-t-repeat-yourself) and that the inner functions can be JIT compiled."
   ]
  },
  {
   "cell_type": "code",
   "execution_count": 2819,
   "metadata": {},
   "outputs": [],
   "source": [
    "#\n",
    "# Helper functions to make sure things are jitted\n",
    "#\n",
    "@vectorize(nopython=True)\n",
    "def u(c, eta, u_bar):\n",
    "    \"log utility function\"\n",
    "    return -1e10 if c < 1e-10 else (u_bar + np.log(c)) if eta==1 else (u_bar + (c**(1-eta)/(1-eta)))\n",
    "\n",
    "@vectorize(nopython=True)\n",
    "def du(c,eta):\n",
    "    \"Derivative of log utility function\"\n",
    "    return 1e10 if c < 1e-10 else c**(-eta)\n",
    "\n",
    "@vectorize(nopython=True)\n",
    "def duinv(u,eta):\n",
    "    \"Inverse of the derivative of the CRRA utility function\"\n",
    "    return u**(-1.0/eta )\n",
    "\n",
    "@vectorize(nopython=True)\n",
    "def f(X):\n",
    "    \"production function\"\n",
    "    return X\n",
    "\n",
    "@vectorize(nopython=True)\n",
    "def df(X):\n",
    "    \"Derivative of production function\"\n",
    "    return 1\n",
    "\n",
    "@vectorize(nopython=True)\n",
    "def discount_factor(beta, a_bar, c, w):\n",
    "    \"risk adjusted discount factor\"\n",
    "    return beta*a_bar*w/(c + a_bar*w)\n",
    "\n",
    "@vectorize(nopython=True)\n",
    "def next_x(X, N, g, c, w):\n",
    "    # next period's CPR given c and w\n",
    "    return (X - N*(c + w))*(1+g)\n",
    "\n",
    "@vectorize(nopython=True)\n",
    "def vector_dampen(vec1, vec2, dampen=1):\n",
    "    return dampen*vec1 + (1-dampen)*vec2\n",
    "\n",
    "@vectorize(nopython=True)\n",
    "def expendables(X, Xp, N, g):\n",
    "    # get expendables given X and X prime\n",
    "    return (1/N)*(X - Xp/(1 + g))\n",
    "\n",
    "@vectorize(nopython=True)\n",
    "def logu_c_from_exp(Vp, E, beta, a):\n",
    "    # get expendables given X and X prime\n",
    "    return -(2*E*a - 2*E*a**2 + E*a*(Vp*beta*(4*a + Vp*beta - 4))**0.5 - E*Vp*a*beta)/(2*(a**2 - 2*a + 1))\n",
    "\n",
    "@vectorize(nopython=True)\n",
    "def c_from_X_Xp(X, Xp, Vp, beta, a):\n",
    "    # get expendables given X and X prime\n",
    "    return -(2*E*a - 2*E*a**2 + E*a*(Vp*beta*(4*a + Vp*beta - 4))**0.5 - E*Vp*a*beta)/(2*(a**2 - 2*a + 1))\n",
    "\n",
    "\n",
    "def get_c_from_exp(Vp, E, beta, a_bar):\n",
    "    return  [\n",
    "        (2*E*a_bar**2 - 2*E*a_bar + E*a_bar*(Vp*beta*(4*a_bar + Vp*beta - 4))**0.5 + E*Vp*a_bar*beta)/(2*(a_bar**2 - 2*a_bar + 1)),\n",
    "        -(2*E*a_bar - 2*E*a_bar**2 + E*a_bar*(Vp*beta*(4*a_bar + Vp*beta - 4))**0.5 - E*Vp*a_bar*beta)/(2*(a_bar**2 - 2*a_bar + 1))\n",
    "    ]\n",
    "\n",
    "\n",
    "def c_curve(x, a, b, c):\n",
    "    return a*np.log(x) + b*x + c\n",
    "\n",
    "def w_curve(x, a, b, c):\n",
    "    return a*np.log(x) + b*x + c\n",
    "\n",
    "def v_curve(x, a, b, c, d):\n",
    "    return a*np.log(x)/(1 - x**(-b)) + c*x**d\n",
    "\n",
    "@vectorize(nopython=True)\n",
    "def trunc_to_one(X):\n",
    "    return X if X >= 1 else 1\n",
    "\n",
    "@vectorize(nopython=True)\n",
    "def psurvival(a_bar, c, w):\n",
    "    return a_bar*w/(c + a_bar*w)\n"
   ]
  },
  {
   "cell_type": "markdown",
   "metadata": {},
   "source": [
    "This code block contains other functions that are useful for computing the policy using the envelope condition (to be discussed later), simulating, and computing Euler errors."
   ]
  },
  {
   "cell_type": "code",
   "execution_count": 2820,
   "metadata": {},
   "outputs": [],
   "source": [
    "@jit(nopython=True)\n",
    "def env_cond_kp(temp, params, degree, v_coeffs, Xt):\n",
    "    # Unpack parameters\n",
    "    N, beta, g, a_bar, eta, u_bar = param_unpack(params)\n",
    "\n",
    "    # Compute derivative of VF wrt k\n",
    "    _complete_poly_der_impl_vec(np.array([Xt, zt]), degree, 0, temp)\n",
    "\n",
    "    c = duinv(np.dot(temp, v_coeffs) / (1/N))\n",
    "\n",
    "    return expendables_t(Xt) - c\n",
    "\n",
    "\n",
    "@jit(nopython=True)\n",
    "def jit_simulate_ncgm(params, degree, v_coeffs, T, nburn, shocks):\n",
    "    \"Simulates economy using envelope condition as policy rule\"\n",
    "    # Unpack parameters\n",
    "    N, beta, g, a_bar, eta, u_bar = param_unpack(params)\n",
    "\n",
    "    # Allocate space for output\n",
    "    xsim = np.empty(T+nburn)\n",
    "    zsim = np.empty(T+nburn)\n",
    "    xsim[0], zsim[0] = 1.0, 1.0 # may need to modify initial values\n",
    "\n",
    "    # Allocate space for temporary vector to fill with complete polynomials\n",
    "    temp = np.empty(n_complete(2, degree))\n",
    "\n",
    "    # Simulate\n",
    "    for t in range(1, T+nburn):\n",
    "        # Evaluate policy for today given yesterdays state\n",
    "        xp = env_cond_kp(temp, params, degree, v_coeffs, xsim[t-1], zsim[t-1])\n",
    "        \n",
    "        # Draw new z and update k using policy from above\n",
    "        zsim[t] = shocks[t]\n",
    "        xsim[t] = kp\n",
    "\n",
    "    return xsim[nburn:], zsim[nburn:]\n",
    "\n",
    "\n",
    "@jit(nopython=True)\n",
    "def jit_ee(params, degree, v_coeffs, nodes, weights, xs, zs):\n",
    "    # Unpack parameters\n",
    "    N, beta, g, a_bar, eta, u_bar = param_unpack(params)\n",
    "\n",
    "    # Allocate space for temporary vector to fill with complete polynomials\n",
    "    temp = np.empty(n_complete(2, degree))\n",
    "    T = xs.size\n",
    "    Qn = weights.size\n",
    "\n",
    "    # Allocate space to store euler errors\n",
    "    ee = np.empty(T)\n",
    "\n",
    "    # Iterate over all ks and zs\n",
    "    for t in range(T):\n",
    "        # Current states\n",
    "        x, z = xs[t], zs[t]\n",
    "\n",
    "        # Compute decision for kp and implied c\n",
    "        x1 = env_cond_kp(temp, params, degree, v_coeffs, x, z)\n",
    "        c = expendables_t(k, z, A, alpha, delta) - k1\n",
    "\n",
    "        # Compute euler error for period t\n",
    "        lhs = du(c, gamma)\n",
    "        rhs = 0.0\n",
    "        for i in range(Qn):\n",
    "            # Get productivity tomorrow\n",
    "            z1 = z**rho * np.exp(nodes[i])\n",
    "\n",
    "            # Compute decision for kpp and implied c\n",
    "            k2 = env_cond_kp(temp, params, degree, v_coeffs, k1, z1)\n",
    "            c1 = expendables_t(k1, z1, A, alpha, delta) - k2\n",
    "            rhs = rhs + weights[i]*du(c1, gamma)*(1-delta+df(k1, z1, A, alpha))\n",
    "\n",
    "        ee[t] = np.abs(1.0 - beta*rhs/lhs)\n",
    "\n",
    "    return ee\n"
   ]
  },
  {
   "cell_type": "markdown",
   "metadata": {},
   "source": [
    "We also now define a class that contains\n",
    "\n",
    "1. Parameters of the growth model\n",
    "2. Grids used for approximating the solution\n",
    "3. Nodes and weights used to approximate integration\n",
    "\n",
    "This again helps us maintain all of the relevant information in one place and simplifies passing it to other functions."
   ]
  },
  {
   "cell_type": "code",
   "execution_count": 2821,
   "metadata": {},
   "outputs": [],
   "source": [
    "class Model(object):\n",
    "    \"\"\"\n",
    "    The stochastic Neoclassical Growth model contains\n",
    "    parameters which include\n",
    "\n",
    "    * alpha: Capital share in output\n",
    "    * beta: discount factor\n",
    "    * delta: depreciation rate\n",
    "    * gamma: risk aversion\n",
    "    * rho: persistence of the log productivity level\n",
    "    * sigma: standard deviation of shocks to log productivity\n",
    "    \"\"\"\n",
    "    def __init__(self, N=1, beta=0.95, g_x=0.02, g_a=0.015, a_bar=1000, \n",
    "                 eta=1, u_bar=0, \n",
    "                 xmin=1, xmax=2000, nx=25):\n",
    "        # calculate g from g_a and g_x \n",
    "        g = g_a + g_x + g_a*g_x\n",
    "\n",
    "        # Household parameters\n",
    "        self.beta, self.eta, self.u_bar, = beta, eta, u_bar\n",
    "\n",
    "        # Firm/technology parameters\n",
    "        self.N, self.g, self.a_bar = N, g, a_bar\n",
    "\n",
    "        # Create t grids\n",
    "        self.xgrid = N*np.geomspace(xmin, xmax, nx)\n",
    "        self.grid = np.reshape(self.xgrid, [self.xgrid.shape[0], 1])\n",
    "        \n",
    "        self.ns = nx\n",
    "        \n",
    "    def _unpack_params(self):\n",
    "        out = (self.N, self.beta, self.g, \n",
    "               self.a_bar, self.eta, self.u_bar)\n",
    "        return out\n",
    "\n",
    "    def _unpack_grids(self):\n",
    "        out = (self.xgrid, self.grid)\n",
    "        return out\n"
   ]
  },
  {
   "cell_type": "markdown",
   "metadata": {},
   "source": [
    "## Solution Methods\n",
    "\n",
    "In this notebook, we describe the following solution methods:\n",
    "\n",
    "* Conventional Value Function Iteration\n",
    "* Envelope Condition Value Function Iteration\n",
    "* Envelope Condition Derivative Value Function Iteration\n",
    "* Endogenous Grid Value Function Iteration\n",
    "* Conventional Policy Function Iteration\n",
    "* Envelope Condition Policy Function Iteration\n",
    "* Euler Equation Method\n",
    "\n",
    "Each of these solution methods will have a very similar structure that follows a few basic steps:\n",
    "\n",
    "1. Guess a function (either value function or policy function).\n",
    "2. Using this function, update our guess of both the value and policy functions.\n",
    "3. Check whether the function we guessed and what it was updated to are similar enough. If so, proceed. If not, return to step 2 using the updated functions.\n",
    "4. Output the policy and value functions.\n",
    "\n",
    "In order to reduce the amount of repeated code and keep the exposition as clean as possible (the notebook is plenty long as is...), we will define a class for each solution method that inherit various properties from a general solution parent class. The parent class will contain methods which apply to all of the other solution methods such as a general solve method, computing expectations, simulating, etc... This implementation may feel strange at first if one isn't familiar with object oriented programming, but these concepts can be powerful when properly used."
   ]
  },
  {
   "cell_type": "code",
   "execution_count": 2822,
   "metadata": {},
   "outputs": [],
   "source": [
    "class GeneralSolution:\n",
    "    \"\"\"\n",
    "    This is a general solution method. We define this, so that we can\n",
    "    sub-class it and define specific update methods for each particular\n",
    "    solution method\n",
    "    \"\"\"\n",
    "    def __init__(self, ncgm,  maxfev=10000, prev_sol=None):\n",
    "        self.Xinf = None\n",
    "        # Save model and approximation degree\n",
    "        self.ncgm,  self.maxfev = ncgm, maxfev\n",
    "\n",
    "        # Unpack some info from ncgm\n",
    "        N, beta, g, a_bar, eta, u_bar = self._unpack_params()\n",
    "        X = self.ncgm.xgrid\n",
    "\n",
    "        # Use parameter values from model to create a namedtuple with\n",
    "        # parameters saved inside\n",
    "        self.params = Params(N, beta, g, a_bar, eta, u_bar)\n",
    "\n",
    "        # Update to fill initial value and policy matrices\n",
    "        # If we give it another solution type then use it to\n",
    "        # generate values and policies\n",
    "        if issubclass(type(prev_sol), GeneralSolution):\n",
    "            self.CP = c_curve(X, *prev_sol.c_params)\n",
    "            self.WP = w_curve(X, *prev_sol.w_params)\n",
    "            self.VF = v_curve(X, *prev_sol.v_params)\n",
    "        # If we give it a tuple then assume it is (policy, value) pair\n",
    "        elif type(prev_sol) is tuple:\n",
    "            self.CP = prev_sol[0]\n",
    "            self.WP = prev_sol[1]\n",
    "            self.VF = prev_sol[2]\n",
    "        # Otherwise guess a constant value function and a policy\n",
    "        # of roughly steady state\n",
    "        else:\n",
    "            # guess VF\n",
    "            self.VF = np.log(X/N) # np.ones(ncgm.ns)\n",
    "            \n",
    "            \n",
    "            \n",
    "            # make a guess at steady state\n",
    "            Exp = expendables(X, X, N, g)\n",
    "            \n",
    "            self.CP = 0.9*Exp\n",
    "            self.WP = Exp - self.CP\n",
    "\n",
    "        # Params based on guesses\n",
    "        self.c_params, _ = opt.curve_fit(c_curve, X, self.CP, maxfev=self.maxfev)\n",
    "        self.w_params, _ = opt.curve_fit(w_curve, X, self.WP, maxfev=self.maxfev)\n",
    "        self.v_params, _ = opt.curve_fit(v_curve, X, self.VF, maxfev=self.maxfev)\n",
    "\n",
    "\n",
    "    def _unpack_params(self):\n",
    "        return self.ncgm._unpack_params()\n",
    "    \n",
    "    def build_all(self, X=None):\n",
    "        if X is None:\n",
    "            X = self.ncgm.xgrid\n",
    "            \n",
    "        CP = self.build_CP(X)\n",
    "        WP = self.build_WP(X)\n",
    "        VF = self.build_VF(X)\n",
    "        \n",
    "        # corner solution\n",
    "        CP_corner = X/self.ncgm.N\n",
    "        WP_corner = X*0 \n",
    "        VF_corner = u(CP_corner, self.ncgm.eta, self.ncgm.u_bar)\n",
    "\n",
    "        corner_idx = (CP > CP_corner) + (CP < 0) + (WP > CP_corner) + (WP < 0) + (VF < VF_corner)\n",
    "        \n",
    "        CP[corner_idx] = CP_corner[corner_idx]\n",
    "        WP[corner_idx] = WP_corner[corner_idx]\n",
    "        VF[corner_idx] = VF_corner[corner_idx]  \n",
    "        \n",
    "        return CP, WP, VF\n",
    "    \n",
    "    def build_all_scalar(self, x): \n",
    "        cp = c_curve(x, *self.c_params)\n",
    "        wp = w_curve(x, *self.w_params)\n",
    "        vf = v_curve(x, *self.v_params)\n",
    "        \n",
    "        # corner solution\n",
    "        cp_corner = x/self.ncgm.N\n",
    "        wp_corner = 0\n",
    "        vf_corner = u(cp_corner, self.ncgm.eta, self.ncgm.u_bar)\n",
    "        \n",
    "        if (cp > cp_corner) or (cp < 0) or (wp > cp_corner) or (wp < 0) or (vf < vf_corner):\n",
    "                return cp_corner, wp_corner, vf_corner\n",
    "            \n",
    "        return cp, wp, vf\n",
    "\n",
    "        \n",
    "    def build_VF(self, X=None):\n",
    "        \"\"\"\n",
    "        Using the current coefficients, this builds the value function\n",
    "        for all states\n",
    "        \"\"\"\n",
    "        if X is None:\n",
    "            X = self.ncgm.xgrid\n",
    "            \n",
    "        VF = v_curve(X, *self.v_params)\n",
    "\n",
    "        return VF\n",
    "\n",
    "    def build_CP(self, X=None):\n",
    "        \"\"\"\n",
    "        Using the current coefficients, this builds the policy function\n",
    "        for all states\n",
    "        \"\"\"\n",
    "        if X is None:\n",
    "            X = self.ncgm.xgrid\n",
    "            \n",
    "        CP = np.clip(c_curve(X, *self.c_params), 0, X/self.ncgm.N)\n",
    "\n",
    "        return CP\n",
    "    \n",
    "    def build_WP(self, X=None):\n",
    "        \"\"\"\n",
    "        Using the current coefficients, this builds the policy function\n",
    "        for all states\n",
    "        \"\"\"\n",
    "        if X is None:\n",
    "            X = self.ncgm.xgrid\n",
    "            \n",
    "        WP = np.clip(w_curve(X, *self.w_params), 0, X/self.ncgm.N)\n",
    "\n",
    "        return WP\n",
    "\n",
    "    def update_v(self, new_v_params, dampen=1):\n",
    "        \"\"\"\n",
    "        Updates the coefficients for the value function\n",
    "        \"\"\"\n",
    "        self.v_params = (1-dampen)*self.v_params + dampen*new_v_params\n",
    "\n",
    "        return None\n",
    "\n",
    "    def update_c(self, new_c_params, dampen=1):\n",
    "        \"\"\"\n",
    "        Updates the coefficients for the policy function\n",
    "        \"\"\"\n",
    "        self.c_params = (1-dampen)*self.c_params + dampen*new_c_params\n",
    "\n",
    "        return None\n",
    "    \n",
    "    def update_w(self, new_w_params, dampen=1):\n",
    "        \"\"\"\n",
    "        Updates the coefficients for the policy function\n",
    "        \"\"\"\n",
    "        self.w_params = (1-dampen)*self.w_params + dampen*new_w_params\n",
    "\n",
    "        return None\n",
    "\n",
    "    def update(self):\n",
    "        \"\"\"\n",
    "        Given the current state of everything in solution, update the\n",
    "        value and policy coefficients\n",
    "        \"\"\"\n",
    "        emsg = \"The update method is implemented in solution specific classes\"\n",
    "        emsg += \"\\nand cannot be called from `GeneralSolution`\"\n",
    "        raise ValueError(emsg)\n",
    "        \n",
    "    def compute_spline(self, cp, wp, VF):\n",
    "        v_spline = interp1d(\n",
    "            self.ncgm.xgrid, \n",
    "            VF, \n",
    "            kind=self.interpolator, \n",
    "            fill_value=\"extrapolate\",\n",
    "            assume_sorted=True\n",
    "        )\n",
    "      \n",
    "        return v_spline\n",
    "    \n",
    "    def compute_params(self, cp, wp, VF):\n",
    "        new_c_params, _ = opt.curve_fit(c_curve, self.ncgm.xgrid, cp, maxfev=self.maxfev)\n",
    "        new_w_params, _ = opt.curve_fit(w_curve, self.ncgm.xgrid, wp, maxfev=self.maxfev)\n",
    "        new_v_params, _ = opt.curve_fit(v_curve, self.ncgm.xgrid, VF, maxfev=self.maxfev) \n",
    "        \n",
    "        return new_c_params, new_w_params, new_v_params\n",
    "\n",
    "    def compute_EV_scalar(self, Xn):\n",
    "        val = v_curve(trunc_to_one(Xn), *self.v_params)\n",
    "        \n",
    "        return val\n",
    "\n",
    "    def compute_dEV_scalar(self, Xn):\n",
    "        v_curve_curried = lambda x: v_curve(x, *self.v_params)\n",
    "        val = derivative( v_curve_curried, trunc_to_one(Xn), self.dx)\n",
    "        \n",
    "        return val \n",
    "\n",
    "    def compute_EV(self, Xn=None):\n",
    "        \"\"\"\n",
    "        Compute the expected value\n",
    "        \"\"\"\n",
    "        if Xn is None:\n",
    "            # Unpack parameters\n",
    "            N, beta, g, a_bar, eta, u_bar = self._unpack_params()\n",
    "\n",
    "            # Use policy to compute cp and wp\n",
    "            cp = c_curve(X, *self.c_params)\n",
    "            wp = w_curve(X, *self.w_params)\n",
    "            Xn = next_x(self.ncgm.xgrid, N, g, cp, wp)\n",
    "        \n",
    "        EV = v_curve(Xn, *self.v_params)\n",
    "        \n",
    "        return EV\n",
    "\n",
    "\n",
    "    def compute_dEV(self, Xn=None):\n",
    "        \"\"\"\n",
    "        Compute the derivative of the expected value\n",
    "        \"\"\"\n",
    "        # Use policy to compute cp and wp\n",
    "        if Xn is None:\n",
    "            # Unpack parameters\n",
    "            N, beta, g, a_bar, eta, u_bar = self._unpack_params()\n",
    "            X = self.ncgm.xgrid\n",
    "            cp = c_curve(X, *self.c_params)\n",
    "            wp = w_curve(X, *self.w_params)\n",
    "            Xn = next_x(X, N, g, cp, wp)\n",
    "        \n",
    "        v_curve_curried = lambda x: v_curve(x, *self.v_params)\n",
    "        val = derivative( v_curve_curried, trunc_to_one(Xn), self.dx)\n",
    "        \n",
    "        return dEV\n",
    "\n",
    "\n",
    "    def compute_distance(self, cp, wp, VF):\n",
    "        \"\"\"\n",
    "        Computes average distance between policy functions\n",
    "        \"\"\"\n",
    "        return np.max([\n",
    "            np.max(np.abs(1.0 - (cp+1e-12)/(self.CP+1e-12))), \n",
    "            np.max(np.abs(1.0 - (wp+1e-12)/(self.WP+1e-12)))\n",
    "        ])\n",
    "    \n",
    "\n",
    "    def solve(self, tol=1e-3, maxiter=2500, verbose=False, nskipprint=25):\n",
    "        # Iterate until convergence\n",
    "        dist, it = 10.0, 0\n",
    "        while (dist>tol) and (it<maxiter):\n",
    "            # Run solution specific update code\n",
    "            cp, wp, VF = self.update()\n",
    "\n",
    "            # Compute new policy and value coeffs\n",
    "            new_c_params, new_w_params, new_v_params = self.compute_params(cp, wp, VF)\n",
    "\n",
    "            # Update distance and iterations\n",
    "            dist = self.compute_distance(cp, wp, VF)\n",
    "            self.CP, self.WP, self.VF = cp, wp, VF\n",
    "            it += 1\n",
    "            if verbose and it%nskipprint == 0:\n",
    "                print(it, dist)\n",
    "\n",
    "            # Update all coefficients\n",
    "            self.update_c(new_c_params)\n",
    "            self.update_w(new_w_params)\n",
    "            self.update_v(new_v_params)\n",
    "\n",
    "        # After finishing iteration, iterate to convergence using policy\n",
    "        if not isinstance(self, IterateOnPolicy):\n",
    "            sol_iop = IterateOnPolicy(self.ncgm, self.maxfev, self)\n",
    "            cp, wp, VF = sol_iop.solve(tol=1e-3)\n",
    "\n",
    "            # Save final versions of everything\n",
    "            self.CP, self.WP, self.VF = cp, wp, VF\n",
    "            \n",
    "            new_c_params, new_w_params, new_v_params = sol_iop.compute_params(cp, wp, VF)\n",
    "            self.update_c(new_c_params)\n",
    "            self.update_w(new_w_params)\n",
    "            self.update_v(new_v_params)\n",
    "\n",
    "        return self.CP, self.WP, self.VF\n",
    "    \n",
    "    def solve_full(self, tol=1e-3, maxiter=2500, verbose=False, nskipprint=25):\n",
    "        N, beta, g, a_bar, eta, u_bar = self._unpack_params()\n",
    "        \n",
    "        # solve as infinite horizon and store results\n",
    "        self.CP_inf, self.WP_inf, self.VF_inf = self.solve(tol, maxiter, verbose, nskipprint)\n",
    "        \n",
    "        self.CP, self.WP, self.VF = self.build_all()\n",
    "        \n",
    "        return self.CP, self.WP, self.VF\n",
    "        \n",
    "\n",
    "    def simulate(self, X=None, T=1000, s=1):\n",
    "        \"\"\"\n",
    "        Simulates the neoclassical growth model with policy function\n",
    "        given by self.KP. Simulates for `T` periods and discarsd first\n",
    "        nburn `observations`\n",
    "        \"\"\"\n",
    "        N, beta, g, a_bar, eta, u_bar = self._unpack_params()\n",
    "        # X is starting point, if None, set to N*274\n",
    "        if X is None:\n",
    "            X = N*274\n",
    "            \n",
    "        def recurse_bellman(x, t):\n",
    "            if x <= 0:\n",
    "                return 0, 0, x, t\n",
    "            if t >= T:\n",
    "                return u(x/N, eta, u_bar), 1, x, T\n",
    "            \n",
    "            c_corner = x/N \n",
    "            u_corner = u(c_corner, eta, u_bar)\n",
    "            \n",
    "            c = s*self.build_CP(x)\n",
    "            w = s*self.build_WP(x)\n",
    "\n",
    "            \n",
    "            if w <= 0:\n",
    "                c = c_corner \n",
    "                \n",
    "            m_t = psurvival(a_bar, c, w)\n",
    "            u_t = u(c, eta, u_bar)\n",
    "            x_prime = next_x(x, N, g, c, w)\n",
    "            \n",
    "            v_prime, m_prime, final_state, nperiods = recurse_bellman(x_prime, t+1)\n",
    "            \n",
    "            if u_t + beta*m_t*v_prime < u_corner:\n",
    "                return u_corner, 0, 0, t+1\n",
    "            \n",
    "            return u_t + beta*m_t*v_prime, m_t*m_prime, final_state, nperiods\n",
    "        \n",
    "        return recurse_bellman(X, 0)\n",
    "        \n",
    "\n",
    "    def ee_residuals(self, ksim=None, zsim=None, Qn=10, seed=42):\n",
    "        \"\"\"\n",
    "        Computes the Euler Equation residuals of a simulated capital and\n",
    "        productivity levels (ksim and zsim) and uses Qn nodes for computing\n",
    "        the expectation\n",
    "        \"\"\"\n",
    "        if (ksim is None) or (zsim is None):\n",
    "            ksim, zsim = self.simulate(T=10000, nburn=200, seed=seed)\n",
    "\n",
    "        nodes, weights = qe.quad.qnwnorm(Qn, 0.0, self.ncgm.sigma**2)\n",
    "        ee = jit_ee(self.params, self.degree, self.v_coeffs,\n",
    "                    nodes, weights, ksim, zsim)\n",
    "\n",
    "        return np.log10(np.mean(ee)), np.log10(np.max(ee))\n",
    "    \n",
    "    def compute_Xdot(self, X):\n",
    "        N, beta, g, a_bar, eta, u_bar = self._unpack_params()\n",
    "        cp = c_curve(X, *self.c_params)\n",
    "        wp = w_curve(X, *self.w_params)\n",
    "        Xn = next_x(X, N, g, cp, wp)\n",
    "        \n",
    "        return Xn - X\n",
    "        \n",
    "    def compute_Xinflection(self):\n",
    "        N, beta, g, a_bar, eta, u_bar = self._unpack_params()\n",
    "        floor = N\n",
    "        ceil = N*1000\n",
    "        for i in range(4):\n",
    "            X = np.linspace(floor, ceil, 100)\n",
    "            Xdot = self.compute_Xdot(X)\n",
    "            idx = np.argmin(Xdot[Xdot > 0])\n",
    "            floor = X[idx]\n",
    "            if idx < 99:\n",
    "                ceil = X[idx + 1]\n",
    "        \n",
    "        return floor"
   ]
  },
  {
   "cell_type": "markdown",
   "metadata": {},
   "source": [
    "### Iterating to Convergence (given policy)\n",
    "\n",
    "This isn't one of the methods described above, but it is used as an element of a few of our methods (and also as a way to get a first guess at the value function). This method takes an initial policy function, $\\bar{k}(k_t, z_t)$, as given, and then, without changing the policy, iterates until the value function has converged.\n",
    "\n",
    "Thus the \"update section\" of the algorithm in this instance would be:\n",
    "\n",
    "* Leave policy function unchanged\n",
    "* At each point of grid, $(k_t, z_t)$, compute $\\hat{V}(k_t, z_t) = u(c(\\bar{k}(k_t, z_t))) + \\beta E \\left[ V(\\bar{k}(k_t, z_t), z_{t+1}) \\right]$\n",
    "\n",
    "We override two of the methods from `GeneralSolution`\n",
    "\n",
    "* `compute_distance` because when we are iterating to convergence on the value function we want to check distnace using value function rather than policy function\n",
    "* `compute_coefficients` because we don't need to update the policy functions coefficients.\n",
    "\n",
    "The `update` method just repeatedly applies a particular policy function to update the value function."
   ]
  },
  {
   "cell_type": "code",
   "execution_count": 2823,
   "metadata": {},
   "outputs": [],
   "source": [
    "class IterateOnPolicy(GeneralSolution):\n",
    "    \"\"\"\n",
    "    Subclass of the general solution method. The update method for this\n",
    "    class simply computes the fixed point of the value function given\n",
    "    a specific policy\n",
    "    \"\"\"\n",
    "    def compute_distance(self, cp, wp, VF):\n",
    "        \"\"\"\n",
    "        Computes distance between policy functions. When we are\n",
    "        iterating on a specific policy, we would like to compute\n",
    "        distances by the difference between VFs\n",
    "        \"\"\"\n",
    "        return np.max(np.abs(1.0 - (VF )/(self.VF )))\n",
    "\n",
    "    def compute_coefficients(self, cp, wp, VF):\n",
    "        \"\"\"\n",
    "        Given a policy and value return corresponding coefficients.\n",
    "        When we are iterating on a specific policy, we don't want to\n",
    "        update the policy coefficients.\n",
    "        \"\"\"\n",
    "        new_v_coeffs = la.lstsq(self.Phi, VF)[0]\n",
    "\n",
    "        return self.c_coeffs, self.w_coeffs, new_v_coeffs\n",
    "    \n",
    "    def compute_spline(self, VF):\n",
    "        new_v_spline = interp1d(\n",
    "            self.ncgm.xgrid, \n",
    "            VF, \n",
    "            kind=self.interpolator, \n",
    "            fill_value=\"extrapolate\",\n",
    "            assume_sorted=True\n",
    "        )\n",
    "        \n",
    "        return new_v_spline\n",
    "    \n",
    "    def compute_params(self, cp, wp, VF):\n",
    "        new_v_params, _ = opt.curve_fit(v_curve, self.ncgm.xgrid, VF, maxfev=self.maxfev) \n",
    "        \n",
    "        return self.c_params, self.w_params, new_v_params\n",
    "    \n",
    "    def update(self):\n",
    "        # Unpack parameters\n",
    "        N, beta, g, a_bar, eta, u_bar = self._unpack_params()\n",
    "        X = self.ncgm.xgrid\n",
    "        \n",
    "        Xn = next_x(X, N, g, self.CP, self.WP)\n",
    "\n",
    "        # Update the value function\n",
    "        VF = u(self.CP, eta, u_bar) + beta*np.maximum(self.compute_EV(Xn), np.zeros(self.ncgm.ns))\n",
    "\n",
    "        return self.CP, self.WP, VF"
   ]
  },
  {
   "cell_type": "markdown",
   "metadata": {},
   "source": [
    "### Conventional Value Function Iteration\n",
    "\n",
    "This is one of the first solution methods for macroeconomics a graduate student in economics typically learns.\n",
    "\n",
    "In this solution method, one takes as given a value function, $V(k_t, z_t)$, and then solves for the optimal policy given the value function.\n",
    "\n",
    "The update section takes the form:\n",
    "\n",
    "* For each point, $(k_t, z_t)$, numerically solve for $c^*(k_t, z_t)$ to satisfy the first order condition $u'(c^*) = \\beta E \\left[ V_1((1 - \\delta) k_t + z_t f(k_t) - c^*, z_{t+1}) \\right]$\n",
    "* Define $k^*(k_t, z_t) = (1 - \\delta) k_t + z_t f(k_t) - c^*(k_t, z_t)$\n",
    "* Update value function according to $\\hat{V}(k_t, z_t) = u(c^*(k_t, z_t)) + \\beta E \\left[ V(k^*(k_t, z_t), z_{t+1}) \\right]$\n",
    "\n",
    "\n",
    "* For each point, $(X_t, z_t)$, numerically solve for $c^*(X_t, z_t)$ to satisfy the first order condition $u'(\\tilde{c}^\\ast) = \\beta E \\left[ V_1((1 - \\delta) k_t + z_t f(k_t) - c^*, z_{t+1}) \\right]$\n",
    "* Define $k^*(k_t, z_t) = (1 - \\delta) k_t + z_t f(k_t) - c^*(k_t, z_t)$\n",
    "* Update value function according to $\\hat{V}(k_t, z_t) = u(c^*(k_t, z_t)) + \\beta E \\left[ V(k^*(k_t, z_t), z_{t+1}) \\right]$\n",
    "\n",
    "\n"
   ]
  },
  {
   "cell_type": "code",
   "execution_count": 2824,
   "metadata": {},
   "outputs": [],
   "source": [
    "class VFI(GeneralSolution):\n",
    "    \"\"\"\n",
    "    Updates the coefficients and value functions using the VFI\n",
    "    method\n",
    "    \"\"\"\n",
    "    def update(self):\n",
    "        \"\"\"\n",
    "        Updates the coefficients and value functions using the VFI_ECM\n",
    "        method\n",
    "        \"\"\"\n",
    "        # Unpack parameters\n",
    "        N, beta, g, a_bar, eta, u_bar = self._unpack_params()\n",
    "        xgrid = self.ncgm.xgrid\n",
    "        n_state = xgrid.shape[0]\n",
    "\n",
    "        # Get the policy and update it\n",
    "        cp = np.empty(n_state)\n",
    "        wp = np.empty(n_state)\n",
    "        VF = np.empty(n_state)\n",
    "        for i_s in range(n_state):\n",
    "            # Pull out current vals\n",
    "            X = xgrid[i_s]\n",
    "            def _f(xp):\n",
    "                EV = self.compute_EV_scalar(xp)\n",
    "                Exp = expendables(X, xp, N, g)\n",
    "                _cp = np.clip(get_c_from_exp(EV, Exp, beta, a_bar)[1], 0, Exp)\n",
    "                _wp = Exp - _cp\n",
    "                return -(u(_cp, 1, u_bar) + discount_factor(beta, a_bar, _cp, _wp)*EV)**2\n",
    "                \n",
    "            \n",
    "            _xp = opt.fminbound(_f, X*(1-g), X*(1+g), xtol=1e-12)\n",
    "            EV = self.compute_EV_scalar(_xp)\n",
    "            Exp = expendables(X, _xp, N, g)\n",
    "            if Exp <= 0:\n",
    "                _cp = X/N\n",
    "                _wp = 0\n",
    "            else:\n",
    "                _cp = np.clip(get_c_from_exp(EV, Exp, beta, a_bar)[1], 0, Exp)\n",
    "                _wp = Exp - _cp\n",
    "                \n",
    "            _vf = u(_cp, 1, u_bar) + discount_factor(beta, a_bar, _cp, _wp)*EV\n",
    "             \n",
    "            \n",
    "            if _vf < 0:\n",
    "                cp[i_s] = X/N\n",
    "                wp[i_s] = 0\n",
    "                VF[i_s] = u(X/N, eta, u_bar)\n",
    "            else:                \n",
    "                cp[i_s] = _cp\n",
    "                wp[i_s] = _wp\n",
    "                VF[i_s] = _vf\n",
    "\n",
    "        return cp, wp, VF\n"
   ]
  },
  {
   "cell_type": "markdown",
   "metadata": {},
   "source": [
    "## A Horse Race\n",
    "\n",
    "We can now run a horse race to compare the methods in terms of both accuracy and speed."
   ]
  },
  {
   "cell_type": "raw",
   "metadata": {},
   "source": [
    "ncgm = NeoclassicalGrowth(xmin=50, xmax=2000)\n",
    "\n",
    "# First guess\n",
    "vp = IterateOnPolicy(ncgm, 2)\n",
    "vp.solve(tol=1e-9)\n",
    "\n",
    "np.random.seed(61089)\n",
    "shocks = np.random.randn(10200)\n",
    "\n",
    "for sol_method in [VFI, VFI_ECM, VFI_EGM, PFI, PFI_ECM, dVFI_ECM, EulEq]:\n",
    "\n",
    "    # Set prev sol as iterate on policy\n",
    "    new_sol = vp\n",
    "    print(\"Solution Method: {}\\n\".format(sol_method))\n",
    "\n",
    "    for d in range(2, 6):\n",
    "        new_sol = sol_method(ncgm, d, new_sol)\n",
    "        ts = time.time()\n",
    "        new_sol.solve(tol=1e-9, verbose=False, nskipprint=25)\n",
    "        time_took = time.time() - ts\n",
    "        print(\"\\tDegree {} took {}\\n\".format(d, time_took))\n",
    "\n",
    "        # Compute Euler Errors\n",
    "        ks, zs = new_sol.simulate(10000, 200, shocks=shocks)\n",
    "        mean_ee, max_ee = new_sol.ee_residuals(ks, zs, Qn=10)\n",
    "        print(\"\\t\\tMean and Max EE are {} & {}\\n\".format(mean_ee, max_ee))\n",
    "        new_sol = new_sol"
   ]
  },
  {
   "cell_type": "code",
   "execution_count": 2825,
   "metadata": {},
   "outputs": [
    {
     "data": {
      "text/plain": [
       "array([  10.        ,   10.64785978,   11.33769179,   12.07221523,\n",
       "         12.8543255 ,   13.68710555,   14.57383807,   15.51801842,\n",
       "         16.52336841,   17.59385099,   18.73368583,   19.94736599,\n",
       "         21.2396756 ,   22.61570875,   24.08088956,   25.64099353,\n",
       "         27.30217037,   29.07096818,   30.95435927,   32.95976771,\n",
       "         35.09509849,   37.36876876,   39.78974098,   42.36755826,\n",
       "         45.11238195,   48.03503173,   51.14702823,   54.46063847,\n",
       "         57.98892418,   61.74579334,   65.74605494,   70.00547739,\n",
       "         74.5408507 ,   79.3700526 ,   84.51211907,   89.98731934,\n",
       "         95.81723581,  102.02484913,  108.63462874,  115.67262939,\n",
       "        123.16659379,  131.146062  ,  139.64248787,  148.68936299,\n",
       "        158.32234876,  168.57941694,  179.50099931,  191.13014707,\n",
       "        203.51270054,  216.69746984,  230.73642732,  245.68491238,\n",
       "        261.60184967,  278.5499813 ,  296.59611421,  315.81138349,\n",
       "        336.27153277,  358.05721284,  381.25429949,  405.95423208,\n",
       "        432.25437396,  460.25839624,  490.07668649,  521.82678384,\n",
       "        555.63384228,  591.63112406,  629.96052495,  670.77313355,\n",
       "        714.2298269 ,  760.50190463,  809.77176415,  862.23361971,\n",
       "        918.09426787,  977.57390275, 1040.90698394, 1108.34316071,\n",
       "       1180.14825615, 1256.6053149 , 1338.01571896, 1424.70037566,\n",
       "       1517.0009826 , 1615.28137461, 1719.92895793, 1831.35623725,\n",
       "       1950.00244183, 2076.33525678, 2210.85266668, 2354.08491851,\n",
       "       2506.59661184, 2668.98892435, 2841.90198161, 3026.01738037,\n",
       "       3222.06087526, 3430.80523967, 3653.07331185, 3889.74123842,\n",
       "       4141.74192803, 4410.06872872, 4695.77934358, 5000.        ])"
      ]
     },
     "execution_count": 2825,
     "metadata": {},
     "output_type": "execute_result"
    }
   ],
   "source": [
    "vp.ncgm.xgrid"
   ]
  },
  {
   "cell_type": "code",
   "execution_count": 2826,
   "metadata": {
    "scrolled": true
   },
   "outputs": [
    {
     "name": "stderr",
     "output_type": "stream",
     "text": [
      "/Users/mikemahon/anaconda3/lib/python3.8/site-packages/scipy/optimize/minpack.py:828: OptimizeWarning: Covariance of the parameters could not be estimated\n",
      "  warnings.warn('Covariance of the parameters could not be estimated',\n",
      "<ipython-input-2819-ec8d11ceef4e>:73: RuntimeWarning: invalid value encountered in reciprocal\n",
      "  return a*np.log(x)/(1 - x**(-b)) + c*x**d\n",
      "<ipython-input-2819-ec8d11ceef4e>:73: RuntimeWarning: overflow encountered in power\n",
      "  return a*np.log(x)/(1 - x**(-b)) + c*x**d\n"
     ]
    },
    {
     "name": "stdout",
     "output_type": "stream",
     "text": [
      "vp done\n"
     ]
    },
    {
     "name": "stderr",
     "output_type": "stream",
     "text": [
      "/Users/mikemahon/anaconda3/lib/python3.8/site-packages/scipy/optimize/minpack.py:828: OptimizeWarning: Covariance of the parameters could not be estimated\n",
      "  warnings.warn('Covariance of the parameters could not be estimated',\n"
     ]
    },
    {
     "name": "stdout",
     "output_type": "stream",
     "text": [
      "25 0.020866478884448147\n",
      "50 0.004908675413125008\n",
      "75 0.0013768369173903228\n",
      "100 0.0003929103897772901\n",
      "125 0.00011043340598659857\n",
      "150 3.03624785265022e-05\n",
      "175 1.2520848623576164e-05\n",
      "200 2.1900941156172138e-06\n"
     ]
    },
    {
     "name": "stderr",
     "output_type": "stream",
     "text": [
      "<ipython-input-2819-ec8d11ceef4e>:73: RuntimeWarning: overflow encountered in power\n",
      "  return a*np.log(x)/(1 - x**(-b)) + c*x**d\n"
     ]
    }
   ],
   "source": [
    "ncgm = Model(N=1, a_bar=1000, xmin=1000, xmax=5000, nx=100)\n",
    "\n",
    "# First guess\n",
    "vp = IterateOnPolicy(ncgm, maxfev=50000)\n",
    "vp.solve(tol=1e-9)\n",
    "\n",
    "np.random.seed(61089)\n",
    "\n",
    "\n",
    "\n",
    "print('vp done')\n",
    "new_sol = vp\n",
    "new_sol = VFI(ncgm, maxfev=50000, prev_sol=None)\n",
    "ts = time.time()\n",
    "new_sol.solve(tol=1e-6, verbose=True, nskipprint=25)\n",
    "time_took = time.time() - ts"
   ]
  },
  {
   "cell_type": "code",
   "execution_count": 2827,
   "metadata": {},
   "outputs": [
    {
     "data": {
      "text/plain": [
       "array([  10.        ,   10.64785978,   11.33769179,   12.07221523,\n",
       "         12.8543255 ,   13.68710555,   14.57383807,   15.51801842,\n",
       "         16.52336841,   17.59385099,   18.73368583,   19.94736599,\n",
       "         21.2396756 ,   22.61570875,   24.08088956,   25.64099353,\n",
       "         27.30217037,   29.07096818,   30.95435927,   32.95976771,\n",
       "         35.09509849,   37.36876876,   39.78974098,   42.36755826,\n",
       "         45.11238195,   48.03503173,   51.14702823,   54.46063847,\n",
       "         57.98892418,   61.74579334,   65.74605494,   70.00547739,\n",
       "         74.5408507 ,   79.3700526 ,   84.51211907,   89.98731934,\n",
       "         95.81723581,  102.02484913,  108.63462874,  115.67262939,\n",
       "        123.16659379,  131.146062  ,  139.64248787,  148.68936299,\n",
       "        158.32234876,  168.57941694,  179.50099931,  191.13014707,\n",
       "        203.51270054,  216.69746984,  230.73642732,  245.68491238,\n",
       "        261.60184967,  278.5499813 ,  296.59611421,  315.81138349,\n",
       "        336.27153277,  358.05721284,  381.25429949,  405.95423208,\n",
       "        432.25437396,  460.25839624,  490.07668649,  521.82678384,\n",
       "        555.63384228,  591.63112406,  629.96052495,  670.77313355,\n",
       "        714.2298269 ,  760.50190463,  809.77176415,  862.23361971,\n",
       "        918.09426787,  977.57390275, 1040.90698394, 1108.34316071,\n",
       "       1180.14825615, 1256.6053149 , 1338.01571896, 1424.70037566,\n",
       "       1517.0009826 , 1615.28137461, 1719.92895793, 1831.35623725,\n",
       "       1950.00244183, 2076.33525678, 2210.85266668, 2354.08491851,\n",
       "       2506.59661184, 2668.98892435, 2841.90198161, 3026.01738037,\n",
       "       3222.06087526, 3430.80523967, 3653.07331185, 3889.74123842,\n",
       "       4141.74192803, 4410.06872872, 4695.77934358, 5000.        ])"
      ]
     },
     "execution_count": 2827,
     "metadata": {},
     "output_type": "execute_result"
    }
   ],
   "source": [
    "X = new_sol.ncgm.xgrid\n",
    "X"
   ]
  },
  {
   "cell_type": "code",
   "execution_count": 2828,
   "metadata": {},
   "outputs": [
    {
     "data": {
      "text/plain": [
       "3.811601164224488"
      ]
     },
     "execution_count": 2828,
     "metadata": {},
     "output_type": "execute_result"
    }
   ],
   "source": [
    "idx = np.searchsorted(X, 1500, side='left')\n",
    "new_sol.VF[idx]"
   ]
  },
  {
   "cell_type": "code",
   "execution_count": 2829,
   "metadata": {},
   "outputs": [
    {
     "data": {
      "text/plain": [
       "(69.26184196402039, 0.0, 0, 61)"
      ]
     },
     "execution_count": 2829,
     "metadata": {},
     "output_type": "execute_result"
    }
   ],
   "source": [
    "new_sol.simulate(1500,1000,s=1.5)"
   ]
  },
  {
   "cell_type": "code",
   "execution_count": 2830,
   "metadata": {},
   "outputs": [
    {
     "data": {
      "text/plain": [
       "2.8753834291330804"
      ]
     },
     "execution_count": 2830,
     "metadata": {},
     "output_type": "execute_result"
    }
   ],
   "source": [
    "idx = np.searchsorted(X, 270, side='left')\n",
    "new_sol.VF[idx]"
   ]
  },
  {
   "cell_type": "code",
   "execution_count": 2831,
   "metadata": {},
   "outputs": [
    {
     "data": {
      "text/plain": [
       "(57.20810927286664, 0.0, 0.0, 36)"
      ]
     },
     "execution_count": 2831,
     "metadata": {},
     "output_type": "execute_result"
    }
   ],
   "source": [
    "new_sol.simulate(1000,1000,s=1.8)"
   ]
  },
  {
   "cell_type": "code",
   "execution_count": 2832,
   "metadata": {},
   "outputs": [
    {
     "data": {
      "text/plain": [
       "array([-1.00000000e+10, -1.00000000e+10, -1.00000000e+10, -1.00000000e+10,\n",
       "       -1.00000000e+10, -1.00000000e+10, -1.00000000e+10, -1.00000000e+10,\n",
       "       -1.00000000e+10, -1.00000000e+10, -1.00000000e+10, -1.00000000e+10,\n",
       "       -1.00000000e+10, -2.18125724e+00, -7.31512700e-01, -1.61518359e-01,\n",
       "        2.00489325e-01,  4.66701537e-01,  6.77590476e-01,  8.52419800e-01,\n",
       "        1.00188278e+00,  1.13253653e+00,  1.24869433e+00,  1.35334606e+00,\n",
       "        1.44865025e+00,  1.53621686e+00,  1.61727923e+00,  1.69280347e+00,\n",
       "        1.76356094e+00,  1.83017766e+00,  1.89316901e+00,  1.95296469e+00,\n",
       "        2.00992704e+00,  2.06436467e+00,  2.11654291e+00,  2.16669176e+00,\n",
       "        2.21501219e+00,  2.26168102e+00,  2.30685492e+00,  2.35067353e+00,\n",
       "        2.39326209e+00,  2.43473352e+00,  2.47519022e+00,  2.51472547e+00,\n",
       "        2.55342469e+00,  2.59136645e+00,  2.62862334e+00,  2.66526270e+00,\n",
       "        2.70134728e+00,  2.73693573e+00,  2.77208312e+00,  2.80684129e+00,\n",
       "        2.84125925e+00,  2.87538343e+00,  2.90925795e+00,  2.94292485e+00,\n",
       "        2.97642431e+00,  3.00979478e+00,  3.04307312e+00,  3.07629476e+00,\n",
       "        3.10949377e+00,  3.14270299e+00,  3.17595406e+00,  3.20927749e+00,\n",
       "        3.24270276e+00,  3.27625829e+00,  3.30997153e+00,  3.34386894e+00,\n",
       "        3.37797602e+00,  3.41231734e+00,  3.44691652e+00,  3.48179624e+00,\n",
       "        3.51697822e+00,  3.55248323e+00,  3.58833108e+00,  3.62454059e+00,\n",
       "        3.66112957e+00,  3.69811485e+00,  3.73551222e+00,  3.77333643e+00,\n",
       "        3.81160116e+00,  3.85031906e+00,  3.88950167e+00,  3.92915945e+00,\n",
       "        3.96930179e+00,  4.00993696e+00,  4.05107215e+00,  4.09271346e+00,\n",
       "        4.13486591e+00,  4.17753346e+00,  4.22071900e+00,  4.26442439e+00,\n",
       "        4.30865051e+00,  4.35339720e+00,  4.39866340e+00,  4.44444711e+00,\n",
       "        4.49074544e+00,  4.53755467e+00,  4.58487027e+00,  4.63268697e+00])"
      ]
     },
     "execution_count": 2832,
     "metadata": {},
     "output_type": "execute_result"
    }
   ],
   "source": [
    "VF = new_sol.VF\n",
    "VF"
   ]
  },
  {
   "cell_type": "code",
   "execution_count": 2833,
   "metadata": {},
   "outputs": [
    {
     "name": "stderr",
     "output_type": "stream",
     "text": [
      "<ipython-input-2819-ec8d11ceef4e>:73: RuntimeWarning: overflow encountered in power\n",
      "  return a*np.log(x)/(1 - x**(-b)) + c*x**d\n"
     ]
    },
    {
     "data": {
      "text/plain": [
       "array([-3.12714563e-22, -6.75891318e-23, -1.46085001e-23, -3.15743478e-24,\n",
       "       -6.82437918e-25, -1.47499962e-25, -3.18801731e-26, -6.89047928e-27,\n",
       "       -1.48928629e-27, -3.21889605e-28, -6.95721961e-29, -1.50371133e-29,\n",
       "       -3.25007388e-30, -7.02460638e-31, -1.51827610e-31, -3.28155370e-32,\n",
       "       -7.09264586e-33, -1.53298193e-33, -3.31333842e-34, -7.16134435e-35,\n",
       "       -1.54783021e-35, -3.34543101e-36, -7.23070825e-37, -1.56282230e-37,\n",
       "       -3.37783444e-38, -7.30074400e-39, -1.57795960e-39, -3.41055173e-40,\n",
       "       -7.37145811e-41, -1.59324353e-41, -3.44358592e-42, -7.44285715e-43,\n",
       "       -1.60867549e-43, -3.47694007e-44, -7.51494775e-45, -1.62425692e-45,\n",
       "       -3.51061728e-46, -7.58773660e-47, -1.63998927e-47, -3.54462069e-48,\n",
       "       -7.66123049e-49, -1.65587401e-49, -3.57895345e-50, -7.73543622e-51,\n",
       "       -1.67191260e-51, -3.61361875e-52, -7.81036071e-53, -1.68810654e-53,\n",
       "       -3.64861982e-54, -7.88601090e-55, -1.70445733e-55, -3.68395990e-56,\n",
       "       -7.96239383e-57, -1.72096649e-57, -3.71964228e-58, -8.03951660e-59,\n",
       "       -1.73763556e-59, -3.75567028e-60, -8.11738637e-61, -1.75446609e-61,\n",
       "       -3.79204724e-62, -8.19601037e-63, -1.77145963e-63, -3.82877654e-64,\n",
       "       -8.27539592e-65, -1.78861777e-65, -3.86586160e-66, -8.35555039e-67,\n",
       "       -1.80594210e-67, -3.90330586e-68, -8.43648122e-69, -1.82343424e-69,\n",
       "       -3.94111280e-70, -8.51819594e-71, -1.84109580e-71, -3.97928593e-72,\n",
       "       -8.60070214e-73, -1.85892842e-73, -4.01782881e-74, -8.68400748e-75,\n",
       "       -1.87693377e-75, -4.05674500e-76, -8.76811971e-77, -1.89511352e-77,\n",
       "       -4.09603814e-78, -8.85304663e-79, -1.91346936e-79, -4.13571186e-80,\n",
       "       -8.93879615e-81, -1.93200299e-81, -4.17576985e-82, -9.02537623e-83,\n",
       "       -1.95071613e-83, -4.21621585e-84, -9.11279492e-85, -1.96961053e-85,\n",
       "       -4.25705359e-86, -9.20106033e-87, -1.98868793e-87, -4.29828689e-88])"
      ]
     },
     "execution_count": 2833,
     "metadata": {},
     "output_type": "execute_result"
    }
   ],
   "source": [
    "new_sol.build_VF()"
   ]
  },
  {
   "cell_type": "code",
   "execution_count": 2834,
   "metadata": {},
   "outputs": [
    {
     "data": {
      "text/plain": [
       "array([ -4.58062069,  -4.22430195,  -3.8673689 ,  -3.50978175,\n",
       "        -3.15149812,  -2.79247288,  -2.432658  ,  -2.07200231,\n",
       "        -1.71045134,  -1.34794709,  -0.9844278 ,  -0.6198277 ,\n",
       "        -0.25407679,   0.1128995 ,   0.48118056,   0.85085091,\n",
       "         1.22200057,   1.59472537,   1.96912735,   2.34531519,\n",
       "         2.72340456,   3.10351868,   3.48578871,   3.87035432,\n",
       "         4.25736424,   4.64697682,   5.03936069,   5.43469537,\n",
       "         5.83317205,   6.23499427,   6.64037879,   7.04955639,\n",
       "         7.46277281,   7.88028971,   8.30238569,   8.72935742,\n",
       "         9.16152079,   9.59921212,  10.04278957,  10.49263446,\n",
       "        10.94915284,  11.41277706,  11.88396747,  12.36321426,\n",
       "        12.85103938,  13.34799857,  13.85468359,  14.37172455,\n",
       "        14.89979235,  15.4396014 ,  15.99191235,  16.55753515,\n",
       "        17.13733222,  17.73222187,  18.34318187,  18.97125336,\n",
       "        19.61754492,  20.28323696,  20.96958636,  21.67793142,\n",
       "        22.40969716,  23.1664009 ,  23.94965829,  24.76118962,\n",
       "        25.60282664,  26.47651979,  27.38434586,  28.32851617,\n",
       "        29.31138533,  30.33546047,  31.40341118,  32.51807996,\n",
       "        33.68249349,  34.89987454,  36.17365466,  37.50748773,\n",
       "        38.90526431,  40.37112707,  41.90948703,  43.52504099,\n",
       "        45.22279004,  47.00805927,  48.88651877,  50.86420594,\n",
       "        52.94754936,  55.14339407,  57.45902857,  59.90221357,\n",
       "        62.48121254,  65.20482433,  68.08241783,  71.12396888,\n",
       "        74.34009963,  77.74212041,  81.34207428,  85.15278453,\n",
       "        89.18790522,  93.46197499,  97.9904744 , 102.78988692])"
      ]
     },
     "execution_count": 2834,
     "metadata": {},
     "output_type": "execute_result"
    }
   ],
   "source": [
    "CP = new_sol.CP\n",
    "CP"
   ]
  },
  {
   "cell_type": "code",
   "execution_count": 2835,
   "metadata": {
    "scrolled": true
   },
   "outputs": [
    {
     "data": {
      "text/plain": [
       "array([  0.        ,   0.        ,   0.        ,   0.        ,\n",
       "         0.        ,   0.        ,   0.        ,   0.        ,\n",
       "         0.        ,   0.        ,   0.        ,   0.        ,\n",
       "         0.        ,   0.1128995 ,   0.48118056,   0.85085091,\n",
       "         1.22200057,   1.59472537,   1.96912735,   2.34531519,\n",
       "         2.72340456,   3.10351868,   3.48578871,   3.87035432,\n",
       "         4.25736424,   4.64697682,   5.03936069,   5.43469537,\n",
       "         5.83317205,   6.23499427,   6.64037879,   7.04955639,\n",
       "         7.46277281,   7.88028971,   8.30238569,   8.72935742,\n",
       "         9.16152079,   9.59921212,  10.04278957,  10.49263446,\n",
       "        10.94915284,  11.41277706,  11.88396747,  12.36321426,\n",
       "        12.85103938,  13.34799857,  13.85468359,  14.37172455,\n",
       "        14.89979235,  15.4396014 ,  15.99191235,  16.55753515,\n",
       "        17.13733222,  17.73222187,  18.34318187,  18.97125336,\n",
       "        19.61754492,  20.28323696,  20.96958636,  21.67793142,\n",
       "        22.40969716,  23.1664009 ,  23.94965829,  24.76118962,\n",
       "        25.60282664,  26.47651979,  27.38434586,  28.32851617,\n",
       "        29.31138533,  30.33546047,  31.40341118,  32.51807996,\n",
       "        33.68249349,  34.89987454,  36.17365466,  37.50748773,\n",
       "        38.90526431,  40.37112707,  41.90948703,  43.52504099,\n",
       "        45.22279004,  47.00805927,  48.88651877,  50.86420594,\n",
       "        52.94754936,  55.14339407,  57.45902857,  59.90221357,\n",
       "        62.48121254,  65.20482433,  68.08241783,  71.12396888,\n",
       "        74.34009963,  77.74212041,  81.34207428,  85.15278453,\n",
       "        89.18790522,  93.46197499,  97.9904744 , 102.78988692])"
      ]
     },
     "execution_count": 2835,
     "metadata": {},
     "output_type": "execute_result"
    }
   ],
   "source": [
    "new_sol.build_CP()"
   ]
  },
  {
   "cell_type": "code",
   "execution_count": 2836,
   "metadata": {},
   "outputs": [
    {
     "data": {
      "text/plain": [
       "array([-8.39422158e-01, -7.84667457e-01, -7.29638467e-01, -6.74317417e-01,\n",
       "       -6.18685386e-01, -5.62722226e-01, -5.06406485e-01, -4.49715322e-01,\n",
       "       -3.92624412e-01, -3.35107860e-01, -2.77138089e-01, -2.18685736e-01,\n",
       "       -1.59719538e-01, -1.00206204e-01, -4.01102878e-02,  2.06059540e-02,\n",
       "        8.19827098e-02,  1.44062772e-01,  2.06891704e-01,  2.70518023e-01,\n",
       "        3.34993388e-01,  4.00372805e-01,  4.66714845e-01,  5.34081871e-01,\n",
       "        6.02540289e-01,  6.72160806e-01,  7.43018709e-01,  8.15194163e-01,\n",
       "        8.88772527e-01,  9.63844690e-01,  1.04050743e+00,  1.11886379e+00,\n",
       "        1.19902350e+00,  1.28110339e+00,  1.36522786e+00,  1.45152936e+00,\n",
       "        1.54014895e+00,  1.63123679e+00,  1.72495280e+00,  1.82146725e+00,\n",
       "        1.92096144e+00,  2.02362840e+00,  2.12967370e+00,  2.23931620e+00,\n",
       "        2.35278895e+00,  2.47034009e+00,  2.59223386e+00,  2.71875158e+00,\n",
       "        2.85019283e+00,  2.98687658e+00,  3.12914248e+00,  3.27735217e+00,\n",
       "        3.43189071e+00,  3.59316814e+00,  3.76162104e+00,  3.93771428e+00,\n",
       "        4.12194284e+00,  4.31483379e+00,  4.51694831e+00,  4.72888398e+00,\n",
       "        4.95127706e+00,  5.18480504e+00,  5.43018931e+00,  5.68819800e+00,\n",
       "        5.95964899e+00,  6.24541315e+00,  6.54641777e+00,  6.86365022e+00,\n",
       "        7.19816184e+00,  7.55107207e+00,  7.92357289e+00,  8.31693349e+00,\n",
       "        8.73250530e+00,  9.17172729e+00,  9.63613166e+00,  1.01273499e+01,\n",
       "        1.06471191e+01,  1.11972890e+01,  1.17798292e+01,  1.23968367e+01,\n",
       "        1.30505447e+01,  1.37433307e+01,  1.44777265e+01,  1.52564278e+01,\n",
       "        1.60823049e+01,  1.69584143e+01,  1.78880103e+01,  1.88745579e+01,\n",
       "        1.99217470e+01,  2.10335062e+01,  2.22140188e+01,  2.34677389e+01,\n",
       "        2.47994095e+01,  2.62140807e+01,  2.77171296e+01,  2.93142820e+01,\n",
       "        3.10116345e+01,  3.28156785e+01,  3.47333262e+01,  3.67719376e+01])"
      ]
     },
     "execution_count": 2836,
     "metadata": {},
     "output_type": "execute_result"
    }
   ],
   "source": [
    "WP = new_sol.WP\n",
    "WP"
   ]
  },
  {
   "cell_type": "code",
   "execution_count": 2837,
   "metadata": {
    "scrolled": true
   },
   "outputs": [
    {
     "data": {
      "text/plain": [
       "array([0.00000000e+00, 0.00000000e+00, 0.00000000e+00, 0.00000000e+00,\n",
       "       0.00000000e+00, 0.00000000e+00, 0.00000000e+00, 0.00000000e+00,\n",
       "       0.00000000e+00, 0.00000000e+00, 0.00000000e+00, 0.00000000e+00,\n",
       "       0.00000000e+00, 0.00000000e+00, 0.00000000e+00, 2.06059540e-02,\n",
       "       8.19827098e-02, 1.44062772e-01, 2.06891704e-01, 2.70518023e-01,\n",
       "       3.34993388e-01, 4.00372805e-01, 4.66714845e-01, 5.34081871e-01,\n",
       "       6.02540289e-01, 6.72160806e-01, 7.43018709e-01, 8.15194163e-01,\n",
       "       8.88772527e-01, 9.63844690e-01, 1.04050743e+00, 1.11886379e+00,\n",
       "       1.19902350e+00, 1.28110339e+00, 1.36522786e+00, 1.45152936e+00,\n",
       "       1.54014895e+00, 1.63123679e+00, 1.72495280e+00, 1.82146725e+00,\n",
       "       1.92096144e+00, 2.02362840e+00, 2.12967370e+00, 2.23931620e+00,\n",
       "       2.35278895e+00, 2.47034009e+00, 2.59223386e+00, 2.71875158e+00,\n",
       "       2.85019283e+00, 2.98687658e+00, 3.12914248e+00, 3.27735217e+00,\n",
       "       3.43189071e+00, 3.59316814e+00, 3.76162104e+00, 3.93771428e+00,\n",
       "       4.12194284e+00, 4.31483379e+00, 4.51694831e+00, 4.72888398e+00,\n",
       "       4.95127706e+00, 5.18480504e+00, 5.43018931e+00, 5.68819800e+00,\n",
       "       5.95964899e+00, 6.24541315e+00, 6.54641777e+00, 6.86365022e+00,\n",
       "       7.19816184e+00, 7.55107207e+00, 7.92357289e+00, 8.31693349e+00,\n",
       "       8.73250530e+00, 9.17172729e+00, 9.63613166e+00, 1.01273499e+01,\n",
       "       1.06471191e+01, 1.11972890e+01, 1.17798292e+01, 1.23968367e+01,\n",
       "       1.30505447e+01, 1.37433307e+01, 1.44777265e+01, 1.52564278e+01,\n",
       "       1.60823049e+01, 1.69584143e+01, 1.78880103e+01, 1.88745579e+01,\n",
       "       1.99217470e+01, 2.10335062e+01, 2.22140188e+01, 2.34677389e+01,\n",
       "       2.47994095e+01, 2.62140807e+01, 2.77171296e+01, 2.93142820e+01,\n",
       "       3.10116345e+01, 3.28156785e+01, 3.47333262e+01, 3.67719376e+01])"
      ]
     },
     "execution_count": 2837,
     "metadata": {},
     "output_type": "execute_result"
    }
   ],
   "source": [
    "new_sol.build_WP()"
   ]
  },
  {
   "cell_type": "code",
   "execution_count": 2838,
   "metadata": {},
   "outputs": [
    {
     "data": {
      "text/plain": [
       "array([  5.45687369,   5.38355695,   5.30039064,   5.20494008,\n",
       "         5.09386223,   4.96243574,   4.80376549,   4.60736428,\n",
       "         4.35645692,   4.02242755,   3.55212018,   2.83433074,\n",
       "         1.59076839,  -1.12667176, -11.99643741,  41.29150778,\n",
       "        14.90558888,  11.06965629,   9.51767188,   8.66971879,\n",
       "         8.12972633,   7.75157213,   7.46877616,   7.24674348,\n",
       "         7.06569223,   6.91348972,   6.78227968,   6.66674962,\n",
       "         6.56317772,   6.46887858,   6.38186581,   6.30063859,\n",
       "         6.22404214,   6.15117388,   6.0813187 ,   6.01390344,\n",
       "         5.94846414,   5.88462213,   5.82206629,   5.76053972,\n",
       "         5.69982959,   5.63975927,   5.58018229,   5.52097746,\n",
       "         5.46204511,   5.40330402,   5.34468892,   5.28614848,\n",
       "         5.22764361,   5.16914608,   5.11063732,   5.05210741,\n",
       "         4.99355418,   4.93498249,   4.87640346,   4.8178339 ,\n",
       "         4.75929572,   4.70081536,   4.64242336,   4.58415379,\n",
       "         4.52604387,   4.46813346,   4.4104647 ,   4.35308152,\n",
       "         4.29602929,   4.23935442,   4.18310393,   4.12732515,\n",
       "         4.07206534,   4.01737133,   3.96328924,   3.90986413,\n",
       "         3.85713977,   3.80515834,   3.75396019,   3.70358368,\n",
       "         3.65406492,   3.60543762,   3.557733  ,   3.51097961,\n",
       "         3.46520326,   3.42042699,   3.37667097,   3.33395253,\n",
       "         3.29228612,   3.25168338,   3.21215315,   3.17370154,\n",
       "         3.136332  ,   3.10004541,   3.06484021,   3.03071246,\n",
       "         2.99765603,   2.96566267,   2.93472215,   2.90482245,\n",
       "         2.87594984,   2.84808906,   2.82122345,   2.79533507])"
      ]
     },
     "execution_count": 2838,
     "metadata": {},
     "output_type": "execute_result"
    }
   ],
   "source": [
    "CP/WP"
   ]
  },
  {
   "cell_type": "code",
   "execution_count": 2839,
   "metadata": {},
   "outputs": [
    {
     "data": {
      "text/plain": [
       "array([1.000e+00, 1.010e+02, 2.010e+02, 3.010e+02, 4.010e+02, 5.010e+02,\n",
       "       6.010e+02, 7.010e+02, 8.010e+02, 9.010e+02, 1.001e+03, 1.101e+03,\n",
       "       1.201e+03, 1.301e+03, 1.401e+03, 1.501e+03, 1.601e+03, 1.701e+03,\n",
       "       1.801e+03, 1.901e+03, 2.001e+03, 2.101e+03, 2.201e+03, 2.301e+03,\n",
       "       2.401e+03, 2.501e+03, 2.601e+03, 2.701e+03, 2.801e+03, 2.901e+03,\n",
       "       3.001e+03, 3.101e+03, 3.201e+03, 3.301e+03, 3.401e+03, 3.501e+03,\n",
       "       3.601e+03, 3.701e+03, 3.801e+03, 3.901e+03, 4.001e+03, 4.101e+03,\n",
       "       4.201e+03, 4.301e+03, 4.401e+03, 4.501e+03, 4.601e+03, 4.701e+03,\n",
       "       4.801e+03, 4.901e+03])"
      ]
     },
     "execution_count": 2839,
     "metadata": {},
     "output_type": "execute_result"
    }
   ],
   "source": [
    "xnew"
   ]
  },
  {
   "cell_type": "code",
   "execution_count": 2840,
   "metadata": {},
   "outputs": [
    {
     "name": "stderr",
     "output_type": "stream",
     "text": [
      "<ipython-input-2819-ec8d11ceef4e>:73: RuntimeWarning: overflow encountered in power\n",
      "  return a*np.log(x)/(1 - x**(-b)) + c*x**d\n",
      "<ipython-input-2819-ec8d11ceef4e>:73: RuntimeWarning: invalid value encountered in true_divide\n",
      "  return a*np.log(x)/(1 - x**(-b)) + c*x**d\n"
     ]
    },
    {
     "data": {
      "text/plain": [
       "[<matplotlib.lines.Line2D at 0x13c66f0a0>,\n",
       " <matplotlib.lines.Line2D at 0x13c6713a0>]"
      ]
     },
     "execution_count": 2840,
     "metadata": {},
     "output_type": "execute_result"
    },
    {
     "data": {
      "image/png": "[encoded data removed]",
      "text/plain": [
       "<Figure size 432x288 with 1 Axes>"
      ]
     },
     "metadata": {
      "needs_background": "light"
     },
     "output_type": "display_data"
    }
   ],
   "source": [
    "xnew = np.arange(1,5e3,100)\n",
    "vf_new = new_sol.build_VF(xnew)\n",
    "\n",
    "plt.plot(X, VF, 'o', xnew, vf_new)"
   ]
  },
  {
   "cell_type": "code",
   "execution_count": 2841,
   "metadata": {},
   "outputs": [
    {
     "data": {
      "text/plain": [
       "[<matplotlib.lines.Line2D at 0x13c55afa0>,\n",
       " <matplotlib.lines.Line2D at 0x13c6ac7c0>]"
      ]
     },
     "execution_count": 2841,
     "metadata": {},
     "output_type": "execute_result"
    },
    {
     "data": {
      "image/png": "[encoded data removed]",
      "text/plain": [
       "<Figure size 432x288 with 1 Axes>"
      ]
     },
     "metadata": {
      "needs_background": "light"
     },
     "output_type": "display_data"
    }
   ],
   "source": [
    "cp_new = new_sol.build_CP(xnew)\n",
    "\n",
    "plt.plot(X, CP, 'o', xnew, cp_new)"
   ]
  },
  {
   "cell_type": "code",
   "execution_count": 2842,
   "metadata": {},
   "outputs": [
    {
     "data": {
      "text/plain": [
       "[<matplotlib.lines.Line2D at 0x13c7ad580>,\n",
       " <matplotlib.lines.Line2D at 0x13c7c81c0>]"
      ]
     },
     "execution_count": 2842,
     "metadata": {},
     "output_type": "execute_result"
    },
    {
     "data": {
      "image/png": "[encoded data removed]",
      "text/plain": [
       "<Figure size 432x288 with 1 Axes>"
      ]
     },
     "metadata": {
      "needs_background": "light"
     },
     "output_type": "display_data"
    }
   ],
   "source": [
    "wp_new = new_sol.build_WP(xnew)\n",
    "\n",
    "plt.plot(X, WP, 'o', xnew, wp_new)"
   ]
  },
  {
   "cell_type": "code",
   "execution_count": 2843,
   "metadata": {},
   "outputs": [
    {
     "name": "stderr",
     "output_type": "stream",
     "text": [
      "<ipython-input-2819-ec8d11ceef4e>:73: RuntimeWarning: overflow encountered in power\n",
      "  return a*np.log(x)/(1 - x**(-b)) + c*x**d\n",
      "<ipython-input-2819-ec8d11ceef4e>:73: RuntimeWarning: invalid value encountered in true_divide\n",
      "  return a*np.log(x)/(1 - x**(-b)) + c*x**d\n"
     ]
    },
    {
     "data": {
      "text/plain": [
       "[<matplotlib.lines.Line2D at 0x13973cf40>,\n",
       " <matplotlib.lines.Line2D at 0x13ac54dc0>]"
      ]
     },
     "execution_count": 2843,
     "metadata": {},
     "output_type": "execute_result"
    },
    {
     "data": {
      "image/png": "[encoded data removed]",
      "text/plain": [
       "<Figure size 432x288 with 1 Axes>"
      ]
     },
     "metadata": {
      "needs_background": "light"
     },
     "output_type": "display_data"
    }
   ],
   "source": [
    "xmax = 50\n",
    "xnew = np.linspace(1,xmax,50)\n",
    "xmax_idx = np.searchsorted(X, xmax, side='left') + 1\n",
    "vf_new = new_sol.build_VF(xnew)\n",
    "\n",
    "plt.plot(X[:xmax_idx], VF[:xmax_idx], 'o', xnew, vf_new)"
   ]
  },
  {
   "cell_type": "code",
   "execution_count": 2844,
   "metadata": {},
   "outputs": [
    {
     "data": {
      "text/plain": [
       "[<matplotlib.lines.Line2D at 0x13c6b6a00>,\n",
       " <matplotlib.lines.Line2D at 0x13c6b3400>]"
      ]
     },
     "execution_count": 2844,
     "metadata": {},
     "output_type": "execute_result"
    },
    {
     "data": {
      "image/png": "[encoded data removed]",
      "text/plain": [
       "<Figure size 432x288 with 1 Axes>"
      ]
     },
     "metadata": {
      "needs_background": "light"
     },
     "output_type": "display_data"
    }
   ],
   "source": [
    "cp_new = new_sol.build_CP(xnew)\n",
    "\n",
    "plt.plot(X[:xmax_idx], CP[:xmax_idx], 'o', xnew, cp_new)"
   ]
  },
  {
   "cell_type": "code",
   "execution_count": 2845,
   "metadata": {},
   "outputs": [
    {
     "data": {
      "text/plain": [
       "[<matplotlib.lines.Line2D at 0x13c557b50>,\n",
       " <matplotlib.lines.Line2D at 0x13c4862b0>]"
      ]
     },
     "execution_count": 2845,
     "metadata": {},
     "output_type": "execute_result"
    },
    {
     "data": {
      "image/png": "[encoded data removed]",
      "text/plain": [
       "<Figure size 432x288 with 1 Axes>"
      ]
     },
     "metadata": {
      "needs_background": "light"
     },
     "output_type": "display_data"
    }
   ],
   "source": [
    "wp_new = new_sol.build_WP(xnew)\n",
    "\n",
    "plt.plot(X[:xmax_idx], WP[:xmax_idx], 'o', xnew, wp_new)"
   ]
  },
  {
   "cell_type": "code",
   "execution_count": 2846,
   "metadata": {},
   "outputs": [
    {
     "name": "stderr",
     "output_type": "stream",
     "text": [
      "<ipython-input-2846-b3f1463be48a>:1: RuntimeWarning: divide by zero encountered in true_divide\n",
      "  (cp_new/wp_new)[1000:1050]\n",
      "<ipython-input-2846-b3f1463be48a>:1: RuntimeWarning: invalid value encountered in true_divide\n",
      "  (cp_new/wp_new)[1000:1050]\n"
     ]
    },
    {
     "data": {
      "text/plain": [
       "array([], dtype=float64)"
      ]
     },
     "execution_count": 2846,
     "metadata": {},
     "output_type": "execute_result"
    }
   ],
   "source": [
    "(cp_new/wp_new)[1000:1050]"
   ]
  }
 ],
 "metadata": {
  "kernelspec": {
   "display_name": "Python 3",
   "language": "python",
   "name": "python3"
  },
  "language_info": {
   "codemirror_mode": {
    "name": "ipython",
    "version": 3
   },
   "file_extension": ".py",
   "mimetype": "text/x-python",
   "name": "python",
   "nbconvert_exporter": "python",
   "pygments_lexer": "ipython3",
   "version": "3.8.8"
  }
 },
 "nbformat": 4,
 "nbformat_minor": 2
}
