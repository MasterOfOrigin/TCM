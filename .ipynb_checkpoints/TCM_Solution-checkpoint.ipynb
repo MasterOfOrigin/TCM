{
 "cells": [
  {
   "cell_type": "markdown",
   "metadata": {},
   "source": [
    "# 7 Solution Methods to Solve the Growth Model with Python\n",
    "\n",
    "This notebook is part of a computational appendix that accompanies the paper\n",
    "\n",
    "> MATLAB, Python, Julia: What to Choose in Economics?\n",
    "> > Coleman, Lyon, Maliar, and Maliar (2017)\n",
    "\n",
    "In order to run the codes in this notebook you will need to install and configure a few Python packages. We recommend downloading [Anaconda](https://www.continuum.io/downloads) and/or following the instructions on [quantecon.org](https://lectures.quantecon.org/py/getting_started.html). Once your Python installation is up and running, there are a few additional packages you will need in order to run the code here. To do this, you should remove the `# ` in front of the following commands and run the block below."
   ]
  },
  {
   "cell_type": "code",
   "execution_count": 561,
   "metadata": {
    "scrolled": true
   },
   "outputs": [],
   "source": [
    "# ! pip install git+https://github.com/EconForge/interpolation.py.git\n",
    "# ! pip install quantecon\n",
    "# ! pip install csaps"
   ]
  },
  {
   "cell_type": "code",
   "execution_count": 562,
   "metadata": {},
   "outputs": [],
   "source": [
    "import numpy as np\n",
    "import scipy.linalg as la\n",
    "import scipy.optimize as opt\n",
    "import time\n",
    "import quantecon as qe\n",
    "import matplotlib.pyplot as plt\n",
    "\n",
    "from collections import namedtuple\n",
    "from scipy.interpolate import interp1d, UnivariateSpline\n",
    "from scipy.misc import derivative\n",
    "from interpolation.complete_poly import (CompletePolynomial,\n",
    "                                         n_complete, complete_polynomial,\n",
    "                                         complete_polynomial_der,\n",
    "                                         _complete_poly_impl,\n",
    "                                         _complete_poly_impl_vec,\n",
    "                                         _complete_poly_der_impl,\n",
    "                                         _complete_poly_der_impl_vec)\n",
    "from numba import jit, vectorize"
   ]
  },
  {
   "cell_type": "markdown",
   "metadata": {},
   "source": [
    "## Model\n",
    "\n",
    "This section gives a short description of the commonly used stochastic Neoclassical growth model.\n",
    "\n",
    "There is a single infinitely-lived representative agent who consumes and saves using capital. The consumer discounts the future with factor $\\beta$ and derives utility from only consumption. Additionally, saved capital will depreciate at $\\delta$.\n",
    "\n",
    "The consumer has access to a Cobb-Douglas technology which uses capital saved from the previous period to produce and is subject to stochastic productivity shocks.\n",
    "\n",
    "Productivity shocks follow an AR(1) in logs.\n",
    "\n",
    "The agent's problem can be written recursively using the following Bellman equation\n",
    "\n",
    "\n",
    "$$\n",
    "\\begin{align}\n",
    "  V(k_t, z_t) &= \\max_{k_{t+1}} u(c_t) + \\beta E \\left[ V(k_{t+1}, z_{t+1}) \\right] \\\\\n",
    "  &\\text{subject to } \\\\\n",
    "  c_t &= z_t f(k_t) + (1 - \\delta) k_t - k_{t+1} \\\\\n",
    "  \\log z_{t+1} &= \\rho \\log z_t + \\sigma \\varepsilon\n",
    "\\end{align}\n",
    "$$\n",
    "\n",
    "$$\n",
    "\\begin{align*}\n",
    "    V(X, z) &= \\max_{\\tilde{c},\\tilde{s}} \\biggl\\{0,  u(c) + \\beta E \\bigl[V(X', z') \\bigr] \\biggr\\}\\\\\n",
    "    & \\text{ s.t. } \\tilde{c} \\geq 0; \\qquad \\tilde{s} \\geq 0 \\\\\n",
    "    & \\phantom{\\text{ s.t. } }N\\tilde{c} + N\\tilde{s} \\leq X \\\\\n",
    "    & \\phantom{\\text{ s.t. } } X' = \\max \\biggl\\{0, \\bigl[X - N\\tilde{c}  - N\\tilde{s} - z \\bigl(\\frac{\\tilde{c}}{\\tilde{s}}\\bigr)^\\phi \\bigr](1 + g_x) \\biggr\\} \\\\\n",
    "    & \\phantom{\\text{ s.t. } } u(\\tilde{c}) = \\bar{u} + \\ln(\\tilde{c}) \\\\\n",
    "    & \\phantom{\\text{ s.t. } } z \\sim Exp( \\bar{z} ) \n",
    "\\end{align*} \n",
    "$$"
   ]
  },
  {
   "cell_type": "markdown",
   "metadata": {},
   "source": [
    "## Python Code\n",
    "\n",
    "We begin by defining a `namedtuple` that contains the parameters of our model. This is useful to pass the parameters around to functions that are just-in-time (JIT) compiled by `numba`."
   ]
  },
  {
   "cell_type": "code",
   "execution_count": 563,
   "metadata": {},
   "outputs": [],
   "source": [
    "#\n",
    "# Create a named tuple type that we can pass into the jitted functions\n",
    "# so that we don't have to pass parameters one by one\n",
    "#\n",
    "Params = namedtuple(\"Params\", [\"N\", \"beta\", \"g\", \"a_bar\", \"eta\", \"u_bar\"])\n",
    "\n",
    "@jit(nopython=True)\n",
    "def param_unpack(params):\n",
    "    \"Unpack parameters from the Params type\"\n",
    "    out = (params.N, params.beta, params.g,\n",
    "           params.a_bar, params.eta, params.u_bar)\n",
    "\n",
    "    return out"
   ]
  },
  {
   "cell_type": "markdown",
   "metadata": {},
   "source": [
    "We will then define various helper functions to ensure that we [don't repeat ourselves](https://lectures.quantecon.org/py/writing_good_code.html#don-t-repeat-yourself) and that the inner functions can be JIT compiled."
   ]
  },
  {
   "cell_type": "code",
   "execution_count": 564,
   "metadata": {},
   "outputs": [],
   "source": [
    "#\n",
    "# Helper functions to make sure things are jitted\n",
    "#\n",
    "@vectorize(nopython=True)\n",
    "def u(c, eta, u_bar):\n",
    "    \"log utility function\"\n",
    "    return -1e10 if c < 1e-10 else (u_bar + np.log(c)) if eta==1 else (u_bar + (c**(1-eta)/(1-eta)))\n",
    "\n",
    "@vectorize(nopython=True)\n",
    "def du(c,eta):\n",
    "    \"Derivative of log utility function\"\n",
    "    return 1e10 if c < 1e-10 else c**(-eta)\n",
    "\n",
    "@vectorize(nopython=True)\n",
    "def duinv(u,eta):\n",
    "    \"Inverse of the derivative of the CRRA utility function\"\n",
    "    return u**(-1.0/eta )\n",
    "\n",
    "@vectorize(nopython=True)\n",
    "def f(X):\n",
    "    \"production function\"\n",
    "    return X\n",
    "\n",
    "@vectorize(nopython=True)\n",
    "def df(X):\n",
    "    \"Derivative of production function\"\n",
    "    return 1\n",
    "\n",
    "@vectorize(nopython=True)\n",
    "def discount_factor(beta, a_bar, c, w):\n",
    "    \"risk adjusted discount factor\"\n",
    "    return beta*a_bar*w/(c + a_bar*w)\n",
    "\n",
    "@vectorize(nopython=True)\n",
    "def next_x(X, N, g, c, w):\n",
    "    # next period's CPR given c and w\n",
    "    return (X - N*(c + w))*(1+g)\n",
    "\n",
    "@vectorize(nopython=True)\n",
    "def vector_dampen(vec1, vec2, dampen=1):\n",
    "    return dampen*vec1 + (1-dampen)*vec2\n",
    "\n",
    "@vectorize(nopython=True)\n",
    "def expendables(X, Xp, N, g):\n",
    "    # get expendables given X and X prime\n",
    "    return (1/N)*(X - Xp/(1 + g))\n",
    "\n",
    "@vectorize(nopython=True)\n",
    "def logu_c_from_exp(Vp, E, beta, a):\n",
    "    # get expendables given X and X prime\n",
    "    return -(2*E*a - 2*E*a**2 + E*a*(Vp*beta*(4*a + Vp*beta - 4))**0.5 - E*Vp*a*beta)/(2*(a**2 - 2*a + 1))\n",
    "\n",
    "def c_curve(x, a, b, c):\n",
    "    return a*np.log(x) + b*x + c\n",
    "\n",
    "def w_curve(x, a, b, c):\n",
    "    return a*np.log(x) + b*x + c\n",
    "\n",
    "def v_curve(x, a, b, c, d):\n",
    "    return np.nan_to_num(\n",
    "        a*x + b*x**(c)\n",
    "    , nan=0)\n",
    "\n",
    "@vectorize(nopython=True)\n",
    "def trunc_to_one(X):\n",
    "    return X if X >= 1 else 1\n",
    "\n",
    "@vectorize(nopython=True)\n",
    "def psurvival(a_bar, c, w):\n",
    "    return a_bar*w/(c + a_bar*w)\n"
   ]
  },
  {
   "cell_type": "markdown",
   "metadata": {},
   "source": [
    "This code block contains other functions that are useful for computing the policy using the envelope condition (to be discussed later), simulating, and computing Euler errors."
   ]
  },
  {
   "cell_type": "code",
   "execution_count": 565,
   "metadata": {},
   "outputs": [],
   "source": [
    "@jit(nopython=True)\n",
    "def env_cond_kp(temp, params, degree, v_coeffs, Xt):\n",
    "    # Unpack parameters\n",
    "    N, beta, g, a_bar, eta, u_bar = param_unpack(params)\n",
    "\n",
    "    # Compute derivative of VF wrt k\n",
    "    _complete_poly_der_impl_vec(np.array([Xt, zt]), degree, 0, temp)\n",
    "\n",
    "    c = duinv(np.dot(temp, v_coeffs) / (1/N))\n",
    "\n",
    "    return expendables_t(Xt) - c\n",
    "\n",
    "\n",
    "@jit(nopython=True)\n",
    "def jit_simulate_ncgm(params, degree, v_coeffs, T, nburn, shocks):\n",
    "    \"Simulates economy using envelope condition as policy rule\"\n",
    "    # Unpack parameters\n",
    "    N, beta, g, a_bar, eta, u_bar = param_unpack(params)\n",
    "\n",
    "    # Allocate space for output\n",
    "    xsim = np.empty(T+nburn)\n",
    "    zsim = np.empty(T+nburn)\n",
    "    xsim[0], zsim[0] = 1.0, 1.0 # may need to modify initial values\n",
    "\n",
    "    # Allocate space for temporary vector to fill with complete polynomials\n",
    "    temp = np.empty(n_complete(2, degree))\n",
    "\n",
    "    # Simulate\n",
    "    for t in range(1, T+nburn):\n",
    "        # Evaluate policy for today given yesterdays state\n",
    "        xp = env_cond_kp(temp, params, degree, v_coeffs, xsim[t-1], zsim[t-1])\n",
    "        \n",
    "        # Draw new z and update k using policy from above\n",
    "        zsim[t] = shocks[t]\n",
    "        xsim[t] = kp\n",
    "\n",
    "    return xsim[nburn:], zsim[nburn:]\n",
    "\n",
    "\n",
    "@jit(nopython=True)\n",
    "def jit_ee(params, degree, v_coeffs, nodes, weights, xs, zs):\n",
    "    # Unpack parameters\n",
    "    N, beta, g, a_bar, eta, u_bar = param_unpack(params)\n",
    "\n",
    "    # Allocate space for temporary vector to fill with complete polynomials\n",
    "    temp = np.empty(n_complete(2, degree))\n",
    "    T = xs.size\n",
    "    Qn = weights.size\n",
    "\n",
    "    # Allocate space to store euler errors\n",
    "    ee = np.empty(T)\n",
    "\n",
    "    # Iterate over all ks and zs\n",
    "    for t in range(T):\n",
    "        # Current states\n",
    "        x, z = xs[t], zs[t]\n",
    "\n",
    "        # Compute decision for kp and implied c\n",
    "        x1 = env_cond_kp(temp, params, degree, v_coeffs, x, z)\n",
    "        c = expendables_t(k, z, A, alpha, delta) - k1\n",
    "\n",
    "        # Compute euler error for period t\n",
    "        lhs = du(c, gamma)\n",
    "        rhs = 0.0\n",
    "        for i in range(Qn):\n",
    "            # Get productivity tomorrow\n",
    "            z1 = z**rho * np.exp(nodes[i])\n",
    "\n",
    "            # Compute decision for kpp and implied c\n",
    "            k2 = env_cond_kp(temp, params, degree, v_coeffs, k1, z1)\n",
    "            c1 = expendables_t(k1, z1, A, alpha, delta) - k2\n",
    "            rhs = rhs + weights[i]*du(c1, gamma)*(1-delta+df(k1, z1, A, alpha))\n",
    "\n",
    "        ee[t] = np.abs(1.0 - beta*rhs/lhs)\n",
    "\n",
    "    return ee\n"
   ]
  },
  {
   "cell_type": "markdown",
   "metadata": {},
   "source": [
    "We also now define a class that contains\n",
    "\n",
    "1. Parameters of the growth model\n",
    "2. Grids used for approximating the solution\n",
    "3. Nodes and weights used to approximate integration\n",
    "\n",
    "This again helps us maintain all of the relevant information in one place and simplifies passing it to other functions."
   ]
  },
  {
   "cell_type": "code",
   "execution_count": 566,
   "metadata": {},
   "outputs": [],
   "source": [
    "class Model(object):\n",
    "    \"\"\"\n",
    "    The stochastic Neoclassical Growth model contains\n",
    "    parameters which include\n",
    "\n",
    "    * alpha: Capital share in output\n",
    "    * beta: discount factor\n",
    "    * delta: depreciation rate\n",
    "    * gamma: risk aversion\n",
    "    * rho: persistence of the log productivity level\n",
    "    * sigma: standard deviation of shocks to log productivity\n",
    "    \"\"\"\n",
    "    def __init__(self, N=1, beta=0.9, g_x=0.005, g_a=0.015, a_bar=1000, \n",
    "                 eta=1, u_bar=0, \n",
    "                 xmin=1, xmax=2000, nx=25):\n",
    "        # calculate g from g_a and g_x \n",
    "        g = g_a + g_x + g_a*g_x\n",
    "\n",
    "        # Household parameters\n",
    "        self.beta, self.eta, self.u_bar, = beta, eta, u_bar\n",
    "\n",
    "        # Firm/technology parameters\n",
    "        self.N, self.g, self.a_bar = N, g, a_bar\n",
    "\n",
    "        # Create t grids\n",
    "        self.xgrid = N*np.linspace(xmin, xmax, nx)\n",
    "        self.grid = np.reshape(self.xgrid, [self.xgrid.shape[0], 1])\n",
    "        \n",
    "        self.ns = nx\n",
    "        \n",
    "    def _unpack_params(self):\n",
    "        out = (self.N, self.beta, self.g, \n",
    "               self.a_bar, self.eta, self.u_bar)\n",
    "        return out\n",
    "\n",
    "    def _unpack_grids(self):\n",
    "        out = (self.xgrid, self.grid)\n",
    "        return out\n"
   ]
  },
  {
   "cell_type": "markdown",
   "metadata": {},
   "source": [
    "## Solution Methods\n",
    "\n",
    "In this notebook, we describe the following solution methods:\n",
    "\n",
    "* Conventional Value Function Iteration\n",
    "* Envelope Condition Value Function Iteration\n",
    "* Envelope Condition Derivative Value Function Iteration\n",
    "* Endogenous Grid Value Function Iteration\n",
    "* Conventional Policy Function Iteration\n",
    "* Envelope Condition Policy Function Iteration\n",
    "* Euler Equation Method\n",
    "\n",
    "Each of these solution methods will have a very similar structure that follows a few basic steps:\n",
    "\n",
    "1. Guess a function (either value function or policy function).\n",
    "2. Using this function, update our guess of both the value and policy functions.\n",
    "3. Check whether the function we guessed and what it was updated to are similar enough. If so, proceed. If not, return to step 2 using the updated functions.\n",
    "4. Output the policy and value functions.\n",
    "\n",
    "In order to reduce the amount of repeated code and keep the exposition as clean as possible (the notebook is plenty long as is...), we will define a class for each solution method that inherit various properties from a general solution parent class. The parent class will contain methods which apply to all of the other solution methods such as a general solve method, computing expectations, simulating, etc... This implementation may feel strange at first if one isn't familiar with object oriented programming, but these concepts can be powerful when properly used."
   ]
  },
  {
   "cell_type": "code",
   "execution_count": 567,
   "metadata": {},
   "outputs": [],
   "source": [
    "class GeneralSolution:\n",
    "    \"\"\"\n",
    "    This is a general solution method. We define this, so that we can\n",
    "    sub-class it and define specific update methods for each particular\n",
    "    solution method\n",
    "    \"\"\"\n",
    "    def __init__(self, ncgm, interpolator='cubic', maxfev=10000, prev_sol=None):\n",
    "        self.Xinf = None\n",
    "        # Save model and approximation degree\n",
    "        self.ncgm, self.interpolator, self.maxfev = ncgm, interpolator, maxfev\n",
    "\n",
    "        # Unpack some info from ncgm\n",
    "        N, beta, g, a_bar, eta, u_bar = self._unpack_params()\n",
    "        X = self.ncgm.xgrid\n",
    "\n",
    "        # Use parameter values from model to create a namedtuple with\n",
    "        # parameters saved inside\n",
    "        self.params = Params(N, beta, g, a_bar, eta, u_bar)\n",
    "\n",
    "        # Update to fill initial value and policy matrices\n",
    "        # If we give it another solution type then use it to\n",
    "        # generate values and policies\n",
    "        if issubclass(type(prev_sol), GeneralSolution):\n",
    "            self.CP = c_curve(X, *prev_sol.c_params)\n",
    "            self.WP = w_curve(X, *prev_sol.w_params)\n",
    "            self.VF = prev_sol.v_spline(X)\n",
    "        # If we give it a tuple then assume it is (policy, value) pair\n",
    "        elif type(prev_sol) is tuple:\n",
    "            self.CP = prev_sol[0]\n",
    "            self.WP = prev_sol[1]\n",
    "            self.VF = prev_sol[2]\n",
    "        # Otherwise guess a constant value function and a policy\n",
    "        # of roughly steady state\n",
    "        else:\n",
    "            # guess VF\n",
    "            self.VF = X*u(X/N, 1, u_bar) # np.ones(ncgm.ns)\n",
    "            \n",
    "            # make a guess\n",
    "            self.CP = X/(4*N)\n",
    "            self.WP = X/(4*N)\n",
    "\n",
    "\n",
    "        # Params based on guesses\n",
    "        self.c_params, _ = opt.curve_fit(c_curve, X, self.CP, maxfev=self.maxfev)\n",
    "        self.w_params, _ = opt.curve_fit(w_curve, X, self.WP, maxfev=self.maxfev)\n",
    "        self.v_spline = interp1d(X, self.VF, kind=self.interpolator, fill_value=\"extrapolate\")\n",
    "\n",
    "\n",
    "    def _unpack_params(self):\n",
    "        return self.ncgm._unpack_params()\n",
    "    \n",
    "    def build_all(self, X=None):\n",
    "        if X is None:\n",
    "            X = self.ncgm.xgrid\n",
    "            \n",
    "        CP = self.build_CP(X)\n",
    "        WP = self.build_WP(X)\n",
    "        VF = self.build_VF(X)\n",
    "        \n",
    "        # corner solution\n",
    "        CP_corner = X/self.ncgm.N\n",
    "        WP_corner = X*0 \n",
    "        VF_corner = u(CP_corner, self.ncgm.eta, self.ncgm.u_bar)\n",
    "\n",
    "        corner_idx = (CP > CP_corner) + (CP < 0) + (WP > CP_corner) + (WP < 0) + (VF < VF_corner)\n",
    "        \n",
    "        CP[corner_idx] = CP_corner[corner_idx]\n",
    "        WP[corner_idx] = WP_corner[corner_idx]\n",
    "        VF[corner_idx] = VF_corner[corner_idx]  \n",
    "        \n",
    "        return CP, WP, VF\n",
    "    \n",
    "    def build_all_scalar(self, x): \n",
    "        cp = c_curve(x, *self.c_params)\n",
    "        wp = w_curve(x, *self.w_params)\n",
    "        vf = self.v_spline(x) \n",
    "        \n",
    "        # corner solution\n",
    "        cp_corner = x/self.ncgm.N\n",
    "        wp_corner = 0\n",
    "        vf_corner = u(cp_corner, self.ncgm.eta, self.ncgm.u_bar)\n",
    "        \n",
    "        if (cp > cp_corner) or (cp < 0) or (wp > cp_corner) or (wp < 0) or (vf < vf_corner):\n",
    "                return cp_corner, wp_corner, vf_corner\n",
    "            \n",
    "        return cp, wp, vf\n",
    "\n",
    "        \n",
    "    def build_VF(self, X=None):\n",
    "        \"\"\"\n",
    "        Using the current coefficients, this builds the value function\n",
    "        for all states\n",
    "        \"\"\"\n",
    "        if X is None:\n",
    "            X = self.ncgm.xgrid\n",
    "            \n",
    "        VF = self.v_spline(X) \n",
    "\n",
    "        return VF\n",
    "\n",
    "    def build_CP(self, X=None):\n",
    "        \"\"\"\n",
    "        Using the current coefficients, this builds the policy function\n",
    "        for all states\n",
    "        \"\"\"\n",
    "        if X is None:\n",
    "            X = self.ncgm.xgrid\n",
    "            \n",
    "        CP = np.clip(c_curve(X, *self.c_params), 0, X/self.ncgm.N)\n",
    "\n",
    "        return CP\n",
    "    \n",
    "    def build_WP(self, X=None):\n",
    "        \"\"\"\n",
    "        Using the current coefficients, this builds the policy function\n",
    "        for all states\n",
    "        \"\"\"\n",
    "        if X is None:\n",
    "            X = self.ncgm.xgrid\n",
    "            \n",
    "        WP = np.clip(w_curve(X, *self.w_params), 0, X/self.ncgm.N)\n",
    "\n",
    "        return WP\n",
    "\n",
    "    def update_v(self, new_v_spline):\n",
    "        \"\"\"\n",
    "        Updates the coefficients for the value function\n",
    "        \"\"\"\n",
    "        self.v_spline = new_v_spline\n",
    "        \n",
    "        return None\n",
    "\n",
    "    def update_c(self, new_c_params, dampen=1):\n",
    "        \"\"\"\n",
    "        Updates the coefficients for the policy function\n",
    "        \"\"\"\n",
    "#         self.c_coeffs = (1-dampen)*self.c_coeffs + dampen*new_c_coeffs\n",
    "        self.c_params = (1-dampen)*self.c_params + dampen*new_c_params\n",
    "\n",
    "        return None\n",
    "    \n",
    "    def update_w(self, new_w_params, dampen=1):\n",
    "        \"\"\"\n",
    "        Updates the coefficients for the policy function\n",
    "        \"\"\"\n",
    "#         self.w_coeffs = (1-dampen)*self.w_coeffs + dampen*new_w_coeffs\n",
    "        self.w_params = (1-dampen)*self.w_params + dampen*new_w_params\n",
    "\n",
    "        return None\n",
    "\n",
    "    def update(self):\n",
    "        \"\"\"\n",
    "        Given the current state of everything in solution, update the\n",
    "        value and policy coefficients\n",
    "        \"\"\"\n",
    "        emsg = \"The update method is implemented in solution specific classes\"\n",
    "        emsg += \"\\nand cannot be called from `GeneralSolution`\"\n",
    "        raise ValueError(emsg)\n",
    "        \n",
    "    def compute_spline(self, VF):\n",
    "        v_spline = interp1d(\n",
    "            self.ncgm.xgrid, \n",
    "            VF, \n",
    "            kind=self.interpolator, \n",
    "            fill_value=\"extrapolate\",\n",
    "            assume_sorted=True\n",
    "        )\n",
    "      \n",
    "        return v_spline\n",
    "    \n",
    "    def compute_params(self, cp, wp):\n",
    "        new_c_params, _ = opt.curve_fit(c_curve, self.ncgm.xgrid, cp, maxfev=self.maxfev)\n",
    "        new_w_params, _ = opt.curve_fit(w_curve, self.ncgm.xgrid, wp, maxfev=self.maxfev)\n",
    "        \n",
    "        return new_c_params, new_w_params\n",
    "\n",
    "    def compute_EV_scalar(self, Xn):\n",
    "        EV = self.v_spline(Xn) \n",
    "        \n",
    "        return EV\n",
    "\n",
    "    def compute_dEV_scalar(self, Xn):\n",
    "        v_curve_curried = lambda x: v_curve(x, *self.v_params)\n",
    "        val = derivative( v_curve_curried, trunc_to_one(Xn), self.dx)\n",
    "        \n",
    "        return val \n",
    "\n",
    "    def compute_EV(self, Xn=None):\n",
    "        \"\"\"\n",
    "        Compute the expected value\n",
    "        \"\"\"\n",
    "        if Xn is None:\n",
    "            # Unpack parameters\n",
    "            N, beta, g, a_bar, eta, u_bar = self._unpack_params()\n",
    "\n",
    "            # Use policy to compute cp and wp\n",
    "            cp =  self.c_spline(self.ncgm.xgrid) \n",
    "            wp =  self.w_spline(self.ncgm.xgrid) \n",
    "            Xn = next_x(self.ncgm.xgrid, N, g, cp, wp)\n",
    "        \n",
    "        EV = self.v_spline(Xn) \n",
    "        \n",
    "        return EV\n",
    "\n",
    "\n",
    "    def compute_dEV(self, Xn=None):\n",
    "        \"\"\"\n",
    "        Compute the derivative of the expected value\n",
    "        \"\"\"\n",
    "        # Use policy to compute cp and wp\n",
    "        if Xn is None:\n",
    "            # Unpack parameters\n",
    "            N, beta, g, a_bar, eta, u_bar = self._unpack_params()\n",
    "            X = self.ncgm.xgrid\n",
    "            cp = c_curve(X, *self.c_params)\n",
    "            wp = w_curve(X, *self.w_params)\n",
    "            Xn = next_x(X, N, g, cp, wp)\n",
    "        \n",
    "        v_curve_curried = lambda x: v_curve(x, *self.v_params)\n",
    "        val = derivative( v_curve_curried, trunc_to_one(Xn), self.dx)\n",
    "        \n",
    "        return dEV\n",
    "\n",
    "\n",
    "    def compute_distance(self, cp, wp, VF):\n",
    "        \"\"\"\n",
    "        Computes average distance between policy functions\n",
    "        \"\"\"\n",
    "        return np.max([\n",
    "            np.max(np.abs(1.0 - (cp+1e-12)/(self.CP+1e-12))), \n",
    "            np.max(np.abs(1.0 - (wp+1e-12)/(self.WP+1e-12)))\n",
    "        ])\n",
    "    \n",
    "\n",
    "    def solve(self, tol=1e-3, maxiter=2500, verbose=False, nskipprint=25):\n",
    "        # Iterate until convergence\n",
    "        dist, it = 10.0, 0\n",
    "        while (dist>tol) and (it<maxiter):\n",
    "            # Run solution specific update code\n",
    "            cp, wp, VF = self.update()\n",
    "\n",
    "            # Compute new policy and value coeffs\n",
    "            new_c_params, new_w_params = self.compute_params(cp, wp)\n",
    "            new_v_spline = self.compute_spline(VF)\n",
    "\n",
    "            # Update distance and iterations\n",
    "            dist = self.compute_distance(cp, wp, VF)\n",
    "            self.CP, self.WP, self.VF = cp, wp, VF\n",
    "            it += 1\n",
    "            if verbose and it%nskipprint == 0:\n",
    "                print(it, dist)\n",
    "\n",
    "            # Update all coefficients\n",
    "            self.update_c(new_c_params)\n",
    "            self.update_w(new_w_params)\n",
    "            self.update_v(new_v_spline)\n",
    "\n",
    "        # After finishing iteration, iterate to convergence using policy\n",
    "        if not isinstance(self, IterateOnPolicy):\n",
    "            sol_iop = IterateOnPolicy(self.ncgm, self.interpolator, self.maxfev, self)\n",
    "            cp, wp, VF = sol_iop.solve(tol=1e-3)\n",
    "\n",
    "            # Save final versions of everything\n",
    "            self.CP, self.WP, self.VF = cp, wp, VF\n",
    "            \n",
    "            new_v_spline = sol_iop.compute_spline(VF)\n",
    "            \n",
    "            self.update_v(new_v_spline)\n",
    "\n",
    "        return self.CP, self.WP, self.VF\n",
    "    \n",
    "    def solve_full(self, tol=1e-3, maxiter=2500, verbose=False, nskipprint=25):\n",
    "        N, beta, g, a_bar, eta, u_bar = self._unpack_params()\n",
    "        \n",
    "        # solve as infinite horizon and store results\n",
    "        self.CP_inf, self.WP_inf, self.VF_inf = self.solve(tol, maxiter, verbose, nskipprint)\n",
    "        \n",
    "        self.CP, self.WP, self.VF = self.build_all()\n",
    "        \n",
    "        return self.CP, self.WP, self.VF\n",
    "        \n",
    "\n",
    "    def simulate(self, X=None, T=1000, s=1):\n",
    "        \"\"\"\n",
    "        Simulates the neoclassical growth model with policy function\n",
    "        given by self.KP. Simulates for `T` periods and discarsd first\n",
    "        nburn `observations`\n",
    "        \"\"\"\n",
    "        N, beta, g, a_bar, eta, u_bar = self._unpack_params()\n",
    "        # X is starting point, if None, set to N*274\n",
    "        if X is None:\n",
    "            X = N*274\n",
    "            \n",
    "        def recurse_bellman(x, t):\n",
    "            if x <= 0:\n",
    "                return 0, 0, x, t\n",
    "            if t >= T:\n",
    "                return u(x/N, eta, u_bar), 1, x, T\n",
    "            \n",
    "            c_corner = x/N \n",
    "            u_corner = u(c_corner, eta, u_bar)\n",
    "            \n",
    "            c = s*self.build_CP(x)\n",
    "            w = s*self.build_WP(x)\n",
    "\n",
    "            \n",
    "            if w <= 0:\n",
    "                c = c_corner \n",
    "                \n",
    "            m_t = psurvival(a_bar, c, w)\n",
    "            u_t = u(c, eta, u_bar)\n",
    "            x_prime = next_x(x, N, g, c, w)\n",
    "            \n",
    "            v_prime, m_prime, final_state, nperiods = recurse_bellman(x_prime, t+1)\n",
    "            \n",
    "            if u_t + v_prime < u_corner:\n",
    "                return u_corner, 0, 0, t+1\n",
    "            \n",
    "            return u_t + v_prime, m_t*m_prime, final_state, nperiods\n",
    "        \n",
    "        return recurse_bellman(X, 0)\n",
    "        \n",
    "\n",
    "    def ee_residuals(self, ksim=None, zsim=None, Qn=10, seed=42):\n",
    "        \"\"\"\n",
    "        Computes the Euler Equation residuals of a simulated capital and\n",
    "        productivity levels (ksim and zsim) and uses Qn nodes for computing\n",
    "        the expectation\n",
    "        \"\"\"\n",
    "        if (ksim is None) or (zsim is None):\n",
    "            ksim, zsim = self.simulate(T=10000, nburn=200, seed=seed)\n",
    "\n",
    "        nodes, weights = qe.quad.qnwnorm(Qn, 0.0, self.ncgm.sigma**2)\n",
    "        ee = jit_ee(self.params, self.degree, self.v_coeffs,\n",
    "                    nodes, weights, ksim, zsim)\n",
    "\n",
    "        return np.log10(np.mean(ee)), np.log10(np.max(ee))\n",
    "    \n",
    "    def compute_Xdot(self, X):\n",
    "        N, beta, g, a_bar, eta, u_bar = self._unpack_params()\n",
    "        cp = c_curve(X, *self.c_params)\n",
    "        wp = w_curve(X, *self.w_params)\n",
    "        Xn = next_x(X, N, g, cp, wp)\n",
    "        \n",
    "        return Xn - X\n",
    "        \n",
    "    def compute_Xinflection(self):\n",
    "        N, beta, g, a_bar, eta, u_bar = self._unpack_params()\n",
    "        floor = N\n",
    "        ceil = N*1000\n",
    "        for i in range(4):\n",
    "            X = np.linspace(floor, ceil, 100)\n",
    "            Xdot = self.compute_Xdot(X)\n",
    "            idx = np.argmin(Xdot[Xdot > 0])\n",
    "            floor = X[idx]\n",
    "            if idx < 99:\n",
    "                ceil = X[idx + 1]\n",
    "        \n",
    "        return floor"
   ]
  },
  {
   "cell_type": "markdown",
   "metadata": {},
   "source": [
    "### Iterating to Convergence (given policy)\n",
    "\n",
    "This isn't one of the methods described above, but it is used as an element of a few of our methods (and also as a way to get a first guess at the value function). This method takes an initial policy function, $\\bar{k}(k_t, z_t)$, as given, and then, without changing the policy, iterates until the value function has converged.\n",
    "\n",
    "Thus the \"update section\" of the algorithm in this instance would be:\n",
    "\n",
    "* Leave policy function unchanged\n",
    "* At each point of grid, $(k_t, z_t)$, compute $\\hat{V}(k_t, z_t) = u(c(\\bar{k}(k_t, z_t))) + \\beta E \\left[ V(\\bar{k}(k_t, z_t), z_{t+1}) \\right]$\n",
    "\n",
    "We override two of the methods from `GeneralSolution`\n",
    "\n",
    "* `compute_distance` because when we are iterating to convergence on the value function we want to check distnace using value function rather than policy function\n",
    "* `compute_coefficients` because we don't need to update the policy functions coefficients.\n",
    "\n",
    "The `update` method just repeatedly applies a particular policy function to update the value function."
   ]
  },
  {
   "cell_type": "code",
   "execution_count": 568,
   "metadata": {},
   "outputs": [],
   "source": [
    "class IterateOnPolicy(GeneralSolution):\n",
    "    \"\"\"\n",
    "    Subclass of the general solution method. The update method for this\n",
    "    class simply computes the fixed point of the value function given\n",
    "    a specific policy\n",
    "    \"\"\"\n",
    "    def compute_distance(self, cp, wp, VF):\n",
    "        \"\"\"\n",
    "        Computes distance between policy functions. When we are\n",
    "        iterating on a specific policy, we would like to compute\n",
    "        distances by the difference between VFs\n",
    "        \"\"\"\n",
    "        return np.max(np.abs(1.0 - (VF )/(self.VF )))\n",
    "\n",
    "    def compute_coefficients(self, cp, wp, VF):\n",
    "        \"\"\"\n",
    "        Given a policy and value return corresponding coefficients.\n",
    "        When we are iterating on a specific policy, we don't want to\n",
    "        update the policy coefficients.\n",
    "        \"\"\"\n",
    "        new_v_coeffs = la.lstsq(self.Phi, VF)[0]\n",
    "\n",
    "        return self.c_coeffs, self.w_coeffs, new_v_coeffs\n",
    "    \n",
    "    def compute_spline(self, VF):\n",
    "        new_v_spline = interp1d(\n",
    "            self.ncgm.xgrid, \n",
    "            VF, \n",
    "            kind=self.interpolator, \n",
    "            fill_value=\"extrapolate\",\n",
    "            assume_sorted=True\n",
    "        )\n",
    "        \n",
    "        return new_v_spline\n",
    "    \n",
    "    def update(self):\n",
    "        # Unpack parameters\n",
    "        N, beta, g, a_bar, eta, u_bar = self._unpack_params()\n",
    "        X = self.ncgm.xgrid\n",
    "        \n",
    "        Xn = next_x(X, N, g, self.CP, self.WP)\n",
    "\n",
    "        # Update the value function\n",
    "        VF = u(self.CP, eta, u_bar) + beta*np.maximum(self.compute_EV(Xn), np.zeros(self.ncgm.ns))\n",
    "\n",
    "        return self.CP, self.WP, VF"
   ]
  },
  {
   "cell_type": "markdown",
   "metadata": {},
   "source": [
    "### Conventional Value Function Iteration\n",
    "\n",
    "This is one of the first solution methods for macroeconomics a graduate student in economics typically learns.\n",
    "\n",
    "In this solution method, one takes as given a value function, $V(k_t, z_t)$, and then solves for the optimal policy given the value function.\n",
    "\n",
    "The update section takes the form:\n",
    "\n",
    "* For each point, $(k_t, z_t)$, numerically solve for $c^*(k_t, z_t)$ to satisfy the first order condition $u'(c^*) = \\beta E \\left[ V_1((1 - \\delta) k_t + z_t f(k_t) - c^*, z_{t+1}) \\right]$\n",
    "* Define $k^*(k_t, z_t) = (1 - \\delta) k_t + z_t f(k_t) - c^*(k_t, z_t)$\n",
    "* Update value function according to $\\hat{V}(k_t, z_t) = u(c^*(k_t, z_t)) + \\beta E \\left[ V(k^*(k_t, z_t), z_{t+1}) \\right]$\n",
    "\n",
    "\n",
    "* For each point, $(X_t, z_t)$, numerically solve for $c^*(X_t, z_t)$ to satisfy the first order condition $u'(\\tilde{c}^\\ast) = \\beta E \\left[ V_1((1 - \\delta) k_t + z_t f(k_t) - c^*, z_{t+1}) \\right]$\n",
    "* Define $k^*(k_t, z_t) = (1 - \\delta) k_t + z_t f(k_t) - c^*(k_t, z_t)$\n",
    "* Update value function according to $\\hat{V}(k_t, z_t) = u(c^*(k_t, z_t)) + \\beta E \\left[ V(k^*(k_t, z_t), z_{t+1}) \\right]$\n",
    "\n",
    "\n"
   ]
  },
  {
   "cell_type": "code",
   "execution_count": 569,
   "metadata": {},
   "outputs": [],
   "source": [
    "class VFI(GeneralSolution):\n",
    "    \"\"\"\n",
    "    Updates the coefficients and value functions using the VFI\n",
    "    method\n",
    "    \"\"\"\n",
    "    def update(self):\n",
    "        \"\"\"\n",
    "        Updates the coefficients and value functions using the VFI_ECM\n",
    "        method\n",
    "        \"\"\"\n",
    "        # Unpack parameters\n",
    "        N, beta, g, a_bar, eta, u_bar = self._unpack_params()\n",
    "        xgrid = self.ncgm.xgrid\n",
    "        n_state = xgrid.shape[0]\n",
    "\n",
    "        # Get the policy and update it\n",
    "        xp = np.empty(n_state)\n",
    "        VF = np.empty(n_state)\n",
    "        for i_s in range(n_state):\n",
    "            # Pull out current vals\n",
    "            X = xgrid[i_s]\n",
    "            def _f(xp):\n",
    "                EV = self.compute_EV_scalar(xp)\n",
    "                Exp = expendables(X, xp, N, g)\n",
    "                _cp = np.clip(\n",
    "                        np.nan_to_num(logu_c_from_exp(EV, Exp, beta, a_bar), nan=X/N),\n",
    "                        0, X/N\n",
    "                )\n",
    "                _wp = Exp - _cp\n",
    "                return -(u(_cp, 1, u_bar) + discount_factor(beta, a_bar, _cp, _wp)*EV)**2\n",
    "                \n",
    "            \n",
    "            _xp = opt.fminbound(_f, 0, X*(1+g), xtol=1e-12)\n",
    "            EV = self.compute_EV_scalar(_xp)\n",
    "            Exp = expendables(X, _xp, N, g)\n",
    "            _cp = np.clip(\n",
    "                        np.nan_to_num(logu_c_from_exp(EV, Exp, beta, a_bar), nan=X/N),\n",
    "                        0, X/N\n",
    "                )\n",
    "            _wp = Exp - _cp\n",
    "            _xp = next_x(X, N, g, _cp, _wp)\n",
    "            _vf = u(_cp, 1, u_bar) + discount_factor(beta, a_bar, _cp, _wp)*EV\n",
    "            \n",
    "            # enforce that value function always weakly increasing in X\n",
    "#             if i_s > 0:\n",
    "#                 _vf = np.max([_vf, VF[i_s-1]])\n",
    "            \n",
    "            \n",
    "            if _vf < 0:\n",
    "                xp[i_s] = 0\n",
    "                VF[i_s] = u(X/N, eta, u_bar)\n",
    "            else:                \n",
    "                xp[i_s] = _xp\n",
    "                VF[i_s] = _vf\n",
    "\n",
    "        return cp, wp, VF\n"
   ]
  },
  {
   "cell_type": "markdown",
   "metadata": {},
   "source": [
    "## A Horse Race\n",
    "\n",
    "We can now run a horse race to compare the methods in terms of both accuracy and speed."
   ]
  },
  {
   "cell_type": "raw",
   "metadata": {},
   "source": [
    "ncgm = NeoclassicalGrowth(xmin=50, xmax=2000)\n",
    "\n",
    "# First guess\n",
    "vp = IterateOnPolicy(ncgm, 2)\n",
    "vp.solve(tol=1e-9)\n",
    "\n",
    "np.random.seed(61089)\n",
    "shocks = np.random.randn(10200)\n",
    "\n",
    "for sol_method in [VFI, VFI_ECM, VFI_EGM, PFI, PFI_ECM, dVFI_ECM, EulEq]:\n",
    "\n",
    "    # Set prev sol as iterate on policy\n",
    "    new_sol = vp\n",
    "    print(\"Solution Method: {}\\n\".format(sol_method))\n",
    "\n",
    "    for d in range(2, 6):\n",
    "        new_sol = sol_method(ncgm, d, new_sol)\n",
    "        ts = time.time()\n",
    "        new_sol.solve(tol=1e-9, verbose=False, nskipprint=25)\n",
    "        time_took = time.time() - ts\n",
    "        print(\"\\tDegree {} took {}\\n\".format(d, time_took))\n",
    "\n",
    "        # Compute Euler Errors\n",
    "        ks, zs = new_sol.simulate(10000, 200, shocks=shocks)\n",
    "        mean_ee, max_ee = new_sol.ee_residuals(ks, zs, Qn=10)\n",
    "        print(\"\\t\\tMean and Max EE are {} & {}\\n\".format(mean_ee, max_ee))\n",
    "        new_sol = new_sol"
   ]
  },
  {
   "cell_type": "code",
   "execution_count": 570,
   "metadata": {
    "scrolled": false
   },
   "outputs": [
    {
     "name": "stdout",
     "output_type": "stream",
     "text": [
      "vp done\n"
     ]
    },
    {
     "name": "stderr",
     "output_type": "stream",
     "text": [
      "<ipython-input-569-4458ef9b1436>:27: RuntimeWarning: invalid value encountered in logu_c_from_exp\n",
      "  np.nan_to_num(logu_c_from_exp(EV, Exp, beta, a_bar), nan=X/N),\n",
      "<ipython-input-569-4458ef9b1436>:27: RuntimeWarning: invalid value encountered in logu_c_from_exp\n",
      "  np.nan_to_num(logu_c_from_exp(EV, Exp, beta, a_bar), nan=X/N),\n",
      "<ipython-input-569-4458ef9b1436>:38: RuntimeWarning: invalid value encountered in logu_c_from_exp\n",
      "  np.nan_to_num(logu_c_from_exp(EV, Exp, beta, a_bar), nan=X/N),\n"
     ]
    },
    {
     "name": "stdout",
     "output_type": "stream",
     "text": [
      "25 0.13633566468041036\n",
      "50 0.037615381723974384\n"
     ]
    }
   ],
   "source": [
    "ncgm = Model(N=1, a_bar=1000, xmin=10, xmax=1000, nx=100)\n",
    "\n",
    "# First guess\n",
    "vp = IterateOnPolicy(ncgm, maxfev=50000)\n",
    "vp.solve(tol=1e-9)\n",
    "\n",
    "np.random.seed(61089)\n",
    "\n",
    "\n",
    "print('vp done')\n",
    "interpolator=\"linear\"\n",
    "new_sol = vp\n",
    "new_sol = VFI(ncgm, maxfev=50000, prev_sol=new_sol)\n",
    "ts = time.time()\n",
    "new_sol.solve(tol=1e-3, verbose=True, nskipprint=25)\n",
    "time_took = time.time() - ts"
   ]
  },
  {
   "cell_type": "code",
   "execution_count": 571,
   "metadata": {},
   "outputs": [
    {
     "data": {
      "text/plain": [
       "array([  10.,   20.,   30.,   40.,   50.,   60.,   70.,   80.,   90.,\n",
       "        100.,  110.,  120.,  130.,  140.,  150.,  160.,  170.,  180.,\n",
       "        190.,  200.,  210.,  220.,  230.,  240.,  250.,  260.,  270.,\n",
       "        280.,  290.,  300.,  310.,  320.,  330.,  340.,  350.,  360.,\n",
       "        370.,  380.,  390.,  400.,  410.,  420.,  430.,  440.,  450.,\n",
       "        460.,  470.,  480.,  490.,  500.,  510.,  520.,  530.,  540.,\n",
       "        550.,  560.,  570.,  580.,  590.,  600.,  610.,  620.,  630.,\n",
       "        640.,  650.,  660.,  670.,  680.,  690.,  700.,  710.,  720.,\n",
       "        730.,  740.,  750.,  760.,  770.,  780.,  790.,  800.,  810.,\n",
       "        820.,  830.,  840.,  850.,  860.,  870.,  880.,  890.,  900.,\n",
       "        910.,  920.,  930.,  940.,  950.,  960.,  970.,  980.,  990.,\n",
       "       1000.])"
      ]
     },
     "execution_count": 571,
     "metadata": {},
     "output_type": "execute_result"
    }
   ],
   "source": [
    "X = new_sol.ncgm.xgrid\n",
    "X"
   ]
  },
  {
   "cell_type": "code",
   "execution_count": 572,
   "metadata": {},
   "outputs": [
    {
     "data": {
      "text/plain": [
       "4.199745502074906e+115"
      ]
     },
     "execution_count": 572,
     "metadata": {},
     "output_type": "execute_result"
    }
   ],
   "source": [
    "idx = np.where(X == 270)[0][0]\n",
    "VF[idx]"
   ]
  },
  {
   "cell_type": "code",
   "execution_count": 573,
   "metadata": {},
   "outputs": [
    {
     "data": {
      "text/plain": [
       "(41.48473097244603, 0.0, -1.637960517131514, 15)"
      ]
     },
     "execution_count": 573,
     "metadata": {},
     "output_type": "execute_result"
    }
   ],
   "source": [
    "new_sol.simulate(274,1000,s=1)"
   ]
  },
  {
   "cell_type": "code",
   "execution_count": 574,
   "metadata": {},
   "outputs": [
    {
     "data": {
      "text/plain": [
       "array([7.06022217e+116, 5.85828652e+116, 4.91111342e+116, 4.15854705e+116,\n",
       "       3.55470067e+116, 3.06491043e+116, 2.66362406e+116, 2.33160610e+116,\n",
       "       2.05445847e+116, 1.82114827e+116, 1.62324954e+116, 1.45416767e+116,\n",
       "       1.30877296e+116, 1.18296567e+116, 1.07350617e+116, 9.77756359e+115,\n",
       "       8.93598419e+115, 8.19285968e+115, 7.53388352e+115, 6.94721339e+115,\n",
       "       6.42292554e+115, 5.95276166e+115, 5.52973654e+115, 5.14791750e+115,\n",
       "       4.80229440e+115, 4.48856073e+115, 4.20301004e+115, 3.94247356e+115,\n",
       "       3.70419703e+115, 3.48577658e+115, 3.28513162e+115, 3.10044510e+115,\n",
       "       2.93011111e+115, 2.77271769e+115, 2.62702763e+115, 2.49194388e+115,\n",
       "       2.36648608e+115, 2.24978398e+115, 2.14106706e+115, 2.03964553e+115,\n",
       "       1.94489696e+115, 1.85626243e+115, 1.77324252e+115, 1.69538813e+115,\n",
       "       1.62229133e+115, 1.55358106e+115, 1.48892197e+115, 1.42801153e+115,\n",
       "       1.37057475e+115, 1.31635963e+115, 1.26513509e+115, 1.21669045e+115,\n",
       "       1.17083415e+115, 1.12739101e+115, 1.08619961e+115, 1.04711071e+115,\n",
       "       1.00998678e+115, 9.74701722e+114, 9.41139849e+114, 9.09194393e+114,\n",
       "       8.78766166e+114, 8.49762847e+114, 8.22098791e+114, 7.95694873e+114,\n",
       "       7.70478023e+114, 7.46380461e+114, 7.23338936e+114, 7.01294213e+114,\n",
       "       6.80190880e+114, 6.59977293e+114, 6.40605458e+114, 6.22030731e+114,\n",
       "       6.04211404e+114, 5.87108314e+114, 5.70684576e+114, 5.54905481e+114,\n",
       "       5.39738465e+114, 5.25153065e+114, 5.11120794e+114, 4.97614942e+114,\n",
       "       4.84610353e+114, 4.72083244e+114, 4.60011100e+114, 4.48372631e+114,\n",
       "       4.37147764e+114, 4.26317619e+114, 4.15864442e+114, 4.05771502e+114,\n",
       "       3.96022978e+114, 3.86603851e+114, 3.77499839e+114, 3.68697362e+114,\n",
       "       3.60183530e+114, 3.51946144e+114, 3.43973672e+114, 3.36255213e+114,\n",
       "       3.28780439e+114, 3.21539535e+114, 3.14523147e+114, 3.07722340e+114])"
      ]
     },
     "execution_count": 574,
     "metadata": {},
     "output_type": "execute_result"
    }
   ],
   "source": [
    "VF = new_sol.VF\n",
    "VF"
   ]
  },
  {
   "cell_type": "code",
   "execution_count": 575,
   "metadata": {},
   "outputs": [
    {
     "data": {
      "text/plain": [
       "array([7.06022217e+116, 5.85828652e+116, 4.91111342e+116, 4.15854705e+116,\n",
       "       3.55470067e+116, 3.06491043e+116, 2.66362406e+116, 2.33160610e+116,\n",
       "       2.05445847e+116, 1.82114827e+116, 1.62324954e+116, 1.45416767e+116,\n",
       "       1.30877296e+116, 1.18296567e+116, 1.07350617e+116, 9.77756359e+115,\n",
       "       8.93598419e+115, 8.19285968e+115, 7.53388352e+115, 6.94721339e+115,\n",
       "       6.42292554e+115, 5.95276166e+115, 5.52973654e+115, 5.14791750e+115,\n",
       "       4.80229440e+115, 4.48856073e+115, 4.20301004e+115, 3.94247356e+115,\n",
       "       3.70419703e+115, 3.48577658e+115, 3.28513162e+115, 3.10044510e+115,\n",
       "       2.93011111e+115, 2.77271769e+115, 2.62702763e+115, 2.49194388e+115,\n",
       "       2.36648608e+115, 2.24978398e+115, 2.14106706e+115, 2.03964553e+115,\n",
       "       1.94489696e+115, 1.85626243e+115, 1.77324252e+115, 1.69538813e+115,\n",
       "       1.62229133e+115, 1.55358106e+115, 1.48892197e+115, 1.42801153e+115,\n",
       "       1.37057475e+115, 1.31635963e+115, 1.26513509e+115, 1.21669045e+115,\n",
       "       1.17083415e+115, 1.12739101e+115, 1.08619961e+115, 1.04711071e+115,\n",
       "       1.00998678e+115, 9.74701722e+114, 9.41139849e+114, 9.09194393e+114,\n",
       "       8.78766166e+114, 8.49762847e+114, 8.22098791e+114, 7.95694873e+114,\n",
       "       7.70478023e+114, 7.46380461e+114, 7.23338936e+114, 7.01294213e+114,\n",
       "       6.80190880e+114, 6.59977293e+114, 6.40605458e+114, 6.22030731e+114,\n",
       "       6.04211404e+114, 5.87108314e+114, 5.70684576e+114, 5.54905481e+114,\n",
       "       5.39738465e+114, 5.25153065e+114, 5.11120794e+114, 4.97614942e+114,\n",
       "       4.84610353e+114, 4.72083244e+114, 4.60011100e+114, 4.48372631e+114,\n",
       "       4.37147764e+114, 4.26317619e+114, 4.15864442e+114, 4.05771502e+114,\n",
       "       3.96022978e+114, 3.86603851e+114, 3.77499839e+114, 3.68697362e+114,\n",
       "       3.60183530e+114, 3.51946144e+114, 3.43973672e+114, 3.36255213e+114,\n",
       "       3.28780439e+114, 3.21539535e+114, 3.14523147e+114, 3.07722340e+114])"
      ]
     },
     "execution_count": 575,
     "metadata": {},
     "output_type": "execute_result"
    }
   ],
   "source": [
    "new_sol.build_VF()"
   ]
  },
  {
   "cell_type": "code",
   "execution_count": 576,
   "metadata": {},
   "outputs": [
    {
     "data": {
      "text/plain": [
       "array([ 9.50048001, 10.23834641, 11.024294  , 11.82992703, 12.64634658,\n",
       "       13.46958883, 14.29753937, 15.12893607, 15.96296485, 16.79906984,\n",
       "       17.63685457, 18.47602631, 19.31636274, 20.15769106, 20.99987429,\n",
       "       21.84280198, 22.68638382, 23.53054497, 24.37522277, 25.22036418,\n",
       "       26.06592394, 26.91186312, 27.75814798, 28.60474908, 29.45164059,\n",
       "       30.29879972, 31.14620628, 31.99384226, 32.84169156, 33.6897397 ,\n",
       "       34.53797365, 35.38638161, 36.23495287, 37.08367766, 37.9325471 ,\n",
       "       38.78155303, 39.63068797, 40.47994504, 41.3293179 , 42.17880067,\n",
       "       43.02838793, 43.87807465, 44.72785614, 45.57772805, 46.4276863 ,\n",
       "       47.27772712, 48.12784693, 48.97804243, 49.82831048, 50.67864815,\n",
       "       51.5290527 , 52.37952151, 53.23005214, 54.08064228, 54.93128975,\n",
       "       55.78199248, 56.63274851, 57.48355599, 58.33441316, 59.18531835,\n",
       "       60.03626997, 60.88726651, 61.73830654, 62.58938869, 63.44051164,\n",
       "       64.29167416, 65.14287504, 65.99411317, 66.84538744, 67.69669682,\n",
       "       68.54804032, 69.39941697, 70.25082586, 71.10226613, 71.95373691,\n",
       "       72.80523741, 73.65676685, 74.50832448, 75.35990958, 76.21152147,\n",
       "       77.06315947, 77.91482294, 78.76651128, 79.61822388, 80.46996016,\n",
       "       81.32171958, 82.1735016 , 83.02530571, 83.87713139, 84.72897818,\n",
       "       85.5808456 , 86.43273321, 87.28464056, 88.13656724, 88.98851283,\n",
       "       89.84047695, 90.6924592 , 91.54445922, 92.39647663, 93.24851111])"
      ]
     },
     "execution_count": 576,
     "metadata": {},
     "output_type": "execute_result"
    }
   ],
   "source": [
    "CP = new_sol.CP\n",
    "CP"
   ]
  },
  {
   "cell_type": "code",
   "execution_count": 577,
   "metadata": {
    "scrolled": true
   },
   "outputs": [
    {
     "data": {
      "text/plain": [
       "array([ 9.50048001, 10.23834641, 11.024294  , 11.82992703, 12.64634658,\n",
       "       13.46958883, 14.29753937, 15.12893607, 15.96296485, 16.79906984,\n",
       "       17.63685457, 18.47602631, 19.31636274, 20.15769106, 20.99987429,\n",
       "       21.84280198, 22.68638382, 23.53054497, 24.37522277, 25.22036418,\n",
       "       26.06592394, 26.91186312, 27.75814798, 28.60474908, 29.45164059,\n",
       "       30.29879972, 31.14620628, 31.99384226, 32.84169156, 33.6897397 ,\n",
       "       34.53797365, 35.38638161, 36.23495287, 37.08367766, 37.9325471 ,\n",
       "       38.78155303, 39.63068797, 40.47994504, 41.3293179 , 42.17880067,\n",
       "       43.02838793, 43.87807465, 44.72785614, 45.57772805, 46.4276863 ,\n",
       "       47.27772712, 48.12784693, 48.97804243, 49.82831048, 50.67864815,\n",
       "       51.5290527 , 52.37952151, 53.23005214, 54.08064228, 54.93128975,\n",
       "       55.78199248, 56.63274851, 57.48355599, 58.33441316, 59.18531835,\n",
       "       60.03626997, 60.88726651, 61.73830654, 62.58938869, 63.44051164,\n",
       "       64.29167416, 65.14287504, 65.99411317, 66.84538744, 67.69669682,\n",
       "       68.54804032, 69.39941697, 70.25082586, 71.10226613, 71.95373691,\n",
       "       72.80523741, 73.65676685, 74.50832448, 75.35990958, 76.21152147,\n",
       "       77.06315947, 77.91482294, 78.76651128, 79.61822388, 80.46996016,\n",
       "       81.32171958, 82.1735016 , 83.02530571, 83.87713139, 84.72897818,\n",
       "       85.5808456 , 86.43273321, 87.28464056, 88.13656724, 88.98851283,\n",
       "       89.84047695, 90.6924592 , 91.54445922, 92.39647663, 93.24851111])"
      ]
     },
     "execution_count": 577,
     "metadata": {},
     "output_type": "execute_result"
    }
   ],
   "source": [
    "new_sol.build_CP()"
   ]
  },
  {
   "cell_type": "code",
   "execution_count": 578,
   "metadata": {},
   "outputs": [
    {
     "data": {
      "text/plain": [
       "array([ 1.34070557,  1.25589294,  1.28283147,  1.35552325,  1.45328526,\n",
       "        1.56690472,  1.69146726,  1.82403944,  1.96272913,  2.10624439,\n",
       "        2.25366374,  2.40430679,  2.55765685,  2.71331227,  2.87095468,\n",
       "        3.03032739,  3.19122047,  3.35346002,  3.51690035,  3.68141822,\n",
       "        3.84690844,  4.01328051,  4.180456  ,  4.3483665 ,  4.51695198,\n",
       "        4.68615949,  4.85594206,  5.02625785,  5.19706944,  5.3683432 ,\n",
       "        5.54004881,  5.71215885,  5.88464843,  6.05749487,  6.2306775 ,\n",
       "        6.40417736,  6.57797706,  6.75206062,  6.92641329,  7.10102143,\n",
       "        7.27587244,  7.45095459,  7.62625702,  7.8017696 ,  7.97748288,\n",
       "        8.15338803,  8.3294768 ,  8.50574147,  8.68217477,  8.85876989,\n",
       "        9.03552043,  9.21242034,  9.38946394,  9.56664585,  9.743961  ,\n",
       "        9.92140458, 10.09897206, 10.27665911, 10.45446165, 10.63237581,\n",
       "       10.81039788, 10.98852436, 11.1667519 , 11.34507734, 11.52349762,\n",
       "       11.70200985, 11.88061127, 12.05929924, 12.23807122, 12.4169248 ,\n",
       "       12.59585766, 12.7748676 , 12.95395247, 13.13311024, 13.31233896,\n",
       "       13.49163674, 13.67100178, 13.85043235, 14.02992677, 14.20948343,\n",
       "       14.3891008 , 14.56877737, 14.74851172, 14.92830247, 15.10814827,\n",
       "       15.28804784, 15.46799993, 15.64800335, 15.82805694, 16.00815957,\n",
       "       16.18831016, 16.36850766, 16.54875106, 16.72903937, 16.90937165,\n",
       "       17.08974698, 17.27016445, 17.45062322, 17.63112243, 17.81166128])"
      ]
     },
     "execution_count": 578,
     "metadata": {},
     "output_type": "execute_result"
    }
   ],
   "source": [
    "WP = new_sol.WP\n",
    "WP"
   ]
  },
  {
   "cell_type": "code",
   "execution_count": 579,
   "metadata": {
    "scrolled": true
   },
   "outputs": [
    {
     "data": {
      "text/plain": [
       "array([ 1.34070557,  1.25589294,  1.28283147,  1.35552325,  1.45328526,\n",
       "        1.56690472,  1.69146726,  1.82403944,  1.96272913,  2.10624439,\n",
       "        2.25366374,  2.40430679,  2.55765685,  2.71331227,  2.87095468,\n",
       "        3.03032739,  3.19122047,  3.35346002,  3.51690035,  3.68141822,\n",
       "        3.84690844,  4.01328051,  4.180456  ,  4.3483665 ,  4.51695198,\n",
       "        4.68615949,  4.85594206,  5.02625785,  5.19706944,  5.3683432 ,\n",
       "        5.54004881,  5.71215885,  5.88464843,  6.05749487,  6.2306775 ,\n",
       "        6.40417736,  6.57797706,  6.75206062,  6.92641329,  7.10102143,\n",
       "        7.27587244,  7.45095459,  7.62625702,  7.8017696 ,  7.97748288,\n",
       "        8.15338803,  8.3294768 ,  8.50574147,  8.68217477,  8.85876989,\n",
       "        9.03552043,  9.21242034,  9.38946394,  9.56664585,  9.743961  ,\n",
       "        9.92140458, 10.09897206, 10.27665911, 10.45446165, 10.63237581,\n",
       "       10.81039788, 10.98852436, 11.1667519 , 11.34507734, 11.52349762,\n",
       "       11.70200985, 11.88061127, 12.05929924, 12.23807122, 12.4169248 ,\n",
       "       12.59585766, 12.7748676 , 12.95395247, 13.13311024, 13.31233896,\n",
       "       13.49163674, 13.67100178, 13.85043235, 14.02992677, 14.20948343,\n",
       "       14.3891008 , 14.56877737, 14.74851172, 14.92830247, 15.10814827,\n",
       "       15.28804784, 15.46799993, 15.64800335, 15.82805694, 16.00815957,\n",
       "       16.18831016, 16.36850766, 16.54875106, 16.72903937, 16.90937165,\n",
       "       17.08974698, 17.27016445, 17.45062322, 17.63112243, 17.81166128])"
      ]
     },
     "execution_count": 579,
     "metadata": {},
     "output_type": "execute_result"
    }
   ],
   "source": [
    "new_sol.build_WP()"
   ]
  },
  {
   "cell_type": "code",
   "execution_count": 580,
   "metadata": {},
   "outputs": [
    {
     "data": {
      "text/plain": [
       "array([7.08617929, 8.15224458, 8.59371964, 8.72720332, 8.70190245,\n",
       "       8.59630368, 8.45274376, 8.29419348, 8.13304526, 7.97584075,\n",
       "       7.82585895, 7.68455439, 7.55236683, 7.42918213, 7.31459624,\n",
       "       7.20806671, 7.10899921, 7.01679604, 6.93088242, 6.85071967,\n",
       "       6.77581085, 6.705702  , 6.6399809 , 6.57827465, 6.52024655,\n",
       "       6.46559294, 6.41403993, 6.36534042, 6.31927126, 6.27563076,\n",
       "       6.23423635, 6.19492254, 6.15753911, 6.12194949, 6.08802929,\n",
       "       6.05566506, 6.02475314, 5.9951987 , 5.96691479, 5.93982162,\n",
       "       5.91384584, 5.88891988, 5.86498147, 5.84197309, 5.81984155,\n",
       "       5.79853761, 5.7780156 , 5.75823314, 5.73915082, 5.72073197,\n",
       "       5.70294242, 5.68575028, 5.66912579, 5.65304111, 5.6374702 ,\n",
       "       5.62238865, 5.60777356, 5.59360346, 5.57985816, 5.56651866,\n",
       "       5.5535671 , 5.54098663, 5.52876137, 5.51687634, 5.50531737,\n",
       "       5.4940711 , 5.48312486, 5.47246667, 5.46208518, 5.45196962,\n",
       "       5.44210979, 5.43249599, 5.42311901, 5.4139701 , 5.40504093,\n",
       "       5.39632357, 5.38781049, 5.37949449, 5.37136871, 5.3634266 ,\n",
       "       5.35566194, 5.34806875, 5.34064133, 5.33337424, 5.32626227,\n",
       "       5.31930044, 5.31248396, 5.30580828, 5.299269  , 5.29286192,\n",
       "       5.28658302, 5.28042843, 5.27439444, 5.26847748, 5.26267413,\n",
       "       5.2569811 , 5.25139523, 5.24591346, 5.24053287, 5.23525064])"
      ]
     },
     "execution_count": 580,
     "metadata": {},
     "output_type": "execute_result"
    }
   ],
   "source": [
    "CP/WP"
   ]
  },
  {
   "cell_type": "code",
   "execution_count": 581,
   "metadata": {},
   "outputs": [
    {
     "data": {
      "text/plain": [
       "array([ 1.,  2.,  3.,  4.,  5.,  6.,  7.,  8.,  9., 10., 11., 12., 13.,\n",
       "       14., 15., 16., 17., 18., 19., 20., 21., 22., 23., 24., 25., 26.,\n",
       "       27., 28., 29., 30., 31., 32., 33., 34., 35., 36., 37., 38., 39.,\n",
       "       40., 41., 42., 43., 44., 45., 46., 47., 48., 49., 50.])"
      ]
     },
     "execution_count": 581,
     "metadata": {},
     "output_type": "execute_result"
    }
   ],
   "source": [
    "xnew"
   ]
  },
  {
   "cell_type": "code",
   "execution_count": 582,
   "metadata": {},
   "outputs": [
    {
     "data": {
      "text/plain": [
       "[<matplotlib.lines.Line2D at 0x126a3e070>,\n",
       " <matplotlib.lines.Line2D at 0x126a3ee80>]"
      ]
     },
     "execution_count": 582,
     "metadata": {},
     "output_type": "execute_result"
    },
    {
     "data": {
      "image/png": "[encoded data removed]",
      "text/plain": [
       "<Figure size 432x288 with 1 Axes>"
      ]
     },
     "metadata": {
      "needs_background": "light"
     },
     "output_type": "display_data"
    }
   ],
   "source": [
    "xnew = np.arange(1,2e3,100)\n",
    "vf_new = new_sol.build_VF(xnew)\n",
    "\n",
    "plt.plot(X, VF, 'o', xnew, vf_new)"
   ]
  },
  {
   "cell_type": "code",
   "execution_count": 583,
   "metadata": {},
   "outputs": [
    {
     "data": {
      "text/plain": [
       "[<matplotlib.lines.Line2D at 0x1269fa5e0>,\n",
       " <matplotlib.lines.Line2D at 0x1269fab50>]"
      ]
     },
     "execution_count": 583,
     "metadata": {},
     "output_type": "execute_result"
    },
    {
     "data": {
      "image/png": "[encoded data removed]",
      "text/plain": [
       "<Figure size 432x288 with 1 Axes>"
      ]
     },
     "metadata": {
      "needs_background": "light"
     },
     "output_type": "display_data"
    }
   ],
   "source": [
    "cp_new = new_sol.build_CP(xnew)\n",
    "\n",
    "plt.plot(X, CP, 'o', xnew, cp_new)"
   ]
  },
  {
   "cell_type": "code",
   "execution_count": 584,
   "metadata": {},
   "outputs": [
    {
     "data": {
      "text/plain": [
       "[<matplotlib.lines.Line2D at 0x126a03970>,\n",
       " <matplotlib.lines.Line2D at 0x126853640>]"
      ]
     },
     "execution_count": 584,
     "metadata": {},
     "output_type": "execute_result"
    },
    {
     "data": {
      "image/png": "[encoded data removed]",
      "text/plain": [
       "<Figure size 432x288 with 1 Axes>"
      ]
     },
     "metadata": {
      "needs_background": "light"
     },
     "output_type": "display_data"
    }
   ],
   "source": [
    "wp_new = new_sol.build_WP(xnew)\n",
    "\n",
    "plt.plot(X, WP, 'o', xnew, wp_new)"
   ]
  },
  {
   "cell_type": "code",
   "execution_count": 585,
   "metadata": {},
   "outputs": [
    {
     "data": {
      "text/plain": [
       "[<matplotlib.lines.Line2D at 0x12694f5e0>,\n",
       " <matplotlib.lines.Line2D at 0x126be27f0>]"
      ]
     },
     "execution_count": 585,
     "metadata": {},
     "output_type": "execute_result"
    },
    {
     "data": {
      "image/png": "[encoded data removed]",
      "text/plain": [
       "<Figure size 432x288 with 1 Axes>"
      ]
     },
     "metadata": {
      "needs_background": "light"
     },
     "output_type": "display_data"
    }
   ],
   "source": [
    "xmax = 50\n",
    "xnew = np.linspace(1,xmax,50)\n",
    "xmax_idx = np.searchsorted(X, xmax, side='left') + 1\n",
    "vf_new = new_sol.build_VF(xnew)\n",
    "\n",
    "plt.plot(X[:xmax_idx], VF[:xmax_idx], 'o', xnew, vf_new)"
   ]
  },
  {
   "cell_type": "code",
   "execution_count": 586,
   "metadata": {},
   "outputs": [
    {
     "data": {
      "text/plain": [
       "[<matplotlib.lines.Line2D at 0x125b2ae80>,\n",
       " <matplotlib.lines.Line2D at 0x126a0c7c0>]"
      ]
     },
     "execution_count": 586,
     "metadata": {},
     "output_type": "execute_result"
    },
    {
     "data": {
      "image/png": "[encoded data removed]",
      "text/plain": [
       "<Figure size 432x288 with 1 Axes>"
      ]
     },
     "metadata": {
      "needs_background": "light"
     },
     "output_type": "display_data"
    }
   ],
   "source": [
    "cp_new = new_sol.build_CP(xnew)\n",
    "\n",
    "plt.plot(X[:xmax_idx], CP[:xmax_idx], 'o', xnew, cp_new)"
   ]
  },
  {
   "cell_type": "code",
   "execution_count": 587,
   "metadata": {},
   "outputs": [
    {
     "data": {
      "text/plain": [
       "[<matplotlib.lines.Line2D at 0x12697b7c0>,\n",
       " <matplotlib.lines.Line2D at 0x12524ee80>]"
      ]
     },
     "execution_count": 587,
     "metadata": {},
     "output_type": "execute_result"
    },
    {
     "data": {
      "image/png": "[encoded data removed]",
      "text/plain": [
       "<Figure size 432x288 with 1 Axes>"
      ]
     },
     "metadata": {
      "needs_background": "light"
     },
     "output_type": "display_data"
    }
   ],
   "source": [
    "wp_new = new_sol.build_WP(xnew)\n",
    "\n",
    "plt.plot(X[:xmax_idx], WP[:xmax_idx], 'o', xnew, wp_new)"
   ]
  },
  {
   "cell_type": "code",
   "execution_count": 588,
   "metadata": {},
   "outputs": [
    {
     "data": {
      "text/plain": [
       "array([], dtype=float64)"
      ]
     },
     "execution_count": 588,
     "metadata": {},
     "output_type": "execute_result"
    }
   ],
   "source": [
    "(cp_new/wp_new)[1000:1050]"
   ]
  }
 ],
 "metadata": {
  "kernelspec": {
   "display_name": "Python 3",
   "language": "python",
   "name": "python3"
  },
  "language_info": {
   "codemirror_mode": {
    "name": "ipython",
    "version": 3
   },
   "file_extension": ".py",
   "mimetype": "text/x-python",
   "name": "python",
   "nbconvert_exporter": "python",
   "pygments_lexer": "ipython3",
   "version": "3.8.8"
  }
 },
 "nbformat": 4,
 "nbformat_minor": 2
}
