{
 "cells": [
  {
   "cell_type": "markdown",
   "metadata": {},
   "source": [
    "# 7 Solution Methods to Solve the Growth Model with Python\n",
    "\n",
    "This notebook is part of a computational appendix that accompanies the paper\n",
    "\n",
    "> MATLAB, Python, Julia: What to Choose in Economics?\n",
    "> > Coleman, Lyon, Maliar, and Maliar (2017)\n",
    "\n",
    "In order to run the codes in this notebook you will need to install and configure a few Python packages. We recommend downloading [Anaconda](https://www.continuum.io/downloads) and/or following the instructions on [quantecon.org](https://lectures.quantecon.org/py/getting_started.html). Once your Python installation is up and running, there are a few additional packages you will need in order to run the code here. To do this, you should remove the `# ` in front of the following commands and run the block below."
   ]
  },
  {
   "cell_type": "code",
   "execution_count": 1800,
   "metadata": {
    "scrolled": true
   },
   "outputs": [],
   "source": [
    "# ! pip install git+https://github.com/EconForge/interpolation.py.git\n",
    "# ! pip install quantecon"
   ]
  },
  {
   "cell_type": "code",
   "execution_count": 1801,
   "metadata": {},
   "outputs": [],
   "source": [
    "import numpy as np\n",
    "import scipy.linalg as la\n",
    "import scipy.optimize as opt\n",
    "import time\n",
    "import quantecon as qe\n",
    "import matplotlib.pyplot as plt\n",
    "\n",
    "from collections import namedtuple\n",
    "from scipy.interpolate import interp1d, UnivariateSpline\n",
    "from scipy.misc import derivative\n",
    "from interpolation.complete_poly import (CompletePolynomial,\n",
    "                                         n_complete, complete_polynomial,\n",
    "                                         complete_polynomial_der,\n",
    "                                         _complete_poly_impl,\n",
    "                                         _complete_poly_impl_vec,\n",
    "                                         _complete_poly_der_impl,\n",
    "                                         _complete_poly_der_impl_vec)\n",
    "from numba import jit, vectorize"
   ]
  },
  {
   "cell_type": "markdown",
   "metadata": {},
   "source": [
    "## Model\n",
    "\n",
    "This section gives a short description of the commonly used stochastic Neoclassical growth model.\n",
    "\n",
    "There is a single infinitely-lived representative agent who consumes and saves using capital. The consumer discounts the future with factor $\\beta$ and derives utility from only consumption. Additionally, saved capital will depreciate at $\\delta$.\n",
    "\n",
    "The consumer has access to a Cobb-Douglas technology which uses capital saved from the previous period to produce and is subject to stochastic productivity shocks.\n",
    "\n",
    "Productivity shocks follow an AR(1) in logs.\n",
    "\n",
    "The agent's problem can be written recursively using the following Bellman equation\n",
    "\n",
    "\n",
    "$$\n",
    "\\begin{align}\n",
    "  V(k_t, z_t) &= \\max_{k_{t+1}} u(c_t) + \\beta E \\left[ V(k_{t+1}, z_{t+1}) \\right] \\\\\n",
    "  &\\text{subject to } \\\\\n",
    "  c_t &= z_t f(k_t) + (1 - \\delta) k_t - k_{t+1} \\\\\n",
    "  \\log z_{t+1} &= \\rho \\log z_t + \\sigma \\varepsilon\n",
    "\\end{align}\n",
    "$$\n",
    "\n",
    "$$\n",
    "\\begin{align*}\n",
    "    V(X, z) &= \\max_{\\tilde{c},\\tilde{s}} \\biggl\\{0,  u(c) + \\beta E \\bigl[V(X', z') \\bigr] \\biggr\\}\\\\\n",
    "    & \\text{ s.t. } \\tilde{c} \\geq 0; \\qquad \\tilde{s} \\geq 0 \\\\\n",
    "    & \\phantom{\\text{ s.t. } }N\\tilde{c} + N\\tilde{s} \\leq X \\\\\n",
    "    & \\phantom{\\text{ s.t. } } X' = \\max \\biggl\\{0, \\bigl[X - N\\tilde{c}  - N\\tilde{s} - z \\bigl(\\frac{\\tilde{c}}{\\tilde{s}}\\bigr)^\\phi \\bigr](1 + g_x) \\biggr\\} \\\\\n",
    "    & \\phantom{\\text{ s.t. } } u(\\tilde{c}) = \\bar{u} + \\ln(\\tilde{c}) \\\\\n",
    "    & \\phantom{\\text{ s.t. } } z \\sim Exp( \\bar{z} ) \n",
    "\\end{align*} \n",
    "$$"
   ]
  },
  {
   "cell_type": "markdown",
   "metadata": {},
   "source": [
    "## Python Code\n",
    "\n",
    "We begin by defining a `namedtuple` that contains the parameters of our model. This is useful to pass the parameters around to functions that are just-in-time (JIT) compiled by `numba`."
   ]
  },
  {
   "cell_type": "code",
   "execution_count": 1802,
   "metadata": {},
   "outputs": [],
   "source": [
    "#\n",
    "# Create a named tuple type that we can pass into the jitted functions\n",
    "# so that we don't have to pass parameters one by one\n",
    "#\n",
    "Params = namedtuple(\"Params\", [\"N\", \"beta\", \"g\", \"a_bar\", \"eta\", \"u_bar\"])\n",
    "\n",
    "@jit(nopython=True)\n",
    "def param_unpack(params):\n",
    "    \"Unpack parameters from the Params type\"\n",
    "    out = (params.N, params.beta, params.g,\n",
    "           params.a_bar, params.eta, params.u_bar)\n",
    "\n",
    "    return out"
   ]
  },
  {
   "cell_type": "markdown",
   "metadata": {},
   "source": [
    "We will then define various helper functions to ensure that we [don't repeat ourselves](https://lectures.quantecon.org/py/writing_good_code.html#don-t-repeat-yourself) and that the inner functions can be JIT compiled."
   ]
  },
  {
   "cell_type": "code",
   "execution_count": 1803,
   "metadata": {},
   "outputs": [],
   "source": [
    "#\n",
    "# Helper functions to make sure things are jitted\n",
    "#\n",
    "@vectorize(nopython=True)\n",
    "def u(c, eta, u_bar):\n",
    "    \"log utility function\"\n",
    "    return -1e10 if c < 1e-10 else (u_bar + np.log(c)) if eta==1 else (u_bar + (c**(1-eta)/(1-eta)))\n",
    "\n",
    "@vectorize(nopython=True)\n",
    "def du(c,eta):\n",
    "    \"Derivative of log utility function\"\n",
    "    return 1e10 if c < 1e-10 else c**(-eta)\n",
    "\n",
    "@vectorize(nopython=True)\n",
    "def duinv(u,eta):\n",
    "    \"Inverse of the derivative of the CRRA utility function\"\n",
    "    return u**(-1.0/eta )\n",
    "\n",
    "@vectorize(nopython=True)\n",
    "def f(X):\n",
    "    \"production function\"\n",
    "    return X\n",
    "\n",
    "@vectorize(nopython=True)\n",
    "def df(X):\n",
    "    \"Derivative of production function\"\n",
    "    return 1\n",
    "\n",
    "@vectorize(nopython=True)\n",
    "def discount_factor(beta, a_bar, c, w):\n",
    "    \"risk adjusted discount factor\"\n",
    "    return beta*a_bar*w/(c + a_bar*w)\n",
    "\n",
    "@vectorize(nopython=True)\n",
    "def next_x(X, N, g, c, w):\n",
    "    # next period's CPR given c and w\n",
    "    return (X - N*(c + w))*(1+g)"
   ]
  },
  {
   "cell_type": "markdown",
   "metadata": {},
   "source": [
    "This code block contains other functions that are useful for computing the policy using the envelope condition (to be discussed later), simulating, and computing Euler errors."
   ]
  },
  {
   "cell_type": "code",
   "execution_count": 1804,
   "metadata": {},
   "outputs": [],
   "source": [
    "@jit(nopython=True)\n",
    "def env_cond_kp(temp, params, degree, v_coeffs, Xt):\n",
    "    # Unpack parameters\n",
    "    N, beta, g, a_bar, eta, u_bar = param_unpack(params)\n",
    "\n",
    "    # Compute derivative of VF wrt k\n",
    "    _complete_poly_der_impl_vec(np.array([Xt, zt]), degree, 0, temp)\n",
    "\n",
    "    c = duinv(np.dot(temp, v_coeffs) / (1/N))\n",
    "\n",
    "    return expendables_t(Xt) - c\n",
    "\n",
    "\n",
    "@jit(nopython=True)\n",
    "def jit_simulate_ncgm(params, degree, v_coeffs, T, nburn, shocks):\n",
    "    \"Simulates economy using envelope condition as policy rule\"\n",
    "    # Unpack parameters\n",
    "    N, beta, g, a_bar, eta, u_bar = param_unpack(params)\n",
    "\n",
    "    # Allocate space for output\n",
    "    xsim = np.empty(T+nburn)\n",
    "    zsim = np.empty(T+nburn)\n",
    "    xsim[0], zsim[0] = 1.0, 1.0 # may need to modify initial values\n",
    "\n",
    "    # Allocate space for temporary vector to fill with complete polynomials\n",
    "    temp = np.empty(n_complete(2, degree))\n",
    "\n",
    "    # Simulate\n",
    "    for t in range(1, T+nburn):\n",
    "        # Evaluate policy for today given yesterdays state\n",
    "        xp = env_cond_kp(temp, params, degree, v_coeffs, xsim[t-1], zsim[t-1])\n",
    "        \n",
    "        # Draw new z and update k using policy from above\n",
    "        zsim[t] = shocks[t]\n",
    "        xsim[t] = kp\n",
    "\n",
    "    return xsim[nburn:], zsim[nburn:]\n",
    "\n",
    "\n",
    "@jit(nopython=True)\n",
    "def jit_ee(params, degree, v_coeffs, nodes, weights, xs, zs):\n",
    "    # Unpack parameters\n",
    "    N, beta, g, a_bar, eta, u_bar = param_unpack(params)\n",
    "\n",
    "    # Allocate space for temporary vector to fill with complete polynomials\n",
    "    temp = np.empty(n_complete(2, degree))\n",
    "    T = xs.size\n",
    "    Qn = weights.size\n",
    "\n",
    "    # Allocate space to store euler errors\n",
    "    ee = np.empty(T)\n",
    "\n",
    "    # Iterate over all ks and zs\n",
    "    for t in range(T):\n",
    "        # Current states\n",
    "        x, z = xs[t], zs[t]\n",
    "\n",
    "        # Compute decision for kp and implied c\n",
    "        x1 = env_cond_kp(temp, params, degree, v_coeffs, x, z)\n",
    "        c = expendables_t(k, z, A, alpha, delta) - k1\n",
    "\n",
    "        # Compute euler error for period t\n",
    "        lhs = du(c, gamma)\n",
    "        rhs = 0.0\n",
    "        for i in range(Qn):\n",
    "            # Get productivity tomorrow\n",
    "            z1 = z**rho * np.exp(nodes[i])\n",
    "\n",
    "            # Compute decision for kpp and implied c\n",
    "            k2 = env_cond_kp(temp, params, degree, v_coeffs, k1, z1)\n",
    "            c1 = expendables_t(k1, z1, A, alpha, delta) - k2\n",
    "            rhs = rhs + weights[i]*du(c1, gamma)*(1-delta+df(k1, z1, A, alpha))\n",
    "\n",
    "        ee[t] = np.abs(1.0 - beta*rhs/lhs)\n",
    "\n",
    "    return ee\n"
   ]
  },
  {
   "cell_type": "markdown",
   "metadata": {},
   "source": [
    "We also now define a class that contains\n",
    "\n",
    "1. Parameters of the growth model\n",
    "2. Grids used for approximating the solution\n",
    "3. Nodes and weights used to approximate integration\n",
    "\n",
    "This again helps us maintain all of the relevant information in one place and simplifies passing it to other functions."
   ]
  },
  {
   "cell_type": "code",
   "execution_count": 1805,
   "metadata": {},
   "outputs": [],
   "source": [
    "class Model(object):\n",
    "    \"\"\"\n",
    "    The stochastic Neoclassical Growth model contains\n",
    "    parameters which include\n",
    "\n",
    "    * alpha: Capital share in output\n",
    "    * beta: discount factor\n",
    "    * delta: depreciation rate\n",
    "    * gamma: risk aversion\n",
    "    * rho: persistence of the log productivity level\n",
    "    * sigma: standard deviation of shocks to log productivity\n",
    "    \"\"\"\n",
    "    def __init__(self, N=1, beta=1, g=0.1, a_bar=200, eta=1, u_bar=0,\n",
    "                 xmin=5, xmax=100, nx=20):\n",
    "        \n",
    "        # we want u_bar set so that u(X/(15*N), eta, u_bar) == 0 when X is at today's value (1)\n",
    "        \n",
    "        u_bar = -1*u(1/(15*N), eta, 0)\n",
    "        print('u_bar: ', u_bar)\n",
    "\n",
    "        # Household parameters\n",
    "        self.beta, self.eta, self.u_bar, = beta, eta, u_bar\n",
    "\n",
    "        # Firm/technology parameters\n",
    "        self.N, self.g, self.a_bar = N, g, a_bar\n",
    "\n",
    "        # Create t grids\n",
    "        self.xgrid = np.linspace(xmin, xmax, nx)\n",
    "        self.grid = np.reshape(self.xgrid, [self.xgrid.shape[0], 1])\n",
    "        \n",
    "        self.ns = nx\n",
    "        \n",
    "    def _unpack_params(self):\n",
    "        out = (self.N, self.beta, self.g, \n",
    "               self.a_bar, self.eta, self.u_bar)\n",
    "        return out\n",
    "\n",
    "    def _unpack_grids(self):\n",
    "        out = (self.xgrid, self.grid)\n",
    "        return out\n"
   ]
  },
  {
   "cell_type": "markdown",
   "metadata": {},
   "source": [
    "## Solution Methods\n",
    "\n",
    "In this notebook, we describe the following solution methods:\n",
    "\n",
    "* Conventional Value Function Iteration\n",
    "* Envelope Condition Value Function Iteration\n",
    "* Envelope Condition Derivative Value Function Iteration\n",
    "* Endogenous Grid Value Function Iteration\n",
    "* Conventional Policy Function Iteration\n",
    "* Envelope Condition Policy Function Iteration\n",
    "* Euler Equation Method\n",
    "\n",
    "Each of these solution methods will have a very similar structure that follows a few basic steps:\n",
    "\n",
    "1. Guess a function (either value function or policy function).\n",
    "2. Using this function, update our guess of both the value and policy functions.\n",
    "3. Check whether the function we guessed and what it was updated to are similar enough. If so, proceed. If not, return to step 2 using the updated functions.\n",
    "4. Output the policy and value functions.\n",
    "\n",
    "In order to reduce the amount of repeated code and keep the exposition as clean as possible (the notebook is plenty long as is...), we will define a class for each solution method that inherit various properties from a general solution parent class. The parent class will contain methods which apply to all of the other solution methods such as a general solve method, computing expectations, simulating, etc... This implementation may feel strange at first if one isn't familiar with object oriented programming, but these concepts can be powerful when properly used."
   ]
  },
  {
   "cell_type": "code",
   "execution_count": 1806,
   "metadata": {},
   "outputs": [],
   "source": [
    "class GeneralSolution:\n",
    "    \"\"\"\n",
    "    This is a general solution method. We define this, so that we can\n",
    "    sub-class it and define specific update methods for each particular\n",
    "    solution method\n",
    "    \"\"\"\n",
    "    def __init__(self, ncgm, degree=3, prev_sol=None):\n",
    "        # Save model, interp. approx. kind. and deriv. dx\n",
    "        self.ncgm, self.degree = ncgm, degree\n",
    "        self.s = 1 # smoothing factor\n",
    "\n",
    "        # Unpack some info from ncgm\n",
    "        N, beta, g, a_bar, eta, u_bar = self._unpack_params()\n",
    "        X = self.ncgm.xgrid\n",
    "\n",
    "        # Use parameter values from model to create a namedtuple with\n",
    "        # parameters saved inside\n",
    "        self.params = Params(N, beta, g, a_bar, eta, u_bar)\n",
    "\n",
    "        # Update to fill initial value and policy matrices\n",
    "        # If we give it another solution type then use it to\n",
    "        # generate values and policies\n",
    "        if issubclass(type(prev_sol), GeneralSolution):\n",
    "            self.CP = prev_sol.c_spline(X)\n",
    "            self.WP = prev_sol.w_spline(X)\n",
    "            self.VF = prev_sol.v_spline(X)\n",
    "        # If we give it a tuple then assume it is (policy, value) pair\n",
    "        elif type(prev_sol) is tuple:\n",
    "            self.CP = prev_sol[0]\n",
    "            self.WP = prev_sol[1]\n",
    "            self.VF = prev_sol[2]\n",
    "        # Otherwise guess a constant value function and a policy\n",
    "        # of roughly steady state\n",
    "        else:\n",
    "            # guess VF\n",
    "            self.VF = 2*u(X/N,eta, u_bar)  # np.ones(ncgm.ns)\n",
    "            \n",
    "            # make a guess\n",
    "            self.CP = X/(N*4)\n",
    "            self.WP = X/(N*4)\n",
    "\n",
    "\n",
    "        # Splines based on guesses\n",
    "#         self.c_spline = interp1d(X, self.CP, kind=self.interpolator, fill_value=\"extrapolate\")\n",
    "#         self.w_spline = interp1d(X, self.WP, kind=self.interpolator, fill_value=\"extrapolate\")\n",
    "#         self.v_spline = interp1d(X, self.VF, kind=self.interpolator, fill_value=\"extrapolate\")\n",
    "\n",
    "        self.c_spline = UnivariateSpline(X, self.CP, k=self.degree)\n",
    "        self.w_spline = UnivariateSpline(X, self.WP, k=self.degree)\n",
    "        self.v_spline = UnivariateSpline(X, self.VF, k=self.degree)\n",
    "\n",
    "\n",
    "    def _unpack_params(self):\n",
    "        return self.ncgm._unpack_params()\n",
    "\n",
    "    def build_VF(self):\n",
    "\n",
    "        VF = self.v_spline(self.ncgm.xgrid) \n",
    "\n",
    "        return VF\n",
    "\n",
    "    def build_CP(self):\n",
    "        \"\"\"\n",
    "        Using the current coefficients, this builds the policy function\n",
    "        for all states\n",
    "        \"\"\"\n",
    "        CP = self.c_spline(self.ncgm.xgrid) \n",
    "\n",
    "        return CP\n",
    "    \n",
    "    def build_WP(self):\n",
    "        \"\"\"\n",
    "        Using the current coefficients, this builds the policy function\n",
    "        for all states\n",
    "        \"\"\"\n",
    "        WP = self.w_spline(self.ncgm.xgrid)\n",
    "\n",
    "        return WP\n",
    "\n",
    "    def update_v(self, new_v_coeffs, dampen=0.5):\n",
    "        \"\"\"\n",
    "        Updates the coefficients for the value function\n",
    "        \"\"\"\n",
    "        self.v_coeffs = (1-dampen)*self.v_coeffs + dampen*new_v_coeffs\n",
    "\n",
    "        return None\n",
    "\n",
    "    def update_c(self, new_c_coeffs, dampen=0.5):\n",
    "        \"\"\"\n",
    "        Updates the coefficients for the policy function\n",
    "        \"\"\"\n",
    "        self.c_coeffs = (1-dampen)*self.c_coeffs + dampen*new_c_coeffs\n",
    "\n",
    "        return None\n",
    "    \n",
    "    def update_w(self, new_w_coeffs, dampen=0.5):\n",
    "        \"\"\"\n",
    "        Updates the coefficients for the policy function\n",
    "        \"\"\"\n",
    "        self.w_coeffs = (1-dampen)*self.w_coeffs + dampen*new_w_coeffs\n",
    "\n",
    "        return None\n",
    "\n",
    "    def update(self):\n",
    "        \"\"\"\n",
    "        Given the current state of everything in solution, update the\n",
    "        value and policy coefficients\n",
    "        \"\"\"\n",
    "        emsg = \"The update method is implemented in solution specific classes\"\n",
    "        emsg += \"\\nand cannot be called from `GeneralSolution`\"\n",
    "        raise ValueError(emsg)\n",
    "    \n",
    "    def compute_spline(self, cp, wp, VF, dampen=0.5, s=10.0):\n",
    "        self.c_spline = UnivariateSpline(\n",
    "            self.ncgm.xgrid, \n",
    "            ((1-dampen)*self.CP + dampen*cp), \n",
    "            k=self.degree,\n",
    "            s=s\n",
    "        )\n",
    "        self.w_spline = UnivariateSpline(\n",
    "            self.ncgm.xgrid, \n",
    "            ((1-dampen)*self.WP + dampen*wp), \n",
    "            k=self.degree,\n",
    "            s=s,\n",
    "        )\n",
    "        self.v_spline = UnivariateSpline(\n",
    "            self.ncgm.xgrid, \n",
    "            ((1-dampen)*self.VF + dampen*VF), \n",
    "            k=self.degree,\n",
    "            s=s\n",
    "        )\n",
    "      \n",
    "        return None\n",
    "\n",
    "    def compute_coefficients(self, cp, wp, VF):\n",
    "        \"\"\"\n",
    "        Given a policy and value return corresponding coefficients\n",
    "        \"\"\"\n",
    "        new_c_coeffs = la.lstsq(self.Phi, cp)[0]\n",
    "        new_w_coeffs = la.lstsq(self.Phi, wp)[0]\n",
    "        new_v_coeffs = la.lstsq(self.Phi, VF)[0]\n",
    "\n",
    "        return new_c_coeffs, new_w_coeffs, new_v_coeffs\n",
    "\n",
    "    def compute_EV_scalar(self, Xn):\n",
    "        phi = complete_polynomial(np.vstack([Xn]), self.degree).T\n",
    "        val = (phi@self.v_coeffs)[0]\n",
    "        \n",
    "        return val\n",
    "\n",
    "    def compute_dEV_scalar(self, Xn):\n",
    "        dphi = complete_polynomial_der(np.vstack([Xn]), self.degree,0).T\n",
    "        val = (dphi@self.v_coeffs)[0]\n",
    "        \n",
    "        return val \n",
    "\n",
    "    def compute_EV(self, Xn=None):\n",
    "        \"\"\"\n",
    "        Compute the expected value\n",
    "        \"\"\"\n",
    "        if Xn is None:\n",
    "            # Unpack parameters\n",
    "            N, beta, g, a_bar, eta, u_bar = self._unpack_params()\n",
    "\n",
    "            # Use policy to compute cp and wp\n",
    "            cp =  self.c_spline(self.ncgm.xgrid) \n",
    "            wp =  self.w_spline(self.ncgm.xgrid) \n",
    "            Xn = next_x(self.ncgm.xgrid, N, g, cp, wp)\n",
    "        \n",
    "        EV = self.v_spline(Xn) \n",
    "        \n",
    "        return EV\n",
    "\n",
    "\n",
    "    def compute_dEV(self, Xn=None):\n",
    "        \"\"\"\n",
    "        Compute the derivative of the expected value\n",
    "        \"\"\"\n",
    "        if Xn is None:\n",
    "            # Unpack parameters\n",
    "            N, beta, g, a_bar, eta, u_bar = self._unpack_params()\n",
    "\n",
    "            # Use policy to compute cp and wp\n",
    "            cp =  self.c_spline(self.ncgm.xgrid) \n",
    "            wp =  self.w_spline(self.ncgm.xgrid) \n",
    "            Xn = next_x(self.ncgm.xgrid, N, g, cp, wp)\n",
    "            \n",
    "        dEV = self.v_spline.derivative()(Xn)\n",
    "\n",
    "        return dEV\n",
    "\n",
    "    def envelope_policy(self):\n",
    "        \"\"\"\n",
    "        Applies the envelope condition to compute the policy for\n",
    "        k_{t+1} at every point on the grid\n",
    "        \"\"\"\n",
    "        # Unpack parameters\n",
    "        A, alpha, beta, delta, gamma, rho, sigma = self._unpack_params()\n",
    "        grid = self.ncgm.grid\n",
    "        k, z = grid[:, 0], grid[:, 1]\n",
    "\n",
    "        dV = self.dPhi@self.v_coeffs\n",
    "\n",
    "        # Compute the consumption\n",
    "        temp = dV / (1 - delta + df(k, z, A, alpha))\n",
    "        c = duinv(temp, gamma)\n",
    "\n",
    "        return expendables_t(k, z, A, alpha, delta) - c\n",
    "\n",
    "    def compute_distance(self, cp, wp, VF):\n",
    "        \"\"\"\n",
    "        Computes distance between policy functions\n",
    "        \"\"\"\n",
    "#         return np.max([\n",
    "#             np.max(np.abs(1.0 - (cp+1e-12)/(self.CP+1e-12))), \n",
    "#             np.max(np.abs(1.0 - (wp+1e-12)/(self.WP+1e-12)))\n",
    "#         ])\n",
    "        return np.max(np.abs(1.0 - cp/self.CP))\n",
    "\n",
    "    def solve(self, tol=1e-6, maxiter=2500, verbose=True, nskipprint=25):\n",
    "        # Iterate until convergence\n",
    "        dist, it = 10.0, 0\n",
    "        while (dist>tol) and (it<maxiter):\n",
    "            # Run solution specific update code\n",
    "            cp, wp, VF = self.update()\n",
    "\n",
    "            # Compute new policy and value coeffs\n",
    "            self.compute_spline(cp, wp, VF)\n",
    "\n",
    "            # Update distance and iterations\n",
    "            dist = self.compute_distance(cp, wp, VF)\n",
    "            self.CP, self.WP, self.VF = cp, wp, VF\n",
    "            it += 1\n",
    "            if verbose and it%nskipprint == 0:\n",
    "                print(it, dist)\n",
    "\n",
    "        # After finishing iteration, iterate to convergence using policy\n",
    "        if not isinstance(self, IterateOnPolicy):\n",
    "            sol_iop = IterateOnPolicy(self.ncgm, self.degree, self)\n",
    "            cp, wp, VF = sol_iop.solve(tol=tol)\n",
    "            self.v_spline = sol_iop.compute_spline(cp, wp, VF)\n",
    "            \n",
    "            # Save final versions of everything\n",
    "            self.CP, self.WP, self.VF = cp, wp, VF\n",
    "\n",
    "        return self.CP, self.WP, self.VF\n",
    "\n",
    "    def simulate(self, T=10000, nburn=200, shocks=None, seed=42):\n",
    "        \"\"\"\n",
    "        Simulates the neoclassical growth model with policy function\n",
    "        given by self.KP. Simulates for `T` periods and discarsd first\n",
    "        nburn `observations`\n",
    "        \"\"\"\n",
    "        if shocks is None:\n",
    "            np.random.seed(seed)\n",
    "            shocks = np.random.exponential(self.z_bar, T+nburn)\n",
    "\n",
    "        return jit_simulate_ncgm(self.params, self.degree, self.v_coeffs,\n",
    "                                 T, nburn, shocks)\n",
    "\n",
    "    def ee_residuals(self, ksim=None, zsim=None, Qn=10, seed=42):\n",
    "        \"\"\"\n",
    "        Computes the Euler Equation residuals of a simulated capital and\n",
    "        productivity levels (ksim and zsim) and uses Qn nodes for computing\n",
    "        the expectation\n",
    "        \"\"\"\n",
    "        if (ksim is None) or (zsim is None):\n",
    "            ksim, zsim = self.simulate(T=10000, nburn=200, seed=seed)\n",
    "\n",
    "        nodes, weights = qe.quad.qnwnorm(Qn, 0.0, self.ncgm.sigma**2)\n",
    "        ee = jit_ee(self.params, self.degree, self.v_coeffs,\n",
    "                    nodes, weights, ksim, zsim)\n",
    "\n",
    "        return np.log10(np.mean(ee)), np.log10(np.max(ee))\n"
   ]
  },
  {
   "cell_type": "markdown",
   "metadata": {},
   "source": [
    "### Iterating to Convergence (given policy)\n",
    "\n",
    "This isn't one of the methods described above, but it is used as an element of a few of our methods (and also as a way to get a first guess at the value function). This method takes an initial policy function, $\\bar{k}(k_t, z_t)$, as given, and then, without changing the policy, iterates until the value function has converged.\n",
    "\n",
    "Thus the \"update section\" of the algorithm in this instance would be:\n",
    "\n",
    "* Leave policy function unchanged\n",
    "* At each point of grid, $(k_t, z_t)$, compute $\\hat{V}(k_t, z_t) = u(c(\\bar{k}(k_t, z_t))) + \\beta E \\left[ V(\\bar{k}(k_t, z_t), z_{t+1}) \\right]$\n",
    "\n",
    "We override two of the methods from `GeneralSolution`\n",
    "\n",
    "* `compute_distance` because when we are iterating to convergence on the value function we want to check distnace using value function rather than policy function\n",
    "* `compute_coefficients` because we don't need to update the policy functions coefficients.\n",
    "\n",
    "The `update` method just repeatedly applies a particular policy function to update the value function."
   ]
  },
  {
   "cell_type": "code",
   "execution_count": 1807,
   "metadata": {},
   "outputs": [],
   "source": [
    "class IterateOnPolicy(GeneralSolution):\n",
    "    \"\"\"\n",
    "    Subclass of the general solution method. The update method for this\n",
    "    class simply computes the fixed point of the value function given\n",
    "    a specific policy\n",
    "    \"\"\"\n",
    "    def compute_distance(self, cp, wp, VF):\n",
    "        \"\"\"\n",
    "        Computes distance between policy functions. When we are\n",
    "        iterating on a specific policy, we would like to compute\n",
    "        distances by the difference between VFs\n",
    "        \"\"\"\n",
    "        dist = np.max(np.abs(1.0 - (VF)/(self.VF)))\n",
    "\n",
    "        return dist\n",
    "\n",
    "    def compute_coefficients(self, cp, wp, VF):\n",
    "        \"\"\"\n",
    "        Given a policy and value return corresponding coefficients.\n",
    "        When we are iterating on a specific policy, we don't want to\n",
    "        update the policy coefficients.\n",
    "        \"\"\"\n",
    "        new_v_coeffs = la.lstsq(self.Phi, VF)[0]\n",
    "\n",
    "        return self.c_coeffs, self.w_coeffs, new_v_coeffs\n",
    "    \n",
    "    def compute_spline(self, cp, wp, VF, dampen=0.5, s=10.0):\n",
    "        self.v_spline = UnivariateSpline(\n",
    "            self.ncgm.xgrid, \n",
    "            ((1-dampen)*self.VF + dampen*VF), \n",
    "            k=self.degree,\n",
    "            s=s\n",
    "        )\n",
    "        \n",
    "        return self.v_spline\n",
    "\n",
    "    def update(self):\n",
    "        # Unpack parameters\n",
    "        N, beta, g, a_bar, eta, u_bar = self._unpack_params()\n",
    "        X = self.ncgm.xgrid\n",
    "        \n",
    "        Xn = next_x(X, N, g, self.CP, self.WP)\n",
    "\n",
    "        # Update the value function\n",
    "        EV = self.compute_EV(Xn)\n",
    "        VF = u(self.CP, eta, u_bar) + beta*np.maximum(self.compute_EV(Xn), np.zeros(self.ncgm.ns))\n",
    "        \n",
    "#         VF_exterior = u(X/N, eta, u_bar)\n",
    "        \n",
    "#         VF[VF < VF_exterior] = VF_exterior[VF < VF_exterior]\n",
    "#         self.CP[VF < VF_exterior] = (X/N)[VF < VF_exterior]\n",
    "#         self.WP[VF < VF_exterior] = self.WP[VF < VF_exterior]*0\n",
    "        \n",
    "\n",
    "        return self.CP, self.WP, VF\n"
   ]
  },
  {
   "cell_type": "markdown",
   "metadata": {},
   "source": [
    "### Conventional Value Function Iteration\n",
    "\n",
    "This is one of the first solution methods for macroeconomics a graduate student in economics typically learns.\n",
    "\n",
    "In this solution method, one takes as given a value function, $V(k_t, z_t)$, and then solves for the optimal policy given the value function.\n",
    "\n",
    "The update section takes the form:\n",
    "\n",
    "* For each point, $(k_t, z_t)$, numerically solve for $c^*(k_t, z_t)$ to satisfy the first order condition $u'(c^*) = \\beta E \\left[ V_1((1 - \\delta) k_t + z_t f(k_t) - c^*, z_{t+1}) \\right]$\n",
    "* Define $k^*(k_t, z_t) = (1 - \\delta) k_t + z_t f(k_t) - c^*(k_t, z_t)$\n",
    "* Update value function according to $\\hat{V}(k_t, z_t) = u(c^*(k_t, z_t)) + \\beta E \\left[ V(k^*(k_t, z_t), z_{t+1}) \\right]$\n",
    "\n",
    "\n",
    "* For each point, $(X_t, z_t)$, numerically solve for $c^*(X_t, z_t)$ to satisfy the first order condition $u'(\\tilde{c}^\\ast) = \\beta E \\left[ V_1((1 - \\delta) k_t + z_t f(k_t) - c^*, z_{t+1}) \\right]$\n",
    "* Define $k^*(k_t, z_t) = (1 - \\delta) k_t + z_t f(k_t) - c^*(k_t, z_t)$\n",
    "* Update value function according to $\\hat{V}(k_t, z_t) = u(c^*(k_t, z_t)) + \\beta E \\left[ V(k^*(k_t, z_t), z_{t+1}) \\right]$\n",
    "\n",
    "\n"
   ]
  },
  {
   "cell_type": "code",
   "execution_count": 1808,
   "metadata": {},
   "outputs": [],
   "source": [
    "class VFI(GeneralSolution):\n",
    "    \"\"\"\n",
    "    Updates the coefficients and value functions using the VFI\n",
    "    method\n",
    "    \"\"\"\n",
    "    def update(self):\n",
    "        \"\"\"\n",
    "        Updates the coefficients and value functions using the VFI_ECM\n",
    "        method\n",
    "        \"\"\"\n",
    "        # Unpack parameters\n",
    "        N, beta, g, a_bar, eta, u_bar = self._unpack_params()\n",
    "        grid = self.ncgm.grid\n",
    "        n_state = grid.shape[0]\n",
    "\n",
    "        # Get the policy and update it\n",
    "        cp = np.empty(n_state)\n",
    "        wp = np.empty(n_state)\n",
    "        VF = np.empty(n_state)\n",
    "        for i_s in range(n_state):\n",
    "            # Pull out current vals\n",
    "            X = grid[i_s, :][0]\n",
    "            \n",
    "            # objective function to minimize \n",
    "            def _f(CW):\n",
    "                c = CW[0]\n",
    "                w = CW[1]\n",
    "                \n",
    "                Xn = next_x(X, N, g, c, w)\n",
    "                EV = float(self.compute_EV(Xn))\n",
    "                dEV = self.compute_dEV(Xn)\n",
    "                \n",
    "#                 return (\n",
    "#                     du(c, eta) - EV*beta*(a_bar*(c+w))/((c + a_bar*w)**2)\n",
    "#                 )**2\n",
    "                \n",
    "                return (\n",
    "                    du(c, eta) - (beta*a_bar*w/(c + a_bar*w))*((EV/(c + a_bar*w)) + N*(1+g)*dEV)\n",
    "                )**2 + (\n",
    "                    (c/(c + a_bar*w))*EV - w*N*(1+g)*dEV\n",
    "                )**2\n",
    "                 \n",
    "            \n",
    "            A=[[1,1],[1,0],[0,1]]\n",
    "            lbnd=1e6\n",
    "            upbnd=X/N\n",
    "            x0 = [0.01,0.01]\n",
    "            \n",
    "            cons = opt.LinearConstraint(A, lbnd, upbnd)\n",
    "            \n",
    "            # minimize objective\n",
    "            [_cp, _wp] = opt.minimize(_f, x0, method=\"COBYLA\", constraints=cons).x\n",
    "            \n",
    "            Xn = next_x(X, N, g, _cp, _wp)\n",
    "            EV = float(self.compute_EV(Xn))\n",
    "            \n",
    "            VF_corner = u(X/N, eta, u_bar)\n",
    "            VF_interior = u(_cp, eta, u_bar)+beta*EV\n",
    "            \n",
    "            if VF_corner > VF_interior:\n",
    "                cp[i_s] = X/N\n",
    "                wp[i_s] = 0\n",
    "                VF[i_s] = VF_corner\n",
    "            else:                \n",
    "                cp[i_s] = _cp\n",
    "                wp[i_s] = _wp\n",
    "                VF[i_s] = VF_interior\n",
    "\n",
    "        return cp, wp, VF\n",
    "\n",
    "    \n"
   ]
  },
  {
   "cell_type": "markdown",
   "metadata": {},
   "source": [
    "## A Horse Race\n",
    "\n",
    "We can now run a horse race to compare the methods in terms of both accuracy and speed."
   ]
  },
  {
   "cell_type": "raw",
   "metadata": {},
   "source": [
    "ncgm = NeoclassicalGrowth()\n",
    "\n",
    "# First guess\n",
    "vp = IterateOnPolicy(ncgm, 2)\n",
    "vp.solve(tol=1e-9)\n",
    "\n",
    "np.random.seed(61089)\n",
    "shocks = np.random.randn(10200)\n",
    "\n",
    "for sol_method in [VFI, VFI_ECM, VFI_EGM, PFI, PFI_ECM, dVFI_ECM, EulEq]:\n",
    "\n",
    "    # Set prev sol as iterate on policy\n",
    "    new_sol = vp\n",
    "    print(\"Solution Method: {}\\n\".format(sol_method))\n",
    "\n",
    "    for d in range(2, 6):\n",
    "        new_sol = sol_method(ncgm, d, new_sol)\n",
    "        ts = time.time()\n",
    "        new_sol.solve(tol=1e-9, verbose=False, nskipprint=25)\n",
    "        time_took = time.time() - ts\n",
    "        print(\"\\tDegree {} took {}\\n\".format(d, time_took))\n",
    "\n",
    "        # Compute Euler Errors\n",
    "        ks, zs = new_sol.simulate(10000, 200, shocks=shocks)\n",
    "        mean_ee, max_ee = new_sol.ee_residuals(ks, zs, Qn=10)\n",
    "        print(\"\\t\\tMean and Max EE are {} & {}\\n\".format(mean_ee, max_ee))\n",
    "        new_sol = new_sol"
   ]
  },
  {
   "cell_type": "code",
   "execution_count": 1809,
   "metadata": {
    "scrolled": false
   },
   "outputs": [
    {
     "name": "stdout",
     "output_type": "stream",
     "text": [
      "u_bar:  2.70805020110221\n",
      "25 0.009970629402428433\n",
      "50 0.0015506242736915699\n",
      "vp done\n",
      "25 0.013163799148234512\n"
     ]
    }
   ],
   "source": [
    "ncgm = Model()\n",
    "\n",
    "# First guess\n",
    "vp = IterateOnPolicy(ncgm, 2)\n",
    "vp.solve(tol=1e-3)\n",
    "\n",
    "np.random.seed(61089)\n",
    "\n",
    "\n",
    "print('vp done')\n",
    "# interpolator='cubic' # 'kind' option from scipy.interpolate.interp1d (https://docs.scipy.org/doc/scipy/reference/generated/scipy.interpolate.interp1d.html)\n",
    "degree = 3\n",
    "new_sol = vp\n",
    "new_sol = VFI(ncgm, degree, new_sol)\n",
    "ts = time.time()\n",
    "new_sol.solve(tol=1e-2, verbose=True, nskipprint=25)\n",
    "time_took = time.time() - ts\n",
    "\n"
   ]
  },
  {
   "cell_type": "code",
   "execution_count": 1810,
   "metadata": {},
   "outputs": [
    {
     "data": {
      "text/plain": [
       "array([0.09130238, 0.07942048, 0.06847591, 0.05846866, 0.04939873,\n",
       "       0.04126614, 0.03407086, 0.02781292, 0.0224923 , 0.018109  ,\n",
       "       0.01466303, 0.01215439, 0.01058307, 0.00994908, 0.01025241,\n",
       "       0.01149307, 0.01367106, 0.01678637, 0.020839  , 0.02582896])"
      ]
     },
     "execution_count": 1810,
     "metadata": {},
     "output_type": "execute_result"
    }
   ],
   "source": [
    "from scipy.interpolate import interp1d\n",
    "from scipy.misc import derivative\n",
    "X = new_sol.ncgm.xgrid\n",
    "VF = new_sol.VF\n",
    "v_spl = new_sol.v_spline\n",
    "v_spl.derivative()(X)"
   ]
  },
  {
   "cell_type": "code",
   "execution_count": 1811,
   "metadata": {},
   "outputs": [
    {
     "data": {
      "text/plain": [
       "array([35.95774481, 36.38416142, 36.75351184, 37.0704827 , 37.33976062,\n",
       "       37.56603224, 37.75398419, 37.90830309, 38.03367557, 38.13478826,\n",
       "       38.21632779, 38.28298079, 38.33943388, 38.3903737 , 38.44048688,\n",
       "       38.49446003, 38.55697979, 38.6327328 , 38.72640567, 38.84268503])"
      ]
     },
     "execution_count": 1811,
     "metadata": {},
     "output_type": "execute_result"
    }
   ],
   "source": [
    "v_spl(X)"
   ]
  },
  {
   "cell_type": "code",
   "execution_count": 1812,
   "metadata": {},
   "outputs": [],
   "source": [
    "v_spl = new_sol.v_spline"
   ]
  },
  {
   "cell_type": "code",
   "execution_count": 1813,
   "metadata": {},
   "outputs": [
    {
     "data": {
      "text/plain": [
       "array([  5.,  10.,  15.,  20.,  25.,  30.,  35.,  40.,  45.,  50.,  55.,\n",
       "        60.,  65.,  70.,  75.,  80.,  85.,  90.,  95., 100.])"
      ]
     },
     "execution_count": 1813,
     "metadata": {},
     "output_type": "execute_result"
    }
   ],
   "source": [
    "X"
   ]
  },
  {
   "cell_type": "code",
   "execution_count": 1814,
   "metadata": {},
   "outputs": [
    {
     "data": {
      "text/plain": [
       "array([35.77448473, 36.46763191, 36.87309702, 37.16077909, 37.38392265,\n",
       "       37.5662442 , 37.72039488, 37.85392627, 37.97170931, 38.07706983,\n",
       "       38.17238001, 38.25939138, 38.33943409, 38.41354206, 38.48253493,\n",
       "       38.54707345, 38.60769808, 38.66485649, 38.71892371, 38.77021701])"
      ]
     },
     "execution_count": 1814,
     "metadata": {},
     "output_type": "execute_result"
    }
   ],
   "source": [
    "new_sol.VF"
   ]
  },
  {
   "cell_type": "code",
   "execution_count": 1815,
   "metadata": {},
   "outputs": [
    {
     "data": {
      "text/plain": [
       "array([35.95774481, 36.38416142, 36.75351184, 37.0704827 , 37.33976062,\n",
       "       37.56603224, 37.75398419, 37.90830309, 38.03367557, 38.13478826,\n",
       "       38.21632779, 38.28298079, 38.33943388, 38.3903737 , 38.44048688,\n",
       "       38.49446003, 38.55697979, 38.6327328 , 38.72640567, 38.84268503])"
      ]
     },
     "execution_count": 1815,
     "metadata": {},
     "output_type": "execute_result"
    }
   ],
   "source": [
    "new_sol.v_spline(X)"
   ]
  },
  {
   "cell_type": "code",
   "execution_count": 1816,
   "metadata": {},
   "outputs": [
    {
     "data": {
      "text/plain": [
       "array([0., 0., 0., 0., 0., 0., 0., 0., 0., 0., 0., 0., 0., 0., 0., 0., 0.,\n",
       "       0., 0., 0.])"
      ]
     },
     "execution_count": 1816,
     "metadata": {},
     "output_type": "execute_result"
    }
   ],
   "source": [
    "new_sol.WP"
   ]
  },
  {
   "cell_type": "code",
   "execution_count": 1817,
   "metadata": {},
   "outputs": [
    {
     "data": {
      "text/plain": [
       "array([0., 0., 0., 0., 0., 0., 0., 0., 0., 0., 0., 0., 0., 0., 0., 0., 0.,\n",
       "       0., 0., 0.])"
      ]
     },
     "execution_count": 1817,
     "metadata": {},
     "output_type": "execute_result"
    }
   ],
   "source": [
    "new_sol.w_spline(X)"
   ]
  },
  {
   "cell_type": "code",
   "execution_count": 1818,
   "metadata": {},
   "outputs": [
    {
     "data": {
      "text/plain": [
       "array([  5.,  10.,  15.,  20.,  25.,  30.,  35.,  40.,  45.,  50.,  55.,\n",
       "        60.,  65.,  70.,  75.,  80.,  85.,  90.,  95., 100.])"
      ]
     },
     "execution_count": 1818,
     "metadata": {},
     "output_type": "execute_result"
    }
   ],
   "source": [
    "new_sol.CP"
   ]
  },
  {
   "cell_type": "code",
   "execution_count": 1819,
   "metadata": {},
   "outputs": [
    {
     "data": {
      "text/plain": [
       "array([  5.,  10.,  15.,  20.,  25.,  30.,  35.,  40.,  45.,  50.,  55.,\n",
       "        60.,  65.,  70.,  75.,  80.,  85.,  90.,  95., 100.])"
      ]
     },
     "execution_count": 1819,
     "metadata": {},
     "output_type": "execute_result"
    }
   ],
   "source": [
    "new_sol.c_spline(X)"
   ]
  },
  {
   "cell_type": "code",
   "execution_count": 1820,
   "metadata": {},
   "outputs": [
    {
     "data": {
      "text/plain": [
       "array([ 2.5,  5. ,  7.5, 10. , 12.5, 15. , 17.5, 20. , 22.5, 25. , 27.5,\n",
       "       30. , 32.5, 35. , 37.5, 40. , 42.5, 45. , 47.5, 50. ])"
      ]
     },
     "execution_count": 1820,
     "metadata": {},
     "output_type": "execute_result"
    }
   ],
   "source": [
    "X/2"
   ]
  },
  {
   "cell_type": "code",
   "execution_count": 1821,
   "metadata": {},
   "outputs": [
    {
     "data": {
      "text/plain": [
       "[<matplotlib.lines.Line2D at 0x12bdc9550>,\n",
       " <matplotlib.lines.Line2D at 0x12bdc93d0>]"
      ]
     },
     "execution_count": 1821,
     "metadata": {},
     "output_type": "execute_result"
    },
    {
     "data": {
      "image/png": "[encoded data removed]",
      "text/plain": [
       "<Figure size 432x288 with 1 Axes>"
      ]
     },
     "metadata": {
      "needs_background": "light"
     },
     "output_type": "display_data"
    }
   ],
   "source": [
    "xnew = np.arange(0,1000, 10)\n",
    "vf_new = v_spl(xnew)\n",
    "\n",
    "plt.plot(X, VF, 'o', xnew, vf_new)"
   ]
  },
  {
   "cell_type": "code",
   "execution_count": null,
   "metadata": {},
   "outputs": [],
   "source": []
  }
 ],
 "metadata": {
  "kernelspec": {
   "display_name": "Python 3",
   "language": "python",
   "name": "python3"
  },
  "language_info": {
   "codemirror_mode": {
    "name": "ipython",
    "version": 3
   },
   "file_extension": ".py",
   "mimetype": "text/x-python",
   "name": "python",
   "nbconvert_exporter": "python",
   "pygments_lexer": "ipython3",
   "version": "3.8.8"
  }
 },
 "nbformat": 4,
 "nbformat_minor": 2
}
