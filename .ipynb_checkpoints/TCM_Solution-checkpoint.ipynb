{
 "cells": [
  {
   "cell_type": "markdown",
   "metadata": {},
   "source": [
    "# 7 Solution Methods to Solve the Growth Model with Python\n",
    "\n",
    "This notebook is part of a computational appendix that accompanies the paper\n",
    "\n",
    "> MATLAB, Python, Julia: What to Choose in Economics?\n",
    "> > Coleman, Lyon, Maliar, and Maliar (2017)\n",
    "\n",
    "In order to run the codes in this notebook you will need to install and configure a few Python packages. We recommend downloading [Anaconda](https://www.continuum.io/downloads) and/or following the instructions on [quantecon.org](https://lectures.quantecon.org/py/getting_started.html). Once your Python installation is up and running, there are a few additional packages you will need in order to run the code here. To do this, you should remove the `# ` in front of the following commands and run the block below."
   ]
  },
  {
   "cell_type": "code",
   "execution_count": 865,
   "metadata": {
    "scrolled": true
   },
   "outputs": [],
   "source": [
    "# ! pip install git+https://github.com/EconForge/interpolation.py.git\n",
    "# ! pip install quantecon\n",
    "# ! pip install csaps"
   ]
  },
  {
   "cell_type": "code",
   "execution_count": 866,
   "metadata": {},
   "outputs": [],
   "source": [
    "import numpy as np\n",
    "import scipy.linalg as la\n",
    "import scipy.optimize as opt\n",
    "import time\n",
    "import quantecon as qe\n",
    "import matplotlib.pyplot as plt\n",
    "\n",
    "from collections import namedtuple\n",
    "from scipy.interpolate import interp1d, UnivariateSpline\n",
    "from scipy.misc import derivative\n",
    "from interpolation.complete_poly import (CompletePolynomial,\n",
    "                                         n_complete, complete_polynomial,\n",
    "                                         complete_polynomial_der,\n",
    "                                         _complete_poly_impl,\n",
    "                                         _complete_poly_impl_vec,\n",
    "                                         _complete_poly_der_impl,\n",
    "                                         _complete_poly_der_impl_vec)\n",
    "from numba import jit, vectorize"
   ]
  },
  {
   "cell_type": "markdown",
   "metadata": {},
   "source": [
    "## Model\n",
    "\n",
    "This section gives a short description of the commonly used stochastic Neoclassical growth model.\n",
    "\n",
    "There is a single infinitely-lived representative agent who consumes and saves using capital. The consumer discounts the future with factor $\\beta$ and derives utility from only consumption. Additionally, saved capital will depreciate at $\\delta$.\n",
    "\n",
    "The consumer has access to a Cobb-Douglas technology which uses capital saved from the previous period to produce and is subject to stochastic productivity shocks.\n",
    "\n",
    "Productivity shocks follow an AR(1) in logs.\n",
    "\n",
    "The agent's problem can be written recursively using the following Bellman equation\n",
    "\n",
    "\n",
    "$$\n",
    "\\begin{align}\n",
    "  V(k_t, z_t) &= \\max_{k_{t+1}} u(c_t) + \\beta E \\left[ V(k_{t+1}, z_{t+1}) \\right] \\\\\n",
    "  &\\text{subject to } \\\\\n",
    "  c_t &= z_t f(k_t) + (1 - \\delta) k_t - k_{t+1} \\\\\n",
    "  \\log z_{t+1} &= \\rho \\log z_t + \\sigma \\varepsilon\n",
    "\\end{align}\n",
    "$$\n",
    "\n",
    "$$\n",
    "\\begin{align*}\n",
    "    V(X, z) &= \\max_{\\tilde{c},\\tilde{s}} \\biggl\\{0,  u(c) + \\beta E \\bigl[V(X', z') \\bigr] \\biggr\\}\\\\\n",
    "    & \\text{ s.t. } \\tilde{c} \\geq 0; \\qquad \\tilde{s} \\geq 0 \\\\\n",
    "    & \\phantom{\\text{ s.t. } }N\\tilde{c} + N\\tilde{s} \\leq X \\\\\n",
    "    & \\phantom{\\text{ s.t. } } X' = \\max \\biggl\\{0, \\bigl[X - N\\tilde{c}  - N\\tilde{s} - z \\bigl(\\frac{\\tilde{c}}{\\tilde{s}}\\bigr)^\\phi \\bigr](1 + g_x) \\biggr\\} \\\\\n",
    "    & \\phantom{\\text{ s.t. } } u(\\tilde{c}) = \\bar{u} + \\ln(\\tilde{c}) \\\\\n",
    "    & \\phantom{\\text{ s.t. } } z \\sim Exp( \\bar{z} ) \n",
    "\\end{align*} \n",
    "$$"
   ]
  },
  {
   "cell_type": "markdown",
   "metadata": {},
   "source": [
    "## Python Code\n",
    "\n",
    "We begin by defining a `namedtuple` that contains the parameters of our model. This is useful to pass the parameters around to functions that are just-in-time (JIT) compiled by `numba`."
   ]
  },
  {
   "cell_type": "code",
   "execution_count": 867,
   "metadata": {},
   "outputs": [],
   "source": [
    "#\n",
    "# Create a named tuple type that we can pass into the jitted functions\n",
    "# so that we don't have to pass parameters one by one\n",
    "#\n",
    "Params = namedtuple(\"Params\", [\"N\", \"beta\", \"g\", \"a_bar\", \"eta\", \"u_bar\"])\n",
    "\n",
    "@jit(nopython=True)\n",
    "def param_unpack(params):\n",
    "    \"Unpack parameters from the Params type\"\n",
    "    out = (params.N, params.beta, params.g,\n",
    "           params.a_bar, params.eta, params.u_bar)\n",
    "\n",
    "    return out"
   ]
  },
  {
   "cell_type": "markdown",
   "metadata": {},
   "source": [
    "We will then define various helper functions to ensure that we [don't repeat ourselves](https://lectures.quantecon.org/py/writing_good_code.html#don-t-repeat-yourself) and that the inner functions can be JIT compiled."
   ]
  },
  {
   "cell_type": "code",
   "execution_count": 868,
   "metadata": {},
   "outputs": [],
   "source": [
    "#\n",
    "# Helper functions to make sure things are jitted\n",
    "#\n",
    "@vectorize(nopython=True)\n",
    "def u(c, eta, u_bar):\n",
    "    \"log utility function\"\n",
    "    return -1e10 if c < 1e-10 else (u_bar + np.log(c)) if eta==1 else (u_bar + (c**(1-eta)/(1-eta)))\n",
    "\n",
    "@vectorize(nopython=True)\n",
    "def du(c,eta):\n",
    "    \"Derivative of log utility function\"\n",
    "    return 1e10 if c < 1e-10 else c**(-eta)\n",
    "\n",
    "@vectorize(nopython=True)\n",
    "def duinv(u,eta):\n",
    "    \"Inverse of the derivative of the CRRA utility function\"\n",
    "    return u**(-1.0/eta )\n",
    "\n",
    "@vectorize(nopython=True)\n",
    "def f(X):\n",
    "    \"production function\"\n",
    "    return X\n",
    "\n",
    "@vectorize(nopython=True)\n",
    "def df(X):\n",
    "    \"Derivative of production function\"\n",
    "    return 1\n",
    "\n",
    "@vectorize(nopython=True)\n",
    "def discount_factor(beta, a_bar, c, w):\n",
    "    \"risk adjusted discount factor\"\n",
    "    return beta*a_bar*w/(c + a_bar*w)\n",
    "\n",
    "@vectorize(nopython=True)\n",
    "def next_x(X, N, g, c, w):\n",
    "    # next period's CPR given c and w\n",
    "    return (X - N*(c + w))*(1+g)\n",
    "\n",
    "@vectorize(nopython=True)\n",
    "def vector_dampen(vec1, vec2, dampen=1):\n",
    "    return dampen*vec1 + (1-dampen)*vec2\n",
    "\n",
    "@vectorize(nopython=True)\n",
    "def trunc_to_one(X):\n",
    "    return X if X >= 1 else 1\n",
    "\n",
    "@vectorize(nopython=True)\n",
    "def vf_curve_vec(x, a, b, c, d):\n",
    "    return a + (b/(1 - x**(-c)))*np.log(d*x)\n",
    "\n",
    "def vf_curve(x, a, b, c):\n",
    "    return a + (b/(1 - x**(-c)))*np.log(x)\n",
    "\n",
    "@vectorize(nopython=True)\n",
    "def cw_curve_vec(x, a, b, c, d):\n",
    "    return a*np.log(x) + b*(x**c) + d\n",
    "\n",
    "def cw_curve(x, a, b, c):\n",
    "    return a*np.log(x) + b*(x**c) + d"
   ]
  },
  {
   "cell_type": "markdown",
   "metadata": {},
   "source": [
    "This code block contains other functions that are useful for computing the policy using the envelope condition (to be discussed later), simulating, and computing Euler errors."
   ]
  },
  {
   "cell_type": "code",
   "execution_count": 869,
   "metadata": {},
   "outputs": [],
   "source": [
    "@jit(nopython=True)\n",
    "def env_cond_kp(temp, params, degree, v_coeffs, Xt):\n",
    "    # Unpack parameters\n",
    "    N, beta, g, a_bar, eta, u_bar = param_unpack(params)\n",
    "\n",
    "    # Compute derivative of VF wrt k\n",
    "    _complete_poly_der_impl_vec(np.array([Xt, zt]), degree, 0, temp)\n",
    "\n",
    "    c = duinv(np.dot(temp, v_coeffs) / (1/N))\n",
    "\n",
    "    return expendables_t(Xt) - c\n",
    "\n",
    "\n",
    "@jit(nopython=True)\n",
    "def jit_simulate_ncgm(params, degree, v_coeffs, T, nburn, shocks):\n",
    "    \"Simulates economy using envelope condition as policy rule\"\n",
    "    # Unpack parameters\n",
    "    N, beta, g, a_bar, eta, u_bar = param_unpack(params)\n",
    "\n",
    "    # Allocate space for output\n",
    "    xsim = np.empty(T+nburn)\n",
    "    zsim = np.empty(T+nburn)\n",
    "    xsim[0], zsim[0] = 1.0, 1.0 # may need to modify initial values\n",
    "\n",
    "    # Allocate space for temporary vector to fill with complete polynomials\n",
    "    temp = np.empty(n_complete(2, degree))\n",
    "\n",
    "    # Simulate\n",
    "    for t in range(1, T+nburn):\n",
    "        # Evaluate policy for today given yesterdays state\n",
    "        xp = env_cond_kp(temp, params, degree, v_coeffs, xsim[t-1], zsim[t-1])\n",
    "        \n",
    "        # Draw new z and update k using policy from above\n",
    "        zsim[t] = shocks[t]\n",
    "        xsim[t] = kp\n",
    "\n",
    "    return xsim[nburn:], zsim[nburn:]\n",
    "\n",
    "\n",
    "@jit(nopython=True)\n",
    "def jit_ee(params, degree, v_coeffs, nodes, weights, xs, zs):\n",
    "    # Unpack parameters\n",
    "    N, beta, g, a_bar, eta, u_bar = param_unpack(params)\n",
    "\n",
    "    # Allocate space for temporary vector to fill with complete polynomials\n",
    "    temp = np.empty(n_complete(2, degree))\n",
    "    T = xs.size\n",
    "    Qn = weights.size\n",
    "\n",
    "    # Allocate space to store euler errors\n",
    "    ee = np.empty(T)\n",
    "\n",
    "    # Iterate over all ks and zs\n",
    "    for t in range(T):\n",
    "        # Current states\n",
    "        x, z = xs[t], zs[t]\n",
    "\n",
    "        # Compute decision for kp and implied c\n",
    "        x1 = env_cond_kp(temp, params, degree, v_coeffs, x, z)\n",
    "        c = expendables_t(k, z, A, alpha, delta) - k1\n",
    "\n",
    "        # Compute euler error for period t\n",
    "        lhs = du(c, gamma)\n",
    "        rhs = 0.0\n",
    "        for i in range(Qn):\n",
    "            # Get productivity tomorrow\n",
    "            z1 = z**rho * np.exp(nodes[i])\n",
    "\n",
    "            # Compute decision for kpp and implied c\n",
    "            k2 = env_cond_kp(temp, params, degree, v_coeffs, k1, z1)\n",
    "            c1 = expendables_t(k1, z1, A, alpha, delta) - k2\n",
    "            rhs = rhs + weights[i]*du(c1, gamma)*(1-delta+df(k1, z1, A, alpha))\n",
    "\n",
    "        ee[t] = np.abs(1.0 - beta*rhs/lhs)\n",
    "\n",
    "    return ee\n"
   ]
  },
  {
   "cell_type": "markdown",
   "metadata": {},
   "source": [
    "We also now define a class that contains\n",
    "\n",
    "1. Parameters of the growth model\n",
    "2. Grids used for approximating the solution\n",
    "3. Nodes and weights used to approximate integration\n",
    "\n",
    "This again helps us maintain all of the relevant information in one place and simplifies passing it to other functions."
   ]
  },
  {
   "cell_type": "code",
   "execution_count": 870,
   "metadata": {},
   "outputs": [],
   "source": [
    "class Model(object):\n",
    "    \"\"\"\n",
    "    The stochastic Neoclassical Growth model contains\n",
    "    parameters which include\n",
    "\n",
    "    * alpha: Capital share in output\n",
    "    * beta: discount factor\n",
    "    * delta: depreciation rate\n",
    "    * gamma: risk aversion\n",
    "    * rho: persistence of the log productivity level\n",
    "    * sigma: standard deviation of shocks to log productivity\n",
    "    \"\"\"\n",
    "    def __init__(self, N=1, beta=0.9, g_x=0.005, g_a=0.015, a_bar=1000, \n",
    "                 eta=1, u_bar=0, \n",
    "                 xmin=10, xmax=11, nx=25):\n",
    "        # calculate g from g_a and g_x \n",
    "        g = g_a + g_x + g_a*g_x\n",
    "\n",
    "        # Household parameters\n",
    "        self.beta, self.eta, self.u_bar, = beta, eta, u_bar\n",
    "\n",
    "        # Firm/technology parameters\n",
    "        self.N, self.g, self.a_bar = N, g, a_bar\n",
    "\n",
    "        # Create t grids\n",
    "#         self.xgrid = np.concatenate([np.linspace(8, 12, 10), np.linspace(80,85,10), np.linspace(250,255, 10)])\n",
    "        self.xgrid = np.linspace(10,2000,25)\n",
    "#         self.logxgrid = np.log(self.xgrid)\n",
    "#         self.grid = np.column_stack((self.xgrid, self.logxgrid ))\n",
    "        self.grid = np.reshape(self.xgrid, [self.xgrid.shape[0], 1])\n",
    "#         self.grid = np.reshape(self.logxgrid, [self.logxgrid.shape[0], 1])\n",
    "\n",
    "        self.ns = self.xgrid.shape[0]\n",
    "        \n",
    "    def _unpack_params(self):\n",
    "        out = (self.N, self.beta, self.g, \n",
    "               self.a_bar, self.eta, self.u_bar)\n",
    "        return out\n",
    "\n",
    "    def _unpack_grids(self):\n",
    "        out = (self.xgrid, self.grid)\n",
    "        return out\n"
   ]
  },
  {
   "cell_type": "markdown",
   "metadata": {},
   "source": [
    "## Solution Methods\n",
    "\n",
    "In this notebook, we describe the following solution methods:\n",
    "\n",
    "* Conventional Value Function Iteration\n",
    "* Envelope Condition Value Function Iteration\n",
    "* Envelope Condition Derivative Value Function Iteration\n",
    "* Endogenous Grid Value Function Iteration\n",
    "* Conventional Policy Function Iteration\n",
    "* Envelope Condition Policy Function Iteration\n",
    "* Euler Equation Method\n",
    "\n",
    "Each of these solution methods will have a very similar structure that follows a few basic steps:\n",
    "\n",
    "1. Guess a function (either value function or policy function).\n",
    "2. Using this function, update our guess of both the value and policy functions.\n",
    "3. Check whether the function we guessed and what it was updated to are similar enough. If so, proceed. If not, return to step 2 using the updated functions.\n",
    "4. Output the policy and value functions.\n",
    "\n",
    "In order to reduce the amount of repeated code and keep the exposition as clean as possible (the notebook is plenty long as is...), we will define a class for each solution method that inherit various properties from a general solution parent class. The parent class will contain methods which apply to all of the other solution methods such as a general solve method, computing expectations, simulating, etc... This implementation may feel strange at first if one isn't familiar with object oriented programming, but these concepts can be powerful when properly used."
   ]
  },
  {
   "cell_type": "code",
   "execution_count": 871,
   "metadata": {},
   "outputs": [],
   "source": [
    "class GeneralSolution:\n",
    "    \"\"\"\n",
    "    This is a general solution method. We define this, so that we can\n",
    "    sub-class it and define specific update methods for each particular\n",
    "    solution method\n",
    "    \"\"\"\n",
    "    def __init__(self, ncgm, dx=1e-6, maxfev=10000, prev_sol=None):\n",
    "        # Save model and approximation degree\n",
    "        self.ncgm, self.dx, self.maxfev = ncgm, dx, maxfev\n",
    "\n",
    "        # Unpack some info from ncgm\n",
    "        N, beta, g, a_bar, eta, u_bar = self._unpack_params()\n",
    "        grid = self.ncgm.grid\n",
    "        X = self.ncgm.xgrid\n",
    "\n",
    "        # Use parameter values from model to create a namedtuple with\n",
    "        # parameters saved inside\n",
    "        self.params = Params(N, beta, g, a_bar, eta, u_bar)\n",
    "\n",
    "#         self.Phi = complete_polynomial(grid.T, degree).T\n",
    "#         self.dPhi = complete_polynomial_der(grid.T, degree, 0).T\n",
    "\n",
    "        # Update to fill initial value and policy matrices\n",
    "        # If we give it another solution type then use it to\n",
    "        # generate values and policies\n",
    "        if issubclass(type(prev_sol), GeneralSolution):\n",
    "#             oldPhi = complete_polynomial(ncgm.grid.T, prev_sol.degree).T\n",
    "#             self.CP = oldPhi @ prev_sol.c_coeffs\n",
    "#             self.WP = oldPhi @ prev_sol.w_coeffs\n",
    "#             self.VF = oldPhi @ prev_sol.v_coeffs\n",
    "            self.CP = cw_curve(X, *prev_sol.c_params)\n",
    "            self.WP = cw_curve(X, *prev_sol.w_params)\n",
    "            self.VF = vf_curve(X, *prev_sol.v_params)\n",
    "        # If we give it a tuple then assume it is (policy, value) pair\n",
    "        elif type(prev_sol) is tuple:\n",
    "            self.CP = prev_sol[0]\n",
    "            self.WP = prev_sol[1]\n",
    "            self.VF = prev_sol[2]\n",
    "        # Otherwise guess a constant value function and a policy\n",
    "        # of roughly steady state\n",
    "        else:\n",
    "            # guess VF\n",
    "            self.VF = X # np.ones(ncgm.ns)\n",
    "            \n",
    "            # make a guess\n",
    "            self.CP = X/(4*N)\n",
    "            self.WP = X/(4*N)\n",
    "\n",
    "\n",
    "        # Coefficients based on guesses\n",
    "#         self.c_coeffs = la.lstsq(self.Phi, self.CP)[0]\n",
    "#         self.w_coeffs = la.lstsq(self.Phi, self.WP)[0]\n",
    "#         self.v_coeffs = la.lstsq(self.Phi, self.VF)[0]\n",
    "        self.c_params, _ = opt.curve_fit(cw_curve, X, self.CP, maxfev=self.maxfev)\n",
    "        self.w_params, _ = opt.curve_fit(cw_curve, X, self.WP, maxfev=self.maxfev)\n",
    "        self.v_params, _ = opt.curve_fit(vf_curve, X, self.VF, maxfev=self.maxfev)\n",
    "\n",
    "    def _unpack_params(self):\n",
    "        return self.ncgm._unpack_params()\n",
    "\n",
    "    def build_VF(self):\n",
    "        \"\"\"\n",
    "        Using the current coefficients, this builds the value function\n",
    "        for all states\n",
    "        \"\"\"\n",
    "#         VF = self.Phi @ self.v_coeffs\n",
    "        VF = vf_curve(self.ncgm.xgrid, *self.v_params)\n",
    "\n",
    "        return VF\n",
    "\n",
    "    def build_CP(self):\n",
    "        \"\"\"\n",
    "        Using the current coefficients, this builds the policy function\n",
    "        for all states\n",
    "        \"\"\"\n",
    "        CP = cw_curve(self.ncgm.xgrid, *self.c_params)\n",
    "\n",
    "        return CP\n",
    "    \n",
    "    def build_WP(self):\n",
    "        \"\"\"\n",
    "        Using the current coefficients, this builds the policy function\n",
    "        for all states\n",
    "        \"\"\"\n",
    "        WP = cw_curve(self.ncgm.xgrid, *self.w_params)\n",
    "\n",
    "        return WP\n",
    "\n",
    "    def update_v(self, new_v_params, dampen=1):\n",
    "        \"\"\"\n",
    "        Updates the coefficients for the value function\n",
    "        \"\"\"\n",
    "#         self.v_coeffs = (1-dampen)*self.v_coeffs + dampen*new_v_coeffs\n",
    "        self.v_params = (1-dampen)*self.v_params + dampen*new_v_params\n",
    "\n",
    "        return None\n",
    "\n",
    "    def update_c(self, new_c_params, dampen=1):\n",
    "        \"\"\"\n",
    "        Updates the coefficients for the policy function\n",
    "        \"\"\"\n",
    "#         self.c_coeffs = (1-dampen)*self.c_coeffs + dampen*new_c_coeffs\n",
    "        self.c_params = (1-dampen)*self.c_params + dampen*new_c_params\n",
    "\n",
    "        return None\n",
    "    \n",
    "    def update_w(self, new_w_params, dampen=1):\n",
    "        \"\"\"\n",
    "        Updates the coefficients for the policy function\n",
    "        \"\"\"\n",
    "#         self.w_coeffs = (1-dampen)*self.w_coeffs + dampen*new_w_coeffs\n",
    "        self.w_params = (1-dampen)*self.w_params + dampen*new_w_params\n",
    "\n",
    "        return None\n",
    "\n",
    "    def update(self):\n",
    "        \"\"\"\n",
    "        Given the current state of everything in solution, update the\n",
    "        value and policy coefficients\n",
    "        \"\"\"\n",
    "        emsg = \"The update method is implemented in solution specific classes\"\n",
    "        emsg += \"\\nand cannot be called from `GeneralSolution`\"\n",
    "        raise ValueError(emsg)\n",
    "\n",
    "    def compute_coefficients(self, cp, wp, VF):\n",
    "        \"\"\"\n",
    "        Given a policy and value return corresponding coefficients\n",
    "        \"\"\"\n",
    "        new_c_coeffs = la.lstsq(self.Phi, cp)[0]\n",
    "        new_w_coeffs = la.lstsq(self.Phi, wp)[0]\n",
    "        new_v_coeffs = la.lstsq(self.Phi, VF)[0]\n",
    "\n",
    "        return new_c_coeffs, new_w_coeffs, new_v_coeffs\n",
    "    \n",
    "    def compute_params(self, cp, wp, VF):\n",
    "        new_c_params, _ = opt.curve_fit(cw_curve, X, cp, maxfev=self.maxfev)\n",
    "        new_w_params, _ = opt.curve_fit(cw_curve, X, wp, maxfev=self.maxfev)\n",
    "        new_v_params, _ = opt.curve_fit(vf_curve, X, VF, maxfev=self.maxfev) \n",
    "        \n",
    "        return new_c_params, new_w_params, new_v_params\n",
    "\n",
    "    def compute_EV_scalar(self, Xn):\n",
    "#         phi = complete_polynomial(np.vstack([np.log(trunc_to_one(Xn))]), self.degree).T\n",
    "#         val = (phi@self.v_coeffs)[0]\n",
    "\n",
    "        val = vf_curve(trunc_to_one(Xn), *self.v_params)\n",
    "        \n",
    "        return val\n",
    "\n",
    "    def compute_dEV_scalar(self, Xn):\n",
    "#         dphi = complete_polynomial_der(np.vstack([np.log(trunc_to_one(Xn))]), self.degree,0).T/trunc_to_one(Xn)\n",
    "#         val = (dphi@self.v_coeffs)[0]\n",
    "\n",
    "        vf_curve_curried = lambda x: vf_curve(x, *self.v_params)\n",
    "        val = derivative( vf_curve_curried, trunc_to_one(Xn), self.dx)\n",
    "        \n",
    "        return val \n",
    "\n",
    "    def compute_EV(self, Xn=None):\n",
    "        \"\"\"\n",
    "        Compute the expected value\n",
    "        \"\"\"\n",
    "\n",
    "        # Use policy to compute cp and wp\n",
    "        if Xn is None:\n",
    "            # Unpack parameters\n",
    "            N, beta, g, a_bar, eta, u_bar = self._unpack_params()\n",
    "            X = self.ncgm.xgrid\n",
    "#             cp = self.Phi @ self.c_coeffs\n",
    "#             wp = self.Phi @ self.w_coeffs\n",
    "            cp = cw_curve(X, *self.c_params)\n",
    "            wp = cw_curve(X, *self.w_params)\n",
    "            Xn = next_x(X, N, g, cp, wp)\n",
    "                \n",
    "#         Phi = complete_polynomial(np.vstack([np.log(trunc_to_one(Xn))]), self.degree).T\n",
    "#         EV = Phi @ self.v_coeffs\n",
    "\n",
    "        EV = vf_curve(trunc_to_one(Xn), *self.v_params)\n",
    "        \n",
    "        return EV\n",
    "\n",
    "\n",
    "    def compute_dEV(self, Xn=None):\n",
    "        \"\"\"\n",
    "        Compute the derivative of the expected value\n",
    "        \"\"\"\n",
    "        # Use policy to compute cp and wp\n",
    "        if Xn is None:\n",
    "            # Unpack parameters\n",
    "            N, beta, g, a_bar, eta, u_bar = self._unpack_params()\n",
    "            X = self.ncgm.xgrid\n",
    "#             cp = self.Phi @ self.c_coeffs\n",
    "#             wp = self.Phi @ self.w_coeffs\n",
    "            cp = cw_curve(X, *self.c_params)\n",
    "            wp = cw_curve(X, *self.w_params)\n",
    "            Xn = next_x(X, N, g, cp, wp)\n",
    "        \n",
    "#         dPhi = complete_polynomial_der(np.vstack([np.log(trunc_to_one(Xn))]), self.degree).T/trunc_to_one(Xn)\n",
    "        \n",
    "#         dEV = dPhi @ self.v_coeffs\n",
    "        vf_curve_curried = lambda x: vf_curve(x, *self.v_params)\n",
    "        val = derivative( vf_curve_curried, trunc_to_one(Xn), self.dx)\n",
    "        \n",
    "        return dEV\n",
    "\n",
    "    def envelope_policy(self):\n",
    "        \"\"\"\n",
    "        Applies the envelope condition to compute the policy for\n",
    "        k_{t+1} at every point on the grid\n",
    "        \"\"\"\n",
    "        # Unpack parameters\n",
    "        A, alpha, beta, delta, gamma, rho, sigma = self._unpack_params()\n",
    "        grid = self.ncgm.grid\n",
    "        k, z = grid[:, 0], grid[:, 1]\n",
    "\n",
    "        dV = self.dPhi@self.v_coeffs\n",
    "\n",
    "        # Compute the consumption\n",
    "        temp = dV / (1 - delta + df(k, z, A, alpha))\n",
    "        c = duinv(temp, gamma)\n",
    "\n",
    "        return expendables_t(k, z, A, alpha, delta) - c\n",
    "\n",
    "    def compute_distance(self, cp, wp, VF):\n",
    "        \"\"\"\n",
    "        Computes average distance between policy functions\n",
    "        \"\"\"\n",
    "        return np.max([\n",
    "            np.max(np.abs(1.0 - (cp+1e-12)/(self.CP+1e-12))), \n",
    "            np.max(np.abs(1.0 - (wp+1e-12)/(self.WP+1e-12)))\n",
    "        ])\n",
    "    \n",
    "\n",
    "    def solve(self, tol=1e-3, maxiter=2500, verbose=False, nskipprint=25):\n",
    "        # Iterate until convergence\n",
    "        dist, it = 10.0, 0\n",
    "        while (dist>tol) and (it<maxiter):\n",
    "            # Run solution specific update code\n",
    "            cp, wp, VF = self.update()\n",
    "\n",
    "            # Compute new policy and value coeffs\n",
    "            new_c_params, new_w_params, new_v_params = self.compute_params(cp, wp, VF)\n",
    "\n",
    "            # Update distance and iterations\n",
    "            dist = self.compute_distance(cp, wp, VF)\n",
    "            self.CP, self.WP, self.VF = cp, wp, VF\n",
    "            it += 1\n",
    "            if verbose and it%nskipprint == 0:\n",
    "                print(it, dist)\n",
    "\n",
    "#             # Update all coefficients\n",
    "            self.update_c(new_c_params)\n",
    "            self.update_w(new_w_params)\n",
    "            self.update_v(new_v_params)\n",
    "\n",
    "        # After finishing iteration, iterate to convergence using policy\n",
    "        if not isinstance(self, IterateOnPolicy):\n",
    "            sol_iop = IterateOnPolicy(self.ncgm, self.dx, self.maxfev, self)\n",
    "            cp, wp, VF = sol_iop.solve(tol=1e-3)\n",
    "\n",
    "            # Save final versions of everything\n",
    "            self.CP, self.WP, self.VF = cp, wp, VF\n",
    "            \n",
    "            new_c_params, new_w_params, new_v_params = sol_iop.compute_params(cp, wp, VF)\n",
    "            self.update_c(new_c_params)\n",
    "            self.update_w(new_w_params)\n",
    "            self.update_v(new_v_params)\n",
    "\n",
    "        return self.CP, self.WP, self.VF\n",
    "\n",
    "    def simulate(self, T=10000, nburn=200, shocks=None, seed=42):\n",
    "        \"\"\"\n",
    "        Simulates the neoclassical growth model with policy function\n",
    "        given by self.KP. Simulates for `T` periods and discarsd first\n",
    "        nburn `observations`\n",
    "        \"\"\"\n",
    "        if shocks is None:\n",
    "            np.random.seed(seed)\n",
    "            shocks = np.random.exponential(self.z_bar, T+nburn)\n",
    "\n",
    "        return jit_simulate_ncgm(self.params, self.degree, self.v_coeffs,\n",
    "                                 T, nburn, shocks)\n",
    "\n",
    "    def ee_residuals(self, ksim=None, zsim=None, Qn=10, seed=42):\n",
    "        \"\"\"\n",
    "        Computes the Euler Equation residuals of a simulated capital and\n",
    "        productivity levels (ksim and zsim) and uses Qn nodes for computing\n",
    "        the expectation\n",
    "        \"\"\"\n",
    "        if (ksim is None) or (zsim is None):\n",
    "            ksim, zsim = self.simulate(T=10000, nburn=200, seed=seed)\n",
    "\n",
    "        nodes, weights = qe.quad.qnwnorm(Qn, 0.0, self.ncgm.sigma**2)\n",
    "        ee = jit_ee(self.params, self.degree, self.v_coeffs,\n",
    "                    nodes, weights, ksim, zsim)\n",
    "\n",
    "        return np.log10(np.mean(ee)), np.log10(np.max(ee))"
   ]
  },
  {
   "cell_type": "markdown",
   "metadata": {},
   "source": [
    "### Iterating to Convergence (given policy)\n",
    "\n",
    "This isn't one of the methods described above, but it is used as an element of a few of our methods (and also as a way to get a first guess at the value function). This method takes an initial policy function, $\\bar{k}(k_t, z_t)$, as given, and then, without changing the policy, iterates until the value function has converged.\n",
    "\n",
    "Thus the \"update section\" of the algorithm in this instance would be:\n",
    "\n",
    "* Leave policy function unchanged\n",
    "* At each point of grid, $(k_t, z_t)$, compute $\\hat{V}(k_t, z_t) = u(c(\\bar{k}(k_t, z_t))) + \\beta E \\left[ V(\\bar{k}(k_t, z_t), z_{t+1}) \\right]$\n",
    "\n",
    "We override two of the methods from `GeneralSolution`\n",
    "\n",
    "* `compute_distance` because when we are iterating to convergence on the value function we want to check distnace using value function rather than policy function\n",
    "* `compute_coefficients` because we don't need to update the policy functions coefficients.\n",
    "\n",
    "The `update` method just repeatedly applies a particular policy function to update the value function."
   ]
  },
  {
   "cell_type": "code",
   "execution_count": 872,
   "metadata": {},
   "outputs": [],
   "source": [
    "class IterateOnPolicy(GeneralSolution):\n",
    "    \"\"\"\n",
    "    Subclass of the general solution method. The update method for this\n",
    "    class simply computes the fixed point of the value function given\n",
    "    a specific policy\n",
    "    \"\"\"\n",
    "    def compute_distance(self, cp, wp, VF):\n",
    "        \"\"\"\n",
    "        Computes distance between policy functions. When we are\n",
    "        iterating on a specific policy, we would like to compute\n",
    "        distances by the difference between VFs\n",
    "        \"\"\"\n",
    "        return np.max(np.abs(1.0 - (VF )/(self.VF )))\n",
    "\n",
    "    def compute_coefficients(self, cp, wp, VF):\n",
    "        \"\"\"\n",
    "        Given a policy and value return corresponding coefficients.\n",
    "        When we are iterating on a specific policy, we don't want to\n",
    "        update the policy coefficients.\n",
    "        \"\"\"\n",
    "        new_v_coeffs = la.lstsq(self.Phi, VF)[0]\n",
    "\n",
    "        return self.c_coeffs, self.w_coeffs, new_v_coeffs\n",
    "    \n",
    "    def compute_params(self, cp, wp, VF):\n",
    "        new_v_params, _ = opt.curve_fit(vf_curve, X, VF, maxfev=self.maxfev) \n",
    "        \n",
    "        return self.c_params, self.w_params, new_v_params\n",
    "    \n",
    "    def update(self):\n",
    "        # Unpack parameters\n",
    "        N, beta, g, a_bar, eta, u_bar = self._unpack_params()\n",
    "        X = self.ncgm.xgrid\n",
    "        \n",
    "        Xn = next_x(X, N, g, self.CP, self.WP)\n",
    "\n",
    "        # Update the value function\n",
    "#         VF = u(self.CP, eta, u_bar) + beta*np.maximum(self.compute_EV(Xn), np.zeros(self.ncgm.ns))\n",
    "        VF = u(self.CP, eta, u_bar) + beta*self.compute_EV(Xn)\n",
    "\n",
    "        return self.CP, self.WP, VF"
   ]
  },
  {
   "cell_type": "markdown",
   "metadata": {},
   "source": [
    "### Conventional Value Function Iteration\n",
    "\n",
    "This is one of the first solution methods for macroeconomics a graduate student in economics typically learns.\n",
    "\n",
    "In this solution method, one takes as given a value function, $V(k_t, z_t)$, and then solves for the optimal policy given the value function.\n",
    "\n",
    "The update section takes the form:\n",
    "\n",
    "* For each point, $(k_t, z_t)$, numerically solve for $c^*(k_t, z_t)$ to satisfy the first order condition $u'(c^*) = \\beta E \\left[ V_1((1 - \\delta) k_t + z_t f(k_t) - c^*, z_{t+1}) \\right]$\n",
    "* Define $k^*(k_t, z_t) = (1 - \\delta) k_t + z_t f(k_t) - c^*(k_t, z_t)$\n",
    "* Update value function according to $\\hat{V}(k_t, z_t) = u(c^*(k_t, z_t)) + \\beta E \\left[ V(k^*(k_t, z_t), z_{t+1}) \\right]$\n",
    "\n",
    "\n",
    "* For each point, $(X_t, z_t)$, numerically solve for $c^*(X_t, z_t)$ to satisfy the first order condition $u'(\\tilde{c}^\\ast) = \\beta E \\left[ V_1((1 - \\delta) k_t + z_t f(k_t) - c^*, z_{t+1}) \\right]$\n",
    "* Define $k^*(k_t, z_t) = (1 - \\delta) k_t + z_t f(k_t) - c^*(k_t, z_t)$\n",
    "* Update value function according to $\\hat{V}(k_t, z_t) = u(c^*(k_t, z_t)) + \\beta E \\left[ V(k^*(k_t, z_t), z_{t+1}) \\right]$\n",
    "\n",
    "\n"
   ]
  },
  {
   "cell_type": "code",
   "execution_count": 873,
   "metadata": {},
   "outputs": [],
   "source": [
    "class VFI(GeneralSolution):\n",
    "    \"\"\"\n",
    "    Updates the coefficients and value functions using the VFI\n",
    "    method\n",
    "    \"\"\"\n",
    "    def update(self):\n",
    "        \"\"\"\n",
    "        Updates the coefficients and value functions using the VFI_ECM\n",
    "        method\n",
    "        \"\"\"\n",
    "        # Unpack parameters\n",
    "        N, beta, g, a_bar, eta, u_bar = self._unpack_params()\n",
    "        xgrid = self.ncgm.xgrid\n",
    "        n_state = xgrid.shape[0]\n",
    "\n",
    "        # Get the policy and update it\n",
    "        cp = np.empty(n_state)\n",
    "        wp = np.empty(n_state)\n",
    "        VF = np.empty(n_state)\n",
    "        for i_s in range(n_state):\n",
    "            # Pull out current vals\n",
    "            X = xgrid[i_s]\n",
    "            \n",
    "            # objective function to minimize \n",
    "            def _f(CW):\n",
    "                c = CW[0]\n",
    "                w = CW[1]\n",
    "                \n",
    "                Xn = next_x(X, N, g, c, w)\n",
    "                EV = self.compute_EV_scalar(Xn)\n",
    "                dEV = self.compute_dEV_scalar(Xn)\n",
    "                \n",
    "                return (\n",
    "                    du(c, eta) - (beta*a_bar*w/(c + a_bar*w))*(EV/(c + a_bar*w) + N*(1+g)*dEV)\n",
    "                )**2 + (\n",
    "                    (c/(c + a_bar*w))*EV - w*N*(1+g)*dEV\n",
    "                )**2\n",
    "                 \n",
    "            \n",
    "            A=[[1,1],[1,0],[0,1]]\n",
    "            lbnd=1e-6\n",
    "            upbnd=X/N\n",
    "            x0 = [X/(4*N),X/(4*N)]\n",
    "            \n",
    "            cons = opt.LinearConstraint(A, lbnd, upbnd)\n",
    "            \n",
    "            # minimize objective\n",
    "            [_cp, _wp] = opt.minimize(_f, x0,constraints=cons, method='COBYLA').x\n",
    "            \n",
    "            Xn = next_x(X, N, g, _cp, _wp)\n",
    "            Xn = trunc_to_one(Xn)\n",
    "            EV = self.compute_EV_scalar(Xn)\n",
    "            \n",
    "#             VF_corner = u(X/N, eta, u_bar)\n",
    "            VF_interior = u(_cp, eta, u_bar)+beta*EV\n",
    "            \n",
    "#             if VF_corner > VF_interior:\n",
    "#                 cp[i_s] = X/N\n",
    "#                 wp[i_s] = 0\n",
    "#                 VF[i_s] = VF_corner\n",
    "#             else:                \n",
    "            cp[i_s] = _cp\n",
    "            wp[i_s] = _wp\n",
    "            VF[i_s] = VF_interior\n",
    "\n",
    "        return cp, wp, VF\n"
   ]
  },
  {
   "cell_type": "code",
   "execution_count": 874,
   "metadata": {},
   "outputs": [],
   "source": [
    "class find_thresh(GeneralSolution):\n",
    "    \"\"\"\n",
    "    Updates the coefficients and value functions using the VFI\n",
    "    method\n",
    "    \"\"\"\n",
    "    def get_threshold(self):\n",
    "        \"\"\"\n",
    "        Updates the coefficients and value functions using the VFI_ECM\n",
    "        method\n",
    "        \"\"\"\n",
    "        # Unpack parameters\n",
    "        N, beta, g, a_bar, eta, u_bar = self._unpack_params()\n",
    "        grid = self.ncgm.grid\n",
    "        n_state = grid.shape[0]\n",
    "\n",
    "        # Get the policy and update it\n",
    "        cp = np.empty(n_state)\n",
    "        wp = np.empty(n_state)\n",
    "        VF = np.empty(n_state)\n",
    "        for i_s in range(n_state):\n",
    "            # Pull out current vals\n",
    "            X = self.ncgm.xgrid\n",
    "            \n",
    "            # objective function to minimize \n",
    "            def _f(CW):\n",
    "                c = CW[0]\n",
    "                w = CW[1]\n",
    "                \n",
    "                Xn = next_x(X, N, g, c, w)\n",
    "                Xn = trunc_to_one(Xn)\n",
    "                \n",
    "                return (\n",
    "                    du(c, eta) - beta*((a_bar*w)/(c + a_bar*w))*(\n",
    "                        u(Xn/N, eta, u_bar)/(c + a_bar*w)\n",
    "                        + (1 + g)*du(Xn/N, eta)\n",
    "                    )\n",
    "                )**2 + (\n",
    "                    (c/(c + a_bar*w))*u(Xn/N, eta, u_bar)\n",
    "                    - w*(1 + g)*du(Xn/N, eta)\n",
    "                )**2\n",
    "\n",
    "            \n",
    "            A=[[1,1],[1,0],[0,1]]\n",
    "            lbnd=1e-6\n",
    "            upbnd=X/N\n",
    "            x0 = [0.01,0.01]\n",
    "            \n",
    "            cons = opt.LinearConstraint(A, lbnd, upbnd)\n",
    "            \n",
    "            # minimize objective\n",
    "            [_cp, _wp] = opt.minimize(_f, x0, constraints=cons).x\n",
    "            \n",
    "            Xn = next_x(X, N, g, _cp, _wp)\n",
    "            Xn = trunc_to_one(Xn)\n",
    "            VF_interior = u(_cp, eta, u_bar) + beta*(a_bar*_wp/(_cp + a_bar*_wp))*u(Xn/N, eta, u_bar)\n",
    "            \n",
    "            VF_corner = u(X/N, eta, u_bar)\n",
    "            \n",
    "            if VF_corner > VF_interior:\n",
    "                cp[i_s] = X/N\n",
    "                wp[i_s] = 0\n",
    "                VF[i_s] = VF_corner\n",
    "            else:                \n",
    "                cp[i_s] = _cp\n",
    "                wp[i_s] = _wp\n",
    "                VF[i_s] = VF_interior\n",
    "\n",
    "        return cp, wp, VF\n",
    "\n",
    "    \n"
   ]
  },
  {
   "cell_type": "markdown",
   "metadata": {},
   "source": [
    "## A Horse Race\n",
    "\n",
    "We can now run a horse race to compare the methods in terms of both accuracy and speed."
   ]
  },
  {
   "cell_type": "raw",
   "metadata": {},
   "source": [
    "ncgm = NeoclassicalGrowth()\n",
    "\n",
    "# First guess\n",
    "vp = IterateOnPolicy(ncgm, 2)\n",
    "vp.solve(tol=1e-9)\n",
    "\n",
    "np.random.seed(61089)\n",
    "shocks = np.random.randn(10200)\n",
    "\n",
    "for sol_method in [VFI, VFI_ECM, VFI_EGM, PFI, PFI_ECM, dVFI_ECM, EulEq]:\n",
    "\n",
    "    # Set prev sol as iterate on policy\n",
    "    new_sol = vp\n",
    "    print(\"Solution Method: {}\\n\".format(sol_method))\n",
    "\n",
    "    for d in range(2, 6):\n",
    "        new_sol = sol_method(ncgm, d, new_sol)\n",
    "        ts = time.time()\n",
    "        new_sol.solve(tol=1e-9, verbose=False, nskipprint=25)\n",
    "        time_took = time.time() - ts\n",
    "        print(\"\\tDegree {} took {}\\n\".format(d, time_took))\n",
    "\n",
    "        # Compute Euler Errors\n",
    "        ks, zs = new_sol.simulate(10000, 200, shocks=shocks)\n",
    "        mean_ee, max_ee = new_sol.ee_residuals(ks, zs, Qn=10)\n",
    "        print(\"\\t\\tMean and Max EE are {} & {}\\n\".format(mean_ee, max_ee))\n",
    "        new_sol = new_sol"
   ]
  },
  {
   "cell_type": "code",
   "execution_count": 875,
   "metadata": {
    "scrolled": false
   },
   "outputs": [
    {
     "name": "stderr",
     "output_type": "stream",
     "text": [
      "/Users/mikemahon/anaconda3/lib/python3.8/site-packages/scipy/optimize/minpack.py:828: OptimizeWarning: Covariance of the parameters could not be estimated\n",
      "  warnings.warn('Covariance of the parameters could not be estimated',\n",
      "<ipython-input-868-74ab5c5749eb>:52: RuntimeWarning: overflow encountered in power\n",
      "  return a + (b/(1 - x**(-c)))*np.log(d*x)\n"
     ]
    },
    {
     "name": "stdout",
     "output_type": "stream",
     "text": [
      "vp done\n"
     ]
    },
    {
     "name": "stderr",
     "output_type": "stream",
     "text": [
      "/Users/mikemahon/anaconda3/lib/python3.8/site-packages/scipy/optimize/minpack.py:828: OptimizeWarning: Covariance of the parameters could not be estimated\n",
      "  warnings.warn('Covariance of the parameters could not be estimated',\n",
      "<ipython-input-868-74ab5c5749eb>:52: RuntimeWarning: overflow encountered in power\n",
      "  return a + (b/(1 - x**(-c)))*np.log(d*x)\n"
     ]
    },
    {
     "name": "stdout",
     "output_type": "stream",
     "text": [
      "25 0.1288727274392656\n"
     ]
    }
   ],
   "source": [
    "ncgm = Model()\n",
    "\n",
    "# First guess\n",
    "vp = IterateOnPolicy(ncgm, 2)\n",
    "vp.solve(tol=1e-9)\n",
    "\n",
    "np.random.seed(61089)\n",
    "\n",
    "\n",
    "print('vp done')\n",
    "# degree 2 VFI:\n",
    "dx=1e-6\n",
    "new_sol = vp\n",
    "new_sol = VFI(ncgm, dx=dx, maxfev=10000, prev_sol=new_sol)\n",
    "ts = time.time()\n",
    "new_sol.solve(tol=1e-2, verbose=True, nskipprint=25)\n",
    "time_took = time.time() - ts"
   ]
  },
  {
   "cell_type": "code",
   "execution_count": 876,
   "metadata": {},
   "outputs": [
    {
     "data": {
      "text/plain": [
       "array([  10.        ,   92.91666667,  175.83333333,  258.75      ,\n",
       "        341.66666667,  424.58333333,  507.5       ,  590.41666667,\n",
       "        673.33333333,  756.25      ,  839.16666667,  922.08333333,\n",
       "       1005.        , 1087.91666667, 1170.83333333, 1253.75      ,\n",
       "       1336.66666667, 1419.58333333, 1502.5       , 1585.41666667,\n",
       "       1668.33333333, 1751.25      , 1834.16666667, 1917.08333333,\n",
       "       2000.        ])"
      ]
     },
     "execution_count": 876,
     "metadata": {},
     "output_type": "execute_result"
    }
   ],
   "source": [
    "X = new_sol.ncgm.xgrid\n",
    "X"
   ]
  },
  {
   "cell_type": "code",
   "execution_count": 877,
   "metadata": {},
   "outputs": [
    {
     "data": {
      "text/plain": [
       "array([-11.47017854,  10.00852746,  15.98092095,  19.61336283,\n",
       "        22.23303624,  24.28378771,  25.96940864,  27.40060788,\n",
       "        28.64428969,  29.74399804,  30.72966916,  31.62277159,\n",
       "        32.43922704,  33.19117108,  33.88806616,  34.53743347,\n",
       "        35.14535023,  35.71679729,  36.25590801,  36.76615031,\n",
       "        37.25046227,  37.7113549 ,  38.15099111,  38.57124725,\n",
       "        38.97376156])"
      ]
     },
     "execution_count": 877,
     "metadata": {},
     "output_type": "execute_result"
    }
   ],
   "source": [
    "VF = new_sol.VF\n",
    "VF"
   ]
  },
  {
   "cell_type": "code",
   "execution_count": 878,
   "metadata": {},
   "outputs": [
    {
     "data": {
      "text/plain": [
       "array([-11.32011779,   9.84403879,  15.89989108,  19.56782578,\n",
       "        22.20701748,  24.2698932 ,  25.96358571,  27.40039157,\n",
       "        28.64807079,  29.75067078,  30.73844367,  31.63306635,\n",
       "        32.45060346,  33.20329179,  33.90066744,  34.55030634,\n",
       "        35.15832725,  35.729743  ,  36.26871196,  36.77872184,\n",
       "        37.26272657,  37.72324996,  38.16246536,  38.58225767,\n",
       "        38.98427227])"
      ]
     },
     "execution_count": 878,
     "metadata": {},
     "output_type": "execute_result"
    }
   ],
   "source": [
    "new_sol.build_VF()"
   ]
  },
  {
   "cell_type": "code",
   "execution_count": 879,
   "metadata": {},
   "outputs": [
    {
     "data": {
      "text/plain": [
       "array([2.53532369e-01, 1.69267749e+01, 3.46029908e+01, 5.25055075e+01,\n",
       "       7.05003949e+01, 8.85373941e+01, 1.06592437e+02, 1.24652416e+02,\n",
       "       1.42709612e+02, 1.60759246e+02, 1.78798262e+02, 1.96824675e+02,\n",
       "       2.14837188e+02, 2.32834961e+02, 2.50817471e+02, 2.68784410e+02,\n",
       "       2.86735625e+02, 3.04671072e+02, 3.22590788e+02, 3.40494865e+02,\n",
       "       3.58383436e+02, 3.76256665e+02, 3.94114735e+02, 4.11957843e+02,\n",
       "       4.29786198e+02])"
      ]
     },
     "execution_count": 879,
     "metadata": {},
     "output_type": "execute_result"
    }
   ],
   "source": [
    "CP = new_sol.CP\n",
    "CP"
   ]
  },
  {
   "cell_type": "code",
   "execution_count": 880,
   "metadata": {
    "scrolled": true
   },
   "outputs": [
    {
     "data": {
      "text/plain": [
       "array([2.53532369e-01, 1.69267749e+01, 3.46029908e+01, 5.25055075e+01,\n",
       "       7.05003949e+01, 8.85373941e+01, 1.06592437e+02, 1.24652416e+02,\n",
       "       1.42709612e+02, 1.60759246e+02, 1.78798262e+02, 1.96824675e+02,\n",
       "       2.14837188e+02, 2.32834961e+02, 2.50817471e+02, 2.68784410e+02,\n",
       "       2.86735625e+02, 3.04671072e+02, 3.22590788e+02, 3.40494865e+02,\n",
       "       3.58383436e+02, 3.76256665e+02, 3.94114735e+02, 4.11957843e+02,\n",
       "       4.29786198e+02])"
      ]
     },
     "execution_count": 880,
     "metadata": {},
     "output_type": "execute_result"
    }
   ],
   "source": [
    "new_sol.build_CP()"
   ]
  },
  {
   "cell_type": "code",
   "execution_count": 881,
   "metadata": {},
   "outputs": [
    {
     "data": {
      "text/plain": [
       "array([-0.14936072,  1.23674853,  2.922028  ,  4.74089043,  6.64794172,\n",
       "        8.62096635, 10.64670595, 12.71633634, 14.82355821, 16.96364822,\n",
       "       19.13293321, 21.32847506, 23.54787023, 25.78911615, 28.05051868,\n",
       "       30.33062607, 32.62818043, 34.94208143, 37.27135847, 39.61514903,\n",
       "       41.97268163, 44.34326214, 46.72626275, 49.12111288, 51.52729175])"
      ]
     },
     "execution_count": 881,
     "metadata": {},
     "output_type": "execute_result"
    }
   ],
   "source": [
    "WP = new_sol.WP\n",
    "WP"
   ]
  },
  {
   "cell_type": "code",
   "execution_count": 882,
   "metadata": {
    "scrolled": true
   },
   "outputs": [
    {
     "data": {
      "text/plain": [
       "array([-0.14936072,  1.23674853,  2.922028  ,  4.74089043,  6.64794172,\n",
       "        8.62096635, 10.64670595, 12.71633634, 14.82355821, 16.96364822,\n",
       "       19.13293321, 21.32847506, 23.54787023, 25.78911615, 28.05051868,\n",
       "       30.33062607, 32.62818043, 34.94208143, 37.27135847, 39.61514903,\n",
       "       41.97268163, 44.34326214, 46.72626275, 49.12111288, 51.52729175])"
      ]
     },
     "execution_count": 882,
     "metadata": {},
     "output_type": "execute_result"
    }
   ],
   "source": [
    "new_sol.build_WP()"
   ]
  },
  {
   "cell_type": "code",
   "execution_count": 883,
   "metadata": {},
   "outputs": [
    {
     "data": {
      "text/plain": [
       "array([-1.69745013, 13.68651302, 11.84211473, 11.07503078, 10.6048455 ,\n",
       "       10.27000808, 10.01177617,  9.8025416 ,  9.62721704,  9.47669061,\n",
       "        9.34505234,  9.22825822,  9.12342329,  9.02841959,  8.94163398,\n",
       "        8.86181542,  8.78797472,  8.71931664,  8.65519265,  8.59506712,\n",
       "        8.53849272,  8.48509215,  8.43454434,  8.3865739 ,  8.34094289])"
      ]
     },
     "execution_count": 883,
     "metadata": {},
     "output_type": "execute_result"
    }
   ],
   "source": [
    "CP/WP"
   ]
  },
  {
   "cell_type": "code",
   "execution_count": 884,
   "metadata": {},
   "outputs": [
    {
     "name": "stderr",
     "output_type": "stream",
     "text": [
      "<ipython-input-868-74ab5c5749eb>:52: RuntimeWarning: divide by zero encountered in true_divide\n",
      "  return a + (b/(1 - x**(-c)))*np.log(d*x)\n",
      "<ipython-input-868-74ab5c5749eb>:52: RuntimeWarning: invalid value encountered in multiply\n",
      "  return a + (b/(1 - x**(-c)))*np.log(d*x)\n"
     ]
    },
    {
     "data": {
      "text/plain": [
       "[<matplotlib.lines.Line2D at 0x14d6d5e20>,\n",
       " <matplotlib.lines.Line2D at 0x14d6d5070>]"
      ]
     },
     "execution_count": 884,
     "metadata": {},
     "output_type": "execute_result"
    },
    {
     "data": {
      "image/png": "[encoded data removed]",
      "text/plain": [
       "<Figure size 432x288 with 1 Axes>"
      ]
     },
     "metadata": {
      "needs_background": "light"
     },
     "output_type": "display_data"
    }
   ],
   "source": [
    "xnew = np.arange(1,2e3,1)\n",
    "# logxnew = np.log(xnew)\n",
    "# logxnew_grid = np.reshape(logxnew, [logxnew.shape[0], 1])\n",
    "# Phi = complete_polynomial(logxnew_grid.T, new_sol.degree).T\n",
    "# vf_new = Phi @ v_coef\n",
    "vf_new = vf_curve(xnew, *new_sol.v_params)\n",
    "\n",
    "plt.plot(X, VF, 'o', xnew, vf_new)"
   ]
  },
  {
   "cell_type": "code",
   "execution_count": 885,
   "metadata": {},
   "outputs": [
    {
     "data": {
      "text/plain": [
       "[<matplotlib.lines.Line2D at 0x138b395b0>,\n",
       " <matplotlib.lines.Line2D at 0x138b39520>]"
      ]
     },
     "execution_count": 885,
     "metadata": {},
     "output_type": "execute_result"
    },
    {
     "data": {
      "image/png": "[encoded data removed]",
      "text/plain": [
       "<Figure size 432x288 with 1 Axes>"
      ]
     },
     "metadata": {
      "needs_background": "light"
     },
     "output_type": "display_data"
    }
   ],
   "source": [
    "# cp_new = Phi @ new_sol.c_coeffs\n",
    "cp_new = cw_curve(xnew, *new_sol.c_params)\n",
    "\n",
    "plt.plot(X, CP, 'o', xnew, cp_new)"
   ]
  },
  {
   "cell_type": "code",
   "execution_count": 886,
   "metadata": {},
   "outputs": [
    {
     "data": {
      "text/plain": [
       "[<matplotlib.lines.Line2D at 0x14cd03ac0>,\n",
       " <matplotlib.lines.Line2D at 0x14cd03a30>]"
      ]
     },
     "execution_count": 886,
     "metadata": {},
     "output_type": "execute_result"
    },
    {
     "data": {
      "image/png": "[encoded data removed]",
      "text/plain": [
       "<Figure size 432x288 with 1 Axes>"
      ]
     },
     "metadata": {
      "needs_background": "light"
     },
     "output_type": "display_data"
    }
   ],
   "source": [
    "# wp_new = Phi @ new_sol.w_coeffs\n",
    "wp_new = cw_curve(xnew, *new_sol.w_params)\n",
    "\n",
    "plt.plot(X, WP, 'o', xnew, wp_new)"
   ]
  },
  {
   "cell_type": "code",
   "execution_count": 887,
   "metadata": {},
   "outputs": [
    {
     "data": {
      "text/plain": [
       "array([4.64537309, 4.30930508, 3.87754393, ..., 8.34255551, 8.34201766,\n",
       "       8.34148012])"
      ]
     },
     "execution_count": 887,
     "metadata": {},
     "output_type": "execute_result"
    }
   ],
   "source": [
    "cp_new/wp_new"
   ]
  }
 ],
 "metadata": {
  "kernelspec": {
   "display_name": "Python 3",
   "language": "python",
   "name": "python3"
  },
  "language_info": {
   "codemirror_mode": {
    "name": "ipython",
    "version": 3
   },
   "file_extension": ".py",
   "mimetype": "text/x-python",
   "name": "python",
   "nbconvert_exporter": "python",
   "pygments_lexer": "ipython3",
   "version": "3.8.8"
  }
 },
 "nbformat": 4,
 "nbformat_minor": 2
}
