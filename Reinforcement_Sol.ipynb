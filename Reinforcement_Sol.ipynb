{
 "cells": [
  {
   "cell_type": "code",
   "execution_count": 194,
   "id": "d694f7d7",
   "metadata": {},
   "outputs": [],
   "source": [
    "import numpy as np\n",
    "import scipy.linalg as la\n",
    "import scipy.optimize as opt\n",
    "import time\n",
    "import quantecon as qe\n",
    "import matplotlib.pyplot as plt\n",
    "\n",
    "from collections import namedtuple\n",
    "from scipy.interpolate import interp1d, UnivariateSpline\n",
    "from scipy.misc import derivative\n",
    "from interpolation.complete_poly import (CompletePolynomial,\n",
    "                                         n_complete, complete_polynomial,\n",
    "                                         complete_polynomial_der,\n",
    "                                         _complete_poly_impl,\n",
    "                                         _complete_poly_impl_vec,\n",
    "                                         _complete_poly_der_impl,\n",
    "                                         _complete_poly_der_impl_vec)\n",
    "from numba import jit, vectorize"
   ]
  },
  {
   "cell_type": "code",
   "execution_count": 195,
   "id": "aeb429c6",
   "metadata": {},
   "outputs": [],
   "source": [
    "#\n",
    "# Create a named tuple type that we can pass into the jitted functions\n",
    "# so that we don't have to pass parameters one by one\n",
    "#\n",
    "Params = namedtuple(\"Params\", [\"N\", \"beta\", \"g\", \"a_bar\", \"eta\", \"u_bar\"])\n",
    "\n",
    "@jit(nopython=True)\n",
    "def param_unpack(params):\n",
    "    \"Unpack parameters from the Params type\"\n",
    "    out = (params.N, params.beta, params.g,\n",
    "           params.a_bar, params.eta, params.u_bar)\n",
    "\n",
    "    return out"
   ]
  },
  {
   "cell_type": "code",
   "execution_count": 196,
   "id": "b2a4b940",
   "metadata": {},
   "outputs": [],
   "source": [
    "#\n",
    "# Helper functions to make sure things are jitted\n",
    "#\n",
    "@vectorize(nopython=True)\n",
    "def u(c, eta, u_bar):\n",
    "    \"log utility function\"\n",
    "    return -1e10 if c < 1e-10 else (u_bar + np.log(c)) if eta==1 else (u_bar + (c**(1-eta)/(1-eta)))\n",
    "\n",
    "@vectorize(nopython=True)\n",
    "def du(c,eta):\n",
    "    \"Derivative of log utility function\"\n",
    "    return 1e10 if c < 1e-10 else c**(-eta)\n",
    "\n",
    "@vectorize(nopython=True)\n",
    "def duinv(u,eta):\n",
    "    \"Inverse of the derivative of the CRRA utility function\"\n",
    "    return u**(-1.0/eta )\n",
    "\n",
    "@vectorize(nopython=True)\n",
    "def f(X):\n",
    "    \"production function\"\n",
    "    return X\n",
    "\n",
    "@vectorize(nopython=True)\n",
    "def df(X):\n",
    "    \"Derivative of production function\"\n",
    "    return 1\n",
    "\n",
    "@vectorize(nopython=True)\n",
    "def discount_factor(beta, a_bar, c, w):\n",
    "    \"risk adjusted discount factor\"\n",
    "    return beta*a_bar*w/(c + a_bar*w)\n",
    "\n",
    "@vectorize(nopython=True)\n",
    "def next_x(X, N, g, c, w):\n",
    "    # next period's CPR given c and w\n",
    "    return (X - N*(c + w))*(1+g)\n",
    "\n",
    "@vectorize(nopython=True)\n",
    "def expendables(X, Xp, N, g):\n",
    "    # get expendables given X and X prime\n",
    "    return (1/N)*(X - Xp/(1 + g))\n",
    "\n",
    "@vectorize(nopython=True)\n",
    "def logu_c_from_exp(Vp, E, beta, a):\n",
    "    # get expendables given X and X prime\n",
    "    return -(2*E*a - 2*E*a**2 + E*a*(Vp*beta*(4*a + Vp*beta - 4))**0.5 - E*Vp*a*beta)/(2*(a**2 - 2*a + 1))\n",
    "\n",
    "@vectorize(nopython=True)\n",
    "def vector_dampen(vec1, vec2, dampen=1):\n",
    "    return dampen*vec1 + (1-dampen)*vec2\n",
    "\n",
    "def find_nearest(array, value):\n",
    "    array = np.asarray(array)\n",
    "    idx = (np.abs(array - value)).argmin()\n",
    "    return array[idx]\n",
    "\n",
    "@vectorize(nopython=True)\n",
    "def psurvival(a_bar, c, w):\n",
    "    return a_bar*w/(c + a_bar*w)"
   ]
  },
  {
   "cell_type": "code",
   "execution_count": 197,
   "id": "245e62a1",
   "metadata": {},
   "outputs": [],
   "source": [
    "class Model(object):\n",
    "    \"\"\"\n",
    "    \"\"\"\n",
    "    def __init__(self, N=1, beta=0.95, g_x=0.01, g_a=0.015, a_bar=1000, \n",
    "                 eta=1, u_bar=0, \n",
    "                 xmin=3, xmax=10000, nx=1000):\n",
    "        # calculate g from g_a and g_x \n",
    "        g = g_a + g_x + g_a*g_x\n",
    "\n",
    "        # Household parameters\n",
    "        self.beta, self.eta, self.u_bar, = beta, eta, u_bar\n",
    "\n",
    "        # Firm/technology parameters\n",
    "        self.N, self.g, self.a_bar = N, g, a_bar\n",
    "\n",
    "        # Create t grids\n",
    "        self.xgrid = N*np.linspace(xmin, xmax, nx)\n",
    "        self.nx = nx\n",
    "        \n",
    "    def _unpack_params(self):\n",
    "        out = (self.N, self.beta, self.g, \n",
    "               self.a_bar, self.eta, self.u_bar)\n",
    "        return out\n",
    "\n",
    "    def _unpack_grids(self):\n",
    "        out = (self.xgrid)\n",
    "        return out"
   ]
  },
  {
   "cell_type": "code",
   "execution_count": 198,
   "id": "27152e26",
   "metadata": {},
   "outputs": [],
   "source": [
    "class GeneralSolution:\n",
    "    \"\"\"\n",
    "    This is a general solution method. We define this, so that we can\n",
    "    sub-class it and define specific update methods for each particular\n",
    "    solution method\n",
    "    \"\"\"\n",
    "    def __init__(self, ncgm, prev_sol=None):\n",
    "        # Save model, interp. approx. kind. and deriv. dx\n",
    "        self.ncgm = ncgm\n",
    "\n",
    "        # Unpack some info from ncgm\n",
    "        N, beta, g, a_bar, eta, u_bar = self._unpack_params()\n",
    "        self.xgrid = self.ncgm.xgrid\n",
    "\n",
    "        # Use parameter values from model to create a namedtuple with\n",
    "        # parameters saved inside\n",
    "        self.params = Params(N, beta, g, a_bar, eta, u_bar)\n",
    "        \n",
    "        self.CP = (1/N)*(1/20)*self.xgrid\n",
    "        self.WP = (1/N)*(1/40)*self.xgrid\n",
    "        self.VF = self.xgrid**2\n",
    "        \n",
    "    def _unpack_params(self):\n",
    "        return self.ncgm._unpack_params()\n",
    "        \n",
    "    def compute_distance(self, cp, wp, VF):\n",
    "        \"\"\"\n",
    "        Computes distance between policy functions\n",
    "        \"\"\"\n",
    "        return np.max([\n",
    "            np.max(np.abs(1.0 - (cp+1e-15)/(self.CP+1e-15))), \n",
    "            np.max(np.abs(1.0 - (wp+1e-15)/(self.WP+1e-15))),\n",
    "            np.max(np.abs(1.0 - (VF+1e-15)/(self.VF+1e-15)))\n",
    "        ])\n",
    "    \n",
    "    def get_EV(self, x):\n",
    "        idx = np.searchsorted(self.xgrid, x, side='left')\n",
    "        return self.VF[idx]\n",
    "\n",
    "    def solve(self, tol=1e-6, maxiter=2500, verbose=True, \n",
    "              nskipprint=25, dampen=1.0):\n",
    "        # Iterate until convergence\n",
    "        dist, it = 10.0, 0\n",
    "        while (dist>tol) and (it<maxiter):\n",
    "            # Run solution specific update code\n",
    "            cp, wp, VF = self.update()\n",
    "\n",
    "            # Update distance and iterations\n",
    "            dist = self.compute_distance(cp, wp, VF)\n",
    "            self.CP, self.WP, self.VF = cp, wp, VF\n",
    "            it += 1\n",
    "            if verbose and it%nskipprint == 0:\n",
    "                print(it, dist)\n",
    "\n",
    "        # After finishing iteration, iterate to convergence using policy\n",
    "        if not isinstance(self, IterateOnPolicy):\n",
    "            sol_iop = IterateOnPolicy(self.ncgm, self)\n",
    "            cp, wp, VF = sol_iop.solve(tol=tol)\n",
    "            \n",
    "            # Save final versions of everything\n",
    "            self.CP, self.WP, self.VF = cp, wp, VF\n",
    "\n",
    "        return self.CP, self.WP, self.VF\n",
    "        \n",
    "        \n",
    "\n",
    "    def simulate(self, X=None, T=1000, s=1):\n",
    "        \"\"\"\n",
    "        Simulates the neoclassical growth model with policy function\n",
    "        given by self.KP. Simulates for `T` periods and discarsd first\n",
    "        nburn `observations`\n",
    "        \"\"\"\n",
    "        N, beta, g, a_bar, eta, u_bar = self._unpack_params()\n",
    "        # X is starting point, if None, set to N*274\n",
    "        if X is None:\n",
    "            X = N*274\n",
    "            \n",
    "        def recurse_bellman(x, t):\n",
    "            if x <= 0:\n",
    "                return 0, 0, x, t\n",
    "            if t >= T:\n",
    "                return u(x/N, eta, u_bar), 1, x, T\n",
    "            \n",
    "            c_corner = x/N \n",
    "            u_corner = u(c_corner, eta, u_bar)\n",
    "            \n",
    "            trans_idx = np.searchsorted(self.ncgm.xgrid, x, side='left')\n",
    "            \n",
    "            c = s*self.CP[trans_idx]\n",
    "            w = s*self.CP[trans_idx]\n",
    "\n",
    "            \n",
    "            if w <= 0:\n",
    "                c = c_corner \n",
    "                \n",
    "            m_t = psurvival(a_bar, c, w)\n",
    "            u_t = u(c, eta, u_bar)\n",
    "            x_prime = next_x(x, N, g, c, w)\n",
    "            \n",
    "            v_prime, m_prime, final_state, nperiods = recurse_bellman(x_prime, t+1)\n",
    "            \n",
    "            if u_t + beta*m_t*v_prime < u_corner:\n",
    "                return u_corner, 0, 0, t+1\n",
    "            \n",
    "            return u_t + beta*m_t*v_prime, m_t*m_prime, final_state, nperiods\n",
    "        \n",
    "        return recurse_bellman(X, 0)\n",
    "\n"
   ]
  },
  {
   "cell_type": "code",
   "execution_count": 199,
   "id": "df6a7a9c",
   "metadata": {},
   "outputs": [],
   "source": [
    "class IterateOnPolicy(GeneralSolution):\n",
    "    \"\"\"\n",
    "    Subclass of the general solution method. The update method for this\n",
    "    class simply computes the fixed point of the value function given\n",
    "    a specific policy\n",
    "    \"\"\"\n",
    "    def compute_distance(self, cp, wp, VF):\n",
    "        \"\"\"\n",
    "        Computes distance between policy functions. When we are\n",
    "        iterating on a specific policy, we would like to compute\n",
    "        distances by the difference between VFs\n",
    "        \"\"\"\n",
    "        dist = np.max(np.abs(1.0 - (VF+1e-15)/(self.VF+1e-15)))\n",
    "\n",
    "        return dist\n",
    "\n",
    "    def update(self):\n",
    "        # Unpack parameters\n",
    "        N, beta, g, a_bar, eta, u_bar = self._unpack_params()\n",
    "        X = self.ncgm.xgrid\n",
    "        \n",
    "        Xn = next_x(X, N, g, self.CP, self.WP)\n",
    "\n",
    "        # Update the value function\n",
    "        EV = self.get_EV(Xn)\n",
    "        VF = u(self.CP, eta, u_bar) + beta*np.maximum(EV, np.zeros(self.ncgm.nx))      \n",
    "\n",
    "        return self.CP, self.WP, VF"
   ]
  },
  {
   "cell_type": "code",
   "execution_count": 200,
   "id": "a734b3fa",
   "metadata": {},
   "outputs": [],
   "source": [
    "class QRL(GeneralSolution):\n",
    "    \"\"\"\n",
    "    Updates the coefficients and value functions using Q-Reinforcement Learning\n",
    "    method\n",
    "    \"\"\"\n",
    "    def update(self):\n",
    "        \"\"\"\n",
    "        Updates the coefficients and value functions using the VFI_ECM\n",
    "        method\n",
    "        \"\"\"\n",
    "        # Unpack parameters\n",
    "        N, beta, g, a_bar, eta, u_bar = self._unpack_params()\n",
    "        xgrid = self.ncgm.xgrid\n",
    "        n_state = xgrid.shape[0]\n",
    "\n",
    "        # Get the policy and update it\n",
    "        cp = np.copy(self.CP)\n",
    "        wp = np.copy(self.WP)\n",
    "        VF = np.copy(self.VF)\n",
    "        for i_s in range(n_state):\n",
    "            # Pull out current vals\n",
    "            X = xgrid[i_s]\n",
    "            c = cp[i_s]\n",
    "            w = wp[i_s]\n",
    "            v = VF[i_s]\n",
    "            \n",
    "            lbnd = 0\n",
    "            ubnd = X*(1 + g)\n",
    "            \n",
    "            # get starting idx\n",
    "            Xp = next_x(X, N, g, c, w)\n",
    "            trans_idx_start = np.searchsorted(xgrid, Xp, side='left')\n",
    "            \n",
    "            # iterate up until value begins decreasing\n",
    "            trans_idx = trans_idx_start\n",
    "            vt = v\n",
    "            while vt == v and Xp <= ubnd and trans_idx < self.ncgm.nx:  \n",
    "                Xp = xgrid[trans_idx]\n",
    "                Vp = self.VF[trans_idx]\n",
    "                E = expendables(X, Xp, N, g)\n",
    "\n",
    "                ct = logu_c_from_exp(Vp, E, beta, a_bar)\n",
    "                # if outside of bounds break out of loop\n",
    "                if ct > E or ct < 0:\n",
    "                    print(\"ct: \", ct)\n",
    "                    break\n",
    "                wt = E - ct\n",
    "                vt = u_bar + np.log(ct) + discount_factor(beta, a_bar, ct, wt)*Vp\n",
    "\n",
    "                if vt > v:\n",
    "                    c = ct\n",
    "                    w = wt\n",
    "                    v = vt\n",
    "                    \n",
    "                trans_idx += 1\n",
    "            \n",
    "            # iterate down until value begins decreasing\n",
    "            \n",
    "            trans_idx = trans_idx_start\n",
    "            vt = v\n",
    "            while vt == v and Xp > lbnd and trans_idx >= 0:       \n",
    "                Xp = xgrid[trans_idx]\n",
    "                Vp = self.VF[trans_idx]\n",
    "                E = expendables(X, Xp, N, g)\n",
    "\n",
    "                ct = logu_c_from_exp(Vp, E, beta, a_bar)\n",
    "                # if outside of bounds break out of loop\n",
    "                if ct > E or ct < 0:\n",
    "                    print(\"ct: \", ct)\n",
    "                    break\n",
    "                wt = E - ct\n",
    "                vt = u_bar + np.log(ct) + discount_factor(beta, a_bar, ct, wt)*Vp\n",
    "\n",
    "                if vt > v:\n",
    "                    c = ct\n",
    "                    w = wt\n",
    "                    v = vt\n",
    "                    \n",
    "                trans_idx -= 1\n",
    "\n",
    "            cp[i_s] = c\n",
    "            wp[i_s] = w\n",
    "            VF[i_s] = v\n",
    "            \n",
    "        return cp, wp, VF\n",
    "\n",
    "    \n"
   ]
  },
  {
   "cell_type": "code",
   "execution_count": 201,
   "id": "21c23b3c",
   "metadata": {},
   "outputs": [
    {
     "name": "stdout",
     "output_type": "stream",
     "text": [
      "vp done\n",
      "25 0.10603980734171026\n",
      "50 7.132727470481571\n",
      "75 0.5327043802354734\n",
      "100 0.03213267368268824\n",
      "125 0.007277366603222202\n",
      "150 0.0010893130520849281\n",
      "175 0.00016242723837944784\n"
     ]
    }
   ],
   "source": [
    "ncgm = Model(N=1, a_bar=100000, g_x=0.05, beta=0.95, xmin=10,xmax=300, nx=2000)\n",
    "\n",
    "# # First guess\n",
    "# vp = IterateOnPolicy(ncgm)\n",
    "# vp.solve(tol=1e-9)\n",
    "\n",
    "# np.random.seed(61089)\n",
    "\n",
    "\n",
    "print('vp done')\n",
    "dx=1e-6\n",
    "new_sol = None\n",
    "new_sol = QRL(ncgm, prev_sol=new_sol)\n",
    "ts = time.time()\n",
    "new_sol.solve(tol=1e-4, verbose=True, nskipprint=25)\n",
    "time_took = time.time() - ts"
   ]
  },
  {
   "cell_type": "code",
   "execution_count": 202,
   "id": "383d22c4",
   "metadata": {},
   "outputs": [
    {
     "data": {
      "text/plain": [
       "(37.266117340878914, 0.0, 0, 59)"
      ]
     },
     "execution_count": 202,
     "metadata": {},
     "output_type": "execute_result"
    }
   ],
   "source": [
    "new_sol.simulate(274,1000,s=1)"
   ]
  },
  {
   "cell_type": "code",
   "execution_count": 203,
   "id": "7fafdf0a",
   "metadata": {},
   "outputs": [
    {
     "data": {
      "text/plain": [
       "11.595797898949474"
      ]
     },
     "execution_count": 203,
     "metadata": {},
     "output_type": "execute_result"
    }
   ],
   "source": [
    "new_sol.xgrid[11]"
   ]
  },
  {
   "cell_type": "code",
   "execution_count": 204,
   "id": "114d407b",
   "metadata": {},
   "outputs": [
    {
     "data": {
      "text/plain": [
       "array([-0.57042942, -0.5576792 , -0.54508949, -0.53265632, -0.52037583,\n",
       "       -0.50824433])"
      ]
     },
     "execution_count": 204,
     "metadata": {},
     "output_type": "execute_result"
    }
   ],
   "source": [
    "new_sol.VF[9:15]"
   ]
  },
  {
   "cell_type": "code",
   "execution_count": 205,
   "id": "50c1d32a",
   "metadata": {},
   "outputs": [
    {
     "data": {
      "text/plain": [
       "1793"
      ]
     },
     "execution_count": 205,
     "metadata": {},
     "output_type": "execute_result"
    }
   ],
   "source": [
    "idx\n"
   ]
  },
  {
   "cell_type": "code",
   "execution_count": 206,
   "id": "00702253",
   "metadata": {},
   "outputs": [
    {
     "data": {
      "text/plain": [
       "46.83244029267031"
      ]
     },
     "execution_count": 206,
     "metadata": {},
     "output_type": "execute_result"
    }
   ],
   "source": [
    "x = 270\n",
    "idx = np.searchsorted(new_sol.xgrid, x, side='left')\n",
    "new_sol.VF[idx]"
   ]
  },
  {
   "cell_type": "code",
   "execution_count": 207,
   "id": "06235f1e",
   "metadata": {},
   "outputs": [
    {
     "data": {
      "text/plain": [
       "(40.11636872363666, 0.0, 0, 112)"
      ]
     },
     "execution_count": 207,
     "metadata": {},
     "output_type": "execute_result"
    }
   ],
   "source": [
    "new_sol.simulate(270,200,s=0.8)"
   ]
  },
  {
   "cell_type": "code",
   "execution_count": 208,
   "id": "628ad926",
   "metadata": {},
   "outputs": [
    {
     "data": {
      "text/plain": [
       "41.65557212617916"
      ]
     },
     "execution_count": 208,
     "metadata": {},
     "output_type": "execute_result"
    }
   ],
   "source": [
    "new_sol.VF[1368]"
   ]
  },
  {
   "cell_type": "code",
   "execution_count": 209,
   "id": "f240ffdb",
   "metadata": {},
   "outputs": [
    {
     "data": {
      "text/plain": [
       "array([ 0.5       ,  0.50725363,  0.51450725, ..., 14.98549275,\n",
       "       14.99274637, 15.        ])"
      ]
     },
     "execution_count": 209,
     "metadata": {},
     "output_type": "execute_result"
    }
   ],
   "source": [
    "new_sol.CP"
   ]
  },
  {
   "cell_type": "code",
   "execution_count": 210,
   "id": "278e2f60",
   "metadata": {},
   "outputs": [
    {
     "data": {
      "text/plain": [
       "array([0.25      , 0.25362681, 0.25725363, ..., 7.49274637, 7.49637319,\n",
       "       7.5       ])"
      ]
     },
     "execution_count": 210,
     "metadata": {},
     "output_type": "execute_result"
    }
   ],
   "source": [
    "new_sol.WP"
   ]
  },
  {
   "cell_type": "code",
   "execution_count": 211,
   "id": "13a59c1e",
   "metadata": {},
   "outputs": [
    {
     "data": {
      "text/plain": [
       "[<matplotlib.lines.Line2D at 0x1244894c0>]"
      ]
     },
     "execution_count": 211,
     "metadata": {},
     "output_type": "execute_result"
    },
    {
     "data": {
      "image/png": "[encoded data removed]",
      "text/plain": [
       "<Figure size 432x288 with 1 Axes>"
      ]
     },
     "metadata": {
      "needs_background": "light"
     },
     "output_type": "display_data"
    }
   ],
   "source": [
    "X = new_sol.xgrid\n",
    "xmax = 300\n",
    "xnew = np.arange(1,xmax,1)\n",
    "max_idx = np.argmax(X[X < xmax]) + 1\n",
    "\n",
    "\n",
    "plt.plot(X[:max_idx], new_sol.VF[:max_idx], 'o')"
   ]
  },
  {
   "cell_type": "code",
   "execution_count": 212,
   "id": "448d4d9f",
   "metadata": {},
   "outputs": [
    {
     "data": {
      "text/plain": [
       "[<matplotlib.lines.Line2D at 0x1244812b0>]"
      ]
     },
     "execution_count": 212,
     "metadata": {},
     "output_type": "execute_result"
    },
    {
     "data": {
      "image/png": "[encoded data removed]",
      "text/plain": [
       "<Figure size 432x288 with 1 Axes>"
      ]
     },
     "metadata": {
      "needs_background": "light"
     },
     "output_type": "display_data"
    }
   ],
   "source": [
    "plt.plot(X[:max_idx], new_sol.CP[:max_idx], 'o')"
   ]
  },
  {
   "cell_type": "code",
   "execution_count": 213,
   "id": "bd9a4c09",
   "metadata": {},
   "outputs": [
    {
     "data": {
      "text/plain": [
       "[<matplotlib.lines.Line2D at 0x12466d460>]"
      ]
     },
     "execution_count": 213,
     "metadata": {},
     "output_type": "execute_result"
    },
    {
     "data": {
      "image/png": "[encoded data removed]",
      "text/plain": [
       "<Figure size 432x288 with 1 Axes>"
      ]
     },
     "metadata": {
      "needs_background": "light"
     },
     "output_type": "display_data"
    }
   ],
   "source": [
    "plt.plot(X[:max_idx], new_sol.WP[:max_idx], 'o')"
   ]
  }
 ],
 "metadata": {
  "kernelspec": {
   "display_name": "Python 3",
   "language": "python",
   "name": "python3"
  },
  "language_info": {
   "codemirror_mode": {
    "name": "ipython",
    "version": 3
   },
   "file_extension": ".py",
   "mimetype": "text/x-python",
   "name": "python",
   "nbconvert_exporter": "python",
   "pygments_lexer": "ipython3",
   "version": "3.8.8"
  }
 },
 "nbformat": 4,
 "nbformat_minor": 5
}
