{
 "cells": [
  {
   "cell_type": "markdown",
   "metadata": {},
   "source": [
    "# 7 Solution Methods to Solve the Growth Model with Python\n",
    "\n",
    "This notebook is part of a computational appendix that accompanies the paper\n",
    "\n",
    "> MATLAB, Python, Julia: What to Choose in Economics?\n",
    "> > Coleman, Lyon, Maliar, and Maliar (2017)\n",
    "\n",
    "In order to run the codes in this notebook you will need to install and configure a few Python packages. We recommend downloading [Anaconda](https://www.continuum.io/downloads) and/or following the instructions on [quantecon.org](https://lectures.quantecon.org/py/getting_started.html). Once your Python installation is up and running, there are a few additional packages you will need in order to run the code here. To do this, you should remove the `# ` in front of the following commands and run the block below."
   ]
  },
  {
   "cell_type": "code",
   "execution_count": 900,
   "metadata": {
    "scrolled": true
   },
   "outputs": [],
   "source": [
    "# ! pip install git+https://github.com/EconForge/interpolation.py.git\n",
    "# ! pip install quantecon\n",
    "# ! pip install csaps"
   ]
  },
  {
   "cell_type": "code",
   "execution_count": 901,
   "metadata": {},
   "outputs": [],
   "source": [
    "import numpy as np\n",
    "import scipy.linalg as la\n",
    "import scipy.optimize as opt\n",
    "import time\n",
    "import quantecon as qe\n",
    "import matplotlib.pyplot as plt\n",
    "\n",
    "from collections import namedtuple\n",
    "from scipy.interpolate import interp1d, UnivariateSpline\n",
    "from scipy.misc import derivative\n",
    "from interpolation.complete_poly import (CompletePolynomial,\n",
    "                                         n_complete, complete_polynomial,\n",
    "                                         complete_polynomial_der,\n",
    "                                         _complete_poly_impl,\n",
    "                                         _complete_poly_impl_vec,\n",
    "                                         _complete_poly_der_impl,\n",
    "                                         _complete_poly_der_impl_vec)\n",
    "from numba import jit, vectorize"
   ]
  },
  {
   "cell_type": "markdown",
   "metadata": {},
   "source": [
    "## Model\n",
    "\n",
    "This section gives a short description of the commonly used stochastic Neoclassical growth model.\n",
    "\n",
    "There is a single infinitely-lived representative agent who consumes and saves using capital. The consumer discounts the future with factor $\\beta$ and derives utility from only consumption. Additionally, saved capital will depreciate at $\\delta$.\n",
    "\n",
    "The consumer has access to a Cobb-Douglas technology which uses capital saved from the previous period to produce and is subject to stochastic productivity shocks.\n",
    "\n",
    "Productivity shocks follow an AR(1) in logs.\n",
    "\n",
    "The agent's problem can be written recursively using the following Bellman equation\n",
    "\n",
    "\n",
    "$$\n",
    "\\begin{align}\n",
    "  V(k_t, z_t) &= \\max_{k_{t+1}} u(c_t) + \\beta E \\left[ V(k_{t+1}, z_{t+1}) \\right] \\\\\n",
    "  &\\text{subject to } \\\\\n",
    "  c_t &= z_t f(k_t) + (1 - \\delta) k_t - k_{t+1} \\\\\n",
    "  \\log z_{t+1} &= \\rho \\log z_t + \\sigma \\varepsilon\n",
    "\\end{align}\n",
    "$$\n",
    "\n",
    "$$\n",
    "\\begin{align*}\n",
    "    V(X, z) &= \\max_{\\tilde{c},\\tilde{s}} \\biggl\\{0,  u(c) + \\beta E \\bigl[V(X', z') \\bigr] \\biggr\\}\\\\\n",
    "    & \\text{ s.t. } \\tilde{c} \\geq 0; \\qquad \\tilde{s} \\geq 0 \\\\\n",
    "    & \\phantom{\\text{ s.t. } }N\\tilde{c} + N\\tilde{s} \\leq X \\\\\n",
    "    & \\phantom{\\text{ s.t. } } X' = \\max \\biggl\\{0, \\bigl[X - N\\tilde{c}  - N\\tilde{s} - z \\bigl(\\frac{\\tilde{c}}{\\tilde{s}}\\bigr)^\\phi \\bigr](1 + g_x) \\biggr\\} \\\\\n",
    "    & \\phantom{\\text{ s.t. } } u(\\tilde{c}) = \\bar{u} + \\ln(\\tilde{c}) \\\\\n",
    "    & \\phantom{\\text{ s.t. } } z \\sim Exp( \\bar{z} ) \n",
    "\\end{align*} \n",
    "$$"
   ]
  },
  {
   "cell_type": "markdown",
   "metadata": {},
   "source": [
    "## Python Code\n",
    "\n",
    "We begin by defining a `namedtuple` that contains the parameters of our model. This is useful to pass the parameters around to functions that are just-in-time (JIT) compiled by `numba`."
   ]
  },
  {
   "cell_type": "code",
   "execution_count": 902,
   "metadata": {},
   "outputs": [],
   "source": [
    "#\n",
    "# Create a named tuple type that we can pass into the jitted functions\n",
    "# so that we don't have to pass parameters one by one\n",
    "#\n",
    "Params = namedtuple(\"Params\", [\"N\", \"beta\", \"g\", \"a_bar\", \"eta\", \"u_bar\"])\n",
    "\n",
    "@jit(nopython=True)\n",
    "def param_unpack(params):\n",
    "    \"Unpack parameters from the Params type\"\n",
    "    out = (params.N, params.beta, params.g,\n",
    "           params.a_bar, params.eta, params.u_bar)\n",
    "\n",
    "    return out"
   ]
  },
  {
   "cell_type": "markdown",
   "metadata": {},
   "source": [
    "We will then define various helper functions to ensure that we [don't repeat ourselves](https://lectures.quantecon.org/py/writing_good_code.html#don-t-repeat-yourself) and that the inner functions can be JIT compiled."
   ]
  },
  {
   "cell_type": "code",
   "execution_count": 903,
   "metadata": {},
   "outputs": [],
   "source": [
    "#\n",
    "# Helper functions to make sure things are jitted\n",
    "#\n",
    "@vectorize(nopython=True)\n",
    "def u(c, eta, u_bar):\n",
    "    \"log utility function\"\n",
    "    return -1e10 if c < 1e-10 else (u_bar + np.log(c)) if eta==1 else (u_bar + (c**(1-eta)/(1-eta)))\n",
    "\n",
    "@vectorize(nopython=True)\n",
    "def du(c,eta):\n",
    "    \"Derivative of log utility function\"\n",
    "    return 1e10 if c < 1e-10 else c**(-eta)\n",
    "\n",
    "@vectorize(nopython=True)\n",
    "def duinv(u,eta):\n",
    "    \"Inverse of the derivative of the CRRA utility function\"\n",
    "    return u**(-1.0/eta )\n",
    "\n",
    "@vectorize(nopython=True)\n",
    "def f(X):\n",
    "    \"production function\"\n",
    "    return X\n",
    "\n",
    "@vectorize(nopython=True)\n",
    "def df(X):\n",
    "    \"Derivative of production function\"\n",
    "    return 1\n",
    "\n",
    "@vectorize(nopython=True)\n",
    "def discount_factor(beta, a_bar, c, w):\n",
    "    \"risk adjusted discount factor\"\n",
    "    return beta*a_bar*w/(c + a_bar*w)\n",
    "\n",
    "@vectorize(nopython=True)\n",
    "def next_x(X, N, g, c, w):\n",
    "    # next period's CPR given c and w\n",
    "    return (X - N*(c + w))*(1+g)\n",
    "\n",
    "@vectorize(nopython=True)\n",
    "def vector_dampen(vec1, vec2, dampen=1):\n",
    "    return dampen*vec1 + (1-dampen)*vec2\n",
    "\n",
    "@vectorize(nopython=True)\n",
    "def expendables(X, Xp, N, g):\n",
    "    # get expendables given X and X prime\n",
    "    return (1/N)*(X - Xp/(1 + g))\n",
    "\n",
    "@vectorize(nopython=True)\n",
    "def c_from_X_Xp(X, Xp, Vp, beta, a):\n",
    "    # get expendables given X and X prime\n",
    "    return -(2*E*a - 2*E*a**2 + E*a*(Vp*beta*(4*a + Vp*beta - 4))**0.5 - E*Vp*a*beta)/(2*(a**2 - 2*a + 1))\n",
    "\n",
    "@vectorize(nopython=True)\n",
    "def c_from_exp(Vp, E, beta, a_bar):\n",
    "    if Vp <= 0: \n",
    "        return E\n",
    "    return -(2*E*a_bar - 2*E*a_bar**2 + E*a_bar*(Vp*beta*(4*a_bar + Vp*beta - 4))**0.5 - E*Vp*a_bar*beta)/(2*(a_bar**2 - 2*a_bar + 1))\n",
    "\n",
    "\n",
    "\n",
    "def x_curve(x, a, b):\n",
    "    return a + b*x\n",
    "\n",
    "\n",
    "def v_curve(x, a, b, c, d):\n",
    "    return a*np.log(x)/(c - (x**b)) + d\n",
    "\n",
    "\n",
    "@vectorize(nopython=True)\n",
    "def trunc_to_one(X):\n",
    "    return X if X >= 1 else 1\n",
    "\n",
    "@vectorize(nopython=True)\n",
    "def psurvival(a_bar, c, w):\n",
    "    return a_bar*w/(c + a_bar*w)\n"
   ]
  },
  {
   "cell_type": "markdown",
   "metadata": {},
   "source": [
    "We also now define a class that contains\n",
    "\n",
    "1. Parameters of the growth model\n",
    "2. Grids used for approximating the solution\n",
    "3. Nodes and weights used to approximate integration\n",
    "\n",
    "This again helps us maintain all of the relevant information in one place and simplifies passing it to other functions."
   ]
  },
  {
   "cell_type": "code",
   "execution_count": 904,
   "metadata": {},
   "outputs": [],
   "source": [
    "class Model(object):\n",
    "    \"\"\"\n",
    "    The stochastic Neoclassical Growth model contains\n",
    "    parameters which include\n",
    "\n",
    "    * alpha: Capital share in output\n",
    "    * beta: discount factor\n",
    "    * delta: depreciation rate\n",
    "    * gamma: risk aversion\n",
    "    * rho: persistence of the log productivity level\n",
    "    * sigma: standard deviation of shocks to log productivity\n",
    "    \"\"\"\n",
    "    def __init__(self, N=1, beta=0.95, g_x=0.05, g_a=0.015, a_bar=1e5, \n",
    "                 eta=1, u_bar=0, \n",
    "                 xmin=50, xmax=2000, nx=100):\n",
    "        # calculate g from g_a and g_x \n",
    "        g = g_a + g_x + g_a*g_x\n",
    "\n",
    "        # Household parameters\n",
    "        self.beta, self.eta, self.u_bar, = beta, eta, u_bar\n",
    "\n",
    "        # Firm/technology parameters\n",
    "        self.N, self.g, self.a_bar = N, g, a_bar\n",
    "\n",
    "        # Create t grids\n",
    "        self.xgrid = N*np.geomspace(xmin, xmax, nx)\n",
    "        \n",
    "        self.ns = nx\n",
    "        \n",
    "    def _unpack_params(self):\n",
    "        out = (self.N, self.beta, self.g, \n",
    "               self.a_bar, self.eta, self.u_bar)\n",
    "        return out\n",
    "\n",
    "    def _unpack_grids(self):\n",
    "        out = (self.xgrid)\n",
    "        return out\n"
   ]
  },
  {
   "cell_type": "markdown",
   "metadata": {},
   "source": [
    "## Solution Methods\n",
    "\n",
    "In this notebook, we describe the following solution methods:\n",
    "\n",
    "* Conventional Value Function Iteration\n",
    "* Envelope Condition Value Function Iteration\n",
    "* Envelope Condition Derivative Value Function Iteration\n",
    "* Endogenous Grid Value Function Iteration\n",
    "* Conventional Policy Function Iteration\n",
    "* Envelope Condition Policy Function Iteration\n",
    "* Euler Equation Method\n",
    "\n",
    "Each of these solution methods will have a very similar structure that follows a few basic steps:\n",
    "\n",
    "1. Guess a function (either value function or policy function).\n",
    "2. Using this function, update our guess of both the value and policy functions.\n",
    "3. Check whether the function we guessed and what it was updated to are similar enough. If so, proceed. If not, return to step 2 using the updated functions.\n",
    "4. Output the policy and value functions.\n",
    "\n",
    "In order to reduce the amount of repeated code and keep the exposition as clean as possible (the notebook is plenty long as is...), we will define a class for each solution method that inherit various properties from a general solution parent class. The parent class will contain methods which apply to all of the other solution methods such as a general solve method, computing expectations, simulating, etc... This implementation may feel strange at first if one isn't familiar with object oriented programming, but these concepts can be powerful when properly used."
   ]
  },
  {
   "cell_type": "code",
   "execution_count": 905,
   "metadata": {},
   "outputs": [],
   "source": [
    "class GeneralSolution:\n",
    "    \"\"\"\n",
    "    This is a general solution method. We define this, so that we can\n",
    "    sub-class it and define specific update methods for each particular\n",
    "    solution method\n",
    "    \"\"\"\n",
    "    def __init__(self, ncgm,  maxfev=10000, prev_sol=None):\n",
    "        self.Xinf = None\n",
    "        # Save model and approximation degree\n",
    "        self.ncgm,  self.maxfev = ncgm, maxfev\n",
    "\n",
    "        # Unpack some info from ncgm\n",
    "        N, beta, g, a_bar, eta, u_bar = self._unpack_params()\n",
    "        X = self.ncgm.xgrid\n",
    "\n",
    "        # Use parameter values from model to create a namedtuple with\n",
    "        # parameters saved inside\n",
    "        self.params = Params(N, beta, g, a_bar, eta, u_bar)\n",
    "        \n",
    "        # initialize CP and WP as None:\n",
    "        self.CP = None\n",
    "        self.WP = None\n",
    "\n",
    "        # Update to fill initial value and policy matrices\n",
    "        # If we give it another solution type then use it to\n",
    "        # generate values and policies\n",
    "        if issubclass(type(prev_sol), GeneralSolution):\n",
    "            self.XP = prev_sol.build_XP(X)\n",
    "            self.VF = prev_sol.build_VF(X)\n",
    "        # If we give it a tuple then assume it is (policy, value) pair\n",
    "        elif type(prev_sol) is tuple:\n",
    "            self.XP = prev_sol[0]\n",
    "            self.VF = prev_sol[1]\n",
    "        # Otherwise guess a constant value function and a policy\n",
    "        # of roughly steady state\n",
    "        else:\n",
    "            # guess VF and XP\n",
    "            self.VF = np.log(X/N) \n",
    "            self.XP = X\n",
    "\n",
    "        # Params based on guesses\n",
    "        self.x_params, _ = opt.curve_fit(x_curve, X, self.XP, maxfev=self.maxfev)\n",
    "        self.v_params, _ = opt.curve_fit(v_curve, X, self.VF, maxfev=self.maxfev)\n",
    "\n",
    "\n",
    "    def _unpack_params(self):\n",
    "        return self.ncgm._unpack_params()\n",
    "        \n",
    "    def build_VF(self, X=None):\n",
    "        \"\"\"\n",
    "        Using the current coefficients, this builds the value function\n",
    "        for all states\n",
    "        \"\"\"\n",
    "        if X is None:\n",
    "            X = self.ncgm.xgrid\n",
    "            \n",
    "        VF = v_curve(X, *self.v_params)\n",
    "\n",
    "        return VF\n",
    "    \n",
    "    def build_XP(self, X=None):\n",
    "        if X is None:\n",
    "            X = self.ncgm.xgrid\n",
    "        \n",
    "        XP = np.clip(x_curve(X, *self.x_params), 0, X*(1 + self.ncgm.g))\n",
    "        \n",
    "        return XP\n",
    "\n",
    "    def build_CP(self, E=None, VP=None, X=None, XP=None):\n",
    "        \"\"\"\n",
    "        Using the current coefficients, this builds the policy function\n",
    "        for all states\n",
    "        \"\"\"\n",
    "        N, beta, g, a_bar, eta, u_bar = self._unpack_params()\n",
    "        \n",
    "        # Check if expected value next period (EVP) and expendables (E) are given\n",
    "        if VP is None or E is None:\n",
    "            if X is None:\n",
    "                X = self.ncgm.xgrid\n",
    "                \n",
    "            if XP is None:\n",
    "                XP = self.build_XP(X)\n",
    "                \n",
    "            VP = self.compute_EV(XP)\n",
    "            E = expendables(X, XP, N, g)\n",
    "            \n",
    "        CP = np.clip(c_from_exp(VP, E, beta, a_bar), 0, E)\n",
    "\n",
    "        return CP\n",
    "    \n",
    "    def build_WP(self, CP=None, E=None, VP=None, X=None, XP=None):\n",
    "        \"\"\"\n",
    "        Using the current coefficients, this builds the policy function\n",
    "        for all states\n",
    "        \"\"\"\n",
    "        if CP is None or E is None:\n",
    "            N, beta, g, a_bar, eta, u_bar = self._unpack_params()\n",
    "            if VP is None or E is None:\n",
    "                if X is None:\n",
    "                    X = self.ncgm.xgrid\n",
    "\n",
    "                if XP is None:\n",
    "                    XP = self.build_XP(X)\n",
    "\n",
    "                VP = self.compute_EV(XP)\n",
    "                E = expendables(X, XP, N, g)\n",
    "\n",
    "                CP = np.clip(c_from_exp(VP, E, beta, a_bar), 0, X/self.ncgm.N)\n",
    "            else:\n",
    "                CP = self.build_CP(E=E, VP=VP)\n",
    "            \n",
    "        return E - CP\n",
    "\n",
    "    def update_v(self, new_v_params, dampen=1):\n",
    "        \"\"\"\n",
    "        Updates the coefficients for the value function\n",
    "        \"\"\"\n",
    "        self.v_params = (1-dampen)*self.v_params + dampen*new_v_params\n",
    "\n",
    "        return None\n",
    "\n",
    "    def update_x(self, new_x_params, dampen=1):\n",
    "        \"\"\"\n",
    "        Updates the coefficients for the policy function\n",
    "        \"\"\"\n",
    "        self.x_params = (1-dampen)*self.x_params + dampen*new_x_params\n",
    "\n",
    "    def update(self):\n",
    "        \"\"\"\n",
    "        Given the current state of everything in solution, update the\n",
    "        value and policy coefficients\n",
    "        \"\"\"\n",
    "        emsg = \"The update method is implemented in solution specific classes\"\n",
    "        emsg += \"\\nand cannot be called from `GeneralSolution`\"\n",
    "        raise ValueError(emsg)\n",
    "        \n",
    "    def compute_spline(self, XP, VF):\n",
    "        v_spline = interp1d(\n",
    "            self.ncgm.xgrid, \n",
    "            VF, \n",
    "            kind=self.interpolator, \n",
    "            fill_value=\"extrapolate\",\n",
    "            assume_sorted=True\n",
    "        )\n",
    "      \n",
    "        return v_spline\n",
    "    \n",
    "    def compute_params(self, XP, VF):\n",
    "        if isinstance(self, IterateOnPolicy):\n",
    "            new_x_params = self.x_params\n",
    "        else:\n",
    "            new_x_params, _ = opt.curve_fit(x_curve, self.ncgm.xgrid, XP, maxfev=self.maxfev)\n",
    "        \n",
    "        new_v_params, _ = opt.curve_fit(v_curve, self.ncgm.xgrid, VF, maxfev=self.maxfev) \n",
    "        \n",
    "        return new_x_params, new_v_params\n",
    "\n",
    "    def compute_EV_scalar(self, XP):\n",
    "        val = self.build_VF(XP)\n",
    "        \n",
    "        return val\n",
    "\n",
    "    def compute_EV(self, XP=None):\n",
    "        \"\"\"\n",
    "        Compute the expected value\n",
    "        \"\"\"\n",
    "        if XP is None:\n",
    "            # Use policy to compute XP\n",
    "            XP = self.build_XP()\n",
    "        \n",
    "        EV = self.build_VF(XP) \n",
    "        \n",
    "        return EV\n",
    "\n",
    "\n",
    "    def compute_distance(self, XP, VF):\n",
    "        \"\"\"\n",
    "        Computes average distance between policy functions\n",
    "        \"\"\"\n",
    "        return np.max(np.abs(1.0 - (XP+1e-12)/(self.XP+1e-12)))\n",
    "    \n",
    "\n",
    "    def solve(self, tol=1e-6, maxiter=2500, verbose=False, nskipprint=25):\n",
    "        # Iterate until convergence\n",
    "        dist, it = 10.0, 0\n",
    "        while (dist>tol) and (it<maxiter):\n",
    "            # Run solution specific update code\n",
    "            XP, VF = self.update()\n",
    "\n",
    "            # Compute new policy and value coeffs\n",
    "            new_x_params,  new_v_params = self.compute_params(XP, VF)\n",
    "\n",
    "            # Update distance and iterations\n",
    "            dist = self.compute_distance(XP, VF)\n",
    "            self.XP, self.VF = XP, VF\n",
    "            it += 1\n",
    "            if verbose and it%nskipprint == 0:\n",
    "                print(it, dist)\n",
    "\n",
    "            # Update all coefficients\n",
    "            self.update_x(new_x_params)\n",
    "            self.update_v(new_v_params)\n",
    "\n",
    "        # After finishing iteration, iterate to convergence using policy\n",
    "        if not isinstance(self, IterateOnPolicy):\n",
    "            sol_iop = IterateOnPolicy(self.ncgm, self.maxfev, self)\n",
    "            XP, VF = sol_iop.solve(tol=1e-6)\n",
    "\n",
    "            # Save final versions of everything\n",
    "            self.XP, self.VF = XP, VF\n",
    "            \n",
    "            new_x_params, new_v_params = sol_iop.compute_params(XP, VF)\n",
    "            self.update_x(new_x_params)\n",
    "            self.update_v(new_v_params)\n",
    "\n",
    "        return self.XP, self.VF\n",
    "        \n",
    "\n",
    "    def simulate(self, X=None, T=1000, s=1):\n",
    "        \"\"\"\n",
    "        Simulates the neoclassical growth model with policy function\n",
    "        given by self.KP. Simulates for `T` periods and discarsd first\n",
    "        nburn `observations`\n",
    "        \"\"\"\n",
    "        N, beta, g, a_bar, eta, u_bar = self._unpack_params()\n",
    "        # X is starting point, if None, set to N*274\n",
    "        if X is None:\n",
    "            X = N*274\n",
    "            \n",
    "        def recurse_bellman(x, t):\n",
    "            if x <= 0:\n",
    "                return 0, 0, x, t\n",
    "            if t >= T:\n",
    "                return u(x/N, eta, u_bar), 1, x, T\n",
    "            \n",
    "            c_corner = x/N \n",
    "            u_corner = u(c_corner, eta, u_bar)\n",
    "            \n",
    "            xp = self.build_XP(x)\n",
    "            e = expendables(x, xp, N, g)\n",
    "            evp = self.compute_EV_scalar(xp)\n",
    "            \n",
    "            c = self.build_CP(VP=evp, E=e)\n",
    "            w = e - c\n",
    "            \n",
    "            if s != 1:\n",
    "                c = s*c\n",
    "                w = s*w\n",
    "                xp = next_x(x, N, g, c, w)\n",
    "            \n",
    "            if w <= 0:\n",
    "                return u_corner, 0, 0, t+1\n",
    "                \n",
    "            m_t = psurvival(a_bar, c, w)\n",
    "            u_t = u(c, eta, u_bar)\n",
    "            \n",
    "            vp, mp, final_state, nperiods = recurse_bellman(xp, t+1)\n",
    "            \n",
    "            if u_t + beta*m_t*vp < u_corner:\n",
    "                return u_corner, 0, 0, t+1\n",
    "            \n",
    "            return u_t + beta*m_t*vp, m_t*mp, final_state, nperiods\n",
    "        \n",
    "        return recurse_bellman(X, 0)\n",
    "        \n",
    "    \n",
    "    def compute_Xdot(self, X=None, XP=None):\n",
    "        if X is None:\n",
    "            X = self.ncgm.xgrid\n",
    "        if XP is None:\n",
    "            XP = self.build_XP(X)\n",
    "        \n",
    "        return XP - X\n"
   ]
  },
  {
   "cell_type": "markdown",
   "metadata": {},
   "source": [
    "### Iterating to Convergence (given policy)\n",
    "\n",
    "This isn't one of the methods described above, but it is used as an element of a few of our methods (and also as a way to get a first guess at the value function). This method takes an initial policy function, $\\bar{k}(k_t, z_t)$, as given, and then, without changing the policy, iterates until the value function has converged.\n",
    "\n",
    "Thus the \"update section\" of the algorithm in this instance would be:\n",
    "\n",
    "* Leave policy function unchanged\n",
    "* At each point of grid, $(k_t, z_t)$, compute $\\hat{V}(k_t, z_t) = u(c(\\bar{k}(k_t, z_t))) + \\beta E \\left[ V(\\bar{k}(k_t, z_t), z_{t+1}) \\right]$\n",
    "\n",
    "We override two of the methods from `GeneralSolution`\n",
    "\n",
    "* `compute_distance` because when we are iterating to convergence on the value function we want to check distnace using value function rather than policy function\n",
    "* `compute_coefficients` because we don't need to update the policy functions coefficients.\n",
    "\n",
    "The `update` method just repeatedly applies a particular policy function to update the value function."
   ]
  },
  {
   "cell_type": "code",
   "execution_count": 906,
   "metadata": {},
   "outputs": [],
   "source": [
    "class IterateOnPolicy(GeneralSolution):\n",
    "    \"\"\"\n",
    "    Subclass of the general solution method. The update method for this\n",
    "    class simply computes the fixed point of the value function given\n",
    "    a specific policy\n",
    "    \"\"\"\n",
    "    def compute_distance(self, XP, VF):\n",
    "        \"\"\"\n",
    "        Computes distance between policy functions. When we are\n",
    "        iterating on a specific policy, we would like to compute\n",
    "        distances by the difference between VFs\n",
    "        \"\"\"\n",
    "        return np.max(np.abs(1.0 - (VF )/(self.VF )))\n",
    "    \n",
    "    def update(self):\n",
    "        # Unpack parameters\n",
    "        N, beta, g, a_bar, eta, u_bar = self._unpack_params()\n",
    "        X = self.ncgm.xgrid\n",
    "        \n",
    "        if self.CP is None or self.WP is None:\n",
    "            VP = self.compute_EV(self.XP)\n",
    "            E = expendables(X, self.XP, N, g)\n",
    "            self.CP = self.build_CP(VP=VP, E=E)\n",
    "            self.WP = E - self.CP\n",
    "        \n",
    "        # Update the value function\n",
    "        VF = u(self.CP, eta, u_bar) + discount_factor(beta, a_bar, self.CP, self.WP)*np.maximum(self.compute_EV(self.XP), np.zeros(self.ncgm.ns))\n",
    "\n",
    "        return self.XP, VF"
   ]
  },
  {
   "cell_type": "markdown",
   "metadata": {},
   "source": [
    "### Conventional Value Function Iteration\n",
    "\n",
    "This is one of the first solution methods for macroeconomics a graduate student in economics typically learns.\n",
    "\n",
    "In this solution method, one takes as given a value function, $V(k_t, z_t)$, and then solves for the optimal policy given the value function.\n",
    "\n",
    "The update section takes the form:\n",
    "\n",
    "* For each point, $(k_t, z_t)$, numerically solve for $c^*(k_t, z_t)$ to satisfy the first order condition $u'(c^*) = \\beta E \\left[ V_1((1 - \\delta) k_t + z_t f(k_t) - c^*, z_{t+1}) \\right]$\n",
    "* Define $k^*(k_t, z_t) = (1 - \\delta) k_t + z_t f(k_t) - c^*(k_t, z_t)$\n",
    "* Update value function according to $\\hat{V}(k_t, z_t) = u(c^*(k_t, z_t)) + \\beta E \\left[ V(k^*(k_t, z_t), z_{t+1}) \\right]$\n",
    "\n",
    "\n",
    "* For each point, $(X_t, z_t)$, numerically solve for $c^*(X_t, z_t)$ to satisfy the first order condition $u'(\\tilde{c}^\\ast) = \\beta E \\left[ V_1((1 - \\delta) k_t + z_t f(k_t) - c^*, z_{t+1}) \\right]$\n",
    "* Define $k^*(k_t, z_t) = (1 - \\delta) k_t + z_t f(k_t) - c^*(k_t, z_t)$\n",
    "* Update value function according to $\\hat{V}(k_t, z_t) = u(c^*(k_t, z_t)) + \\beta E \\left[ V(k^*(k_t, z_t), z_{t+1}) \\right]$\n",
    "\n",
    "\n"
   ]
  },
  {
   "cell_type": "code",
   "execution_count": 907,
   "metadata": {},
   "outputs": [],
   "source": [
    "class VFI(GeneralSolution):\n",
    "    \"\"\"\n",
    "    Updates the coefficients and value functions using the VFI\n",
    "    method\n",
    "    \"\"\"\n",
    "    def update(self):\n",
    "        \"\"\"\n",
    "        Updates the coefficients and value functions using the VFI_ECM\n",
    "        method\n",
    "        \"\"\"\n",
    "        # Unpack parameters\n",
    "        N, beta, g, a_bar, eta, u_bar = self._unpack_params()\n",
    "        xgrid = self.ncgm.xgrid\n",
    "        n_state = xgrid.shape[0]\n",
    "\n",
    "        # Get the policy and update it\n",
    "        XP = np.empty(n_state)\n",
    "        VF = np.empty(n_state)\n",
    "        for i_s in range(n_state):\n",
    "            # Pull out current vals\n",
    "            X = xgrid[i_s]\n",
    "            def _f(_xp):\n",
    "                EV = self.compute_EV_scalar(_xp)\n",
    "                E = expendables(X, _xp, N, g)\n",
    "            \n",
    "                if E <= 0:\n",
    "                    return -u(X/N, 1, u_bar)**2\n",
    "                \n",
    "                _cp = self.build_CP(VP=EV, E=E)\n",
    "                _wp = E - _cp\n",
    "                \n",
    "                return -(u(_cp, 1, u_bar) + discount_factor(beta, a_bar, _cp, _wp)*EV)**2\n",
    "                \n",
    "            \n",
    "            _xp = opt.fminbound(_f, 1, X*(1+g), xtol=1e-12)\n",
    "            EV = self.compute_EV_scalar(_xp)\n",
    "            E = expendables(X, _xp, N, g)\n",
    "            if E <= 0:\n",
    "                _xp = 0\n",
    "                _vf = u(X/N, 1, u_bar)\n",
    "            else:\n",
    "                cp = self.build_CP(VP=EV, E=E)\n",
    "                wp = E - cp\n",
    "                \n",
    "                _vf = u(cp, 1, u_bar) + discount_factor(beta, a_bar, cp, wp)*EV\n",
    "             \n",
    "            if _vf < 0:\n",
    "                XP[i_s] = 0\n",
    "                VF[i_s] = u(X/N, eta, u_bar)\n",
    "            else:                \n",
    "                XP[i_s] = _xp\n",
    "                VF[i_s] = _vf\n",
    "\n",
    "        return XP, VF\n"
   ]
  },
  {
   "cell_type": "markdown",
   "metadata": {},
   "source": [
    "## A Horse Race\n",
    "\n",
    "We can now run a horse race to compare the methods in terms of both accuracy and speed."
   ]
  },
  {
   "cell_type": "code",
   "execution_count": 908,
   "metadata": {
    "scrolled": true
   },
   "outputs": [
    {
     "name": "stderr",
     "output_type": "stream",
     "text": [
      "/Users/mikemahon/anaconda3/lib/python3.8/site-packages/scipy/optimize/minpack.py:828: OptimizeWarning: Covariance of the parameters could not be estimated\n",
      "  warnings.warn('Covariance of the parameters could not be estimated',\n",
      "/Users/mikemahon/anaconda3/lib/python3.8/site-packages/scipy/optimize/minpack.py:828: OptimizeWarning: Covariance of the parameters could not be estimated\n",
      "  warnings.warn('Covariance of the parameters could not be estimated',\n"
     ]
    },
    {
     "name": "stdout",
     "output_type": "stream",
     "text": [
      "vp done\n",
      "25 7.952191264370967e-06\n",
      "50 2.205148122769174e-06\n"
     ]
    }
   ],
   "source": [
    "ncgm = Model(N=1, a_bar=1e5, beta=0.95, g_x=0.05, xmin=200, xmax=5000, nx=100)\n",
    "\n",
    "# First guess\n",
    "vp = IterateOnPolicy(ncgm, maxfev=50000)\n",
    "vp.solve(tol=1e-9)\n",
    "\n",
    "np.random.seed(61089)\n",
    "\n",
    "\n",
    "\n",
    "print('vp done')\n",
    "new_sol = vp\n",
    "new_sol = VFI(ncgm, maxfev=100000, prev_sol=vp)\n",
    "ts = time.time()\n",
    "new_sol.solve(tol=1e-6, verbose=True, nskipprint=25)\n",
    "time_took = time.time() - ts"
   ]
  },
  {
   "cell_type": "code",
   "execution_count": 909,
   "metadata": {},
   "outputs": [],
   "source": [
    "N, beta, g, a_bar, eta, u_bar = new_sol._unpack_params()\n",
    "X = new_sol.ncgm.xgrid\n",
    "VF = new_sol.VF\n",
    "XP = new_sol.XP\n",
    "CP = new_sol.build_CP()\n",
    "WP = new_sol.build_WP()"
   ]
  },
  {
   "cell_type": "code",
   "execution_count": 910,
   "metadata": {},
   "outputs": [
    {
     "data": {
      "text/plain": [
       "array([ 200.        ,  206.60964991,  213.43773718,  220.49148078,\n",
       "        227.77833826,  235.30601362,  243.08246548,  251.11591546,\n",
       "        259.41485689,  267.98806382,  276.84460023,  285.99382966,\n",
       "        295.44542511,  305.20937925,  315.29601498,  325.71599636,\n",
       "        336.48033989,  347.60042613,  359.08801175,  370.95524197,\n",
       "        383.21466338,  395.8792372 ,  408.96235302,  422.47784292,\n",
       "        436.4399961 ,  450.863574  ,  465.76382591,  481.15650505,\n",
       "        497.0578853 ,  513.48477833,  530.45455142,  547.98514581,\n",
       "        566.09509566,  584.80354764,  604.13028122,  624.09572951,\n",
       "        644.72100092,  666.02790144,  688.03895773,  710.7774409 ,\n",
       "        734.26739114,  758.53364312,  783.60185224,  809.4985218 ,\n",
       "        836.25103095,  863.8876637 ,  892.43763879,  921.93114058,\n",
       "        952.39935098,  983.87448239, 1016.38981181, 1049.97971594,\n",
       "       1084.67970761, 1120.52647326, 1157.55791177, 1195.8131745 ,\n",
       "       1235.3327067 , 1276.15829026, 1318.33308789, 1361.90168876,\n",
       "       1406.91015563, 1453.40607354, 1501.43860015, 1551.05851768,\n",
       "       1602.31828663, 1655.27210121, 1709.97594668, 1766.48765848,\n",
       "       1824.86698343, 1885.17564288, 1947.47739796, 2011.83811699,\n",
       "       2078.32584512, 2147.01087629, 2217.9658275 , 2291.26571565,\n",
       "       2366.98803679, 2445.2128481 , 2526.02285249, 2609.50348607,\n",
       "       2695.74300847, 2784.83259612, 2876.86643869, 2971.94183866,\n",
       "       3070.15931417, 3171.62270533, 3276.43928395, 3384.71986703,\n",
       "       3496.57893383, 3612.13474698, 3731.50947749, 3854.82933388,\n",
       "       3982.22469565, 4113.83025113, 4249.78513985, 4390.23309966,\n",
       "       4535.3226187 , 4685.20709236, 4840.04498551, 5000.        ])"
      ]
     },
     "execution_count": 910,
     "metadata": {},
     "output_type": "execute_result"
    }
   ],
   "source": [
    "X"
   ]
  },
  {
   "cell_type": "code",
   "execution_count": 911,
   "metadata": {},
   "outputs": [
    {
     "data": {
      "text/plain": [
       "array([ 49.84253995,  50.48836696,  51.13419575,  51.78002628,\n",
       "        52.42585853,  53.07169246,  53.71752804,  54.36336524,\n",
       "        55.00920404,  55.6550444 ,  56.3008863 ,  56.94672971,\n",
       "        57.59257461,  58.23842097,  58.88426876,  59.53011798,\n",
       "        60.17596858,  60.82182055,  61.46767387,  62.11352852,\n",
       "        62.75938447,  63.4052417 ,  64.05110021,  64.69695996,\n",
       "        65.34282093,  65.98868312,  66.63454651,  67.28041106,\n",
       "        67.92627678,  68.57214364,  69.21801162,  69.86388072,\n",
       "        70.50975091,  71.15562218,  71.80149451,  72.4473679 ,\n",
       "        73.09324233,  73.73911777,  74.38499423,  75.03087169,\n",
       "        75.67675013,  76.32262954,  76.96850991,  77.61439123,\n",
       "        78.26027349,  78.90615667,  79.55204076,  80.19792576,\n",
       "        80.84381164,  81.48969841,  82.13558604,  82.78147454,\n",
       "        83.42736388,  84.07325407,  84.71914509,  85.36503692,\n",
       "        86.01092957,  86.65682302,  87.30271727,  87.9486123 ,\n",
       "        88.5945081 ,  89.24040468,  89.88630201,  90.53220009,\n",
       "        91.17809892,  91.82399849,  92.46989878,  93.11579979,\n",
       "        93.76170151,  94.40760394,  95.05350707,  95.69941089,\n",
       "        96.34531539,  96.99122057,  97.63712642,  98.28303293,\n",
       "        98.9289401 ,  99.57484793, 100.22075639, 100.8666655 ,\n",
       "       101.51257524, 102.1584856 , 102.80439658, 103.45030818,\n",
       "       104.09622039, 104.7421332 , 105.38804661, 106.03396061,\n",
       "       106.6798752 , 107.32579037, 107.97170611, 108.61762243,\n",
       "       109.26353931, 109.90945675, 110.55537475, 111.2012933 ,\n",
       "       111.8472124 , 112.49313204, 113.13905221, 113.78497292])"
      ]
     },
     "execution_count": 911,
     "metadata": {},
     "output_type": "execute_result"
    }
   ],
   "source": [
    "VF"
   ]
  },
  {
   "cell_type": "code",
   "execution_count": 912,
   "metadata": {},
   "outputs": [
    {
     "data": {
      "text/plain": [
       "array([ 202.41449916,  209.1040278 ,  216.01463365,  223.15362292,\n",
       "        230.5285433 ,  238.14719188,  246.01762346,  254.14815903,\n",
       "        262.54739457,  271.22421014,  280.18777928,  289.44757868,\n",
       "        299.01339825,  308.89535141,  319.10388582,  329.64979443,\n",
       "        340.54422685,  351.7987012 ,  363.42511622,  375.43576391,\n",
       "        387.84334248,  400.6609698 ,  413.90219727,  427.58102413,\n",
       "        441.71191228,  456.30980154,  471.39012548,  486.96882774,\n",
       "        503.06237884,  519.68779362,  536.86264927,  554.60510383,\n",
       "        572.93391546,  591.86846223,  611.42876262,  631.6354967 ,\n",
       "        652.51002797,  674.07442597,  696.35148956,  719.36477112,\n",
       "        743.13860134,  767.69811504,  793.06927768,  819.27891283,\n",
       "        846.35473055,  874.32535664,  903.22036297,  933.07029867,\n",
       "        963.9067225 ,  995.76223616, 1028.67051878, 1062.66636254,\n",
       "       1097.78570943, 1134.06568926, 1171.54465892, 1210.26224291,\n",
       "       1250.25937529, 1291.57834287, 1334.26283001, 1378.35796473,\n",
       "       1423.91036647, 1470.96819534, 1519.58120309, 1569.80078565,\n",
       "       1621.6800375 , 1675.27380782, 1730.63875843, 1787.83342375,\n",
       "       1846.91827264, 1907.95577236, 1971.0104546 , 2036.14898371,\n",
       "       2103.44022719, 2172.95532848, 2244.76778218, 2318.95351177,\n",
       "       2395.59094986, 2474.76112113, 2556.54772798, 2641.03723903,\n",
       "       2728.31898051, 2818.48523077, 2911.63131777, 3007.8557199 ,\n",
       "       3107.26017008, 3209.94976334, 3316.03306789, 3425.62223997,\n",
       "       3538.83314236, 3655.7854669 , 3776.60286105, 3901.41305859,\n",
       "       4030.34801468, 4163.54404537, 4301.14197173, 4443.28726869,\n",
       "       4590.1302189 , 4741.82607157, 4898.53520663, 5060.4233043 ])"
      ]
     },
     "execution_count": 912,
     "metadata": {},
     "output_type": "execute_result"
    }
   ],
   "source": [
    "XP"
   ]
  },
  {
   "cell_type": "code",
   "execution_count": 913,
   "metadata": {},
   "outputs": [
    {
     "data": {
      "text/plain": [
       "array([  9.85595349,  10.18017127,  10.51506629,  10.8609903 ,\n",
       "        11.21830666,  11.58739067,  11.96863003,  12.3624252 ,\n",
       "        12.76918984,  13.18935125,  13.62335079,  14.0716444 ,\n",
       "        14.53470303,  15.01301313,  15.50707722,  16.01741435,\n",
       "        16.5445607 ,  17.0890701 ,  17.65151466,  18.23248532,\n",
       "        18.83259251,  19.45246677,  20.09275943,  20.75414329,\n",
       "        21.43731331,  22.14298737,  22.87190701,  23.62483819,\n",
       "        24.40257215,  25.20592618,  26.03574452,  26.89289924,\n",
       "        27.77829115,  28.69285075,  29.63753922,  30.6133494 ,\n",
       "        31.62130687,  32.66247102,  33.73793615,  34.84883264,\n",
       "        35.9963281 ,  37.18162867,  38.40598022,  39.67066969,\n",
       "        40.97702646,  42.32642369,  43.72027985,  45.16006014,\n",
       "        46.64727806,  48.18349701,  49.77033191,  51.40945094,\n",
       "        53.10257725,  54.85149079,  56.6580302 ,  58.52409472,\n",
       "        60.4516462 ,  62.44271117,  64.49938294,  66.62382386,\n",
       "        68.81826755,  71.08502125,  73.42646828,  75.84507051,\n",
       "        78.34337098,  80.92399657,  83.58966074,  86.34316642,\n",
       "        89.18740894,  92.12537907,  95.16016619,  98.29496154,\n",
       "       101.53306152, 104.87787126, 108.33290811, 111.9018054 ,\n",
       "       115.58831623, 119.39631745, 123.32981371, 127.39294169,\n",
       "       131.58997446, 135.92532594, 140.4035556 , 145.02937323,\n",
       "       149.80764389, 154.74339302, 159.84181178, 165.10826247,\n",
       "       170.54828417, 176.16759858, 181.97211608, 187.96794188,\n",
       "       194.1613825 , 200.55895238, 207.16738074, 213.99361868,\n",
       "       221.04484648, 228.32848117, 235.8521843 , 243.62387005])"
      ]
     },
     "execution_count": 913,
     "metadata": {},
     "output_type": "execute_result"
    }
   ],
   "source": [
    "CP"
   ]
  },
  {
   "cell_type": "code",
   "execution_count": 914,
   "metadata": {},
   "outputs": [
    {
     "data": {
      "text/plain": [
       "array([0.21723519, 0.22584008, 0.23476693, 0.24402749, 0.25363395,\n",
       "       0.2635989 , 0.27393541, 0.28465701, 0.29577771, 0.30731202,\n",
       "       0.31927498, 0.33168215, 0.34454967, 0.35789424, 0.37173314,\n",
       "       0.38608431, 0.40096629, 0.4163983 , 0.43240024, 0.44899272,\n",
       "       0.46619709, 0.48403545, 0.5025307 , 0.52170654, 0.54158752,\n",
       "       0.56219907, 0.58356752, 0.60572012, 0.62868511, 0.65249173,\n",
       "       0.67717024, 0.70275201, 0.72926947, 0.75675626, 0.78524717,\n",
       "       0.81477823, 0.84538677, 0.87711143, 0.9099922 , 0.94407051,\n",
       "       0.97938925, 1.01599282, 1.05392721, 1.09324002, 1.13398052,\n",
       "       1.17619977, 1.21995057, 1.26528765, 1.31226761, 1.36094911,\n",
       "       1.41139283, 1.46366162, 1.51782055, 1.57393695, 1.63208057,\n",
       "       1.69232359, 1.75474074, 1.81940938, 1.88640961, 1.95582434,\n",
       "       2.02773939, 2.10224362, 2.17942899, 2.25939073, 2.34222739,\n",
       "       2.42804101, 2.51693719, 2.60902525, 2.70441837, 2.80323369,\n",
       "       2.90559246, 3.01162019, 3.12144681, 3.23520679, 3.35303933,\n",
       "       3.47508851, 3.60150347, 3.73243857, 3.86805357, 4.00851386,\n",
       "       4.1539906 , 4.30466096, 4.46070831, 4.62232243, 4.78969977,\n",
       "       4.96304364, 5.14256446, 5.32848002, 5.52101573, 5.72040488,\n",
       "       5.92688892, 6.14071774, 6.36214995, 6.59145323, 6.82890458,\n",
       "       7.07479068, 7.32940825, 7.59306433, 7.86607672, 8.14877428])"
      ]
     },
     "execution_count": 914,
     "metadata": {},
     "output_type": "execute_result"
    }
   ],
   "source": [
    "WP"
   ]
  },
  {
   "cell_type": "code",
   "execution_count": 915,
   "metadata": {},
   "outputs": [
    {
     "data": {
      "text/plain": [
       "array([0.0120725 , 0.0120729 , 0.01207329, 0.01207367, 0.01207404,\n",
       "       0.0120744 , 0.01207474, 0.01207508, 0.0120754 , 0.01207571,\n",
       "       0.01207601, 0.01207631, 0.01207659, 0.01207686, 0.01207713,\n",
       "       0.01207739, 0.01207764, 0.01207788, 0.01207811, 0.01207834,\n",
       "       0.01207855, 0.01207877, 0.01207897, 0.01207917, 0.01207936,\n",
       "       0.01207955, 0.01207973, 0.0120799 , 0.01208007, 0.01208023,\n",
       "       0.01208039, 0.01208054, 0.01208069, 0.01208083, 0.01208097,\n",
       "       0.01208111, 0.01208124, 0.01208136, 0.01208148, 0.0120816 ,\n",
       "       0.01208172, 0.01208183, 0.01208193, 0.01208204, 0.01208214,\n",
       "       0.01208223, 0.01208233, 0.01208242, 0.01208251, 0.01208259,\n",
       "       0.01208267, 0.01208275, 0.01208283, 0.01208291, 0.01208298,\n",
       "       0.01208305, 0.01208312, 0.01208318, 0.01208325, 0.01208331,\n",
       "       0.01208337, 0.01208342, 0.01208348, 0.01208353, 0.01208359,\n",
       "       0.01208364, 0.01208369, 0.01208373, 0.01208378, 0.01208382,\n",
       "       0.01208387, 0.01208391, 0.01208395, 0.01208399, 0.01208403,\n",
       "       0.01208406, 0.0120841 , 0.01208413, 0.01208416, 0.0120842 ,\n",
       "       0.01208423, 0.01208426, 0.01208429, 0.01208431, 0.01208434,\n",
       "       0.01208437, 0.01208439, 0.01208442, 0.01208444, 0.01208447,\n",
       "       0.01208449, 0.01208451, 0.01208453, 0.01208455, 0.01208457,\n",
       "       0.01208459, 0.01208461, 0.01208463, 0.01208464, 0.01208466])"
      ]
     },
     "execution_count": 915,
     "metadata": {},
     "output_type": "execute_result"
    }
   ],
   "source": [
    "new_sol.compute_Xdot(X)/X"
   ]
  },
  {
   "cell_type": "code",
   "execution_count": 916,
   "metadata": {},
   "outputs": [
    {
     "data": {
      "text/plain": [
       "array([ 202.41449916,  209.1040278 ,  216.01463365,  223.15362292,\n",
       "        230.5285433 ,  238.14719188,  246.01762346,  254.14815903,\n",
       "        262.54739457,  271.22421014,  280.18777928,  289.44757868,\n",
       "        299.01339825,  308.89535141,  319.10388582,  329.64979443,\n",
       "        340.54422685,  351.7987012 ,  363.42511622,  375.43576391,\n",
       "        387.84334248,  400.6609698 ,  413.90219727,  427.58102413,\n",
       "        441.71191228,  456.30980154,  471.39012548,  486.96882774,\n",
       "        503.06237884,  519.68779362,  536.86264927,  554.60510383,\n",
       "        572.93391546,  591.86846223,  611.42876262,  631.6354967 ,\n",
       "        652.51002797,  674.07442597,  696.35148956,  719.36477112,\n",
       "        743.13860134,  767.69811504,  793.06927768,  819.27891283,\n",
       "        846.35473055,  874.32535664,  903.22036297,  933.07029867,\n",
       "        963.9067225 ,  995.76223616, 1028.67051878, 1062.66636254,\n",
       "       1097.78570943, 1134.06568926, 1171.54465892, 1210.26224291,\n",
       "       1250.25937529, 1291.57834287, 1334.26283001, 1378.35796473,\n",
       "       1423.91036647, 1470.96819534, 1519.58120309, 1569.80078565,\n",
       "       1621.6800375 , 1675.27380782, 1730.63875843, 1787.83342375,\n",
       "       1846.91827264, 1907.95577236, 1971.0104546 , 2036.14898371,\n",
       "       2103.44022719, 2172.95532848, 2244.76778218, 2318.95351177,\n",
       "       2395.59094986, 2474.76112113, 2556.54772798, 2641.03723903,\n",
       "       2728.31898051, 2818.48523077, 2911.63131777, 3007.8557199 ,\n",
       "       3107.26017008, 3209.94976334, 3316.03306789, 3425.62223997,\n",
       "       3538.83314236, 3655.7854669 , 3776.60286105, 3901.41305859,\n",
       "       4030.34801468, 4163.54404537, 4301.14197173, 4443.28726869,\n",
       "       4590.1302189 , 4741.82607157, 4898.53520663, 5060.4233043 ])"
      ]
     },
     "execution_count": 916,
     "metadata": {},
     "output_type": "execute_result"
    }
   ],
   "source": [
    "new_sol.XP"
   ]
  },
  {
   "cell_type": "code",
   "execution_count": 917,
   "metadata": {},
   "outputs": [
    {
     "name": "stdout",
     "output_type": "stream",
     "text": [
      "x/N:  100.0\n",
      "VF estimate:  36.07241688499514\n",
      "new_sol.simulate(x,2000,s=1):  (36.11174762792869, 0.6422315382191394, 2711494876629.273, 2000)\n",
      "sim_res1 (s=1):  36.11174762792869\n",
      "sim_res2 (s=0.9):  36.083179134360975\n",
      "sim_res3 (s=1.1):  36.088265733857725\n",
      "sim_res2 < sim_res1 > sim_res3???:  True\n",
      "\n",
      "x/N:  200.0\n",
      "VF estimate:  49.8417085087789\n",
      "new_sol.simulate(x,2000,s=1):  (49.85263049592812, 0.6554955001813801, 5428687984770.545, 2000)\n",
      "sim_res1 (s=1):  49.85263049592812\n",
      "sim_res2 (s=0.9):  49.82501040722077\n",
      "sim_res3 (s=1.1):  49.82808551518394\n",
      "sim_res2 < sim_res1 > sim_res3???:  True\n",
      "\n",
      "x/N:  300.0\n",
      "VF estimate:  57.896227770186336\n",
      "new_sol.simulate(x,2000,s=1):  (57.897734118608696, 0.6621977299240548, 8145881092911.792, 2000)\n",
      "sim_res1 (s=1):  57.897734118608696\n",
      "sim_res2 (s=0.9):  57.87054740297863\n",
      "sim_res3 (s=1.1):  57.8727092089576\n",
      "sim_res2 < sim_res1 > sim_res3???:  True\n",
      "\n",
      "x/N:  400.0\n",
      "VF estimate:  63.61100013256267\n",
      "new_sol.simulate(x,2000,s=1):  (63.60832946831356, 0.6665935862747224, 10863074201053.04, 2000)\n",
      "sim_res1 (s=1):  63.60832946831356\n",
      "sim_res2 (s=0.9):  63.58141259832583\n",
      "sim_res3 (s=1.1):  63.58300729589347\n",
      "sim_res2 < sim_res1 > sim_res3???:  True\n",
      "\n",
      "x/N:  500.0\n",
      "VF estimate:  68.0437219529559\n",
      "new_sol.simulate(x,2000,s=1):  (68.03905158211882, 0.6698271017418052, 13580267309194.262, 2000)\n",
      "sim_res1 (s=1):  68.03905158211882\n",
      "sim_res2 (s=0.9):  68.01232633146938\n",
      "sim_res3 (s=1.1):  68.01351898480807\n",
      "sim_res2 < sim_res1 > sim_res3???:  True\n",
      "\n",
      "x/N:  600.0\n",
      "VF estimate:  71.6655193939701\n",
      "new_sol.simulate(x,2000,s=1):  (71.65994355282349, 0.6723663248563996, 16297460417335.586, 2000)\n",
      "sim_res1 (s=1):  71.65994355282349\n",
      "sim_res2 (s=0.9):  71.63336481712687\n",
      "sim_res3 (s=1.1):  71.63425040884489\n",
      "sim_res2 < sim_res1 > sim_res3???:  True\n",
      "\n",
      "x/N:  700.0\n",
      "VF estimate:  74.72770549827104\n",
      "new_sol.simulate(x,2000,s=1):  (74.72183809621187, 0.6744466832026067, 19014653525476.812, 2000)\n",
      "sim_res1 (s=1):  74.72183809621187\n",
      "sim_res2 (s=0.9):  74.69537685347588\n",
      "sim_res3 (s=1.1):  74.69601641366276\n",
      "sim_res2 < sim_res1 > sim_res3???:  True\n",
      "\n",
      "x/N:  800.0\n",
      "VF estimate:  77.38029175634645\n",
      "new_sol.simulate(x,2000,s=1):  (77.37450230104992, 0.6762025705596975, 21731846633618.18, 2000)\n",
      "sim_res1 (s=1):  77.37450230104992\n",
      "sim_res2 (s=0.9):  77.34813846771027\n",
      "sim_res3 (s=1.1):  77.34857418560253\n",
      "sim_res2 < sim_res1 > sim_res3???:  True\n",
      "\n",
      "x/N:  900.0\n",
      "VF estimate:  79.72003865537752\n",
      "new_sol.simulate(x,2000,s=1):  (79.71456018221734, 0.6777176221978982, 24449039741759.316, 2000)\n",
      "sim_res1 (s=1):  79.71456018221734\n",
      "sim_res2 (s=0.9):  79.68827911864074\n",
      "sim_res3 (s=1.1):  79.68854172210429\n",
      "sim_res2 < sim_res1 > sim_res3???:  True\n",
      "\n",
      "x/N:  1000.0\n",
      "VF estimate:  81.81301357673965\n",
      "new_sol.simulate(x,2000,s=1):  (81.80799763560088, 0.679047265885288, 27166232849900.72, 2000)\n",
      "sim_res1 (s=1):  81.80799763560088\n",
      "sim_res2 (s=0.9):  81.7817882454374\n",
      "sim_res3 (s=1.1):  81.78190100949683\n",
      "sim_res2 < sim_res1 > sim_res3???:  True\n",
      "\n",
      "x/N:  1100.0\n",
      "VF estimate:  83.70633969455042\n",
      "new_sol.simulate(x,2000,s=1):  (83.70188667076813, 0.680230042145618, 29883425958041.875, 2000)\n",
      "sim_res1 (s=1):  83.70188667076813\n",
      "sim_res2 (s=0.9):  83.67574028339284\n",
      "sim_res3 (s=1.1):  83.67572138479245\n",
      "sim_res2 < sim_res1 > sim_res3???:  True\n",
      "\n",
      "x/N:  1200.0\n",
      "VF estimate:  85.43481101775387\n",
      "new_sol.simulate(x,2000,s=1):  (85.43098789782725, 0.6812937842233794, 32600619066183.047, 2000)\n",
      "sim_res1 (s=1):  85.43098789782725\n",
      "sim_res2 (s=0.9):  85.40489757066564\n",
      "sim_res3 (s=1.1):  85.40476155655062\n",
      "sim_res2 < sim_res1 > sim_res3???:  True\n",
      "\n",
      "x/N:  1300.0\n",
      "VF estimate:  87.02485050031208\n",
      "new_sol.simulate(x,2000,s=1):  (87.02170179296286, 0.6822592191914059, 35317812174324.2, 2000)\n",
      "sim_res1 (s=1):  87.02170179296286\n",
      "sim_res2 (s=0.9):  86.9956618547276\n",
      "sim_res3 (s=1.1):  86.99542060350079\n",
      "sim_res2 < sim_res1 > sim_res3???:  True\n",
      "\n",
      "x/N:  1400.0\n",
      "VF estimate:  88.49699712205481\n",
      "new_sol.simulate(x,2000,s=1):  (88.4945518375154, 0.6831421789110795, 38035005282465.51, 2000)\n",
      "sim_res1 (s=1):  88.4945518375154\n",
      "sim_res2 (s=0.9):  88.46855757735815\n",
      "sim_res3 (s=1.1):  88.46822095219223\n",
      "sim_res2 < sim_res1 > sim_res3???:  True\n",
      "\n",
      "x/N:  1500.0\n",
      "VF estimate:  89.8675328381471\n",
      "new_sol.simulate(x,2000,s=1):  (89.86580909331963, 0.6839550169573537, 40752198390606.82, 2000)\n",
      "sim_res1 (s=1):  89.86580909331963\n",
      "sim_res2 (s=0.9):  89.83985654236594\n",
      "sim_res3 (s=1.1):  89.83943285024984\n",
      "sim_res2 < sim_res1 > sim_res3???:  True\n",
      "\n",
      "x/N:  1600.0\n",
      "VF estimate:  91.14958338013022\n",
      "new_sol.simulate(x,2000,s=1):  (91.14859151940168, 0.6847075498186699, 43469391498747.914, 2000)\n",
      "sim_res1 (s=1):  91.14859151940168\n",
      "sim_res2 (s=0.9):  91.1226772929861\n",
      "sim_res3 (s=1.1):  91.12217361607367\n",
      "sim_res2 < sim_res1 > sim_res3???:  True\n",
      "\n",
      "x/N:  1700.0\n",
      "VF estimate:  92.35388474755084\n",
      "new_sol.simulate(x,2000,s=1):  (92.35362950582451, 0.6854077014170267, 46186584606889.26, 2000)\n",
      "sim_res1 (s=1):  92.35362950582451\n",
      "sim_res2 (s=0.9):  92.32775068687843\n",
      "sim_res3 (s=1.1):  92.3271731273031\n",
      "sim_res2 < sim_res1 > sim_res3???:  True\n",
      "\n",
      "x/N:  1800.0\n",
      "VF estimate:  93.4893302791613\n",
      "new_sol.simulate(x,2000,s=1):  (93.48981230996714, 0.6860619561735375, 48903777715030.53, 2000)\n",
      "sim_res1 (s=1):  93.48981230996714\n",
      "sim_res2 (s=0.9):  93.46396636107194\n",
      "sim_res3 (s=1.1):  93.46332022551344\n",
      "sim_res2 < sim_res1 > sim_res3???:  True\n",
      "\n",
      "x/N:  1900.0\n",
      "VF estimate:  94.56336961429454\n",
      "new_sol.simulate(x,2000,s=1):  (94.56458658708588, 0.6866756848245495, 51620970823171.875, 2000)\n",
      "sim_res1 (s=1):  94.56458658708588\n",
      "sim_res2 (s=0.9):  94.53877128296607\n",
      "sim_res3 (s=1.1):  94.53806122427362\n",
      "sim_res2 < sim_res1 > sim_res3???:  True\n",
      "\n"
     ]
    }
   ],
   "source": [
    "for x in range(100,2000, 100):\n",
    "    print('x/N: ', x/N)\n",
    "    print('VF estimate: ', new_sol.build_VF(x))\n",
    "    sim_res1 = new_sol.simulate(x,2000,s=1)\n",
    "    print('new_sol.simulate(x,2000,s=1): ', sim_res1)\n",
    "    sim_res1 = sim_res1[0]\n",
    "    print('sim_res1 (s=1): ', sim_res1)\n",
    "    sim_res2 = new_sol.simulate(x,2000,s=0.95)[0]\n",
    "    print('sim_res2 (s=0.9): ', sim_res2)\n",
    "    sim_res3 = new_sol.simulate(x,2000,s=1.05)[0]\n",
    "    print('sim_res3 (s=1.1): ', sim_res3)\n",
    "    print('sim_res2 < sim_res1 > sim_res3???: ', sim_res1 > sim_res2 and sim_res1 > sim_res3)\n",
    "    print('')"
   ]
  },
  {
   "cell_type": "code",
   "execution_count": 918,
   "metadata": {},
   "outputs": [
    {
     "data": {
      "text/plain": [
       "[<matplotlib.lines.Line2D at 0x1266283d0>,\n",
       " <matplotlib.lines.Line2D at 0x1240c0dc0>]"
      ]
     },
     "execution_count": 918,
     "metadata": {},
     "output_type": "execute_result"
    },
    {
     "data": {
      "image/png": "[encoded data removed]",
      "text/plain": [
       "<Figure size 432x288 with 1 Axes>"
      ]
     },
     "metadata": {
      "needs_background": "light"
     },
     "output_type": "display_data"
    }
   ],
   "source": [
    "xmax = 1e5\n",
    "xnew = np.linspace(1,xmax,100)\n",
    "vf_new = new_sol.build_VF(xnew)\n",
    "\n",
    "plt.plot(X[X < xmax], VF[X < xmax], 'o', xnew, vf_new)"
   ]
  },
  {
   "cell_type": "code",
   "execution_count": 919,
   "metadata": {},
   "outputs": [
    {
     "data": {
      "text/plain": [
       "[<matplotlib.lines.Line2D at 0x128c036d0>,\n",
       " <matplotlib.lines.Line2D at 0x128c2eb20>]"
      ]
     },
     "execution_count": 919,
     "metadata": {},
     "output_type": "execute_result"
    },
    {
     "data": {
      "image/png": "[encoded data removed]",
      "text/plain": [
       "<Figure size 432x288 with 1 Axes>"
      ]
     },
     "metadata": {
      "needs_background": "light"
     },
     "output_type": "display_data"
    }
   ],
   "source": [
    "cp_new = new_sol.build_CP(X = xnew)\n",
    "\n",
    "plt.plot(X[X < xmax], CP[X < xmax], 'o', xnew, cp_new)"
   ]
  },
  {
   "cell_type": "code",
   "execution_count": 920,
   "metadata": {},
   "outputs": [
    {
     "data": {
      "text/plain": [
       "[<matplotlib.lines.Line2D at 0x128ce7af0>,\n",
       " <matplotlib.lines.Line2D at 0x128cf6940>]"
      ]
     },
     "execution_count": 920,
     "metadata": {},
     "output_type": "execute_result"
    },
    {
     "data": {
      "image/png": "[encoded data removed]",
      "text/plain": [
       "<Figure size 432x288 with 1 Axes>"
      ]
     },
     "metadata": {
      "needs_background": "light"
     },
     "output_type": "display_data"
    }
   ],
   "source": [
    "wp_new = new_sol.build_WP(X = xnew)\n",
    "\n",
    "plt.plot(X[X < xmax], WP[X < xmax], 'o', xnew, wp_new)"
   ]
  },
  {
   "cell_type": "code",
   "execution_count": 921,
   "metadata": {},
   "outputs": [
    {
     "data": {
      "text/plain": [
       "[<matplotlib.lines.Line2D at 0x128ebe3a0>,\n",
       " <matplotlib.lines.Line2D at 0x128ecb1f0>]"
      ]
     },
     "execution_count": 921,
     "metadata": {},
     "output_type": "execute_result"
    },
    {
     "data": {
      "image/png": "[encoded data removed]",
      "text/plain": [
       "<Figure size 432x288 with 1 Axes>"
      ]
     },
     "metadata": {
      "needs_background": "light"
     },
     "output_type": "display_data"
    }
   ],
   "source": [
    "xmax = 1e5\n",
    "xnew = np.linspace(1,xmax,100)\n",
    "vf_new = new_sol.build_VF(xnew)\n",
    "\n",
    "plt.plot(X[X < xmax], VF[X < xmax], 'o', xnew, vf_new)"
   ]
  },
  {
   "cell_type": "code",
   "execution_count": 922,
   "metadata": {},
   "outputs": [
    {
     "data": {
      "text/plain": [
       "[<matplotlib.lines.Line2D at 0x128d46e80>,\n",
       " <matplotlib.lines.Line2D at 0x128d5ddc0>]"
      ]
     },
     "execution_count": 922,
     "metadata": {},
     "output_type": "execute_result"
    },
    {
     "data": {
      "image/png": "[encoded data removed]",
      "text/plain": [
       "<Figure size 432x288 with 1 Axes>"
      ]
     },
     "metadata": {
      "needs_background": "light"
     },
     "output_type": "display_data"
    }
   ],
   "source": [
    "cp_new = new_sol.build_CP(X = xnew)\n",
    "\n",
    "plt.plot(X[X < xmax], CP[X < xmax], 'o', xnew, cp_new)"
   ]
  },
  {
   "cell_type": "code",
   "execution_count": 923,
   "metadata": {},
   "outputs": [
    {
     "data": {
      "text/plain": [
       "[<matplotlib.lines.Line2D at 0x128f89670>,\n",
       " <matplotlib.lines.Line2D at 0x12903e4f0>]"
      ]
     },
     "execution_count": 923,
     "metadata": {},
     "output_type": "execute_result"
    },
    {
     "data": {
      "image/png": "[encoded data removed]",
      "text/plain": [
       "<Figure size 432x288 with 1 Axes>"
      ]
     },
     "metadata": {
      "needs_background": "light"
     },
     "output_type": "display_data"
    }
   ],
   "source": [
    "wp_new = new_sol.build_WP(X = xnew)\n",
    "\n",
    "plt.plot(X[X < xmax], WP[X < xmax], 'o', xnew, wp_new)"
   ]
  },
  {
   "cell_type": "code",
   "execution_count": 924,
   "metadata": {},
   "outputs": [
    {
     "data": {
      "text/plain": [
       "[<matplotlib.lines.Line2D at 0x1291a9cd0>,\n",
       " <matplotlib.lines.Line2D at 0x1291b5be0>]"
      ]
     },
     "execution_count": 924,
     "metadata": {},
     "output_type": "execute_result"
    },
    {
     "data": {
      "image/png": "[encoded data removed]",
      "text/plain": [
       "<Figure size 432x288 with 1 Axes>"
      ]
     },
     "metadata": {
      "needs_background": "light"
     },
     "output_type": "display_data"
    }
   ],
   "source": [
    "xmax = 100\n",
    "xnew = np.linspace(1,xmax,100)\n",
    "vf_new = new_sol.build_VF(xnew)\n",
    "\n",
    "plt.plot(X[X < xmax], VF[X < xmax], 'o', xnew, vf_new)"
   ]
  },
  {
   "cell_type": "code",
   "execution_count": 925,
   "metadata": {},
   "outputs": [
    {
     "data": {
      "text/plain": [
       "[<matplotlib.lines.Line2D at 0x129259d90>,\n",
       " <matplotlib.lines.Line2D at 0x129271ca0>]"
      ]
     },
     "execution_count": 925,
     "metadata": {},
     "output_type": "execute_result"
    },
    {
     "data": {
      "image/png": "[encoded data removed]",
      "text/plain": [
       "<Figure size 432x288 with 1 Axes>"
      ]
     },
     "metadata": {
      "needs_background": "light"
     },
     "output_type": "display_data"
    }
   ],
   "source": [
    "cp_new = new_sol.build_CP(X = xnew)\n",
    "\n",
    "plt.plot(X[X < xmax], CP[X < xmax], 'o', xnew, cp_new)"
   ]
  },
  {
   "cell_type": "code",
   "execution_count": 926,
   "metadata": {},
   "outputs": [
    {
     "data": {
      "text/plain": [
       "[<matplotlib.lines.Line2D at 0x1291524f0>,\n",
       " <matplotlib.lines.Line2D at 0x1292f2340>]"
      ]
     },
     "execution_count": 926,
     "metadata": {},
     "output_type": "execute_result"
    },
    {
     "data": {
      "image/png": "[encoded data removed]",
      "text/plain": [
       "<Figure size 432x288 with 1 Axes>"
      ]
     },
     "metadata": {
      "needs_background": "light"
     },
     "output_type": "display_data"
    }
   ],
   "source": [
    "wp_new = new_sol.build_WP(X = xnew)\n",
    "\n",
    "plt.plot(X[X < xmax], WP[X < xmax], 'o', xnew, wp_new)"
   ]
  },
  {
   "cell_type": "code",
   "execution_count": 927,
   "metadata": {},
   "outputs": [
    {
     "data": {
      "text/plain": [
       "array([-0.00253438,  1.01208517])"
      ]
     },
     "execution_count": 927,
     "metadata": {},
     "output_type": "execute_result"
    }
   ],
   "source": [
    "new_sol.x_params"
   ]
  }
 ],
 "metadata": {
  "kernelspec": {
   "display_name": "Python 3",
   "language": "python",
   "name": "python3"
  },
  "language_info": {
   "codemirror_mode": {
    "name": "ipython",
    "version": 3
   },
   "file_extension": ".py",
   "mimetype": "text/x-python",
   "name": "python",
   "nbconvert_exporter": "python",
   "pygments_lexer": "ipython3",
   "version": "3.8.8"
  }
 },
 "nbformat": 4,
 "nbformat_minor": 2
}
