{
 "cells": [
  {
   "cell_type": "markdown",
   "metadata": {},
   "source": [
    "# 7 Solution Methods to Solve the Growth Model with Python\n",
    "\n",
    "This notebook is part of a computational appendix that accompanies the paper\n",
    "\n",
    "> MATLAB, Python, Julia: What to Choose in Economics?\n",
    "> > Coleman, Lyon, Maliar, and Maliar (2017)\n",
    "\n",
    "In order to run the codes in this notebook you will need to install and configure a few Python packages. We recommend downloading [Anaconda](https://www.continuum.io/downloads) and/or following the instructions on [quantecon.org](https://lectures.quantecon.org/py/getting_started.html). Once your Python installation is up and running, there are a few additional packages you will need in order to run the code here. To do this, you should remove the `# ` in front of the following commands and run the block below."
   ]
  },
  {
   "cell_type": "code",
   "execution_count": 1980,
   "metadata": {
    "scrolled": true
   },
   "outputs": [],
   "source": [
    "# ! pip install git+https://github.com/EconForge/interpolation.py.git\n",
    "# ! pip install quantecon\n",
    "# ! pip install csaps"
   ]
  },
  {
   "cell_type": "code",
   "execution_count": 1981,
   "metadata": {},
   "outputs": [],
   "source": [
    "import numpy as np\n",
    "import scipy.linalg as la\n",
    "import scipy.optimize as opt\n",
    "import time\n",
    "import quantecon as qe\n",
    "import matplotlib.pyplot as plt\n",
    "\n",
    "from collections import namedtuple\n",
    "from scipy.interpolate import interp1d, UnivariateSpline\n",
    "from scipy.misc import derivative\n",
    "from interpolation.complete_poly import (CompletePolynomial,\n",
    "                                         n_complete, complete_polynomial,\n",
    "                                         complete_polynomial_der,\n",
    "                                         _complete_poly_impl,\n",
    "                                         _complete_poly_impl_vec,\n",
    "                                         _complete_poly_der_impl,\n",
    "                                         _complete_poly_der_impl_vec)\n",
    "from numba import jit, vectorize"
   ]
  },
  {
   "cell_type": "markdown",
   "metadata": {},
   "source": [
    "## Model\n",
    "\n",
    "This section gives a short description of the commonly used stochastic Neoclassical growth model.\n",
    "\n",
    "There is a single infinitely-lived representative agent who consumes and saves using capital. The consumer discounts the future with factor $\\beta$ and derives utility from only consumption. Additionally, saved capital will depreciate at $\\delta$.\n",
    "\n",
    "The consumer has access to a Cobb-Douglas technology which uses capital saved from the previous period to produce and is subject to stochastic productivity shocks.\n",
    "\n",
    "Productivity shocks follow an AR(1) in logs.\n",
    "\n",
    "The agent's problem can be written recursively using the following Bellman equation\n",
    "\n",
    "\n",
    "$$\n",
    "\\begin{align}\n",
    "  V(k_t, z_t) &= \\max_{k_{t+1}} u(c_t) + \\beta E \\left[ V(k_{t+1}, z_{t+1}) \\right] \\\\\n",
    "  &\\text{subject to } \\\\\n",
    "  c_t &= z_t f(k_t) + (1 - \\delta) k_t - k_{t+1} \\\\\n",
    "  \\log z_{t+1} &= \\rho \\log z_t + \\sigma \\varepsilon\n",
    "\\end{align}\n",
    "$$\n",
    "\n",
    "$$\n",
    "\\begin{align*}\n",
    "    V(X, z) &= \\max_{\\tilde{c},\\tilde{s}} \\biggl\\{0,  u(c) + \\beta E \\bigl[V(X', z') \\bigr] \\biggr\\}\\\\\n",
    "    & \\text{ s.t. } \\tilde{c} \\geq 0; \\qquad \\tilde{s} \\geq 0 \\\\\n",
    "    & \\phantom{\\text{ s.t. } }N\\tilde{c} + N\\tilde{s} \\leq X \\\\\n",
    "    & \\phantom{\\text{ s.t. } } X' = \\max \\biggl\\{0, \\bigl[X - N\\tilde{c}  - N\\tilde{s} - z \\bigl(\\frac{\\tilde{c}}{\\tilde{s}}\\bigr)^\\phi \\bigr](1 + g_x) \\biggr\\} \\\\\n",
    "    & \\phantom{\\text{ s.t. } } u(\\tilde{c}) = \\bar{u} + \\ln(\\tilde{c}) \\\\\n",
    "    & \\phantom{\\text{ s.t. } } z \\sim Exp( \\bar{z} ) \n",
    "\\end{align*} \n",
    "$$"
   ]
  },
  {
   "cell_type": "markdown",
   "metadata": {},
   "source": [
    "## Python Code\n",
    "\n",
    "We begin by defining a `namedtuple` that contains the parameters of our model. This is useful to pass the parameters around to functions that are just-in-time (JIT) compiled by `numba`."
   ]
  },
  {
   "cell_type": "code",
   "execution_count": 1982,
   "metadata": {},
   "outputs": [],
   "source": [
    "#\n",
    "# Create a named tuple type that we can pass into the jitted functions\n",
    "# so that we don't have to pass parameters one by one\n",
    "#\n",
    "Params = namedtuple(\"Params\", [\"N\", \"beta\", \"g\", \"a_bar\", \"eta\", \"u_bar\"])\n",
    "\n",
    "@jit(nopython=True)\n",
    "def param_unpack(params):\n",
    "    \"Unpack parameters from the Params type\"\n",
    "    out = (params.N, params.beta, params.g,\n",
    "           params.a_bar, params.eta, params.u_bar)\n",
    "\n",
    "    return out"
   ]
  },
  {
   "cell_type": "markdown",
   "metadata": {},
   "source": [
    "We will then define various helper functions to ensure that we [don't repeat ourselves](https://lectures.quantecon.org/py/writing_good_code.html#don-t-repeat-yourself) and that the inner functions can be JIT compiled."
   ]
  },
  {
   "cell_type": "code",
   "execution_count": 1983,
   "metadata": {},
   "outputs": [],
   "source": [
    "#\n",
    "# Helper functions to make sure things are jitted\n",
    "#\n",
    "@vectorize(nopython=True)\n",
    "def u(c, eta, u_bar):\n",
    "    \"log utility function\"\n",
    "    return -1e10 if c < 1e-10 else (u_bar + np.log(c)) if eta==1 else (u_bar + (c**(1-eta)/(1-eta)))\n",
    "\n",
    "@vectorize(nopython=True)\n",
    "def du(c,eta):\n",
    "    \"Derivative of log utility function\"\n",
    "    return 1e10 if c < 1e-10 else c**(-eta)\n",
    "\n",
    "@vectorize(nopython=True)\n",
    "def duinv(u,eta):\n",
    "    \"Inverse of the derivative of the CRRA utility function\"\n",
    "    return u**(-1.0/eta )\n",
    "\n",
    "@vectorize(nopython=True)\n",
    "def f(X):\n",
    "    \"production function\"\n",
    "    return X\n",
    "\n",
    "@vectorize(nopython=True)\n",
    "def df(X):\n",
    "    \"Derivative of production function\"\n",
    "    return 1\n",
    "\n",
    "@vectorize(nopython=True)\n",
    "def discount_factor(beta, a_bar, c, w):\n",
    "    \"risk adjusted discount factor\"\n",
    "    return beta*a_bar*w/(c + a_bar*w)\n",
    "\n",
    "@vectorize(nopython=True)\n",
    "def next_x(X, N, g, c, w):\n",
    "    # next period's CPR given c and w\n",
    "    return (X - N*(c + w))*(1+g)\n",
    "\n",
    "@vectorize(nopython=True)\n",
    "def vector_dampen(vec1, vec2, dampen=1):\n",
    "    return dampen*vec1 + (1-dampen)*vec2\n",
    "\n",
    "@vectorize(nopython=True)\n",
    "def expendables(X, Xp, N, g):\n",
    "    # get expendables given X and X prime\n",
    "    return (1/N)*(X - Xp/(1 + g))\n",
    "\n",
    "@vectorize(nopython=True)\n",
    "def c_from_X_Xp(X, Xp, Vp, beta, a):\n",
    "    # get expendables given X and X prime\n",
    "    return -(2*E*a - 2*E*a**2 + E*a*(Vp*beta*(4*a + Vp*beta - 4))**0.5 - E*Vp*a*beta)/(2*(a**2 - 2*a + 1))\n",
    "\n",
    "@vectorize(nopython=True)\n",
    "def c_from_exp(Vp, E, beta, a_bar):\n",
    "    if Vp <= 0: \n",
    "        return E\n",
    "    return  -(2*E*a_bar - 2*E*a_bar**2 + E*a_bar*(Vp*beta*(4*a_bar + Vp*beta - 4))**0.5 - E*Vp*a_bar*beta)/(2*(a_bar**2 - 2*a_bar + 1))\n",
    "\n",
    "\n",
    "\n",
    "def c_curve(x, a, b, c):\n",
    "    return a*np.log(x) + b*x + c\n",
    "\n",
    "def w_curve(x, a, b, c):\n",
    "    return a*np.log(x) + b*x + c\n",
    "\n",
    "def v_curve(x, a, b, c, d):\n",
    "    return a*np.log(x)/(c - (x**b)) + d\n",
    "\n",
    "\n",
    "@vectorize(nopython=True)\n",
    "def trunc_to_one(X):\n",
    "    return X if X >= 1 else 1\n",
    "\n",
    "@vectorize(nopython=True)\n",
    "def psurvival(a_bar, c, w):\n",
    "    return a_bar*w/(c + a_bar*w)\n"
   ]
  },
  {
   "cell_type": "markdown",
   "metadata": {},
   "source": [
    "We also now define a class that contains\n",
    "\n",
    "1. Parameters of the growth model\n",
    "2. Grids used for approximating the solution\n",
    "3. Nodes and weights used to approximate integration\n",
    "\n",
    "This again helps us maintain all of the relevant information in one place and simplifies passing it to other functions."
   ]
  },
  {
   "cell_type": "code",
   "execution_count": 1984,
   "metadata": {},
   "outputs": [],
   "source": [
    "class Model(object):\n",
    "    \"\"\"\n",
    "    The stochastic Neoclassical Growth model contains\n",
    "    parameters which include\n",
    "\n",
    "    * alpha: Capital share in output\n",
    "    * beta: discount factor\n",
    "    * delta: depreciation rate\n",
    "    * gamma: risk aversion\n",
    "    * rho: persistence of the log productivity level\n",
    "    * sigma: standard deviation of shocks to log productivity\n",
    "    \"\"\"\n",
    "    def __init__(self, N=1, beta=0.95, g_x=0.02, g_a=0.015, a_bar=1000, \n",
    "                 eta=1, u_bar=0, \n",
    "                 xmin=1, xmax=2000, nx=25):\n",
    "        # calculate g from g_a and g_x \n",
    "        g = g_a + g_x + g_a*g_x\n",
    "\n",
    "        # Household parameters\n",
    "        self.beta, self.eta, self.u_bar, = beta, eta, u_bar\n",
    "\n",
    "        # Firm/technology parameters\n",
    "        self.N, self.g, self.a_bar = N, g, a_bar\n",
    "\n",
    "        # Create t grids\n",
    "        self.xgrid = N*np.geomspace(xmin, xmax, nx)\n",
    "        self.grid = np.reshape(self.xgrid, [self.xgrid.shape[0], 1])\n",
    "        \n",
    "        self.ns = nx\n",
    "        \n",
    "    def _unpack_params(self):\n",
    "        out = (self.N, self.beta, self.g, \n",
    "               self.a_bar, self.eta, self.u_bar)\n",
    "        return out\n",
    "\n",
    "    def _unpack_grids(self):\n",
    "        out = (self.xgrid, self.grid)\n",
    "        return out\n"
   ]
  },
  {
   "cell_type": "markdown",
   "metadata": {},
   "source": [
    "## Solution Methods\n",
    "\n",
    "In this notebook, we describe the following solution methods:\n",
    "\n",
    "* Conventional Value Function Iteration\n",
    "* Envelope Condition Value Function Iteration\n",
    "* Envelope Condition Derivative Value Function Iteration\n",
    "* Endogenous Grid Value Function Iteration\n",
    "* Conventional Policy Function Iteration\n",
    "* Envelope Condition Policy Function Iteration\n",
    "* Euler Equation Method\n",
    "\n",
    "Each of these solution methods will have a very similar structure that follows a few basic steps:\n",
    "\n",
    "1. Guess a function (either value function or policy function).\n",
    "2. Using this function, update our guess of both the value and policy functions.\n",
    "3. Check whether the function we guessed and what it was updated to are similar enough. If so, proceed. If not, return to step 2 using the updated functions.\n",
    "4. Output the policy and value functions.\n",
    "\n",
    "In order to reduce the amount of repeated code and keep the exposition as clean as possible (the notebook is plenty long as is...), we will define a class for each solution method that inherit various properties from a general solution parent class. The parent class will contain methods which apply to all of the other solution methods such as a general solve method, computing expectations, simulating, etc... This implementation may feel strange at first if one isn't familiar with object oriented programming, but these concepts can be powerful when properly used."
   ]
  },
  {
   "cell_type": "code",
   "execution_count": 1985,
   "metadata": {},
   "outputs": [],
   "source": [
    "class GeneralSolution:\n",
    "    \"\"\"\n",
    "    This is a general solution method. We define this, so that we can\n",
    "    sub-class it and define specific update methods for each particular\n",
    "    solution method\n",
    "    \"\"\"\n",
    "    def __init__(self, ncgm,  maxfev=10000, prev_sol=None):\n",
    "        self.Xinf = None\n",
    "        # Save model and approximation degree\n",
    "        self.ncgm,  self.maxfev = ncgm, maxfev\n",
    "\n",
    "        # Unpack some info from ncgm\n",
    "        N, beta, g, a_bar, eta, u_bar = self._unpack_params()\n",
    "        X = self.ncgm.xgrid\n",
    "\n",
    "        # Use parameter values from model to create a namedtuple with\n",
    "        # parameters saved inside\n",
    "        self.params = Params(N, beta, g, a_bar, eta, u_bar)\n",
    "\n",
    "        # Update to fill initial value and policy matrices\n",
    "        # If we give it another solution type then use it to\n",
    "        # generate values and policies\n",
    "        if issubclass(type(prev_sol), GeneralSolution):\n",
    "            self.CP = c_curve(X, *prev_sol.c_params)\n",
    "            self.WP = w_curve(X, *prev_sol.w_params)\n",
    "            self.VF = v_curve(X, *prev_sol.v_params)\n",
    "        # If we give it a tuple then assume it is (policy, value) pair\n",
    "        elif type(prev_sol) is tuple:\n",
    "            self.CP = prev_sol[0]\n",
    "            self.WP = prev_sol[1]\n",
    "            self.VF = prev_sol[2]\n",
    "        # Otherwise guess a constant value function and a policy\n",
    "        # of roughly steady state\n",
    "        else:\n",
    "            # guess VF\n",
    "            self.VF = np.log(X/N) # np.ones(ncgm.ns)\n",
    "            \n",
    "            \n",
    "            \n",
    "            # make a guess at steady state\n",
    "            Exp = expendables(X, X, N, g)\n",
    "            \n",
    "            self.CP = 0.9*Exp\n",
    "            self.WP = Exp - self.CP\n",
    "\n",
    "        # Params based on guesses\n",
    "        self.c_params, _ = opt.curve_fit(c_curve, X, self.CP, maxfev=self.maxfev)\n",
    "        self.w_params, _ = opt.curve_fit(w_curve, X, self.WP, maxfev=self.maxfev)\n",
    "        self.v_params, _ = opt.curve_fit(v_curve, X, self.VF, maxfev=self.maxfev)\n",
    "\n",
    "\n",
    "    def _unpack_params(self):\n",
    "        return self.ncgm._unpack_params()\n",
    "    \n",
    "    def build_all(self, X=None):\n",
    "        if X is None:\n",
    "            X = self.ncgm.xgrid\n",
    "            \n",
    "        CP = self.build_CP(X)\n",
    "        WP = self.build_WP(X)\n",
    "        VF = self.build_VF(X)\n",
    "        \n",
    "        # corner solution\n",
    "        CP_corner = X/self.ncgm.N\n",
    "        WP_corner = X*0 \n",
    "        VF_corner = u(CP_corner, self.ncgm.eta, self.ncgm.u_bar)\n",
    "\n",
    "        corner_idx = (CP > CP_corner) + (CP < 0) + (WP > CP_corner) + (WP < 0) + (VF < VF_corner)\n",
    "        \n",
    "        CP[corner_idx] = CP_corner[corner_idx]\n",
    "        WP[corner_idx] = WP_corner[corner_idx]\n",
    "        VF[corner_idx] = VF_corner[corner_idx]  \n",
    "        \n",
    "        return CP, WP, VF\n",
    "    \n",
    "    def build_all_scalar(self, x): \n",
    "        cp = c_curve(x, *self.c_params)\n",
    "        wp = w_curve(x, *self.w_params)\n",
    "        vf = v_curve(x, *self.v_params)\n",
    "        \n",
    "        # corner solution\n",
    "        cp_corner = x/self.ncgm.N\n",
    "        wp_corner = 0\n",
    "        vf_corner = u(cp_corner, self.ncgm.eta, self.ncgm.u_bar)\n",
    "        \n",
    "        if (cp > cp_corner) or (cp < 0) or (wp > cp_corner) or (wp < 0) or (vf < vf_corner):\n",
    "                return cp_corner, wp_corner, vf_corner\n",
    "            \n",
    "        return cp, wp, vf\n",
    "\n",
    "        \n",
    "    def build_VF(self, X=None):\n",
    "        \"\"\"\n",
    "        Using the current coefficients, this builds the value function\n",
    "        for all states\n",
    "        \"\"\"\n",
    "        if X is None:\n",
    "            X = self.ncgm.xgrid\n",
    "            \n",
    "        VF = v_curve(X, *self.v_params)\n",
    "\n",
    "        return VF\n",
    "\n",
    "    def build_CP(self, X=None):\n",
    "        \"\"\"\n",
    "        Using the current coefficients, this builds the policy function\n",
    "        for all states\n",
    "        \"\"\"\n",
    "        if X is None:\n",
    "            X = self.ncgm.xgrid\n",
    "            \n",
    "        CP = np.clip(c_curve(X, *self.c_params), 0, X/self.ncgm.N)\n",
    "\n",
    "        return CP\n",
    "    \n",
    "    def build_WP(self, X=None):\n",
    "        \"\"\"\n",
    "        Using the current coefficients, this builds the policy function\n",
    "        for all states\n",
    "        \"\"\"\n",
    "        if X is None:\n",
    "            X = self.ncgm.xgrid\n",
    "            \n",
    "        WP = np.clip(w_curve(X, *self.w_params), 0, X/self.ncgm.N)\n",
    "\n",
    "        return WP\n",
    "\n",
    "    def update_v(self, new_v_params, dampen=1):\n",
    "        \"\"\"\n",
    "        Updates the coefficients for the value function\n",
    "        \"\"\"\n",
    "        self.v_params = (1-dampen)*self.v_params + dampen*new_v_params\n",
    "\n",
    "        return None\n",
    "\n",
    "    def update_c(self, new_c_params, dampen=1):\n",
    "        \"\"\"\n",
    "        Updates the coefficients for the policy function\n",
    "        \"\"\"\n",
    "        self.c_params = (1-dampen)*self.c_params + dampen*new_c_params\n",
    "\n",
    "        return None\n",
    "    \n",
    "    def update_w(self, new_w_params, dampen=1):\n",
    "        \"\"\"\n",
    "        Updates the coefficients for the policy function\n",
    "        \"\"\"\n",
    "        self.w_params = (1-dampen)*self.w_params + dampen*new_w_params\n",
    "\n",
    "        return None\n",
    "\n",
    "    def update(self):\n",
    "        \"\"\"\n",
    "        Given the current state of everything in solution, update the\n",
    "        value and policy coefficients\n",
    "        \"\"\"\n",
    "        emsg = \"The update method is implemented in solution specific classes\"\n",
    "        emsg += \"\\nand cannot be called from `GeneralSolution`\"\n",
    "        raise ValueError(emsg)\n",
    "        \n",
    "    def compute_spline(self, cp, wp, VF):\n",
    "        v_spline = interp1d(\n",
    "            self.ncgm.xgrid, \n",
    "            VF, \n",
    "            kind=self.interpolator, \n",
    "            fill_value=\"extrapolate\",\n",
    "            assume_sorted=True\n",
    "        )\n",
    "      \n",
    "        return v_spline\n",
    "    \n",
    "    def compute_params(self, cp, wp, VF):\n",
    "        new_c_params, _ = opt.curve_fit(c_curve, self.ncgm.xgrid, cp, maxfev=self.maxfev)\n",
    "        new_w_params, _ = opt.curve_fit(w_curve, self.ncgm.xgrid, wp, maxfev=self.maxfev)\n",
    "        new_v_params, _ = opt.curve_fit(v_curve, self.ncgm.xgrid, VF, maxfev=self.maxfev) \n",
    "        \n",
    "        return new_c_params, new_w_params, new_v_params\n",
    "\n",
    "    def compute_EV_scalar(self, Xn):\n",
    "        val = v_curve(trunc_to_one(Xn), *self.v_params)\n",
    "        \n",
    "        return val\n",
    "\n",
    "    def compute_dEV_scalar(self, Xn):\n",
    "        v_curve_curried = lambda x: v_curve(x, *self.v_params)\n",
    "        val = derivative( v_curve_curried, trunc_to_one(Xn), self.dx)\n",
    "        \n",
    "        return val \n",
    "\n",
    "    def compute_EV(self, Xn=None):\n",
    "        \"\"\"\n",
    "        Compute the expected value\n",
    "        \"\"\"\n",
    "        if Xn is None:\n",
    "            # Unpack parameters\n",
    "            N, beta, g, a_bar, eta, u_bar = self._unpack_params()\n",
    "\n",
    "            # Use policy to compute cp and wp\n",
    "            cp = self.build_CP()\n",
    "            cp = c_curve(X, *self.c_params)\n",
    "            wp = w_curve(X, *self.w_params)\n",
    "            Xn = next_x(self.ncgm.xgrid, N, g, cp, wp)\n",
    "        \n",
    "        EV = v_curve(trunc_to_one(Xn), *self.v_params)\n",
    "        \n",
    "        return EV\n",
    "\n",
    "\n",
    "    def compute_dEV(self, Xn=None):\n",
    "        \"\"\"\n",
    "        Compute the derivative of the expected value\n",
    "        \"\"\"\n",
    "        # Use policy to compute cp and wp\n",
    "        if Xn is None:\n",
    "            # Unpack parameters\n",
    "            N, beta, g, a_bar, eta, u_bar = self._unpack_params()\n",
    "            X = self.ncgm.xgrid\n",
    "            cp = c_curve(X, *self.c_params)\n",
    "            wp = w_curve(X, *self.w_params)\n",
    "            Xn = next_x(X, N, g, cp, wp)\n",
    "        \n",
    "        v_curve_curried = lambda x: v_curve(x, *self.v_params)\n",
    "        val = derivative( v_curve_curried, trunc_to_one(Xn), self.dx)\n",
    "        \n",
    "        return dEV\n",
    "\n",
    "\n",
    "    def compute_distance(self, cp, wp, VF):\n",
    "        \"\"\"\n",
    "        Computes average distance between policy functions\n",
    "        \"\"\"\n",
    "        return np.max([\n",
    "            np.max(np.abs(1.0 - (cp+1e-12)/(self.CP+1e-12))), \n",
    "            np.max(np.abs(1.0 - (wp+1e-12)/(self.WP+1e-12)))\n",
    "        ])\n",
    "    \n",
    "\n",
    "    def solve(self, tol=1e-3, maxiter=2500, verbose=False, nskipprint=25):\n",
    "        # Iterate until convergence\n",
    "        dist, it = 10.0, 0\n",
    "        while (dist>tol) and (it<maxiter):\n",
    "            # Run solution specific update code\n",
    "            cp, wp, VF = self.update()\n",
    "\n",
    "            # Compute new policy and value coeffs\n",
    "            new_c_params, new_w_params, new_v_params = self.compute_params(cp, wp, VF)\n",
    "\n",
    "            # Update distance and iterations\n",
    "            dist = self.compute_distance(cp, wp, VF)\n",
    "            self.CP, self.WP, self.VF = cp, wp, VF\n",
    "            it += 1\n",
    "            if verbose and it%nskipprint == 0:\n",
    "                print(it, dist)\n",
    "\n",
    "            # Update all coefficients\n",
    "            self.update_c(new_c_params)\n",
    "            self.update_w(new_w_params)\n",
    "            self.update_v(new_v_params)\n",
    "\n",
    "        # After finishing iteration, iterate to convergence using policy\n",
    "        if not isinstance(self, IterateOnPolicy):\n",
    "            sol_iop = IterateOnPolicy(self.ncgm, self.maxfev, self)\n",
    "            cp, wp, VF = sol_iop.solve(tol=1e-5)\n",
    "\n",
    "            # Save final versions of everything\n",
    "            self.CP, self.WP, self.VF = cp, wp, VF\n",
    "            \n",
    "            new_c_params, new_w_params, new_v_params = sol_iop.compute_params(cp, wp, VF)\n",
    "            self.update_c(new_c_params)\n",
    "            self.update_w(new_w_params)\n",
    "            self.update_v(new_v_params)\n",
    "\n",
    "        return self.CP, self.WP, self.VF\n",
    "        \n",
    "\n",
    "    def simulate(self, X=None, T=1000, s=1):\n",
    "        \"\"\"\n",
    "        Simulates the neoclassical growth model with policy function\n",
    "        given by self.KP. Simulates for `T` periods and discarsd first\n",
    "        nburn `observations`\n",
    "        \"\"\"\n",
    "        N, beta, g, a_bar, eta, u_bar = self._unpack_params()\n",
    "        # X is starting point, if None, set to N*274\n",
    "        if X is None:\n",
    "            X = N*274\n",
    "            \n",
    "        def recurse_bellman(x, t):\n",
    "            if x <= 0:\n",
    "                return 0, 0, x, t\n",
    "            if t >= T:\n",
    "                return u(x/N, eta, u_bar), 1, x, T\n",
    "            \n",
    "            c_corner = x/N \n",
    "            u_corner = u(c_corner, eta, u_bar)\n",
    "            \n",
    "            c = s*self.build_CP(x)\n",
    "            w = s*self.build_WP(x)\n",
    "\n",
    "            \n",
    "            if w <= 0:\n",
    "                c = c_corner \n",
    "                \n",
    "            m_t = psurvival(a_bar, c, w)\n",
    "            u_t = u(c, eta, u_bar)\n",
    "            x_prime = next_x(x, N, g, c, w)\n",
    "            \n",
    "            v_prime, m_prime, final_state, nperiods = recurse_bellman(x_prime, t+1)\n",
    "            \n",
    "            if u_t + beta*m_t*v_prime < u_corner:\n",
    "                return u_corner, 0, 0, t+1\n",
    "            \n",
    "            return u_t + beta*m_t*v_prime, m_t*m_prime, final_state, nperiods\n",
    "        \n",
    "        return recurse_bellman(X, 0)\n",
    "        \n",
    "    \n",
    "    def compute_Xdot(self, X):\n",
    "        N, beta, g, a_bar, eta, u_bar = self._unpack_params()\n",
    "        cp = c_curve(X, *self.c_params)\n",
    "        wp = w_curve(X, *self.w_params)\n",
    "        Xn = next_x(X, N, g, cp, wp)\n",
    "        \n",
    "        return Xn - X\n",
    "        \n",
    "    def compute_Xinflection(self):\n",
    "        N, beta, g, a_bar, eta, u_bar = self._unpack_params()\n",
    "        floor = N\n",
    "        ceil = N*1000\n",
    "        for i in range(4):\n",
    "            X = np.linspace(floor, ceil, 100)\n",
    "            Xdot = self.compute_Xdot(X)\n",
    "            idx = np.argmin(Xdot[Xdot > 0])\n",
    "            floor = X[idx]\n",
    "            if idx < 99:\n",
    "                ceil = X[idx + 1]\n",
    "        \n",
    "        return floor"
   ]
  },
  {
   "cell_type": "markdown",
   "metadata": {},
   "source": [
    "### Iterating to Convergence (given policy)\n",
    "\n",
    "This isn't one of the methods described above, but it is used as an element of a few of our methods (and also as a way to get a first guess at the value function). This method takes an initial policy function, $\\bar{k}(k_t, z_t)$, as given, and then, without changing the policy, iterates until the value function has converged.\n",
    "\n",
    "Thus the \"update section\" of the algorithm in this instance would be:\n",
    "\n",
    "* Leave policy function unchanged\n",
    "* At each point of grid, $(k_t, z_t)$, compute $\\hat{V}(k_t, z_t) = u(c(\\bar{k}(k_t, z_t))) + \\beta E \\left[ V(\\bar{k}(k_t, z_t), z_{t+1}) \\right]$\n",
    "\n",
    "We override two of the methods from `GeneralSolution`\n",
    "\n",
    "* `compute_distance` because when we are iterating to convergence on the value function we want to check distnace using value function rather than policy function\n",
    "* `compute_coefficients` because we don't need to update the policy functions coefficients.\n",
    "\n",
    "The `update` method just repeatedly applies a particular policy function to update the value function."
   ]
  },
  {
   "cell_type": "code",
   "execution_count": 1986,
   "metadata": {},
   "outputs": [],
   "source": [
    "class IterateOnPolicy(GeneralSolution):\n",
    "    \"\"\"\n",
    "    Subclass of the general solution method. The update method for this\n",
    "    class simply computes the fixed point of the value function given\n",
    "    a specific policy\n",
    "    \"\"\"\n",
    "    def compute_distance(self, cp, wp, VF):\n",
    "        \"\"\"\n",
    "        Computes distance between policy functions. When we are\n",
    "        iterating on a specific policy, we would like to compute\n",
    "        distances by the difference between VFs\n",
    "        \"\"\"\n",
    "        return np.max(np.abs(1.0 - (VF )/(self.VF )))\n",
    "\n",
    "    def compute_coefficients(self, cp, wp, VF):\n",
    "        \"\"\"\n",
    "        Given a policy and value return corresponding coefficients.\n",
    "        When we are iterating on a specific policy, we don't want to\n",
    "        update the policy coefficients.\n",
    "        \"\"\"\n",
    "        new_v_coeffs = la.lstsq(self.Phi, VF)[0]\n",
    "\n",
    "        return self.c_coeffs, self.w_coeffs, new_v_coeffs\n",
    "    \n",
    "    def compute_spline(self, VF):\n",
    "        new_v_spline = interp1d(\n",
    "            self.ncgm.xgrid, \n",
    "            VF, \n",
    "            kind=self.interpolator, \n",
    "            fill_value=\"extrapolate\",\n",
    "            assume_sorted=True\n",
    "        )\n",
    "        \n",
    "        return new_v_spline\n",
    "    \n",
    "    def compute_params(self, cp, wp, VF):\n",
    "        new_v_params, _ = opt.curve_fit(v_curve, self.ncgm.xgrid, VF, maxfev=self.maxfev) \n",
    "        \n",
    "        return self.c_params, self.w_params, new_v_params\n",
    "    \n",
    "    def update(self):\n",
    "        # Unpack parameters\n",
    "        N, beta, g, a_bar, eta, u_bar = self._unpack_params()\n",
    "        X = self.ncgm.xgrid\n",
    "        \n",
    "        Xn = next_x(X, N, g, self.CP, self.WP)\n",
    "\n",
    "        # Update the value function\n",
    "        VF = u(self.CP, eta, u_bar) + discount_factor(beta, a_bar, self.CP, self.WP)*np.maximum(self.compute_EV(Xn), np.zeros(self.ncgm.ns))\n",
    "\n",
    "        return self.CP, self.WP, VF"
   ]
  },
  {
   "cell_type": "markdown",
   "metadata": {},
   "source": [
    "### Conventional Value Function Iteration\n",
    "\n",
    "This is one of the first solution methods for macroeconomics a graduate student in economics typically learns.\n",
    "\n",
    "In this solution method, one takes as given a value function, $V(k_t, z_t)$, and then solves for the optimal policy given the value function.\n",
    "\n",
    "The update section takes the form:\n",
    "\n",
    "* For each point, $(k_t, z_t)$, numerically solve for $c^*(k_t, z_t)$ to satisfy the first order condition $u'(c^*) = \\beta E \\left[ V_1((1 - \\delta) k_t + z_t f(k_t) - c^*, z_{t+1}) \\right]$\n",
    "* Define $k^*(k_t, z_t) = (1 - \\delta) k_t + z_t f(k_t) - c^*(k_t, z_t)$\n",
    "* Update value function according to $\\hat{V}(k_t, z_t) = u(c^*(k_t, z_t)) + \\beta E \\left[ V(k^*(k_t, z_t), z_{t+1}) \\right]$\n",
    "\n",
    "\n",
    "* For each point, $(X_t, z_t)$, numerically solve for $c^*(X_t, z_t)$ to satisfy the first order condition $u'(\\tilde{c}^\\ast) = \\beta E \\left[ V_1((1 - \\delta) k_t + z_t f(k_t) - c^*, z_{t+1}) \\right]$\n",
    "* Define $k^*(k_t, z_t) = (1 - \\delta) k_t + z_t f(k_t) - c^*(k_t, z_t)$\n",
    "* Update value function according to $\\hat{V}(k_t, z_t) = u(c^*(k_t, z_t)) + \\beta E \\left[ V(k^*(k_t, z_t), z_{t+1}) \\right]$\n",
    "\n",
    "\n"
   ]
  },
  {
   "cell_type": "code",
   "execution_count": 1987,
   "metadata": {},
   "outputs": [],
   "source": [
    "class VFI(GeneralSolution):\n",
    "    \"\"\"\n",
    "    Updates the coefficients and value functions using the VFI\n",
    "    method\n",
    "    \"\"\"\n",
    "    def update(self):\n",
    "        \"\"\"\n",
    "        Updates the coefficients and value functions using the VFI_ECM\n",
    "        method\n",
    "        \"\"\"\n",
    "        # Unpack parameters\n",
    "        N, beta, g, a_bar, eta, u_bar = self._unpack_params()\n",
    "        xgrid = self.ncgm.xgrid\n",
    "        n_state = xgrid.shape[0]\n",
    "\n",
    "        # Get the policy and update it\n",
    "        cp = np.empty(n_state)\n",
    "        wp = np.empty(n_state)\n",
    "        VF = np.empty(n_state)\n",
    "        for i_s in range(n_state):\n",
    "            # Pull out current vals\n",
    "            X = xgrid[i_s]\n",
    "            def _f(xp):\n",
    "                EV = self.compute_EV_scalar(xp)\n",
    "                Exp = expendables(X, xp, N, g)\n",
    "                if Exp <= 0:\n",
    "                    _cp = X/N\n",
    "                    return -u(_cp, 1, u_bar)**2\n",
    "\n",
    "                _cp = np.clip(c_from_exp(EV, Exp, beta, a_bar), 0, Exp)\n",
    "                _wp = Exp - _cp\n",
    "                return -(u(_cp, 1, u_bar) + discount_factor(beta, a_bar, _cp, _wp)*EV)**2\n",
    "                \n",
    "            \n",
    "            _xp = opt.fminbound(_f, 1, X*(1+g), xtol=1e-12)\n",
    "            EV = self.compute_EV_scalar(_xp)\n",
    "            Exp = expendables(X, _xp, N, g)\n",
    "            if Exp <= 0:\n",
    "                _cp = X/N\n",
    "                _wp = 0\n",
    "                _vf = u(_cp, 1, u_bar)\n",
    "            else:\n",
    "                _cp = np.clip(c_from_exp(EV, Exp, beta, a_bar), 0, Exp)\n",
    "                _wp = Exp - _cp\n",
    "                _vf = u(_cp, 1, u_bar) + discount_factor(beta, a_bar, _cp, _wp)*EV\n",
    "             \n",
    "            if _vf < 0:\n",
    "                cp[i_s] = X/N\n",
    "                wp[i_s] = 0\n",
    "                VF[i_s] = u(X/N, eta, u_bar)\n",
    "            else:                \n",
    "                cp[i_s] = _cp\n",
    "                wp[i_s] = _wp\n",
    "                VF[i_s] = _vf\n",
    "\n",
    "        return cp, wp, VF\n"
   ]
  },
  {
   "cell_type": "markdown",
   "metadata": {},
   "source": [
    "## A Horse Race\n",
    "\n",
    "We can now run a horse race to compare the methods in terms of both accuracy and speed."
   ]
  },
  {
   "cell_type": "code",
   "execution_count": 1988,
   "metadata": {
    "scrolled": true
   },
   "outputs": [
    {
     "name": "stderr",
     "output_type": "stream",
     "text": [
      "/Users/mikemahon/anaconda3/lib/python3.8/site-packages/scipy/optimize/minpack.py:828: OptimizeWarning: Covariance of the parameters could not be estimated\n",
      "  warnings.warn('Covariance of the parameters could not be estimated',\n",
      "/Users/mikemahon/anaconda3/lib/python3.8/site-packages/scipy/optimize/minpack.py:828: OptimizeWarning: Covariance of the parameters could not be estimated\n",
      "  warnings.warn('Covariance of the parameters could not be estimated',\n"
     ]
    },
    {
     "name": "stdout",
     "output_type": "stream",
     "text": [
      "vp done\n"
     ]
    },
    {
     "name": "stderr",
     "output_type": "stream",
     "text": [
      "/Users/mikemahon/anaconda3/lib/python3.8/site-packages/scipy/optimize/minpack.py:828: OptimizeWarning: Covariance of the parameters could not be estimated\n",
      "  warnings.warn('Covariance of the parameters could not be estimated',\n"
     ]
    },
    {
     "name": "stdout",
     "output_type": "stream",
     "text": [
      "25 0.018989168870716\n",
      "50 0.00417433679954371\n",
      "75 0.0010915991082408594\n",
      "100 0.00029747770214050284\n",
      "125 8.196744613964135e-05\n",
      "150 2.287298220982059e-05\n",
      "175 6.5201055027275245e-06\n",
      "200 2.007964437167331e-06\n"
     ]
    }
   ],
   "source": [
    "ncgm = Model(N=1, a_bar=1e5, beta=0.95, g_x=0.05, xmin=100, xmax=5000, nx=100)\n",
    "\n",
    "# First guess\n",
    "vp = IterateOnPolicy(ncgm, maxfev=50000)\n",
    "vp.solve(tol=1e-9)\n",
    "\n",
    "np.random.seed(61089)\n",
    "\n",
    "\n",
    "\n",
    "print('vp done')\n",
    "new_sol = vp\n",
    "new_sol = VFI(ncgm, maxfev=100000, prev_sol=None)\n",
    "ts = time.time()\n",
    "new_sol.solve(tol=1e-6, verbose=True, nskipprint=25)\n",
    "time_took = time.time() - ts"
   ]
  },
  {
   "cell_type": "code",
   "execution_count": 1989,
   "metadata": {},
   "outputs": [
    {
     "data": {
      "text/plain": [
       "0.06575"
      ]
     },
     "execution_count": 1989,
     "metadata": {},
     "output_type": "execute_result"
    }
   ],
   "source": [
    "new_sol.ncgm.g"
   ]
  },
  {
   "cell_type": "code",
   "execution_count": 1990,
   "metadata": {},
   "outputs": [
    {
     "data": {
      "text/plain": [
       "array([ 100.        ,  104.03065027,  108.22376196,  112.58588332,\n",
       "        117.12382653,  121.84467836,  126.75581122,  131.86489468,\n",
       "        137.17990741,  142.70914972,  148.46125646,  154.44521049,\n",
       "        160.67035679,  167.14641697,  173.88350448,  180.89214042,\n",
       "        188.18326998,  195.76827946,  203.65901415,  211.86779676,\n",
       "        220.40744669,  229.29130004,  238.53323045,  248.14767075,\n",
       "        258.14963552,  268.55474451,  279.37924705,  290.64004743,\n",
       "        302.35473129,  314.5415931 ,  327.21966467,  340.40874498,\n",
       "        354.12943099,  368.40314986,  383.25219243,  398.69974797,\n",
       "        414.76994045,  431.48786618,  448.87963304,  466.97240119,\n",
       "        485.79442555,  505.37509989,  525.74500273,  546.93594511,\n",
       "        568.98102028,  591.91465532,  615.77266499,  640.59230759,\n",
       "        666.41234318,  693.27309411,  721.21650797,  750.28622311,\n",
       "        780.52763681,  811.98797613,  844.7163717 ,  878.76393444,\n",
       "        914.18383536,  951.03138861,  989.36413787, 1029.24194619,\n",
       "       1070.7270895 , 1113.88435385, 1158.7811366 , 1205.48755164,\n",
       "       1254.07653892, 1304.62397836, 1357.2088083 , 1411.91314883,\n",
       "       1468.82243001, 1528.02552529, 1589.61489029, 1653.6867072 ,\n",
       "       1720.34103497, 1789.68196559, 1861.81778661, 1936.8611503 ,\n",
       "       2014.92924954, 2096.14400083, 2180.63223471, 2268.52589382,\n",
       "       2359.96223895, 2455.08406336, 2554.03991586, 2656.98433269,\n",
       "       2764.07807894, 2875.48839956, 2991.38928057, 3111.96172077,\n",
       "       3237.39401435, 3367.88204501, 3503.62959184, 3644.84864753,\n",
       "       3791.75974948, 3944.59232416, 4103.58504543, 4268.98620725,\n",
       "       4441.05411145, 4620.0574711 , 4806.27583015, 5000.        ])"
      ]
     },
     "execution_count": 1990,
     "metadata": {},
     "output_type": "execute_result"
    }
   ],
   "source": [
    "X = new_sol.ncgm.xgrid\n",
    "X"
   ]
  },
  {
   "cell_type": "code",
   "execution_count": 1991,
   "metadata": {},
   "outputs": [
    {
     "data": {
      "text/plain": [
       "640.5923075894693"
      ]
     },
     "execution_count": 1991,
     "metadata": {},
     "output_type": "execute_result"
    }
   ],
   "source": [
    "X = new_sol.ncgm.xgrid\n",
    "(X/N)[47]"
   ]
  },
  {
   "cell_type": "code",
   "execution_count": 2020,
   "metadata": {},
   "outputs": [
    {
     "data": {
      "text/plain": [
       "array([0.01207509, 0.01207497, 0.01207488, 0.01207481, 0.01207476,\n",
       "       0.01207473, 0.01207471, 0.01207471, 0.01207473, 0.01207476,\n",
       "       0.0120748 , 0.01207486, 0.01207492, 0.01207499, 0.01207508,\n",
       "       0.01207517, 0.01207526, 0.01207537, 0.01207548, 0.01207559,\n",
       "       0.01207571, 0.01207584, 0.01207597, 0.0120761 , 0.01207623,\n",
       "       0.01207637, 0.01207651, 0.01207665, 0.01207679, 0.01207693,\n",
       "       0.01207707, 0.01207721, 0.01207736, 0.0120775 , 0.01207764,\n",
       "       0.01207779, 0.01207793, 0.01207807, 0.01207821, 0.01207835,\n",
       "       0.01207849, 0.01207862, 0.01207876, 0.01207889, 0.01207903,\n",
       "       0.01207916, 0.01207928, 0.01207941, 0.01207954, 0.01207966,\n",
       "       0.01207978, 0.0120799 , 0.01208002, 0.01208013, 0.01208024,\n",
       "       0.01208035, 0.01208046, 0.01208057, 0.01208067, 0.01208078,\n",
       "       0.01208088, 0.01208098, 0.01208107, 0.01208117, 0.01208126,\n",
       "       0.01208135, 0.01208144, 0.01208152, 0.01208161, 0.01208169,\n",
       "       0.01208177, 0.01208185, 0.01208192, 0.012082  , 0.01208207,\n",
       "       0.01208214, 0.01208221, 0.01208228, 0.01208235, 0.01208241,\n",
       "       0.01208247, 0.01208253, 0.01208259, 0.01208265, 0.01208271,\n",
       "       0.01208276, 0.01208282, 0.01208287, 0.01208292, 0.01208297,\n",
       "       0.01208302, 0.01208306, 0.01208311, 0.01208315, 0.0120832 ,\n",
       "       0.01208324, 0.01208328, 0.01208332, 0.01208336, 0.01208339])"
      ]
     },
     "execution_count": 2020,
     "metadata": {},
     "output_type": "execute_result"
    }
   ],
   "source": [
    "(new_sol.compute_Xdot(X)/X)"
   ]
  },
  {
   "cell_type": "code",
   "execution_count": 1993,
   "metadata": {},
   "outputs": [
    {
     "data": {
      "text/plain": [
       "array([ 36.0892174 ,  36.87426685,  37.65924989,  38.44417367,\n",
       "        39.22904502,  40.01387041,  40.79865593,  41.58340723,\n",
       "        42.36812956,  43.15282769,  43.93750595,  44.72216822,\n",
       "        45.50681795,  46.29145813,  47.07609139,  47.86071994,\n",
       "        48.64534567,  49.42997013,  50.2145946 ,  50.9992201 ,\n",
       "        51.7838474 ,  52.56847713,  53.35310971,  54.13774544,\n",
       "        54.9223845 ,  55.70702699,  56.49167292,  57.27632225,\n",
       "        58.0609749 ,  58.84563075,  59.63028968,  60.41495151,\n",
       "        61.19961612,  61.98428332,  62.76895298,  63.55362493,\n",
       "        64.33829905,  65.1229752 ,  65.90765326,  66.69233312,\n",
       "        67.47701467,  68.26169784,  69.04638255,  69.83106872,\n",
       "        70.6157563 ,  71.40044524,  72.18513549,  72.96982702,\n",
       "        73.75451981,  74.53921382,  75.32390904,  76.10860546,\n",
       "        76.89330305,  77.67800182,  78.46270176,  79.24740286,\n",
       "        80.03210512,  80.81680853,  81.60151311,  82.38621883,\n",
       "        83.17092572,  83.95563375,  84.74034294,  85.52505329,\n",
       "        86.30976478,  87.09447742,  87.8791912 ,  88.66390613,\n",
       "        89.44862218,  90.23333937,  91.01805768,  91.8027771 ,\n",
       "        92.58749763,  93.37221926,  94.15694196,  94.94166575,\n",
       "        95.72639059,  96.51111649,  97.29584342,  98.08057137,\n",
       "        98.86530033,  99.65003028, 100.4347612 , 101.21949309,\n",
       "       102.00422591, 102.78895965, 103.57369431, 104.35842985,\n",
       "       105.14316625, 105.92790351, 106.7126416 , 107.4973805 ,\n",
       "       108.2821202 , 109.06686067, 109.85160189, 110.63634385,\n",
       "       111.42108653, 112.2058299 , 112.99057395, 113.77531866])"
      ]
     },
     "execution_count": 1993,
     "metadata": {},
     "output_type": "execute_result"
    }
   ],
   "source": [
    "new_sol.VF"
   ]
  },
  {
   "cell_type": "code",
   "execution_count": 1994,
   "metadata": {},
   "outputs": [
    {
     "data": {
      "text/plain": [
       "56.491672917989554"
      ]
     },
     "execution_count": 1994,
     "metadata": {},
     "output_type": "execute_result"
    }
   ],
   "source": [
    "idx = np.searchsorted(X, 270, side='left')\n",
    "new_sol.VF[idx]"
   ]
  },
  {
   "cell_type": "code",
   "execution_count": 1995,
   "metadata": {},
   "outputs": [
    {
     "data": {
      "text/plain": [
       "279.3792470473962"
      ]
     },
     "execution_count": 1995,
     "metadata": {},
     "output_type": "execute_result"
    }
   ],
   "source": [
    "new_sol.ncgm.xgrid[idx]"
   ]
  },
  {
   "cell_type": "code",
   "execution_count": 1996,
   "metadata": {},
   "outputs": [
    {
     "data": {
      "text/plain": [
       "0.00044919699746259756"
      ]
     },
     "execution_count": 1996,
     "metadata": {},
     "output_type": "execute_result"
    }
   ],
   "source": [
    "N, beta, g, a_bar, eta, u_bar = new_sol._unpack_params()\n",
    "1 - psurvival(a_bar, new_sol.CP[idx], new_sol.WP[idx])"
   ]
  },
  {
   "cell_type": "code",
   "execution_count": 1997,
   "metadata": {},
   "outputs": [],
   "source": [
    "# make a function for M_T(T)\n",
    "# X = np.arange(500,1e5, 5e3)\n",
    "# o = 2\n",
    "# for i in range(o):\n",
    "    \n",
    "# CP = new_sol.build_CP(X)\n",
    "# CP_lead1 = new_sol.build_CP(X+1)\n",
    "# CP_lead1 = new_sol.build_CP(X+1)\n",
    "# WP = new_sol.build_WP(X)\n",
    "# WP_lead1 = new_sol.build_WP(X+1)\n",
    "# haz = 1 - psurvival(a_bar, CP, WP)\n",
    "# haz_lead1 = 1 - psurvival(a_bar, CP_lead, WP_lead)\n",
    "# haz_ratio_1 = haz_lead/haz\n",
    "# haz_ratio_2 = \n",
    "# haz_ratio_2 "
   ]
  },
  {
   "cell_type": "code",
   "execution_count": 1998,
   "metadata": {},
   "outputs": [
    {
     "data": {
      "text/plain": [
       "array([0.01208323, 0.0120835 , 0.01208396, 0.01208413, 0.01208423,\n",
       "       0.01208429, 0.01208433, 0.01208436, 0.01208438, 0.0120844 ])"
      ]
     },
     "execution_count": 1998,
     "metadata": {},
     "output_type": "execute_result"
    }
   ],
   "source": [
    "X = np.linspace(50,50000,10)\n",
    "new_sol.compute_Xdot(X)/X"
   ]
  },
  {
   "cell_type": "code",
   "execution_count": 1999,
   "metadata": {},
   "outputs": [
    {
     "data": {
      "text/plain": [
       "26"
      ]
     },
     "execution_count": 1999,
     "metadata": {},
     "output_type": "execute_result"
    }
   ],
   "source": [
    "idx"
   ]
  },
  {
   "cell_type": "code",
   "execution_count": 2000,
   "metadata": {
    "scrolled": true
   },
   "outputs": [
    {
     "data": {
      "text/plain": [
       "(55.80556659596939, 0.5581859984346271, 7320092110712.656, 2000)"
      ]
     },
     "execution_count": 2000,
     "metadata": {},
     "output_type": "execute_result"
    }
   ],
   "source": [
    "new_sol.simulate(270,2000,s=1)"
   ]
  },
  {
   "cell_type": "code",
   "execution_count": 2001,
   "metadata": {},
   "outputs": [
    {
     "data": {
      "text/plain": [
       "36.87426685076511"
      ]
     },
     "execution_count": 2001,
     "metadata": {},
     "output_type": "execute_result"
    }
   ],
   "source": [
    "x = 2000\n",
    "idx = np.searchsorted(X, x, side='left')\n",
    "new_sol.VF[idx]"
   ]
  },
  {
   "cell_type": "code",
   "execution_count": 2002,
   "metadata": {},
   "outputs": [
    {
     "name": "stdout",
     "output_type": "stream",
     "text": [
      "x/N:  100.0\n",
      "VF estimate:  36.08975679867364\n",
      "new_sol.simulate(x,2000,s=1):  (36.0900878568769, 0.5509597524601028, 2709067693639.6655, 2000)\n",
      "sim_res1 (s=1):  36.0900878568769\n",
      "sim_res2 (s=0.9):  35.97945900037819\n",
      "sim_res3 (s=1.1):  35.98825623817364\n",
      "sim_res2 < sim_res1 > sim_res3???:  True\n",
      "\n",
      "x/N:  200.0\n",
      "VF estimate:  49.85422133370155\n",
      "new_sol.simulate(x,2000,s=1):  (49.85188918153173, 0.5557202586562942, 5421123971463.8545, 2000)\n",
      "sim_res1 (s=1):  49.85188918153173\n",
      "sim_res2 (s=0.9):  49.73901685697136\n",
      "sim_res3 (s=1.1):  49.75556769505831\n",
      "sim_res2 < sim_res1 > sim_res3???:  True\n",
      "\n",
      "x/N:  300.0\n",
      "VF estimate:  57.90591692919916\n",
      "new_sol.simulate(x,2000,s=1):  (57.896561957322916, 0.5590059499097512, 8134002038802.351, 2000)\n",
      "sim_res1 (s=1):  57.896561957322916\n",
      "sim_res2 (s=0.9):  57.78476919011308\n",
      "sim_res3 (s=1.1):  57.79885680909872\n",
      "sim_res2 < sim_res1 > sim_res3???:  True\n",
      "\n",
      "x/N:  400.0\n",
      "VF estimate:  63.61868586872949\n",
      "new_sol.simulate(x,2000,s=1):  (63.60758323155659, 0.5610513773682778, 10847216606784.047, 2000)\n",
      "sim_res1 (s=1):  63.60758323155659\n",
      "sim_res2 (s=0.9):  63.49630825270437\n",
      "sim_res3 (s=1.1):  63.50918472267927\n",
      "sim_res2 < sim_res1 > sim_res3???:  True\n",
      "\n",
      "x/N:  500.0\n",
      "VF estimate:  68.04985371363568\n",
      "new_sol.simulate(x,2000,s=1):  (68.03866551165825, 0.5624213515250368, 13560615560055.729, 2000)\n",
      "sim_res1 (s=1):  68.03866551165825\n",
      "sim_res2 (s=0.9):  67.92771721785385\n",
      "sim_res3 (s=1.1):  67.93984441712249\n",
      "sim_res2 < sim_res1 > sim_res3???:  True\n",
      "\n",
      "x/N:  600.0\n",
      "VF estimate:  71.67038146422709\n",
      "new_sol.simulate(x,2000,s=1):  (71.659764496169, 0.5634008599046215, 16274131139685.412, 2000)\n",
      "sim_res1 (s=1):  71.659764496169\n",
      "sim_res2 (s=0.9):  71.54906409471569\n",
      "sim_res3 (s=1.1):  71.56063245001211\n",
      "sim_res2 < sim_res1 > sim_res3???:  True\n",
      "\n",
      "x/N:  700.0\n",
      "VF estimate:  74.7314940605716\n",
      "new_sol.simulate(x,2000,s=1):  (74.72176304121358, 0.5641368036198268, 18987727200856.934, 2000)\n",
      "sim_res1 (s=1):  74.72176304121358\n",
      "sim_res2 (s=0.9):  74.6112667648707\n",
      "sim_res3 (s=1.1):  74.62237928616291\n",
      "sim_res2 < sim_res1 > sim_res3???:  True\n",
      "\n",
      "x/N:  800.0\n",
      "VF estimate:  77.38315040375738\n",
      "new_sol.simulate(x,2000,s=1):  (77.37447321940382, 0.5647109745804475, 21701382168493.477, 2000)\n",
      "sim_res1 (s=1):  77.37447321940382\n",
      "sim_res2 (s=0.9):  77.26415125121629\n",
      "sim_res3 (s=1.1):  77.27487622790814\n",
      "sim_res2 < sim_res1 > sim_res3???:  True\n",
      "\n",
      "x/N:  900.0\n",
      "VF estimate:  79.72207705972468\n",
      "new_sol.simulate(x,2000,s=1):  (79.71454675967782, 0.5651722257560022, 24415082126380.06, 2000)\n",
      "sim_res1 (s=1):  79.71454675967782\n",
      "sim_res2 (s=0.9):  79.6043764427225\n",
      "sim_res3 (s=1.1):  79.6147648013977\n",
      "sim_res2 < sim_res1 > sim_res3???:  True\n",
      "\n",
      "x/N:  1000.0\n",
      "VF estimate:  81.8143182486636\n",
      "new_sol.simulate(x,2000,s=1):  (81.8079851577278, 0.565551475418547, 27128817572736.81, 2000)\n",
      "sim_res1 (s=1):  81.8079851577278\n",
      "sim_res2 (s=0.9):  81.697948307127\n",
      "sim_res3 (s=1.1):  81.70804047462084\n",
      "sim_res2 < sim_res1 > sim_res3???:  True\n",
      "\n",
      "x/N:  1100.0\n",
      "VF estimate:  83.70698062476094\n",
      "new_sol.simulate(x,2000,s=1):  (83.70186887292331, 0.5658692380015011, 29842581730410.457, 2000)\n",
      "sim_res1 (s=1):  83.70186887292331\n",
      "sim_res2 (s=0.9):  83.59195046379655\n",
      "sim_res3 (s=1.1):  83.60177964296795\n",
      "sim_res2 < sim_res1 > sim_res3???:  True\n",
      "\n",
      "x/N:  1200.0\n",
      "VF estimate:  85.434845999255\n",
      "new_sol.simulate(x,2000,s=1):  (85.4309629387629, 0.566139664551162, 32556369595457.57, 2000)\n",
      "sim_res1 (s=1):  85.4309629387629\n",
      "sim_res2 (s=0.9):  85.32115034054367\n",
      "sim_res3 (s=1.1):  85.33074435972027\n",
      "sim_res2 < sim_res1 > sim_res3???:  True\n",
      "\n",
      "x/N:  1300.0\n",
      "VF estimate:  87.02432806303543\n",
      "new_sol.simulate(x,2000,s=1):  (87.0216700237939, 0.5663728379256021, 35270177367868.945, 2000)\n",
      "sim_res1 (s=1):  87.0216700237939\n",
      "sim_res2 (s=0.9):  86.91195249266251\n",
      "sim_res3 (s=1.1):  86.92133499312777\n",
      "sim_res2 < sim_res1 > sim_res3???:  True\n",
      "\n",
      "x/N:  1400.0\n",
      "VF estimate:  88.49595859559952\n",
      "new_sol.simulate(x,2000,s=1):  (88.49451457851342, 0.5665761413413811, 37984002093866.02, 2000)\n",
      "sim_res1 (s=1):  88.49451457851342\n",
      "sim_res2 (s=0.9):  88.38488289275216\n",
      "sim_res3 (s=1.1):  88.39407416090395\n",
      "sim_res2 < sim_res1 > sim_res3???:  True\n",
      "\n",
      "x/N:  1500.0\n",
      "VF estimate:  89.86601384416119\n",
      "new_sol.simulate(x,2000,s=1):  (89.86576797416006, 0.5667551087780432, 40697841431908.95, 2000)\n",
      "sim_res1 (s=1):  89.86576797416006\n",
      "sim_res2 (s=0.9):  89.75621415917323\n",
      "sim_res3 (s=1.1):  89.76523174327305\n",
      "sim_res2 < sim_res1 > sim_res3???:  True\n",
      "\n",
      "x/N:  1600.0\n",
      "VF estimate:  91.14761493878532\n",
      "new_sol.simulate(x,2000,s=1):  (91.14854813467473, 0.5669139724658402, 43411693494375.805, 2000)\n",
      "sim_res1 (s=1):  91.14854813467473\n",
      "sim_res2 (s=0.9):  91.03906524935486\n",
      "sim_res3 (s=1.1):  91.04792443325029\n",
      "sim_res2 < sim_res1 > sim_res3???:  True\n",
      "\n",
      "x/N:  1700.0\n",
      "VF estimate:  92.35149411530838\n",
      "new_sol.simulate(x,2000,s=1):  (92.35358524677633, 0.5670560263280914, 46125556737326.25, 2000)\n",
      "sim_res1 (s=1):  92.35358524677633\n",
      "sim_res2 (s=0.9):  92.24416721426263\n",
      "sim_res3 (s=1.1):  92.25288138995731\n",
      "sim_res2 < sim_res1 > sim_res3???:  True\n",
      "\n",
      "x/N:  1800.0\n",
      "VF estimate:  93.4865415947526\n",
      "new_sol.simulate(x,2000,s=1):  (93.48976829406655, 0.5671838737876346, 48839429881822.05, 2000)\n",
      "sim_res1 (s=1):  93.48976829406655\n",
      "sim_res2 (s=0.9):  93.38040976580166\n",
      "sim_res3 (s=1.1):  93.38899073138414\n",
      "sim_res2 < sim_res1 > sim_res3???:  True\n",
      "\n",
      "x/N:  1900.0\n",
      "VF estimate:  94.56020440483721\n",
      "new_sol.simulate(x,2000,s=1):  (94.56454364092544, 0.56729960075062, 51553311856548.336, 2000)\n",
      "sim_res1 (s=1):  94.56454364092544\n",
      "sim_res2 (s=0.9):  94.45523988628537\n",
      "sim_res3 (s=1.1):  94.4636980871698\n",
      "sim_res2 < sim_res1 > sim_res3???:  True\n",
      "\n"
     ]
    }
   ],
   "source": [
    "for x in range(100,2000, 100):\n",
    "    print('x/N: ', x/N)\n",
    "    print('VF estimate: ', new_sol.build_VF(x))\n",
    "    sim_res1 = new_sol.simulate(x,2000,s=1)\n",
    "    print('new_sol.simulate(x,2000,s=1): ', sim_res1)\n",
    "    sim_res1 = sim_res1[0]\n",
    "    print('sim_res1 (s=1): ', sim_res1)\n",
    "    sim_res2 = new_sol.simulate(x,2000,s=0.9)[0]\n",
    "    print('sim_res2 (s=0.9): ', sim_res2)\n",
    "    sim_res3 = new_sol.simulate(x,2000,s=1.1)[0]\n",
    "    print('sim_res3 (s=1.1): ', sim_res3)\n",
    "    print('sim_res2 < sim_res1 > sim_res3???: ', sim_res1 > sim_res2 and sim_res1 > sim_res3)\n",
    "    print('')"
   ]
  },
  {
   "cell_type": "code",
   "execution_count": 2003,
   "metadata": {},
   "outputs": [
    {
     "data": {
      "text/plain": [
       "94.56020440483721"
      ]
     },
     "execution_count": 2003,
     "metadata": {},
     "output_type": "execute_result"
    }
   ],
   "source": [
    "new_sol.build_VF(x)"
   ]
  },
  {
   "cell_type": "code",
   "execution_count": 2004,
   "metadata": {},
   "outputs": [
    {
     "data": {
      "text/plain": [
       "(94.56454364092544, 0.56729960075062, 51553311856548.336, 2000)"
      ]
     },
     "execution_count": 2004,
     "metadata": {},
     "output_type": "execute_result"
    }
   ],
   "source": [
    "new_sol.simulate(x,2000,s=1)"
   ]
  },
  {
   "cell_type": "code",
   "execution_count": 2005,
   "metadata": {},
   "outputs": [
    {
     "data": {
      "text/plain": [
       "array([ 36.0892174 ,  36.87426685,  37.65924989,  38.44417367,\n",
       "        39.22904502,  40.01387041,  40.79865593,  41.58340723,\n",
       "        42.36812956,  43.15282769,  43.93750595,  44.72216822,\n",
       "        45.50681795,  46.29145813,  47.07609139,  47.86071994,\n",
       "        48.64534567,  49.42997013,  50.2145946 ,  50.9992201 ,\n",
       "        51.7838474 ,  52.56847713,  53.35310971,  54.13774544,\n",
       "        54.9223845 ,  55.70702699,  56.49167292,  57.27632225,\n",
       "        58.0609749 ,  58.84563075,  59.63028968,  60.41495151,\n",
       "        61.19961612,  61.98428332,  62.76895298,  63.55362493,\n",
       "        64.33829905,  65.1229752 ,  65.90765326,  66.69233312,\n",
       "        67.47701467,  68.26169784,  69.04638255,  69.83106872,\n",
       "        70.6157563 ,  71.40044524,  72.18513549,  72.96982702,\n",
       "        73.75451981,  74.53921382,  75.32390904,  76.10860546,\n",
       "        76.89330305,  77.67800182,  78.46270176,  79.24740286,\n",
       "        80.03210512,  80.81680853,  81.60151311,  82.38621883,\n",
       "        83.17092572,  83.95563375,  84.74034294,  85.52505329,\n",
       "        86.30976478,  87.09447742,  87.8791912 ,  88.66390613,\n",
       "        89.44862218,  90.23333937,  91.01805768,  91.8027771 ,\n",
       "        92.58749763,  93.37221926,  94.15694196,  94.94166575,\n",
       "        95.72639059,  96.51111649,  97.29584342,  98.08057137,\n",
       "        98.86530033,  99.65003028, 100.4347612 , 101.21949309,\n",
       "       102.00422591, 102.78895965, 103.57369431, 104.35842985,\n",
       "       105.14316625, 105.92790351, 106.7126416 , 107.4973805 ,\n",
       "       108.2821202 , 109.06686067, 109.85160189, 110.63634385,\n",
       "       111.42108653, 112.2058299 , 112.99057395, 113.77531866])"
      ]
     },
     "execution_count": 2005,
     "metadata": {},
     "output_type": "execute_result"
    }
   ],
   "source": [
    "VF = new_sol.VF\n",
    "VF"
   ]
  },
  {
   "cell_type": "code",
   "execution_count": 2006,
   "metadata": {},
   "outputs": [
    {
     "data": {
      "text/plain": [
       "array([ 36.0897568 ,  36.87445032,  37.65914384,  38.44383736,\n",
       "        39.22853087,  40.01322439,  40.79791791,  41.58261143,\n",
       "        42.36730495,  43.15199847,  43.93669199,  44.72138551,\n",
       "        45.50607902,  46.29077254,  47.07546606,  47.86015958,\n",
       "        48.6448531 ,  49.42954662,  50.21424014,  50.99893366,\n",
       "        51.78362718,  52.56832069,  53.35301421,  54.13770773,\n",
       "        54.92240125,  55.70709477,  56.49178829,  57.27648181,\n",
       "        58.06117533,  58.84586884,  59.63056236,  60.41525588,\n",
       "        61.1999494 ,  61.98464292,  62.76933644,  63.55402996,\n",
       "        64.33872348,  65.123417  ,  65.90811051,  66.69280403,\n",
       "        67.47749755,  68.26219107,  69.04688459,  69.83157811,\n",
       "        70.61627163,  71.40096515,  72.18565867,  72.97035218,\n",
       "        73.7550457 ,  74.53973922,  75.32443274,  76.10912626,\n",
       "        76.89381978,  77.6785133 ,  78.46320682,  79.24790033,\n",
       "        80.03259385,  80.81728737,  81.60198089,  82.38667441,\n",
       "        83.17136793,  83.95606145,  84.74075497,  85.52544849,\n",
       "        86.310142  ,  87.09483552,  87.87952904,  88.66422256,\n",
       "        89.44891608,  90.2336096 ,  91.01830312,  91.80299664,\n",
       "        92.58769016,  93.37238367,  94.15707719,  94.94177071,\n",
       "        95.72646423,  96.51115775,  97.29585127,  98.08054479,\n",
       "        98.86523831,  99.64993182, 100.43462534, 101.21931886,\n",
       "       102.00401238, 102.7887059 , 103.57339942, 104.35809294,\n",
       "       105.14278646, 105.92747998, 106.71217349, 107.49686701,\n",
       "       108.28156053, 109.06625405, 109.85094757, 110.63564109,\n",
       "       111.42033461, 112.20502813, 112.98972164, 113.77441516])"
      ]
     },
     "execution_count": 2006,
     "metadata": {},
     "output_type": "execute_result"
    }
   ],
   "source": [
    "new_sol.build_VF()"
   ]
  },
  {
   "cell_type": "code",
   "execution_count": 2007,
   "metadata": {},
   "outputs": [
    {
     "data": {
      "text/plain": [
       "array([  4.90327374,   5.10458134,   5.3137887 ,   5.53121425,\n",
       "         5.75718923,   5.99205823,   6.23617974,   6.48992669,\n",
       "         6.75368706,   7.02786446,   7.31287874,   7.60916672,\n",
       "         7.9171828 ,   8.23739969,   8.57030916,   8.91642281,\n",
       "         9.27627286,   9.65041297,  10.03941911,  10.4438905 ,\n",
       "        10.86445048,  11.30174753,  11.75645625,  12.22927845,\n",
       "        12.72094422,  13.23221309,  13.76387517,  14.31675246,\n",
       "        14.89170007,  15.48960756,  16.11140038,  16.75804125,\n",
       "        17.43053171,  18.12991368,  18.85727106,  19.61373142,\n",
       "        20.40046783,  21.21870058,  22.0696992 ,  22.95478437,\n",
       "        23.87532998,  24.83276533,  25.82857731,  26.86431276,\n",
       "        27.94158084,  29.06205559,  30.22747853,  31.43966135,\n",
       "        32.70048878,  34.01192152,  35.37599929,  36.79484403,\n",
       "        38.2706632 ,  39.80575324,  41.40250315,  43.06339824,\n",
       "        44.79102396,  46.58806999,  48.45733442,  50.40172813,\n",
       "        52.42427932,  54.52813823,  56.7165821 ,  58.99302025,\n",
       "        61.36099942,  63.82420932,  66.38648835,  69.05182966,\n",
       "        71.82438731,  74.70848283,  77.70861191,  80.82945148,\n",
       "        84.07586693,  87.45291979,  90.96587561,  94.62021216,\n",
       "        98.421628  , 102.37605137, 106.48964949, 110.76883812,\n",
       "       115.22029164, 119.85095345, 124.66804681, 129.67908611,\n",
       "       134.89188865, 140.31458679, 145.95564069, 151.82385151,\n",
       "       157.92837514, 164.27873654, 170.88484456, 177.75700745,\n",
       "       184.90594896, 192.34282506, 200.07924139, 208.12727136,\n",
       "       216.49947505, 225.20891875, 234.26919542, 243.69444593])"
      ]
     },
     "execution_count": 2007,
     "metadata": {},
     "output_type": "execute_result"
    }
   ],
   "source": [
    "CP = new_sol.CP\n",
    "CP"
   ]
  },
  {
   "cell_type": "code",
   "execution_count": 2008,
   "metadata": {
    "scrolled": true
   },
   "outputs": [
    {
     "data": {
      "text/plain": [
       "array([  4.90327374,   5.10458134,   5.3137887 ,   5.53121425,\n",
       "         5.75718923,   5.99205823,   6.23617974,   6.48992669,\n",
       "         6.75368706,   7.02786446,   7.31287874,   7.60916672,\n",
       "         7.9171828 ,   8.23739969,   8.57030916,   8.91642281,\n",
       "         9.27627286,   9.65041297,  10.03941911,  10.4438905 ,\n",
       "        10.86445048,  11.30174753,  11.75645625,  12.22927845,\n",
       "        12.72094422,  13.23221309,  13.76387517,  14.31675246,\n",
       "        14.89170007,  15.48960756,  16.11140038,  16.75804125,\n",
       "        17.43053171,  18.12991368,  18.85727106,  19.61373142,\n",
       "        20.40046783,  21.21870058,  22.0696992 ,  22.95478437,\n",
       "        23.87532998,  24.83276533,  25.82857731,  26.86431276,\n",
       "        27.94158084,  29.06205559,  30.22747853,  31.43966135,\n",
       "        32.70048878,  34.01192152,  35.37599929,  36.79484403,\n",
       "        38.2706632 ,  39.80575324,  41.40250315,  43.06339824,\n",
       "        44.79102396,  46.58806999,  48.45733442,  50.40172813,\n",
       "        52.42427932,  54.52813823,  56.7165821 ,  58.99302025,\n",
       "        61.36099942,  63.82420932,  66.38648835,  69.05182966,\n",
       "        71.82438731,  74.70848283,  77.70861191,  80.82945148,\n",
       "        84.07586693,  87.45291979,  90.96587561,  94.62021216,\n",
       "        98.421628  , 102.37605137, 106.48964949, 110.76883812,\n",
       "       115.22029164, 119.85095345, 124.66804681, 129.67908611,\n",
       "       134.89188865, 140.31458679, 145.95564069, 151.82385151,\n",
       "       157.92837514, 164.27873654, 170.88484456, 177.75700745,\n",
       "       184.90594896, 192.34282506, 200.07924139, 208.12727136,\n",
       "       216.49947505, 225.20891875, 234.26919542, 243.69444593])"
      ]
     },
     "execution_count": 2008,
     "metadata": {},
     "output_type": "execute_result"
    }
   ],
   "source": [
    "new_sol.build_CP()"
   ]
  },
  {
   "cell_type": "code",
   "execution_count": 2009,
   "metadata": {},
   "outputs": [
    {
     "data": {
      "text/plain": [
       "array([0.13307733, 0.13477869, 0.13676095, 0.13903546, 0.14161397,\n",
       "       0.14450876, 0.14773256, 0.15129863, 0.15522078, 0.15951336,\n",
       "       0.16419129, 0.1692701 , 0.17476597, 0.18069568, 0.18707674,\n",
       "       0.19392734, 0.2012664 , 0.2091136 , 0.21748943, 0.22641521,\n",
       "       0.23591308, 0.24600612, 0.25671831, 0.2680746 , 0.28010097,\n",
       "       0.29282441, 0.30627303, 0.32047605, 0.33546388, 0.35126815,\n",
       "       0.36792178, 0.38545899, 0.40391541, 0.42332807, 0.44373553,\n",
       "       0.46517787, 0.48769682, 0.51133576, 0.53613985, 0.56215604,\n",
       "       0.58943318, 0.61802211, 0.6479757 , 0.67934894, 0.71219907,\n",
       "       0.74658561, 0.78257048, 0.82021812, 0.85959554, 0.90077246,\n",
       "       0.94382142, 0.98881786, 1.03584029, 1.08497037, 1.13629304,\n",
       "       1.18989669, 1.24587326, 1.30431837, 1.36533155, 1.42901628,\n",
       "       1.49548027, 1.56483552, 1.63719857, 1.71269066, 1.79143791,\n",
       "       1.87357153, 1.959228  , 2.04854932, 2.1416832 , 2.23878332,\n",
       "       2.34000955, 2.44552819, 2.55551225, 2.67014172, 2.78960384,\n",
       "       2.9140934 , 3.04381303, 3.17897355, 3.31979425, 3.46650327,\n",
       "       3.61933796, 3.77854522, 3.9443819 , 4.11711522, 4.29702315,\n",
       "       4.48439487, 4.67953123, 4.88274519, 5.09436233, 5.31472136,\n",
       "       5.54417462, 5.78308868, 6.03184486, 6.29083988, 6.56048641,\n",
       "       6.84121379, 7.13346864, 7.4377156 , 7.75443803, 8.08413877])"
      ]
     },
     "execution_count": 2009,
     "metadata": {},
     "output_type": "execute_result"
    }
   ],
   "source": [
    "WP = new_sol.WP\n",
    "WP"
   ]
  },
  {
   "cell_type": "code",
   "execution_count": 2010,
   "metadata": {
    "scrolled": true
   },
   "outputs": [
    {
     "data": {
      "text/plain": [
       "array([0.13307733, 0.13477869, 0.13676095, 0.13903546, 0.14161397,\n",
       "       0.14450876, 0.14773256, 0.15129863, 0.15522078, 0.15951336,\n",
       "       0.16419129, 0.1692701 , 0.17476597, 0.18069568, 0.18707674,\n",
       "       0.19392734, 0.2012664 , 0.2091136 , 0.21748943, 0.22641521,\n",
       "       0.23591308, 0.24600612, 0.25671831, 0.2680746 , 0.28010097,\n",
       "       0.29282441, 0.30627303, 0.32047605, 0.33546388, 0.35126815,\n",
       "       0.36792178, 0.38545899, 0.40391541, 0.42332807, 0.44373553,\n",
       "       0.46517787, 0.48769682, 0.51133576, 0.53613985, 0.56215604,\n",
       "       0.58943318, 0.61802211, 0.6479757 , 0.67934894, 0.71219907,\n",
       "       0.74658561, 0.78257048, 0.82021812, 0.85959554, 0.90077246,\n",
       "       0.94382142, 0.98881786, 1.03584029, 1.08497037, 1.13629304,\n",
       "       1.18989669, 1.24587326, 1.30431837, 1.36533155, 1.42901628,\n",
       "       1.49548027, 1.56483552, 1.63719857, 1.71269066, 1.79143791,\n",
       "       1.87357153, 1.959228  , 2.04854932, 2.1416832 , 2.23878332,\n",
       "       2.34000955, 2.44552819, 2.55551225, 2.67014172, 2.78960384,\n",
       "       2.9140934 , 3.04381303, 3.17897355, 3.31979425, 3.46650327,\n",
       "       3.61933796, 3.77854522, 3.9443819 , 4.11711522, 4.29702315,\n",
       "       4.48439487, 4.67953123, 4.88274519, 5.09436233, 5.31472136,\n",
       "       5.54417462, 5.78308868, 6.03184486, 6.29083988, 6.56048641,\n",
       "       6.84121379, 7.13346864, 7.4377156 , 7.75443803, 8.08413877])"
      ]
     },
     "execution_count": 2010,
     "metadata": {},
     "output_type": "execute_result"
    }
   ],
   "source": [
    "new_sol.build_WP()"
   ]
  },
  {
   "cell_type": "code",
   "execution_count": 2011,
   "metadata": {},
   "outputs": [
    {
     "data": {
      "text/plain": [
       "array([ 100.        ,  104.03065027,  108.22376196,  112.58588332,\n",
       "        117.12382653,  121.84467836,  126.75581122,  131.86489468,\n",
       "        137.17990741,  142.70914972,  148.46125646,  154.44521049,\n",
       "        160.67035679,  167.14641697,  173.88350448,  180.89214042,\n",
       "        188.18326998,  195.76827946,  203.65901415,  211.86779676,\n",
       "        220.40744669,  229.29130004,  238.53323045,  248.14767075,\n",
       "        258.14963552,  268.55474451,  279.37924705,  290.64004743,\n",
       "        302.35473129,  314.5415931 ,  327.21966467,  340.40874498,\n",
       "        354.12943099,  368.40314986,  383.25219243,  398.69974797,\n",
       "        414.76994045,  431.48786618,  448.87963304,  466.97240119,\n",
       "        485.79442555,  505.37509989,  525.74500273,  546.93594511,\n",
       "        568.98102028,  591.91465532,  615.77266499,  640.59230759,\n",
       "        666.41234318,  693.27309411,  721.21650797,  750.28622311,\n",
       "        780.52763681,  811.98797613,  844.7163717 ,  878.76393444,\n",
       "        914.18383536,  951.03138861,  989.36413787, 1029.24194619,\n",
       "       1070.7270895 , 1113.88435385, 1158.7811366 , 1205.48755164,\n",
       "       1254.07653892, 1304.62397836, 1357.2088083 , 1411.91314883,\n",
       "       1468.82243001, 1528.02552529, 1589.61489029, 1653.6867072 ,\n",
       "       1720.34103497, 1789.68196559, 1861.81778661, 1936.8611503 ,\n",
       "       2014.92924954, 2096.14400083, 2180.63223471, 2268.52589382,\n",
       "       2359.96223895, 2455.08406336, 2554.03991586, 2656.98433269,\n",
       "       2764.07807894, 2875.48839956, 2991.38928057, 3111.96172077,\n",
       "       3237.39401435, 3367.88204501, 3503.62959184, 3644.84864753,\n",
       "       3791.75974948, 3944.59232416, 4103.58504543, 4268.98620725,\n",
       "       4441.05411145, 4620.0574711 , 4806.27583015, 5000.        ])"
      ]
     },
     "execution_count": 2011,
     "metadata": {},
     "output_type": "execute_result"
    }
   ],
   "source": [
    "new_sol.ncgm.xgrid"
   ]
  },
  {
   "cell_type": "code",
   "execution_count": 2012,
   "metadata": {},
   "outputs": [
    {
     "data": {
      "text/plain": [
       "array([ 100.        ,  104.03065027,  108.22376196,  112.58588332,\n",
       "        117.12382653,  121.84467836,  126.75581122,  131.86489468,\n",
       "        137.17990741,  142.70914972,  148.46125646,  154.44521049,\n",
       "        160.67035679,  167.14641697,  173.88350448,  180.89214042,\n",
       "        188.18326998,  195.76827946,  203.65901415,  211.86779676,\n",
       "        220.40744669,  229.29130004,  238.53323045,  248.14767075,\n",
       "        258.14963552,  268.55474451,  279.37924705,  290.64004743,\n",
       "        302.35473129,  314.5415931 ,  327.21966467,  340.40874498,\n",
       "        354.12943099,  368.40314986,  383.25219243,  398.69974797,\n",
       "        414.76994045,  431.48786618,  448.87963304,  466.97240119,\n",
       "        485.79442555,  505.37509989,  525.74500273,  546.93594511,\n",
       "        568.98102028,  591.91465532,  615.77266499,  640.59230759,\n",
       "        666.41234318,  693.27309411,  721.21650797,  750.28622311,\n",
       "        780.52763681,  811.98797613,  844.7163717 ,  878.76393444,\n",
       "        914.18383536,  951.03138861,  989.36413787, 1029.24194619,\n",
       "       1070.7270895 , 1113.88435385, 1158.7811366 , 1205.48755164,\n",
       "       1254.07653892, 1304.62397836, 1357.2088083 , 1411.91314883,\n",
       "       1468.82243001, 1528.02552529, 1589.61489029, 1653.6867072 ,\n",
       "       1720.34103497, 1789.68196559, 1861.81778661, 1936.8611503 ,\n",
       "       2014.92924954, 2096.14400083, 2180.63223471, 2268.52589382,\n",
       "       2359.96223895, 2455.08406336, 2554.03991586, 2656.98433269,\n",
       "       2764.07807894, 2875.48839956, 2991.38928057, 3111.96172077,\n",
       "       3237.39401435, 3367.88204501, 3503.62959184, 3644.84864753,\n",
       "       3791.75974948, 3944.59232416, 4103.58504543, 4268.98620725,\n",
       "       4441.05411145, 4620.0574711 , 4806.27583015, 5000.        ])"
      ]
     },
     "execution_count": 2012,
     "metadata": {},
     "output_type": "execute_result"
    }
   ],
   "source": [
    "new_sol.ncgm.xgrid"
   ]
  },
  {
   "cell_type": "code",
   "execution_count": 2013,
   "metadata": {},
   "outputs": [
    {
     "data": {
      "text/plain": [
       "array([36.84529682, 37.87380249, 38.85457468, 39.78276025, 40.65410405,\n",
       "       41.46501776, 42.21262953, 42.89481346, 43.51019833, 44.05815657,\n",
       "       44.53877501, 44.9528098 , 45.30162836, 45.58714156, 45.81172932,\n",
       "       45.97816287, 46.08952641, 46.1491408 , 46.16049123, 46.12716042,\n",
       "       46.05276858, 45.94092068, 45.79516129, 45.61893712, 45.41556672,\n",
       "       45.18821713, 44.93988661, 44.67339294, 44.39136655, 44.09624768,\n",
       "       43.79028694, 43.47554867, 43.15391646, 42.82710028, 42.4966449 ,\n",
       "       42.16393907, 41.83022525, 41.49660956, 41.16407169, 40.83347479,\n",
       "       40.50557499, 40.18103056, 39.86041063, 39.54420345, 39.23282413,\n",
       "       38.92662178, 38.62588628, 38.33085434, 38.04171527, 37.75861606,\n",
       "       37.4816662 , 37.21094193, 36.94649019, 36.6883321 , 36.43646623,\n",
       "       36.19087139, 35.9515093 , 35.71832684, 35.49125818, 35.27022659,\n",
       "       35.05514616, 34.84592321, 34.64245763, 34.44464405, 34.25237288,\n",
       "       34.06553119, 33.88400352, 33.7076726 , 33.53641998, 33.37012654,\n",
       "       33.20867297, 33.05194021, 32.89980978, 32.75216409, 32.60888669,\n",
       "       32.46986255, 32.33497817, 32.20412181, 32.07718358, 31.95405555,\n",
       "       31.83463188, 31.71880882, 31.60648484, 31.49756061, 31.39193904,\n",
       "       31.28952531, 31.19022687, 31.09395342, 31.00061693, 30.9101316 ,\n",
       "       30.82241385, 30.73738228, 30.65495767, 30.57506292, 30.49762303,\n",
       "       30.42256503, 30.34981801, 30.279313  , 30.21098298, 30.14476283])"
      ]
     },
     "execution_count": 2013,
     "metadata": {},
     "output_type": "execute_result"
    }
   ],
   "source": [
    "CP/WP"
   ]
  },
  {
   "cell_type": "code",
   "execution_count": 2014,
   "metadata": {},
   "outputs": [
    {
     "data": {
      "text/plain": [
       "[<matplotlib.lines.Line2D at 0x1329cb6d0>,\n",
       " <matplotlib.lines.Line2D at 0x1329cb0a0>]"
      ]
     },
     "execution_count": 2014,
     "metadata": {},
     "output_type": "execute_result"
    },
    {
     "data": {
      "image/png": "[encoded data removed]",
      "text/plain": [
       "<Figure size 432x288 with 1 Axes>"
      ]
     },
     "metadata": {
      "needs_background": "light"
     },
     "output_type": "display_data"
    }
   ],
   "source": [
    "xmax = 1e5\n",
    "X = new_sol.ncgm.xgrid\n",
    "xnew = np.linspace(1,xmax,100)\n",
    "vf_new = new_sol.build_VF(xnew)\n",
    "\n",
    "plt.plot(X[X < xmax], new_sol.VF[X < xmax], 'o', xnew, vf_new)"
   ]
  },
  {
   "cell_type": "code",
   "execution_count": 2015,
   "metadata": {},
   "outputs": [
    {
     "data": {
      "text/plain": [
       "[<matplotlib.lines.Line2D at 0x132914be0>,\n",
       " <matplotlib.lines.Line2D at 0x1327ec910>]"
      ]
     },
     "execution_count": 2015,
     "metadata": {},
     "output_type": "execute_result"
    },
    {
     "data": {
      "image/png": "[encoded data removed]",
      "text/plain": [
       "<Figure size 432x288 with 1 Axes>"
      ]
     },
     "metadata": {
      "needs_background": "light"
     },
     "output_type": "display_data"
    }
   ],
   "source": [
    "cp_new = new_sol.build_CP(xnew)\n",
    "\n",
    "plt.plot(new_sol.ncgm.xgrid, new_sol.CP, 'o', xnew, cp_new)"
   ]
  },
  {
   "cell_type": "code",
   "execution_count": 2016,
   "metadata": {},
   "outputs": [
    {
     "data": {
      "text/plain": [
       "[<matplotlib.lines.Line2D at 0x132a01340>,\n",
       " <matplotlib.lines.Line2D at 0x132a19a90>]"
      ]
     },
     "execution_count": 2016,
     "metadata": {},
     "output_type": "execute_result"
    },
    {
     "data": {
      "image/png": "[encoded data removed]",
      "text/plain": [
       "<Figure size 432x288 with 1 Axes>"
      ]
     },
     "metadata": {
      "needs_background": "light"
     },
     "output_type": "display_data"
    }
   ],
   "source": [
    "wp_new = new_sol.build_WP(xnew)\n",
    "\n",
    "plt.plot(new_sol.ncgm.xgrid, new_sol.WP, 'o', xnew, wp_new)"
   ]
  },
  {
   "cell_type": "code",
   "execution_count": 2017,
   "metadata": {},
   "outputs": [
    {
     "data": {
      "text/plain": [
       "[<matplotlib.lines.Line2D at 0x132a6d490>,\n",
       " <matplotlib.lines.Line2D at 0x132a792e0>]"
      ]
     },
     "execution_count": 2017,
     "metadata": {},
     "output_type": "execute_result"
    },
    {
     "data": {
      "image/png": "[encoded data removed]",
      "text/plain": [
       "<Figure size 432x288 with 1 Axes>"
      ]
     },
     "metadata": {
      "needs_background": "light"
     },
     "output_type": "display_data"
    }
   ],
   "source": [
    "xmax = 300\n",
    "xnew = np.linspace(1,xmax,50)\n",
    "xmax_idx = np.searchsorted(X, xmax, side='left') + 1\n",
    "vf_new = new_sol.build_VF(xnew)\n",
    "\n",
    "plt.plot(X[:xmax_idx], VF[:xmax_idx], 'o', xnew, vf_new)"
   ]
  },
  {
   "cell_type": "code",
   "execution_count": 2018,
   "metadata": {},
   "outputs": [
    {
     "data": {
      "text/plain": [
       "[<matplotlib.lines.Line2D at 0x132c7d250>,\n",
       " <matplotlib.lines.Line2D at 0x132c890a0>]"
      ]
     },
     "execution_count": 2018,
     "metadata": {},
     "output_type": "execute_result"
    },
    {
     "data": {
      "image/png": "[encoded data removed]",
      "text/plain": [
       "<Figure size 432x288 with 1 Axes>"
      ]
     },
     "metadata": {
      "needs_background": "light"
     },
     "output_type": "display_data"
    }
   ],
   "source": [
    "cp_new = new_sol.build_CP(xnew)\n",
    "\n",
    "plt.plot(X[:xmax_idx], CP[:xmax_idx], 'o', xnew, cp_new)"
   ]
  },
  {
   "cell_type": "code",
   "execution_count": 2019,
   "metadata": {},
   "outputs": [
    {
     "data": {
      "text/plain": [
       "[<matplotlib.lines.Line2D at 0x132df2550>,\n",
       " <matplotlib.lines.Line2D at 0x132dfe460>]"
      ]
     },
     "execution_count": 2019,
     "metadata": {},
     "output_type": "execute_result"
    },
    {
     "data": {
      "image/png": "[encoded data removed]",
      "text/plain": [
       "<Figure size 432x288 with 1 Axes>"
      ]
     },
     "metadata": {
      "needs_background": "light"
     },
     "output_type": "display_data"
    }
   ],
   "source": [
    "wp_new = new_sol.build_WP(xnew)\n",
    "\n",
    "plt.plot(X[:xmax_idx], WP[:xmax_idx], 'o', xnew, wp_new)"
   ]
  },
  {
   "cell_type": "code",
   "execution_count": null,
   "metadata": {},
   "outputs": [],
   "source": []
  }
 ],
 "metadata": {
  "kernelspec": {
   "display_name": "Python 3",
   "language": "python",
   "name": "python3"
  },
  "language_info": {
   "codemirror_mode": {
    "name": "ipython",
    "version": 3
   },
   "file_extension": ".py",
   "mimetype": "text/x-python",
   "name": "python",
   "nbconvert_exporter": "python",
   "pygments_lexer": "ipython3",
   "version": "3.8.8"
  }
 },
 "nbformat": 4,
 "nbformat_minor": 2
}
